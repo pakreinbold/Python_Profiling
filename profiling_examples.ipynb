{
 "metadata": {
  "language_info": {
   "codemirror_mode": {
    "name": "ipython",
    "version": 3
   },
   "file_extension": ".py",
   "mimetype": "text/x-python",
   "name": "python",
   "nbconvert_exporter": "python",
   "pygments_lexer": "ipython3",
   "version": "3.8.5"
  },
  "orig_nbformat": 2,
  "kernelspec": {
   "name": "python3",
   "display_name": "Python 3.8.5 64-bit ('base': conda)"
  },
  "interpreter": {
   "hash": "8138d599ee6cce8defc1ec5fb880fff09f677d008f019f76e46e86511b90d42a"
  }
 },
 "nbformat": 4,
 "nbformat_minor": 2,
 "cells": [
  {
   "cell_type": "code",
   "execution_count": 1,
   "metadata": {},
   "outputs": [],
   "source": [
    "from profile_processing import ProfileProcessor"
   ]
  },
  {
   "cell_type": "code",
   "execution_count": 2,
   "metadata": {},
   "outputs": [],
   "source": [
    "script = 'profiler_testing'\n",
    "\n",
    "pp = ProfileProcessor(memory_path=f'./profiles/{script}__memory_profile.txt',\n",
    "                      line_path=f'./profiles/{script}__line_profile.txt')"
   ]
  },
  {
   "cell_type": "code",
   "execution_count": 3,
   "metadata": {},
   "outputs": [
    {
     "output_type": "display_data",
     "data": {
      "text/plain": "<Figure size 1296x432 with 2 Axes>",
      "image/svg+xml": "<?xml version=\"1.0\" encoding=\"utf-8\" standalone=\"no\"?>\r\n<!DOCTYPE svg PUBLIC \"-//W3C//DTD SVG 1.1//EN\"\r\n  \"http://www.w3.org/Graphics/SVG/1.1/DTD/svg11.dtd\">\r\n<!-- Created with matplotlib (https://matplotlib.org/) -->\r\n<svg height=\"373.303125pt\" version=\"1.1\" viewBox=\"0 0 1099.920625 373.303125\" width=\"1099.920625pt\" xmlns=\"http://www.w3.org/2000/svg\" xmlns:xlink=\"http://www.w3.org/1999/xlink\">\r\n <metadata>\r\n  <rdf:RDF xmlns:cc=\"http://creativecommons.org/ns#\" xmlns:dc=\"http://purl.org/dc/elements/1.1/\" xmlns:rdf=\"http://www.w3.org/1999/02/22-rdf-syntax-ns#\">\r\n   <cc:Work>\r\n    <dc:type rdf:resource=\"http://purl.org/dc/dcmitype/StillImage\"/>\r\n    <dc:date>2021-06-28T12:07:55.324378</dc:date>\r\n    <dc:format>image/svg+xml</dc:format>\r\n    <dc:creator>\r\n     <cc:Agent>\r\n      <dc:title>Matplotlib v3.3.2, https://matplotlib.org/</dc:title>\r\n     </cc:Agent>\r\n    </dc:creator>\r\n   </cc:Work>\r\n  </rdf:RDF>\r\n </metadata>\r\n <defs>\r\n  <style type=\"text/css\">*{stroke-linecap:butt;stroke-linejoin:round;}</style>\r\n </defs>\r\n <g id=\"figure_1\">\r\n  <g id=\"patch_1\">\r\n   <path d=\"M 0 373.303125 \r\nL 1099.920625 373.303125 \r\nL 1099.920625 0 \r\nL 0 0 \r\nz\r\n\" style=\"fill:none;\"/>\r\n  </g>\r\n  <g id=\"axes_1\">\r\n   <g id=\"patch_2\">\r\n    <path d=\"M 52.530625 333.36 \r\nL 1056.930625 333.36 \r\nL 1056.930625 7.2 \r\nL 52.530625 7.2 \r\nz\r\n\" style=\"fill:#ffffff;\"/>\r\n   </g>\r\n   <g id=\"patch_3\">\r\n    <path clip-path=\"url(#p559ff68d91)\" d=\"M 98.18517 333.36 \r\nL 111.045606 333.36 \r\nL 111.045606 333.36 \r\nL 98.18517 333.36 \r\nz\r\n\" style=\"fill:#ff0000;fill-opacity:0.3;stroke:#ff0000;stroke-linejoin:miter;\"/>\r\n   </g>\r\n   <g id=\"patch_4\">\r\n    <path clip-path=\"url(#p559ff68d91)\" d=\"M 114.260715 333.36 \r\nL 127.12115 333.36 \r\nL 127.12115 333.36 \r\nL 114.260715 333.36 \r\nz\r\n\" style=\"fill:#ff0000;fill-opacity:0.3;stroke:#ff0000;stroke-linejoin:miter;\"/>\r\n   </g>\r\n   <g id=\"patch_5\">\r\n    <path clip-path=\"url(#p559ff68d91)\" d=\"M 130.336259 333.36 \r\nL 143.196694 333.36 \r\nL 143.196694 333.36 \r\nL 130.336259 333.36 \r\nz\r\n\" style=\"fill:#ff0000;fill-opacity:0.3;stroke:#ff0000;stroke-linejoin:miter;\"/>\r\n   </g>\r\n   <g id=\"patch_6\">\r\n    <path clip-path=\"url(#p559ff68d91)\" d=\"M 146.411803 333.36 \r\nL 159.272238 333.36 \r\nL 159.272238 333.36 \r\nL 146.411803 333.36 \r\nz\r\n\" style=\"fill:#ff0000;fill-opacity:0.3;stroke:#ff0000;stroke-linejoin:miter;\"/>\r\n   </g>\r\n   <g id=\"patch_7\">\r\n    <path clip-path=\"url(#p559ff68d91)\" d=\"M 162.487347 333.36 \r\nL 175.347782 333.36 \r\nL 175.347782 333.36 \r\nL 162.487347 333.36 \r\nz\r\n\" style=\"fill:#ff0000;fill-opacity:0.3;stroke:#ff0000;stroke-linejoin:miter;\"/>\r\n   </g>\r\n   <g id=\"patch_8\">\r\n    <path clip-path=\"url(#p559ff68d91)\" d=\"M 178.562891 333.36 \r\nL 191.423327 333.36 \r\nL 191.423327 333.36 \r\nL 178.562891 333.36 \r\nz\r\n\" style=\"fill:#ff0000;fill-opacity:0.3;stroke:#ff0000;stroke-linejoin:miter;\"/>\r\n   </g>\r\n   <g id=\"patch_9\">\r\n    <path clip-path=\"url(#p559ff68d91)\" d=\"M 194.638435 333.36 \r\nL 207.498871 333.36 \r\nL 207.498871 333.36 \r\nL 194.638435 333.36 \r\nz\r\n\" style=\"fill:#ff0000;fill-opacity:0.3;stroke:#ff0000;stroke-linejoin:miter;\"/>\r\n   </g>\r\n   <g id=\"patch_10\">\r\n    <path clip-path=\"url(#p559ff68d91)\" d=\"M 210.71398 333.36 \r\nL 223.574415 333.36 \r\nL 223.574415 333.36 \r\nL 210.71398 333.36 \r\nz\r\n\" style=\"fill:#ff0000;fill-opacity:0.3;stroke:#ff0000;stroke-linejoin:miter;\"/>\r\n   </g>\r\n   <g id=\"patch_11\">\r\n    <path clip-path=\"url(#p559ff68d91)\" d=\"M 226.789524 333.36 \r\nL 239.649959 333.36 \r\nL 239.649959 333.36 \r\nL 226.789524 333.36 \r\nz\r\n\" style=\"fill:#ff0000;fill-opacity:0.3;stroke:#ff0000;stroke-linejoin:miter;\"/>\r\n   </g>\r\n   <g id=\"patch_12\">\r\n    <path clip-path=\"url(#p559ff68d91)\" d=\"M 242.865068 333.36 \r\nL 255.725503 333.36 \r\nL 255.725503 333.36 \r\nL 242.865068 333.36 \r\nz\r\n\" style=\"fill:#ff0000;fill-opacity:0.3;stroke:#ff0000;stroke-linejoin:miter;\"/>\r\n   </g>\r\n   <g id=\"patch_13\">\r\n    <path clip-path=\"url(#p559ff68d91)\" d=\"M 258.940612 333.36 \r\nL 271.801048 333.36 \r\nL 271.801048 333.36 \r\nL 258.940612 333.36 \r\nz\r\n\" style=\"fill:#ff0000;fill-opacity:0.3;stroke:#ff0000;stroke-linejoin:miter;\"/>\r\n   </g>\r\n   <g id=\"patch_14\">\r\n    <path clip-path=\"url(#p559ff68d91)\" d=\"M 275.016156 333.36 \r\nL 287.876592 333.36 \r\nL 287.876592 333.36 \r\nL 275.016156 333.36 \r\nz\r\n\" style=\"fill:#ff0000;fill-opacity:0.3;stroke:#ff0000;stroke-linejoin:miter;\"/>\r\n   </g>\r\n   <g id=\"patch_15\">\r\n    <path clip-path=\"url(#p559ff68d91)\" d=\"M 291.091701 333.36 \r\nL 303.952136 333.36 \r\nL 303.952136 141.038962 \r\nL 291.091701 141.038962 \r\nz\r\n\" style=\"fill:#ff0000;fill-opacity:0.3;stroke:#ff0000;stroke-linejoin:miter;\"/>\r\n   </g>\r\n   <g id=\"patch_16\">\r\n    <path clip-path=\"url(#p559ff68d91)\" d=\"M 307.167245 333.36 \r\nL 320.02768 333.36 \r\nL 320.02768 333.36 \r\nL 307.167245 333.36 \r\nz\r\n\" style=\"fill:#ff0000;fill-opacity:0.3;stroke:#ff0000;stroke-linejoin:miter;\"/>\r\n   </g>\r\n   <g id=\"patch_17\">\r\n    <path clip-path=\"url(#p559ff68d91)\" d=\"M 323.242789 333.36 \r\nL 336.103224 333.36 \r\nL 336.103224 324.11834 \r\nL 323.242789 324.11834 \r\nz\r\n\" style=\"fill:#ff0000;fill-opacity:0.3;stroke:#ff0000;stroke-linejoin:miter;\"/>\r\n   </g>\r\n   <g id=\"patch_18\">\r\n    <path clip-path=\"url(#p559ff68d91)\" d=\"M 339.318333 333.36 \r\nL 352.178768 333.36 \r\nL 352.178768 333.224416 \r\nL 339.318333 333.224416 \r\nz\r\n\" style=\"fill:#ff0000;fill-opacity:0.3;stroke:#ff0000;stroke-linejoin:miter;\"/>\r\n   </g>\r\n   <g id=\"patch_19\">\r\n    <path clip-path=\"url(#p559ff68d91)\" d=\"M 355.393877 333.36 \r\nL 368.254313 333.36 \r\nL 368.254313 332.722072 \r\nL 355.393877 332.722072 \r\nz\r\n\" style=\"fill:#ff0000;fill-opacity:0.3;stroke:#ff0000;stroke-linejoin:miter;\"/>\r\n   </g>\r\n   <g id=\"patch_20\">\r\n    <path clip-path=\"url(#p559ff68d91)\" d=\"M 371.469421 333.36 \r\nL 384.329857 333.36 \r\nL 384.329857 332.750847 \r\nL 371.469421 332.750847 \r\nz\r\n\" style=\"fill:#ff0000;fill-opacity:0.3;stroke:#ff0000;stroke-linejoin:miter;\"/>\r\n   </g>\r\n   <g id=\"patch_21\">\r\n    <path clip-path=\"url(#p559ff68d91)\" d=\"M 387.544966 333.36 \r\nL 400.405401 333.36 \r\nL 400.405401 333.36 \r\nL 387.544966 333.36 \r\nz\r\n\" style=\"fill:#ff0000;fill-opacity:0.3;stroke:#ff0000;stroke-linejoin:miter;\"/>\r\n   </g>\r\n   <g id=\"patch_22\">\r\n    <path clip-path=\"url(#p559ff68d91)\" d=\"M 403.62051 333.36 \r\nL 416.480945 333.36 \r\nL 416.480945 320.157141 \r\nL 403.62051 320.157141 \r\nz\r\n\" style=\"fill:#ff0000;fill-opacity:0.3;stroke:#ff0000;stroke-linejoin:miter;\"/>\r\n   </g>\r\n   <g id=\"patch_23\">\r\n    <path clip-path=\"url(#p559ff68d91)\" d=\"M 419.696054 333.36 \r\nL 432.556489 333.36 \r\nL 432.556489 332.344827 \r\nL 419.696054 332.344827 \r\nz\r\n\" style=\"fill:#ff0000;fill-opacity:0.3;stroke:#ff0000;stroke-linejoin:miter;\"/>\r\n   </g>\r\n   <g id=\"patch_24\">\r\n    <path clip-path=\"url(#p559ff68d91)\" d=\"M 435.771598 333.36 \r\nL 448.632033 333.36 \r\nL 448.632033 332.171201 \r\nL 435.771598 332.171201 \r\nz\r\n\" style=\"fill:#ff0000;fill-opacity:0.3;stroke:#ff0000;stroke-linejoin:miter;\"/>\r\n   </g>\r\n   <g id=\"patch_25\">\r\n    <path clip-path=\"url(#p559ff68d91)\" d=\"M 451.847142 333.36 \r\nL 464.707578 333.36 \r\nL 464.707578 333.33342 \r\nL 451.847142 333.33342 \r\nz\r\n\" style=\"fill:#ff0000;fill-opacity:0.3;stroke:#ff0000;stroke-linejoin:miter;\"/>\r\n   </g>\r\n   <g id=\"patch_26\">\r\n    <path clip-path=\"url(#p559ff68d91)\" d=\"M 467.922686 333.36 \r\nL 480.783122 333.36 \r\nL 480.783122 333.36 \r\nL 467.922686 333.36 \r\nz\r\n\" style=\"fill:#ff0000;fill-opacity:0.3;stroke:#ff0000;stroke-linejoin:miter;\"/>\r\n   </g>\r\n   <g id=\"patch_27\">\r\n    <path clip-path=\"url(#p559ff68d91)\" d=\"M 483.998231 333.36 \r\nL 496.858666 333.36 \r\nL 496.858666 22.731429 \r\nL 483.998231 22.731429 \r\nz\r\n\" style=\"fill:#ff0000;fill-opacity:0.3;stroke:#ff0000;stroke-linejoin:miter;\"/>\r\n   </g>\r\n   <g id=\"patch_28\">\r\n    <path clip-path=\"url(#p559ff68d91)\" d=\"M 500.073775 333.36 \r\nL 512.93421 333.36 \r\nL 512.93421 333.286355 \r\nL 500.073775 333.286355 \r\nz\r\n\" style=\"fill:#ff0000;fill-opacity:0.3;stroke:#ff0000;stroke-linejoin:miter;\"/>\r\n   </g>\r\n   <g id=\"patch_29\">\r\n    <path clip-path=\"url(#p559ff68d91)\" d=\"M 516.149319 333.36 \r\nL 529.009754 333.36 \r\nL 529.009754 333.36 \r\nL 516.149319 333.36 \r\nz\r\n\" style=\"fill:#ff0000;fill-opacity:0.3;stroke:#ff0000;stroke-linejoin:miter;\"/>\r\n   </g>\r\n   <g id=\"patch_30\">\r\n    <path clip-path=\"url(#p559ff68d91)\" d=\"M 532.224863 333.36 \r\nL 545.085298 333.36 \r\nL 545.085298 333.355123 \r\nL 532.224863 333.355123 \r\nz\r\n\" style=\"fill:#ff0000;fill-opacity:0.3;stroke:#ff0000;stroke-linejoin:miter;\"/>\r\n   </g>\r\n   <g id=\"patch_31\">\r\n    <path clip-path=\"url(#p559ff68d91)\" d=\"M 548.300407 333.36 \r\nL 561.160843 333.36 \r\nL 561.160843 333.36 \r\nL 548.300407 333.36 \r\nz\r\n\" style=\"fill:#ff0000;fill-opacity:0.3;stroke:#ff0000;stroke-linejoin:miter;\"/>\r\n   </g>\r\n   <g id=\"patch_32\">\r\n    <path clip-path=\"url(#p559ff68d91)\" d=\"M 564.375952 333.36 \r\nL 577.236387 333.36 \r\nL 577.236387 333.36 \r\nL 564.375952 333.36 \r\nz\r\n\" style=\"fill:#ff0000;fill-opacity:0.3;stroke:#ff0000;stroke-linejoin:miter;\"/>\r\n   </g>\r\n   <g id=\"patch_33\">\r\n    <path clip-path=\"url(#p559ff68d91)\" d=\"M 580.451496 333.36 \r\nL 593.311931 333.36 \r\nL 593.311931 333.36 \r\nL 580.451496 333.36 \r\nz\r\n\" style=\"fill:#ff0000;fill-opacity:0.3;stroke:#ff0000;stroke-linejoin:miter;\"/>\r\n   </g>\r\n   <g id=\"patch_34\">\r\n    <path clip-path=\"url(#p559ff68d91)\" d=\"M 596.52704 333.36 \r\nL 609.387475 333.36 \r\nL 609.387475 333.36 \r\nL 596.52704 333.36 \r\nz\r\n\" style=\"fill:#ff0000;fill-opacity:0.3;stroke:#ff0000;stroke-linejoin:miter;\"/>\r\n   </g>\r\n   <g id=\"patch_35\">\r\n    <path clip-path=\"url(#p559ff68d91)\" d=\"M 612.602584 333.36 \r\nL 625.463019 333.36 \r\nL 625.463019 333.36 \r\nL 612.602584 333.36 \r\nz\r\n\" style=\"fill:#ff0000;fill-opacity:0.3;stroke:#ff0000;stroke-linejoin:miter;\"/>\r\n   </g>\r\n   <g id=\"patch_36\">\r\n    <path clip-path=\"url(#p559ff68d91)\" d=\"M 628.678128 333.36 \r\nL 641.538564 333.36 \r\nL 641.538564 333.073713 \r\nL 628.678128 333.073713 \r\nz\r\n\" style=\"fill:#ff0000;fill-opacity:0.3;stroke:#ff0000;stroke-linejoin:miter;\"/>\r\n   </g>\r\n   <g id=\"patch_37\">\r\n    <path clip-path=\"url(#p559ff68d91)\" d=\"M 644.753672 333.36 \r\nL 657.614108 333.36 \r\nL 657.614108 333.36 \r\nL 644.753672 333.36 \r\nz\r\n\" style=\"fill:#ff0000;fill-opacity:0.3;stroke:#ff0000;stroke-linejoin:miter;\"/>\r\n   </g>\r\n   <g id=\"patch_38\">\r\n    <path clip-path=\"url(#p559ff68d91)\" d=\"M 660.829217 333.36 \r\nL 673.689652 333.36 \r\nL 673.689652 333.357074 \r\nL 660.829217 333.357074 \r\nz\r\n\" style=\"fill:#ff0000;fill-opacity:0.3;stroke:#ff0000;stroke-linejoin:miter;\"/>\r\n   </g>\r\n   <g id=\"patch_39\">\r\n    <path clip-path=\"url(#p559ff68d91)\" d=\"M 709.055849 333.36 \r\nL 721.916284 333.36 \r\nL 721.916284 333.36 \r\nL 709.055849 333.36 \r\nz\r\n\" style=\"fill:#ff0000;fill-opacity:0.3;stroke:#ff0000;stroke-linejoin:miter;\"/>\r\n   </g>\r\n   <g id=\"patch_40\">\r\n    <path clip-path=\"url(#p559ff68d91)\" d=\"M 725.131393 333.36 \r\nL 737.991829 333.36 \r\nL 737.991829 333.36 \r\nL 725.131393 333.36 \r\nz\r\n\" style=\"fill:#ff0000;fill-opacity:0.3;stroke:#ff0000;stroke-linejoin:miter;\"/>\r\n   </g>\r\n   <g id=\"patch_41\">\r\n    <path clip-path=\"url(#p559ff68d91)\" d=\"M 741.206937 333.36 \r\nL 754.067373 333.36 \r\nL 754.067373 333.36 \r\nL 741.206937 333.36 \r\nz\r\n\" style=\"fill:#ff0000;fill-opacity:0.3;stroke:#ff0000;stroke-linejoin:miter;\"/>\r\n   </g>\r\n   <g id=\"patch_42\">\r\n    <path clip-path=\"url(#p559ff68d91)\" d=\"M 757.282482 333.36 \r\nL 770.142917 333.36 \r\nL 770.142917 333.36 \r\nL 757.282482 333.36 \r\nz\r\n\" style=\"fill:#ff0000;fill-opacity:0.3;stroke:#ff0000;stroke-linejoin:miter;\"/>\r\n   </g>\r\n   <g id=\"patch_43\">\r\n    <path clip-path=\"url(#p559ff68d91)\" d=\"M 773.358026 333.36 \r\nL 786.218461 333.36 \r\nL 786.218461 333.36 \r\nL 773.358026 333.36 \r\nz\r\n\" style=\"fill:#ff0000;fill-opacity:0.3;stroke:#ff0000;stroke-linejoin:miter;\"/>\r\n   </g>\r\n   <g id=\"patch_44\">\r\n    <path clip-path=\"url(#p559ff68d91)\" d=\"M 789.43357 333.36 \r\nL 802.294005 333.36 \r\nL 802.294005 333.36 \r\nL 789.43357 333.36 \r\nz\r\n\" style=\"fill:#ff0000;fill-opacity:0.3;stroke:#ff0000;stroke-linejoin:miter;\"/>\r\n   </g>\r\n   <g id=\"patch_45\">\r\n    <path clip-path=\"url(#p559ff68d91)\" d=\"M 805.509114 333.36 \r\nL 818.369549 333.36 \r\nL 818.369549 333.36 \r\nL 805.509114 333.36 \r\nz\r\n\" style=\"fill:#ff0000;fill-opacity:0.3;stroke:#ff0000;stroke-linejoin:miter;\"/>\r\n   </g>\r\n   <g id=\"patch_46\">\r\n    <path clip-path=\"url(#p559ff68d91)\" d=\"M 821.584658 333.36 \r\nL 834.445094 333.36 \r\nL 834.445094 333.36 \r\nL 821.584658 333.36 \r\nz\r\n\" style=\"fill:#ff0000;fill-opacity:0.3;stroke:#ff0000;stroke-linejoin:miter;\"/>\r\n   </g>\r\n   <g id=\"patch_47\">\r\n    <path clip-path=\"url(#p559ff68d91)\" d=\"M 837.660202 333.36 \r\nL 850.520638 333.36 \r\nL 850.520638 333.36 \r\nL 837.660202 333.36 \r\nz\r\n\" style=\"fill:#ff0000;fill-opacity:0.3;stroke:#ff0000;stroke-linejoin:miter;\"/>\r\n   </g>\r\n   <g id=\"patch_48\">\r\n    <path clip-path=\"url(#p559ff68d91)\" d=\"M 853.735747 333.36 \r\nL 866.596182 333.36 \r\nL 866.596182 333.36 \r\nL 853.735747 333.36 \r\nz\r\n\" style=\"fill:#ff0000;fill-opacity:0.3;stroke:#ff0000;stroke-linejoin:miter;\"/>\r\n   </g>\r\n   <g id=\"patch_49\">\r\n    <path clip-path=\"url(#p559ff68d91)\" d=\"M 869.811291 333.36 \r\nL 882.671726 333.36 \r\nL 882.671726 333.36 \r\nL 869.811291 333.36 \r\nz\r\n\" style=\"fill:#ff0000;fill-opacity:0.3;stroke:#ff0000;stroke-linejoin:miter;\"/>\r\n   </g>\r\n   <g id=\"patch_50\">\r\n    <path clip-path=\"url(#p559ff68d91)\" d=\"M 885.886835 333.36 \r\nL 898.74727 333.36 \r\nL 898.74727 333.281722 \r\nL 885.886835 333.281722 \r\nz\r\n\" style=\"fill:#ff0000;fill-opacity:0.3;stroke:#ff0000;stroke-linejoin:miter;\"/>\r\n   </g>\r\n   <g id=\"patch_51\">\r\n    <path clip-path=\"url(#p559ff68d91)\" d=\"M 901.962379 333.36 \r\nL 914.822815 333.36 \r\nL 914.822815 333.305864 \r\nL 901.962379 333.305864 \r\nz\r\n\" style=\"fill:#ff0000;fill-opacity:0.3;stroke:#ff0000;stroke-linejoin:miter;\"/>\r\n   </g>\r\n   <g id=\"patch_52\">\r\n    <path clip-path=\"url(#p559ff68d91)\" d=\"M 918.037923 333.36 \r\nL 930.898359 333.36 \r\nL 930.898359 290.707368 \r\nL 918.037923 290.707368 \r\nz\r\n\" style=\"fill:#ff0000;fill-opacity:0.3;stroke:#ff0000;stroke-linejoin:miter;\"/>\r\n   </g>\r\n   <g id=\"patch_53\">\r\n    <path clip-path=\"url(#p559ff68d91)\" d=\"M 934.113468 333.36 \r\nL 946.973903 333.36 \r\nL 946.973903 278.573575 \r\nL 934.113468 278.573575 \r\nz\r\n\" style=\"fill:#ff0000;fill-opacity:0.3;stroke:#ff0000;stroke-linejoin:miter;\"/>\r\n   </g>\r\n   <g id=\"patch_54\">\r\n    <path clip-path=\"url(#p559ff68d91)\" d=\"M 950.189012 333.36 \r\nL 963.049447 333.36 \r\nL 963.049447 291.097782 \r\nL 950.189012 291.097782 \r\nz\r\n\" style=\"fill:#ff0000;fill-opacity:0.3;stroke:#ff0000;stroke-linejoin:miter;\"/>\r\n   </g>\r\n   <g id=\"patch_55\">\r\n    <path clip-path=\"url(#p559ff68d91)\" d=\"M 966.264556 333.36 \r\nL 979.124991 333.36 \r\nL 979.124991 280.908741 \r\nL 966.264556 280.908741 \r\nz\r\n\" style=\"fill:#ff0000;fill-opacity:0.3;stroke:#ff0000;stroke-linejoin:miter;\"/>\r\n   </g>\r\n   <g id=\"patch_56\">\r\n    <path clip-path=\"url(#p559ff68d91)\" d=\"M 982.3401 333.36 \r\nL 995.200535 333.36 \r\nL 995.200535 333.36 \r\nL 982.3401 333.36 \r\nz\r\n\" style=\"fill:#ff0000;fill-opacity:0.3;stroke:#ff0000;stroke-linejoin:miter;\"/>\r\n   </g>\r\n   <g id=\"patch_57\">\r\n    <path clip-path=\"url(#p559ff68d91)\" d=\"M 998.415644 333.36 \r\nL 1011.27608 333.36 \r\nL 1011.27608 333.358537 \r\nL 998.415644 333.358537 \r\nz\r\n\" style=\"fill:#ff0000;fill-opacity:0.3;stroke:#ff0000;stroke-linejoin:miter;\"/>\r\n   </g>\r\n   <g id=\"matplotlib.axis_1\">\r\n    <g id=\"xtick_1\">\r\n     <g id=\"line2d_1\">\r\n      <defs>\r\n       <path d=\"M 0 0 \r\nL 0 -3.5 \r\n\" id=\"m7d503b4cf9\" style=\"stroke:#000000;stroke-width:0.8;\"/>\r\n      </defs>\r\n      <g>\r\n       <use style=\"stroke:#000000;stroke-width:0.8;\" x=\"104.615388\" xlink:href=\"#m7d503b4cf9\" y=\"333.36\"/>\r\n      </g>\r\n     </g>\r\n     <g id=\"text_1\">\r\n      <!-- 5 -->\r\n      <g transform=\"translate(101.434138 344.458437)scale(0.1 -0.1)\">\r\n       <defs>\r\n        <path d=\"M 10.796875 72.90625 \r\nL 49.515625 72.90625 \r\nL 49.515625 64.59375 \r\nL 19.828125 64.59375 \r\nL 19.828125 46.734375 \r\nQ 21.96875 47.46875 24.109375 47.828125 \r\nQ 26.265625 48.1875 28.421875 48.1875 \r\nQ 40.625 48.1875 47.75 41.5 \r\nQ 54.890625 34.8125 54.890625 23.390625 \r\nQ 54.890625 11.625 47.5625 5.09375 \r\nQ 40.234375 -1.421875 26.90625 -1.421875 \r\nQ 22.3125 -1.421875 17.546875 -0.640625 \r\nQ 12.796875 0.140625 7.71875 1.703125 \r\nL 7.71875 11.625 \r\nQ 12.109375 9.234375 16.796875 8.0625 \r\nQ 21.484375 6.890625 26.703125 6.890625 \r\nQ 35.15625 6.890625 40.078125 11.328125 \r\nQ 45.015625 15.765625 45.015625 23.390625 \r\nQ 45.015625 31 40.078125 35.4375 \r\nQ 35.15625 39.890625 26.703125 39.890625 \r\nQ 22.75 39.890625 18.8125 39.015625 \r\nQ 14.890625 38.140625 10.796875 36.28125 \r\nz\r\n\" id=\"DejaVuSans-53\"/>\r\n       </defs>\r\n       <use xlink:href=\"#DejaVuSans-53\"/>\r\n      </g>\r\n     </g>\r\n    </g>\r\n    <g id=\"xtick_2\">\r\n     <g id=\"line2d_2\">\r\n      <g>\r\n       <use style=\"stroke:#000000;stroke-width:0.8;\" x=\"184.993109\" xlink:href=\"#m7d503b4cf9\" y=\"333.36\"/>\r\n      </g>\r\n     </g>\r\n     <g id=\"text_2\">\r\n      <!-- 10 -->\r\n      <g transform=\"translate(178.630609 344.458437)scale(0.1 -0.1)\">\r\n       <defs>\r\n        <path d=\"M 12.40625 8.296875 \r\nL 28.515625 8.296875 \r\nL 28.515625 63.921875 \r\nL 10.984375 60.40625 \r\nL 10.984375 69.390625 \r\nL 28.421875 72.90625 \r\nL 38.28125 72.90625 \r\nL 38.28125 8.296875 \r\nL 54.390625 8.296875 \r\nL 54.390625 0 \r\nL 12.40625 0 \r\nz\r\n\" id=\"DejaVuSans-49\"/>\r\n        <path d=\"M 31.78125 66.40625 \r\nQ 24.171875 66.40625 20.328125 58.90625 \r\nQ 16.5 51.421875 16.5 36.375 \r\nQ 16.5 21.390625 20.328125 13.890625 \r\nQ 24.171875 6.390625 31.78125 6.390625 \r\nQ 39.453125 6.390625 43.28125 13.890625 \r\nQ 47.125 21.390625 47.125 36.375 \r\nQ 47.125 51.421875 43.28125 58.90625 \r\nQ 39.453125 66.40625 31.78125 66.40625 \r\nz\r\nM 31.78125 74.21875 \r\nQ 44.046875 74.21875 50.515625 64.515625 \r\nQ 56.984375 54.828125 56.984375 36.375 \r\nQ 56.984375 17.96875 50.515625 8.265625 \r\nQ 44.046875 -1.421875 31.78125 -1.421875 \r\nQ 19.53125 -1.421875 13.0625 8.265625 \r\nQ 6.59375 17.96875 6.59375 36.375 \r\nQ 6.59375 54.828125 13.0625 64.515625 \r\nQ 19.53125 74.21875 31.78125 74.21875 \r\nz\r\n\" id=\"DejaVuSans-48\"/>\r\n       </defs>\r\n       <use xlink:href=\"#DejaVuSans-49\"/>\r\n       <use x=\"63.623047\" xlink:href=\"#DejaVuSans-48\"/>\r\n      </g>\r\n     </g>\r\n    </g>\r\n    <g id=\"xtick_3\">\r\n     <g id=\"line2d_3\">\r\n      <g>\r\n       <use style=\"stroke:#000000;stroke-width:0.8;\" x=\"265.37083\" xlink:href=\"#m7d503b4cf9\" y=\"333.36\"/>\r\n      </g>\r\n     </g>\r\n     <g id=\"text_3\">\r\n      <!-- 15 -->\r\n      <g transform=\"translate(259.00833 344.458437)scale(0.1 -0.1)\">\r\n       <use xlink:href=\"#DejaVuSans-49\"/>\r\n       <use x=\"63.623047\" xlink:href=\"#DejaVuSans-53\"/>\r\n      </g>\r\n     </g>\r\n    </g>\r\n    <g id=\"xtick_4\">\r\n     <g id=\"line2d_4\">\r\n      <g>\r\n       <use style=\"stroke:#000000;stroke-width:0.8;\" x=\"345.748551\" xlink:href=\"#m7d503b4cf9\" y=\"333.36\"/>\r\n      </g>\r\n     </g>\r\n     <g id=\"text_4\">\r\n      <!-- 20 -->\r\n      <g transform=\"translate(339.386051 344.458437)scale(0.1 -0.1)\">\r\n       <defs>\r\n        <path d=\"M 19.1875 8.296875 \r\nL 53.609375 8.296875 \r\nL 53.609375 0 \r\nL 7.328125 0 \r\nL 7.328125 8.296875 \r\nQ 12.9375 14.109375 22.625 23.890625 \r\nQ 32.328125 33.6875 34.8125 36.53125 \r\nQ 39.546875 41.84375 41.421875 45.53125 \r\nQ 43.3125 49.21875 43.3125 52.78125 \r\nQ 43.3125 58.59375 39.234375 62.25 \r\nQ 35.15625 65.921875 28.609375 65.921875 \r\nQ 23.96875 65.921875 18.8125 64.3125 \r\nQ 13.671875 62.703125 7.8125 59.421875 \r\nL 7.8125 69.390625 \r\nQ 13.765625 71.78125 18.9375 73 \r\nQ 24.125 74.21875 28.421875 74.21875 \r\nQ 39.75 74.21875 46.484375 68.546875 \r\nQ 53.21875 62.890625 53.21875 53.421875 \r\nQ 53.21875 48.921875 51.53125 44.890625 \r\nQ 49.859375 40.875 45.40625 35.40625 \r\nQ 44.1875 33.984375 37.640625 27.21875 \r\nQ 31.109375 20.453125 19.1875 8.296875 \r\nz\r\n\" id=\"DejaVuSans-50\"/>\r\n       </defs>\r\n       <use xlink:href=\"#DejaVuSans-50\"/>\r\n       <use x=\"63.623047\" xlink:href=\"#DejaVuSans-48\"/>\r\n      </g>\r\n     </g>\r\n    </g>\r\n    <g id=\"xtick_5\">\r\n     <g id=\"line2d_5\">\r\n      <g>\r\n       <use style=\"stroke:#000000;stroke-width:0.8;\" x=\"426.126272\" xlink:href=\"#m7d503b4cf9\" y=\"333.36\"/>\r\n      </g>\r\n     </g>\r\n     <g id=\"text_5\">\r\n      <!-- 25 -->\r\n      <g transform=\"translate(419.763772 344.458437)scale(0.1 -0.1)\">\r\n       <use xlink:href=\"#DejaVuSans-50\"/>\r\n       <use x=\"63.623047\" xlink:href=\"#DejaVuSans-53\"/>\r\n      </g>\r\n     </g>\r\n    </g>\r\n    <g id=\"xtick_6\">\r\n     <g id=\"line2d_6\">\r\n      <g>\r\n       <use style=\"stroke:#000000;stroke-width:0.8;\" x=\"506.503992\" xlink:href=\"#m7d503b4cf9\" y=\"333.36\"/>\r\n      </g>\r\n     </g>\r\n     <g id=\"text_6\">\r\n      <!-- 30 -->\r\n      <g transform=\"translate(500.141492 344.458437)scale(0.1 -0.1)\">\r\n       <defs>\r\n        <path d=\"M 40.578125 39.3125 \r\nQ 47.65625 37.796875 51.625 33 \r\nQ 55.609375 28.21875 55.609375 21.1875 \r\nQ 55.609375 10.40625 48.1875 4.484375 \r\nQ 40.765625 -1.421875 27.09375 -1.421875 \r\nQ 22.515625 -1.421875 17.65625 -0.515625 \r\nQ 12.796875 0.390625 7.625 2.203125 \r\nL 7.625 11.71875 \r\nQ 11.71875 9.328125 16.59375 8.109375 \r\nQ 21.484375 6.890625 26.8125 6.890625 \r\nQ 36.078125 6.890625 40.9375 10.546875 \r\nQ 45.796875 14.203125 45.796875 21.1875 \r\nQ 45.796875 27.640625 41.28125 31.265625 \r\nQ 36.765625 34.90625 28.71875 34.90625 \r\nL 20.21875 34.90625 \r\nL 20.21875 43.015625 \r\nL 29.109375 43.015625 \r\nQ 36.375 43.015625 40.234375 45.921875 \r\nQ 44.09375 48.828125 44.09375 54.296875 \r\nQ 44.09375 59.90625 40.109375 62.90625 \r\nQ 36.140625 65.921875 28.71875 65.921875 \r\nQ 24.65625 65.921875 20.015625 65.03125 \r\nQ 15.375 64.15625 9.8125 62.3125 \r\nL 9.8125 71.09375 \r\nQ 15.4375 72.65625 20.34375 73.4375 \r\nQ 25.25 74.21875 29.59375 74.21875 \r\nQ 40.828125 74.21875 47.359375 69.109375 \r\nQ 53.90625 64.015625 53.90625 55.328125 \r\nQ 53.90625 49.265625 50.4375 45.09375 \r\nQ 46.96875 40.921875 40.578125 39.3125 \r\nz\r\n\" id=\"DejaVuSans-51\"/>\r\n       </defs>\r\n       <use xlink:href=\"#DejaVuSans-51\"/>\r\n       <use x=\"63.623047\" xlink:href=\"#DejaVuSans-48\"/>\r\n      </g>\r\n     </g>\r\n    </g>\r\n    <g id=\"xtick_7\">\r\n     <g id=\"line2d_7\">\r\n      <g>\r\n       <use style=\"stroke:#000000;stroke-width:0.8;\" x=\"586.881713\" xlink:href=\"#m7d503b4cf9\" y=\"333.36\"/>\r\n      </g>\r\n     </g>\r\n     <g id=\"text_7\">\r\n      <!-- 35 -->\r\n      <g transform=\"translate(580.519213 344.458437)scale(0.1 -0.1)\">\r\n       <use xlink:href=\"#DejaVuSans-51\"/>\r\n       <use x=\"63.623047\" xlink:href=\"#DejaVuSans-53\"/>\r\n      </g>\r\n     </g>\r\n    </g>\r\n    <g id=\"xtick_8\">\r\n     <g id=\"line2d_8\">\r\n      <g>\r\n       <use style=\"stroke:#000000;stroke-width:0.8;\" x=\"667.259434\" xlink:href=\"#m7d503b4cf9\" y=\"333.36\"/>\r\n      </g>\r\n     </g>\r\n     <g id=\"text_8\">\r\n      <!-- 40 -->\r\n      <g transform=\"translate(660.896934 344.458437)scale(0.1 -0.1)\">\r\n       <defs>\r\n        <path d=\"M 37.796875 64.3125 \r\nL 12.890625 25.390625 \r\nL 37.796875 25.390625 \r\nz\r\nM 35.203125 72.90625 \r\nL 47.609375 72.90625 \r\nL 47.609375 25.390625 \r\nL 58.015625 25.390625 \r\nL 58.015625 17.1875 \r\nL 47.609375 17.1875 \r\nL 47.609375 0 \r\nL 37.796875 0 \r\nL 37.796875 17.1875 \r\nL 4.890625 17.1875 \r\nL 4.890625 26.703125 \r\nz\r\n\" id=\"DejaVuSans-52\"/>\r\n       </defs>\r\n       <use xlink:href=\"#DejaVuSans-52\"/>\r\n       <use x=\"63.623047\" xlink:href=\"#DejaVuSans-48\"/>\r\n      </g>\r\n     </g>\r\n    </g>\r\n    <g id=\"xtick_9\">\r\n     <g id=\"line2d_9\">\r\n      <g>\r\n       <use style=\"stroke:#000000;stroke-width:0.8;\" x=\"747.637155\" xlink:href=\"#m7d503b4cf9\" y=\"333.36\"/>\r\n      </g>\r\n     </g>\r\n     <g id=\"text_9\">\r\n      <!-- 45 -->\r\n      <g transform=\"translate(741.274655 344.458437)scale(0.1 -0.1)\">\r\n       <use xlink:href=\"#DejaVuSans-52\"/>\r\n       <use x=\"63.623047\" xlink:href=\"#DejaVuSans-53\"/>\r\n      </g>\r\n     </g>\r\n    </g>\r\n    <g id=\"xtick_10\">\r\n     <g id=\"line2d_10\">\r\n      <g>\r\n       <use style=\"stroke:#000000;stroke-width:0.8;\" x=\"828.014876\" xlink:href=\"#m7d503b4cf9\" y=\"333.36\"/>\r\n      </g>\r\n     </g>\r\n     <g id=\"text_10\">\r\n      <!-- 50 -->\r\n      <g transform=\"translate(821.652376 344.458437)scale(0.1 -0.1)\">\r\n       <use xlink:href=\"#DejaVuSans-53\"/>\r\n       <use x=\"63.623047\" xlink:href=\"#DejaVuSans-48\"/>\r\n      </g>\r\n     </g>\r\n    </g>\r\n    <g id=\"xtick_11\">\r\n     <g id=\"line2d_11\">\r\n      <g>\r\n       <use style=\"stroke:#000000;stroke-width:0.8;\" x=\"908.392597\" xlink:href=\"#m7d503b4cf9\" y=\"333.36\"/>\r\n      </g>\r\n     </g>\r\n     <g id=\"text_11\">\r\n      <!-- 55 -->\r\n      <g transform=\"translate(902.030097 344.458437)scale(0.1 -0.1)\">\r\n       <use xlink:href=\"#DejaVuSans-53\"/>\r\n       <use x=\"63.623047\" xlink:href=\"#DejaVuSans-53\"/>\r\n      </g>\r\n     </g>\r\n    </g>\r\n    <g id=\"xtick_12\">\r\n     <g id=\"line2d_12\">\r\n      <g>\r\n       <use style=\"stroke:#000000;stroke-width:0.8;\" x=\"988.770318\" xlink:href=\"#m7d503b4cf9\" y=\"333.36\"/>\r\n      </g>\r\n     </g>\r\n     <g id=\"text_12\">\r\n      <!-- 60 -->\r\n      <g transform=\"translate(982.407818 344.458437)scale(0.1 -0.1)\">\r\n       <defs>\r\n        <path d=\"M 33.015625 40.375 \r\nQ 26.375 40.375 22.484375 35.828125 \r\nQ 18.609375 31.296875 18.609375 23.390625 \r\nQ 18.609375 15.53125 22.484375 10.953125 \r\nQ 26.375 6.390625 33.015625 6.390625 \r\nQ 39.65625 6.390625 43.53125 10.953125 \r\nQ 47.40625 15.53125 47.40625 23.390625 \r\nQ 47.40625 31.296875 43.53125 35.828125 \r\nQ 39.65625 40.375 33.015625 40.375 \r\nz\r\nM 52.59375 71.296875 \r\nL 52.59375 62.3125 \r\nQ 48.875 64.0625 45.09375 64.984375 \r\nQ 41.3125 65.921875 37.59375 65.921875 \r\nQ 27.828125 65.921875 22.671875 59.328125 \r\nQ 17.53125 52.734375 16.796875 39.40625 \r\nQ 19.671875 43.65625 24.015625 45.921875 \r\nQ 28.375 48.1875 33.59375 48.1875 \r\nQ 44.578125 48.1875 50.953125 41.515625 \r\nQ 57.328125 34.859375 57.328125 23.390625 \r\nQ 57.328125 12.15625 50.6875 5.359375 \r\nQ 44.046875 -1.421875 33.015625 -1.421875 \r\nQ 20.359375 -1.421875 13.671875 8.265625 \r\nQ 6.984375 17.96875 6.984375 36.375 \r\nQ 6.984375 53.65625 15.1875 63.9375 \r\nQ 23.390625 74.21875 37.203125 74.21875 \r\nQ 40.921875 74.21875 44.703125 73.484375 \r\nQ 48.484375 72.75 52.59375 71.296875 \r\nz\r\n\" id=\"DejaVuSans-54\"/>\r\n       </defs>\r\n       <use xlink:href=\"#DejaVuSans-54\"/>\r\n       <use x=\"63.623047\" xlink:href=\"#DejaVuSans-48\"/>\r\n      </g>\r\n     </g>\r\n    </g>\r\n    <g id=\"xtick_13\">\r\n     <g id=\"line2d_13\">\r\n      <defs>\r\n       <path d=\"M 0 0 \r\nL 0 -2 \r\n\" id=\"m6a2f8a29d4\" style=\"stroke:#000000;stroke-width:0.6;\"/>\r\n      </defs>\r\n      <g>\r\n       <use style=\"stroke:#000000;stroke-width:0.6;\" x=\"56.388756\" xlink:href=\"#m6a2f8a29d4\" y=\"333.36\"/>\r\n      </g>\r\n     </g>\r\n    </g>\r\n    <g id=\"xtick_14\">\r\n     <g id=\"line2d_14\">\r\n      <g>\r\n       <use style=\"stroke:#000000;stroke-width:0.6;\" x=\"72.4643\" xlink:href=\"#m6a2f8a29d4\" y=\"333.36\"/>\r\n      </g>\r\n     </g>\r\n    </g>\r\n    <g id=\"xtick_15\">\r\n     <g id=\"line2d_15\">\r\n      <g>\r\n       <use style=\"stroke:#000000;stroke-width:0.6;\" x=\"88.539844\" xlink:href=\"#m6a2f8a29d4\" y=\"333.36\"/>\r\n      </g>\r\n     </g>\r\n    </g>\r\n    <g id=\"xtick_16\">\r\n     <g id=\"line2d_16\">\r\n      <g>\r\n       <use style=\"stroke:#000000;stroke-width:0.6;\" x=\"120.690932\" xlink:href=\"#m6a2f8a29d4\" y=\"333.36\"/>\r\n      </g>\r\n     </g>\r\n    </g>\r\n    <g id=\"xtick_17\">\r\n     <g id=\"line2d_17\">\r\n      <g>\r\n       <use style=\"stroke:#000000;stroke-width:0.6;\" x=\"136.766476\" xlink:href=\"#m6a2f8a29d4\" y=\"333.36\"/>\r\n      </g>\r\n     </g>\r\n    </g>\r\n    <g id=\"xtick_18\">\r\n     <g id=\"line2d_18\">\r\n      <g>\r\n       <use style=\"stroke:#000000;stroke-width:0.6;\" x=\"152.842021\" xlink:href=\"#m6a2f8a29d4\" y=\"333.36\"/>\r\n      </g>\r\n     </g>\r\n    </g>\r\n    <g id=\"xtick_19\">\r\n     <g id=\"line2d_19\">\r\n      <g>\r\n       <use style=\"stroke:#000000;stroke-width:0.6;\" x=\"168.917565\" xlink:href=\"#m6a2f8a29d4\" y=\"333.36\"/>\r\n      </g>\r\n     </g>\r\n    </g>\r\n    <g id=\"xtick_20\">\r\n     <g id=\"line2d_20\">\r\n      <g>\r\n       <use style=\"stroke:#000000;stroke-width:0.6;\" x=\"201.068653\" xlink:href=\"#m6a2f8a29d4\" y=\"333.36\"/>\r\n      </g>\r\n     </g>\r\n    </g>\r\n    <g id=\"xtick_21\">\r\n     <g id=\"line2d_21\">\r\n      <g>\r\n       <use style=\"stroke:#000000;stroke-width:0.6;\" x=\"217.144197\" xlink:href=\"#m6a2f8a29d4\" y=\"333.36\"/>\r\n      </g>\r\n     </g>\r\n    </g>\r\n    <g id=\"xtick_22\">\r\n     <g id=\"line2d_22\">\r\n      <g>\r\n       <use style=\"stroke:#000000;stroke-width:0.6;\" x=\"233.219742\" xlink:href=\"#m6a2f8a29d4\" y=\"333.36\"/>\r\n      </g>\r\n     </g>\r\n    </g>\r\n    <g id=\"xtick_23\">\r\n     <g id=\"line2d_23\">\r\n      <g>\r\n       <use style=\"stroke:#000000;stroke-width:0.6;\" x=\"249.295286\" xlink:href=\"#m6a2f8a29d4\" y=\"333.36\"/>\r\n      </g>\r\n     </g>\r\n    </g>\r\n    <g id=\"xtick_24\">\r\n     <g id=\"line2d_24\">\r\n      <g>\r\n       <use style=\"stroke:#000000;stroke-width:0.6;\" x=\"281.446374\" xlink:href=\"#m6a2f8a29d4\" y=\"333.36\"/>\r\n      </g>\r\n     </g>\r\n    </g>\r\n    <g id=\"xtick_25\">\r\n     <g id=\"line2d_25\">\r\n      <g>\r\n       <use style=\"stroke:#000000;stroke-width:0.6;\" x=\"297.521918\" xlink:href=\"#m6a2f8a29d4\" y=\"333.36\"/>\r\n      </g>\r\n     </g>\r\n    </g>\r\n    <g id=\"xtick_26\">\r\n     <g id=\"line2d_26\">\r\n      <g>\r\n       <use style=\"stroke:#000000;stroke-width:0.6;\" x=\"313.597462\" xlink:href=\"#m6a2f8a29d4\" y=\"333.36\"/>\r\n      </g>\r\n     </g>\r\n    </g>\r\n    <g id=\"xtick_27\">\r\n     <g id=\"line2d_27\">\r\n      <g>\r\n       <use style=\"stroke:#000000;stroke-width:0.6;\" x=\"329.673007\" xlink:href=\"#m6a2f8a29d4\" y=\"333.36\"/>\r\n      </g>\r\n     </g>\r\n    </g>\r\n    <g id=\"xtick_28\">\r\n     <g id=\"line2d_28\">\r\n      <g>\r\n       <use style=\"stroke:#000000;stroke-width:0.6;\" x=\"361.824095\" xlink:href=\"#m6a2f8a29d4\" y=\"333.36\"/>\r\n      </g>\r\n     </g>\r\n    </g>\r\n    <g id=\"xtick_29\">\r\n     <g id=\"line2d_29\">\r\n      <g>\r\n       <use style=\"stroke:#000000;stroke-width:0.6;\" x=\"377.899639\" xlink:href=\"#m6a2f8a29d4\" y=\"333.36\"/>\r\n      </g>\r\n     </g>\r\n    </g>\r\n    <g id=\"xtick_30\">\r\n     <g id=\"line2d_30\">\r\n      <g>\r\n       <use style=\"stroke:#000000;stroke-width:0.6;\" x=\"393.975183\" xlink:href=\"#m6a2f8a29d4\" y=\"333.36\"/>\r\n      </g>\r\n     </g>\r\n    </g>\r\n    <g id=\"xtick_31\">\r\n     <g id=\"line2d_31\">\r\n      <g>\r\n       <use style=\"stroke:#000000;stroke-width:0.6;\" x=\"410.050727\" xlink:href=\"#m6a2f8a29d4\" y=\"333.36\"/>\r\n      </g>\r\n     </g>\r\n    </g>\r\n    <g id=\"xtick_32\">\r\n     <g id=\"line2d_32\">\r\n      <g>\r\n       <use style=\"stroke:#000000;stroke-width:0.6;\" x=\"442.201816\" xlink:href=\"#m6a2f8a29d4\" y=\"333.36\"/>\r\n      </g>\r\n     </g>\r\n    </g>\r\n    <g id=\"xtick_33\">\r\n     <g id=\"line2d_33\">\r\n      <g>\r\n       <use style=\"stroke:#000000;stroke-width:0.6;\" x=\"458.27736\" xlink:href=\"#m6a2f8a29d4\" y=\"333.36\"/>\r\n      </g>\r\n     </g>\r\n    </g>\r\n    <g id=\"xtick_34\">\r\n     <g id=\"line2d_34\">\r\n      <g>\r\n       <use style=\"stroke:#000000;stroke-width:0.6;\" x=\"474.352904\" xlink:href=\"#m6a2f8a29d4\" y=\"333.36\"/>\r\n      </g>\r\n     </g>\r\n    </g>\r\n    <g id=\"xtick_35\">\r\n     <g id=\"line2d_35\">\r\n      <g>\r\n       <use style=\"stroke:#000000;stroke-width:0.6;\" x=\"490.428448\" xlink:href=\"#m6a2f8a29d4\" y=\"333.36\"/>\r\n      </g>\r\n     </g>\r\n    </g>\r\n    <g id=\"xtick_36\">\r\n     <g id=\"line2d_36\">\r\n      <g>\r\n       <use style=\"stroke:#000000;stroke-width:0.6;\" x=\"522.579537\" xlink:href=\"#m6a2f8a29d4\" y=\"333.36\"/>\r\n      </g>\r\n     </g>\r\n    </g>\r\n    <g id=\"xtick_37\">\r\n     <g id=\"line2d_37\">\r\n      <g>\r\n       <use style=\"stroke:#000000;stroke-width:0.6;\" x=\"538.655081\" xlink:href=\"#m6a2f8a29d4\" y=\"333.36\"/>\r\n      </g>\r\n     </g>\r\n    </g>\r\n    <g id=\"xtick_38\">\r\n     <g id=\"line2d_38\">\r\n      <g>\r\n       <use style=\"stroke:#000000;stroke-width:0.6;\" x=\"554.730625\" xlink:href=\"#m6a2f8a29d4\" y=\"333.36\"/>\r\n      </g>\r\n     </g>\r\n    </g>\r\n    <g id=\"xtick_39\">\r\n     <g id=\"line2d_39\">\r\n      <g>\r\n       <use style=\"stroke:#000000;stroke-width:0.6;\" x=\"570.806169\" xlink:href=\"#m6a2f8a29d4\" y=\"333.36\"/>\r\n      </g>\r\n     </g>\r\n    </g>\r\n    <g id=\"xtick_40\">\r\n     <g id=\"line2d_40\">\r\n      <g>\r\n       <use style=\"stroke:#000000;stroke-width:0.6;\" x=\"602.957258\" xlink:href=\"#m6a2f8a29d4\" y=\"333.36\"/>\r\n      </g>\r\n     </g>\r\n    </g>\r\n    <g id=\"xtick_41\">\r\n     <g id=\"line2d_41\">\r\n      <g>\r\n       <use style=\"stroke:#000000;stroke-width:0.6;\" x=\"619.032802\" xlink:href=\"#m6a2f8a29d4\" y=\"333.36\"/>\r\n      </g>\r\n     </g>\r\n    </g>\r\n    <g id=\"xtick_42\">\r\n     <g id=\"line2d_42\">\r\n      <g>\r\n       <use style=\"stroke:#000000;stroke-width:0.6;\" x=\"635.108346\" xlink:href=\"#m6a2f8a29d4\" y=\"333.36\"/>\r\n      </g>\r\n     </g>\r\n    </g>\r\n    <g id=\"xtick_43\">\r\n     <g id=\"line2d_43\">\r\n      <g>\r\n       <use style=\"stroke:#000000;stroke-width:0.6;\" x=\"651.18389\" xlink:href=\"#m6a2f8a29d4\" y=\"333.36\"/>\r\n      </g>\r\n     </g>\r\n    </g>\r\n    <g id=\"xtick_44\">\r\n     <g id=\"line2d_44\">\r\n      <g>\r\n       <use style=\"stroke:#000000;stroke-width:0.6;\" x=\"683.334978\" xlink:href=\"#m6a2f8a29d4\" y=\"333.36\"/>\r\n      </g>\r\n     </g>\r\n    </g>\r\n    <g id=\"xtick_45\">\r\n     <g id=\"line2d_45\">\r\n      <g>\r\n       <use style=\"stroke:#000000;stroke-width:0.6;\" x=\"699.410523\" xlink:href=\"#m6a2f8a29d4\" y=\"333.36\"/>\r\n      </g>\r\n     </g>\r\n    </g>\r\n    <g id=\"xtick_46\">\r\n     <g id=\"line2d_46\">\r\n      <g>\r\n       <use style=\"stroke:#000000;stroke-width:0.6;\" x=\"715.486067\" xlink:href=\"#m6a2f8a29d4\" y=\"333.36\"/>\r\n      </g>\r\n     </g>\r\n    </g>\r\n    <g id=\"xtick_47\">\r\n     <g id=\"line2d_47\">\r\n      <g>\r\n       <use style=\"stroke:#000000;stroke-width:0.6;\" x=\"731.561611\" xlink:href=\"#m6a2f8a29d4\" y=\"333.36\"/>\r\n      </g>\r\n     </g>\r\n    </g>\r\n    <g id=\"xtick_48\">\r\n     <g id=\"line2d_48\">\r\n      <g>\r\n       <use style=\"stroke:#000000;stroke-width:0.6;\" x=\"763.712699\" xlink:href=\"#m6a2f8a29d4\" y=\"333.36\"/>\r\n      </g>\r\n     </g>\r\n    </g>\r\n    <g id=\"xtick_49\">\r\n     <g id=\"line2d_49\">\r\n      <g>\r\n       <use style=\"stroke:#000000;stroke-width:0.6;\" x=\"779.788243\" xlink:href=\"#m6a2f8a29d4\" y=\"333.36\"/>\r\n      </g>\r\n     </g>\r\n    </g>\r\n    <g id=\"xtick_50\">\r\n     <g id=\"line2d_50\">\r\n      <g>\r\n       <use style=\"stroke:#000000;stroke-width:0.6;\" x=\"795.863788\" xlink:href=\"#m6a2f8a29d4\" y=\"333.36\"/>\r\n      </g>\r\n     </g>\r\n    </g>\r\n    <g id=\"xtick_51\">\r\n     <g id=\"line2d_51\">\r\n      <g>\r\n       <use style=\"stroke:#000000;stroke-width:0.6;\" x=\"811.939332\" xlink:href=\"#m6a2f8a29d4\" y=\"333.36\"/>\r\n      </g>\r\n     </g>\r\n    </g>\r\n    <g id=\"xtick_52\">\r\n     <g id=\"line2d_52\">\r\n      <g>\r\n       <use style=\"stroke:#000000;stroke-width:0.6;\" x=\"844.09042\" xlink:href=\"#m6a2f8a29d4\" y=\"333.36\"/>\r\n      </g>\r\n     </g>\r\n    </g>\r\n    <g id=\"xtick_53\">\r\n     <g id=\"line2d_53\">\r\n      <g>\r\n       <use style=\"stroke:#000000;stroke-width:0.6;\" x=\"860.165964\" xlink:href=\"#m6a2f8a29d4\" y=\"333.36\"/>\r\n      </g>\r\n     </g>\r\n    </g>\r\n    <g id=\"xtick_54\">\r\n     <g id=\"line2d_54\">\r\n      <g>\r\n       <use style=\"stroke:#000000;stroke-width:0.6;\" x=\"876.241508\" xlink:href=\"#m6a2f8a29d4\" y=\"333.36\"/>\r\n      </g>\r\n     </g>\r\n    </g>\r\n    <g id=\"xtick_55\">\r\n     <g id=\"line2d_55\">\r\n      <g>\r\n       <use style=\"stroke:#000000;stroke-width:0.6;\" x=\"892.317053\" xlink:href=\"#m6a2f8a29d4\" y=\"333.36\"/>\r\n      </g>\r\n     </g>\r\n    </g>\r\n    <g id=\"xtick_56\">\r\n     <g id=\"line2d_56\">\r\n      <g>\r\n       <use style=\"stroke:#000000;stroke-width:0.6;\" x=\"924.468141\" xlink:href=\"#m6a2f8a29d4\" y=\"333.36\"/>\r\n      </g>\r\n     </g>\r\n    </g>\r\n    <g id=\"xtick_57\">\r\n     <g id=\"line2d_57\">\r\n      <g>\r\n       <use style=\"stroke:#000000;stroke-width:0.6;\" x=\"940.543685\" xlink:href=\"#m6a2f8a29d4\" y=\"333.36\"/>\r\n      </g>\r\n     </g>\r\n    </g>\r\n    <g id=\"xtick_58\">\r\n     <g id=\"line2d_58\">\r\n      <g>\r\n       <use style=\"stroke:#000000;stroke-width:0.6;\" x=\"956.619229\" xlink:href=\"#m6a2f8a29d4\" y=\"333.36\"/>\r\n      </g>\r\n     </g>\r\n    </g>\r\n    <g id=\"xtick_59\">\r\n     <g id=\"line2d_59\">\r\n      <g>\r\n       <use style=\"stroke:#000000;stroke-width:0.6;\" x=\"972.694774\" xlink:href=\"#m6a2f8a29d4\" y=\"333.36\"/>\r\n      </g>\r\n     </g>\r\n    </g>\r\n    <g id=\"xtick_60\">\r\n     <g id=\"line2d_60\">\r\n      <g>\r\n       <use style=\"stroke:#000000;stroke-width:0.6;\" x=\"1004.845862\" xlink:href=\"#m6a2f8a29d4\" y=\"333.36\"/>\r\n      </g>\r\n     </g>\r\n    </g>\r\n    <g id=\"xtick_61\">\r\n     <g id=\"line2d_61\">\r\n      <g>\r\n       <use style=\"stroke:#000000;stroke-width:0.6;\" x=\"1020.921406\" xlink:href=\"#m6a2f8a29d4\" y=\"333.36\"/>\r\n      </g>\r\n     </g>\r\n    </g>\r\n    <g id=\"xtick_62\">\r\n     <g id=\"line2d_62\">\r\n      <g>\r\n       <use style=\"stroke:#000000;stroke-width:0.6;\" x=\"1036.99695\" xlink:href=\"#m6a2f8a29d4\" y=\"333.36\"/>\r\n      </g>\r\n     </g>\r\n    </g>\r\n    <g id=\"xtick_63\">\r\n     <g id=\"line2d_63\">\r\n      <g>\r\n       <use style=\"stroke:#000000;stroke-width:0.6;\" x=\"1053.072494\" xlink:href=\"#m6a2f8a29d4\" y=\"333.36\"/>\r\n      </g>\r\n     </g>\r\n    </g>\r\n    <g id=\"text_13\">\r\n     <!-- Line # -->\r\n     <g transform=\"translate(531.889375 362.633125)scale(0.16 -0.16)\">\r\n      <defs>\r\n       <path d=\"M 60.40625 20.609375 \r\nL 58.9375 0 \r\nL 4.78125 0 \r\nL 4.78125 3.46875 \r\nQ 5.953125 3.5625 8.171875 3.796875 \r\nQ 10.40625 4.046875 11.28125 4.4375 \r\nQ 12.75 5.078125 13.40625 6.296875 \r\nQ 14.0625 7.515625 14.0625 9.421875 \r\nL 14.0625 59.03125 \r\nQ 14.0625 60.6875 13.5 61.953125 \r\nQ 12.9375 63.234375 11.28125 64.015625 \r\nQ 10.15625 64.59375 8.125 65.15625 \r\nQ 6.109375 65.71875 4.78125 65.828125 \r\nL 4.78125 69.28125 \r\nL 34.03125 69.28125 \r\nL 34.03125 65.828125 \r\nQ 32.671875 65.765625 30.5 65.328125 \r\nQ 28.328125 64.890625 27.34375 64.546875 \r\nQ 25.6875 63.96875 25.078125 62.546875 \r\nQ 24.46875 61.140625 24.46875 59.515625 \r\nL 24.46875 12.984375 \r\nQ 24.46875 9.765625 24.78125 7.984375 \r\nQ 25.09375 6.203125 26.265625 5.21875 \r\nQ 27.390625 4.34375 29.609375 4.078125 \r\nQ 31.84375 3.8125 35.84375 3.8125 \r\nQ 37.640625 3.8125 39.59375 3.90625 \r\nQ 41.546875 4 43.3125 4.296875 \r\nQ 45.015625 4.59375 46.453125 5.09375 \r\nQ 47.90625 5.609375 48.578125 6.390625 \r\nQ 50.59375 8.640625 53.25 13.203125 \r\nQ 55.90625 17.78125 56.9375 20.609375 \r\nz\r\n\" id=\"Georgia-76\"/>\r\n       <path d=\"M 26.90625 0 \r\nL 3.609375 0 \r\nL 3.609375 3.21875 \r\nQ 4.734375 3.328125 5.921875 3.421875 \r\nQ 7.125 3.515625 8.015625 3.8125 \r\nQ 9.375 4.25 10.03125 5.34375 \r\nQ 10.6875 6.453125 10.6875 8.203125 \r\nL 10.6875 37.9375 \r\nQ 10.6875 39.5 9.984375 40.796875 \r\nQ 9.28125 42.09375 8.015625 42.96875 \r\nQ 7.078125 43.5625 5.3125 43.96875 \r\nQ 3.5625 44.390625 2.09375 44.484375 \r\nL 2.09375 47.65625 \r\nL 19.09375 48.734375 \r\nL 19.78125 48.046875 \r\nL 19.78125 8.796875 \r\nQ 19.78125 7.078125 20.4375 5.953125 \r\nQ 21.09375 4.828125 22.515625 4.296875 \r\nQ 23.578125 3.859375 24.609375 3.59375 \r\nQ 25.640625 3.328125 26.90625 3.21875 \r\nz\r\nM 20.75 67.71875 \r\nQ 20.75 64.9375 18.921875 62.859375 \r\nQ 17.09375 60.796875 14.40625 60.796875 \r\nQ 11.921875 60.796875 10.078125 62.765625 \r\nQ 8.25 64.75 8.25 67.28125 \r\nQ 8.25 69.96875 10.078125 71.96875 \r\nQ 11.921875 73.96875 14.40625 73.96875 \r\nQ 17.1875 73.96875 18.96875 72.09375 \r\nQ 20.75 70.21875 20.75 67.71875 \r\nz\r\n\" id=\"Georgia-105\"/>\r\n       <path d=\"M 56.6875 0 \r\nL 33.109375 0 \r\nL 33.109375 3.21875 \r\nQ 34.234375 3.328125 35.578125 3.421875 \r\nQ 36.921875 3.515625 37.796875 3.8125 \r\nQ 39.15625 4.25 39.8125 5.34375 \r\nQ 40.484375 6.453125 40.484375 8.203125 \r\nL 40.484375 32.953125 \r\nQ 40.484375 38.09375 38.0625 40.875 \r\nQ 35.640625 43.65625 32.171875 43.65625 \r\nQ 29.59375 43.65625 27.4375 42.84375 \r\nQ 25.296875 42.046875 23.640625 40.875 \r\nQ 22.015625 39.75 21.0625 38.453125 \r\nQ 20.125 37.15625 19.671875 36.375 \r\nL 19.671875 8.6875 \r\nQ 19.671875 7.03125 20.359375 5.953125 \r\nQ 21.046875 4.890625 22.40625 4.296875 \r\nQ 23.4375 3.8125 24.625 3.5625 \r\nQ 25.828125 3.328125 27.09375 3.21875 \r\nL 27.09375 0 \r\nL 3.515625 0 \r\nL 3.515625 3.21875 \r\nQ 4.640625 3.328125 5.828125 3.421875 \r\nQ 7.03125 3.515625 7.90625 3.8125 \r\nQ 9.28125 4.25 9.9375 5.34375 \r\nQ 10.59375 6.453125 10.59375 8.203125 \r\nL 10.59375 37.9375 \r\nQ 10.59375 39.59375 9.890625 40.984375 \r\nQ 9.1875 42.390625 7.90625 43.265625 \r\nQ 6.984375 43.84375 5.703125 44.109375 \r\nQ 4.4375 44.390625 2.984375 44.484375 \r\nL 2.984375 47.65625 \r\nL 19 48.734375 \r\nL 19.671875 48.046875 \r\nL 19.671875 41.265625 \r\nL 19.921875 41.265625 \r\nQ 21.09375 42.4375 22.84375 44.0625 \r\nQ 24.609375 45.703125 26.171875 46.734375 \r\nQ 27.984375 47.90625 30.46875 48.6875 \r\nQ 32.953125 49.46875 36.078125 49.46875 \r\nQ 43.015625 49.46875 46.359375 45.140625 \r\nQ 49.703125 40.828125 49.703125 33.640625 \r\nL 49.703125 8.59375 \r\nQ 49.703125 6.890625 50.28125 5.828125 \r\nQ 50.875 4.78125 52.296875 4.203125 \r\nQ 53.46875 3.71875 54.3125 3.515625 \r\nQ 55.171875 3.328125 56.6875 3.21875 \r\nz\r\n\" id=\"Georgia-110\"/>\r\n       <path d=\"M 46.296875 11.328125 \r\nQ 43.265625 5.5625 38.1875 2.140625 \r\nQ 33.109375 -1.265625 26.515625 -1.265625 \r\nQ 20.703125 -1.265625 16.328125 0.78125 \r\nQ 11.96875 2.828125 9.125 6.34375 \r\nQ 6.296875 9.859375 4.90625 14.546875 \r\nQ 3.515625 19.234375 3.515625 24.46875 \r\nQ 3.515625 29.15625 5 33.671875 \r\nQ 6.5 38.1875 9.375 41.796875 \r\nQ 12.15625 45.265625 16.28125 47.390625 \r\nQ 20.40625 49.515625 25.53125 49.515625 \r\nQ 30.8125 49.515625 34.5625 47.84375 \r\nQ 38.328125 46.1875 40.671875 43.3125 \r\nQ 42.921875 40.578125 44.015625 36.859375 \r\nQ 45.125 33.15625 45.125 28.8125 \r\nL 45.125 25.59375 \r\nL 13.234375 25.59375 \r\nQ 13.234375 20.84375 14.140625 16.984375 \r\nQ 15.046875 13.140625 17 10.203125 \r\nQ 18.890625 7.375 21.96875 5.734375 \r\nQ 25.046875 4.109375 29.296875 4.109375 \r\nQ 33.640625 4.109375 36.78125 6.125 \r\nQ 39.9375 8.15625 42.875 13.421875 \r\nz\r\nM 35.5 29.6875 \r\nQ 35.5 32.421875 35.03125 35.546875 \r\nQ 34.578125 38.671875 33.546875 40.765625 \r\nQ 32.421875 43.015625 30.46875 44.421875 \r\nQ 28.515625 45.84375 25.4375 45.84375 \r\nQ 20.3125 45.84375 16.921875 41.578125 \r\nQ 13.53125 37.3125 13.234375 29.6875 \r\nz\r\n\" id=\"Georgia-101\"/>\r\n       <path id=\"Georgia-32\"/>\r\n       <path d=\"M 56.78125 36.375 \r\nL 44.625 36.375 \r\nL 41.109375 24.125 \r\nL 53.859375 24.125 \r\nL 53.859375 18.109375 \r\nL 39.40625 18.109375 \r\nL 34.1875 0 \r\nL 28.765625 0 \r\nL 33.984375 18.109375 \r\nL 23.390625 18.109375 \r\nL 18.171875 0 \r\nL 12.75 0 \r\nL 17.96875 18.109375 \r\nL 7.515625 18.109375 \r\nL 7.515625 24.125 \r\nL 19.671875 24.125 \r\nL 23.25 36.375 \r\nL 10.453125 36.375 \r\nL 10.453125 42.390625 \r\nL 24.90625 42.390625 \r\nL 30.03125 60.0625 \r\nL 35.453125 60.0625 \r\nL 30.328125 42.390625 \r\nL 40.921875 42.390625 \r\nL 46.046875 60.0625 \r\nL 51.46875 60.0625 \r\nL 46.34375 42.390625 \r\nL 56.78125 42.390625 \r\nz\r\nM 39.40625 36.46875 \r\nL 28.5625 36.46875 \r\nL 24.953125 24.03125 \r\nL 35.75 24.03125 \r\nz\r\n\" id=\"Georgia-35\"/>\r\n      </defs>\r\n      <use xlink:href=\"#Georgia-76\"/>\r\n      <use x=\"60.351562\" xlink:href=\"#Georgia-105\"/>\r\n      <use x=\"89.648438\" xlink:href=\"#Georgia-110\"/>\r\n      <use x=\"148.730469\" xlink:href=\"#Georgia-101\"/>\r\n      <use x=\"197.070312\" xlink:href=\"#Georgia-32\"/>\r\n      <use x=\"221.191406\" xlink:href=\"#Georgia-35\"/>\r\n     </g>\r\n    </g>\r\n   </g>\r\n   <g id=\"matplotlib.axis_2\">\r\n    <g id=\"ytick_1\">\r\n     <g id=\"line2d_64\">\r\n      <defs>\r\n       <path d=\"M 0 0 \r\nL 3.5 0 \r\n\" id=\"m893889f811\" style=\"stroke:#000000;stroke-width:0.8;\"/>\r\n      </defs>\r\n      <g>\r\n       <use style=\"stroke:#000000;stroke-width:0.8;\" x=\"52.530625\" xlink:href=\"#m893889f811\" y=\"333.36\"/>\r\n      </g>\r\n     </g>\r\n     <g id=\"text_14\">\r\n      <!-- 0.00 -->\r\n      <g transform=\"translate(26.765 337.159219)scale(0.1 -0.1)\">\r\n       <defs>\r\n        <path d=\"M 10.6875 12.40625 \r\nL 21 12.40625 \r\nL 21 0 \r\nL 10.6875 0 \r\nz\r\n\" id=\"DejaVuSans-46\"/>\r\n       </defs>\r\n       <use xlink:href=\"#DejaVuSans-48\"/>\r\n       <use x=\"63.623047\" xlink:href=\"#DejaVuSans-46\"/>\r\n       <use x=\"95.410156\" xlink:href=\"#DejaVuSans-48\"/>\r\n       <use x=\"159.033203\" xlink:href=\"#DejaVuSans-48\"/>\r\n      </g>\r\n     </g>\r\n    </g>\r\n    <g id=\"ytick_2\">\r\n     <g id=\"line2d_65\">\r\n      <g>\r\n       <use style=\"stroke:#000000;stroke-width:0.8;\" x=\"52.530625\" xlink:href=\"#m893889f811\" y=\"284.588774\"/>\r\n      </g>\r\n     </g>\r\n     <g id=\"text_15\">\r\n      <!-- 0.02 -->\r\n      <g transform=\"translate(26.765 288.387993)scale(0.1 -0.1)\">\r\n       <use xlink:href=\"#DejaVuSans-48\"/>\r\n       <use x=\"63.623047\" xlink:href=\"#DejaVuSans-46\"/>\r\n       <use x=\"95.410156\" xlink:href=\"#DejaVuSans-48\"/>\r\n       <use x=\"159.033203\" xlink:href=\"#DejaVuSans-50\"/>\r\n      </g>\r\n     </g>\r\n    </g>\r\n    <g id=\"ytick_3\">\r\n     <g id=\"line2d_66\">\r\n      <g>\r\n       <use style=\"stroke:#000000;stroke-width:0.8;\" x=\"52.530625\" xlink:href=\"#m893889f811\" y=\"235.817548\"/>\r\n      </g>\r\n     </g>\r\n     <g id=\"text_16\">\r\n      <!-- 0.04 -->\r\n      <g transform=\"translate(26.765 239.616767)scale(0.1 -0.1)\">\r\n       <use xlink:href=\"#DejaVuSans-48\"/>\r\n       <use x=\"63.623047\" xlink:href=\"#DejaVuSans-46\"/>\r\n       <use x=\"95.410156\" xlink:href=\"#DejaVuSans-48\"/>\r\n       <use x=\"159.033203\" xlink:href=\"#DejaVuSans-52\"/>\r\n      </g>\r\n     </g>\r\n    </g>\r\n    <g id=\"ytick_4\">\r\n     <g id=\"line2d_67\">\r\n      <g>\r\n       <use style=\"stroke:#000000;stroke-width:0.8;\" x=\"52.530625\" xlink:href=\"#m893889f811\" y=\"187.046322\"/>\r\n      </g>\r\n     </g>\r\n     <g id=\"text_17\">\r\n      <!-- 0.06 -->\r\n      <g transform=\"translate(26.765 190.845541)scale(0.1 -0.1)\">\r\n       <use xlink:href=\"#DejaVuSans-48\"/>\r\n       <use x=\"63.623047\" xlink:href=\"#DejaVuSans-46\"/>\r\n       <use x=\"95.410156\" xlink:href=\"#DejaVuSans-48\"/>\r\n       <use x=\"159.033203\" xlink:href=\"#DejaVuSans-54\"/>\r\n      </g>\r\n     </g>\r\n    </g>\r\n    <g id=\"ytick_5\">\r\n     <g id=\"line2d_68\">\r\n      <g>\r\n       <use style=\"stroke:#000000;stroke-width:0.8;\" x=\"52.530625\" xlink:href=\"#m893889f811\" y=\"138.275096\"/>\r\n      </g>\r\n     </g>\r\n     <g id=\"text_18\">\r\n      <!-- 0.08 -->\r\n      <g transform=\"translate(26.765 142.074315)scale(0.1 -0.1)\">\r\n       <defs>\r\n        <path d=\"M 31.78125 34.625 \r\nQ 24.75 34.625 20.71875 30.859375 \r\nQ 16.703125 27.09375 16.703125 20.515625 \r\nQ 16.703125 13.921875 20.71875 10.15625 \r\nQ 24.75 6.390625 31.78125 6.390625 \r\nQ 38.8125 6.390625 42.859375 10.171875 \r\nQ 46.921875 13.96875 46.921875 20.515625 \r\nQ 46.921875 27.09375 42.890625 30.859375 \r\nQ 38.875 34.625 31.78125 34.625 \r\nz\r\nM 21.921875 38.8125 \r\nQ 15.578125 40.375 12.03125 44.71875 \r\nQ 8.5 49.078125 8.5 55.328125 \r\nQ 8.5 64.0625 14.71875 69.140625 \r\nQ 20.953125 74.21875 31.78125 74.21875 \r\nQ 42.671875 74.21875 48.875 69.140625 \r\nQ 55.078125 64.0625 55.078125 55.328125 \r\nQ 55.078125 49.078125 51.53125 44.71875 \r\nQ 48 40.375 41.703125 38.8125 \r\nQ 48.828125 37.15625 52.796875 32.3125 \r\nQ 56.78125 27.484375 56.78125 20.515625 \r\nQ 56.78125 9.90625 50.3125 4.234375 \r\nQ 43.84375 -1.421875 31.78125 -1.421875 \r\nQ 19.734375 -1.421875 13.25 4.234375 \r\nQ 6.78125 9.90625 6.78125 20.515625 \r\nQ 6.78125 27.484375 10.78125 32.3125 \r\nQ 14.796875 37.15625 21.921875 38.8125 \r\nz\r\nM 18.3125 54.390625 \r\nQ 18.3125 48.734375 21.84375 45.5625 \r\nQ 25.390625 42.390625 31.78125 42.390625 \r\nQ 38.140625 42.390625 41.71875 45.5625 \r\nQ 45.3125 48.734375 45.3125 54.390625 \r\nQ 45.3125 60.0625 41.71875 63.234375 \r\nQ 38.140625 66.40625 31.78125 66.40625 \r\nQ 25.390625 66.40625 21.84375 63.234375 \r\nQ 18.3125 60.0625 18.3125 54.390625 \r\nz\r\n\" id=\"DejaVuSans-56\"/>\r\n       </defs>\r\n       <use xlink:href=\"#DejaVuSans-48\"/>\r\n       <use x=\"63.623047\" xlink:href=\"#DejaVuSans-46\"/>\r\n       <use x=\"95.410156\" xlink:href=\"#DejaVuSans-48\"/>\r\n       <use x=\"159.033203\" xlink:href=\"#DejaVuSans-56\"/>\r\n      </g>\r\n     </g>\r\n    </g>\r\n    <g id=\"ytick_6\">\r\n     <g id=\"line2d_69\">\r\n      <g>\r\n       <use style=\"stroke:#000000;stroke-width:0.8;\" x=\"52.530625\" xlink:href=\"#m893889f811\" y=\"89.50387\"/>\r\n      </g>\r\n     </g>\r\n     <g id=\"text_19\">\r\n      <!-- 0.10 -->\r\n      <g transform=\"translate(26.765 93.303089)scale(0.1 -0.1)\">\r\n       <use xlink:href=\"#DejaVuSans-48\"/>\r\n       <use x=\"63.623047\" xlink:href=\"#DejaVuSans-46\"/>\r\n       <use x=\"95.410156\" xlink:href=\"#DejaVuSans-49\"/>\r\n       <use x=\"159.033203\" xlink:href=\"#DejaVuSans-48\"/>\r\n      </g>\r\n     </g>\r\n    </g>\r\n    <g id=\"ytick_7\">\r\n     <g id=\"line2d_70\">\r\n      <g>\r\n       <use style=\"stroke:#000000;stroke-width:0.8;\" x=\"52.530625\" xlink:href=\"#m893889f811\" y=\"40.732644\"/>\r\n      </g>\r\n     </g>\r\n     <g id=\"text_20\">\r\n      <!-- 0.12 -->\r\n      <g transform=\"translate(26.765 44.531863)scale(0.1 -0.1)\">\r\n       <use xlink:href=\"#DejaVuSans-48\"/>\r\n       <use x=\"63.623047\" xlink:href=\"#DejaVuSans-46\"/>\r\n       <use x=\"95.410156\" xlink:href=\"#DejaVuSans-49\"/>\r\n       <use x=\"159.033203\" xlink:href=\"#DejaVuSans-50\"/>\r\n      </g>\r\n     </g>\r\n    </g>\r\n    <g id=\"text_21\">\r\n     <!-- Time (s) -->\r\n     <g style=\"fill:#ff0000;\" transform=\"translate(19.295 199.875)rotate(-90)scale(0.16 -0.16)\">\r\n      <defs>\r\n       <path d=\"M 61.078125 50.484375 \r\nL 57.71875 50.484375 \r\nQ 57.28125 52.25 56.125 54.65625 \r\nQ 54.984375 57.078125 53.5625 59.234375 \r\nQ 52.09375 61.46875 50.359375 63.15625 \r\nQ 48.640625 64.84375 47.015625 65.09375 \r\nQ 45.515625 65.28125 43.21875 65.375 \r\nQ 40.921875 65.484375 38.96875 65.484375 \r\nL 36.140625 65.484375 \r\nL 36.140625 10.0625 \r\nQ 36.140625 8.453125 36.8125 7.109375 \r\nQ 37.5 5.765625 39.203125 5.03125 \r\nQ 40.09375 4.6875 42.890625 4.09375 \r\nQ 45.703125 3.515625 47.265625 3.46875 \r\nL 47.265625 0 \r\nL 14.546875 0 \r\nL 14.546875 3.46875 \r\nQ 15.921875 3.5625 18.71875 3.859375 \r\nQ 21.53125 4.15625 22.609375 4.59375 \r\nQ 24.21875 5.21875 24.96875 6.421875 \r\nQ 25.734375 7.625 25.734375 9.625 \r\nL 25.734375 65.484375 \r\nL 22.90625 65.484375 \r\nQ 21.390625 65.484375 19.140625 65.40625 \r\nQ 16.890625 65.328125 14.84375 65.09375 \r\nQ 13.234375 64.890625 11.5 63.15625 \r\nQ 9.765625 61.421875 8.296875 59.234375 \r\nQ 6.84375 57.03125 5.71875 54.5625 \r\nQ 4.59375 52.09375 4.15625 50.484375 \r\nL 0.734375 50.484375 \r\nL 0.734375 69.28125 \r\nL 61.078125 69.28125 \r\nz\r\n\" id=\"Georgia-84\"/>\r\n       <path d=\"M 85.984375 0 \r\nL 62.5 0 \r\nL 62.5 3.21875 \r\nQ 63.625 3.328125 64.765625 3.421875 \r\nQ 65.921875 3.515625 66.796875 3.8125 \r\nQ 68.171875 4.25 68.828125 5.34375 \r\nQ 69.484375 6.453125 69.484375 8.203125 \r\nL 69.484375 33.0625 \r\nQ 69.484375 38.140625 67.15625 40.890625 \r\nQ 64.84375 43.65625 61.375 43.65625 \r\nQ 58.984375 43.65625 56.875 42.921875 \r\nQ 54.78125 42.1875 53.03125 40.875 \r\nQ 51.609375 39.796875 50.65625 38.546875 \r\nQ 49.703125 37.3125 49.21875 36.46875 \r\nL 49.21875 8.6875 \r\nQ 49.21875 6.984375 49.796875 5.875 \r\nQ 50.390625 4.78125 51.8125 4.203125 \r\nQ 52.9375 3.765625 53.828125 3.546875 \r\nQ 54.734375 3.328125 56.203125 3.21875 \r\nL 56.203125 0 \r\nL 33.203125 0 \r\nL 33.203125 3.21875 \r\nQ 34.328125 3.328125 35.375 3.421875 \r\nQ 36.421875 3.515625 37.3125 3.8125 \r\nQ 38.671875 4.25 39.328125 5.34375 \r\nQ 39.984375 6.453125 39.984375 8.203125 \r\nL 39.984375 33.0625 \r\nQ 39.984375 38.140625 37.671875 40.890625 \r\nQ 35.359375 43.65625 31.890625 43.65625 \r\nQ 29.5 43.65625 27.390625 42.890625 \r\nQ 25.296875 42.140625 23.53125 40.828125 \r\nQ 22.125 39.75 21.140625 38.40625 \r\nQ 20.171875 37.0625 19.671875 36.375 \r\nL 19.671875 8.796875 \r\nQ 19.671875 7.125 20.359375 6 \r\nQ 21.046875 4.890625 22.40625 4.296875 \r\nQ 23.4375 3.8125 24.515625 3.5625 \r\nQ 25.59375 3.328125 26.90625 3.21875 \r\nL 26.90625 0 \r\nL 3.515625 0 \r\nL 3.515625 3.21875 \r\nQ 4.640625 3.328125 5.828125 3.421875 \r\nQ 7.03125 3.515625 7.90625 3.8125 \r\nQ 9.28125 4.25 9.9375 5.34375 \r\nQ 10.59375 6.453125 10.59375 8.203125 \r\nL 10.59375 38.140625 \r\nQ 10.59375 39.703125 9.890625 40.9375 \r\nQ 9.1875 42.1875 7.90625 43.0625 \r\nQ 6.984375 43.65625 5.609375 44.015625 \r\nQ 4.25 44.390625 2.78125 44.484375 \r\nL 2.78125 47.65625 \r\nL 18.890625 48.734375 \r\nL 19.578125 48.046875 \r\nL 19.578125 41.15625 \r\nL 19.921875 41.15625 \r\nQ 21.140625 42.390625 22.890625 44.046875 \r\nQ 24.65625 45.703125 26.171875 46.734375 \r\nQ 27.875 47.90625 30.4375 48.6875 \r\nQ 33.015625 49.46875 35.984375 49.46875 \r\nQ 40.671875 49.46875 44.03125 46.953125 \r\nQ 47.40625 44.4375 48.875 40.875 \r\nQ 50.640625 42.578125 51.984375 43.875 \r\nQ 53.328125 45.171875 55.515625 46.625 \r\nQ 57.375 47.90625 59.890625 48.6875 \r\nQ 62.40625 49.46875 65.484375 49.46875 \r\nQ 71.578125 49.46875 75.140625 45.453125 \r\nQ 78.71875 41.453125 78.71875 33.15625 \r\nL 78.71875 8.6875 \r\nQ 78.71875 6.984375 79.296875 5.875 \r\nQ 79.890625 4.78125 81.296875 4.203125 \r\nQ 82.421875 3.765625 83.515625 3.546875 \r\nQ 84.625 3.328125 85.984375 3.21875 \r\nz\r\n\" id=\"Georgia-109\"/>\r\n       <path d=\"M 34.234375 -16.015625 \r\nQ 20.90625 -14.359375 13.3125 -2.578125 \r\nQ 5.71875 9.1875 5.71875 29.109375 \r\nQ 5.71875 49.359375 13.3125 61.203125 \r\nQ 20.90625 73.046875 34.234375 74.8125 \r\nL 34.234375 70.75 \r\nQ 24.859375 69.046875 19.96875 58.78125 \r\nQ 15.09375 48.53125 15.09375 29 \r\nQ 15.09375 10.40625 19.875 0.078125 \r\nQ 24.65625 -10.25 34.234375 -12.015625 \r\nz\r\n\" id=\"Georgia-40\"/>\r\n       <path d=\"M 35.296875 23.578125 \r\nQ 37.3125 21.828125 38.375 19.53125 \r\nQ 39.453125 17.234375 39.453125 13.921875 \r\nQ 39.453125 7.234375 34.4375 2.984375 \r\nQ 29.4375 -1.265625 21.484375 -1.265625 \r\nQ 17.28125 -1.265625 13.734375 0.25 \r\nQ 10.203125 1.765625 8.6875 3.03125 \r\nL 7.71875 -0.140625 \r\nL 4.046875 -0.140625 \r\nL 3.5625 16.609375 \r\nL 6.9375 16.609375 \r\nQ 7.328125 14.703125 8.59375 12.15625 \r\nQ 9.859375 9.625 11.671875 7.5625 \r\nQ 13.578125 5.421875 16.234375 3.953125 \r\nQ 18.890625 2.484375 22.21875 2.484375 \r\nQ 26.90625 2.484375 29.4375 4.609375 \r\nQ 31.984375 6.734375 31.984375 10.6875 \r\nQ 31.984375 12.75 31.171875 14.234375 \r\nQ 30.375 15.71875 28.8125 16.84375 \r\nQ 27.203125 17.96875 24.859375 18.875 \r\nQ 22.515625 19.78125 19.625 20.65625 \r\nQ 17.328125 21.34375 14.515625 22.53125 \r\nQ 11.71875 23.734375 9.71875 25.34375 \r\nQ 7.5625 27.046875 6.1875 29.53125 \r\nQ 4.828125 32.03125 4.828125 35.40625 \r\nQ 4.828125 41.3125 9.21875 45.40625 \r\nQ 13.625 49.515625 21 49.515625 \r\nQ 23.828125 49.515625 26.78125 48.78125 \r\nQ 29.734375 48.046875 31.59375 47.015625 \r\nL 32.71875 49.5625 \r\nL 36.234375 49.5625 \r\nL 36.96875 34.078125 \r\nL 33.59375 34.078125 \r\nQ 32.5625 39.265625 29.171875 42.5 \r\nQ 25.78125 45.75 20.90625 45.75 \r\nQ 16.890625 45.75 14.59375 43.75 \r\nQ 12.3125 41.75 12.3125 38.921875 \r\nQ 12.3125 36.71875 13.0625 35.25 \r\nQ 13.8125 33.796875 15.328125 32.765625 \r\nQ 16.796875 31.78125 19.015625 30.921875 \r\nQ 21.234375 30.078125 24.515625 29 \r\nQ 27.734375 27.984375 30.59375 26.609375 \r\nQ 33.453125 25.25 35.296875 23.578125 \r\nz\r\n\" id=\"Georgia-115\"/>\r\n       <path d=\"M 31.78125 29.109375 \r\nQ 31.78125 9.1875 24.1875 -2.578125 \r\nQ 16.609375 -14.359375 3.265625 -16.015625 \r\nL 3.265625 -12.015625 \r\nQ 12.84375 -10.25 17.625 0.078125 \r\nQ 22.40625 10.40625 22.40625 29 \r\nQ 22.40625 48.53125 17.515625 58.78125 \r\nQ 12.640625 69.046875 3.265625 70.75 \r\nL 3.265625 74.8125 \r\nQ 16.609375 73.046875 24.1875 61.203125 \r\nQ 31.78125 49.359375 31.78125 29.109375 \r\nz\r\n\" id=\"Georgia-41\"/>\r\n      </defs>\r\n      <use xlink:href=\"#Georgia-84\"/>\r\n      <use x=\"61.865234\" xlink:href=\"#Georgia-105\"/>\r\n      <use x=\"91.162109\" xlink:href=\"#Georgia-109\"/>\r\n      <use x=\"179.248047\" xlink:href=\"#Georgia-101\"/>\r\n      <use x=\"227.587891\" xlink:href=\"#Georgia-32\"/>\r\n      <use x=\"251.708984\" xlink:href=\"#Georgia-40\"/>\r\n      <use x=\"289.208984\" xlink:href=\"#Georgia-115\"/>\r\n      <use x=\"332.421875\" xlink:href=\"#Georgia-41\"/>\r\n     </g>\r\n    </g>\r\n   </g>\r\n   <g id=\"patch_58\">\r\n    <path d=\"M 52.530625 333.36 \r\nL 52.530625 7.2 \r\n\" style=\"fill:none;stroke:#000000;stroke-linecap:square;stroke-linejoin:miter;stroke-width:0.8;\"/>\r\n   </g>\r\n   <g id=\"patch_59\">\r\n    <path d=\"M 1056.930625 333.36 \r\nL 1056.930625 7.2 \r\n\" style=\"fill:none;stroke:#000000;stroke-linecap:square;stroke-linejoin:miter;stroke-width:0.8;\"/>\r\n   </g>\r\n   <g id=\"patch_60\">\r\n    <path d=\"M 52.530625 333.36 \r\nL 1056.930625 333.36 \r\n\" style=\"fill:none;stroke:#000000;stroke-linecap:square;stroke-linejoin:miter;stroke-width:0.8;\"/>\r\n   </g>\r\n   <g id=\"patch_61\">\r\n    <path d=\"M 52.530625 7.2 \r\nL 1056.930625 7.2 \r\n\" style=\"fill:none;stroke:#000000;stroke-linecap:square;stroke-linejoin:miter;stroke-width:0.8;\"/>\r\n   </g>\r\n  </g>\r\n  <g id=\"axes_2\">\r\n   <g id=\"patch_62\">\r\n    <path clip-path=\"url(#p559ff68d91)\" d=\"M 98.18517 333.36 \r\nL 111.045606 333.36 \r\nL 111.045606 333.36 \r\nL 98.18517 333.36 \r\nz\r\n\" style=\"fill:#0000ff;fill-opacity:0.3;stroke:#0000ff;stroke-linejoin:miter;\"/>\r\n   </g>\r\n   <g id=\"patch_63\">\r\n    <path clip-path=\"url(#p559ff68d91)\" d=\"M 114.260715 333.36 \r\nL 127.12115 333.36 \r\nL 127.12115 333.36 \r\nL 114.260715 333.36 \r\nz\r\n\" style=\"fill:#0000ff;fill-opacity:0.3;stroke:#0000ff;stroke-linejoin:miter;\"/>\r\n   </g>\r\n   <g id=\"patch_64\">\r\n    <path clip-path=\"url(#p559ff68d91)\" d=\"M 130.336259 333.36 \r\nL 143.196694 333.36 \r\nL 143.196694 333.36 \r\nL 130.336259 333.36 \r\nz\r\n\" style=\"fill:#0000ff;fill-opacity:0.3;stroke:#0000ff;stroke-linejoin:miter;\"/>\r\n   </g>\r\n   <g id=\"patch_65\">\r\n    <path clip-path=\"url(#p559ff68d91)\" d=\"M 146.411803 333.36 \r\nL 159.272238 333.36 \r\nL 159.272238 333.36 \r\nL 146.411803 333.36 \r\nz\r\n\" style=\"fill:#0000ff;fill-opacity:0.3;stroke:#0000ff;stroke-linejoin:miter;\"/>\r\n   </g>\r\n   <g id=\"patch_66\">\r\n    <path clip-path=\"url(#p559ff68d91)\" d=\"M 162.487347 333.36 \r\nL 175.347782 333.36 \r\nL 175.347782 333.36 \r\nL 162.487347 333.36 \r\nz\r\n\" style=\"fill:#0000ff;fill-opacity:0.3;stroke:#0000ff;stroke-linejoin:miter;\"/>\r\n   </g>\r\n   <g id=\"patch_67\">\r\n    <path clip-path=\"url(#p559ff68d91)\" d=\"M 178.562891 333.36 \r\nL 191.423327 333.36 \r\nL 191.423327 333.36 \r\nL 178.562891 333.36 \r\nz\r\n\" style=\"fill:#0000ff;fill-opacity:0.3;stroke:#0000ff;stroke-linejoin:miter;\"/>\r\n   </g>\r\n   <g id=\"patch_68\">\r\n    <path clip-path=\"url(#p559ff68d91)\" d=\"M 194.638435 333.36 \r\nL 207.498871 333.36 \r\nL 207.498871 333.36 \r\nL 194.638435 333.36 \r\nz\r\n\" style=\"fill:#0000ff;fill-opacity:0.3;stroke:#0000ff;stroke-linejoin:miter;\"/>\r\n   </g>\r\n   <g id=\"patch_69\">\r\n    <path clip-path=\"url(#p559ff68d91)\" d=\"M 210.71398 333.36 \r\nL 223.574415 333.36 \r\nL 223.574415 333.36 \r\nL 210.71398 333.36 \r\nz\r\n\" style=\"fill:#0000ff;fill-opacity:0.3;stroke:#0000ff;stroke-linejoin:miter;\"/>\r\n   </g>\r\n   <g id=\"patch_70\">\r\n    <path clip-path=\"url(#p559ff68d91)\" d=\"M 226.789524 333.36 \r\nL 239.649959 333.36 \r\nL 239.649959 333.36 \r\nL 226.789524 333.36 \r\nz\r\n\" style=\"fill:#0000ff;fill-opacity:0.3;stroke:#0000ff;stroke-linejoin:miter;\"/>\r\n   </g>\r\n   <g id=\"patch_71\">\r\n    <path clip-path=\"url(#p559ff68d91)\" d=\"M 242.865068 333.36 \r\nL 255.725503 333.36 \r\nL 255.725503 333.36 \r\nL 242.865068 333.36 \r\nz\r\n\" style=\"fill:#0000ff;fill-opacity:0.3;stroke:#0000ff;stroke-linejoin:miter;\"/>\r\n   </g>\r\n   <g id=\"patch_72\">\r\n    <path clip-path=\"url(#p559ff68d91)\" d=\"M 258.940612 333.36 \r\nL 271.801048 333.36 \r\nL 271.801048 333.36 \r\nL 258.940612 333.36 \r\nz\r\n\" style=\"fill:#0000ff;fill-opacity:0.3;stroke:#0000ff;stroke-linejoin:miter;\"/>\r\n   </g>\r\n   <g id=\"patch_73\">\r\n    <path clip-path=\"url(#p559ff68d91)\" d=\"M 275.016156 333.36 \r\nL 287.876592 333.36 \r\nL 287.876592 333.36 \r\nL 275.016156 333.36 \r\nz\r\n\" style=\"fill:#0000ff;fill-opacity:0.3;stroke:#0000ff;stroke-linejoin:miter;\"/>\r\n   </g>\r\n   <g id=\"patch_74\">\r\n    <path clip-path=\"url(#p559ff68d91)\" d=\"M 291.091701 333.36 \r\nL 303.952136 333.36 \r\nL 303.952136 56.335989 \r\nL 291.091701 56.335989 \r\nz\r\n\" style=\"fill:#0000ff;fill-opacity:0.3;stroke:#0000ff;stroke-linejoin:miter;\"/>\r\n   </g>\r\n   <g id=\"patch_75\">\r\n    <path clip-path=\"url(#p559ff68d91)\" d=\"M 307.167245 333.36 \r\nL 320.02768 333.36 \r\nL 320.02768 333.36 \r\nL 307.167245 333.36 \r\nz\r\n\" style=\"fill:#0000ff;fill-opacity:0.3;stroke:#0000ff;stroke-linejoin:miter;\"/>\r\n   </g>\r\n   <g id=\"patch_76\">\r\n    <path clip-path=\"url(#p559ff68d91)\" d=\"M 323.242789 333.36 \r\nL 336.103224 333.36 \r\nL 336.103224 327.142144 \r\nL 323.242789 327.142144 \r\nz\r\n\" style=\"fill:#0000ff;fill-opacity:0.3;stroke:#0000ff;stroke-linejoin:miter;\"/>\r\n   </g>\r\n   <g id=\"patch_77\">\r\n    <path clip-path=\"url(#p559ff68d91)\" d=\"M 339.318333 333.36 \r\nL 352.178768 333.36 \r\nL 352.178768 333.239898 \r\nL 339.318333 333.239898 \r\nz\r\n\" style=\"fill:#0000ff;fill-opacity:0.3;stroke:#0000ff;stroke-linejoin:miter;\"/>\r\n   </g>\r\n   <g id=\"patch_78\">\r\n    <path clip-path=\"url(#p559ff68d91)\" d=\"M 355.393877 333.36 \r\nL 368.254313 333.36 \r\nL 368.254313 333.36 \r\nL 355.393877 333.36 \r\nz\r\n\" style=\"fill:#0000ff;fill-opacity:0.3;stroke:#0000ff;stroke-linejoin:miter;\"/>\r\n   </g>\r\n   <g id=\"patch_79\">\r\n    <path clip-path=\"url(#p559ff68d91)\" d=\"M 371.469421 333.36 \r\nL 384.329857 333.36 \r\nL 384.329857 333.36 \r\nL 371.469421 333.36 \r\nz\r\n\" style=\"fill:#0000ff;fill-opacity:0.3;stroke:#0000ff;stroke-linejoin:miter;\"/>\r\n   </g>\r\n   <g id=\"patch_80\">\r\n    <path clip-path=\"url(#p559ff68d91)\" d=\"M 387.544966 333.36 \r\nL 400.405401 333.36 \r\nL 400.405401 333.36 \r\nL 387.544966 333.36 \r\nz\r\n\" style=\"fill:#0000ff;fill-opacity:0.3;stroke:#0000ff;stroke-linejoin:miter;\"/>\r\n   </g>\r\n   <g id=\"patch_81\">\r\n    <path clip-path=\"url(#p559ff68d91)\" d=\"M 403.62051 333.36 \r\nL 416.480945 333.36 \r\nL 416.480945 307.140002 \r\nL 403.62051 307.140002 \r\nz\r\n\" style=\"fill:#0000ff;fill-opacity:0.3;stroke:#0000ff;stroke-linejoin:miter;\"/>\r\n   </g>\r\n   <g id=\"patch_82\">\r\n    <path clip-path=\"url(#p559ff68d91)\" d=\"M 419.696054 333.36 \r\nL 432.556489 333.36 \r\nL 432.556489 333.26735 \r\nL 419.696054 333.26735 \r\nz\r\n\" style=\"fill:#0000ff;fill-opacity:0.3;stroke:#0000ff;stroke-linejoin:miter;\"/>\r\n   </g>\r\n   <g id=\"patch_83\">\r\n    <path clip-path=\"url(#p559ff68d91)\" d=\"M 435.771598 333.36 \r\nL 448.632033 333.36 \r\nL 448.632033 333.332548 \r\nL 435.771598 333.332548 \r\nz\r\n\" style=\"fill:#0000ff;fill-opacity:0.3;stroke:#0000ff;stroke-linejoin:miter;\"/>\r\n   </g>\r\n   <g id=\"patch_84\">\r\n    <path clip-path=\"url(#p559ff68d91)\" d=\"M 451.847142 333.36 \r\nL 464.707578 333.36 \r\nL 464.707578 333.346274 \r\nL 451.847142 333.346274 \r\nz\r\n\" style=\"fill:#0000ff;fill-opacity:0.3;stroke:#0000ff;stroke-linejoin:miter;\"/>\r\n   </g>\r\n   <g id=\"patch_85\">\r\n    <path clip-path=\"url(#p559ff68d91)\" d=\"M 467.922686 333.36 \r\nL 480.783122 333.36 \r\nL 480.783122 333.36 \r\nL 467.922686 333.36 \r\nz\r\n\" style=\"fill:#0000ff;fill-opacity:0.3;stroke:#0000ff;stroke-linejoin:miter;\"/>\r\n   </g>\r\n   <g id=\"patch_86\">\r\n    <path clip-path=\"url(#p559ff68d91)\" d=\"M 483.998231 333.36 \r\nL 496.858666 333.36 \r\nL 496.858666 22.731429 \r\nL 483.998231 22.731429 \r\nz\r\n\" style=\"fill:#0000ff;fill-opacity:0.3;stroke:#0000ff;stroke-linejoin:miter;\"/>\r\n   </g>\r\n   <g id=\"patch_87\">\r\n    <path clip-path=\"url(#p559ff68d91)\" d=\"M 500.073775 333.36 \r\nL 512.93421 333.36 \r\nL 512.93421 333.332548 \r\nL 500.073775 333.332548 \r\nz\r\n\" style=\"fill:#0000ff;fill-opacity:0.3;stroke:#0000ff;stroke-linejoin:miter;\"/>\r\n   </g>\r\n   <g id=\"patch_88\">\r\n    <path clip-path=\"url(#p559ff68d91)\" d=\"M 516.149319 333.36 \r\nL 529.009754 333.36 \r\nL 529.009754 333.36 \r\nL 516.149319 333.36 \r\nz\r\n\" style=\"fill:#0000ff;fill-opacity:0.3;stroke:#0000ff;stroke-linejoin:miter;\"/>\r\n   </g>\r\n   <g id=\"patch_89\">\r\n    <path clip-path=\"url(#p559ff68d91)\" d=\"M 532.224863 333.36 \r\nL 545.085298 333.36 \r\nL 545.085298 333.346274 \r\nL 532.224863 333.346274 \r\nz\r\n\" style=\"fill:#0000ff;fill-opacity:0.3;stroke:#0000ff;stroke-linejoin:miter;\"/>\r\n   </g>\r\n   <g id=\"patch_90\">\r\n    <path clip-path=\"url(#p559ff68d91)\" d=\"M 548.300407 333.36 \r\nL 561.160843 333.36 \r\nL 561.160843 333.36 \r\nL 548.300407 333.36 \r\nz\r\n\" style=\"fill:#0000ff;fill-opacity:0.3;stroke:#0000ff;stroke-linejoin:miter;\"/>\r\n   </g>\r\n   <g id=\"patch_91\">\r\n    <path clip-path=\"url(#p559ff68d91)\" d=\"M 564.375952 333.36 \r\nL 577.236387 333.36 \r\nL 577.236387 333.36 \r\nL 564.375952 333.36 \r\nz\r\n\" style=\"fill:#0000ff;fill-opacity:0.3;stroke:#0000ff;stroke-linejoin:miter;\"/>\r\n   </g>\r\n   <g id=\"patch_92\">\r\n    <path clip-path=\"url(#p559ff68d91)\" d=\"M 580.451496 333.36 \r\nL 593.311931 333.36 \r\nL 593.311931 333.36 \r\nL 580.451496 333.36 \r\nz\r\n\" style=\"fill:#0000ff;fill-opacity:0.3;stroke:#0000ff;stroke-linejoin:miter;\"/>\r\n   </g>\r\n   <g id=\"patch_93\">\r\n    <path clip-path=\"url(#p559ff68d91)\" d=\"M 596.52704 333.36 \r\nL 609.387475 333.36 \r\nL 609.387475 333.36 \r\nL 596.52704 333.36 \r\nz\r\n\" style=\"fill:#0000ff;fill-opacity:0.3;stroke:#0000ff;stroke-linejoin:miter;\"/>\r\n   </g>\r\n   <g id=\"patch_94\">\r\n    <path clip-path=\"url(#p559ff68d91)\" d=\"M 612.602584 333.36 \r\nL 625.463019 333.36 \r\nL 625.463019 333.36 \r\nL 612.602584 333.36 \r\nz\r\n\" style=\"fill:#0000ff;fill-opacity:0.3;stroke:#0000ff;stroke-linejoin:miter;\"/>\r\n   </g>\r\n   <g id=\"patch_95\">\r\n    <path clip-path=\"url(#p559ff68d91)\" d=\"M 628.678128 333.36 \r\nL 641.538564 333.36 \r\nL 641.538564 333.36 \r\nL 628.678128 333.36 \r\nz\r\n\" style=\"fill:#0000ff;fill-opacity:0.3;stroke:#0000ff;stroke-linejoin:miter;\"/>\r\n   </g>\r\n   <g id=\"patch_96\">\r\n    <path clip-path=\"url(#p559ff68d91)\" d=\"M 644.753672 333.36 \r\nL 657.614108 333.36 \r\nL 657.614108 333.36 \r\nL 644.753672 333.36 \r\nz\r\n\" style=\"fill:#0000ff;fill-opacity:0.3;stroke:#0000ff;stroke-linejoin:miter;\"/>\r\n   </g>\r\n   <g id=\"patch_97\">\r\n    <path clip-path=\"url(#p559ff68d91)\" d=\"M 660.829217 333.36 \r\nL 673.689652 333.36 \r\nL 673.689652 333.36 \r\nL 660.829217 333.36 \r\nz\r\n\" style=\"fill:#0000ff;fill-opacity:0.3;stroke:#0000ff;stroke-linejoin:miter;\"/>\r\n   </g>\r\n   <g id=\"patch_98\">\r\n    <path clip-path=\"url(#p559ff68d91)\" d=\"M 709.055849 333.36 \r\nL 721.916284 333.36 \r\nL 721.916284 333.36 \r\nL 709.055849 333.36 \r\nz\r\n\" style=\"fill:#0000ff;fill-opacity:0.3;stroke:#0000ff;stroke-linejoin:miter;\"/>\r\n   </g>\r\n   <g id=\"patch_99\">\r\n    <path clip-path=\"url(#p559ff68d91)\" d=\"M 725.131393 333.36 \r\nL 737.991829 333.36 \r\nL 737.991829 333.36 \r\nL 725.131393 333.36 \r\nz\r\n\" style=\"fill:#0000ff;fill-opacity:0.3;stroke:#0000ff;stroke-linejoin:miter;\"/>\r\n   </g>\r\n   <g id=\"patch_100\">\r\n    <path clip-path=\"url(#p559ff68d91)\" d=\"M 741.206937 333.36 \r\nL 754.067373 333.36 \r\nL 754.067373 333.36 \r\nL 741.206937 333.36 \r\nz\r\n\" style=\"fill:#0000ff;fill-opacity:0.3;stroke:#0000ff;stroke-linejoin:miter;\"/>\r\n   </g>\r\n   <g id=\"patch_101\">\r\n    <path clip-path=\"url(#p559ff68d91)\" d=\"M 757.282482 333.36 \r\nL 770.142917 333.36 \r\nL 770.142917 333.36 \r\nL 757.282482 333.36 \r\nz\r\n\" style=\"fill:#0000ff;fill-opacity:0.3;stroke:#0000ff;stroke-linejoin:miter;\"/>\r\n   </g>\r\n   <g id=\"patch_102\">\r\n    <path clip-path=\"url(#p559ff68d91)\" d=\"M 773.358026 333.36 \r\nL 786.218461 333.36 \r\nL 786.218461 333.36 \r\nL 773.358026 333.36 \r\nz\r\n\" style=\"fill:#0000ff;fill-opacity:0.3;stroke:#0000ff;stroke-linejoin:miter;\"/>\r\n   </g>\r\n   <g id=\"patch_103\">\r\n    <path clip-path=\"url(#p559ff68d91)\" d=\"M 789.43357 333.36 \r\nL 802.294005 333.36 \r\nL 802.294005 333.36 \r\nL 789.43357 333.36 \r\nz\r\n\" style=\"fill:#0000ff;fill-opacity:0.3;stroke:#0000ff;stroke-linejoin:miter;\"/>\r\n   </g>\r\n   <g id=\"patch_104\">\r\n    <path clip-path=\"url(#p559ff68d91)\" d=\"M 805.509114 333.36 \r\nL 818.369549 333.36 \r\nL 818.369549 333.36 \r\nL 805.509114 333.36 \r\nz\r\n\" style=\"fill:#0000ff;fill-opacity:0.3;stroke:#0000ff;stroke-linejoin:miter;\"/>\r\n   </g>\r\n   <g id=\"patch_105\">\r\n    <path clip-path=\"url(#p559ff68d91)\" d=\"M 821.584658 333.36 \r\nL 834.445094 333.36 \r\nL 834.445094 333.36 \r\nL 821.584658 333.36 \r\nz\r\n\" style=\"fill:#0000ff;fill-opacity:0.3;stroke:#0000ff;stroke-linejoin:miter;\"/>\r\n   </g>\r\n   <g id=\"patch_106\">\r\n    <path clip-path=\"url(#p559ff68d91)\" d=\"M 837.660202 333.36 \r\nL 850.520638 333.36 \r\nL 850.520638 333.36 \r\nL 837.660202 333.36 \r\nz\r\n\" style=\"fill:#0000ff;fill-opacity:0.3;stroke:#0000ff;stroke-linejoin:miter;\"/>\r\n   </g>\r\n   <g id=\"patch_107\">\r\n    <path clip-path=\"url(#p559ff68d91)\" d=\"M 853.735747 333.36 \r\nL 866.596182 333.36 \r\nL 866.596182 333.36 \r\nL 853.735747 333.36 \r\nz\r\n\" style=\"fill:#0000ff;fill-opacity:0.3;stroke:#0000ff;stroke-linejoin:miter;\"/>\r\n   </g>\r\n   <g id=\"patch_108\">\r\n    <path clip-path=\"url(#p559ff68d91)\" d=\"M 869.811291 333.36 \r\nL 882.671726 333.36 \r\nL 882.671726 333.36 \r\nL 869.811291 333.36 \r\nz\r\n\" style=\"fill:#0000ff;fill-opacity:0.3;stroke:#0000ff;stroke-linejoin:miter;\"/>\r\n   </g>\r\n   <g id=\"patch_109\">\r\n    <path clip-path=\"url(#p559ff68d91)\" d=\"M 885.886835 333.36 \r\nL 898.74727 333.36 \r\nL 898.74727 333.253624 \r\nL 885.886835 333.253624 \r\nz\r\n\" style=\"fill:#0000ff;fill-opacity:0.3;stroke:#0000ff;stroke-linejoin:miter;\"/>\r\n   </g>\r\n   <g id=\"patch_110\">\r\n    <path clip-path=\"url(#p559ff68d91)\" d=\"M 901.962379 333.36 \r\nL 914.822815 333.36 \r\nL 914.822815 333.36 \r\nL 901.962379 333.36 \r\nz\r\n\" style=\"fill:#0000ff;fill-opacity:0.3;stroke:#0000ff;stroke-linejoin:miter;\"/>\r\n   </g>\r\n   <g id=\"patch_111\">\r\n    <path clip-path=\"url(#p559ff68d91)\" d=\"M 918.037923 333.36 \r\nL 930.898359 333.36 \r\nL 930.898359 307.167454 \r\nL 918.037923 307.167454 \r\nz\r\n\" style=\"fill:#0000ff;fill-opacity:0.3;stroke:#0000ff;stroke-linejoin:miter;\"/>\r\n   </g>\r\n   <g id=\"patch_112\">\r\n    <path clip-path=\"url(#p559ff68d91)\" d=\"M 934.113468 333.36 \r\nL 946.973903 333.36 \r\nL 946.973903 307.167454 \r\nL 934.113468 307.167454 \r\nz\r\n\" style=\"fill:#0000ff;fill-opacity:0.3;stroke:#0000ff;stroke-linejoin:miter;\"/>\r\n   </g>\r\n   <g id=\"patch_113\">\r\n    <path clip-path=\"url(#p559ff68d91)\" d=\"M 950.189012 333.36 \r\nL 963.049447 333.36 \r\nL 963.049447 307.167454 \r\nL 950.189012 307.167454 \r\nz\r\n\" style=\"fill:#0000ff;fill-opacity:0.3;stroke:#0000ff;stroke-linejoin:miter;\"/>\r\n   </g>\r\n   <g id=\"patch_114\">\r\n    <path clip-path=\"url(#p559ff68d91)\" d=\"M 966.264556 333.36 \r\nL 979.124991 333.36 \r\nL 979.124991 307.167454 \r\nL 966.264556 307.167454 \r\nz\r\n\" style=\"fill:#0000ff;fill-opacity:0.3;stroke:#0000ff;stroke-linejoin:miter;\"/>\r\n   </g>\r\n   <g id=\"patch_115\">\r\n    <path clip-path=\"url(#p559ff68d91)\" d=\"M 982.3401 333.36 \r\nL 995.200535 333.36 \r\nL 995.200535 333.36 \r\nL 982.3401 333.36 \r\nz\r\n\" style=\"fill:#0000ff;fill-opacity:0.3;stroke:#0000ff;stroke-linejoin:miter;\"/>\r\n   </g>\r\n   <g id=\"patch_116\">\r\n    <path clip-path=\"url(#p559ff68d91)\" d=\"M 998.415644 333.36 \r\nL 1011.27608 333.36 \r\nL 1011.27608 333.36 \r\nL 998.415644 333.36 \r\nz\r\n\" style=\"fill:#0000ff;fill-opacity:0.3;stroke:#0000ff;stroke-linejoin:miter;\"/>\r\n   </g>\r\n   <g id=\"matplotlib.axis_3\">\r\n    <g id=\"ytick_8\">\r\n     <g id=\"line2d_71\">\r\n      <defs>\r\n       <path d=\"M 0 0 \r\nL -3.5 0 \r\n\" id=\"ma1f551a608\" style=\"stroke:#000000;stroke-width:0.8;\"/>\r\n      </defs>\r\n      <g>\r\n       <use style=\"stroke:#000000;stroke-width:0.8;\" x=\"1056.930625\" xlink:href=\"#ma1f551a608\" y=\"333.36\"/>\r\n      </g>\r\n     </g>\r\n     <g id=\"text_22\">\r\n      <!-- 0 -->\r\n      <g transform=\"translate(1060.430625 337.159219)scale(0.1 -0.1)\">\r\n       <use xlink:href=\"#DejaVuSans-48\"/>\r\n      </g>\r\n     </g>\r\n    </g>\r\n    <g id=\"ytick_9\">\r\n     <g id=\"line2d_72\">\r\n      <g>\r\n       <use style=\"stroke:#000000;stroke-width:0.8;\" x=\"1056.930625\" xlink:href=\"#ma1f551a608\" y=\"264.730244\"/>\r\n      </g>\r\n     </g>\r\n     <g id=\"text_23\">\r\n      <!-- 20 -->\r\n      <g transform=\"translate(1060.430625 268.529462)scale(0.1 -0.1)\">\r\n       <use xlink:href=\"#DejaVuSans-50\"/>\r\n       <use x=\"63.623047\" xlink:href=\"#DejaVuSans-48\"/>\r\n      </g>\r\n     </g>\r\n    </g>\r\n    <g id=\"ytick_10\">\r\n     <g id=\"line2d_73\">\r\n      <g>\r\n       <use style=\"stroke:#000000;stroke-width:0.8;\" x=\"1056.930625\" xlink:href=\"#ma1f551a608\" y=\"196.100487\"/>\r\n      </g>\r\n     </g>\r\n     <g id=\"text_24\">\r\n      <!-- 40 -->\r\n      <g transform=\"translate(1060.430625 199.899706)scale(0.1 -0.1)\">\r\n       <use xlink:href=\"#DejaVuSans-52\"/>\r\n       <use x=\"63.623047\" xlink:href=\"#DejaVuSans-48\"/>\r\n      </g>\r\n     </g>\r\n    </g>\r\n    <g id=\"ytick_11\">\r\n     <g id=\"line2d_74\">\r\n      <g>\r\n       <use style=\"stroke:#000000;stroke-width:0.8;\" x=\"1056.930625\" xlink:href=\"#ma1f551a608\" y=\"127.470731\"/>\r\n      </g>\r\n     </g>\r\n     <g id=\"text_25\">\r\n      <!-- 60 -->\r\n      <g transform=\"translate(1060.430625 131.26995)scale(0.1 -0.1)\">\r\n       <use xlink:href=\"#DejaVuSans-54\"/>\r\n       <use x=\"63.623047\" xlink:href=\"#DejaVuSans-48\"/>\r\n      </g>\r\n     </g>\r\n    </g>\r\n    <g id=\"ytick_12\">\r\n     <g id=\"line2d_75\">\r\n      <g>\r\n       <use style=\"stroke:#000000;stroke-width:0.8;\" x=\"1056.930625\" xlink:href=\"#ma1f551a608\" y=\"58.840975\"/>\r\n      </g>\r\n     </g>\r\n     <g id=\"text_26\">\r\n      <!-- 80 -->\r\n      <g transform=\"translate(1060.430625 62.640194)scale(0.1 -0.1)\">\r\n       <use xlink:href=\"#DejaVuSans-56\"/>\r\n       <use x=\"63.623047\" xlink:href=\"#DejaVuSans-48\"/>\r\n      </g>\r\n     </g>\r\n    </g>\r\n    <g id=\"text_27\">\r\n     <!-- Memory Change (MiB) -->\r\n     <g style=\"fill:#0000ff;\" transform=\"translate(1089.250625 251.4825)rotate(-90)scale(0.16 -0.16)\">\r\n      <defs>\r\n       <path d=\"M 88.1875 0 \r\nL 57.5625 0 \r\nL 57.5625 3.46875 \r\nQ 59.234375 3.515625 61.84375 3.8125 \r\nQ 64.453125 4.109375 65.4375 4.640625 \r\nQ 66.9375 5.5625 67.640625 6.75 \r\nQ 68.359375 7.953125 68.359375 9.765625 \r\nL 68.359375 60.15625 \r\nL 67.625 60.15625 \r\nL 44 1.125 \r\nL 41.546875 1.125 \r\nL 19.046875 61.375 \r\nL 18.40625 61.375 \r\nL 18.40625 20.015625 \r\nQ 18.40625 14.015625 19.15625 10.890625 \r\nQ 19.921875 7.765625 21.484375 6.390625 \r\nQ 22.5625 5.375 25.921875 4.4375 \r\nQ 29.296875 3.515625 30.328125 3.46875 \r\nL 30.328125 0 \r\nL 2.34375 0 \r\nL 2.34375 3.46875 \r\nQ 4.546875 3.65625 6.953125 4.1875 \r\nQ 9.375 4.734375 10.6875 5.8125 \r\nQ 12.40625 7.171875 13.03125 10 \r\nQ 13.671875 12.84375 13.671875 19.484375 \r\nL 13.671875 54.9375 \r\nQ 13.671875 58.015625 12.9375 59.96875 \r\nQ 12.203125 61.921875 10.84375 63.140625 \r\nQ 9.328125 64.453125 7.125 65.078125 \r\nQ 4.9375 65.71875 2.78125 65.828125 \r\nL 2.78125 69.28125 \r\nL 26.421875 69.28125 \r\nL 46.234375 17.328125 \r\nL 63.1875 60.796875 \r\nQ 64.109375 63.1875 64.765625 65.796875 \r\nQ 65.4375 68.40625 65.484375 69.28125 \r\nL 88.09375 69.28125 \r\nL 88.09375 65.828125 \r\nQ 86.71875 65.765625 84.59375 65.375 \r\nQ 82.46875 64.984375 81.5 64.65625 \r\nQ 79.828125 64.0625 79.234375 62.6875 \r\nQ 78.65625 61.328125 78.65625 59.71875 \r\nL 78.65625 9.765625 \r\nQ 78.65625 8.0625 79.234375 6.890625 \r\nQ 79.828125 5.71875 81.5 4.828125 \r\nQ 82.375 4.34375 84.609375 3.921875 \r\nQ 86.859375 3.515625 88.1875 3.46875 \r\nz\r\n\" id=\"Georgia-77\"/>\r\n       <path d=\"M 50.4375 24.5625 \r\nQ 50.4375 19.484375 48.828125 14.578125 \r\nQ 47.21875 9.671875 44.234375 6.25 \r\nQ 40.875 2.34375 36.421875 0.4375 \r\nQ 31.984375 -1.46875 26.46875 -1.46875 \r\nQ 21.875 -1.46875 17.71875 0.265625 \r\nQ 13.578125 2 10.359375 5.328125 \r\nQ 7.171875 8.59375 5.296875 13.296875 \r\nQ 3.421875 18.015625 3.421875 23.875 \r\nQ 3.421875 35.15625 9.984375 42.328125 \r\nQ 16.546875 49.515625 27.203125 49.515625 \r\nQ 37.3125 49.515625 43.875 42.703125 \r\nQ 50.4375 35.890625 50.4375 24.5625 \r\nz\r\nM 40.328125 24.46875 \r\nQ 40.328125 28.125 39.59375 32.203125 \r\nQ 38.875 36.28125 37.40625 39.109375 \r\nQ 35.84375 42.140625 33.296875 43.96875 \r\nQ 30.765625 45.796875 27.09375 45.796875 \r\nQ 23.34375 45.796875 20.671875 43.9375 \r\nQ 18.015625 42.09375 16.359375 38.875 \r\nQ 14.796875 35.890625 14.15625 32.078125 \r\nQ 13.53125 28.265625 13.53125 24.703125 \r\nQ 13.53125 20.015625 14.28125 16.03125 \r\nQ 15.046875 12.0625 16.703125 8.9375 \r\nQ 18.359375 5.8125 20.875 4.03125 \r\nQ 23.390625 2.25 27.09375 2.25 \r\nQ 33.203125 2.25 36.765625 8.15625 \r\nQ 40.328125 14.0625 40.328125 24.46875 \r\nz\r\n\" id=\"Georgia-111\"/>\r\n       <path d=\"M 40.375 41.9375 \r\nQ 40.375 39.453125 39.15625 37.515625 \r\nQ 37.9375 35.59375 35.40625 35.59375 \r\nQ 32.671875 35.59375 31.21875 37 \r\nQ 29.78125 38.421875 29.78125 40.140625 \r\nQ 29.78125 41.21875 29.953125 42.09375 \r\nQ 30.125 42.96875 30.28125 43.84375 \r\nQ 27.984375 43.84375 24.90625 41.984375 \r\nQ 21.828125 40.140625 19.671875 36.71875 \r\nL 19.671875 8.6875 \r\nQ 19.671875 6.984375 20.328125 5.90625 \r\nQ 21 4.828125 22.40625 4.296875 \r\nQ 23.640625 3.8125 25.5625 3.5625 \r\nQ 27.484375 3.328125 28.90625 3.21875 \r\nL 28.90625 0 \r\nL 3.515625 0 \r\nL 3.515625 3.21875 \r\nQ 4.640625 3.328125 5.828125 3.421875 \r\nQ 7.03125 3.515625 7.90625 3.8125 \r\nQ 9.28125 4.25 9.9375 5.34375 \r\nQ 10.59375 6.453125 10.59375 8.203125 \r\nL 10.59375 37.9375 \r\nQ 10.59375 39.453125 9.890625 40.921875 \r\nQ 9.1875 42.390625 7.90625 43.265625 \r\nQ 6.984375 43.84375 5.703125 44.109375 \r\nQ 4.4375 44.390625 2.984375 44.484375 \r\nL 2.984375 47.65625 \r\nL 19 48.734375 \r\nL 19.671875 48.046875 \r\nL 19.671875 41.265625 \r\nL 19.921875 41.265625 \r\nQ 22.953125 45.21875 26.65625 47.265625 \r\nQ 30.375 49.3125 33.453125 49.3125 \r\nQ 36.53125 49.3125 38.453125 47.3125 \r\nQ 40.375 45.3125 40.375 41.9375 \r\nz\r\n\" id=\"Georgia-114\"/>\r\n       <path d=\"M -0.140625 -15.71875 \r\nQ -0.140625 -13.28125 1.203125 -11.734375 \r\nQ 2.546875 -10.203125 4.546875 -10.203125 \r\nQ 6.109375 -10.203125 7.21875 -10.78125 \r\nQ 8.34375 -11.375 9.234375 -12.3125 \r\nQ 9.96875 -13.03125 10.796875 -14.296875 \r\nQ 11.625 -15.578125 12.109375 -16.40625 \r\nQ 14.546875 -15.09375 17.9375 -9.515625 \r\nQ 21.34375 -3.953125 22.859375 0.25 \r\nQ 18.21875 11.8125 14.453125 20.9375 \r\nQ 10.6875 30.078125 6.59375 39.84375 \r\nQ 5.671875 42.09375 3.46875 43.328125 \r\nQ 1.265625 44.578125 -0.921875 44.921875 \r\nL -0.921875 48.140625 \r\nL 21.046875 48.140625 \r\nL 21.046875 44.734375 \r\nQ 19.578125 44.671875 17.53125 44.109375 \r\nQ 15.484375 43.5625 15.484375 42.828125 \r\nQ 15.484375 42.53125 15.703125 41.84375 \r\nQ 15.921875 41.15625 16.21875 40.4375 \r\nQ 18.0625 35.59375 21.875 26.484375 \r\nQ 25.6875 17.390625 27.78125 11.921875 \r\nQ 29.984375 17.140625 32.34375 22.734375 \r\nQ 34.71875 28.328125 37.640625 35.9375 \r\nQ 37.984375 36.859375 38.625 38.5 \r\nQ 39.265625 40.140625 39.265625 41.3125 \r\nQ 39.265625 42.578125 37.03125 43.671875 \r\nQ 34.8125 44.78125 32.8125 45.015625 \r\nL 32.8125 48.140625 \r\nL 50.6875 48.140625 \r\nL 50.6875 45.125 \r\nQ 49.21875 44.875 46.828125 43.4375 \r\nQ 44.4375 42 43.265625 39.359375 \r\nQ 37.453125 25.875 32.9375 14.796875 \r\nQ 28.421875 3.71875 26.078125 -1.515625 \r\nQ 23 -8.34375 20.578125 -12.171875 \r\nQ 18.171875 -16.015625 15.875 -18.21875 \r\nQ 13.625 -20.265625 11.796875 -20.96875 \r\nQ 9.96875 -21.6875 8.015625 -21.6875 \r\nQ 4.203125 -21.6875 2.03125 -19.875 \r\nQ -0.140625 -18.0625 -0.140625 -15.71875 \r\nz\r\n\" id=\"Georgia-121\"/>\r\n       <path d=\"M 35.296875 -1.609375 \r\nQ 29.109375 -1.609375 23.40625 0.828125 \r\nQ 17.71875 3.265625 13.328125 7.859375 \r\nQ 8.984375 12.453125 6.390625 19.0625 \r\nQ 3.8125 25.6875 3.8125 33.984375 \r\nQ 3.8125 42.28125 6.34375 49.046875 \r\nQ 8.890625 55.8125 13.375 60.6875 \r\nQ 17.828125 65.53125 23.875 68.15625 \r\nQ 29.9375 70.796875 36.8125 70.796875 \r\nQ 41.9375 70.796875 46.09375 69.53125 \r\nQ 50.25 68.265625 54 65.96875 \r\nL 56 69.28125 \r\nL 59.90625 69.28125 \r\nL 60.359375 44.578125 \r\nL 56.34375 44.578125 \r\nQ 55.5625 48.1875 54 52.40625 \r\nQ 52.4375 56.640625 50.34375 59.578125 \r\nQ 48 62.890625 44.765625 64.765625 \r\nQ 41.546875 66.65625 37.40625 66.65625 \r\nQ 32.671875 66.65625 28.59375 64.546875 \r\nQ 24.515625 62.453125 21.53125 58.34375 \r\nQ 18.703125 54.390625 17.09375 48.28125 \r\nQ 15.484375 42.1875 15.484375 34.671875 \r\nQ 15.484375 28.03125 17.15625 22.484375 \r\nQ 18.84375 16.9375 21.96875 12.75 \r\nQ 25.09375 8.59375 29.359375 6.25 \r\nQ 33.640625 3.90625 38.921875 3.90625 \r\nQ 42.875 3.90625 46.1875 5.140625 \r\nQ 49.515625 6.390625 51.953125 8.453125 \r\nQ 54.390625 10.59375 56.25 13.328125 \r\nQ 58.109375 16.0625 59.28125 19.28125 \r\nL 62.9375 17.53125 \r\nQ 58.734375 7.234375 51.796875 2.8125 \r\nQ 44.875 -1.609375 35.296875 -1.609375 \r\nz\r\n\" id=\"Georgia-67\"/>\r\n       <path d=\"M 55.8125 0 \r\nL 32.171875 0 \r\nL 32.171875 3.21875 \r\nQ 33.296875 3.328125 34.65625 3.421875 \r\nQ 36.03125 3.515625 36.921875 3.8125 \r\nQ 38.28125 4.25 38.9375 5.34375 \r\nQ 39.59375 6.453125 39.59375 8.203125 \r\nL 39.59375 32.953125 \r\nQ 39.59375 38.09375 37.171875 40.875 \r\nQ 34.765625 43.65625 31.296875 43.65625 \r\nQ 28.765625 43.65625 26.59375 42.84375 \r\nQ 24.421875 42.046875 22.703125 40.875 \r\nQ 21.046875 39.65625 20.15625 38.421875 \r\nQ 19.28125 37.203125 18.796875 36.375 \r\nL 18.796875 8.6875 \r\nQ 18.796875 7.03125 19.453125 5.953125 \r\nQ 20.125 4.890625 21.484375 4.296875 \r\nQ 22.5625 3.8125 23.703125 3.5625 \r\nQ 24.859375 3.328125 26.21875 3.21875 \r\nL 26.21875 0 \r\nL 2.59375 0 \r\nL 2.59375 3.21875 \r\nQ 3.71875 3.328125 4.9375 3.4375 \r\nQ 6.15625 3.5625 6.984375 3.8125 \r\nQ 8.34375 4.25 9.03125 5.34375 \r\nQ 9.71875 6.453125 9.71875 8.203125 \r\nL 9.71875 64.265625 \r\nQ 9.71875 65.921875 8.953125 67.578125 \r\nQ 8.203125 69.234375 6.984375 70.0625 \r\nQ 6.109375 70.703125 3.875 70.96875 \r\nQ 1.65625 71.234375 0.296875 71.34375 \r\nL 0.296875 74.46875 \r\nL 18.109375 75.59375 \r\nL 18.796875 74.859375 \r\nL 18.796875 41.265625 \r\nL 19 41.265625 \r\nQ 20.609375 42.875 21.921875 44.109375 \r\nQ 23.25 45.359375 25.390625 46.734375 \r\nQ 27.25 47.90625 29.765625 48.6875 \r\nQ 32.28125 49.46875 35.40625 49.46875 \r\nQ 41.84375 49.46875 45.3125 45.390625 \r\nQ 48.78125 41.3125 48.78125 33.640625 \r\nL 48.78125 8.59375 \r\nQ 48.78125 6.890625 49.390625 5.828125 \r\nQ 50 4.78125 51.421875 4.203125 \r\nQ 52.546875 3.765625 53.4375 3.546875 \r\nQ 54.34375 3.328125 55.8125 3.21875 \r\nz\r\n\" id=\"Georgia-104\"/>\r\n       <path d=\"M 49.125 0.875 \r\nQ 46.828125 0.046875 45.09375 -0.46875 \r\nQ 43.359375 -0.984375 41.15625 -0.984375 \r\nQ 37.359375 -0.984375 35.078125 0.796875 \r\nQ 32.8125 2.59375 32.171875 6 \r\nL 31.890625 6 \r\nQ 28.71875 2.484375 25.078125 0.625 \r\nQ 21.4375 -1.21875 16.3125 -1.21875 \r\nQ 10.890625 -1.21875 7.390625 2.09375 \r\nQ 3.90625 5.421875 3.90625 10.796875 \r\nQ 3.90625 13.578125 4.6875 15.765625 \r\nQ 5.46875 17.96875 7.03125 19.734375 \r\nQ 8.25 21.1875 10.25 22.328125 \r\nQ 12.25 23.484375 14.015625 24.171875 \r\nQ 16.21875 25 22.921875 27.25 \r\nQ 29.640625 29.5 31.984375 30.765625 \r\nL 31.984375 35.59375 \r\nQ 31.984375 36.234375 31.71875 38.03125 \r\nQ 31.453125 39.84375 30.5625 41.453125 \r\nQ 29.59375 43.265625 27.8125 44.609375 \r\nQ 26.03125 45.953125 22.75 45.953125 \r\nQ 20.515625 45.953125 18.578125 45.1875 \r\nQ 16.65625 44.4375 15.875 43.609375 \r\nQ 15.875 42.625 16.328125 40.71875 \r\nQ 16.796875 38.8125 16.796875 37.203125 \r\nQ 16.796875 35.5 15.25 34.078125 \r\nQ 13.71875 32.671875 10.984375 32.671875 \r\nQ 8.546875 32.671875 7.390625 34.40625 \r\nQ 6.25 36.140625 6.25 38.28125 \r\nQ 6.25 40.53125 7.828125 42.578125 \r\nQ 9.421875 44.625 11.96875 46.234375 \r\nQ 14.15625 47.609375 17.28125 48.5625 \r\nQ 20.40625 49.515625 23.390625 49.515625 \r\nQ 27.484375 49.515625 30.53125 48.953125 \r\nQ 33.59375 48.390625 36.078125 46.53125 \r\nQ 38.578125 44.734375 39.859375 41.625 \r\nQ 41.15625 38.53125 41.15625 33.640625 \r\nQ 41.15625 26.65625 41.015625 21.265625 \r\nQ 40.875 15.875 40.875 9.46875 \r\nQ 40.875 7.5625 41.53125 6.4375 \r\nQ 42.1875 5.328125 43.5625 4.546875 \r\nQ 44.28125 4.109375 45.875 4.046875 \r\nQ 47.46875 4 49.125 4 \r\nz\r\nM 32.078125 26.65625 \r\nQ 27.9375 25.4375 24.8125 24.265625 \r\nQ 21.6875 23.09375 19 21.34375 \r\nQ 16.546875 19.671875 15.125 17.40625 \r\nQ 13.71875 15.140625 13.71875 12.015625 \r\nQ 13.71875 7.953125 15.84375 6.046875 \r\nQ 17.96875 4.15625 21.234375 4.15625 \r\nQ 24.703125 4.15625 27.34375 5.828125 \r\nQ 29.984375 7.515625 31.78125 9.8125 \r\nz\r\n\" id=\"Georgia-97\"/>\r\n       <path d=\"M 44.78125 4.984375 \r\nQ 46.734375 3.125 47.84375 0.78125 \r\nQ 48.96875 -1.5625 48.96875 -5.03125 \r\nQ 48.96875 -8.5 47.453125 -11.546875 \r\nQ 45.953125 -14.59375 42.875 -16.84375 \r\nQ 39.59375 -19.140625 35.046875 -20.40625 \r\nQ 30.515625 -21.6875 23.828125 -21.6875 \r\nQ 12.890625 -21.6875 7.46875 -18.484375 \r\nQ 2.046875 -15.28125 2.046875 -9.125 \r\nQ 2.046875 -4.15625 5.953125 -1.265625 \r\nQ 9.859375 1.609375 15.921875 1.859375 \r\nL 15.921875 2.546875 \r\nQ 14.453125 2.984375 12.890625 3.640625 \r\nQ 11.328125 4.296875 10.203125 5.171875 \r\nQ 8.9375 6.203125 8.15625 7.59375 \r\nQ 7.375 8.984375 7.375 11.03125 \r\nQ 7.375 13.625 9.203125 15.796875 \r\nQ 11.03125 17.96875 14.75 19.53125 \r\nL 14.75 20.265625 \r\nQ 10.0625 22.46875 7.46875 25.90625 \r\nQ 4.890625 29.34375 4.890625 33.890625 \r\nQ 4.890625 40.71875 9.984375 45.109375 \r\nQ 15.09375 49.515625 23.046875 49.515625 \r\nQ 25.25 49.515625 27.421875 49.078125 \r\nQ 29.59375 48.640625 31.84375 47.953125 \r\nL 48.640625 47.953125 \r\nL 48.640625 43.265625 \r\nL 37.3125 43.265625 \r\nL 37.3125 42.96875 \r\nQ 39.109375 40.875 39.984375 38.328125 \r\nQ 40.875 35.796875 40.875 33.34375 \r\nQ 40.875 27 35.71875 22.609375 \r\nQ 30.5625 18.21875 23.734375 18.21875 \r\nL 17.828125 18.21875 \r\nQ 16.703125 17.828125 15.484375 16.796875 \r\nQ 14.265625 15.765625 14.265625 14.015625 \r\nQ 14.265625 12.203125 15.28125 11.25 \r\nQ 16.3125 10.296875 17.78125 9.96875 \r\nQ 19.1875 9.578125 21.0625 9.46875 \r\nQ 22.953125 9.375 24.953125 9.328125 \r\nQ 27.09375 9.28125 30.828125 9.03125 \r\nQ 34.578125 8.796875 36.140625 8.734375 \r\nQ 38.375 8.640625 40.640625 7.65625 \r\nQ 42.921875 6.6875 44.78125 4.984375 \r\nz\r\nM 31.59375 33.546875 \r\nQ 31.59375 39.265625 29.265625 42.65625 \r\nQ 26.953125 46.046875 22.75 46.046875 \r\nQ 20.453125 46.046875 18.8125 45.09375 \r\nQ 17.1875 44.140625 16.15625 42.390625 \r\nQ 15.1875 40.765625 14.765625 38.5 \r\nQ 14.359375 36.234375 14.359375 33.84375 \r\nQ 14.359375 28.421875 16.71875 25 \r\nQ 19.09375 21.578125 22.859375 21.578125 \r\nQ 27.046875 21.578125 29.3125 24.96875 \r\nQ 31.59375 28.375 31.59375 33.546875 \r\nz\r\nM 40.96875 -6.84375 \r\nQ 40.96875 -4.109375 39.6875 -2.34375 \r\nQ 38.421875 -0.59375 35.84375 0.046875 \r\nQ 34.46875 0.25 30.21875 0.484375 \r\nQ 25.984375 0.734375 20.359375 0.734375 \r\nQ 15.09375 -0.296875 12.859375 -2.703125 \r\nQ 10.640625 -5.125 10.640625 -8.9375 \r\nQ 10.640625 -10.640625 11.375 -12.203125 \r\nQ 12.109375 -13.765625 13.921875 -15.09375 \r\nQ 15.625 -16.359375 18.5 -17.15625 \r\nQ 21.390625 -17.96875 25.53125 -17.96875 \r\nQ 32.71875 -17.96875 36.84375 -15.203125 \r\nQ 40.96875 -12.453125 40.96875 -6.84375 \r\nz\r\n\" id=\"Georgia-103\"/>\r\n       <path d=\"M 53.90625 32.28125 \r\nQ 56.9375 30.21875 58.9375 26.890625 \r\nQ 60.9375 23.578125 60.9375 18.84375 \r\nQ 60.9375 14.015625 58.828125 10.453125 \r\nQ 56.734375 6.890625 53.375 4.59375 \r\nQ 50.09375 2.34375 45.96875 1.171875 \r\nQ 41.84375 0 37.453125 0 \r\nL 4.640625 0 \r\nL 4.640625 3.46875 \r\nQ 5.8125 3.5625 8.046875 3.875 \r\nQ 10.296875 4.203125 11.28125 4.640625 \r\nQ 12.796875 5.328125 13.421875 6.46875 \r\nQ 14.0625 7.625 14.0625 9.421875 \r\nL 14.0625 59.234375 \r\nQ 14.0625 60.890625 13.5 62.15625 \r\nQ 12.9375 63.421875 11.28125 64.203125 \r\nQ 9.8125 64.9375 8 65.328125 \r\nQ 6.203125 65.71875 4.984375 65.828125 \r\nL 4.984375 69.28125 \r\nL 36.96875 69.28125 \r\nQ 40.671875 69.28125 44.0625 68.546875 \r\nQ 47.46875 67.828125 50.53125 65.96875 \r\nQ 53.421875 64.265625 55.265625 61.328125 \r\nQ 57.125 58.40625 57.125 54.203125 \r\nQ 57.125 50.53125 55.8125 47.671875 \r\nQ 54.5 44.828125 52.09375 42.78125 \r\nQ 49.859375 40.828125 46.953125 39.484375 \r\nQ 44.046875 38.140625 40.671875 37.40625 \r\nL 40.671875 36.96875 \r\nQ 43.65625 36.625 47.34375 35.46875 \r\nQ 51.03125 34.328125 53.90625 32.28125 \r\nz\r\nM 42.140625 42.71875 \r\nQ 43.953125 44.828125 44.65625 47.3125 \r\nQ 45.359375 49.8125 45.359375 53.21875 \r\nQ 45.359375 58.9375 42.234375 62.1875 \r\nQ 39.109375 65.4375 32.375 65.4375 \r\nQ 30.8125 65.4375 28.4375 65.359375 \r\nQ 26.078125 65.28125 24.46875 65.234375 \r\nL 24.46875 38.625 \r\nL 30.671875 38.625 \r\nQ 34.671875 38.625 37.515625 39.640625 \r\nQ 40.375 40.671875 42.140625 42.71875 \r\nz\r\nM 48.875 20.609375 \r\nQ 48.875 26.765625 44.75 30.71875 \r\nQ 40.625 34.671875 32.953125 34.671875 \r\nQ 29.828125 34.671875 27.671875 34.59375 \r\nQ 25.53125 34.515625 24.46875 34.46875 \r\nL 24.46875 10.0625 \r\nQ 24.46875 6.984375 26.953125 5.421875 \r\nQ 29.4375 3.859375 33.890625 3.859375 \r\nQ 41.15625 3.859375 45.015625 8.109375 \r\nQ 48.875 12.359375 48.875 20.609375 \r\nz\r\n\" id=\"Georgia-66\"/>\r\n      </defs>\r\n      <use xlink:href=\"#Georgia-77\"/>\r\n      <use x=\"92.724609\" xlink:href=\"#Georgia-101\"/>\r\n      <use x=\"141.064453\" xlink:href=\"#Georgia-109\"/>\r\n      <use x=\"229.150391\" xlink:href=\"#Georgia-111\"/>\r\n      <use x=\"283.056641\" xlink:href=\"#Georgia-114\"/>\r\n      <use x=\"324.023438\" xlink:href=\"#Georgia-121\"/>\r\n      <use x=\"373.242188\" xlink:href=\"#Georgia-32\"/>\r\n      <use x=\"397.363281\" xlink:href=\"#Georgia-67\"/>\r\n      <use x=\"461.572266\" xlink:href=\"#Georgia-104\"/>\r\n      <use x=\"519.775391\" xlink:href=\"#Georgia-97\"/>\r\n      <use x=\"570.166016\" xlink:href=\"#Georgia-110\"/>\r\n      <use x=\"629.248047\" xlink:href=\"#Georgia-103\"/>\r\n      <use x=\"680.175781\" xlink:href=\"#Georgia-101\"/>\r\n      <use x=\"728.515625\" xlink:href=\"#Georgia-32\"/>\r\n      <use x=\"752.636719\" xlink:href=\"#Georgia-40\"/>\r\n      <use x=\"790.136719\" xlink:href=\"#Georgia-77\"/>\r\n      <use x=\"882.861328\" xlink:href=\"#Georgia-105\"/>\r\n      <use x=\"912.158203\" xlink:href=\"#Georgia-66\"/>\r\n      <use x=\"977.539062\" xlink:href=\"#Georgia-41\"/>\r\n     </g>\r\n    </g>\r\n   </g>\r\n   <g id=\"line2d_76\">\r\n    <path clip-path=\"url(#p559ff68d91)\" d=\"M 104.615388 333.36 \r\nL 104.615388 22.731429 \r\n\" style=\"fill:none;stroke:#000000;stroke-dasharray:5.55,2.4;stroke-dashoffset:0;stroke-width:1.5;\"/>\r\n   </g>\r\n   <g id=\"line2d_77\">\r\n    <path clip-path=\"url(#p559ff68d91)\" d=\"M 715.486067 333.36 \r\nL 715.486067 22.731429 \r\n\" style=\"fill:none;stroke:#000000;stroke-dasharray:5.55,2.4;stroke-dashoffset:0;stroke-width:1.5;\"/>\r\n   </g>\r\n   <g id=\"patch_117\">\r\n    <path d=\"M 52.530625 333.36 \r\nL 52.530625 7.2 \r\n\" style=\"fill:none;stroke:#000000;stroke-linecap:square;stroke-linejoin:miter;stroke-width:0.8;\"/>\r\n   </g>\r\n   <g id=\"patch_118\">\r\n    <path d=\"M 1056.930625 333.36 \r\nL 1056.930625 7.2 \r\n\" style=\"fill:none;stroke:#000000;stroke-linecap:square;stroke-linejoin:miter;stroke-width:0.8;\"/>\r\n   </g>\r\n   <g id=\"patch_119\">\r\n    <path d=\"M 52.530625 333.36 \r\nL 1056.930625 333.36 \r\n\" style=\"fill:none;stroke:#000000;stroke-linecap:square;stroke-linejoin:miter;stroke-width:0.8;\"/>\r\n   </g>\r\n   <g id=\"patch_120\">\r\n    <path d=\"M 52.530625 7.2 \r\nL 1056.930625 7.2 \r\n\" style=\"fill:none;stroke:#000000;stroke-linecap:square;stroke-linejoin:miter;stroke-width:0.8;\"/>\r\n   </g>\r\n   <g id=\"text_28\">\r\n    <g id=\"patch_121\">\r\n     <path d=\"M 115.485076 192.543371 \r\nL 115.485076 163.548058 \r\nL 93.745701 163.548058 \r\nL 93.745701 192.543371 \r\nz\r\n\" style=\"fill:#ffffff;stroke:#000000;stroke-linejoin:miter;\"/>\r\n    </g>\r\n    <!-- fun -->\r\n    <g transform=\"translate(108.388826 188.483371)rotate(-90)scale(0.14 -0.14)\">\r\n     <defs>\r\n      <path d=\"M 39.359375 69.78125 \r\nQ 39.359375 67.578125 38.1875 66.0625 \r\nQ 37.015625 64.546875 34.625 64.546875 \r\nQ 33.109375 64.546875 31.953125 65.1875 \r\nQ 30.8125 65.828125 29.828125 66.890625 \r\nQ 28.859375 67.96875 28.03125 69.328125 \r\nQ 27.203125 70.703125 26.609375 71.53125 \r\nQ 23.34375 71.390625 21.5625 66.96875 \r\nQ 19.78125 62.546875 19.78125 52.875 \r\nL 19.78125 47.953125 \r\nL 32.171875 47.953125 \r\nL 32.171875 43.265625 \r\nL 19.78125 43.265625 \r\nL 19.78125 8.6875 \r\nQ 19.78125 6.984375 20.4375 5.90625 \r\nQ 21.09375 4.828125 22.515625 4.296875 \r\nQ 23.6875 3.859375 25.640625 3.59375 \r\nQ 27.59375 3.328125 29 3.21875 \r\nL 29 0 \r\nL 3.609375 0 \r\nL 3.609375 3.21875 \r\nQ 4.734375 3.328125 5.921875 3.421875 \r\nQ 7.125 3.515625 8.015625 3.8125 \r\nQ 9.375 4.25 10.03125 5.34375 \r\nQ 10.6875 6.453125 10.6875 8.203125 \r\nL 10.6875 43.265625 \r\nL 1.171875 43.265625 \r\nL 1.171875 47.953125 \r\nL 10.6875 47.953125 \r\nL 10.6875 51.03125 \r\nQ 10.6875 62.015625 16.375 68.828125 \r\nQ 22.078125 75.640625 30.609375 75.640625 \r\nQ 34.96875 75.640625 37.15625 73.921875 \r\nQ 39.359375 72.21875 39.359375 69.78125 \r\nz\r\n\" id=\"Georgia-102\"/>\r\n      <path d=\"M 55.125 0.875 \r\nL 39.453125 -0.203125 \r\nL 38.71875 0.484375 \r\nL 38.71875 6.59375 \r\nL 38.421875 6.59375 \r\nQ 37.25 5.375 35.78125 3.984375 \r\nQ 34.328125 2.59375 32.421875 1.46875 \r\nQ 30.21875 0.140625 28.171875 -0.53125 \r\nQ 26.125 -1.21875 22.359375 -1.21875 \r\nQ 15.96875 -1.21875 12.625 2.953125 \r\nQ 9.28125 7.125 9.28125 15.09375 \r\nL 9.28125 38.140625 \r\nQ 9.28125 39.890625 8.609375 41.078125 \r\nQ 7.953125 42.28125 6.6875 43.171875 \r\nQ 5.8125 43.75 4.484375 44.015625 \r\nQ 3.171875 44.28125 1.703125 44.390625 \r\nL 1.703125 47.5625 \r\nL 17.78125 48.734375 \r\nL 18.5 48.046875 \r\nL 18.5 14.59375 \r\nQ 18.5 9.375 20.84375 6.734375 \r\nQ 23.1875 4.109375 26.46875 4.109375 \r\nQ 29.15625 4.109375 31.25 4.9375 \r\nQ 33.34375 5.765625 34.765625 6.890625 \r\nQ 36.078125 7.90625 37.078125 9.046875 \r\nQ 38.09375 10.203125 38.625 11.1875 \r\nL 38.625 38.484375 \r\nQ 38.625 40.09375 37.9375 41.328125 \r\nQ 37.25 42.578125 36.03125 43.453125 \r\nQ 35.15625 44.046875 33.421875 44.15625 \r\nQ 31.6875 44.28125 29.546875 44.390625 \r\nL 29.546875 47.5625 \r\nL 47.015625 48.734375 \r\nL 47.75 48.046875 \r\nL 47.75 9.8125 \r\nQ 47.75 8.15625 48.4375 6.984375 \r\nQ 49.125 5.8125 50.34375 4.984375 \r\nQ 51.21875 4.4375 52.4375 4.265625 \r\nQ 53.65625 4.109375 55.125 4.046875 \r\nz\r\n\" id=\"Georgia-117\"/>\r\n     </defs>\r\n     <use xlink:href=\"#Georgia-102\"/>\r\n     <use x=\"32.519531\" xlink:href=\"#Georgia-117\"/>\r\n     <use x=\"90.039062\" xlink:href=\"#Georgia-110\"/>\r\n    </g>\r\n   </g>\r\n   <g id=\"text_29\">\r\n    <g id=\"patch_122\">\r\n     <path d=\"M 726.355754 230.950402 \r\nL 726.355754 125.141027 \r\nL 704.616379 125.141027 \r\nL 704.616379 230.950402 \r\nz\r\n\" style=\"fill:#ffffff;stroke:#000000;stroke-linejoin:miter;\"/>\r\n    </g>\r\n    <!-- make_randoms -->\r\n    <g transform=\"translate(719.259504 226.890402)rotate(-90)scale(0.14 -0.14)\">\r\n     <defs>\r\n      <path d=\"M 54.546875 0 \r\nL 39.984375 0 \r\nQ 36.1875 5.515625 31.828125 11.8125 \r\nQ 27.484375 18.109375 22.796875 24.078125 \r\nL 18.796875 20.3125 \r\nL 18.796875 8.890625 \r\nQ 18.796875 7.125 19.421875 5.96875 \r\nQ 20.0625 4.828125 21.484375 4.296875 \r\nQ 22.65625 3.8125 23.734375 3.5625 \r\nQ 24.8125 3.328125 26.21875 3.21875 \r\nL 26.21875 0 \r\nL 2.59375 0 \r\nL 2.59375 3.21875 \r\nQ 3.71875 3.328125 4.9375 3.4375 \r\nQ 6.15625 3.5625 6.984375 3.8125 \r\nQ 8.34375 4.25 9.03125 5.34375 \r\nQ 9.71875 6.453125 9.71875 8.203125 \r\nL 9.71875 64.15625 \r\nQ 9.71875 65.96875 8.953125 67.546875 \r\nQ 8.203125 69.140625 6.984375 69.96875 \r\nQ 5.953125 70.75 3.78125 70.984375 \r\nQ 1.609375 71.234375 0.296875 71.34375 \r\nL 0.296875 74.46875 \r\nL 18.109375 75.59375 \r\nL 18.796875 74.859375 \r\nL 18.796875 23.921875 \r\nQ 22.609375 27.734375 27.03125 32.09375 \r\nQ 31.453125 36.46875 34.46875 39.890625 \r\nQ 34.859375 40.328125 35.328125 41.03125 \r\nQ 35.796875 41.75 35.796875 42.1875 \r\nQ 35.796875 43.5 33.671875 44.140625 \r\nQ 31.546875 44.78125 29.59375 45.015625 \r\nL 29.59375 48.140625 \r\nL 50.78125 48.140625 \r\nL 50.78125 45.125 \r\nQ 46.6875 43.890625 43.53125 42.0625 \r\nQ 40.375 40.234375 38.71875 38.765625 \r\nQ 37.546875 37.796875 35.390625 35.59375 \r\nQ 33.25 33.40625 29.390625 29.828125 \r\nQ 33.40625 24.90625 38.40625 18.015625 \r\nQ 43.40625 11.140625 45.703125 8.0625 \r\nQ 47.859375 5.171875 49.5625 4.296875 \r\nQ 51.265625 3.421875 54.546875 3.21875 \r\nz\r\n\" id=\"Georgia-107\"/>\r\n      <path d=\"M 64.546875 -13.765625 \r\nL -0.25 -13.765625 \r\nL -0.25 -8.84375 \r\nL 64.546875 -8.84375 \r\nz\r\n\" id=\"Georgia-95\"/>\r\n      <path d=\"M 56.25 0.875 \r\nL 39.453125 -0.203125 \r\nL 38.71875 0.484375 \r\nL 38.71875 4.984375 \r\nL 38.328125 5.078125 \r\nQ 35.796875 2.25 32.0625 0.4375 \r\nQ 28.328125 -1.375 24.359375 -1.375 \r\nQ 20.265625 -1.375 16.421875 0.453125 \r\nQ 12.59375 2.296875 9.765625 5.609375 \r\nQ 6.890625 8.984375 5.203125 13.71875 \r\nQ 3.515625 18.453125 3.515625 24.171875 \r\nQ 3.515625 29.390625 5.3125 34.078125 \r\nQ 7.125 38.765625 10.296875 42.28125 \r\nQ 13.28125 45.5625 17.59375 47.515625 \r\nQ 21.921875 49.46875 26.421875 49.46875 \r\nQ 29.78125 49.46875 33.03125 48.609375 \r\nQ 36.28125 47.75 38.625 46.4375 \r\nL 38.625 63.1875 \r\nQ 38.625 65.234375 37.9375 66.921875 \r\nQ 37.25 68.609375 36.03125 69.484375 \r\nQ 34.671875 70.40625 32.34375 70.8125 \r\nQ 30.03125 71.234375 27.34375 71.4375 \r\nL 27.34375 74.46875 \r\nL 47.015625 75.59375 \r\nL 47.75 74.859375 \r\nL 47.75 9.90625 \r\nQ 47.75 8.203125 48.40625 7 \r\nQ 49.078125 5.8125 50.34375 4.984375 \r\nQ 51.265625 4.390625 53.015625 4.25 \r\nQ 54.78125 4.109375 56.25 4.046875 \r\nz\r\nM 38.625 9.328125 \r\nL 38.625 37.5 \r\nQ 38.234375 38.765625 37.34375 40.234375 \r\nQ 36.46875 41.703125 35.15625 42.921875 \r\nQ 33.734375 44.140625 31.828125 44.9375 \r\nQ 29.9375 45.75 27.390625 45.75 \r\nQ 24.46875 45.75 22 44.234375 \r\nQ 19.53125 42.71875 17.625 39.890625 \r\nQ 15.828125 37.15625 14.765625 32.9375 \r\nQ 13.71875 28.71875 13.71875 23.578125 \r\nQ 13.71875 19.484375 14.5 16.140625 \r\nQ 15.28125 12.796875 17.140625 9.90625 \r\nQ 18.84375 7.171875 21.5 5.515625 \r\nQ 24.171875 3.859375 27.828125 3.859375 \r\nQ 31.734375 3.859375 34.296875 5.5625 \r\nQ 36.859375 7.28125 38.625 9.328125 \r\nz\r\n\" id=\"Georgia-100\"/>\r\n     </defs>\r\n     <use xlink:href=\"#Georgia-109\"/>\r\n     <use x=\"88.085938\" xlink:href=\"#Georgia-97\"/>\r\n     <use x=\"138.476562\" xlink:href=\"#Georgia-107\"/>\r\n     <use x=\"192.041016\" xlink:href=\"#Georgia-101\"/>\r\n     <use x=\"240.380859\" xlink:href=\"#Georgia-95\"/>\r\n     <use x=\"304.6875\" xlink:href=\"#Georgia-114\"/>\r\n     <use x=\"345.654297\" xlink:href=\"#Georgia-97\"/>\r\n     <use x=\"396.044922\" xlink:href=\"#Georgia-110\"/>\r\n     <use x=\"455.126953\" xlink:href=\"#Georgia-100\"/>\r\n     <use x=\"512.548828\" xlink:href=\"#Georgia-111\"/>\r\n     <use x=\"566.455078\" xlink:href=\"#Georgia-109\"/>\r\n     <use x=\"654.541016\" xlink:href=\"#Georgia-115\"/>\r\n    </g>\r\n   </g>\r\n  </g>\r\n </g>\r\n <defs>\r\n  <clipPath id=\"p559ff68d91\">\r\n   <rect height=\"326.16\" width=\"1004.4\" x=\"52.530625\" y=\"7.2\"/>\r\n  </clipPath>\r\n </defs>\r\n</svg>\r\n",
      "image/png": "[encoded data removed]"
     },
     "metadata": {
      "needs_background": "light"
     }
    },
    {
     "output_type": "display_data",
     "data": {
      "text/plain": "<Figure size 1296x432 with 2 Axes>",
      "image/svg+xml": "<?xml version=\"1.0\" encoding=\"utf-8\" standalone=\"no\"?>\r\n<!DOCTYPE svg PUBLIC \"-//W3C//DTD SVG 1.1//EN\"\r\n  \"http://www.w3.org/Graphics/SVG/1.1/DTD/svg11.dtd\">\r\n<!-- Created with matplotlib (https://matplotlib.org/) -->\r\n<svg height=\"373.303125pt\" version=\"1.1\" viewBox=\"0 0 1099.920625 373.303125\" width=\"1099.920625pt\" xmlns=\"http://www.w3.org/2000/svg\" xmlns:xlink=\"http://www.w3.org/1999/xlink\">\r\n <metadata>\r\n  <rdf:RDF xmlns:cc=\"http://creativecommons.org/ns#\" xmlns:dc=\"http://purl.org/dc/elements/1.1/\" xmlns:rdf=\"http://www.w3.org/1999/02/22-rdf-syntax-ns#\">\r\n   <cc:Work>\r\n    <dc:type rdf:resource=\"http://purl.org/dc/dcmitype/StillImage\"/>\r\n    <dc:date>2021-06-28T12:07:55.798226</dc:date>\r\n    <dc:format>image/svg+xml</dc:format>\r\n    <dc:creator>\r\n     <cc:Agent>\r\n      <dc:title>Matplotlib v3.3.2, https://matplotlib.org/</dc:title>\r\n     </cc:Agent>\r\n    </dc:creator>\r\n   </cc:Work>\r\n  </rdf:RDF>\r\n </metadata>\r\n <defs>\r\n  <style type=\"text/css\">*{stroke-linecap:butt;stroke-linejoin:round;}</style>\r\n </defs>\r\n <g id=\"figure_1\">\r\n  <g id=\"patch_1\">\r\n   <path d=\"M 0 373.303125 \r\nL 1099.920625 373.303125 \r\nL 1099.920625 0 \r\nL 0 0 \r\nz\r\n\" style=\"fill:none;\"/>\r\n  </g>\r\n  <g id=\"axes_1\">\r\n   <g id=\"patch_2\">\r\n    <path d=\"M 52.530625 333.36 \r\nL 1056.930625 333.36 \r\nL 1056.930625 7.2 \r\nL 52.530625 7.2 \r\nz\r\n\" style=\"fill:#ffffff;\"/>\r\n   </g>\r\n   <g id=\"patch_3\">\r\n    <path clip-path=\"url(#p46f3dca36e)\" d=\"M 98.18517 333.36 \r\nL 205.60763 333.36 \r\nL 205.60763 333.36 \r\nL 98.18517 333.36 \r\nz\r\n\" style=\"fill:#ff0000;fill-opacity:0.3;stroke:#ff0000;stroke-linejoin:miter;\"/>\r\n   </g>\r\n   <g id=\"patch_4\">\r\n    <path clip-path=\"url(#p46f3dca36e)\" d=\"M 232.463245 333.36 \r\nL 339.885705 333.36 \r\nL 339.885705 333.36 \r\nL 232.463245 333.36 \r\nz\r\n\" style=\"fill:#ff0000;fill-opacity:0.3;stroke:#ff0000;stroke-linejoin:miter;\"/>\r\n   </g>\r\n   <g id=\"patch_5\">\r\n    <path clip-path=\"url(#p46f3dca36e)\" d=\"M 366.74132 333.36 \r\nL 474.16378 333.36 \r\nL 474.16378 333.183268 \r\nL 366.74132 333.183268 \r\nz\r\n\" style=\"fill:#ff0000;fill-opacity:0.3;stroke:#ff0000;stroke-linejoin:miter;\"/>\r\n   </g>\r\n   <g id=\"patch_6\">\r\n    <path clip-path=\"url(#p46f3dca36e)\" d=\"M 501.019395 333.36 \r\nL 608.441855 333.36 \r\nL 608.441855 22.731429 \r\nL 501.019395 22.731429 \r\nz\r\n\" style=\"fill:#ff0000;fill-opacity:0.3;stroke:#ff0000;stroke-linejoin:miter;\"/>\r\n   </g>\r\n   <g id=\"patch_7\">\r\n    <path clip-path=\"url(#p46f3dca36e)\" d=\"M 635.29747 333.36 \r\nL 742.71993 333.36 \r\nL 742.71993 333.175166 \r\nL 635.29747 333.175166 \r\nz\r\n\" style=\"fill:#ff0000;fill-opacity:0.3;stroke:#ff0000;stroke-linejoin:miter;\"/>\r\n   </g>\r\n   <g id=\"patch_8\">\r\n    <path clip-path=\"url(#p46f3dca36e)\" d=\"M 769.575545 333.36 \r\nL 876.998005 333.36 \r\nL 876.998005 333.36 \r\nL 769.575545 333.36 \r\nz\r\n\" style=\"fill:#ff0000;fill-opacity:0.3;stroke:#ff0000;stroke-linejoin:miter;\"/>\r\n   </g>\r\n   <g id=\"patch_9\">\r\n    <path clip-path=\"url(#p46f3dca36e)\" d=\"M 903.85362 333.36 \r\nL 1011.27608 333.36 \r\nL 1011.27608 329.404548 \r\nL 903.85362 329.404548 \r\nz\r\n\" style=\"fill:#ff0000;fill-opacity:0.3;stroke:#ff0000;stroke-linejoin:miter;\"/>\r\n   </g>\r\n   <g id=\"matplotlib.axis_1\">\r\n    <g id=\"xtick_1\">\r\n     <g id=\"line2d_1\">\r\n      <defs>\r\n       <path d=\"M 0 0 \r\nL 0 -3.5 \r\n\" id=\"m282b3d3189\" style=\"stroke:#000000;stroke-width:0.8;\"/>\r\n      </defs>\r\n      <g>\r\n       <use style=\"stroke:#000000;stroke-width:0.8;\" x=\"286.174475\" xlink:href=\"#m282b3d3189\" y=\"333.36\"/>\r\n      </g>\r\n     </g>\r\n     <g id=\"text_1\">\r\n      <!-- 5 -->\r\n      <g transform=\"translate(282.993225 344.458437)scale(0.1 -0.1)\">\r\n       <defs>\r\n        <path d=\"M 10.796875 72.90625 \r\nL 49.515625 72.90625 \r\nL 49.515625 64.59375 \r\nL 19.828125 64.59375 \r\nL 19.828125 46.734375 \r\nQ 21.96875 47.46875 24.109375 47.828125 \r\nQ 26.265625 48.1875 28.421875 48.1875 \r\nQ 40.625 48.1875 47.75 41.5 \r\nQ 54.890625 34.8125 54.890625 23.390625 \r\nQ 54.890625 11.625 47.5625 5.09375 \r\nQ 40.234375 -1.421875 26.90625 -1.421875 \r\nQ 22.3125 -1.421875 17.546875 -0.640625 \r\nQ 12.796875 0.140625 7.71875 1.703125 \r\nL 7.71875 11.625 \r\nQ 12.109375 9.234375 16.796875 8.0625 \r\nQ 21.484375 6.890625 26.703125 6.890625 \r\nQ 35.15625 6.890625 40.078125 11.328125 \r\nQ 45.015625 15.765625 45.015625 23.390625 \r\nQ 45.015625 31 40.078125 35.4375 \r\nQ 35.15625 39.890625 26.703125 39.890625 \r\nQ 22.75 39.890625 18.8125 39.015625 \r\nQ 14.890625 38.140625 10.796875 36.28125 \r\nz\r\n\" id=\"DejaVuSans-53\"/>\r\n       </defs>\r\n       <use xlink:href=\"#DejaVuSans-53\"/>\r\n      </g>\r\n     </g>\r\n    </g>\r\n    <g id=\"xtick_2\">\r\n     <g id=\"line2d_2\">\r\n      <g>\r\n       <use style=\"stroke:#000000;stroke-width:0.8;\" x=\"957.56485\" xlink:href=\"#m282b3d3189\" y=\"333.36\"/>\r\n      </g>\r\n     </g>\r\n     <g id=\"text_2\">\r\n      <!-- 10 -->\r\n      <g transform=\"translate(951.20235 344.458437)scale(0.1 -0.1)\">\r\n       <defs>\r\n        <path d=\"M 12.40625 8.296875 \r\nL 28.515625 8.296875 \r\nL 28.515625 63.921875 \r\nL 10.984375 60.40625 \r\nL 10.984375 69.390625 \r\nL 28.421875 72.90625 \r\nL 38.28125 72.90625 \r\nL 38.28125 8.296875 \r\nL 54.390625 8.296875 \r\nL 54.390625 0 \r\nL 12.40625 0 \r\nz\r\n\" id=\"DejaVuSans-49\"/>\r\n        <path d=\"M 31.78125 66.40625 \r\nQ 24.171875 66.40625 20.328125 58.90625 \r\nQ 16.5 51.421875 16.5 36.375 \r\nQ 16.5 21.390625 20.328125 13.890625 \r\nQ 24.171875 6.390625 31.78125 6.390625 \r\nQ 39.453125 6.390625 43.28125 13.890625 \r\nQ 47.125 21.390625 47.125 36.375 \r\nQ 47.125 51.421875 43.28125 58.90625 \r\nQ 39.453125 66.40625 31.78125 66.40625 \r\nz\r\nM 31.78125 74.21875 \r\nQ 44.046875 74.21875 50.515625 64.515625 \r\nQ 56.984375 54.828125 56.984375 36.375 \r\nQ 56.984375 17.96875 50.515625 8.265625 \r\nQ 44.046875 -1.421875 31.78125 -1.421875 \r\nQ 19.53125 -1.421875 13.0625 8.265625 \r\nQ 6.59375 17.96875 6.59375 36.375 \r\nQ 6.59375 54.828125 13.0625 64.515625 \r\nQ 19.53125 74.21875 31.78125 74.21875 \r\nz\r\n\" id=\"DejaVuSans-48\"/>\r\n       </defs>\r\n       <use xlink:href=\"#DejaVuSans-49\"/>\r\n       <use x=\"63.623047\" xlink:href=\"#DejaVuSans-48\"/>\r\n      </g>\r\n     </g>\r\n    </g>\r\n    <g id=\"xtick_3\">\r\n     <g id=\"line2d_3\">\r\n      <defs>\r\n       <path d=\"M 0 0 \r\nL 0 -2 \r\n\" id=\"md44326e399\" style=\"stroke:#000000;stroke-width:0.6;\"/>\r\n      </defs>\r\n      <g>\r\n       <use style=\"stroke:#000000;stroke-width:0.6;\" x=\"151.8964\" xlink:href=\"#md44326e399\" y=\"333.36\"/>\r\n      </g>\r\n     </g>\r\n    </g>\r\n    <g id=\"xtick_4\">\r\n     <g id=\"line2d_4\">\r\n      <g>\r\n       <use style=\"stroke:#000000;stroke-width:0.6;\" x=\"420.45255\" xlink:href=\"#md44326e399\" y=\"333.36\"/>\r\n      </g>\r\n     </g>\r\n    </g>\r\n    <g id=\"xtick_5\">\r\n     <g id=\"line2d_5\">\r\n      <g>\r\n       <use style=\"stroke:#000000;stroke-width:0.6;\" x=\"554.730625\" xlink:href=\"#md44326e399\" y=\"333.36\"/>\r\n      </g>\r\n     </g>\r\n    </g>\r\n    <g id=\"xtick_6\">\r\n     <g id=\"line2d_6\">\r\n      <g>\r\n       <use style=\"stroke:#000000;stroke-width:0.6;\" x=\"689.0087\" xlink:href=\"#md44326e399\" y=\"333.36\"/>\r\n      </g>\r\n     </g>\r\n    </g>\r\n    <g id=\"xtick_7\">\r\n     <g id=\"line2d_7\">\r\n      <g>\r\n       <use style=\"stroke:#000000;stroke-width:0.6;\" x=\"823.286775\" xlink:href=\"#md44326e399\" y=\"333.36\"/>\r\n      </g>\r\n     </g>\r\n    </g>\r\n    <g id=\"text_3\">\r\n     <!-- Line # -->\r\n     <g transform=\"translate(531.889375 362.633125)scale(0.16 -0.16)\">\r\n      <defs>\r\n       <path d=\"M 60.40625 20.609375 \r\nL 58.9375 0 \r\nL 4.78125 0 \r\nL 4.78125 3.46875 \r\nQ 5.953125 3.5625 8.171875 3.796875 \r\nQ 10.40625 4.046875 11.28125 4.4375 \r\nQ 12.75 5.078125 13.40625 6.296875 \r\nQ 14.0625 7.515625 14.0625 9.421875 \r\nL 14.0625 59.03125 \r\nQ 14.0625 60.6875 13.5 61.953125 \r\nQ 12.9375 63.234375 11.28125 64.015625 \r\nQ 10.15625 64.59375 8.125 65.15625 \r\nQ 6.109375 65.71875 4.78125 65.828125 \r\nL 4.78125 69.28125 \r\nL 34.03125 69.28125 \r\nL 34.03125 65.828125 \r\nQ 32.671875 65.765625 30.5 65.328125 \r\nQ 28.328125 64.890625 27.34375 64.546875 \r\nQ 25.6875 63.96875 25.078125 62.546875 \r\nQ 24.46875 61.140625 24.46875 59.515625 \r\nL 24.46875 12.984375 \r\nQ 24.46875 9.765625 24.78125 7.984375 \r\nQ 25.09375 6.203125 26.265625 5.21875 \r\nQ 27.390625 4.34375 29.609375 4.078125 \r\nQ 31.84375 3.8125 35.84375 3.8125 \r\nQ 37.640625 3.8125 39.59375 3.90625 \r\nQ 41.546875 4 43.3125 4.296875 \r\nQ 45.015625 4.59375 46.453125 5.09375 \r\nQ 47.90625 5.609375 48.578125 6.390625 \r\nQ 50.59375 8.640625 53.25 13.203125 \r\nQ 55.90625 17.78125 56.9375 20.609375 \r\nz\r\n\" id=\"Georgia-76\"/>\r\n       <path d=\"M 26.90625 0 \r\nL 3.609375 0 \r\nL 3.609375 3.21875 \r\nQ 4.734375 3.328125 5.921875 3.421875 \r\nQ 7.125 3.515625 8.015625 3.8125 \r\nQ 9.375 4.25 10.03125 5.34375 \r\nQ 10.6875 6.453125 10.6875 8.203125 \r\nL 10.6875 37.9375 \r\nQ 10.6875 39.5 9.984375 40.796875 \r\nQ 9.28125 42.09375 8.015625 42.96875 \r\nQ 7.078125 43.5625 5.3125 43.96875 \r\nQ 3.5625 44.390625 2.09375 44.484375 \r\nL 2.09375 47.65625 \r\nL 19.09375 48.734375 \r\nL 19.78125 48.046875 \r\nL 19.78125 8.796875 \r\nQ 19.78125 7.078125 20.4375 5.953125 \r\nQ 21.09375 4.828125 22.515625 4.296875 \r\nQ 23.578125 3.859375 24.609375 3.59375 \r\nQ 25.640625 3.328125 26.90625 3.21875 \r\nz\r\nM 20.75 67.71875 \r\nQ 20.75 64.9375 18.921875 62.859375 \r\nQ 17.09375 60.796875 14.40625 60.796875 \r\nQ 11.921875 60.796875 10.078125 62.765625 \r\nQ 8.25 64.75 8.25 67.28125 \r\nQ 8.25 69.96875 10.078125 71.96875 \r\nQ 11.921875 73.96875 14.40625 73.96875 \r\nQ 17.1875 73.96875 18.96875 72.09375 \r\nQ 20.75 70.21875 20.75 67.71875 \r\nz\r\n\" id=\"Georgia-105\"/>\r\n       <path d=\"M 56.6875 0 \r\nL 33.109375 0 \r\nL 33.109375 3.21875 \r\nQ 34.234375 3.328125 35.578125 3.421875 \r\nQ 36.921875 3.515625 37.796875 3.8125 \r\nQ 39.15625 4.25 39.8125 5.34375 \r\nQ 40.484375 6.453125 40.484375 8.203125 \r\nL 40.484375 32.953125 \r\nQ 40.484375 38.09375 38.0625 40.875 \r\nQ 35.640625 43.65625 32.171875 43.65625 \r\nQ 29.59375 43.65625 27.4375 42.84375 \r\nQ 25.296875 42.046875 23.640625 40.875 \r\nQ 22.015625 39.75 21.0625 38.453125 \r\nQ 20.125 37.15625 19.671875 36.375 \r\nL 19.671875 8.6875 \r\nQ 19.671875 7.03125 20.359375 5.953125 \r\nQ 21.046875 4.890625 22.40625 4.296875 \r\nQ 23.4375 3.8125 24.625 3.5625 \r\nQ 25.828125 3.328125 27.09375 3.21875 \r\nL 27.09375 0 \r\nL 3.515625 0 \r\nL 3.515625 3.21875 \r\nQ 4.640625 3.328125 5.828125 3.421875 \r\nQ 7.03125 3.515625 7.90625 3.8125 \r\nQ 9.28125 4.25 9.9375 5.34375 \r\nQ 10.59375 6.453125 10.59375 8.203125 \r\nL 10.59375 37.9375 \r\nQ 10.59375 39.59375 9.890625 40.984375 \r\nQ 9.1875 42.390625 7.90625 43.265625 \r\nQ 6.984375 43.84375 5.703125 44.109375 \r\nQ 4.4375 44.390625 2.984375 44.484375 \r\nL 2.984375 47.65625 \r\nL 19 48.734375 \r\nL 19.671875 48.046875 \r\nL 19.671875 41.265625 \r\nL 19.921875 41.265625 \r\nQ 21.09375 42.4375 22.84375 44.0625 \r\nQ 24.609375 45.703125 26.171875 46.734375 \r\nQ 27.984375 47.90625 30.46875 48.6875 \r\nQ 32.953125 49.46875 36.078125 49.46875 \r\nQ 43.015625 49.46875 46.359375 45.140625 \r\nQ 49.703125 40.828125 49.703125 33.640625 \r\nL 49.703125 8.59375 \r\nQ 49.703125 6.890625 50.28125 5.828125 \r\nQ 50.875 4.78125 52.296875 4.203125 \r\nQ 53.46875 3.71875 54.3125 3.515625 \r\nQ 55.171875 3.328125 56.6875 3.21875 \r\nz\r\n\" id=\"Georgia-110\"/>\r\n       <path d=\"M 46.296875 11.328125 \r\nQ 43.265625 5.5625 38.1875 2.140625 \r\nQ 33.109375 -1.265625 26.515625 -1.265625 \r\nQ 20.703125 -1.265625 16.328125 0.78125 \r\nQ 11.96875 2.828125 9.125 6.34375 \r\nQ 6.296875 9.859375 4.90625 14.546875 \r\nQ 3.515625 19.234375 3.515625 24.46875 \r\nQ 3.515625 29.15625 5 33.671875 \r\nQ 6.5 38.1875 9.375 41.796875 \r\nQ 12.15625 45.265625 16.28125 47.390625 \r\nQ 20.40625 49.515625 25.53125 49.515625 \r\nQ 30.8125 49.515625 34.5625 47.84375 \r\nQ 38.328125 46.1875 40.671875 43.3125 \r\nQ 42.921875 40.578125 44.015625 36.859375 \r\nQ 45.125 33.15625 45.125 28.8125 \r\nL 45.125 25.59375 \r\nL 13.234375 25.59375 \r\nQ 13.234375 20.84375 14.140625 16.984375 \r\nQ 15.046875 13.140625 17 10.203125 \r\nQ 18.890625 7.375 21.96875 5.734375 \r\nQ 25.046875 4.109375 29.296875 4.109375 \r\nQ 33.640625 4.109375 36.78125 6.125 \r\nQ 39.9375 8.15625 42.875 13.421875 \r\nz\r\nM 35.5 29.6875 \r\nQ 35.5 32.421875 35.03125 35.546875 \r\nQ 34.578125 38.671875 33.546875 40.765625 \r\nQ 32.421875 43.015625 30.46875 44.421875 \r\nQ 28.515625 45.84375 25.4375 45.84375 \r\nQ 20.3125 45.84375 16.921875 41.578125 \r\nQ 13.53125 37.3125 13.234375 29.6875 \r\nz\r\n\" id=\"Georgia-101\"/>\r\n       <path id=\"Georgia-32\"/>\r\n       <path d=\"M 56.78125 36.375 \r\nL 44.625 36.375 \r\nL 41.109375 24.125 \r\nL 53.859375 24.125 \r\nL 53.859375 18.109375 \r\nL 39.40625 18.109375 \r\nL 34.1875 0 \r\nL 28.765625 0 \r\nL 33.984375 18.109375 \r\nL 23.390625 18.109375 \r\nL 18.171875 0 \r\nL 12.75 0 \r\nL 17.96875 18.109375 \r\nL 7.515625 18.109375 \r\nL 7.515625 24.125 \r\nL 19.671875 24.125 \r\nL 23.25 36.375 \r\nL 10.453125 36.375 \r\nL 10.453125 42.390625 \r\nL 24.90625 42.390625 \r\nL 30.03125 60.0625 \r\nL 35.453125 60.0625 \r\nL 30.328125 42.390625 \r\nL 40.921875 42.390625 \r\nL 46.046875 60.0625 \r\nL 51.46875 60.0625 \r\nL 46.34375 42.390625 \r\nL 56.78125 42.390625 \r\nz\r\nM 39.40625 36.46875 \r\nL 28.5625 36.46875 \r\nL 24.953125 24.03125 \r\nL 35.75 24.03125 \r\nz\r\n\" id=\"Georgia-35\"/>\r\n      </defs>\r\n      <use xlink:href=\"#Georgia-76\"/>\r\n      <use x=\"60.351562\" xlink:href=\"#Georgia-105\"/>\r\n      <use x=\"89.648438\" xlink:href=\"#Georgia-110\"/>\r\n      <use x=\"148.730469\" xlink:href=\"#Georgia-101\"/>\r\n      <use x=\"197.070312\" xlink:href=\"#Georgia-32\"/>\r\n      <use x=\"221.191406\" xlink:href=\"#Georgia-35\"/>\r\n     </g>\r\n    </g>\r\n   </g>\r\n   <g id=\"matplotlib.axis_2\">\r\n    <g id=\"ytick_1\">\r\n     <g id=\"line2d_8\">\r\n      <defs>\r\n       <path d=\"M 0 0 \r\nL 3.5 0 \r\n\" id=\"m070345a16b\" style=\"stroke:#000000;stroke-width:0.8;\"/>\r\n      </defs>\r\n      <g>\r\n       <use style=\"stroke:#000000;stroke-width:0.8;\" x=\"52.530625\" xlink:href=\"#m070345a16b\" y=\"333.36\"/>\r\n      </g>\r\n     </g>\r\n     <g id=\"text_4\">\r\n      <!-- 0.00 -->\r\n      <g transform=\"translate(26.765 337.159219)scale(0.1 -0.1)\">\r\n       <defs>\r\n        <path d=\"M 10.6875 12.40625 \r\nL 21 12.40625 \r\nL 21 0 \r\nL 10.6875 0 \r\nz\r\n\" id=\"DejaVuSans-46\"/>\r\n       </defs>\r\n       <use xlink:href=\"#DejaVuSans-48\"/>\r\n       <use x=\"63.623047\" xlink:href=\"#DejaVuSans-46\"/>\r\n       <use x=\"95.410156\" xlink:href=\"#DejaVuSans-48\"/>\r\n       <use x=\"159.033203\" xlink:href=\"#DejaVuSans-48\"/>\r\n      </g>\r\n     </g>\r\n    </g>\r\n    <g id=\"ytick_2\">\r\n     <g id=\"line2d_9\">\r\n      <g>\r\n       <use style=\"stroke:#000000;stroke-width:0.8;\" x=\"52.530625\" xlink:href=\"#m070345a16b\" y=\"282.720491\"/>\r\n      </g>\r\n     </g>\r\n     <g id=\"text_5\">\r\n      <!-- 0.02 -->\r\n      <g transform=\"translate(26.765 286.51971)scale(0.1 -0.1)\">\r\n       <defs>\r\n        <path d=\"M 19.1875 8.296875 \r\nL 53.609375 8.296875 \r\nL 53.609375 0 \r\nL 7.328125 0 \r\nL 7.328125 8.296875 \r\nQ 12.9375 14.109375 22.625 23.890625 \r\nQ 32.328125 33.6875 34.8125 36.53125 \r\nQ 39.546875 41.84375 41.421875 45.53125 \r\nQ 43.3125 49.21875 43.3125 52.78125 \r\nQ 43.3125 58.59375 39.234375 62.25 \r\nQ 35.15625 65.921875 28.609375 65.921875 \r\nQ 23.96875 65.921875 18.8125 64.3125 \r\nQ 13.671875 62.703125 7.8125 59.421875 \r\nL 7.8125 69.390625 \r\nQ 13.765625 71.78125 18.9375 73 \r\nQ 24.125 74.21875 28.421875 74.21875 \r\nQ 39.75 74.21875 46.484375 68.546875 \r\nQ 53.21875 62.890625 53.21875 53.421875 \r\nQ 53.21875 48.921875 51.53125 44.890625 \r\nQ 49.859375 40.875 45.40625 35.40625 \r\nQ 44.1875 33.984375 37.640625 27.21875 \r\nQ 31.109375 20.453125 19.1875 8.296875 \r\nz\r\n\" id=\"DejaVuSans-50\"/>\r\n       </defs>\r\n       <use xlink:href=\"#DejaVuSans-48\"/>\r\n       <use x=\"63.623047\" xlink:href=\"#DejaVuSans-46\"/>\r\n       <use x=\"95.410156\" xlink:href=\"#DejaVuSans-48\"/>\r\n       <use x=\"159.033203\" xlink:href=\"#DejaVuSans-50\"/>\r\n      </g>\r\n     </g>\r\n    </g>\r\n    <g id=\"ytick_3\">\r\n     <g id=\"line2d_10\">\r\n      <g>\r\n       <use style=\"stroke:#000000;stroke-width:0.8;\" x=\"52.530625\" xlink:href=\"#m070345a16b\" y=\"232.080982\"/>\r\n      </g>\r\n     </g>\r\n     <g id=\"text_6\">\r\n      <!-- 0.04 -->\r\n      <g transform=\"translate(26.765 235.880201)scale(0.1 -0.1)\">\r\n       <defs>\r\n        <path d=\"M 37.796875 64.3125 \r\nL 12.890625 25.390625 \r\nL 37.796875 25.390625 \r\nz\r\nM 35.203125 72.90625 \r\nL 47.609375 72.90625 \r\nL 47.609375 25.390625 \r\nL 58.015625 25.390625 \r\nL 58.015625 17.1875 \r\nL 47.609375 17.1875 \r\nL 47.609375 0 \r\nL 37.796875 0 \r\nL 37.796875 17.1875 \r\nL 4.890625 17.1875 \r\nL 4.890625 26.703125 \r\nz\r\n\" id=\"DejaVuSans-52\"/>\r\n       </defs>\r\n       <use xlink:href=\"#DejaVuSans-48\"/>\r\n       <use x=\"63.623047\" xlink:href=\"#DejaVuSans-46\"/>\r\n       <use x=\"95.410156\" xlink:href=\"#DejaVuSans-48\"/>\r\n       <use x=\"159.033203\" xlink:href=\"#DejaVuSans-52\"/>\r\n      </g>\r\n     </g>\r\n    </g>\r\n    <g id=\"ytick_4\">\r\n     <g id=\"line2d_11\">\r\n      <g>\r\n       <use style=\"stroke:#000000;stroke-width:0.8;\" x=\"52.530625\" xlink:href=\"#m070345a16b\" y=\"181.441473\"/>\r\n      </g>\r\n     </g>\r\n     <g id=\"text_7\">\r\n      <!-- 0.06 -->\r\n      <g transform=\"translate(26.765 185.240692)scale(0.1 -0.1)\">\r\n       <defs>\r\n        <path d=\"M 33.015625 40.375 \r\nQ 26.375 40.375 22.484375 35.828125 \r\nQ 18.609375 31.296875 18.609375 23.390625 \r\nQ 18.609375 15.53125 22.484375 10.953125 \r\nQ 26.375 6.390625 33.015625 6.390625 \r\nQ 39.65625 6.390625 43.53125 10.953125 \r\nQ 47.40625 15.53125 47.40625 23.390625 \r\nQ 47.40625 31.296875 43.53125 35.828125 \r\nQ 39.65625 40.375 33.015625 40.375 \r\nz\r\nM 52.59375 71.296875 \r\nL 52.59375 62.3125 \r\nQ 48.875 64.0625 45.09375 64.984375 \r\nQ 41.3125 65.921875 37.59375 65.921875 \r\nQ 27.828125 65.921875 22.671875 59.328125 \r\nQ 17.53125 52.734375 16.796875 39.40625 \r\nQ 19.671875 43.65625 24.015625 45.921875 \r\nQ 28.375 48.1875 33.59375 48.1875 \r\nQ 44.578125 48.1875 50.953125 41.515625 \r\nQ 57.328125 34.859375 57.328125 23.390625 \r\nQ 57.328125 12.15625 50.6875 5.359375 \r\nQ 44.046875 -1.421875 33.015625 -1.421875 \r\nQ 20.359375 -1.421875 13.671875 8.265625 \r\nQ 6.984375 17.96875 6.984375 36.375 \r\nQ 6.984375 53.65625 15.1875 63.9375 \r\nQ 23.390625 74.21875 37.203125 74.21875 \r\nQ 40.921875 74.21875 44.703125 73.484375 \r\nQ 48.484375 72.75 52.59375 71.296875 \r\nz\r\n\" id=\"DejaVuSans-54\"/>\r\n       </defs>\r\n       <use xlink:href=\"#DejaVuSans-48\"/>\r\n       <use x=\"63.623047\" xlink:href=\"#DejaVuSans-46\"/>\r\n       <use x=\"95.410156\" xlink:href=\"#DejaVuSans-48\"/>\r\n       <use x=\"159.033203\" xlink:href=\"#DejaVuSans-54\"/>\r\n      </g>\r\n     </g>\r\n    </g>\r\n    <g id=\"ytick_5\">\r\n     <g id=\"line2d_12\">\r\n      <g>\r\n       <use style=\"stroke:#000000;stroke-width:0.8;\" x=\"52.530625\" xlink:href=\"#m070345a16b\" y=\"130.801964\"/>\r\n      </g>\r\n     </g>\r\n     <g id=\"text_8\">\r\n      <!-- 0.08 -->\r\n      <g transform=\"translate(26.765 134.601183)scale(0.1 -0.1)\">\r\n       <defs>\r\n        <path d=\"M 31.78125 34.625 \r\nQ 24.75 34.625 20.71875 30.859375 \r\nQ 16.703125 27.09375 16.703125 20.515625 \r\nQ 16.703125 13.921875 20.71875 10.15625 \r\nQ 24.75 6.390625 31.78125 6.390625 \r\nQ 38.8125 6.390625 42.859375 10.171875 \r\nQ 46.921875 13.96875 46.921875 20.515625 \r\nQ 46.921875 27.09375 42.890625 30.859375 \r\nQ 38.875 34.625 31.78125 34.625 \r\nz\r\nM 21.921875 38.8125 \r\nQ 15.578125 40.375 12.03125 44.71875 \r\nQ 8.5 49.078125 8.5 55.328125 \r\nQ 8.5 64.0625 14.71875 69.140625 \r\nQ 20.953125 74.21875 31.78125 74.21875 \r\nQ 42.671875 74.21875 48.875 69.140625 \r\nQ 55.078125 64.0625 55.078125 55.328125 \r\nQ 55.078125 49.078125 51.53125 44.71875 \r\nQ 48 40.375 41.703125 38.8125 \r\nQ 48.828125 37.15625 52.796875 32.3125 \r\nQ 56.78125 27.484375 56.78125 20.515625 \r\nQ 56.78125 9.90625 50.3125 4.234375 \r\nQ 43.84375 -1.421875 31.78125 -1.421875 \r\nQ 19.734375 -1.421875 13.25 4.234375 \r\nQ 6.78125 9.90625 6.78125 20.515625 \r\nQ 6.78125 27.484375 10.78125 32.3125 \r\nQ 14.796875 37.15625 21.921875 38.8125 \r\nz\r\nM 18.3125 54.390625 \r\nQ 18.3125 48.734375 21.84375 45.5625 \r\nQ 25.390625 42.390625 31.78125 42.390625 \r\nQ 38.140625 42.390625 41.71875 45.5625 \r\nQ 45.3125 48.734375 45.3125 54.390625 \r\nQ 45.3125 60.0625 41.71875 63.234375 \r\nQ 38.140625 66.40625 31.78125 66.40625 \r\nQ 25.390625 66.40625 21.84375 63.234375 \r\nQ 18.3125 60.0625 18.3125 54.390625 \r\nz\r\n\" id=\"DejaVuSans-56\"/>\r\n       </defs>\r\n       <use xlink:href=\"#DejaVuSans-48\"/>\r\n       <use x=\"63.623047\" xlink:href=\"#DejaVuSans-46\"/>\r\n       <use x=\"95.410156\" xlink:href=\"#DejaVuSans-48\"/>\r\n       <use x=\"159.033203\" xlink:href=\"#DejaVuSans-56\"/>\r\n      </g>\r\n     </g>\r\n    </g>\r\n    <g id=\"ytick_6\">\r\n     <g id=\"line2d_13\">\r\n      <g>\r\n       <use style=\"stroke:#000000;stroke-width:0.8;\" x=\"52.530625\" xlink:href=\"#m070345a16b\" y=\"80.162455\"/>\r\n      </g>\r\n     </g>\r\n     <g id=\"text_9\">\r\n      <!-- 0.10 -->\r\n      <g transform=\"translate(26.765 83.961674)scale(0.1 -0.1)\">\r\n       <use xlink:href=\"#DejaVuSans-48\"/>\r\n       <use x=\"63.623047\" xlink:href=\"#DejaVuSans-46\"/>\r\n       <use x=\"95.410156\" xlink:href=\"#DejaVuSans-49\"/>\r\n       <use x=\"159.033203\" xlink:href=\"#DejaVuSans-48\"/>\r\n      </g>\r\n     </g>\r\n    </g>\r\n    <g id=\"ytick_7\">\r\n     <g id=\"line2d_14\">\r\n      <g>\r\n       <use style=\"stroke:#000000;stroke-width:0.8;\" x=\"52.530625\" xlink:href=\"#m070345a16b\" y=\"29.522946\"/>\r\n      </g>\r\n     </g>\r\n     <g id=\"text_10\">\r\n      <!-- 0.12 -->\r\n      <g transform=\"translate(26.765 33.322165)scale(0.1 -0.1)\">\r\n       <use xlink:href=\"#DejaVuSans-48\"/>\r\n       <use x=\"63.623047\" xlink:href=\"#DejaVuSans-46\"/>\r\n       <use x=\"95.410156\" xlink:href=\"#DejaVuSans-49\"/>\r\n       <use x=\"159.033203\" xlink:href=\"#DejaVuSans-50\"/>\r\n      </g>\r\n     </g>\r\n    </g>\r\n    <g id=\"text_11\">\r\n     <!-- Time (s) -->\r\n     <g style=\"fill:#ff0000;\" transform=\"translate(19.295 199.875)rotate(-90)scale(0.16 -0.16)\">\r\n      <defs>\r\n       <path d=\"M 61.078125 50.484375 \r\nL 57.71875 50.484375 \r\nQ 57.28125 52.25 56.125 54.65625 \r\nQ 54.984375 57.078125 53.5625 59.234375 \r\nQ 52.09375 61.46875 50.359375 63.15625 \r\nQ 48.640625 64.84375 47.015625 65.09375 \r\nQ 45.515625 65.28125 43.21875 65.375 \r\nQ 40.921875 65.484375 38.96875 65.484375 \r\nL 36.140625 65.484375 \r\nL 36.140625 10.0625 \r\nQ 36.140625 8.453125 36.8125 7.109375 \r\nQ 37.5 5.765625 39.203125 5.03125 \r\nQ 40.09375 4.6875 42.890625 4.09375 \r\nQ 45.703125 3.515625 47.265625 3.46875 \r\nL 47.265625 0 \r\nL 14.546875 0 \r\nL 14.546875 3.46875 \r\nQ 15.921875 3.5625 18.71875 3.859375 \r\nQ 21.53125 4.15625 22.609375 4.59375 \r\nQ 24.21875 5.21875 24.96875 6.421875 \r\nQ 25.734375 7.625 25.734375 9.625 \r\nL 25.734375 65.484375 \r\nL 22.90625 65.484375 \r\nQ 21.390625 65.484375 19.140625 65.40625 \r\nQ 16.890625 65.328125 14.84375 65.09375 \r\nQ 13.234375 64.890625 11.5 63.15625 \r\nQ 9.765625 61.421875 8.296875 59.234375 \r\nQ 6.84375 57.03125 5.71875 54.5625 \r\nQ 4.59375 52.09375 4.15625 50.484375 \r\nL 0.734375 50.484375 \r\nL 0.734375 69.28125 \r\nL 61.078125 69.28125 \r\nz\r\n\" id=\"Georgia-84\"/>\r\n       <path d=\"M 85.984375 0 \r\nL 62.5 0 \r\nL 62.5 3.21875 \r\nQ 63.625 3.328125 64.765625 3.421875 \r\nQ 65.921875 3.515625 66.796875 3.8125 \r\nQ 68.171875 4.25 68.828125 5.34375 \r\nQ 69.484375 6.453125 69.484375 8.203125 \r\nL 69.484375 33.0625 \r\nQ 69.484375 38.140625 67.15625 40.890625 \r\nQ 64.84375 43.65625 61.375 43.65625 \r\nQ 58.984375 43.65625 56.875 42.921875 \r\nQ 54.78125 42.1875 53.03125 40.875 \r\nQ 51.609375 39.796875 50.65625 38.546875 \r\nQ 49.703125 37.3125 49.21875 36.46875 \r\nL 49.21875 8.6875 \r\nQ 49.21875 6.984375 49.796875 5.875 \r\nQ 50.390625 4.78125 51.8125 4.203125 \r\nQ 52.9375 3.765625 53.828125 3.546875 \r\nQ 54.734375 3.328125 56.203125 3.21875 \r\nL 56.203125 0 \r\nL 33.203125 0 \r\nL 33.203125 3.21875 \r\nQ 34.328125 3.328125 35.375 3.421875 \r\nQ 36.421875 3.515625 37.3125 3.8125 \r\nQ 38.671875 4.25 39.328125 5.34375 \r\nQ 39.984375 6.453125 39.984375 8.203125 \r\nL 39.984375 33.0625 \r\nQ 39.984375 38.140625 37.671875 40.890625 \r\nQ 35.359375 43.65625 31.890625 43.65625 \r\nQ 29.5 43.65625 27.390625 42.890625 \r\nQ 25.296875 42.140625 23.53125 40.828125 \r\nQ 22.125 39.75 21.140625 38.40625 \r\nQ 20.171875 37.0625 19.671875 36.375 \r\nL 19.671875 8.796875 \r\nQ 19.671875 7.125 20.359375 6 \r\nQ 21.046875 4.890625 22.40625 4.296875 \r\nQ 23.4375 3.8125 24.515625 3.5625 \r\nQ 25.59375 3.328125 26.90625 3.21875 \r\nL 26.90625 0 \r\nL 3.515625 0 \r\nL 3.515625 3.21875 \r\nQ 4.640625 3.328125 5.828125 3.421875 \r\nQ 7.03125 3.515625 7.90625 3.8125 \r\nQ 9.28125 4.25 9.9375 5.34375 \r\nQ 10.59375 6.453125 10.59375 8.203125 \r\nL 10.59375 38.140625 \r\nQ 10.59375 39.703125 9.890625 40.9375 \r\nQ 9.1875 42.1875 7.90625 43.0625 \r\nQ 6.984375 43.65625 5.609375 44.015625 \r\nQ 4.25 44.390625 2.78125 44.484375 \r\nL 2.78125 47.65625 \r\nL 18.890625 48.734375 \r\nL 19.578125 48.046875 \r\nL 19.578125 41.15625 \r\nL 19.921875 41.15625 \r\nQ 21.140625 42.390625 22.890625 44.046875 \r\nQ 24.65625 45.703125 26.171875 46.734375 \r\nQ 27.875 47.90625 30.4375 48.6875 \r\nQ 33.015625 49.46875 35.984375 49.46875 \r\nQ 40.671875 49.46875 44.03125 46.953125 \r\nQ 47.40625 44.4375 48.875 40.875 \r\nQ 50.640625 42.578125 51.984375 43.875 \r\nQ 53.328125 45.171875 55.515625 46.625 \r\nQ 57.375 47.90625 59.890625 48.6875 \r\nQ 62.40625 49.46875 65.484375 49.46875 \r\nQ 71.578125 49.46875 75.140625 45.453125 \r\nQ 78.71875 41.453125 78.71875 33.15625 \r\nL 78.71875 8.6875 \r\nQ 78.71875 6.984375 79.296875 5.875 \r\nQ 79.890625 4.78125 81.296875 4.203125 \r\nQ 82.421875 3.765625 83.515625 3.546875 \r\nQ 84.625 3.328125 85.984375 3.21875 \r\nz\r\n\" id=\"Georgia-109\"/>\r\n       <path d=\"M 34.234375 -16.015625 \r\nQ 20.90625 -14.359375 13.3125 -2.578125 \r\nQ 5.71875 9.1875 5.71875 29.109375 \r\nQ 5.71875 49.359375 13.3125 61.203125 \r\nQ 20.90625 73.046875 34.234375 74.8125 \r\nL 34.234375 70.75 \r\nQ 24.859375 69.046875 19.96875 58.78125 \r\nQ 15.09375 48.53125 15.09375 29 \r\nQ 15.09375 10.40625 19.875 0.078125 \r\nQ 24.65625 -10.25 34.234375 -12.015625 \r\nz\r\n\" id=\"Georgia-40\"/>\r\n       <path d=\"M 35.296875 23.578125 \r\nQ 37.3125 21.828125 38.375 19.53125 \r\nQ 39.453125 17.234375 39.453125 13.921875 \r\nQ 39.453125 7.234375 34.4375 2.984375 \r\nQ 29.4375 -1.265625 21.484375 -1.265625 \r\nQ 17.28125 -1.265625 13.734375 0.25 \r\nQ 10.203125 1.765625 8.6875 3.03125 \r\nL 7.71875 -0.140625 \r\nL 4.046875 -0.140625 \r\nL 3.5625 16.609375 \r\nL 6.9375 16.609375 \r\nQ 7.328125 14.703125 8.59375 12.15625 \r\nQ 9.859375 9.625 11.671875 7.5625 \r\nQ 13.578125 5.421875 16.234375 3.953125 \r\nQ 18.890625 2.484375 22.21875 2.484375 \r\nQ 26.90625 2.484375 29.4375 4.609375 \r\nQ 31.984375 6.734375 31.984375 10.6875 \r\nQ 31.984375 12.75 31.171875 14.234375 \r\nQ 30.375 15.71875 28.8125 16.84375 \r\nQ 27.203125 17.96875 24.859375 18.875 \r\nQ 22.515625 19.78125 19.625 20.65625 \r\nQ 17.328125 21.34375 14.515625 22.53125 \r\nQ 11.71875 23.734375 9.71875 25.34375 \r\nQ 7.5625 27.046875 6.1875 29.53125 \r\nQ 4.828125 32.03125 4.828125 35.40625 \r\nQ 4.828125 41.3125 9.21875 45.40625 \r\nQ 13.625 49.515625 21 49.515625 \r\nQ 23.828125 49.515625 26.78125 48.78125 \r\nQ 29.734375 48.046875 31.59375 47.015625 \r\nL 32.71875 49.5625 \r\nL 36.234375 49.5625 \r\nL 36.96875 34.078125 \r\nL 33.59375 34.078125 \r\nQ 32.5625 39.265625 29.171875 42.5 \r\nQ 25.78125 45.75 20.90625 45.75 \r\nQ 16.890625 45.75 14.59375 43.75 \r\nQ 12.3125 41.75 12.3125 38.921875 \r\nQ 12.3125 36.71875 13.0625 35.25 \r\nQ 13.8125 33.796875 15.328125 32.765625 \r\nQ 16.796875 31.78125 19.015625 30.921875 \r\nQ 21.234375 30.078125 24.515625 29 \r\nQ 27.734375 27.984375 30.59375 26.609375 \r\nQ 33.453125 25.25 35.296875 23.578125 \r\nz\r\n\" id=\"Georgia-115\"/>\r\n       <path d=\"M 31.78125 29.109375 \r\nQ 31.78125 9.1875 24.1875 -2.578125 \r\nQ 16.609375 -14.359375 3.265625 -16.015625 \r\nL 3.265625 -12.015625 \r\nQ 12.84375 -10.25 17.625 0.078125 \r\nQ 22.40625 10.40625 22.40625 29 \r\nQ 22.40625 48.53125 17.515625 58.78125 \r\nQ 12.640625 69.046875 3.265625 70.75 \r\nL 3.265625 74.8125 \r\nQ 16.609375 73.046875 24.1875 61.203125 \r\nQ 31.78125 49.359375 31.78125 29.109375 \r\nz\r\n\" id=\"Georgia-41\"/>\r\n      </defs>\r\n      <use xlink:href=\"#Georgia-84\"/>\r\n      <use x=\"61.865234\" xlink:href=\"#Georgia-105\"/>\r\n      <use x=\"91.162109\" xlink:href=\"#Georgia-109\"/>\r\n      <use x=\"179.248047\" xlink:href=\"#Georgia-101\"/>\r\n      <use x=\"227.587891\" xlink:href=\"#Georgia-32\"/>\r\n      <use x=\"251.708984\" xlink:href=\"#Georgia-40\"/>\r\n      <use x=\"289.208984\" xlink:href=\"#Georgia-115\"/>\r\n      <use x=\"332.421875\" xlink:href=\"#Georgia-41\"/>\r\n     </g>\r\n    </g>\r\n   </g>\r\n   <g id=\"patch_10\">\r\n    <path d=\"M 52.530625 333.36 \r\nL 52.530625 7.2 \r\n\" style=\"fill:none;stroke:#000000;stroke-linecap:square;stroke-linejoin:miter;stroke-width:0.8;\"/>\r\n   </g>\r\n   <g id=\"patch_11\">\r\n    <path d=\"M 1056.930625 333.36 \r\nL 1056.930625 7.2 \r\n\" style=\"fill:none;stroke:#000000;stroke-linecap:square;stroke-linejoin:miter;stroke-width:0.8;\"/>\r\n   </g>\r\n   <g id=\"patch_12\">\r\n    <path d=\"M 52.530625 333.36 \r\nL 1056.930625 333.36 \r\n\" style=\"fill:none;stroke:#000000;stroke-linecap:square;stroke-linejoin:miter;stroke-width:0.8;\"/>\r\n   </g>\r\n   <g id=\"patch_13\">\r\n    <path d=\"M 52.530625 7.2 \r\nL 1056.930625 7.2 \r\n\" style=\"fill:none;stroke:#000000;stroke-linecap:square;stroke-linejoin:miter;stroke-width:0.8;\"/>\r\n   </g>\r\n  </g>\r\n  <g id=\"axes_2\">\r\n   <g id=\"patch_14\">\r\n    <path clip-path=\"url(#p46f3dca36e)\" d=\"M 98.18517 333.36 \r\nL 205.60763 333.36 \r\nL 205.60763 333.36 \r\nL 98.18517 333.36 \r\nz\r\n\" style=\"fill:#0000ff;fill-opacity:0.3;stroke:#0000ff;stroke-linejoin:miter;\"/>\r\n   </g>\r\n   <g id=\"patch_15\">\r\n    <path clip-path=\"url(#p46f3dca36e)\" d=\"M 232.463245 333.36 \r\nL 339.885705 333.36 \r\nL 339.885705 333.36 \r\nL 232.463245 333.36 \r\nz\r\n\" style=\"fill:#0000ff;fill-opacity:0.3;stroke:#0000ff;stroke-linejoin:miter;\"/>\r\n   </g>\r\n   <g id=\"patch_16\">\r\n    <path clip-path=\"url(#p46f3dca36e)\" d=\"M 366.74132 333.36 \r\nL 474.16378 333.36 \r\nL 474.16378 333.36 \r\nL 366.74132 333.36 \r\nz\r\n\" style=\"fill:#0000ff;fill-opacity:0.3;stroke:#0000ff;stroke-linejoin:miter;\"/>\r\n   </g>\r\n   <g id=\"patch_17\">\r\n    <path clip-path=\"url(#p46f3dca36e)\" d=\"M 501.019395 333.36 \r\nL 608.441855 333.36 \r\nL 608.441855 22.731429 \r\nL 501.019395 22.731429 \r\nz\r\n\" style=\"fill:#0000ff;fill-opacity:0.3;stroke:#0000ff;stroke-linejoin:miter;\"/>\r\n   </g>\r\n   <g id=\"patch_18\">\r\n    <path clip-path=\"url(#p46f3dca36e)\" d=\"M 635.29747 333.36 \r\nL 742.71993 333.36 \r\nL 742.71993 333.224286 \r\nL 635.29747 333.224286 \r\nz\r\n\" style=\"fill:#0000ff;fill-opacity:0.3;stroke:#0000ff;stroke-linejoin:miter;\"/>\r\n   </g>\r\n   <g id=\"patch_19\">\r\n    <path clip-path=\"url(#p46f3dca36e)\" d=\"M 769.575545 333.36 \r\nL 876.998005 333.36 \r\nL 876.998005 333.36 \r\nL 769.575545 333.36 \r\nz\r\n\" style=\"fill:#0000ff;fill-opacity:0.3;stroke:#0000ff;stroke-linejoin:miter;\"/>\r\n   </g>\r\n   <g id=\"patch_20\">\r\n    <path clip-path=\"url(#p46f3dca36e)\" d=\"M 903.85362 333.36 \r\nL 1011.27608 333.36 \r\nL 1011.27608 331.69072 \r\nL 903.85362 331.69072 \r\nz\r\n\" style=\"fill:#0000ff;fill-opacity:0.3;stroke:#0000ff;stroke-linejoin:miter;\"/>\r\n   </g>\r\n   <g id=\"matplotlib.axis_3\">\r\n    <g id=\"ytick_8\">\r\n     <g id=\"line2d_15\">\r\n      <defs>\r\n       <path d=\"M 0 0 \r\nL -3.5 0 \r\n\" id=\"m2272a559ed\" style=\"stroke:#000000;stroke-width:0.8;\"/>\r\n      </defs>\r\n      <g>\r\n       <use style=\"stroke:#000000;stroke-width:0.8;\" x=\"1056.930625\" xlink:href=\"#m2272a559ed\" y=\"333.36\"/>\r\n      </g>\r\n     </g>\r\n     <g id=\"text_12\">\r\n      <!-- 0 -->\r\n      <g transform=\"translate(1060.430625 337.159219)scale(0.1 -0.1)\">\r\n       <use xlink:href=\"#DejaVuSans-48\"/>\r\n      </g>\r\n     </g>\r\n    </g>\r\n    <g id=\"ytick_9\">\r\n     <g id=\"line2d_16\">\r\n      <g>\r\n       <use style=\"stroke:#000000;stroke-width:0.8;\" x=\"1056.930625\" xlink:href=\"#m2272a559ed\" y=\"265.503091\"/>\r\n      </g>\r\n     </g>\r\n     <g id=\"text_13\">\r\n      <!-- 10 -->\r\n      <g transform=\"translate(1060.430625 269.30231)scale(0.1 -0.1)\">\r\n       <use xlink:href=\"#DejaVuSans-49\"/>\r\n       <use x=\"63.623047\" xlink:href=\"#DejaVuSans-48\"/>\r\n      </g>\r\n     </g>\r\n    </g>\r\n    <g id=\"ytick_10\">\r\n     <g id=\"line2d_17\">\r\n      <g>\r\n       <use style=\"stroke:#000000;stroke-width:0.8;\" x=\"1056.930625\" xlink:href=\"#m2272a559ed\" y=\"197.646182\"/>\r\n      </g>\r\n     </g>\r\n     <g id=\"text_14\">\r\n      <!-- 20 -->\r\n      <g transform=\"translate(1060.430625 201.445401)scale(0.1 -0.1)\">\r\n       <use xlink:href=\"#DejaVuSans-50\"/>\r\n       <use x=\"63.623047\" xlink:href=\"#DejaVuSans-48\"/>\r\n      </g>\r\n     </g>\r\n    </g>\r\n    <g id=\"ytick_11\">\r\n     <g id=\"line2d_18\">\r\n      <g>\r\n       <use style=\"stroke:#000000;stroke-width:0.8;\" x=\"1056.930625\" xlink:href=\"#m2272a559ed\" y=\"129.789274\"/>\r\n      </g>\r\n     </g>\r\n     <g id=\"text_15\">\r\n      <!-- 30 -->\r\n      <g transform=\"translate(1060.430625 133.588492)scale(0.1 -0.1)\">\r\n       <defs>\r\n        <path d=\"M 40.578125 39.3125 \r\nQ 47.65625 37.796875 51.625 33 \r\nQ 55.609375 28.21875 55.609375 21.1875 \r\nQ 55.609375 10.40625 48.1875 4.484375 \r\nQ 40.765625 -1.421875 27.09375 -1.421875 \r\nQ 22.515625 -1.421875 17.65625 -0.515625 \r\nQ 12.796875 0.390625 7.625 2.203125 \r\nL 7.625 11.71875 \r\nQ 11.71875 9.328125 16.59375 8.109375 \r\nQ 21.484375 6.890625 26.8125 6.890625 \r\nQ 36.078125 6.890625 40.9375 10.546875 \r\nQ 45.796875 14.203125 45.796875 21.1875 \r\nQ 45.796875 27.640625 41.28125 31.265625 \r\nQ 36.765625 34.90625 28.71875 34.90625 \r\nL 20.21875 34.90625 \r\nL 20.21875 43.015625 \r\nL 29.109375 43.015625 \r\nQ 36.375 43.015625 40.234375 45.921875 \r\nQ 44.09375 48.828125 44.09375 54.296875 \r\nQ 44.09375 59.90625 40.109375 62.90625 \r\nQ 36.140625 65.921875 28.71875 65.921875 \r\nQ 24.65625 65.921875 20.015625 65.03125 \r\nQ 15.375 64.15625 9.8125 62.3125 \r\nL 9.8125 71.09375 \r\nQ 15.4375 72.65625 20.34375 73.4375 \r\nQ 25.25 74.21875 29.59375 74.21875 \r\nQ 40.828125 74.21875 47.359375 69.109375 \r\nQ 53.90625 64.015625 53.90625 55.328125 \r\nQ 53.90625 49.265625 50.4375 45.09375 \r\nQ 46.96875 40.921875 40.578125 39.3125 \r\nz\r\n\" id=\"DejaVuSans-51\"/>\r\n       </defs>\r\n       <use xlink:href=\"#DejaVuSans-51\"/>\r\n       <use x=\"63.623047\" xlink:href=\"#DejaVuSans-48\"/>\r\n      </g>\r\n     </g>\r\n    </g>\r\n    <g id=\"ytick_12\">\r\n     <g id=\"line2d_19\">\r\n      <g>\r\n       <use style=\"stroke:#000000;stroke-width:0.8;\" x=\"1056.930625\" xlink:href=\"#m2272a559ed\" y=\"61.932365\"/>\r\n      </g>\r\n     </g>\r\n     <g id=\"text_16\">\r\n      <!-- 40 -->\r\n      <g transform=\"translate(1060.430625 65.731584)scale(0.1 -0.1)\">\r\n       <use xlink:href=\"#DejaVuSans-52\"/>\r\n       <use x=\"63.623047\" xlink:href=\"#DejaVuSans-48\"/>\r\n      </g>\r\n     </g>\r\n    </g>\r\n    <g id=\"text_17\">\r\n     <!-- Memory Change (MiB) -->\r\n     <g style=\"fill:#0000ff;\" transform=\"translate(1089.250625 251.4825)rotate(-90)scale(0.16 -0.16)\">\r\n      <defs>\r\n       <path d=\"M 88.1875 0 \r\nL 57.5625 0 \r\nL 57.5625 3.46875 \r\nQ 59.234375 3.515625 61.84375 3.8125 \r\nQ 64.453125 4.109375 65.4375 4.640625 \r\nQ 66.9375 5.5625 67.640625 6.75 \r\nQ 68.359375 7.953125 68.359375 9.765625 \r\nL 68.359375 60.15625 \r\nL 67.625 60.15625 \r\nL 44 1.125 \r\nL 41.546875 1.125 \r\nL 19.046875 61.375 \r\nL 18.40625 61.375 \r\nL 18.40625 20.015625 \r\nQ 18.40625 14.015625 19.15625 10.890625 \r\nQ 19.921875 7.765625 21.484375 6.390625 \r\nQ 22.5625 5.375 25.921875 4.4375 \r\nQ 29.296875 3.515625 30.328125 3.46875 \r\nL 30.328125 0 \r\nL 2.34375 0 \r\nL 2.34375 3.46875 \r\nQ 4.546875 3.65625 6.953125 4.1875 \r\nQ 9.375 4.734375 10.6875 5.8125 \r\nQ 12.40625 7.171875 13.03125 10 \r\nQ 13.671875 12.84375 13.671875 19.484375 \r\nL 13.671875 54.9375 \r\nQ 13.671875 58.015625 12.9375 59.96875 \r\nQ 12.203125 61.921875 10.84375 63.140625 \r\nQ 9.328125 64.453125 7.125 65.078125 \r\nQ 4.9375 65.71875 2.78125 65.828125 \r\nL 2.78125 69.28125 \r\nL 26.421875 69.28125 \r\nL 46.234375 17.328125 \r\nL 63.1875 60.796875 \r\nQ 64.109375 63.1875 64.765625 65.796875 \r\nQ 65.4375 68.40625 65.484375 69.28125 \r\nL 88.09375 69.28125 \r\nL 88.09375 65.828125 \r\nQ 86.71875 65.765625 84.59375 65.375 \r\nQ 82.46875 64.984375 81.5 64.65625 \r\nQ 79.828125 64.0625 79.234375 62.6875 \r\nQ 78.65625 61.328125 78.65625 59.71875 \r\nL 78.65625 9.765625 \r\nQ 78.65625 8.0625 79.234375 6.890625 \r\nQ 79.828125 5.71875 81.5 4.828125 \r\nQ 82.375 4.34375 84.609375 3.921875 \r\nQ 86.859375 3.515625 88.1875 3.46875 \r\nz\r\n\" id=\"Georgia-77\"/>\r\n       <path d=\"M 50.4375 24.5625 \r\nQ 50.4375 19.484375 48.828125 14.578125 \r\nQ 47.21875 9.671875 44.234375 6.25 \r\nQ 40.875 2.34375 36.421875 0.4375 \r\nQ 31.984375 -1.46875 26.46875 -1.46875 \r\nQ 21.875 -1.46875 17.71875 0.265625 \r\nQ 13.578125 2 10.359375 5.328125 \r\nQ 7.171875 8.59375 5.296875 13.296875 \r\nQ 3.421875 18.015625 3.421875 23.875 \r\nQ 3.421875 35.15625 9.984375 42.328125 \r\nQ 16.546875 49.515625 27.203125 49.515625 \r\nQ 37.3125 49.515625 43.875 42.703125 \r\nQ 50.4375 35.890625 50.4375 24.5625 \r\nz\r\nM 40.328125 24.46875 \r\nQ 40.328125 28.125 39.59375 32.203125 \r\nQ 38.875 36.28125 37.40625 39.109375 \r\nQ 35.84375 42.140625 33.296875 43.96875 \r\nQ 30.765625 45.796875 27.09375 45.796875 \r\nQ 23.34375 45.796875 20.671875 43.9375 \r\nQ 18.015625 42.09375 16.359375 38.875 \r\nQ 14.796875 35.890625 14.15625 32.078125 \r\nQ 13.53125 28.265625 13.53125 24.703125 \r\nQ 13.53125 20.015625 14.28125 16.03125 \r\nQ 15.046875 12.0625 16.703125 8.9375 \r\nQ 18.359375 5.8125 20.875 4.03125 \r\nQ 23.390625 2.25 27.09375 2.25 \r\nQ 33.203125 2.25 36.765625 8.15625 \r\nQ 40.328125 14.0625 40.328125 24.46875 \r\nz\r\n\" id=\"Georgia-111\"/>\r\n       <path d=\"M 40.375 41.9375 \r\nQ 40.375 39.453125 39.15625 37.515625 \r\nQ 37.9375 35.59375 35.40625 35.59375 \r\nQ 32.671875 35.59375 31.21875 37 \r\nQ 29.78125 38.421875 29.78125 40.140625 \r\nQ 29.78125 41.21875 29.953125 42.09375 \r\nQ 30.125 42.96875 30.28125 43.84375 \r\nQ 27.984375 43.84375 24.90625 41.984375 \r\nQ 21.828125 40.140625 19.671875 36.71875 \r\nL 19.671875 8.6875 \r\nQ 19.671875 6.984375 20.328125 5.90625 \r\nQ 21 4.828125 22.40625 4.296875 \r\nQ 23.640625 3.8125 25.5625 3.5625 \r\nQ 27.484375 3.328125 28.90625 3.21875 \r\nL 28.90625 0 \r\nL 3.515625 0 \r\nL 3.515625 3.21875 \r\nQ 4.640625 3.328125 5.828125 3.421875 \r\nQ 7.03125 3.515625 7.90625 3.8125 \r\nQ 9.28125 4.25 9.9375 5.34375 \r\nQ 10.59375 6.453125 10.59375 8.203125 \r\nL 10.59375 37.9375 \r\nQ 10.59375 39.453125 9.890625 40.921875 \r\nQ 9.1875 42.390625 7.90625 43.265625 \r\nQ 6.984375 43.84375 5.703125 44.109375 \r\nQ 4.4375 44.390625 2.984375 44.484375 \r\nL 2.984375 47.65625 \r\nL 19 48.734375 \r\nL 19.671875 48.046875 \r\nL 19.671875 41.265625 \r\nL 19.921875 41.265625 \r\nQ 22.953125 45.21875 26.65625 47.265625 \r\nQ 30.375 49.3125 33.453125 49.3125 \r\nQ 36.53125 49.3125 38.453125 47.3125 \r\nQ 40.375 45.3125 40.375 41.9375 \r\nz\r\n\" id=\"Georgia-114\"/>\r\n       <path d=\"M -0.140625 -15.71875 \r\nQ -0.140625 -13.28125 1.203125 -11.734375 \r\nQ 2.546875 -10.203125 4.546875 -10.203125 \r\nQ 6.109375 -10.203125 7.21875 -10.78125 \r\nQ 8.34375 -11.375 9.234375 -12.3125 \r\nQ 9.96875 -13.03125 10.796875 -14.296875 \r\nQ 11.625 -15.578125 12.109375 -16.40625 \r\nQ 14.546875 -15.09375 17.9375 -9.515625 \r\nQ 21.34375 -3.953125 22.859375 0.25 \r\nQ 18.21875 11.8125 14.453125 20.9375 \r\nQ 10.6875 30.078125 6.59375 39.84375 \r\nQ 5.671875 42.09375 3.46875 43.328125 \r\nQ 1.265625 44.578125 -0.921875 44.921875 \r\nL -0.921875 48.140625 \r\nL 21.046875 48.140625 \r\nL 21.046875 44.734375 \r\nQ 19.578125 44.671875 17.53125 44.109375 \r\nQ 15.484375 43.5625 15.484375 42.828125 \r\nQ 15.484375 42.53125 15.703125 41.84375 \r\nQ 15.921875 41.15625 16.21875 40.4375 \r\nQ 18.0625 35.59375 21.875 26.484375 \r\nQ 25.6875 17.390625 27.78125 11.921875 \r\nQ 29.984375 17.140625 32.34375 22.734375 \r\nQ 34.71875 28.328125 37.640625 35.9375 \r\nQ 37.984375 36.859375 38.625 38.5 \r\nQ 39.265625 40.140625 39.265625 41.3125 \r\nQ 39.265625 42.578125 37.03125 43.671875 \r\nQ 34.8125 44.78125 32.8125 45.015625 \r\nL 32.8125 48.140625 \r\nL 50.6875 48.140625 \r\nL 50.6875 45.125 \r\nQ 49.21875 44.875 46.828125 43.4375 \r\nQ 44.4375 42 43.265625 39.359375 \r\nQ 37.453125 25.875 32.9375 14.796875 \r\nQ 28.421875 3.71875 26.078125 -1.515625 \r\nQ 23 -8.34375 20.578125 -12.171875 \r\nQ 18.171875 -16.015625 15.875 -18.21875 \r\nQ 13.625 -20.265625 11.796875 -20.96875 \r\nQ 9.96875 -21.6875 8.015625 -21.6875 \r\nQ 4.203125 -21.6875 2.03125 -19.875 \r\nQ -0.140625 -18.0625 -0.140625 -15.71875 \r\nz\r\n\" id=\"Georgia-121\"/>\r\n       <path d=\"M 35.296875 -1.609375 \r\nQ 29.109375 -1.609375 23.40625 0.828125 \r\nQ 17.71875 3.265625 13.328125 7.859375 \r\nQ 8.984375 12.453125 6.390625 19.0625 \r\nQ 3.8125 25.6875 3.8125 33.984375 \r\nQ 3.8125 42.28125 6.34375 49.046875 \r\nQ 8.890625 55.8125 13.375 60.6875 \r\nQ 17.828125 65.53125 23.875 68.15625 \r\nQ 29.9375 70.796875 36.8125 70.796875 \r\nQ 41.9375 70.796875 46.09375 69.53125 \r\nQ 50.25 68.265625 54 65.96875 \r\nL 56 69.28125 \r\nL 59.90625 69.28125 \r\nL 60.359375 44.578125 \r\nL 56.34375 44.578125 \r\nQ 55.5625 48.1875 54 52.40625 \r\nQ 52.4375 56.640625 50.34375 59.578125 \r\nQ 48 62.890625 44.765625 64.765625 \r\nQ 41.546875 66.65625 37.40625 66.65625 \r\nQ 32.671875 66.65625 28.59375 64.546875 \r\nQ 24.515625 62.453125 21.53125 58.34375 \r\nQ 18.703125 54.390625 17.09375 48.28125 \r\nQ 15.484375 42.1875 15.484375 34.671875 \r\nQ 15.484375 28.03125 17.15625 22.484375 \r\nQ 18.84375 16.9375 21.96875 12.75 \r\nQ 25.09375 8.59375 29.359375 6.25 \r\nQ 33.640625 3.90625 38.921875 3.90625 \r\nQ 42.875 3.90625 46.1875 5.140625 \r\nQ 49.515625 6.390625 51.953125 8.453125 \r\nQ 54.390625 10.59375 56.25 13.328125 \r\nQ 58.109375 16.0625 59.28125 19.28125 \r\nL 62.9375 17.53125 \r\nQ 58.734375 7.234375 51.796875 2.8125 \r\nQ 44.875 -1.609375 35.296875 -1.609375 \r\nz\r\n\" id=\"Georgia-67\"/>\r\n       <path d=\"M 55.8125 0 \r\nL 32.171875 0 \r\nL 32.171875 3.21875 \r\nQ 33.296875 3.328125 34.65625 3.421875 \r\nQ 36.03125 3.515625 36.921875 3.8125 \r\nQ 38.28125 4.25 38.9375 5.34375 \r\nQ 39.59375 6.453125 39.59375 8.203125 \r\nL 39.59375 32.953125 \r\nQ 39.59375 38.09375 37.171875 40.875 \r\nQ 34.765625 43.65625 31.296875 43.65625 \r\nQ 28.765625 43.65625 26.59375 42.84375 \r\nQ 24.421875 42.046875 22.703125 40.875 \r\nQ 21.046875 39.65625 20.15625 38.421875 \r\nQ 19.28125 37.203125 18.796875 36.375 \r\nL 18.796875 8.6875 \r\nQ 18.796875 7.03125 19.453125 5.953125 \r\nQ 20.125 4.890625 21.484375 4.296875 \r\nQ 22.5625 3.8125 23.703125 3.5625 \r\nQ 24.859375 3.328125 26.21875 3.21875 \r\nL 26.21875 0 \r\nL 2.59375 0 \r\nL 2.59375 3.21875 \r\nQ 3.71875 3.328125 4.9375 3.4375 \r\nQ 6.15625 3.5625 6.984375 3.8125 \r\nQ 8.34375 4.25 9.03125 5.34375 \r\nQ 9.71875 6.453125 9.71875 8.203125 \r\nL 9.71875 64.265625 \r\nQ 9.71875 65.921875 8.953125 67.578125 \r\nQ 8.203125 69.234375 6.984375 70.0625 \r\nQ 6.109375 70.703125 3.875 70.96875 \r\nQ 1.65625 71.234375 0.296875 71.34375 \r\nL 0.296875 74.46875 \r\nL 18.109375 75.59375 \r\nL 18.796875 74.859375 \r\nL 18.796875 41.265625 \r\nL 19 41.265625 \r\nQ 20.609375 42.875 21.921875 44.109375 \r\nQ 23.25 45.359375 25.390625 46.734375 \r\nQ 27.25 47.90625 29.765625 48.6875 \r\nQ 32.28125 49.46875 35.40625 49.46875 \r\nQ 41.84375 49.46875 45.3125 45.390625 \r\nQ 48.78125 41.3125 48.78125 33.640625 \r\nL 48.78125 8.59375 \r\nQ 48.78125 6.890625 49.390625 5.828125 \r\nQ 50 4.78125 51.421875 4.203125 \r\nQ 52.546875 3.765625 53.4375 3.546875 \r\nQ 54.34375 3.328125 55.8125 3.21875 \r\nz\r\n\" id=\"Georgia-104\"/>\r\n       <path d=\"M 49.125 0.875 \r\nQ 46.828125 0.046875 45.09375 -0.46875 \r\nQ 43.359375 -0.984375 41.15625 -0.984375 \r\nQ 37.359375 -0.984375 35.078125 0.796875 \r\nQ 32.8125 2.59375 32.171875 6 \r\nL 31.890625 6 \r\nQ 28.71875 2.484375 25.078125 0.625 \r\nQ 21.4375 -1.21875 16.3125 -1.21875 \r\nQ 10.890625 -1.21875 7.390625 2.09375 \r\nQ 3.90625 5.421875 3.90625 10.796875 \r\nQ 3.90625 13.578125 4.6875 15.765625 \r\nQ 5.46875 17.96875 7.03125 19.734375 \r\nQ 8.25 21.1875 10.25 22.328125 \r\nQ 12.25 23.484375 14.015625 24.171875 \r\nQ 16.21875 25 22.921875 27.25 \r\nQ 29.640625 29.5 31.984375 30.765625 \r\nL 31.984375 35.59375 \r\nQ 31.984375 36.234375 31.71875 38.03125 \r\nQ 31.453125 39.84375 30.5625 41.453125 \r\nQ 29.59375 43.265625 27.8125 44.609375 \r\nQ 26.03125 45.953125 22.75 45.953125 \r\nQ 20.515625 45.953125 18.578125 45.1875 \r\nQ 16.65625 44.4375 15.875 43.609375 \r\nQ 15.875 42.625 16.328125 40.71875 \r\nQ 16.796875 38.8125 16.796875 37.203125 \r\nQ 16.796875 35.5 15.25 34.078125 \r\nQ 13.71875 32.671875 10.984375 32.671875 \r\nQ 8.546875 32.671875 7.390625 34.40625 \r\nQ 6.25 36.140625 6.25 38.28125 \r\nQ 6.25 40.53125 7.828125 42.578125 \r\nQ 9.421875 44.625 11.96875 46.234375 \r\nQ 14.15625 47.609375 17.28125 48.5625 \r\nQ 20.40625 49.515625 23.390625 49.515625 \r\nQ 27.484375 49.515625 30.53125 48.953125 \r\nQ 33.59375 48.390625 36.078125 46.53125 \r\nQ 38.578125 44.734375 39.859375 41.625 \r\nQ 41.15625 38.53125 41.15625 33.640625 \r\nQ 41.15625 26.65625 41.015625 21.265625 \r\nQ 40.875 15.875 40.875 9.46875 \r\nQ 40.875 7.5625 41.53125 6.4375 \r\nQ 42.1875 5.328125 43.5625 4.546875 \r\nQ 44.28125 4.109375 45.875 4.046875 \r\nQ 47.46875 4 49.125 4 \r\nz\r\nM 32.078125 26.65625 \r\nQ 27.9375 25.4375 24.8125 24.265625 \r\nQ 21.6875 23.09375 19 21.34375 \r\nQ 16.546875 19.671875 15.125 17.40625 \r\nQ 13.71875 15.140625 13.71875 12.015625 \r\nQ 13.71875 7.953125 15.84375 6.046875 \r\nQ 17.96875 4.15625 21.234375 4.15625 \r\nQ 24.703125 4.15625 27.34375 5.828125 \r\nQ 29.984375 7.515625 31.78125 9.8125 \r\nz\r\n\" id=\"Georgia-97\"/>\r\n       <path d=\"M 44.78125 4.984375 \r\nQ 46.734375 3.125 47.84375 0.78125 \r\nQ 48.96875 -1.5625 48.96875 -5.03125 \r\nQ 48.96875 -8.5 47.453125 -11.546875 \r\nQ 45.953125 -14.59375 42.875 -16.84375 \r\nQ 39.59375 -19.140625 35.046875 -20.40625 \r\nQ 30.515625 -21.6875 23.828125 -21.6875 \r\nQ 12.890625 -21.6875 7.46875 -18.484375 \r\nQ 2.046875 -15.28125 2.046875 -9.125 \r\nQ 2.046875 -4.15625 5.953125 -1.265625 \r\nQ 9.859375 1.609375 15.921875 1.859375 \r\nL 15.921875 2.546875 \r\nQ 14.453125 2.984375 12.890625 3.640625 \r\nQ 11.328125 4.296875 10.203125 5.171875 \r\nQ 8.9375 6.203125 8.15625 7.59375 \r\nQ 7.375 8.984375 7.375 11.03125 \r\nQ 7.375 13.625 9.203125 15.796875 \r\nQ 11.03125 17.96875 14.75 19.53125 \r\nL 14.75 20.265625 \r\nQ 10.0625 22.46875 7.46875 25.90625 \r\nQ 4.890625 29.34375 4.890625 33.890625 \r\nQ 4.890625 40.71875 9.984375 45.109375 \r\nQ 15.09375 49.515625 23.046875 49.515625 \r\nQ 25.25 49.515625 27.421875 49.078125 \r\nQ 29.59375 48.640625 31.84375 47.953125 \r\nL 48.640625 47.953125 \r\nL 48.640625 43.265625 \r\nL 37.3125 43.265625 \r\nL 37.3125 42.96875 \r\nQ 39.109375 40.875 39.984375 38.328125 \r\nQ 40.875 35.796875 40.875 33.34375 \r\nQ 40.875 27 35.71875 22.609375 \r\nQ 30.5625 18.21875 23.734375 18.21875 \r\nL 17.828125 18.21875 \r\nQ 16.703125 17.828125 15.484375 16.796875 \r\nQ 14.265625 15.765625 14.265625 14.015625 \r\nQ 14.265625 12.203125 15.28125 11.25 \r\nQ 16.3125 10.296875 17.78125 9.96875 \r\nQ 19.1875 9.578125 21.0625 9.46875 \r\nQ 22.953125 9.375 24.953125 9.328125 \r\nQ 27.09375 9.28125 30.828125 9.03125 \r\nQ 34.578125 8.796875 36.140625 8.734375 \r\nQ 38.375 8.640625 40.640625 7.65625 \r\nQ 42.921875 6.6875 44.78125 4.984375 \r\nz\r\nM 31.59375 33.546875 \r\nQ 31.59375 39.265625 29.265625 42.65625 \r\nQ 26.953125 46.046875 22.75 46.046875 \r\nQ 20.453125 46.046875 18.8125 45.09375 \r\nQ 17.1875 44.140625 16.15625 42.390625 \r\nQ 15.1875 40.765625 14.765625 38.5 \r\nQ 14.359375 36.234375 14.359375 33.84375 \r\nQ 14.359375 28.421875 16.71875 25 \r\nQ 19.09375 21.578125 22.859375 21.578125 \r\nQ 27.046875 21.578125 29.3125 24.96875 \r\nQ 31.59375 28.375 31.59375 33.546875 \r\nz\r\nM 40.96875 -6.84375 \r\nQ 40.96875 -4.109375 39.6875 -2.34375 \r\nQ 38.421875 -0.59375 35.84375 0.046875 \r\nQ 34.46875 0.25 30.21875 0.484375 \r\nQ 25.984375 0.734375 20.359375 0.734375 \r\nQ 15.09375 -0.296875 12.859375 -2.703125 \r\nQ 10.640625 -5.125 10.640625 -8.9375 \r\nQ 10.640625 -10.640625 11.375 -12.203125 \r\nQ 12.109375 -13.765625 13.921875 -15.09375 \r\nQ 15.625 -16.359375 18.5 -17.15625 \r\nQ 21.390625 -17.96875 25.53125 -17.96875 \r\nQ 32.71875 -17.96875 36.84375 -15.203125 \r\nQ 40.96875 -12.453125 40.96875 -6.84375 \r\nz\r\n\" id=\"Georgia-103\"/>\r\n       <path d=\"M 53.90625 32.28125 \r\nQ 56.9375 30.21875 58.9375 26.890625 \r\nQ 60.9375 23.578125 60.9375 18.84375 \r\nQ 60.9375 14.015625 58.828125 10.453125 \r\nQ 56.734375 6.890625 53.375 4.59375 \r\nQ 50.09375 2.34375 45.96875 1.171875 \r\nQ 41.84375 0 37.453125 0 \r\nL 4.640625 0 \r\nL 4.640625 3.46875 \r\nQ 5.8125 3.5625 8.046875 3.875 \r\nQ 10.296875 4.203125 11.28125 4.640625 \r\nQ 12.796875 5.328125 13.421875 6.46875 \r\nQ 14.0625 7.625 14.0625 9.421875 \r\nL 14.0625 59.234375 \r\nQ 14.0625 60.890625 13.5 62.15625 \r\nQ 12.9375 63.421875 11.28125 64.203125 \r\nQ 9.8125 64.9375 8 65.328125 \r\nQ 6.203125 65.71875 4.984375 65.828125 \r\nL 4.984375 69.28125 \r\nL 36.96875 69.28125 \r\nQ 40.671875 69.28125 44.0625 68.546875 \r\nQ 47.46875 67.828125 50.53125 65.96875 \r\nQ 53.421875 64.265625 55.265625 61.328125 \r\nQ 57.125 58.40625 57.125 54.203125 \r\nQ 57.125 50.53125 55.8125 47.671875 \r\nQ 54.5 44.828125 52.09375 42.78125 \r\nQ 49.859375 40.828125 46.953125 39.484375 \r\nQ 44.046875 38.140625 40.671875 37.40625 \r\nL 40.671875 36.96875 \r\nQ 43.65625 36.625 47.34375 35.46875 \r\nQ 51.03125 34.328125 53.90625 32.28125 \r\nz\r\nM 42.140625 42.71875 \r\nQ 43.953125 44.828125 44.65625 47.3125 \r\nQ 45.359375 49.8125 45.359375 53.21875 \r\nQ 45.359375 58.9375 42.234375 62.1875 \r\nQ 39.109375 65.4375 32.375 65.4375 \r\nQ 30.8125 65.4375 28.4375 65.359375 \r\nQ 26.078125 65.28125 24.46875 65.234375 \r\nL 24.46875 38.625 \r\nL 30.671875 38.625 \r\nQ 34.671875 38.625 37.515625 39.640625 \r\nQ 40.375 40.671875 42.140625 42.71875 \r\nz\r\nM 48.875 20.609375 \r\nQ 48.875 26.765625 44.75 30.71875 \r\nQ 40.625 34.671875 32.953125 34.671875 \r\nQ 29.828125 34.671875 27.671875 34.59375 \r\nQ 25.53125 34.515625 24.46875 34.46875 \r\nL 24.46875 10.0625 \r\nQ 24.46875 6.984375 26.953125 5.421875 \r\nQ 29.4375 3.859375 33.890625 3.859375 \r\nQ 41.15625 3.859375 45.015625 8.109375 \r\nQ 48.875 12.359375 48.875 20.609375 \r\nz\r\n\" id=\"Georgia-66\"/>\r\n      </defs>\r\n      <use xlink:href=\"#Georgia-77\"/>\r\n      <use x=\"92.724609\" xlink:href=\"#Georgia-101\"/>\r\n      <use x=\"141.064453\" xlink:href=\"#Georgia-109\"/>\r\n      <use x=\"229.150391\" xlink:href=\"#Georgia-111\"/>\r\n      <use x=\"283.056641\" xlink:href=\"#Georgia-114\"/>\r\n      <use x=\"324.023438\" xlink:href=\"#Georgia-121\"/>\r\n      <use x=\"373.242188\" xlink:href=\"#Georgia-32\"/>\r\n      <use x=\"397.363281\" xlink:href=\"#Georgia-67\"/>\r\n      <use x=\"461.572266\" xlink:href=\"#Georgia-104\"/>\r\n      <use x=\"519.775391\" xlink:href=\"#Georgia-97\"/>\r\n      <use x=\"570.166016\" xlink:href=\"#Georgia-110\"/>\r\n      <use x=\"629.248047\" xlink:href=\"#Georgia-103\"/>\r\n      <use x=\"680.175781\" xlink:href=\"#Georgia-101\"/>\r\n      <use x=\"728.515625\" xlink:href=\"#Georgia-32\"/>\r\n      <use x=\"752.636719\" xlink:href=\"#Georgia-40\"/>\r\n      <use x=\"790.136719\" xlink:href=\"#Georgia-77\"/>\r\n      <use x=\"882.861328\" xlink:href=\"#Georgia-105\"/>\r\n      <use x=\"912.158203\" xlink:href=\"#Georgia-66\"/>\r\n      <use x=\"977.539062\" xlink:href=\"#Georgia-41\"/>\r\n     </g>\r\n    </g>\r\n   </g>\r\n   <g id=\"line2d_20\">\r\n    <path clip-path=\"url(#p46f3dca36e)\" d=\"M 151.8964 333.36 \r\nL 151.8964 22.731429 \r\n\" style=\"fill:none;stroke:#000000;stroke-dasharray:5.55,2.4;stroke-dashoffset:0;stroke-width:1.5;\"/>\r\n   </g>\r\n   <g id=\"patch_21\">\r\n    <path d=\"M 52.530625 333.36 \r\nL 52.530625 7.2 \r\n\" style=\"fill:none;stroke:#000000;stroke-linecap:square;stroke-linejoin:miter;stroke-width:0.8;\"/>\r\n   </g>\r\n   <g id=\"patch_22\">\r\n    <path d=\"M 1056.930625 333.36 \r\nL 1056.930625 7.2 \r\n\" style=\"fill:none;stroke:#000000;stroke-linecap:square;stroke-linejoin:miter;stroke-width:0.8;\"/>\r\n   </g>\r\n   <g id=\"patch_23\">\r\n    <path d=\"M 52.530625 333.36 \r\nL 1056.930625 333.36 \r\n\" style=\"fill:none;stroke:#000000;stroke-linecap:square;stroke-linejoin:miter;stroke-width:0.8;\"/>\r\n   </g>\r\n   <g id=\"patch_24\">\r\n    <path d=\"M 52.530625 7.2 \r\nL 1056.930625 7.2 \r\n\" style=\"fill:none;stroke:#000000;stroke-linecap:square;stroke-linejoin:miter;stroke-width:0.8;\"/>\r\n   </g>\r\n   <g id=\"text_18\">\r\n    <g id=\"patch_25\">\r\n     <path d=\"M 162.766088 231.436027 \r\nL 162.766088 124.655402 \r\nL 141.026713 124.655402 \r\nL 141.026713 231.436027 \r\nz\r\n\" style=\"fill:#ffffff;stroke:#000000;stroke-linejoin:miter;\"/>\r\n    </g>\r\n    <!-- do_some_math -->\r\n    <g transform=\"translate(155.669838 227.376027)rotate(-90)scale(0.14 -0.14)\">\r\n     <defs>\r\n      <path d=\"M 56.25 0.875 \r\nL 39.453125 -0.203125 \r\nL 38.71875 0.484375 \r\nL 38.71875 4.984375 \r\nL 38.328125 5.078125 \r\nQ 35.796875 2.25 32.0625 0.4375 \r\nQ 28.328125 -1.375 24.359375 -1.375 \r\nQ 20.265625 -1.375 16.421875 0.453125 \r\nQ 12.59375 2.296875 9.765625 5.609375 \r\nQ 6.890625 8.984375 5.203125 13.71875 \r\nQ 3.515625 18.453125 3.515625 24.171875 \r\nQ 3.515625 29.390625 5.3125 34.078125 \r\nQ 7.125 38.765625 10.296875 42.28125 \r\nQ 13.28125 45.5625 17.59375 47.515625 \r\nQ 21.921875 49.46875 26.421875 49.46875 \r\nQ 29.78125 49.46875 33.03125 48.609375 \r\nQ 36.28125 47.75 38.625 46.4375 \r\nL 38.625 63.1875 \r\nQ 38.625 65.234375 37.9375 66.921875 \r\nQ 37.25 68.609375 36.03125 69.484375 \r\nQ 34.671875 70.40625 32.34375 70.8125 \r\nQ 30.03125 71.234375 27.34375 71.4375 \r\nL 27.34375 74.46875 \r\nL 47.015625 75.59375 \r\nL 47.75 74.859375 \r\nL 47.75 9.90625 \r\nQ 47.75 8.203125 48.40625 7 \r\nQ 49.078125 5.8125 50.34375 4.984375 \r\nQ 51.265625 4.390625 53.015625 4.25 \r\nQ 54.78125 4.109375 56.25 4.046875 \r\nz\r\nM 38.625 9.328125 \r\nL 38.625 37.5 \r\nQ 38.234375 38.765625 37.34375 40.234375 \r\nQ 36.46875 41.703125 35.15625 42.921875 \r\nQ 33.734375 44.140625 31.828125 44.9375 \r\nQ 29.9375 45.75 27.390625 45.75 \r\nQ 24.46875 45.75 22 44.234375 \r\nQ 19.53125 42.71875 17.625 39.890625 \r\nQ 15.828125 37.15625 14.765625 32.9375 \r\nQ 13.71875 28.71875 13.71875 23.578125 \r\nQ 13.71875 19.484375 14.5 16.140625 \r\nQ 15.28125 12.796875 17.140625 9.90625 \r\nQ 18.84375 7.171875 21.5 5.515625 \r\nQ 24.171875 3.859375 27.828125 3.859375 \r\nQ 31.734375 3.859375 34.296875 5.5625 \r\nQ 36.859375 7.28125 38.625 9.328125 \r\nz\r\n\" id=\"Georgia-100\"/>\r\n      <path d=\"M 64.546875 -13.765625 \r\nL -0.25 -13.765625 \r\nL -0.25 -8.84375 \r\nL 64.546875 -8.84375 \r\nz\r\n\" id=\"Georgia-95\"/>\r\n      <path d=\"M 33.25 2.09375 \r\nQ 30.078125 0.78125 27.25 -0.125 \r\nQ 24.421875 -1.03125 20.3125 -1.03125 \r\nQ 14.265625 -1.03125 11.796875 2.015625 \r\nQ 9.328125 5.078125 9.328125 10.640625 \r\nL 9.328125 43.265625 \r\nL 0.640625 43.265625 \r\nL 0.640625 47.953125 \r\nL 9.515625 47.953125 \r\nL 9.515625 62.9375 \r\nL 18.40625 62.9375 \r\nL 18.40625 47.953125 \r\nL 32.234375 47.953125 \r\nL 32.234375 43.265625 \r\nL 18.5 43.265625 \r\nL 18.5 16.359375 \r\nQ 18.5 13.328125 18.71875 11.296875 \r\nQ 18.953125 9.28125 19.78125 7.765625 \r\nQ 20.5625 6.34375 22.125 5.609375 \r\nQ 23.6875 4.890625 26.3125 4.890625 \r\nQ 27.546875 4.890625 29.90625 5.109375 \r\nQ 32.28125 5.328125 33.25 5.671875 \r\nz\r\n\" id=\"Georgia-116\"/>\r\n     </defs>\r\n     <use xlink:href=\"#Georgia-100\"/>\r\n     <use x=\"57.421875\" xlink:href=\"#Georgia-111\"/>\r\n     <use x=\"111.328125\" xlink:href=\"#Georgia-95\"/>\r\n     <use x=\"175.634766\" xlink:href=\"#Georgia-115\"/>\r\n     <use x=\"218.847656\" xlink:href=\"#Georgia-111\"/>\r\n     <use x=\"272.753906\" xlink:href=\"#Georgia-109\"/>\r\n     <use x=\"360.839844\" xlink:href=\"#Georgia-101\"/>\r\n     <use x=\"409.179688\" xlink:href=\"#Georgia-95\"/>\r\n     <use x=\"473.486328\" xlink:href=\"#Georgia-109\"/>\r\n     <use x=\"561.572266\" xlink:href=\"#Georgia-97\"/>\r\n     <use x=\"611.962891\" xlink:href=\"#Georgia-116\"/>\r\n     <use x=\"646.484375\" xlink:href=\"#Georgia-104\"/>\r\n    </g>\r\n   </g>\r\n  </g>\r\n </g>\r\n <defs>\r\n  <clipPath id=\"p46f3dca36e\">\r\n   <rect height=\"326.16\" width=\"1004.4\" x=\"52.530625\" y=\"7.2\"/>\r\n  </clipPath>\r\n </defs>\r\n</svg>\r\n",
      "image/png": "[encoded data removed]"
     },
     "metadata": {
      "needs_background": "light"
     }
    }
   ],
   "source": [
    "# Line plot\n",
    "pp.plot_byline(xtick_style='dense')"
   ]
  },
  {
   "cell_type": "code",
   "execution_count": 4,
   "metadata": {},
   "outputs": [
    {
     "output_type": "display_data",
     "data": {
      "application/vnd.plotly.v1+json": {
       "config": {
        "plotlyServerURL": "https://plot.ly"
       },
       "data": [
        {
         "alignmentgroup": "True",
         "customdata": [
          [
           5,
           "@profile"
          ],
          [
           6,
           "def fun(m, n):"
          ],
          [
           7,
           "'''"
          ],
          [
           8,
           "This function does some linear algebra"
          ],
          [
           9,
           ""
          ],
          [
           10,
           "Args:"
          ],
          [
           11,
           "m (int): size of dimension 1"
          ],
          [
           12,
           "n (int): size of dimension 2"
          ],
          [
           13,
           ""
          ],
          [
           14,
           "Returns:"
          ],
          [
           15,
           "np.arrays: some simple calculations"
          ],
          [
           16,
           "'''"
          ],
          [
           18,
           ""
          ],
          [
           19,
           "f = x.T @ a @\\"
          ],
          [
           20,
           "(x + x**2 - x**3)"
          ],
          [
           21,
           "g = x.T @ b @ y"
          ],
          [
           22,
           "h = y.T @ z @ y"
          ],
          [
           23,
           ""
          ],
          [
           24,
           "T = 2 * (y @ x.T) * c"
          ],
          [
           25,
           "t = T.sum(axis=0)"
          ],
          [
           26,
           "r = T.sum(axis=1)"
          ],
          [
           27,
           "s = f'Make this 2 2.0 ugly {r[0]}'"
          ],
          [
           28,
           ""
          ],
          [
           30,
           "cond = np.abs(hi) > r.sum()"
          ],
          [
           31,
           ""
          ],
          [
           32,
           "if cond:"
          ],
          [
           33,
           "if r.sum() > 10:"
          ],
          [
           34,
           "print('howdy')"
          ],
          [
           35,
           "else:"
          ],
          [
           36,
           "print('powdy')"
          ],
          [
           37,
           "else:"
          ],
          [
           38,
           "print('yowdy')"
          ],
          [
           39,
           ""
          ],
          [
           40,
           "return f, g, h, T, t, r, s"
          ]
         ],
         "hovertemplate": "Branch-Function=fun<br>Function=%{x}<br>Memory Delta (MiB)=%{y}<br>Line=%{customdata[0]}<br>Text=%{customdata[1]}<extra></extra>",
         "legendgroup": "fun",
         "marker": {
          "color": "#636efa"
         },
         "name": "fun",
         "offsetgroup": "fun",
         "orientation": "v",
         "showlegend": true,
         "textposition": "auto",
         "type": "bar",
         "x": [
          "fun",
          "fun",
          "fun",
          "fun",
          "fun",
          "fun",
          "fun",
          "fun",
          "fun",
          "fun",
          "fun",
          "fun",
          "fun",
          "fun",
          "fun",
          "fun",
          "fun",
          "fun",
          "fun",
          "fun",
          "fun",
          "fun",
          "fun",
          "fun",
          "fun",
          "fun",
          "fun",
          "fun",
          "fun",
          "fun",
          "fun",
          "fun",
          "fun",
          "fun"
         ],
         "xaxis": "x",
         "y": [
          0,
          0,
          0,
          0,
          0,
          0,
          0,
          0,
          0,
          0,
          0,
          0,
          0,
          1.812,
          0.035,
          0,
          0,
          0,
          7.641,
          0.027,
          0.008,
          0.004,
          0,
          0.008,
          0,
          0.004,
          0,
          0,
          0,
          0,
          0,
          0,
          0,
          0
         ],
         "yaxis": "y"
        },
        {
         "alignmentgroup": "True",
         "customdata": [
          [
           17,
           "x, y, z, a, b, c = make_randoms(m, n)"
          ],
          [
           43,
           "@profile"
          ],
          [
           44,
           "def make_randoms(m, n):"
          ],
          [
           45,
           "'''"
          ],
          [
           46,
           "This function creates some numpy arrays"
          ],
          [
           47,
           ""
          ],
          [
           48,
           "Args:"
          ],
          [
           49,
           "Sizes of arrays"
          ],
          [
           50,
           ""
          ],
          [
           51,
           "Returns:"
          ],
          [
           52,
           "Some arrays"
          ],
          [
           53,
           "'''"
          ],
          [
           54,
           "x = np.random.randn(m, 1)"
          ],
          [
           55,
           "y = np.random.randn(n, 1)"
          ],
          [
           56,
           "z = np.random.randn(n, n)"
          ],
          [
           57,
           "a = np.random.randn(m, m)"
          ],
          [
           58,
           "b = np.random.randn(m, n)"
          ],
          [
           59,
           "c = np.random.randn(n, m)"
          ],
          [
           60,
           ""
          ],
          [
           61,
           "return x, y, z, a, b, c"
          ]
         ],
         "hovertemplate": "Branch-Function=make_randoms<br>Function=%{x}<br>Memory Delta (MiB)=%{y}<br>Line=%{customdata[0]}<br>Text=%{customdata[1]}<extra></extra>",
         "legendgroup": "make_randoms",
         "marker": {
          "color": "#EF553B"
         },
         "name": "make_randoms",
         "offsetgroup": "make_randoms",
         "orientation": "v",
         "showlegend": true,
         "textposition": "auto",
         "type": "bar",
         "x": [
          "fun",
          "make_randoms",
          "make_randoms",
          "make_randoms",
          "make_randoms",
          "make_randoms",
          "make_randoms",
          "make_randoms",
          "make_randoms",
          "make_randoms",
          "make_randoms",
          "make_randoms",
          "make_randoms",
          "make_randoms",
          "make_randoms",
          "make_randoms",
          "make_randoms",
          "make_randoms",
          "make_randoms",
          "make_randoms"
         ],
         "xaxis": "x",
         "y": [
          80.73,
          0,
          0,
          0,
          0,
          0,
          0,
          0,
          0,
          0,
          0,
          0,
          0.031,
          0,
          7.633,
          7.633,
          7.633,
          7.633,
          0,
          0
         ],
         "yaxis": "y"
        },
        {
         "alignmentgroup": "True",
         "customdata": [
          [
           29,
           "hi = do_some_math(2 * m, 3 * n)"
          ],
          [
           4,
           "@profile"
          ],
          [
           5,
           "def do_some_math(m, n):"
          ],
          [
           6,
           "x = np.random.randn(1, m)"
          ],
          [
           7,
           "A = np.random.randn(m, n)"
          ],
          [
           8,
           "y = np.random.randn(n, 1)"
          ],
          [
           9,
           ""
          ],
          [
           10,
           "return x @ A @ y"
          ]
         ],
         "hovertemplate": "Branch-Function=do_some_math<br>Function=%{x}<br>Memory Delta (MiB)=%{y}<br>Line=%{customdata[0]}<br>Text=%{customdata[1]}<extra></extra>",
         "legendgroup": "do_some_math",
         "marker": {
          "color": "#00cc96"
         },
         "name": "do_some_math",
         "offsetgroup": "do_some_math",
         "orientation": "v",
         "showlegend": true,
         "textposition": "auto",
         "type": "bar",
         "x": [
          "fun",
          "do_some_math",
          "do_some_math",
          "do_some_math",
          "do_some_math",
          "do_some_math",
          "do_some_math",
          "do_some_math"
         ],
         "xaxis": "x",
         "y": [
          90.523,
          0,
          0,
          0,
          45.777,
          0.02,
          0,
          0.246
         ],
         "yaxis": "y"
        }
       ],
       "layout": {
        "barmode": "relative",
        "height": 500,
        "legend": {
         "title": {
          "text": "Branch-Function"
         },
         "tracegroupgap": 0
        },
        "margin": {
         "t": 60
        },
        "template": {
         "data": {
          "bar": [
           {
            "error_x": {
             "color": "#2a3f5f"
            },
            "error_y": {
             "color": "#2a3f5f"
            },
            "marker": {
             "line": {
              "color": "#E5ECF6",
              "width": 0.5
             }
            },
            "type": "bar"
           }
          ],
          "barpolar": [
           {
            "marker": {
             "line": {
              "color": "#E5ECF6",
              "width": 0.5
             }
            },
            "type": "barpolar"
           }
          ],
          "carpet": [
           {
            "aaxis": {
             "endlinecolor": "#2a3f5f",
             "gridcolor": "white",
             "linecolor": "white",
             "minorgridcolor": "white",
             "startlinecolor": "#2a3f5f"
            },
            "baxis": {
             "endlinecolor": "#2a3f5f",
             "gridcolor": "white",
             "linecolor": "white",
             "minorgridcolor": "white",
             "startlinecolor": "#2a3f5f"
            },
            "type": "carpet"
           }
          ],
          "choropleth": [
           {
            "colorbar": {
             "outlinewidth": 0,
             "ticks": ""
            },
            "type": "choropleth"
           }
          ],
          "contour": [
           {
            "colorbar": {
             "outlinewidth": 0,
             "ticks": ""
            },
            "colorscale": [
             [
              0,
              "#0d0887"
             ],
             [
              0.1111111111111111,
              "#46039f"
             ],
             [
              0.2222222222222222,
              "#7201a8"
             ],
             [
              0.3333333333333333,
              "#9c179e"
             ],
             [
              0.4444444444444444,
              "#bd3786"
             ],
             [
              0.5555555555555556,
              "#d8576b"
             ],
             [
              0.6666666666666666,
              "#ed7953"
             ],
             [
              0.7777777777777778,
              "#fb9f3a"
             ],
             [
              0.8888888888888888,
              "#fdca26"
             ],
             [
              1,
              "#f0f921"
             ]
            ],
            "type": "contour"
           }
          ],
          "contourcarpet": [
           {
            "colorbar": {
             "outlinewidth": 0,
             "ticks": ""
            },
            "type": "contourcarpet"
           }
          ],
          "heatmap": [
           {
            "colorbar": {
             "outlinewidth": 0,
             "ticks": ""
            },
            "colorscale": [
             [
              0,
              "#0d0887"
             ],
             [
              0.1111111111111111,
              "#46039f"
             ],
             [
              0.2222222222222222,
              "#7201a8"
             ],
             [
              0.3333333333333333,
              "#9c179e"
             ],
             [
              0.4444444444444444,
              "#bd3786"
             ],
             [
              0.5555555555555556,
              "#d8576b"
             ],
             [
              0.6666666666666666,
              "#ed7953"
             ],
             [
              0.7777777777777778,
              "#fb9f3a"
             ],
             [
              0.8888888888888888,
              "#fdca26"
             ],
             [
              1,
              "#f0f921"
             ]
            ],
            "type": "heatmap"
           }
          ],
          "heatmapgl": [
           {
            "colorbar": {
             "outlinewidth": 0,
             "ticks": ""
            },
            "colorscale": [
             [
              0,
              "#0d0887"
             ],
             [
              0.1111111111111111,
              "#46039f"
             ],
             [
              0.2222222222222222,
              "#7201a8"
             ],
             [
              0.3333333333333333,
              "#9c179e"
             ],
             [
              0.4444444444444444,
              "#bd3786"
             ],
             [
              0.5555555555555556,
              "#d8576b"
             ],
             [
              0.6666666666666666,
              "#ed7953"
             ],
             [
              0.7777777777777778,
              "#fb9f3a"
             ],
             [
              0.8888888888888888,
              "#fdca26"
             ],
             [
              1,
              "#f0f921"
             ]
            ],
            "type": "heatmapgl"
           }
          ],
          "histogram": [
           {
            "marker": {
             "colorbar": {
              "outlinewidth": 0,
              "ticks": ""
             }
            },
            "type": "histogram"
           }
          ],
          "histogram2d": [
           {
            "colorbar": {
             "outlinewidth": 0,
             "ticks": ""
            },
            "colorscale": [
             [
              0,
              "#0d0887"
             ],
             [
              0.1111111111111111,
              "#46039f"
             ],
             [
              0.2222222222222222,
              "#7201a8"
             ],
             [
              0.3333333333333333,
              "#9c179e"
             ],
             [
              0.4444444444444444,
              "#bd3786"
             ],
             [
              0.5555555555555556,
              "#d8576b"
             ],
             [
              0.6666666666666666,
              "#ed7953"
             ],
             [
              0.7777777777777778,
              "#fb9f3a"
             ],
             [
              0.8888888888888888,
              "#fdca26"
             ],
             [
              1,
              "#f0f921"
             ]
            ],
            "type": "histogram2d"
           }
          ],
          "histogram2dcontour": [
           {
            "colorbar": {
             "outlinewidth": 0,
             "ticks": ""
            },
            "colorscale": [
             [
              0,
              "#0d0887"
             ],
             [
              0.1111111111111111,
              "#46039f"
             ],
             [
              0.2222222222222222,
              "#7201a8"
             ],
             [
              0.3333333333333333,
              "#9c179e"
             ],
             [
              0.4444444444444444,
              "#bd3786"
             ],
             [
              0.5555555555555556,
              "#d8576b"
             ],
             [
              0.6666666666666666,
              "#ed7953"
             ],
             [
              0.7777777777777778,
              "#fb9f3a"
             ],
             [
              0.8888888888888888,
              "#fdca26"
             ],
             [
              1,
              "#f0f921"
             ]
            ],
            "type": "histogram2dcontour"
           }
          ],
          "mesh3d": [
           {
            "colorbar": {
             "outlinewidth": 0,
             "ticks": ""
            },
            "type": "mesh3d"
           }
          ],
          "parcoords": [
           {
            "line": {
             "colorbar": {
              "outlinewidth": 0,
              "ticks": ""
             }
            },
            "type": "parcoords"
           }
          ],
          "pie": [
           {
            "automargin": true,
            "type": "pie"
           }
          ],
          "scatter": [
           {
            "marker": {
             "colorbar": {
              "outlinewidth": 0,
              "ticks": ""
             }
            },
            "type": "scatter"
           }
          ],
          "scatter3d": [
           {
            "line": {
             "colorbar": {
              "outlinewidth": 0,
              "ticks": ""
             }
            },
            "marker": {
             "colorbar": {
              "outlinewidth": 0,
              "ticks": ""
             }
            },
            "type": "scatter3d"
           }
          ],
          "scattercarpet": [
           {
            "marker": {
             "colorbar": {
              "outlinewidth": 0,
              "ticks": ""
             }
            },
            "type": "scattercarpet"
           }
          ],
          "scattergeo": [
           {
            "marker": {
             "colorbar": {
              "outlinewidth": 0,
              "ticks": ""
             }
            },
            "type": "scattergeo"
           }
          ],
          "scattergl": [
           {
            "marker": {
             "colorbar": {
              "outlinewidth": 0,
              "ticks": ""
             }
            },
            "type": "scattergl"
           }
          ],
          "scattermapbox": [
           {
            "marker": {
             "colorbar": {
              "outlinewidth": 0,
              "ticks": ""
             }
            },
            "type": "scattermapbox"
           }
          ],
          "scatterpolar": [
           {
            "marker": {
             "colorbar": {
              "outlinewidth": 0,
              "ticks": ""
             }
            },
            "type": "scatterpolar"
           }
          ],
          "scatterpolargl": [
           {
            "marker": {
             "colorbar": {
              "outlinewidth": 0,
              "ticks": ""
             }
            },
            "type": "scatterpolargl"
           }
          ],
          "scatterternary": [
           {
            "marker": {
             "colorbar": {
              "outlinewidth": 0,
              "ticks": ""
             }
            },
            "type": "scatterternary"
           }
          ],
          "surface": [
           {
            "colorbar": {
             "outlinewidth": 0,
             "ticks": ""
            },
            "colorscale": [
             [
              0,
              "#0d0887"
             ],
             [
              0.1111111111111111,
              "#46039f"
             ],
             [
              0.2222222222222222,
              "#7201a8"
             ],
             [
              0.3333333333333333,
              "#9c179e"
             ],
             [
              0.4444444444444444,
              "#bd3786"
             ],
             [
              0.5555555555555556,
              "#d8576b"
             ],
             [
              0.6666666666666666,
              "#ed7953"
             ],
             [
              0.7777777777777778,
              "#fb9f3a"
             ],
             [
              0.8888888888888888,
              "#fdca26"
             ],
             [
              1,
              "#f0f921"
             ]
            ],
            "type": "surface"
           }
          ],
          "table": [
           {
            "cells": {
             "fill": {
              "color": "#EBF0F8"
             },
             "line": {
              "color": "white"
             }
            },
            "header": {
             "fill": {
              "color": "#C8D4E3"
             },
             "line": {
              "color": "white"
             }
            },
            "type": "table"
           }
          ]
         },
         "layout": {
          "annotationdefaults": {
           "arrowcolor": "#2a3f5f",
           "arrowhead": 0,
           "arrowwidth": 1
          },
          "autotypenumbers": "strict",
          "coloraxis": {
           "colorbar": {
            "outlinewidth": 0,
            "ticks": ""
           }
          },
          "colorscale": {
           "diverging": [
            [
             0,
             "#8e0152"
            ],
            [
             0.1,
             "#c51b7d"
            ],
            [
             0.2,
             "#de77ae"
            ],
            [
             0.3,
             "#f1b6da"
            ],
            [
             0.4,
             "#fde0ef"
            ],
            [
             0.5,
             "#f7f7f7"
            ],
            [
             0.6,
             "#e6f5d0"
            ],
            [
             0.7,
             "#b8e186"
            ],
            [
             0.8,
             "#7fbc41"
            ],
            [
             0.9,
             "#4d9221"
            ],
            [
             1,
             "#276419"
            ]
           ],
           "sequential": [
            [
             0,
             "#0d0887"
            ],
            [
             0.1111111111111111,
             "#46039f"
            ],
            [
             0.2222222222222222,
             "#7201a8"
            ],
            [
             0.3333333333333333,
             "#9c179e"
            ],
            [
             0.4444444444444444,
             "#bd3786"
            ],
            [
             0.5555555555555556,
             "#d8576b"
            ],
            [
             0.6666666666666666,
             "#ed7953"
            ],
            [
             0.7777777777777778,
             "#fb9f3a"
            ],
            [
             0.8888888888888888,
             "#fdca26"
            ],
            [
             1,
             "#f0f921"
            ]
           ],
           "sequentialminus": [
            [
             0,
             "#0d0887"
            ],
            [
             0.1111111111111111,
             "#46039f"
            ],
            [
             0.2222222222222222,
             "#7201a8"
            ],
            [
             0.3333333333333333,
             "#9c179e"
            ],
            [
             0.4444444444444444,
             "#bd3786"
            ],
            [
             0.5555555555555556,
             "#d8576b"
            ],
            [
             0.6666666666666666,
             "#ed7953"
            ],
            [
             0.7777777777777778,
             "#fb9f3a"
            ],
            [
             0.8888888888888888,
             "#fdca26"
            ],
            [
             1,
             "#f0f921"
            ]
           ]
          },
          "colorway": [
           "#636efa",
           "#EF553B",
           "#00cc96",
           "#ab63fa",
           "#FFA15A",
           "#19d3f3",
           "#FF6692",
           "#B6E880",
           "#FF97FF",
           "#FECB52"
          ],
          "font": {
           "color": "#2a3f5f"
          },
          "geo": {
           "bgcolor": "white",
           "lakecolor": "white",
           "landcolor": "#E5ECF6",
           "showlakes": true,
           "showland": true,
           "subunitcolor": "white"
          },
          "hoverlabel": {
           "align": "left"
          },
          "hovermode": "closest",
          "mapbox": {
           "style": "light"
          },
          "paper_bgcolor": "white",
          "plot_bgcolor": "#E5ECF6",
          "polar": {
           "angularaxis": {
            "gridcolor": "white",
            "linecolor": "white",
            "ticks": ""
           },
           "bgcolor": "#E5ECF6",
           "radialaxis": {
            "gridcolor": "white",
            "linecolor": "white",
            "ticks": ""
           }
          },
          "scene": {
           "xaxis": {
            "backgroundcolor": "#E5ECF6",
            "gridcolor": "white",
            "gridwidth": 2,
            "linecolor": "white",
            "showbackground": true,
            "ticks": "",
            "zerolinecolor": "white"
           },
           "yaxis": {
            "backgroundcolor": "#E5ECF6",
            "gridcolor": "white",
            "gridwidth": 2,
            "linecolor": "white",
            "showbackground": true,
            "ticks": "",
            "zerolinecolor": "white"
           },
           "zaxis": {
            "backgroundcolor": "#E5ECF6",
            "gridcolor": "white",
            "gridwidth": 2,
            "linecolor": "white",
            "showbackground": true,
            "ticks": "",
            "zerolinecolor": "white"
           }
          },
          "shapedefaults": {
           "line": {
            "color": "#2a3f5f"
           }
          },
          "ternary": {
           "aaxis": {
            "gridcolor": "white",
            "linecolor": "white",
            "ticks": ""
           },
           "baxis": {
            "gridcolor": "white",
            "linecolor": "white",
            "ticks": ""
           },
           "bgcolor": "#E5ECF6",
           "caxis": {
            "gridcolor": "white",
            "linecolor": "white",
            "ticks": ""
           }
          },
          "title": {
           "x": 0.05
          },
          "xaxis": {
           "automargin": true,
           "gridcolor": "white",
           "linecolor": "white",
           "ticks": "",
           "title": {
            "standoff": 15
           },
           "zerolinecolor": "white",
           "zerolinewidth": 2
          },
          "yaxis": {
           "automargin": true,
           "gridcolor": "white",
           "linecolor": "white",
           "ticks": "",
           "title": {
            "standoff": 15
           },
           "zerolinecolor": "white",
           "zerolinewidth": 2
          }
         }
        },
        "width": 1000,
        "xaxis": {
         "anchor": "y",
         "domain": [
          0,
          1
         ],
         "title": {
          "text": "Function"
         }
        },
        "yaxis": {
         "anchor": "x",
         "domain": [
          0,
          1
         ],
         "title": {
          "text": "Memory Delta (MiB)"
         }
        }
       }
      }
     },
     "metadata": {}
    }
   ],
   "source": [
    "# Function breakdown\n",
    "pp.plot_byfn(mode='memory')"
   ]
  },
  {
   "cell_type": "code",
   "execution_count": 5,
   "metadata": {},
   "outputs": [
    {
     "output_type": "display_data",
     "data": {
      "application/vnd.plotly.v1+json": {
       "config": {
        "plotlyServerURL": "https://plot.ly"
       },
       "data": [
        {
         "alignmentgroup": "True",
         "customdata": [
          [
           29,
           1,
           90.523,
           "hi = do_some_math(2 * m, 3 * n)"
          ],
          [
           17,
           1,
           80.73,
           "x, y, z, a, b, c = make_randoms(m, n)"
          ],
          [
           7,
           1,
           136.035,
           "A = np.random.randn(m, n)"
          ],
          [
           24,
           1,
           90.219,
           "T = 2 * (y @ x.T) * c"
          ],
          [
           58,
           1,
           73.098,
           "b = np.random.randn(m, n)"
          ],
          [
           57,
           1,
           65.465,
           "a = np.random.randn(m, m)"
          ],
          [
           56,
           1,
           57.832,
           "z = np.random.randn(n, n)"
          ],
          [
           59,
           1,
           80.73,
           "c = np.random.randn(n, m)"
          ],
          [
           19,
           2,
           82.578,
           "f = x.T @ a @\\"
          ],
          [
           10,
           1,
           136.301,
           "return x @ A @ y"
          ]
         ],
         "hovertemplate": "Memory Delta (MiB)=%{marker.color:.2f}<br>Rank=%{y}<br>Line=%{customdata[0]}<br>Occurences=%{customdata[1]}<br>Total Memory (MiB)=%{customdata[2]:.2f}<br>Text=%{customdata[3]}<extra></extra>",
         "legendgroup": "",
         "marker": {
          "color": [
           90.523,
           80.73,
           45.777,
           7.641,
           7.633,
           7.633,
           7.633,
           7.633,
           1.812,
           0.246
          ],
          "coloraxis": "coloraxis"
         },
         "name": "",
         "offsetgroup": "",
         "orientation": "h",
         "showlegend": false,
         "text": [
          29,
          17,
          7,
          24,
          58,
          57,
          56,
          59,
          19,
          10
         ],
         "textposition": "outside",
         "type": "bar",
         "x": [
          90.523,
          80.73,
          45.777,
          7.641,
          7.633,
          7.633,
          7.633,
          7.633,
          1.812,
          0.246
         ],
         "xaxis": "x",
         "y": [
          1,
          2,
          3,
          4,
          5,
          6,
          7,
          8,
          9,
          10
         ],
         "yaxis": "y"
        }
       ],
       "layout": {
        "barmode": "relative",
        "coloraxis": {
         "colorbar": {
          "title": {
           "text": "Memory Delta (MiB)"
          }
         },
         "colorscale": [
          [
           0,
           "rgb(252, 222, 156)"
          ],
          [
           0.16666666666666666,
           "rgb(250, 164, 118)"
          ],
          [
           0.3333333333333333,
           "rgb(240, 116, 110)"
          ],
          [
           0.5,
           "rgb(227, 79, 111)"
          ],
          [
           0.6666666666666666,
           "rgb(220, 57, 119)"
          ],
          [
           0.8333333333333334,
           "rgb(185, 37, 122)"
          ],
          [
           1,
           "rgb(124, 29, 111)"
          ]
         ]
        },
        "height": 600,
        "legend": {
         "tracegroupgap": 0
        },
        "margin": {
         "t": 60
        },
        "template": {
         "data": {
          "bar": [
           {
            "error_x": {
             "color": "#2a3f5f"
            },
            "error_y": {
             "color": "#2a3f5f"
            },
            "marker": {
             "line": {
              "color": "#E5ECF6",
              "width": 0.5
             }
            },
            "type": "bar"
           }
          ],
          "barpolar": [
           {
            "marker": {
             "line": {
              "color": "#E5ECF6",
              "width": 0.5
             }
            },
            "type": "barpolar"
           }
          ],
          "carpet": [
           {
            "aaxis": {
             "endlinecolor": "#2a3f5f",
             "gridcolor": "white",
             "linecolor": "white",
             "minorgridcolor": "white",
             "startlinecolor": "#2a3f5f"
            },
            "baxis": {
             "endlinecolor": "#2a3f5f",
             "gridcolor": "white",
             "linecolor": "white",
             "minorgridcolor": "white",
             "startlinecolor": "#2a3f5f"
            },
            "type": "carpet"
           }
          ],
          "choropleth": [
           {
            "colorbar": {
             "outlinewidth": 0,
             "ticks": ""
            },
            "type": "choropleth"
           }
          ],
          "contour": [
           {
            "colorbar": {
             "outlinewidth": 0,
             "ticks": ""
            },
            "colorscale": [
             [
              0,
              "#0d0887"
             ],
             [
              0.1111111111111111,
              "#46039f"
             ],
             [
              0.2222222222222222,
              "#7201a8"
             ],
             [
              0.3333333333333333,
              "#9c179e"
             ],
             [
              0.4444444444444444,
              "#bd3786"
             ],
             [
              0.5555555555555556,
              "#d8576b"
             ],
             [
              0.6666666666666666,
              "#ed7953"
             ],
             [
              0.7777777777777778,
              "#fb9f3a"
             ],
             [
              0.8888888888888888,
              "#fdca26"
             ],
             [
              1,
              "#f0f921"
             ]
            ],
            "type": "contour"
           }
          ],
          "contourcarpet": [
           {
            "colorbar": {
             "outlinewidth": 0,
             "ticks": ""
            },
            "type": "contourcarpet"
           }
          ],
          "heatmap": [
           {
            "colorbar": {
             "outlinewidth": 0,
             "ticks": ""
            },
            "colorscale": [
             [
              0,
              "#0d0887"
             ],
             [
              0.1111111111111111,
              "#46039f"
             ],
             [
              0.2222222222222222,
              "#7201a8"
             ],
             [
              0.3333333333333333,
              "#9c179e"
             ],
             [
              0.4444444444444444,
              "#bd3786"
             ],
             [
              0.5555555555555556,
              "#d8576b"
             ],
             [
              0.6666666666666666,
              "#ed7953"
             ],
             [
              0.7777777777777778,
              "#fb9f3a"
             ],
             [
              0.8888888888888888,
              "#fdca26"
             ],
             [
              1,
              "#f0f921"
             ]
            ],
            "type": "heatmap"
           }
          ],
          "heatmapgl": [
           {
            "colorbar": {
             "outlinewidth": 0,
             "ticks": ""
            },
            "colorscale": [
             [
              0,
              "#0d0887"
             ],
             [
              0.1111111111111111,
              "#46039f"
             ],
             [
              0.2222222222222222,
              "#7201a8"
             ],
             [
              0.3333333333333333,
              "#9c179e"
             ],
             [
              0.4444444444444444,
              "#bd3786"
             ],
             [
              0.5555555555555556,
              "#d8576b"
             ],
             [
              0.6666666666666666,
              "#ed7953"
             ],
             [
              0.7777777777777778,
              "#fb9f3a"
             ],
             [
              0.8888888888888888,
              "#fdca26"
             ],
             [
              1,
              "#f0f921"
             ]
            ],
            "type": "heatmapgl"
           }
          ],
          "histogram": [
           {
            "marker": {
             "colorbar": {
              "outlinewidth": 0,
              "ticks": ""
             }
            },
            "type": "histogram"
           }
          ],
          "histogram2d": [
           {
            "colorbar": {
             "outlinewidth": 0,
             "ticks": ""
            },
            "colorscale": [
             [
              0,
              "#0d0887"
             ],
             [
              0.1111111111111111,
              "#46039f"
             ],
             [
              0.2222222222222222,
              "#7201a8"
             ],
             [
              0.3333333333333333,
              "#9c179e"
             ],
             [
              0.4444444444444444,
              "#bd3786"
             ],
             [
              0.5555555555555556,
              "#d8576b"
             ],
             [
              0.6666666666666666,
              "#ed7953"
             ],
             [
              0.7777777777777778,
              "#fb9f3a"
             ],
             [
              0.8888888888888888,
              "#fdca26"
             ],
             [
              1,
              "#f0f921"
             ]
            ],
            "type": "histogram2d"
           }
          ],
          "histogram2dcontour": [
           {
            "colorbar": {
             "outlinewidth": 0,
             "ticks": ""
            },
            "colorscale": [
             [
              0,
              "#0d0887"
             ],
             [
              0.1111111111111111,
              "#46039f"
             ],
             [
              0.2222222222222222,
              "#7201a8"
             ],
             [
              0.3333333333333333,
              "#9c179e"
             ],
             [
              0.4444444444444444,
              "#bd3786"
             ],
             [
              0.5555555555555556,
              "#d8576b"
             ],
             [
              0.6666666666666666,
              "#ed7953"
             ],
             [
              0.7777777777777778,
              "#fb9f3a"
             ],
             [
              0.8888888888888888,
              "#fdca26"
             ],
             [
              1,
              "#f0f921"
             ]
            ],
            "type": "histogram2dcontour"
           }
          ],
          "mesh3d": [
           {
            "colorbar": {
             "outlinewidth": 0,
             "ticks": ""
            },
            "type": "mesh3d"
           }
          ],
          "parcoords": [
           {
            "line": {
             "colorbar": {
              "outlinewidth": 0,
              "ticks": ""
             }
            },
            "type": "parcoords"
           }
          ],
          "pie": [
           {
            "automargin": true,
            "type": "pie"
           }
          ],
          "scatter": [
           {
            "marker": {
             "colorbar": {
              "outlinewidth": 0,
              "ticks": ""
             }
            },
            "type": "scatter"
           }
          ],
          "scatter3d": [
           {
            "line": {
             "colorbar": {
              "outlinewidth": 0,
              "ticks": ""
             }
            },
            "marker": {
             "colorbar": {
              "outlinewidth": 0,
              "ticks": ""
             }
            },
            "type": "scatter3d"
           }
          ],
          "scattercarpet": [
           {
            "marker": {
             "colorbar": {
              "outlinewidth": 0,
              "ticks": ""
             }
            },
            "type": "scattercarpet"
           }
          ],
          "scattergeo": [
           {
            "marker": {
             "colorbar": {
              "outlinewidth": 0,
              "ticks": ""
             }
            },
            "type": "scattergeo"
           }
          ],
          "scattergl": [
           {
            "marker": {
             "colorbar": {
              "outlinewidth": 0,
              "ticks": ""
             }
            },
            "type": "scattergl"
           }
          ],
          "scattermapbox": [
           {
            "marker": {
             "colorbar": {
              "outlinewidth": 0,
              "ticks": ""
             }
            },
            "type": "scattermapbox"
           }
          ],
          "scatterpolar": [
           {
            "marker": {
             "colorbar": {
              "outlinewidth": 0,
              "ticks": ""
             }
            },
            "type": "scatterpolar"
           }
          ],
          "scatterpolargl": [
           {
            "marker": {
             "colorbar": {
              "outlinewidth": 0,
              "ticks": ""
             }
            },
            "type": "scatterpolargl"
           }
          ],
          "scatterternary": [
           {
            "marker": {
             "colorbar": {
              "outlinewidth": 0,
              "ticks": ""
             }
            },
            "type": "scatterternary"
           }
          ],
          "surface": [
           {
            "colorbar": {
             "outlinewidth": 0,
             "ticks": ""
            },
            "colorscale": [
             [
              0,
              "#0d0887"
             ],
             [
              0.1111111111111111,
              "#46039f"
             ],
             [
              0.2222222222222222,
              "#7201a8"
             ],
             [
              0.3333333333333333,
              "#9c179e"
             ],
             [
              0.4444444444444444,
              "#bd3786"
             ],
             [
              0.5555555555555556,
              "#d8576b"
             ],
             [
              0.6666666666666666,
              "#ed7953"
             ],
             [
              0.7777777777777778,
              "#fb9f3a"
             ],
             [
              0.8888888888888888,
              "#fdca26"
             ],
             [
              1,
              "#f0f921"
             ]
            ],
            "type": "surface"
           }
          ],
          "table": [
           {
            "cells": {
             "fill": {
              "color": "#EBF0F8"
             },
             "line": {
              "color": "white"
             }
            },
            "header": {
             "fill": {
              "color": "#C8D4E3"
             },
             "line": {
              "color": "white"
             }
            },
            "type": "table"
           }
          ]
         },
         "layout": {
          "annotationdefaults": {
           "arrowcolor": "#2a3f5f",
           "arrowhead": 0,
           "arrowwidth": 1
          },
          "autotypenumbers": "strict",
          "coloraxis": {
           "colorbar": {
            "outlinewidth": 0,
            "ticks": ""
           }
          },
          "colorscale": {
           "diverging": [
            [
             0,
             "#8e0152"
            ],
            [
             0.1,
             "#c51b7d"
            ],
            [
             0.2,
             "#de77ae"
            ],
            [
             0.3,
             "#f1b6da"
            ],
            [
             0.4,
             "#fde0ef"
            ],
            [
             0.5,
             "#f7f7f7"
            ],
            [
             0.6,
             "#e6f5d0"
            ],
            [
             0.7,
             "#b8e186"
            ],
            [
             0.8,
             "#7fbc41"
            ],
            [
             0.9,
             "#4d9221"
            ],
            [
             1,
             "#276419"
            ]
           ],
           "sequential": [
            [
             0,
             "#0d0887"
            ],
            [
             0.1111111111111111,
             "#46039f"
            ],
            [
             0.2222222222222222,
             "#7201a8"
            ],
            [
             0.3333333333333333,
             "#9c179e"
            ],
            [
             0.4444444444444444,
             "#bd3786"
            ],
            [
             0.5555555555555556,
             "#d8576b"
            ],
            [
             0.6666666666666666,
             "#ed7953"
            ],
            [
             0.7777777777777778,
             "#fb9f3a"
            ],
            [
             0.8888888888888888,
             "#fdca26"
            ],
            [
             1,
             "#f0f921"
            ]
           ],
           "sequentialminus": [
            [
             0,
             "#0d0887"
            ],
            [
             0.1111111111111111,
             "#46039f"
            ],
            [
             0.2222222222222222,
             "#7201a8"
            ],
            [
             0.3333333333333333,
             "#9c179e"
            ],
            [
             0.4444444444444444,
             "#bd3786"
            ],
            [
             0.5555555555555556,
             "#d8576b"
            ],
            [
             0.6666666666666666,
             "#ed7953"
            ],
            [
             0.7777777777777778,
             "#fb9f3a"
            ],
            [
             0.8888888888888888,
             "#fdca26"
            ],
            [
             1,
             "#f0f921"
            ]
           ]
          },
          "colorway": [
           "#636efa",
           "#EF553B",
           "#00cc96",
           "#ab63fa",
           "#FFA15A",
           "#19d3f3",
           "#FF6692",
           "#B6E880",
           "#FF97FF",
           "#FECB52"
          ],
          "font": {
           "color": "#2a3f5f"
          },
          "geo": {
           "bgcolor": "white",
           "lakecolor": "white",
           "landcolor": "#E5ECF6",
           "showlakes": true,
           "showland": true,
           "subunitcolor": "white"
          },
          "hoverlabel": {
           "align": "left"
          },
          "hovermode": "closest",
          "mapbox": {
           "style": "light"
          },
          "paper_bgcolor": "white",
          "plot_bgcolor": "#E5ECF6",
          "polar": {
           "angularaxis": {
            "gridcolor": "white",
            "linecolor": "white",
            "ticks": ""
           },
           "bgcolor": "#E5ECF6",
           "radialaxis": {
            "gridcolor": "white",
            "linecolor": "white",
            "ticks": ""
           }
          },
          "scene": {
           "xaxis": {
            "backgroundcolor": "#E5ECF6",
            "gridcolor": "white",
            "gridwidth": 2,
            "linecolor": "white",
            "showbackground": true,
            "ticks": "",
            "zerolinecolor": "white"
           },
           "yaxis": {
            "backgroundcolor": "#E5ECF6",
            "gridcolor": "white",
            "gridwidth": 2,
            "linecolor": "white",
            "showbackground": true,
            "ticks": "",
            "zerolinecolor": "white"
           },
           "zaxis": {
            "backgroundcolor": "#E5ECF6",
            "gridcolor": "white",
            "gridwidth": 2,
            "linecolor": "white",
            "showbackground": true,
            "ticks": "",
            "zerolinecolor": "white"
           }
          },
          "shapedefaults": {
           "line": {
            "color": "#2a3f5f"
           }
          },
          "ternary": {
           "aaxis": {
            "gridcolor": "white",
            "linecolor": "white",
            "ticks": ""
           },
           "baxis": {
            "gridcolor": "white",
            "linecolor": "white",
            "ticks": ""
           },
           "bgcolor": "#E5ECF6",
           "caxis": {
            "gridcolor": "white",
            "linecolor": "white",
            "ticks": ""
           }
          },
          "title": {
           "x": 0.05
          },
          "xaxis": {
           "automargin": true,
           "gridcolor": "white",
           "linecolor": "white",
           "ticks": "",
           "title": {
            "standoff": 15
           },
           "zerolinecolor": "white",
           "zerolinewidth": 2
          },
          "yaxis": {
           "automargin": true,
           "gridcolor": "white",
           "linecolor": "white",
           "ticks": "",
           "title": {
            "standoff": 15
           },
           "zerolinecolor": "white",
           "zerolinewidth": 2
          }
         }
        },
        "title": {
         "text": "Most Memory Intensive Lines"
        },
        "width": 1200,
        "xaxis": {
         "anchor": "y",
         "domain": [
          0,
          1
         ],
         "title": {
          "text": "Memory Delta (MiB)"
         }
        },
        "yaxis": {
         "anchor": "x",
         "autorange": "reversed",
         "domain": [
          0,
          1
         ],
         "dtick": 1,
         "tick0": 1,
         "tickmode": "linear",
         "title": {
          "text": "Rank"
         }
        }
       }
      }
     },
     "metadata": {}
    }
   ],
   "source": [
    "# Rankings plot\n",
    "pp.plot_ranks(mode='memory')"
   ]
  },
  {
   "cell_type": "code",
   "execution_count": 6,
   "metadata": {},
   "outputs": [],
   "source": [
    "script = 'modified_Lorenz'\n",
    "\n",
    "pp = ProfileProcessor(memory_path=f'./profiles/{script}__memory_profile.txt',\n",
    "                             line_path=f'./profiles/{script}__line_profile.txt')"
   ]
  },
  {
   "cell_type": "code",
   "execution_count": 7,
   "metadata": {},
   "outputs": [
    {
     "output_type": "display_data",
     "data": {
      "text/plain": "<Figure size 1296x432 with 2 Axes>",
      "image/svg+xml": "<?xml version=\"1.0\" encoding=\"utf-8\" standalone=\"no\"?>\r\n<!DOCTYPE svg PUBLIC \"-//W3C//DTD SVG 1.1//EN\"\r\n  \"http://www.w3.org/Graphics/SVG/1.1/DTD/svg11.dtd\">\r\n<!-- Created with matplotlib (https://matplotlib.org/) -->\r\n<svg height=\"373.303125pt\" version=\"1.1\" viewBox=\"0 0 1087.195625 373.303125\" width=\"1087.195625pt\" xmlns=\"http://www.w3.org/2000/svg\" xmlns:xlink=\"http://www.w3.org/1999/xlink\">\r\n <metadata>\r\n  <rdf:RDF xmlns:cc=\"http://creativecommons.org/ns#\" xmlns:dc=\"http://purl.org/dc/elements/1.1/\" xmlns:rdf=\"http://www.w3.org/1999/02/22-rdf-syntax-ns#\">\r\n   <cc:Work>\r\n    <dc:type rdf:resource=\"http://purl.org/dc/dcmitype/StillImage\"/>\r\n    <dc:date>2021-06-28T12:07:56.834128</dc:date>\r\n    <dc:format>image/svg+xml</dc:format>\r\n    <dc:creator>\r\n     <cc:Agent>\r\n      <dc:title>Matplotlib v3.3.2, https://matplotlib.org/</dc:title>\r\n     </cc:Agent>\r\n    </dc:creator>\r\n   </cc:Work>\r\n  </rdf:RDF>\r\n </metadata>\r\n <defs>\r\n  <style type=\"text/css\">*{stroke-linecap:butt;stroke-linejoin:round;}</style>\r\n </defs>\r\n <g id=\"figure_1\">\r\n  <g id=\"patch_1\">\r\n   <path d=\"M 0 373.303125 \r\nL 1087.195625 373.303125 \r\nL 1087.195625 0 \r\nL 0 0 \r\nz\r\n\" style=\"fill:none;\"/>\r\n  </g>\r\n  <g id=\"axes_1\">\r\n   <g id=\"patch_2\">\r\n    <path d=\"M 46.168125 333.36 \r\nL 1050.568125 333.36 \r\nL 1050.568125 7.2 \r\nL 46.168125 7.2 \r\nz\r\n\" style=\"fill:#ffffff;\"/>\r\n   </g>\r\n   <g id=\"patch_3\">\r\n    <path clip-path=\"url(#p41bf1ea8bc)\" d=\"M 91.82267 333.36 \r\nL 106.490798 333.36 \r\nL 106.490798 333.36 \r\nL 91.82267 333.36 \r\nz\r\n\" style=\"fill:#ff0000;fill-opacity:0.3;stroke:#ff0000;stroke-linejoin:miter;\"/>\r\n   </g>\r\n   <g id=\"patch_4\">\r\n    <path clip-path=\"url(#p41bf1ea8bc)\" d=\"M 110.157829 333.36 \r\nL 124.825956 333.36 \r\nL 124.825956 333.36 \r\nL 110.157829 333.36 \r\nz\r\n\" style=\"fill:#ff0000;fill-opacity:0.3;stroke:#ff0000;stroke-linejoin:miter;\"/>\r\n   </g>\r\n   <g id=\"patch_5\">\r\n    <path clip-path=\"url(#p41bf1ea8bc)\" d=\"M 128.492988 333.36 \r\nL 143.161115 333.36 \r\nL 143.161115 333.359714 \r\nL 128.492988 333.359714 \r\nz\r\n\" style=\"fill:#ff0000;fill-opacity:0.3;stroke:#ff0000;stroke-linejoin:miter;\"/>\r\n   </g>\r\n   <g id=\"patch_6\">\r\n    <path clip-path=\"url(#p41bf1ea8bc)\" d=\"M 146.828147 333.36 \r\nL 161.496274 333.36 \r\nL 161.496274 333.357929 \r\nL 146.828147 333.357929 \r\nz\r\n\" style=\"fill:#ff0000;fill-opacity:0.3;stroke:#ff0000;stroke-linejoin:miter;\"/>\r\n   </g>\r\n   <g id=\"patch_7\">\r\n    <path clip-path=\"url(#p41bf1ea8bc)\" d=\"M 165.163306 333.36 \r\nL 179.831433 333.36 \r\nL 179.831433 333.332642 \r\nL 165.163306 333.332642 \r\nz\r\n\" style=\"fill:#ff0000;fill-opacity:0.3;stroke:#ff0000;stroke-linejoin:miter;\"/>\r\n   </g>\r\n   <g id=\"patch_8\">\r\n    <path clip-path=\"url(#p41bf1ea8bc)\" d=\"M 183.498465 333.36 \r\nL 198.166592 333.36 \r\nL 198.166592 22.731429 \r\nL 183.498465 22.731429 \r\nz\r\n\" style=\"fill:#ff0000;fill-opacity:0.3;stroke:#ff0000;stroke-linejoin:miter;\"/>\r\n   </g>\r\n   <g id=\"patch_9\">\r\n    <path clip-path=\"url(#p41bf1ea8bc)\" d=\"M 201.833623 333.36 \r\nL 216.50175 333.36 \r\nL 216.50175 333.355857 \r\nL 201.833623 333.355857 \r\nz\r\n\" style=\"fill:#ff0000;fill-opacity:0.3;stroke:#ff0000;stroke-linejoin:miter;\"/>\r\n   </g>\r\n   <g id=\"patch_10\">\r\n    <path clip-path=\"url(#p41bf1ea8bc)\" d=\"M 220.168782 333.36 \r\nL 234.836909 333.36 \r\nL 234.836909 333.359857 \r\nL 220.168782 333.359857 \r\nz\r\n\" style=\"fill:#ff0000;fill-opacity:0.3;stroke:#ff0000;stroke-linejoin:miter;\"/>\r\n   </g>\r\n   <g id=\"patch_11\">\r\n    <path clip-path=\"url(#p41bf1ea8bc)\" d=\"M 275.174259 333.36 \r\nL 289.842386 333.36 \r\nL 289.842386 333.36 \r\nL 275.174259 333.36 \r\nz\r\n\" style=\"fill:#ff0000;fill-opacity:0.3;stroke:#ff0000;stroke-linejoin:miter;\"/>\r\n   </g>\r\n   <g id=\"patch_12\">\r\n    <path clip-path=\"url(#p41bf1ea8bc)\" d=\"M 293.509417 333.36 \r\nL 308.177544 333.36 \r\nL 308.177544 333.36 \r\nL 293.509417 333.36 \r\nz\r\n\" style=\"fill:#ff0000;fill-opacity:0.3;stroke:#ff0000;stroke-linejoin:miter;\"/>\r\n   </g>\r\n   <g id=\"patch_13\">\r\n    <path clip-path=\"url(#p41bf1ea8bc)\" d=\"M 311.844576 333.36 \r\nL 326.512703 333.36 \r\nL 326.512703 296.069428 \r\nL 311.844576 296.069428 \r\nz\r\n\" style=\"fill:#ff0000;fill-opacity:0.3;stroke:#ff0000;stroke-linejoin:miter;\"/>\r\n   </g>\r\n   <g id=\"patch_14\">\r\n    <path clip-path=\"url(#p41bf1ea8bc)\" d=\"M 330.179735 333.36 \r\nL 344.847862 333.36 \r\nL 344.847862 333.36 \r\nL 330.179735 333.36 \r\nz\r\n\" style=\"fill:#ff0000;fill-opacity:0.3;stroke:#ff0000;stroke-linejoin:miter;\"/>\r\n   </g>\r\n   <g id=\"patch_15\">\r\n    <path clip-path=\"url(#p41bf1ea8bc)\" d=\"M 348.514894 333.36 \r\nL 363.183021 333.36 \r\nL 363.183021 333.36 \r\nL 348.514894 333.36 \r\nz\r\n\" style=\"fill:#ff0000;fill-opacity:0.3;stroke:#ff0000;stroke-linejoin:miter;\"/>\r\n   </g>\r\n   <g id=\"patch_16\">\r\n    <path clip-path=\"url(#p41bf1ea8bc)\" d=\"M 366.850053 333.36 \r\nL 381.51818 333.36 \r\nL 381.51818 333.36 \r\nL 366.850053 333.36 \r\nz\r\n\" style=\"fill:#ff0000;fill-opacity:0.3;stroke:#ff0000;stroke-linejoin:miter;\"/>\r\n   </g>\r\n   <g id=\"patch_17\">\r\n    <path clip-path=\"url(#p41bf1ea8bc)\" d=\"M 385.185212 333.36 \r\nL 399.853339 333.36 \r\nL 399.853339 333.36 \r\nL 385.185212 333.36 \r\nz\r\n\" style=\"fill:#ff0000;fill-opacity:0.3;stroke:#ff0000;stroke-linejoin:miter;\"/>\r\n   </g>\r\n   <g id=\"patch_18\">\r\n    <path clip-path=\"url(#p41bf1ea8bc)\" d=\"M 403.52037 333.36 \r\nL 418.188497 333.36 \r\nL 418.188497 333.358786 \r\nL 403.52037 333.358786 \r\nz\r\n\" style=\"fill:#ff0000;fill-opacity:0.3;stroke:#ff0000;stroke-linejoin:miter;\"/>\r\n   </g>\r\n   <g id=\"patch_19\">\r\n    <path clip-path=\"url(#p41bf1ea8bc)\" d=\"M 421.855529 333.36 \r\nL 436.523656 333.36 \r\nL 436.523656 333.36 \r\nL 421.855529 333.36 \r\nz\r\n\" style=\"fill:#ff0000;fill-opacity:0.3;stroke:#ff0000;stroke-linejoin:miter;\"/>\r\n   </g>\r\n   <g id=\"patch_20\">\r\n    <path clip-path=\"url(#p41bf1ea8bc)\" d=\"M 440.190688 333.36 \r\nL 454.858815 333.36 \r\nL 454.858815 311.557159 \r\nL 440.190688 311.557159 \r\nz\r\n\" style=\"fill:#ff0000;fill-opacity:0.3;stroke:#ff0000;stroke-linejoin:miter;\"/>\r\n   </g>\r\n   <g id=\"patch_21\">\r\n    <path clip-path=\"url(#p41bf1ea8bc)\" d=\"M 458.525847 333.36 \r\nL 473.193974 333.36 \r\nL 473.193974 333.359571 \r\nL 458.525847 333.359571 \r\nz\r\n\" style=\"fill:#ff0000;fill-opacity:0.3;stroke:#ff0000;stroke-linejoin:miter;\"/>\r\n   </g>\r\n   <g id=\"patch_22\">\r\n    <path clip-path=\"url(#p41bf1ea8bc)\" d=\"M 476.861006 333.36 \r\nL 491.529133 333.36 \r\nL 491.529133 333.359643 \r\nL 476.861006 333.359643 \r\nz\r\n\" style=\"fill:#ff0000;fill-opacity:0.3;stroke:#ff0000;stroke-linejoin:miter;\"/>\r\n   </g>\r\n   <g id=\"patch_23\">\r\n    <path clip-path=\"url(#p41bf1ea8bc)\" d=\"M 495.196164 333.36 \r\nL 509.864291 333.36 \r\nL 509.864291 333.359643 \r\nL 495.196164 333.359643 \r\nz\r\n\" style=\"fill:#ff0000;fill-opacity:0.3;stroke:#ff0000;stroke-linejoin:miter;\"/>\r\n   </g>\r\n   <g id=\"patch_24\">\r\n    <path clip-path=\"url(#p41bf1ea8bc)\" d=\"M 513.531323 333.36 \r\nL 528.19945 333.36 \r\nL 528.19945 333.359071 \r\nL 513.531323 333.359071 \r\nz\r\n\" style=\"fill:#ff0000;fill-opacity:0.3;stroke:#ff0000;stroke-linejoin:miter;\"/>\r\n   </g>\r\n   <g id=\"patch_25\">\r\n    <path clip-path=\"url(#p41bf1ea8bc)\" d=\"M 531.866482 333.36 \r\nL 546.534609 333.36 \r\nL 546.534609 333.359071 \r\nL 531.866482 333.359071 \r\nz\r\n\" style=\"fill:#ff0000;fill-opacity:0.3;stroke:#ff0000;stroke-linejoin:miter;\"/>\r\n   </g>\r\n   <g id=\"patch_26\">\r\n    <path clip-path=\"url(#p41bf1ea8bc)\" d=\"M 550.201641 333.36 \r\nL 564.869768 333.36 \r\nL 564.869768 333.358857 \r\nL 550.201641 333.358857 \r\nz\r\n\" style=\"fill:#ff0000;fill-opacity:0.3;stroke:#ff0000;stroke-linejoin:miter;\"/>\r\n   </g>\r\n   <g id=\"patch_27\">\r\n    <path clip-path=\"url(#p41bf1ea8bc)\" d=\"M 568.5368 333.36 \r\nL 583.204927 333.36 \r\nL 583.204927 333.359643 \r\nL 568.5368 333.359643 \r\nz\r\n\" style=\"fill:#ff0000;fill-opacity:0.3;stroke:#ff0000;stroke-linejoin:miter;\"/>\r\n   </g>\r\n   <g id=\"patch_28\">\r\n    <path clip-path=\"url(#p41bf1ea8bc)\" d=\"M 586.871959 333.36 \r\nL 601.540086 333.36 \r\nL 601.540086 333.359643 \r\nL 586.871959 333.359643 \r\nz\r\n\" style=\"fill:#ff0000;fill-opacity:0.3;stroke:#ff0000;stroke-linejoin:miter;\"/>\r\n   </g>\r\n   <g id=\"patch_29\">\r\n    <path clip-path=\"url(#p41bf1ea8bc)\" d=\"M 605.207117 333.36 \r\nL 619.875244 333.36 \r\nL 619.875244 333.359643 \r\nL 605.207117 333.359643 \r\nz\r\n\" style=\"fill:#ff0000;fill-opacity:0.3;stroke:#ff0000;stroke-linejoin:miter;\"/>\r\n   </g>\r\n   <g id=\"patch_30\">\r\n    <path clip-path=\"url(#p41bf1ea8bc)\" d=\"M 623.542276 333.36 \r\nL 638.210403 333.36 \r\nL 638.210403 333.36 \r\nL 623.542276 333.36 \r\nz\r\n\" style=\"fill:#ff0000;fill-opacity:0.3;stroke:#ff0000;stroke-linejoin:miter;\"/>\r\n   </g>\r\n   <g id=\"patch_31\">\r\n    <path clip-path=\"url(#p41bf1ea8bc)\" d=\"M 641.877435 333.36 \r\nL 656.545562 333.36 \r\nL 656.545562 333.359071 \r\nL 641.877435 333.359071 \r\nz\r\n\" style=\"fill:#ff0000;fill-opacity:0.3;stroke:#ff0000;stroke-linejoin:miter;\"/>\r\n   </g>\r\n   <g id=\"patch_32\">\r\n    <path clip-path=\"url(#p41bf1ea8bc)\" d=\"M 660.212594 333.36 \r\nL 674.880721 333.36 \r\nL 674.880721 333.359643 \r\nL 660.212594 333.359643 \r\nz\r\n\" style=\"fill:#ff0000;fill-opacity:0.3;stroke:#ff0000;stroke-linejoin:miter;\"/>\r\n   </g>\r\n   <g id=\"patch_33\">\r\n    <path clip-path=\"url(#p41bf1ea8bc)\" d=\"M 678.547753 333.36 \r\nL 693.21588 333.36 \r\nL 693.21588 333.359643 \r\nL 678.547753 333.359643 \r\nz\r\n\" style=\"fill:#ff0000;fill-opacity:0.3;stroke:#ff0000;stroke-linejoin:miter;\"/>\r\n   </g>\r\n   <g id=\"patch_34\">\r\n    <path clip-path=\"url(#p41bf1ea8bc)\" d=\"M 696.882911 333.36 \r\nL 711.551038 333.36 \r\nL 711.551038 333.359643 \r\nL 696.882911 333.359643 \r\nz\r\n\" style=\"fill:#ff0000;fill-opacity:0.3;stroke:#ff0000;stroke-linejoin:miter;\"/>\r\n   </g>\r\n   <g id=\"patch_35\">\r\n    <path clip-path=\"url(#p41bf1ea8bc)\" d=\"M 715.21807 333.36 \r\nL 729.886197 333.36 \r\nL 729.886197 333.36 \r\nL 715.21807 333.36 \r\nz\r\n\" style=\"fill:#ff0000;fill-opacity:0.3;stroke:#ff0000;stroke-linejoin:miter;\"/>\r\n   </g>\r\n   <g id=\"patch_36\">\r\n    <path clip-path=\"url(#p41bf1ea8bc)\" d=\"M 733.553229 333.36 \r\nL 748.221356 333.36 \r\nL 748.221356 333.36 \r\nL 733.553229 333.36 \r\nz\r\n\" style=\"fill:#ff0000;fill-opacity:0.3;stroke:#ff0000;stroke-linejoin:miter;\"/>\r\n   </g>\r\n   <g id=\"patch_37\">\r\n    <path clip-path=\"url(#p41bf1ea8bc)\" d=\"M 751.888388 333.36 \r\nL 766.556515 333.36 \r\nL 766.556515 333.359286 \r\nL 751.888388 333.359286 \r\nz\r\n\" style=\"fill:#ff0000;fill-opacity:0.3;stroke:#ff0000;stroke-linejoin:miter;\"/>\r\n   </g>\r\n   <g id=\"patch_38\">\r\n    <path clip-path=\"url(#p41bf1ea8bc)\" d=\"M 770.223547 333.36 \r\nL 784.891674 333.36 \r\nL 784.891674 333.359643 \r\nL 770.223547 333.359643 \r\nz\r\n\" style=\"fill:#ff0000;fill-opacity:0.3;stroke:#ff0000;stroke-linejoin:miter;\"/>\r\n   </g>\r\n   <g id=\"patch_39\">\r\n    <path clip-path=\"url(#p41bf1ea8bc)\" d=\"M 788.558706 333.36 \r\nL 803.226833 333.36 \r\nL 803.226833 333.36 \r\nL 788.558706 333.36 \r\nz\r\n\" style=\"fill:#ff0000;fill-opacity:0.3;stroke:#ff0000;stroke-linejoin:miter;\"/>\r\n   </g>\r\n   <g id=\"patch_40\">\r\n    <path clip-path=\"url(#p41bf1ea8bc)\" d=\"M 806.893864 333.36 \r\nL 821.561991 333.36 \r\nL 821.561991 333.36 \r\nL 806.893864 333.36 \r\nz\r\n\" style=\"fill:#ff0000;fill-opacity:0.3;stroke:#ff0000;stroke-linejoin:miter;\"/>\r\n   </g>\r\n   <g id=\"patch_41\">\r\n    <path clip-path=\"url(#p41bf1ea8bc)\" d=\"M 825.229023 333.36 \r\nL 839.89715 333.36 \r\nL 839.89715 333.359071 \r\nL 825.229023 333.359071 \r\nz\r\n\" style=\"fill:#ff0000;fill-opacity:0.3;stroke:#ff0000;stroke-linejoin:miter;\"/>\r\n   </g>\r\n   <g id=\"patch_42\">\r\n    <path clip-path=\"url(#p41bf1ea8bc)\" d=\"M 880.2345 333.36 \r\nL 894.902627 333.36 \r\nL 894.902627 333.36 \r\nL 880.2345 333.36 \r\nz\r\n\" style=\"fill:#ff0000;fill-opacity:0.3;stroke:#ff0000;stroke-linejoin:miter;\"/>\r\n   </g>\r\n   <g id=\"patch_43\">\r\n    <path clip-path=\"url(#p41bf1ea8bc)\" d=\"M 898.569658 333.36 \r\nL 913.237785 333.36 \r\nL 913.237785 333.36 \r\nL 898.569658 333.36 \r\nz\r\n\" style=\"fill:#ff0000;fill-opacity:0.3;stroke:#ff0000;stroke-linejoin:miter;\"/>\r\n   </g>\r\n   <g id=\"patch_44\">\r\n    <path clip-path=\"url(#p41bf1ea8bc)\" d=\"M 916.904817 333.36 \r\nL 931.572944 333.36 \r\nL 931.572944 333.357929 \r\nL 916.904817 333.357929 \r\nz\r\n\" style=\"fill:#ff0000;fill-opacity:0.3;stroke:#ff0000;stroke-linejoin:miter;\"/>\r\n   </g>\r\n   <g id=\"patch_45\">\r\n    <path clip-path=\"url(#p41bf1ea8bc)\" d=\"M 935.239976 333.36 \r\nL 949.908103 333.36 \r\nL 949.908103 333.3595 \r\nL 935.239976 333.3595 \r\nz\r\n\" style=\"fill:#ff0000;fill-opacity:0.3;stroke:#ff0000;stroke-linejoin:miter;\"/>\r\n   </g>\r\n   <g id=\"patch_46\">\r\n    <path clip-path=\"url(#p41bf1ea8bc)\" d=\"M 953.575135 333.36 \r\nL 968.243262 333.36 \r\nL 968.243262 333.359786 \r\nL 953.575135 333.359786 \r\nz\r\n\" style=\"fill:#ff0000;fill-opacity:0.3;stroke:#ff0000;stroke-linejoin:miter;\"/>\r\n   </g>\r\n   <g id=\"patch_47\">\r\n    <path clip-path=\"url(#p41bf1ea8bc)\" d=\"M 971.910294 333.36 \r\nL 986.578421 333.36 \r\nL 986.578421 333.270926 \r\nL 971.910294 333.270926 \r\nz\r\n\" style=\"fill:#ff0000;fill-opacity:0.3;stroke:#ff0000;stroke-linejoin:miter;\"/>\r\n   </g>\r\n   <g id=\"patch_48\">\r\n    <path clip-path=\"url(#p41bf1ea8bc)\" d=\"M 990.245452 333.36 \r\nL 1004.91358 333.36 \r\nL 1004.91358 333.3595 \r\nL 990.245452 333.3595 \r\nz\r\n\" style=\"fill:#ff0000;fill-opacity:0.3;stroke:#ff0000;stroke-linejoin:miter;\"/>\r\n   </g>\r\n   <g id=\"matplotlib.axis_1\">\r\n    <g id=\"xtick_1\">\r\n     <g id=\"line2d_1\">\r\n      <defs>\r\n       <path d=\"M 0 0 \r\nL 0 -3.5 \r\n\" id=\"m00f22a942a\" style=\"stroke:#000000;stroke-width:0.8;\"/>\r\n      </defs>\r\n      <g>\r\n       <use style=\"stroke:#000000;stroke-width:0.8;\" x=\"99.156734\" xlink:href=\"#m00f22a942a\" y=\"333.36\"/>\r\n      </g>\r\n     </g>\r\n     <g id=\"text_1\">\r\n      <!-- 20 -->\r\n      <g transform=\"translate(92.794234 344.458437)scale(0.1 -0.1)\">\r\n       <defs>\r\n        <path d=\"M 19.1875 8.296875 \r\nL 53.609375 8.296875 \r\nL 53.609375 0 \r\nL 7.328125 0 \r\nL 7.328125 8.296875 \r\nQ 12.9375 14.109375 22.625 23.890625 \r\nQ 32.328125 33.6875 34.8125 36.53125 \r\nQ 39.546875 41.84375 41.421875 45.53125 \r\nQ 43.3125 49.21875 43.3125 52.78125 \r\nQ 43.3125 58.59375 39.234375 62.25 \r\nQ 35.15625 65.921875 28.609375 65.921875 \r\nQ 23.96875 65.921875 18.8125 64.3125 \r\nQ 13.671875 62.703125 7.8125 59.421875 \r\nL 7.8125 69.390625 \r\nQ 13.765625 71.78125 18.9375 73 \r\nQ 24.125 74.21875 28.421875 74.21875 \r\nQ 39.75 74.21875 46.484375 68.546875 \r\nQ 53.21875 62.890625 53.21875 53.421875 \r\nQ 53.21875 48.921875 51.53125 44.890625 \r\nQ 49.859375 40.875 45.40625 35.40625 \r\nQ 44.1875 33.984375 37.640625 27.21875 \r\nQ 31.109375 20.453125 19.1875 8.296875 \r\nz\r\n\" id=\"DejaVuSans-50\"/>\r\n        <path d=\"M 31.78125 66.40625 \r\nQ 24.171875 66.40625 20.328125 58.90625 \r\nQ 16.5 51.421875 16.5 36.375 \r\nQ 16.5 21.390625 20.328125 13.890625 \r\nQ 24.171875 6.390625 31.78125 6.390625 \r\nQ 39.453125 6.390625 43.28125 13.890625 \r\nQ 47.125 21.390625 47.125 36.375 \r\nQ 47.125 51.421875 43.28125 58.90625 \r\nQ 39.453125 66.40625 31.78125 66.40625 \r\nz\r\nM 31.78125 74.21875 \r\nQ 44.046875 74.21875 50.515625 64.515625 \r\nQ 56.984375 54.828125 56.984375 36.375 \r\nQ 56.984375 17.96875 50.515625 8.265625 \r\nQ 44.046875 -1.421875 31.78125 -1.421875 \r\nQ 19.53125 -1.421875 13.0625 8.265625 \r\nQ 6.59375 17.96875 6.59375 36.375 \r\nQ 6.59375 54.828125 13.0625 64.515625 \r\nQ 19.53125 74.21875 31.78125 74.21875 \r\nz\r\n\" id=\"DejaVuSans-48\"/>\r\n       </defs>\r\n       <use xlink:href=\"#DejaVuSans-50\"/>\r\n       <use x=\"63.623047\" xlink:href=\"#DejaVuSans-48\"/>\r\n      </g>\r\n     </g>\r\n    </g>\r\n    <g id=\"xtick_2\">\r\n     <g id=\"line2d_2\">\r\n      <g>\r\n       <use style=\"stroke:#000000;stroke-width:0.8;\" x=\"190.832528\" xlink:href=\"#m00f22a942a\" y=\"333.36\"/>\r\n      </g>\r\n     </g>\r\n     <g id=\"text_2\">\r\n      <!-- 25 -->\r\n      <g transform=\"translate(184.470028 344.458437)scale(0.1 -0.1)\">\r\n       <defs>\r\n        <path d=\"M 10.796875 72.90625 \r\nL 49.515625 72.90625 \r\nL 49.515625 64.59375 \r\nL 19.828125 64.59375 \r\nL 19.828125 46.734375 \r\nQ 21.96875 47.46875 24.109375 47.828125 \r\nQ 26.265625 48.1875 28.421875 48.1875 \r\nQ 40.625 48.1875 47.75 41.5 \r\nQ 54.890625 34.8125 54.890625 23.390625 \r\nQ 54.890625 11.625 47.5625 5.09375 \r\nQ 40.234375 -1.421875 26.90625 -1.421875 \r\nQ 22.3125 -1.421875 17.546875 -0.640625 \r\nQ 12.796875 0.140625 7.71875 1.703125 \r\nL 7.71875 11.625 \r\nQ 12.109375 9.234375 16.796875 8.0625 \r\nQ 21.484375 6.890625 26.703125 6.890625 \r\nQ 35.15625 6.890625 40.078125 11.328125 \r\nQ 45.015625 15.765625 45.015625 23.390625 \r\nQ 45.015625 31 40.078125 35.4375 \r\nQ 35.15625 39.890625 26.703125 39.890625 \r\nQ 22.75 39.890625 18.8125 39.015625 \r\nQ 14.890625 38.140625 10.796875 36.28125 \r\nz\r\n\" id=\"DejaVuSans-53\"/>\r\n       </defs>\r\n       <use xlink:href=\"#DejaVuSans-50\"/>\r\n       <use x=\"63.623047\" xlink:href=\"#DejaVuSans-53\"/>\r\n      </g>\r\n     </g>\r\n    </g>\r\n    <g id=\"xtick_3\">\r\n     <g id=\"line2d_3\">\r\n      <g>\r\n       <use style=\"stroke:#000000;stroke-width:0.8;\" x=\"282.508322\" xlink:href=\"#m00f22a942a\" y=\"333.36\"/>\r\n      </g>\r\n     </g>\r\n     <g id=\"text_3\">\r\n      <!-- 30 -->\r\n      <g transform=\"translate(276.145822 344.458437)scale(0.1 -0.1)\">\r\n       <defs>\r\n        <path d=\"M 40.578125 39.3125 \r\nQ 47.65625 37.796875 51.625 33 \r\nQ 55.609375 28.21875 55.609375 21.1875 \r\nQ 55.609375 10.40625 48.1875 4.484375 \r\nQ 40.765625 -1.421875 27.09375 -1.421875 \r\nQ 22.515625 -1.421875 17.65625 -0.515625 \r\nQ 12.796875 0.390625 7.625 2.203125 \r\nL 7.625 11.71875 \r\nQ 11.71875 9.328125 16.59375 8.109375 \r\nQ 21.484375 6.890625 26.8125 6.890625 \r\nQ 36.078125 6.890625 40.9375 10.546875 \r\nQ 45.796875 14.203125 45.796875 21.1875 \r\nQ 45.796875 27.640625 41.28125 31.265625 \r\nQ 36.765625 34.90625 28.71875 34.90625 \r\nL 20.21875 34.90625 \r\nL 20.21875 43.015625 \r\nL 29.109375 43.015625 \r\nQ 36.375 43.015625 40.234375 45.921875 \r\nQ 44.09375 48.828125 44.09375 54.296875 \r\nQ 44.09375 59.90625 40.109375 62.90625 \r\nQ 36.140625 65.921875 28.71875 65.921875 \r\nQ 24.65625 65.921875 20.015625 65.03125 \r\nQ 15.375 64.15625 9.8125 62.3125 \r\nL 9.8125 71.09375 \r\nQ 15.4375 72.65625 20.34375 73.4375 \r\nQ 25.25 74.21875 29.59375 74.21875 \r\nQ 40.828125 74.21875 47.359375 69.109375 \r\nQ 53.90625 64.015625 53.90625 55.328125 \r\nQ 53.90625 49.265625 50.4375 45.09375 \r\nQ 46.96875 40.921875 40.578125 39.3125 \r\nz\r\n\" id=\"DejaVuSans-51\"/>\r\n       </defs>\r\n       <use xlink:href=\"#DejaVuSans-51\"/>\r\n       <use x=\"63.623047\" xlink:href=\"#DejaVuSans-48\"/>\r\n      </g>\r\n     </g>\r\n    </g>\r\n    <g id=\"xtick_4\">\r\n     <g id=\"line2d_4\">\r\n      <g>\r\n       <use style=\"stroke:#000000;stroke-width:0.8;\" x=\"374.184116\" xlink:href=\"#m00f22a942a\" y=\"333.36\"/>\r\n      </g>\r\n     </g>\r\n     <g id=\"text_4\">\r\n      <!-- 35 -->\r\n      <g transform=\"translate(367.821616 344.458437)scale(0.1 -0.1)\">\r\n       <use xlink:href=\"#DejaVuSans-51\"/>\r\n       <use x=\"63.623047\" xlink:href=\"#DejaVuSans-53\"/>\r\n      </g>\r\n     </g>\r\n    </g>\r\n    <g id=\"xtick_5\">\r\n     <g id=\"line2d_5\">\r\n      <g>\r\n       <use style=\"stroke:#000000;stroke-width:0.8;\" x=\"465.85991\" xlink:href=\"#m00f22a942a\" y=\"333.36\"/>\r\n      </g>\r\n     </g>\r\n     <g id=\"text_5\">\r\n      <!-- 40 -->\r\n      <g transform=\"translate(459.49741 344.458437)scale(0.1 -0.1)\">\r\n       <defs>\r\n        <path d=\"M 37.796875 64.3125 \r\nL 12.890625 25.390625 \r\nL 37.796875 25.390625 \r\nz\r\nM 35.203125 72.90625 \r\nL 47.609375 72.90625 \r\nL 47.609375 25.390625 \r\nL 58.015625 25.390625 \r\nL 58.015625 17.1875 \r\nL 47.609375 17.1875 \r\nL 47.609375 0 \r\nL 37.796875 0 \r\nL 37.796875 17.1875 \r\nL 4.890625 17.1875 \r\nL 4.890625 26.703125 \r\nz\r\n\" id=\"DejaVuSans-52\"/>\r\n       </defs>\r\n       <use xlink:href=\"#DejaVuSans-52\"/>\r\n       <use x=\"63.623047\" xlink:href=\"#DejaVuSans-48\"/>\r\n      </g>\r\n     </g>\r\n    </g>\r\n    <g id=\"xtick_6\">\r\n     <g id=\"line2d_6\">\r\n      <g>\r\n       <use style=\"stroke:#000000;stroke-width:0.8;\" x=\"557.535704\" xlink:href=\"#m00f22a942a\" y=\"333.36\"/>\r\n      </g>\r\n     </g>\r\n     <g id=\"text_6\">\r\n      <!-- 45 -->\r\n      <g transform=\"translate(551.173204 344.458437)scale(0.1 -0.1)\">\r\n       <use xlink:href=\"#DejaVuSans-52\"/>\r\n       <use x=\"63.623047\" xlink:href=\"#DejaVuSans-53\"/>\r\n      </g>\r\n     </g>\r\n    </g>\r\n    <g id=\"xtick_7\">\r\n     <g id=\"line2d_7\">\r\n      <g>\r\n       <use style=\"stroke:#000000;stroke-width:0.8;\" x=\"649.211498\" xlink:href=\"#m00f22a942a\" y=\"333.36\"/>\r\n      </g>\r\n     </g>\r\n     <g id=\"text_7\">\r\n      <!-- 50 -->\r\n      <g transform=\"translate(642.848998 344.458437)scale(0.1 -0.1)\">\r\n       <use xlink:href=\"#DejaVuSans-53\"/>\r\n       <use x=\"63.623047\" xlink:href=\"#DejaVuSans-48\"/>\r\n      </g>\r\n     </g>\r\n    </g>\r\n    <g id=\"xtick_8\">\r\n     <g id=\"line2d_8\">\r\n      <g>\r\n       <use style=\"stroke:#000000;stroke-width:0.8;\" x=\"740.887293\" xlink:href=\"#m00f22a942a\" y=\"333.36\"/>\r\n      </g>\r\n     </g>\r\n     <g id=\"text_8\">\r\n      <!-- 55 -->\r\n      <g transform=\"translate(734.524793 344.458437)scale(0.1 -0.1)\">\r\n       <use xlink:href=\"#DejaVuSans-53\"/>\r\n       <use x=\"63.623047\" xlink:href=\"#DejaVuSans-53\"/>\r\n      </g>\r\n     </g>\r\n    </g>\r\n    <g id=\"xtick_9\">\r\n     <g id=\"line2d_9\">\r\n      <g>\r\n       <use style=\"stroke:#000000;stroke-width:0.8;\" x=\"832.563087\" xlink:href=\"#m00f22a942a\" y=\"333.36\"/>\r\n      </g>\r\n     </g>\r\n     <g id=\"text_9\">\r\n      <!-- 60 -->\r\n      <g transform=\"translate(826.200587 344.458437)scale(0.1 -0.1)\">\r\n       <defs>\r\n        <path d=\"M 33.015625 40.375 \r\nQ 26.375 40.375 22.484375 35.828125 \r\nQ 18.609375 31.296875 18.609375 23.390625 \r\nQ 18.609375 15.53125 22.484375 10.953125 \r\nQ 26.375 6.390625 33.015625 6.390625 \r\nQ 39.65625 6.390625 43.53125 10.953125 \r\nQ 47.40625 15.53125 47.40625 23.390625 \r\nQ 47.40625 31.296875 43.53125 35.828125 \r\nQ 39.65625 40.375 33.015625 40.375 \r\nz\r\nM 52.59375 71.296875 \r\nL 52.59375 62.3125 \r\nQ 48.875 64.0625 45.09375 64.984375 \r\nQ 41.3125 65.921875 37.59375 65.921875 \r\nQ 27.828125 65.921875 22.671875 59.328125 \r\nQ 17.53125 52.734375 16.796875 39.40625 \r\nQ 19.671875 43.65625 24.015625 45.921875 \r\nQ 28.375 48.1875 33.59375 48.1875 \r\nQ 44.578125 48.1875 50.953125 41.515625 \r\nQ 57.328125 34.859375 57.328125 23.390625 \r\nQ 57.328125 12.15625 50.6875 5.359375 \r\nQ 44.046875 -1.421875 33.015625 -1.421875 \r\nQ 20.359375 -1.421875 13.671875 8.265625 \r\nQ 6.984375 17.96875 6.984375 36.375 \r\nQ 6.984375 53.65625 15.1875 63.9375 \r\nQ 23.390625 74.21875 37.203125 74.21875 \r\nQ 40.921875 74.21875 44.703125 73.484375 \r\nQ 48.484375 72.75 52.59375 71.296875 \r\nz\r\n\" id=\"DejaVuSans-54\"/>\r\n       </defs>\r\n       <use xlink:href=\"#DejaVuSans-54\"/>\r\n       <use x=\"63.623047\" xlink:href=\"#DejaVuSans-48\"/>\r\n      </g>\r\n     </g>\r\n    </g>\r\n    <g id=\"xtick_10\">\r\n     <g id=\"line2d_10\">\r\n      <g>\r\n       <use style=\"stroke:#000000;stroke-width:0.8;\" x=\"924.238881\" xlink:href=\"#m00f22a942a\" y=\"333.36\"/>\r\n      </g>\r\n     </g>\r\n     <g id=\"text_10\">\r\n      <!-- 65 -->\r\n      <g transform=\"translate(917.876381 344.458437)scale(0.1 -0.1)\">\r\n       <use xlink:href=\"#DejaVuSans-54\"/>\r\n       <use x=\"63.623047\" xlink:href=\"#DejaVuSans-53\"/>\r\n      </g>\r\n     </g>\r\n    </g>\r\n    <g id=\"xtick_11\">\r\n     <g id=\"line2d_11\">\r\n      <g>\r\n       <use style=\"stroke:#000000;stroke-width:0.8;\" x=\"1015.914675\" xlink:href=\"#m00f22a942a\" y=\"333.36\"/>\r\n      </g>\r\n     </g>\r\n     <g id=\"text_11\">\r\n      <!-- 70 -->\r\n      <g transform=\"translate(1009.552175 344.458437)scale(0.1 -0.1)\">\r\n       <defs>\r\n        <path d=\"M 8.203125 72.90625 \r\nL 55.078125 72.90625 \r\nL 55.078125 68.703125 \r\nL 28.609375 0 \r\nL 18.3125 0 \r\nL 43.21875 64.59375 \r\nL 8.203125 64.59375 \r\nz\r\n\" id=\"DejaVuSans-55\"/>\r\n       </defs>\r\n       <use xlink:href=\"#DejaVuSans-55\"/>\r\n       <use x=\"63.623047\" xlink:href=\"#DejaVuSans-48\"/>\r\n      </g>\r\n     </g>\r\n    </g>\r\n    <g id=\"xtick_12\">\r\n     <g id=\"line2d_12\">\r\n      <defs>\r\n       <path d=\"M 0 0 \r\nL 0 -2 \r\n\" id=\"mfbb0beb470\" style=\"stroke:#000000;stroke-width:0.6;\"/>\r\n      </defs>\r\n      <g>\r\n       <use style=\"stroke:#000000;stroke-width:0.6;\" x=\"62.486416\" xlink:href=\"#mfbb0beb470\" y=\"333.36\"/>\r\n      </g>\r\n     </g>\r\n    </g>\r\n    <g id=\"xtick_13\">\r\n     <g id=\"line2d_13\">\r\n      <g>\r\n       <use style=\"stroke:#000000;stroke-width:0.6;\" x=\"80.821575\" xlink:href=\"#mfbb0beb470\" y=\"333.36\"/>\r\n      </g>\r\n     </g>\r\n    </g>\r\n    <g id=\"xtick_14\">\r\n     <g id=\"line2d_14\">\r\n      <g>\r\n       <use style=\"stroke:#000000;stroke-width:0.6;\" x=\"117.491893\" xlink:href=\"#mfbb0beb470\" y=\"333.36\"/>\r\n      </g>\r\n     </g>\r\n    </g>\r\n    <g id=\"xtick_15\">\r\n     <g id=\"line2d_15\">\r\n      <g>\r\n       <use style=\"stroke:#000000;stroke-width:0.6;\" x=\"135.827052\" xlink:href=\"#mfbb0beb470\" y=\"333.36\"/>\r\n      </g>\r\n     </g>\r\n    </g>\r\n    <g id=\"xtick_16\">\r\n     <g id=\"line2d_16\">\r\n      <g>\r\n       <use style=\"stroke:#000000;stroke-width:0.6;\" x=\"154.16221\" xlink:href=\"#mfbb0beb470\" y=\"333.36\"/>\r\n      </g>\r\n     </g>\r\n    </g>\r\n    <g id=\"xtick_17\">\r\n     <g id=\"line2d_17\">\r\n      <g>\r\n       <use style=\"stroke:#000000;stroke-width:0.6;\" x=\"172.497369\" xlink:href=\"#mfbb0beb470\" y=\"333.36\"/>\r\n      </g>\r\n     </g>\r\n    </g>\r\n    <g id=\"xtick_18\">\r\n     <g id=\"line2d_18\">\r\n      <g>\r\n       <use style=\"stroke:#000000;stroke-width:0.6;\" x=\"209.167687\" xlink:href=\"#mfbb0beb470\" y=\"333.36\"/>\r\n      </g>\r\n     </g>\r\n    </g>\r\n    <g id=\"xtick_19\">\r\n     <g id=\"line2d_19\">\r\n      <g>\r\n       <use style=\"stroke:#000000;stroke-width:0.6;\" x=\"227.502846\" xlink:href=\"#mfbb0beb470\" y=\"333.36\"/>\r\n      </g>\r\n     </g>\r\n    </g>\r\n    <g id=\"xtick_20\">\r\n     <g id=\"line2d_20\">\r\n      <g>\r\n       <use style=\"stroke:#000000;stroke-width:0.6;\" x=\"245.838005\" xlink:href=\"#mfbb0beb470\" y=\"333.36\"/>\r\n      </g>\r\n     </g>\r\n    </g>\r\n    <g id=\"xtick_21\">\r\n     <g id=\"line2d_21\">\r\n      <g>\r\n       <use style=\"stroke:#000000;stroke-width:0.6;\" x=\"264.173163\" xlink:href=\"#mfbb0beb470\" y=\"333.36\"/>\r\n      </g>\r\n     </g>\r\n    </g>\r\n    <g id=\"xtick_22\">\r\n     <g id=\"line2d_22\">\r\n      <g>\r\n       <use style=\"stroke:#000000;stroke-width:0.6;\" x=\"300.843481\" xlink:href=\"#mfbb0beb470\" y=\"333.36\"/>\r\n      </g>\r\n     </g>\r\n    </g>\r\n    <g id=\"xtick_23\">\r\n     <g id=\"line2d_23\">\r\n      <g>\r\n       <use style=\"stroke:#000000;stroke-width:0.6;\" x=\"319.17864\" xlink:href=\"#mfbb0beb470\" y=\"333.36\"/>\r\n      </g>\r\n     </g>\r\n    </g>\r\n    <g id=\"xtick_24\">\r\n     <g id=\"line2d_24\">\r\n      <g>\r\n       <use style=\"stroke:#000000;stroke-width:0.6;\" x=\"337.513799\" xlink:href=\"#mfbb0beb470\" y=\"333.36\"/>\r\n      </g>\r\n     </g>\r\n    </g>\r\n    <g id=\"xtick_25\">\r\n     <g id=\"line2d_25\">\r\n      <g>\r\n       <use style=\"stroke:#000000;stroke-width:0.6;\" x=\"355.848957\" xlink:href=\"#mfbb0beb470\" y=\"333.36\"/>\r\n      </g>\r\n     </g>\r\n    </g>\r\n    <g id=\"xtick_26\">\r\n     <g id=\"line2d_26\">\r\n      <g>\r\n       <use style=\"stroke:#000000;stroke-width:0.6;\" x=\"392.519275\" xlink:href=\"#mfbb0beb470\" y=\"333.36\"/>\r\n      </g>\r\n     </g>\r\n    </g>\r\n    <g id=\"xtick_27\">\r\n     <g id=\"line2d_27\">\r\n      <g>\r\n       <use style=\"stroke:#000000;stroke-width:0.6;\" x=\"410.854434\" xlink:href=\"#mfbb0beb470\" y=\"333.36\"/>\r\n      </g>\r\n     </g>\r\n    </g>\r\n    <g id=\"xtick_28\">\r\n     <g id=\"line2d_28\">\r\n      <g>\r\n       <use style=\"stroke:#000000;stroke-width:0.6;\" x=\"429.189593\" xlink:href=\"#mfbb0beb470\" y=\"333.36\"/>\r\n      </g>\r\n     </g>\r\n    </g>\r\n    <g id=\"xtick_29\">\r\n     <g id=\"line2d_29\">\r\n      <g>\r\n       <use style=\"stroke:#000000;stroke-width:0.6;\" x=\"447.524752\" xlink:href=\"#mfbb0beb470\" y=\"333.36\"/>\r\n      </g>\r\n     </g>\r\n    </g>\r\n    <g id=\"xtick_30\">\r\n     <g id=\"line2d_30\">\r\n      <g>\r\n       <use style=\"stroke:#000000;stroke-width:0.6;\" x=\"484.195069\" xlink:href=\"#mfbb0beb470\" y=\"333.36\"/>\r\n      </g>\r\n     </g>\r\n    </g>\r\n    <g id=\"xtick_31\">\r\n     <g id=\"line2d_31\">\r\n      <g>\r\n       <use style=\"stroke:#000000;stroke-width:0.6;\" x=\"502.530228\" xlink:href=\"#mfbb0beb470\" y=\"333.36\"/>\r\n      </g>\r\n     </g>\r\n    </g>\r\n    <g id=\"xtick_32\">\r\n     <g id=\"line2d_32\">\r\n      <g>\r\n       <use style=\"stroke:#000000;stroke-width:0.6;\" x=\"520.865387\" xlink:href=\"#mfbb0beb470\" y=\"333.36\"/>\r\n      </g>\r\n     </g>\r\n    </g>\r\n    <g id=\"xtick_33\">\r\n     <g id=\"line2d_33\">\r\n      <g>\r\n       <use style=\"stroke:#000000;stroke-width:0.6;\" x=\"539.200546\" xlink:href=\"#mfbb0beb470\" y=\"333.36\"/>\r\n      </g>\r\n     </g>\r\n    </g>\r\n    <g id=\"xtick_34\">\r\n     <g id=\"line2d_34\">\r\n      <g>\r\n       <use style=\"stroke:#000000;stroke-width:0.6;\" x=\"575.870863\" xlink:href=\"#mfbb0beb470\" y=\"333.36\"/>\r\n      </g>\r\n     </g>\r\n    </g>\r\n    <g id=\"xtick_35\">\r\n     <g id=\"line2d_35\">\r\n      <g>\r\n       <use style=\"stroke:#000000;stroke-width:0.6;\" x=\"594.206022\" xlink:href=\"#mfbb0beb470\" y=\"333.36\"/>\r\n      </g>\r\n     </g>\r\n    </g>\r\n    <g id=\"xtick_36\">\r\n     <g id=\"line2d_36\">\r\n      <g>\r\n       <use style=\"stroke:#000000;stroke-width:0.6;\" x=\"612.541181\" xlink:href=\"#mfbb0beb470\" y=\"333.36\"/>\r\n      </g>\r\n     </g>\r\n    </g>\r\n    <g id=\"xtick_37\">\r\n     <g id=\"line2d_37\">\r\n      <g>\r\n       <use style=\"stroke:#000000;stroke-width:0.6;\" x=\"630.87634\" xlink:href=\"#mfbb0beb470\" y=\"333.36\"/>\r\n      </g>\r\n     </g>\r\n    </g>\r\n    <g id=\"xtick_38\">\r\n     <g id=\"line2d_38\">\r\n      <g>\r\n       <use style=\"stroke:#000000;stroke-width:0.6;\" x=\"667.546657\" xlink:href=\"#mfbb0beb470\" y=\"333.36\"/>\r\n      </g>\r\n     </g>\r\n    </g>\r\n    <g id=\"xtick_39\">\r\n     <g id=\"line2d_39\">\r\n      <g>\r\n       <use style=\"stroke:#000000;stroke-width:0.6;\" x=\"685.881816\" xlink:href=\"#mfbb0beb470\" y=\"333.36\"/>\r\n      </g>\r\n     </g>\r\n    </g>\r\n    <g id=\"xtick_40\">\r\n     <g id=\"line2d_40\">\r\n      <g>\r\n       <use style=\"stroke:#000000;stroke-width:0.6;\" x=\"704.216975\" xlink:href=\"#mfbb0beb470\" y=\"333.36\"/>\r\n      </g>\r\n     </g>\r\n    </g>\r\n    <g id=\"xtick_41\">\r\n     <g id=\"line2d_41\">\r\n      <g>\r\n       <use style=\"stroke:#000000;stroke-width:0.6;\" x=\"722.552134\" xlink:href=\"#mfbb0beb470\" y=\"333.36\"/>\r\n      </g>\r\n     </g>\r\n    </g>\r\n    <g id=\"xtick_42\">\r\n     <g id=\"line2d_42\">\r\n      <g>\r\n       <use style=\"stroke:#000000;stroke-width:0.6;\" x=\"759.222451\" xlink:href=\"#mfbb0beb470\" y=\"333.36\"/>\r\n      </g>\r\n     </g>\r\n    </g>\r\n    <g id=\"xtick_43\">\r\n     <g id=\"line2d_43\">\r\n      <g>\r\n       <use style=\"stroke:#000000;stroke-width:0.6;\" x=\"777.55761\" xlink:href=\"#mfbb0beb470\" y=\"333.36\"/>\r\n      </g>\r\n     </g>\r\n    </g>\r\n    <g id=\"xtick_44\">\r\n     <g id=\"line2d_44\">\r\n      <g>\r\n       <use style=\"stroke:#000000;stroke-width:0.6;\" x=\"795.892769\" xlink:href=\"#mfbb0beb470\" y=\"333.36\"/>\r\n      </g>\r\n     </g>\r\n    </g>\r\n    <g id=\"xtick_45\">\r\n     <g id=\"line2d_45\">\r\n      <g>\r\n       <use style=\"stroke:#000000;stroke-width:0.6;\" x=\"814.227928\" xlink:href=\"#mfbb0beb470\" y=\"333.36\"/>\r\n      </g>\r\n     </g>\r\n    </g>\r\n    <g id=\"xtick_46\">\r\n     <g id=\"line2d_46\">\r\n      <g>\r\n       <use style=\"stroke:#000000;stroke-width:0.6;\" x=\"850.898245\" xlink:href=\"#mfbb0beb470\" y=\"333.36\"/>\r\n      </g>\r\n     </g>\r\n    </g>\r\n    <g id=\"xtick_47\">\r\n     <g id=\"line2d_47\">\r\n      <g>\r\n       <use style=\"stroke:#000000;stroke-width:0.6;\" x=\"869.233404\" xlink:href=\"#mfbb0beb470\" y=\"333.36\"/>\r\n      </g>\r\n     </g>\r\n    </g>\r\n    <g id=\"xtick_48\">\r\n     <g id=\"line2d_48\">\r\n      <g>\r\n       <use style=\"stroke:#000000;stroke-width:0.6;\" x=\"887.568563\" xlink:href=\"#mfbb0beb470\" y=\"333.36\"/>\r\n      </g>\r\n     </g>\r\n    </g>\r\n    <g id=\"xtick_49\">\r\n     <g id=\"line2d_49\">\r\n      <g>\r\n       <use style=\"stroke:#000000;stroke-width:0.6;\" x=\"905.903722\" xlink:href=\"#mfbb0beb470\" y=\"333.36\"/>\r\n      </g>\r\n     </g>\r\n    </g>\r\n    <g id=\"xtick_50\">\r\n     <g id=\"line2d_50\">\r\n      <g>\r\n       <use style=\"stroke:#000000;stroke-width:0.6;\" x=\"942.57404\" xlink:href=\"#mfbb0beb470\" y=\"333.36\"/>\r\n      </g>\r\n     </g>\r\n    </g>\r\n    <g id=\"xtick_51\">\r\n     <g id=\"line2d_51\">\r\n      <g>\r\n       <use style=\"stroke:#000000;stroke-width:0.6;\" x=\"960.909198\" xlink:href=\"#mfbb0beb470\" y=\"333.36\"/>\r\n      </g>\r\n     </g>\r\n    </g>\r\n    <g id=\"xtick_52\">\r\n     <g id=\"line2d_52\">\r\n      <g>\r\n       <use style=\"stroke:#000000;stroke-width:0.6;\" x=\"979.244357\" xlink:href=\"#mfbb0beb470\" y=\"333.36\"/>\r\n      </g>\r\n     </g>\r\n    </g>\r\n    <g id=\"xtick_53\">\r\n     <g id=\"line2d_53\">\r\n      <g>\r\n       <use style=\"stroke:#000000;stroke-width:0.6;\" x=\"997.579516\" xlink:href=\"#mfbb0beb470\" y=\"333.36\"/>\r\n      </g>\r\n     </g>\r\n    </g>\r\n    <g id=\"xtick_54\">\r\n     <g id=\"line2d_54\">\r\n      <g>\r\n       <use style=\"stroke:#000000;stroke-width:0.6;\" x=\"1034.249834\" xlink:href=\"#mfbb0beb470\" y=\"333.36\"/>\r\n      </g>\r\n     </g>\r\n    </g>\r\n    <g id=\"text_12\">\r\n     <!-- Line # -->\r\n     <g transform=\"translate(525.526875 362.633125)scale(0.16 -0.16)\">\r\n      <defs>\r\n       <path d=\"M 60.40625 20.609375 \r\nL 58.9375 0 \r\nL 4.78125 0 \r\nL 4.78125 3.46875 \r\nQ 5.953125 3.5625 8.171875 3.796875 \r\nQ 10.40625 4.046875 11.28125 4.4375 \r\nQ 12.75 5.078125 13.40625 6.296875 \r\nQ 14.0625 7.515625 14.0625 9.421875 \r\nL 14.0625 59.03125 \r\nQ 14.0625 60.6875 13.5 61.953125 \r\nQ 12.9375 63.234375 11.28125 64.015625 \r\nQ 10.15625 64.59375 8.125 65.15625 \r\nQ 6.109375 65.71875 4.78125 65.828125 \r\nL 4.78125 69.28125 \r\nL 34.03125 69.28125 \r\nL 34.03125 65.828125 \r\nQ 32.671875 65.765625 30.5 65.328125 \r\nQ 28.328125 64.890625 27.34375 64.546875 \r\nQ 25.6875 63.96875 25.078125 62.546875 \r\nQ 24.46875 61.140625 24.46875 59.515625 \r\nL 24.46875 12.984375 \r\nQ 24.46875 9.765625 24.78125 7.984375 \r\nQ 25.09375 6.203125 26.265625 5.21875 \r\nQ 27.390625 4.34375 29.609375 4.078125 \r\nQ 31.84375 3.8125 35.84375 3.8125 \r\nQ 37.640625 3.8125 39.59375 3.90625 \r\nQ 41.546875 4 43.3125 4.296875 \r\nQ 45.015625 4.59375 46.453125 5.09375 \r\nQ 47.90625 5.609375 48.578125 6.390625 \r\nQ 50.59375 8.640625 53.25 13.203125 \r\nQ 55.90625 17.78125 56.9375 20.609375 \r\nz\r\n\" id=\"Georgia-76\"/>\r\n       <path d=\"M 26.90625 0 \r\nL 3.609375 0 \r\nL 3.609375 3.21875 \r\nQ 4.734375 3.328125 5.921875 3.421875 \r\nQ 7.125 3.515625 8.015625 3.8125 \r\nQ 9.375 4.25 10.03125 5.34375 \r\nQ 10.6875 6.453125 10.6875 8.203125 \r\nL 10.6875 37.9375 \r\nQ 10.6875 39.5 9.984375 40.796875 \r\nQ 9.28125 42.09375 8.015625 42.96875 \r\nQ 7.078125 43.5625 5.3125 43.96875 \r\nQ 3.5625 44.390625 2.09375 44.484375 \r\nL 2.09375 47.65625 \r\nL 19.09375 48.734375 \r\nL 19.78125 48.046875 \r\nL 19.78125 8.796875 \r\nQ 19.78125 7.078125 20.4375 5.953125 \r\nQ 21.09375 4.828125 22.515625 4.296875 \r\nQ 23.578125 3.859375 24.609375 3.59375 \r\nQ 25.640625 3.328125 26.90625 3.21875 \r\nz\r\nM 20.75 67.71875 \r\nQ 20.75 64.9375 18.921875 62.859375 \r\nQ 17.09375 60.796875 14.40625 60.796875 \r\nQ 11.921875 60.796875 10.078125 62.765625 \r\nQ 8.25 64.75 8.25 67.28125 \r\nQ 8.25 69.96875 10.078125 71.96875 \r\nQ 11.921875 73.96875 14.40625 73.96875 \r\nQ 17.1875 73.96875 18.96875 72.09375 \r\nQ 20.75 70.21875 20.75 67.71875 \r\nz\r\n\" id=\"Georgia-105\"/>\r\n       <path d=\"M 56.6875 0 \r\nL 33.109375 0 \r\nL 33.109375 3.21875 \r\nQ 34.234375 3.328125 35.578125 3.421875 \r\nQ 36.921875 3.515625 37.796875 3.8125 \r\nQ 39.15625 4.25 39.8125 5.34375 \r\nQ 40.484375 6.453125 40.484375 8.203125 \r\nL 40.484375 32.953125 \r\nQ 40.484375 38.09375 38.0625 40.875 \r\nQ 35.640625 43.65625 32.171875 43.65625 \r\nQ 29.59375 43.65625 27.4375 42.84375 \r\nQ 25.296875 42.046875 23.640625 40.875 \r\nQ 22.015625 39.75 21.0625 38.453125 \r\nQ 20.125 37.15625 19.671875 36.375 \r\nL 19.671875 8.6875 \r\nQ 19.671875 7.03125 20.359375 5.953125 \r\nQ 21.046875 4.890625 22.40625 4.296875 \r\nQ 23.4375 3.8125 24.625 3.5625 \r\nQ 25.828125 3.328125 27.09375 3.21875 \r\nL 27.09375 0 \r\nL 3.515625 0 \r\nL 3.515625 3.21875 \r\nQ 4.640625 3.328125 5.828125 3.421875 \r\nQ 7.03125 3.515625 7.90625 3.8125 \r\nQ 9.28125 4.25 9.9375 5.34375 \r\nQ 10.59375 6.453125 10.59375 8.203125 \r\nL 10.59375 37.9375 \r\nQ 10.59375 39.59375 9.890625 40.984375 \r\nQ 9.1875 42.390625 7.90625 43.265625 \r\nQ 6.984375 43.84375 5.703125 44.109375 \r\nQ 4.4375 44.390625 2.984375 44.484375 \r\nL 2.984375 47.65625 \r\nL 19 48.734375 \r\nL 19.671875 48.046875 \r\nL 19.671875 41.265625 \r\nL 19.921875 41.265625 \r\nQ 21.09375 42.4375 22.84375 44.0625 \r\nQ 24.609375 45.703125 26.171875 46.734375 \r\nQ 27.984375 47.90625 30.46875 48.6875 \r\nQ 32.953125 49.46875 36.078125 49.46875 \r\nQ 43.015625 49.46875 46.359375 45.140625 \r\nQ 49.703125 40.828125 49.703125 33.640625 \r\nL 49.703125 8.59375 \r\nQ 49.703125 6.890625 50.28125 5.828125 \r\nQ 50.875 4.78125 52.296875 4.203125 \r\nQ 53.46875 3.71875 54.3125 3.515625 \r\nQ 55.171875 3.328125 56.6875 3.21875 \r\nz\r\n\" id=\"Georgia-110\"/>\r\n       <path d=\"M 46.296875 11.328125 \r\nQ 43.265625 5.5625 38.1875 2.140625 \r\nQ 33.109375 -1.265625 26.515625 -1.265625 \r\nQ 20.703125 -1.265625 16.328125 0.78125 \r\nQ 11.96875 2.828125 9.125 6.34375 \r\nQ 6.296875 9.859375 4.90625 14.546875 \r\nQ 3.515625 19.234375 3.515625 24.46875 \r\nQ 3.515625 29.15625 5 33.671875 \r\nQ 6.5 38.1875 9.375 41.796875 \r\nQ 12.15625 45.265625 16.28125 47.390625 \r\nQ 20.40625 49.515625 25.53125 49.515625 \r\nQ 30.8125 49.515625 34.5625 47.84375 \r\nQ 38.328125 46.1875 40.671875 43.3125 \r\nQ 42.921875 40.578125 44.015625 36.859375 \r\nQ 45.125 33.15625 45.125 28.8125 \r\nL 45.125 25.59375 \r\nL 13.234375 25.59375 \r\nQ 13.234375 20.84375 14.140625 16.984375 \r\nQ 15.046875 13.140625 17 10.203125 \r\nQ 18.890625 7.375 21.96875 5.734375 \r\nQ 25.046875 4.109375 29.296875 4.109375 \r\nQ 33.640625 4.109375 36.78125 6.125 \r\nQ 39.9375 8.15625 42.875 13.421875 \r\nz\r\nM 35.5 29.6875 \r\nQ 35.5 32.421875 35.03125 35.546875 \r\nQ 34.578125 38.671875 33.546875 40.765625 \r\nQ 32.421875 43.015625 30.46875 44.421875 \r\nQ 28.515625 45.84375 25.4375 45.84375 \r\nQ 20.3125 45.84375 16.921875 41.578125 \r\nQ 13.53125 37.3125 13.234375 29.6875 \r\nz\r\n\" id=\"Georgia-101\"/>\r\n       <path id=\"Georgia-32\"/>\r\n       <path d=\"M 56.78125 36.375 \r\nL 44.625 36.375 \r\nL 41.109375 24.125 \r\nL 53.859375 24.125 \r\nL 53.859375 18.109375 \r\nL 39.40625 18.109375 \r\nL 34.1875 0 \r\nL 28.765625 0 \r\nL 33.984375 18.109375 \r\nL 23.390625 18.109375 \r\nL 18.171875 0 \r\nL 12.75 0 \r\nL 17.96875 18.109375 \r\nL 7.515625 18.109375 \r\nL 7.515625 24.125 \r\nL 19.671875 24.125 \r\nL 23.25 36.375 \r\nL 10.453125 36.375 \r\nL 10.453125 42.390625 \r\nL 24.90625 42.390625 \r\nL 30.03125 60.0625 \r\nL 35.453125 60.0625 \r\nL 30.328125 42.390625 \r\nL 40.921875 42.390625 \r\nL 46.046875 60.0625 \r\nL 51.46875 60.0625 \r\nL 46.34375 42.390625 \r\nL 56.78125 42.390625 \r\nz\r\nM 39.40625 36.46875 \r\nL 28.5625 36.46875 \r\nL 24.953125 24.03125 \r\nL 35.75 24.03125 \r\nz\r\n\" id=\"Georgia-35\"/>\r\n      </defs>\r\n      <use xlink:href=\"#Georgia-76\"/>\r\n      <use x=\"60.351562\" xlink:href=\"#Georgia-105\"/>\r\n      <use x=\"89.648438\" xlink:href=\"#Georgia-110\"/>\r\n      <use x=\"148.730469\" xlink:href=\"#Georgia-101\"/>\r\n      <use x=\"197.070312\" xlink:href=\"#Georgia-32\"/>\r\n      <use x=\"221.191406\" xlink:href=\"#Georgia-35\"/>\r\n     </g>\r\n    </g>\r\n   </g>\r\n   <g id=\"matplotlib.axis_2\">\r\n    <g id=\"ytick_1\">\r\n     <g id=\"line2d_55\">\r\n      <defs>\r\n       <path d=\"M 0 0 \r\nL 3.5 0 \r\n\" id=\"m8cc11cc330\" style=\"stroke:#000000;stroke-width:0.8;\"/>\r\n      </defs>\r\n      <g>\r\n       <use style=\"stroke:#000000;stroke-width:0.8;\" x=\"46.168125\" xlink:href=\"#m8cc11cc330\" y=\"333.36\"/>\r\n      </g>\r\n     </g>\r\n     <g id=\"text_13\">\r\n      <!-- 0.0 -->\r\n      <g transform=\"translate(26.765 337.159219)scale(0.1 -0.1)\">\r\n       <defs>\r\n        <path d=\"M 10.6875 12.40625 \r\nL 21 12.40625 \r\nL 21 0 \r\nL 10.6875 0 \r\nz\r\n\" id=\"DejaVuSans-46\"/>\r\n       </defs>\r\n       <use xlink:href=\"#DejaVuSans-48\"/>\r\n       <use x=\"63.623047\" xlink:href=\"#DejaVuSans-46\"/>\r\n       <use x=\"95.410156\" xlink:href=\"#DejaVuSans-48\"/>\r\n      </g>\r\n     </g>\r\n    </g>\r\n    <g id=\"ytick_2\">\r\n     <g id=\"line2d_56\">\r\n      <g>\r\n       <use style=\"stroke:#000000;stroke-width:0.8;\" x=\"46.168125\" xlink:href=\"#m8cc11cc330\" y=\"261.929375\"/>\r\n      </g>\r\n     </g>\r\n     <g id=\"text_14\">\r\n      <!-- 0.1 -->\r\n      <g transform=\"translate(26.765 265.728594)scale(0.1 -0.1)\">\r\n       <defs>\r\n        <path d=\"M 12.40625 8.296875 \r\nL 28.515625 8.296875 \r\nL 28.515625 63.921875 \r\nL 10.984375 60.40625 \r\nL 10.984375 69.390625 \r\nL 28.421875 72.90625 \r\nL 38.28125 72.90625 \r\nL 38.28125 8.296875 \r\nL 54.390625 8.296875 \r\nL 54.390625 0 \r\nL 12.40625 0 \r\nz\r\n\" id=\"DejaVuSans-49\"/>\r\n       </defs>\r\n       <use xlink:href=\"#DejaVuSans-48\"/>\r\n       <use x=\"63.623047\" xlink:href=\"#DejaVuSans-46\"/>\r\n       <use x=\"95.410156\" xlink:href=\"#DejaVuSans-49\"/>\r\n      </g>\r\n     </g>\r\n    </g>\r\n    <g id=\"ytick_3\">\r\n     <g id=\"line2d_57\">\r\n      <g>\r\n       <use style=\"stroke:#000000;stroke-width:0.8;\" x=\"46.168125\" xlink:href=\"#m8cc11cc330\" y=\"190.498751\"/>\r\n      </g>\r\n     </g>\r\n     <g id=\"text_15\">\r\n      <!-- 0.2 -->\r\n      <g transform=\"translate(26.765 194.29797)scale(0.1 -0.1)\">\r\n       <use xlink:href=\"#DejaVuSans-48\"/>\r\n       <use x=\"63.623047\" xlink:href=\"#DejaVuSans-46\"/>\r\n       <use x=\"95.410156\" xlink:href=\"#DejaVuSans-50\"/>\r\n      </g>\r\n     </g>\r\n    </g>\r\n    <g id=\"ytick_4\">\r\n     <g id=\"line2d_58\">\r\n      <g>\r\n       <use style=\"stroke:#000000;stroke-width:0.8;\" x=\"46.168125\" xlink:href=\"#m8cc11cc330\" y=\"119.068126\"/>\r\n      </g>\r\n     </g>\r\n     <g id=\"text_16\">\r\n      <!-- 0.3 -->\r\n      <g transform=\"translate(26.765 122.867345)scale(0.1 -0.1)\">\r\n       <use xlink:href=\"#DejaVuSans-48\"/>\r\n       <use x=\"63.623047\" xlink:href=\"#DejaVuSans-46\"/>\r\n       <use x=\"95.410156\" xlink:href=\"#DejaVuSans-51\"/>\r\n      </g>\r\n     </g>\r\n    </g>\r\n    <g id=\"ytick_5\">\r\n     <g id=\"line2d_59\">\r\n      <g>\r\n       <use style=\"stroke:#000000;stroke-width:0.8;\" x=\"46.168125\" xlink:href=\"#m8cc11cc330\" y=\"47.637502\"/>\r\n      </g>\r\n     </g>\r\n     <g id=\"text_17\">\r\n      <!-- 0.4 -->\r\n      <g transform=\"translate(26.765 51.43672)scale(0.1 -0.1)\">\r\n       <use xlink:href=\"#DejaVuSans-48\"/>\r\n       <use x=\"63.623047\" xlink:href=\"#DejaVuSans-46\"/>\r\n       <use x=\"95.410156\" xlink:href=\"#DejaVuSans-52\"/>\r\n      </g>\r\n     </g>\r\n    </g>\r\n    <g id=\"text_18\">\r\n     <!-- Time (s) -->\r\n     <g style=\"fill:#ff0000;\" transform=\"translate(19.295 199.875)rotate(-90)scale(0.16 -0.16)\">\r\n      <defs>\r\n       <path d=\"M 61.078125 50.484375 \r\nL 57.71875 50.484375 \r\nQ 57.28125 52.25 56.125 54.65625 \r\nQ 54.984375 57.078125 53.5625 59.234375 \r\nQ 52.09375 61.46875 50.359375 63.15625 \r\nQ 48.640625 64.84375 47.015625 65.09375 \r\nQ 45.515625 65.28125 43.21875 65.375 \r\nQ 40.921875 65.484375 38.96875 65.484375 \r\nL 36.140625 65.484375 \r\nL 36.140625 10.0625 \r\nQ 36.140625 8.453125 36.8125 7.109375 \r\nQ 37.5 5.765625 39.203125 5.03125 \r\nQ 40.09375 4.6875 42.890625 4.09375 \r\nQ 45.703125 3.515625 47.265625 3.46875 \r\nL 47.265625 0 \r\nL 14.546875 0 \r\nL 14.546875 3.46875 \r\nQ 15.921875 3.5625 18.71875 3.859375 \r\nQ 21.53125 4.15625 22.609375 4.59375 \r\nQ 24.21875 5.21875 24.96875 6.421875 \r\nQ 25.734375 7.625 25.734375 9.625 \r\nL 25.734375 65.484375 \r\nL 22.90625 65.484375 \r\nQ 21.390625 65.484375 19.140625 65.40625 \r\nQ 16.890625 65.328125 14.84375 65.09375 \r\nQ 13.234375 64.890625 11.5 63.15625 \r\nQ 9.765625 61.421875 8.296875 59.234375 \r\nQ 6.84375 57.03125 5.71875 54.5625 \r\nQ 4.59375 52.09375 4.15625 50.484375 \r\nL 0.734375 50.484375 \r\nL 0.734375 69.28125 \r\nL 61.078125 69.28125 \r\nz\r\n\" id=\"Georgia-84\"/>\r\n       <path d=\"M 85.984375 0 \r\nL 62.5 0 \r\nL 62.5 3.21875 \r\nQ 63.625 3.328125 64.765625 3.421875 \r\nQ 65.921875 3.515625 66.796875 3.8125 \r\nQ 68.171875 4.25 68.828125 5.34375 \r\nQ 69.484375 6.453125 69.484375 8.203125 \r\nL 69.484375 33.0625 \r\nQ 69.484375 38.140625 67.15625 40.890625 \r\nQ 64.84375 43.65625 61.375 43.65625 \r\nQ 58.984375 43.65625 56.875 42.921875 \r\nQ 54.78125 42.1875 53.03125 40.875 \r\nQ 51.609375 39.796875 50.65625 38.546875 \r\nQ 49.703125 37.3125 49.21875 36.46875 \r\nL 49.21875 8.6875 \r\nQ 49.21875 6.984375 49.796875 5.875 \r\nQ 50.390625 4.78125 51.8125 4.203125 \r\nQ 52.9375 3.765625 53.828125 3.546875 \r\nQ 54.734375 3.328125 56.203125 3.21875 \r\nL 56.203125 0 \r\nL 33.203125 0 \r\nL 33.203125 3.21875 \r\nQ 34.328125 3.328125 35.375 3.421875 \r\nQ 36.421875 3.515625 37.3125 3.8125 \r\nQ 38.671875 4.25 39.328125 5.34375 \r\nQ 39.984375 6.453125 39.984375 8.203125 \r\nL 39.984375 33.0625 \r\nQ 39.984375 38.140625 37.671875 40.890625 \r\nQ 35.359375 43.65625 31.890625 43.65625 \r\nQ 29.5 43.65625 27.390625 42.890625 \r\nQ 25.296875 42.140625 23.53125 40.828125 \r\nQ 22.125 39.75 21.140625 38.40625 \r\nQ 20.171875 37.0625 19.671875 36.375 \r\nL 19.671875 8.796875 \r\nQ 19.671875 7.125 20.359375 6 \r\nQ 21.046875 4.890625 22.40625 4.296875 \r\nQ 23.4375 3.8125 24.515625 3.5625 \r\nQ 25.59375 3.328125 26.90625 3.21875 \r\nL 26.90625 0 \r\nL 3.515625 0 \r\nL 3.515625 3.21875 \r\nQ 4.640625 3.328125 5.828125 3.421875 \r\nQ 7.03125 3.515625 7.90625 3.8125 \r\nQ 9.28125 4.25 9.9375 5.34375 \r\nQ 10.59375 6.453125 10.59375 8.203125 \r\nL 10.59375 38.140625 \r\nQ 10.59375 39.703125 9.890625 40.9375 \r\nQ 9.1875 42.1875 7.90625 43.0625 \r\nQ 6.984375 43.65625 5.609375 44.015625 \r\nQ 4.25 44.390625 2.78125 44.484375 \r\nL 2.78125 47.65625 \r\nL 18.890625 48.734375 \r\nL 19.578125 48.046875 \r\nL 19.578125 41.15625 \r\nL 19.921875 41.15625 \r\nQ 21.140625 42.390625 22.890625 44.046875 \r\nQ 24.65625 45.703125 26.171875 46.734375 \r\nQ 27.875 47.90625 30.4375 48.6875 \r\nQ 33.015625 49.46875 35.984375 49.46875 \r\nQ 40.671875 49.46875 44.03125 46.953125 \r\nQ 47.40625 44.4375 48.875 40.875 \r\nQ 50.640625 42.578125 51.984375 43.875 \r\nQ 53.328125 45.171875 55.515625 46.625 \r\nQ 57.375 47.90625 59.890625 48.6875 \r\nQ 62.40625 49.46875 65.484375 49.46875 \r\nQ 71.578125 49.46875 75.140625 45.453125 \r\nQ 78.71875 41.453125 78.71875 33.15625 \r\nL 78.71875 8.6875 \r\nQ 78.71875 6.984375 79.296875 5.875 \r\nQ 79.890625 4.78125 81.296875 4.203125 \r\nQ 82.421875 3.765625 83.515625 3.546875 \r\nQ 84.625 3.328125 85.984375 3.21875 \r\nz\r\n\" id=\"Georgia-109\"/>\r\n       <path d=\"M 34.234375 -16.015625 \r\nQ 20.90625 -14.359375 13.3125 -2.578125 \r\nQ 5.71875 9.1875 5.71875 29.109375 \r\nQ 5.71875 49.359375 13.3125 61.203125 \r\nQ 20.90625 73.046875 34.234375 74.8125 \r\nL 34.234375 70.75 \r\nQ 24.859375 69.046875 19.96875 58.78125 \r\nQ 15.09375 48.53125 15.09375 29 \r\nQ 15.09375 10.40625 19.875 0.078125 \r\nQ 24.65625 -10.25 34.234375 -12.015625 \r\nz\r\n\" id=\"Georgia-40\"/>\r\n       <path d=\"M 35.296875 23.578125 \r\nQ 37.3125 21.828125 38.375 19.53125 \r\nQ 39.453125 17.234375 39.453125 13.921875 \r\nQ 39.453125 7.234375 34.4375 2.984375 \r\nQ 29.4375 -1.265625 21.484375 -1.265625 \r\nQ 17.28125 -1.265625 13.734375 0.25 \r\nQ 10.203125 1.765625 8.6875 3.03125 \r\nL 7.71875 -0.140625 \r\nL 4.046875 -0.140625 \r\nL 3.5625 16.609375 \r\nL 6.9375 16.609375 \r\nQ 7.328125 14.703125 8.59375 12.15625 \r\nQ 9.859375 9.625 11.671875 7.5625 \r\nQ 13.578125 5.421875 16.234375 3.953125 \r\nQ 18.890625 2.484375 22.21875 2.484375 \r\nQ 26.90625 2.484375 29.4375 4.609375 \r\nQ 31.984375 6.734375 31.984375 10.6875 \r\nQ 31.984375 12.75 31.171875 14.234375 \r\nQ 30.375 15.71875 28.8125 16.84375 \r\nQ 27.203125 17.96875 24.859375 18.875 \r\nQ 22.515625 19.78125 19.625 20.65625 \r\nQ 17.328125 21.34375 14.515625 22.53125 \r\nQ 11.71875 23.734375 9.71875 25.34375 \r\nQ 7.5625 27.046875 6.1875 29.53125 \r\nQ 4.828125 32.03125 4.828125 35.40625 \r\nQ 4.828125 41.3125 9.21875 45.40625 \r\nQ 13.625 49.515625 21 49.515625 \r\nQ 23.828125 49.515625 26.78125 48.78125 \r\nQ 29.734375 48.046875 31.59375 47.015625 \r\nL 32.71875 49.5625 \r\nL 36.234375 49.5625 \r\nL 36.96875 34.078125 \r\nL 33.59375 34.078125 \r\nQ 32.5625 39.265625 29.171875 42.5 \r\nQ 25.78125 45.75 20.90625 45.75 \r\nQ 16.890625 45.75 14.59375 43.75 \r\nQ 12.3125 41.75 12.3125 38.921875 \r\nQ 12.3125 36.71875 13.0625 35.25 \r\nQ 13.8125 33.796875 15.328125 32.765625 \r\nQ 16.796875 31.78125 19.015625 30.921875 \r\nQ 21.234375 30.078125 24.515625 29 \r\nQ 27.734375 27.984375 30.59375 26.609375 \r\nQ 33.453125 25.25 35.296875 23.578125 \r\nz\r\n\" id=\"Georgia-115\"/>\r\n       <path d=\"M 31.78125 29.109375 \r\nQ 31.78125 9.1875 24.1875 -2.578125 \r\nQ 16.609375 -14.359375 3.265625 -16.015625 \r\nL 3.265625 -12.015625 \r\nQ 12.84375 -10.25 17.625 0.078125 \r\nQ 22.40625 10.40625 22.40625 29 \r\nQ 22.40625 48.53125 17.515625 58.78125 \r\nQ 12.640625 69.046875 3.265625 70.75 \r\nL 3.265625 74.8125 \r\nQ 16.609375 73.046875 24.1875 61.203125 \r\nQ 31.78125 49.359375 31.78125 29.109375 \r\nz\r\n\" id=\"Georgia-41\"/>\r\n      </defs>\r\n      <use xlink:href=\"#Georgia-84\"/>\r\n      <use x=\"61.865234\" xlink:href=\"#Georgia-105\"/>\r\n      <use x=\"91.162109\" xlink:href=\"#Georgia-109\"/>\r\n      <use x=\"179.248047\" xlink:href=\"#Georgia-101\"/>\r\n      <use x=\"227.587891\" xlink:href=\"#Georgia-32\"/>\r\n      <use x=\"251.708984\" xlink:href=\"#Georgia-40\"/>\r\n      <use x=\"289.208984\" xlink:href=\"#Georgia-115\"/>\r\n      <use x=\"332.421875\" xlink:href=\"#Georgia-41\"/>\r\n     </g>\r\n    </g>\r\n   </g>\r\n   <g id=\"patch_49\">\r\n    <path d=\"M 46.168125 333.36 \r\nL 46.168125 7.2 \r\n\" style=\"fill:none;stroke:#000000;stroke-linecap:square;stroke-linejoin:miter;stroke-width:0.8;\"/>\r\n   </g>\r\n   <g id=\"patch_50\">\r\n    <path d=\"M 1050.568125 333.36 \r\nL 1050.568125 7.2 \r\n\" style=\"fill:none;stroke:#000000;stroke-linecap:square;stroke-linejoin:miter;stroke-width:0.8;\"/>\r\n   </g>\r\n   <g id=\"patch_51\">\r\n    <path d=\"M 46.168125 333.36 \r\nL 1050.568125 333.36 \r\n\" style=\"fill:none;stroke:#000000;stroke-linecap:square;stroke-linejoin:miter;stroke-width:0.8;\"/>\r\n   </g>\r\n   <g id=\"patch_52\">\r\n    <path d=\"M 46.168125 7.2 \r\nL 1050.568125 7.2 \r\n\" style=\"fill:none;stroke:#000000;stroke-linecap:square;stroke-linejoin:miter;stroke-width:0.8;\"/>\r\n   </g>\r\n  </g>\r\n  <g id=\"axes_2\">\r\n   <g id=\"patch_53\">\r\n    <path clip-path=\"url(#p41bf1ea8bc)\" d=\"M 91.82267 333.36 \r\nL 106.490798 333.36 \r\nL 106.490798 333.36 \r\nL 91.82267 333.36 \r\nz\r\n\" style=\"fill:#0000ff;fill-opacity:0.3;stroke:#0000ff;stroke-linejoin:miter;\"/>\r\n   </g>\r\n   <g id=\"patch_54\">\r\n    <path clip-path=\"url(#p41bf1ea8bc)\" d=\"M 110.157829 333.36 \r\nL 124.825956 333.36 \r\nL 124.825956 333.36 \r\nL 110.157829 333.36 \r\nz\r\n\" style=\"fill:#0000ff;fill-opacity:0.3;stroke:#0000ff;stroke-linejoin:miter;\"/>\r\n   </g>\r\n   <g id=\"patch_55\">\r\n    <path clip-path=\"url(#p41bf1ea8bc)\" d=\"M 128.492988 333.36 \r\nL 143.161115 333.36 \r\nL 143.161115 333.36 \r\nL 128.492988 333.36 \r\nz\r\n\" style=\"fill:#0000ff;fill-opacity:0.3;stroke:#0000ff;stroke-linejoin:miter;\"/>\r\n   </g>\r\n   <g id=\"patch_56\">\r\n    <path clip-path=\"url(#p41bf1ea8bc)\" d=\"M 146.828147 333.36 \r\nL 161.496274 333.36 \r\nL 161.496274 333.36 \r\nL 146.828147 333.36 \r\nz\r\n\" style=\"fill:#0000ff;fill-opacity:0.3;stroke:#0000ff;stroke-linejoin:miter;\"/>\r\n   </g>\r\n   <g id=\"patch_57\">\r\n    <path clip-path=\"url(#p41bf1ea8bc)\" d=\"M 165.163306 333.36 \r\nL 179.831433 333.36 \r\nL 179.831433 331.387957 \r\nL 165.163306 331.387957 \r\nz\r\n\" style=\"fill:#0000ff;fill-opacity:0.3;stroke:#0000ff;stroke-linejoin:miter;\"/>\r\n   </g>\r\n   <g id=\"patch_58\">\r\n    <path clip-path=\"url(#p41bf1ea8bc)\" d=\"M 183.498465 333.36 \r\nL 198.166592 333.36 \r\nL 198.166592 245.381439 \r\nL 183.498465 245.381439 \r\nz\r\n\" style=\"fill:#0000ff;fill-opacity:0.3;stroke:#0000ff;stroke-linejoin:miter;\"/>\r\n   </g>\r\n   <g id=\"patch_59\">\r\n    <path clip-path=\"url(#p41bf1ea8bc)\" d=\"M 201.833623 333.36 \r\nL 216.50175 333.36 \r\nL 216.50175 333.36 \r\nL 201.833623 333.36 \r\nz\r\n\" style=\"fill:#0000ff;fill-opacity:0.3;stroke:#0000ff;stroke-linejoin:miter;\"/>\r\n   </g>\r\n   <g id=\"patch_60\">\r\n    <path clip-path=\"url(#p41bf1ea8bc)\" d=\"M 220.168782 333.36 \r\nL 234.836909 333.36 \r\nL 234.836909 333.36 \r\nL 220.168782 333.36 \r\nz\r\n\" style=\"fill:#0000ff;fill-opacity:0.3;stroke:#0000ff;stroke-linejoin:miter;\"/>\r\n   </g>\r\n   <g id=\"patch_61\">\r\n    <path clip-path=\"url(#p41bf1ea8bc)\" d=\"M 275.174259 333.36 \r\nL 289.842386 333.36 \r\nL 289.842386 333.36 \r\nL 275.174259 333.36 \r\nz\r\n\" style=\"fill:#0000ff;fill-opacity:0.3;stroke:#0000ff;stroke-linejoin:miter;\"/>\r\n   </g>\r\n   <g id=\"patch_62\">\r\n    <path clip-path=\"url(#p41bf1ea8bc)\" d=\"M 293.509417 333.36 \r\nL 308.177544 333.36 \r\nL 308.177544 333.36 \r\nL 293.509417 333.36 \r\nz\r\n\" style=\"fill:#0000ff;fill-opacity:0.3;stroke:#0000ff;stroke-linejoin:miter;\"/>\r\n   </g>\r\n   <g id=\"patch_63\">\r\n    <path clip-path=\"url(#p41bf1ea8bc)\" d=\"M 311.844576 333.36 \r\nL 326.512703 333.36 \r\nL 326.512703 22.731429 \r\nL 311.844576 22.731429 \r\nz\r\n\" style=\"fill:#0000ff;fill-opacity:0.3;stroke:#0000ff;stroke-linejoin:miter;\"/>\r\n   </g>\r\n   <g id=\"patch_64\">\r\n    <path clip-path=\"url(#p41bf1ea8bc)\" d=\"M 330.179735 333.36 \r\nL 344.847862 333.36 \r\nL 344.847862 249.134682 \r\nL 330.179735 249.134682 \r\nz\r\n\" style=\"fill:#0000ff;fill-opacity:0.3;stroke:#0000ff;stroke-linejoin:miter;\"/>\r\n   </g>\r\n   <g id=\"patch_65\">\r\n    <path clip-path=\"url(#p41bf1ea8bc)\" d=\"M 348.514894 333.36 \r\nL 363.183021 333.36 \r\nL 363.183021 333.36 \r\nL 348.514894 333.36 \r\nz\r\n\" style=\"fill:#0000ff;fill-opacity:0.3;stroke:#0000ff;stroke-linejoin:miter;\"/>\r\n   </g>\r\n   <g id=\"patch_66\">\r\n    <path clip-path=\"url(#p41bf1ea8bc)\" d=\"M 366.850053 333.36 \r\nL 381.51818 333.36 \r\nL 381.51818 333.36 \r\nL 366.850053 333.36 \r\nz\r\n\" style=\"fill:#0000ff;fill-opacity:0.3;stroke:#0000ff;stroke-linejoin:miter;\"/>\r\n   </g>\r\n   <g id=\"patch_67\">\r\n    <path clip-path=\"url(#p41bf1ea8bc)\" d=\"M 385.185212 333.36 \r\nL 399.853339 333.36 \r\nL 399.853339 333.36 \r\nL 385.185212 333.36 \r\nz\r\n\" style=\"fill:#0000ff;fill-opacity:0.3;stroke:#0000ff;stroke-linejoin:miter;\"/>\r\n   </g>\r\n   <g id=\"patch_68\">\r\n    <path clip-path=\"url(#p41bf1ea8bc)\" d=\"M 403.52037 333.36 \r\nL 418.188497 333.36 \r\nL 418.188497 333.36 \r\nL 403.52037 333.36 \r\nz\r\n\" style=\"fill:#0000ff;fill-opacity:0.3;stroke:#0000ff;stroke-linejoin:miter;\"/>\r\n   </g>\r\n   <g id=\"patch_69\">\r\n    <path clip-path=\"url(#p41bf1ea8bc)\" d=\"M 421.855529 333.36 \r\nL 436.523656 333.36 \r\nL 436.523656 333.36 \r\nL 421.855529 333.36 \r\nz\r\n\" style=\"fill:#0000ff;fill-opacity:0.3;stroke:#0000ff;stroke-linejoin:miter;\"/>\r\n   </g>\r\n   <g id=\"patch_70\">\r\n    <path clip-path=\"url(#p41bf1ea8bc)\" d=\"M 440.190688 333.36 \r\nL 454.858815 333.36 \r\nL 454.858815 315.993299 \r\nL 440.190688 315.993299 \r\nz\r\n\" style=\"fill:#0000ff;fill-opacity:0.3;stroke:#0000ff;stroke-linejoin:miter;\"/>\r\n   </g>\r\n   <g id=\"patch_71\">\r\n    <path clip-path=\"url(#p41bf1ea8bc)\" d=\"M 458.525847 333.36 \r\nL 473.193974 333.36 \r\nL 473.193974 333.36 \r\nL 458.525847 333.36 \r\nz\r\n\" style=\"fill:#0000ff;fill-opacity:0.3;stroke:#0000ff;stroke-linejoin:miter;\"/>\r\n   </g>\r\n   <g id=\"patch_72\">\r\n    <path clip-path=\"url(#p41bf1ea8bc)\" d=\"M 476.861006 333.36 \r\nL 491.529133 333.36 \r\nL 491.529133 333.36 \r\nL 476.861006 333.36 \r\nz\r\n\" style=\"fill:#0000ff;fill-opacity:0.3;stroke:#0000ff;stroke-linejoin:miter;\"/>\r\n   </g>\r\n   <g id=\"patch_73\">\r\n    <path clip-path=\"url(#p41bf1ea8bc)\" d=\"M 495.196164 333.36 \r\nL 509.864291 333.36 \r\nL 509.864291 333.36 \r\nL 495.196164 333.36 \r\nz\r\n\" style=\"fill:#0000ff;fill-opacity:0.3;stroke:#0000ff;stroke-linejoin:miter;\"/>\r\n   </g>\r\n   <g id=\"patch_74\">\r\n    <path clip-path=\"url(#p41bf1ea8bc)\" d=\"M 513.531323 333.36 \r\nL 528.19945 333.36 \r\nL 528.19945 333.36 \r\nL 513.531323 333.36 \r\nz\r\n\" style=\"fill:#0000ff;fill-opacity:0.3;stroke:#0000ff;stroke-linejoin:miter;\"/>\r\n   </g>\r\n   <g id=\"patch_75\">\r\n    <path clip-path=\"url(#p41bf1ea8bc)\" d=\"M 531.866482 333.36 \r\nL 546.534609 333.36 \r\nL 546.534609 333.36 \r\nL 531.866482 333.36 \r\nz\r\n\" style=\"fill:#0000ff;fill-opacity:0.3;stroke:#0000ff;stroke-linejoin:miter;\"/>\r\n   </g>\r\n   <g id=\"patch_76\">\r\n    <path clip-path=\"url(#p41bf1ea8bc)\" d=\"M 550.201641 333.36 \r\nL 564.869768 333.36 \r\nL 564.869768 333.36 \r\nL 550.201641 333.36 \r\nz\r\n\" style=\"fill:#0000ff;fill-opacity:0.3;stroke:#0000ff;stroke-linejoin:miter;\"/>\r\n   </g>\r\n   <g id=\"patch_77\">\r\n    <path clip-path=\"url(#p41bf1ea8bc)\" d=\"M 568.5368 333.36 \r\nL 583.204927 333.36 \r\nL 583.204927 333.36 \r\nL 568.5368 333.36 \r\nz\r\n\" style=\"fill:#0000ff;fill-opacity:0.3;stroke:#0000ff;stroke-linejoin:miter;\"/>\r\n   </g>\r\n   <g id=\"patch_78\">\r\n    <path clip-path=\"url(#p41bf1ea8bc)\" d=\"M 586.871959 333.36 \r\nL 601.540086 333.36 \r\nL 601.540086 333.36 \r\nL 586.871959 333.36 \r\nz\r\n\" style=\"fill:#0000ff;fill-opacity:0.3;stroke:#0000ff;stroke-linejoin:miter;\"/>\r\n   </g>\r\n   <g id=\"patch_79\">\r\n    <path clip-path=\"url(#p41bf1ea8bc)\" d=\"M 605.207117 333.36 \r\nL 619.875244 333.36 \r\nL 619.875244 333.36 \r\nL 605.207117 333.36 \r\nz\r\n\" style=\"fill:#0000ff;fill-opacity:0.3;stroke:#0000ff;stroke-linejoin:miter;\"/>\r\n   </g>\r\n   <g id=\"patch_80\">\r\n    <path clip-path=\"url(#p41bf1ea8bc)\" d=\"M 623.542276 333.36 \r\nL 638.210403 333.36 \r\nL 638.210403 333.36 \r\nL 623.542276 333.36 \r\nz\r\n\" style=\"fill:#0000ff;fill-opacity:0.3;stroke:#0000ff;stroke-linejoin:miter;\"/>\r\n   </g>\r\n   <g id=\"patch_81\">\r\n    <path clip-path=\"url(#p41bf1ea8bc)\" d=\"M 641.877435 333.36 \r\nL 656.545562 333.36 \r\nL 656.545562 333.36 \r\nL 641.877435 333.36 \r\nz\r\n\" style=\"fill:#0000ff;fill-opacity:0.3;stroke:#0000ff;stroke-linejoin:miter;\"/>\r\n   </g>\r\n   <g id=\"patch_82\">\r\n    <path clip-path=\"url(#p41bf1ea8bc)\" d=\"M 660.212594 333.36 \r\nL 674.880721 333.36 \r\nL 674.880721 333.36 \r\nL 660.212594 333.36 \r\nz\r\n\" style=\"fill:#0000ff;fill-opacity:0.3;stroke:#0000ff;stroke-linejoin:miter;\"/>\r\n   </g>\r\n   <g id=\"patch_83\">\r\n    <path clip-path=\"url(#p41bf1ea8bc)\" d=\"M 678.547753 333.36 \r\nL 693.21588 333.36 \r\nL 693.21588 333.36 \r\nL 678.547753 333.36 \r\nz\r\n\" style=\"fill:#0000ff;fill-opacity:0.3;stroke:#0000ff;stroke-linejoin:miter;\"/>\r\n   </g>\r\n   <g id=\"patch_84\">\r\n    <path clip-path=\"url(#p41bf1ea8bc)\" d=\"M 696.882911 333.36 \r\nL 711.551038 333.36 \r\nL 711.551038 333.36 \r\nL 696.882911 333.36 \r\nz\r\n\" style=\"fill:#0000ff;fill-opacity:0.3;stroke:#0000ff;stroke-linejoin:miter;\"/>\r\n   </g>\r\n   <g id=\"patch_85\">\r\n    <path clip-path=\"url(#p41bf1ea8bc)\" d=\"M 715.21807 333.36 \r\nL 729.886197 333.36 \r\nL 729.886197 333.36 \r\nL 715.21807 333.36 \r\nz\r\n\" style=\"fill:#0000ff;fill-opacity:0.3;stroke:#0000ff;stroke-linejoin:miter;\"/>\r\n   </g>\r\n   <g id=\"patch_86\">\r\n    <path clip-path=\"url(#p41bf1ea8bc)\" d=\"M 733.553229 333.36 \r\nL 748.221356 333.36 \r\nL 748.221356 333.36 \r\nL 733.553229 333.36 \r\nz\r\n\" style=\"fill:#0000ff;fill-opacity:0.3;stroke:#0000ff;stroke-linejoin:miter;\"/>\r\n   </g>\r\n   <g id=\"patch_87\">\r\n    <path clip-path=\"url(#p41bf1ea8bc)\" d=\"M 751.888388 333.36 \r\nL 766.556515 333.36 \r\nL 766.556515 333.36 \r\nL 751.888388 333.36 \r\nz\r\n\" style=\"fill:#0000ff;fill-opacity:0.3;stroke:#0000ff;stroke-linejoin:miter;\"/>\r\n   </g>\r\n   <g id=\"patch_88\">\r\n    <path clip-path=\"url(#p41bf1ea8bc)\" d=\"M 770.223547 333.36 \r\nL 784.891674 333.36 \r\nL 784.891674 333.36 \r\nL 770.223547 333.36 \r\nz\r\n\" style=\"fill:#0000ff;fill-opacity:0.3;stroke:#0000ff;stroke-linejoin:miter;\"/>\r\n   </g>\r\n   <g id=\"patch_89\">\r\n    <path clip-path=\"url(#p41bf1ea8bc)\" d=\"M 788.558706 333.36 \r\nL 803.226833 333.36 \r\nL 803.226833 333.36 \r\nL 788.558706 333.36 \r\nz\r\n\" style=\"fill:#0000ff;fill-opacity:0.3;stroke:#0000ff;stroke-linejoin:miter;\"/>\r\n   </g>\r\n   <g id=\"patch_90\">\r\n    <path clip-path=\"url(#p41bf1ea8bc)\" d=\"M 806.893864 333.36 \r\nL 821.561991 333.36 \r\nL 821.561991 333.36 \r\nL 806.893864 333.36 \r\nz\r\n\" style=\"fill:#0000ff;fill-opacity:0.3;stroke:#0000ff;stroke-linejoin:miter;\"/>\r\n   </g>\r\n   <g id=\"patch_91\">\r\n    <path clip-path=\"url(#p41bf1ea8bc)\" d=\"M 825.229023 333.36 \r\nL 839.89715 333.36 \r\nL 839.89715 333.36 \r\nL 825.229023 333.36 \r\nz\r\n\" style=\"fill:#0000ff;fill-opacity:0.3;stroke:#0000ff;stroke-linejoin:miter;\"/>\r\n   </g>\r\n   <g id=\"patch_92\">\r\n    <path clip-path=\"url(#p41bf1ea8bc)\" d=\"M 880.2345 333.36 \r\nL 894.902627 333.36 \r\nL 894.902627 333.36 \r\nL 880.2345 333.36 \r\nz\r\n\" style=\"fill:#0000ff;fill-opacity:0.3;stroke:#0000ff;stroke-linejoin:miter;\"/>\r\n   </g>\r\n   <g id=\"patch_93\">\r\n    <path clip-path=\"url(#p41bf1ea8bc)\" d=\"M 898.569658 333.36 \r\nL 913.237785 333.36 \r\nL 913.237785 333.36 \r\nL 898.569658 333.36 \r\nz\r\n\" style=\"fill:#0000ff;fill-opacity:0.3;stroke:#0000ff;stroke-linejoin:miter;\"/>\r\n   </g>\r\n   <g id=\"patch_94\">\r\n    <path clip-path=\"url(#p41bf1ea8bc)\" d=\"M 916.904817 333.36 \r\nL 931.572944 333.36 \r\nL 931.572944 333.36 \r\nL 916.904817 333.36 \r\nz\r\n\" style=\"fill:#0000ff;fill-opacity:0.3;stroke:#0000ff;stroke-linejoin:miter;\"/>\r\n   </g>\r\n   <g id=\"patch_95\">\r\n    <path clip-path=\"url(#p41bf1ea8bc)\" d=\"M 935.239976 333.36 \r\nL 949.908103 333.36 \r\nL 949.908103 333.36 \r\nL 935.239976 333.36 \r\nz\r\n\" style=\"fill:#0000ff;fill-opacity:0.3;stroke:#0000ff;stroke-linejoin:miter;\"/>\r\n   </g>\r\n   <g id=\"patch_96\">\r\n    <path clip-path=\"url(#p41bf1ea8bc)\" d=\"M 953.575135 333.36 \r\nL 968.243262 333.36 \r\nL 968.243262 333.36 \r\nL 953.575135 333.36 \r\nz\r\n\" style=\"fill:#0000ff;fill-opacity:0.3;stroke:#0000ff;stroke-linejoin:miter;\"/>\r\n   </g>\r\n   <g id=\"patch_97\">\r\n    <path clip-path=\"url(#p41bf1ea8bc)\" d=\"M 971.910294 333.36 \r\nL 986.578421 333.36 \r\nL 986.578421 327.1258 \r\nL 971.910294 327.1258 \r\nz\r\n\" style=\"fill:#0000ff;fill-opacity:0.3;stroke:#0000ff;stroke-linejoin:miter;\"/>\r\n   </g>\r\n   <g id=\"patch_98\">\r\n    <path clip-path=\"url(#p41bf1ea8bc)\" d=\"M 990.245452 333.36 \r\nL 1004.91358 333.36 \r\nL 1004.91358 333.36 \r\nL 990.245452 333.36 \r\nz\r\n\" style=\"fill:#0000ff;fill-opacity:0.3;stroke:#0000ff;stroke-linejoin:miter;\"/>\r\n   </g>\r\n   <g id=\"matplotlib.axis_3\">\r\n    <g id=\"ytick_6\">\r\n     <g id=\"line2d_60\">\r\n      <defs>\r\n       <path d=\"M 0 0 \r\nL -3.5 0 \r\n\" id=\"m2f79a3fa17\" style=\"stroke:#000000;stroke-width:0.8;\"/>\r\n      </defs>\r\n      <g>\r\n       <use style=\"stroke:#000000;stroke-width:0.8;\" x=\"1050.568125\" xlink:href=\"#m2f79a3fa17\" y=\"333.36\"/>\r\n      </g>\r\n     </g>\r\n     <g id=\"text_19\">\r\n      <!-- 0 -->\r\n      <g transform=\"translate(1054.068125 337.159219)scale(0.1 -0.1)\">\r\n       <use xlink:href=\"#DejaVuSans-48\"/>\r\n      </g>\r\n     </g>\r\n    </g>\r\n    <g id=\"ytick_7\">\r\n     <g id=\"line2d_61\">\r\n      <g>\r\n       <use style=\"stroke:#000000;stroke-width:0.8;\" x=\"1050.568125\" xlink:href=\"#m2f79a3fa17\" y=\"269.745711\"/>\r\n      </g>\r\n     </g>\r\n     <g id=\"text_20\">\r\n      <!-- 1 -->\r\n      <g transform=\"translate(1054.068125 273.54493)scale(0.1 -0.1)\">\r\n       <use xlink:href=\"#DejaVuSans-49\"/>\r\n      </g>\r\n     </g>\r\n    </g>\r\n    <g id=\"ytick_8\">\r\n     <g id=\"line2d_62\">\r\n      <g>\r\n       <use style=\"stroke:#000000;stroke-width:0.8;\" x=\"1050.568125\" xlink:href=\"#m2f79a3fa17\" y=\"206.131423\"/>\r\n      </g>\r\n     </g>\r\n     <g id=\"text_21\">\r\n      <!-- 2 -->\r\n      <g transform=\"translate(1054.068125 209.930641)scale(0.1 -0.1)\">\r\n       <use xlink:href=\"#DejaVuSans-50\"/>\r\n      </g>\r\n     </g>\r\n    </g>\r\n    <g id=\"ytick_9\">\r\n     <g id=\"line2d_63\">\r\n      <g>\r\n       <use style=\"stroke:#000000;stroke-width:0.8;\" x=\"1050.568125\" xlink:href=\"#m2f79a3fa17\" y=\"142.517134\"/>\r\n      </g>\r\n     </g>\r\n     <g id=\"text_22\">\r\n      <!-- 3 -->\r\n      <g transform=\"translate(1054.068125 146.316353)scale(0.1 -0.1)\">\r\n       <use xlink:href=\"#DejaVuSans-51\"/>\r\n      </g>\r\n     </g>\r\n    </g>\r\n    <g id=\"ytick_10\">\r\n     <g id=\"line2d_64\">\r\n      <g>\r\n       <use style=\"stroke:#000000;stroke-width:0.8;\" x=\"1050.568125\" xlink:href=\"#m2f79a3fa17\" y=\"78.902845\"/>\r\n      </g>\r\n     </g>\r\n     <g id=\"text_23\">\r\n      <!-- 4 -->\r\n      <g transform=\"translate(1054.068125 82.702064)scale(0.1 -0.1)\">\r\n       <use xlink:href=\"#DejaVuSans-52\"/>\r\n      </g>\r\n     </g>\r\n    </g>\r\n    <g id=\"ytick_11\">\r\n     <g id=\"line2d_65\">\r\n      <g>\r\n       <use style=\"stroke:#000000;stroke-width:0.8;\" x=\"1050.568125\" xlink:href=\"#m2f79a3fa17\" y=\"15.288557\"/>\r\n      </g>\r\n     </g>\r\n     <g id=\"text_24\">\r\n      <!-- 5 -->\r\n      <g transform=\"translate(1054.068125 19.087776)scale(0.1 -0.1)\">\r\n       <use xlink:href=\"#DejaVuSans-53\"/>\r\n      </g>\r\n     </g>\r\n    </g>\r\n    <g id=\"text_25\">\r\n     <!-- Memory Change (MiB) -->\r\n     <g style=\"fill:#0000ff;\" transform=\"translate(1076.525625 251.4825)rotate(-90)scale(0.16 -0.16)\">\r\n      <defs>\r\n       <path d=\"M 88.1875 0 \r\nL 57.5625 0 \r\nL 57.5625 3.46875 \r\nQ 59.234375 3.515625 61.84375 3.8125 \r\nQ 64.453125 4.109375 65.4375 4.640625 \r\nQ 66.9375 5.5625 67.640625 6.75 \r\nQ 68.359375 7.953125 68.359375 9.765625 \r\nL 68.359375 60.15625 \r\nL 67.625 60.15625 \r\nL 44 1.125 \r\nL 41.546875 1.125 \r\nL 19.046875 61.375 \r\nL 18.40625 61.375 \r\nL 18.40625 20.015625 \r\nQ 18.40625 14.015625 19.15625 10.890625 \r\nQ 19.921875 7.765625 21.484375 6.390625 \r\nQ 22.5625 5.375 25.921875 4.4375 \r\nQ 29.296875 3.515625 30.328125 3.46875 \r\nL 30.328125 0 \r\nL 2.34375 0 \r\nL 2.34375 3.46875 \r\nQ 4.546875 3.65625 6.953125 4.1875 \r\nQ 9.375 4.734375 10.6875 5.8125 \r\nQ 12.40625 7.171875 13.03125 10 \r\nQ 13.671875 12.84375 13.671875 19.484375 \r\nL 13.671875 54.9375 \r\nQ 13.671875 58.015625 12.9375 59.96875 \r\nQ 12.203125 61.921875 10.84375 63.140625 \r\nQ 9.328125 64.453125 7.125 65.078125 \r\nQ 4.9375 65.71875 2.78125 65.828125 \r\nL 2.78125 69.28125 \r\nL 26.421875 69.28125 \r\nL 46.234375 17.328125 \r\nL 63.1875 60.796875 \r\nQ 64.109375 63.1875 64.765625 65.796875 \r\nQ 65.4375 68.40625 65.484375 69.28125 \r\nL 88.09375 69.28125 \r\nL 88.09375 65.828125 \r\nQ 86.71875 65.765625 84.59375 65.375 \r\nQ 82.46875 64.984375 81.5 64.65625 \r\nQ 79.828125 64.0625 79.234375 62.6875 \r\nQ 78.65625 61.328125 78.65625 59.71875 \r\nL 78.65625 9.765625 \r\nQ 78.65625 8.0625 79.234375 6.890625 \r\nQ 79.828125 5.71875 81.5 4.828125 \r\nQ 82.375 4.34375 84.609375 3.921875 \r\nQ 86.859375 3.515625 88.1875 3.46875 \r\nz\r\n\" id=\"Georgia-77\"/>\r\n       <path d=\"M 50.4375 24.5625 \r\nQ 50.4375 19.484375 48.828125 14.578125 \r\nQ 47.21875 9.671875 44.234375 6.25 \r\nQ 40.875 2.34375 36.421875 0.4375 \r\nQ 31.984375 -1.46875 26.46875 -1.46875 \r\nQ 21.875 -1.46875 17.71875 0.265625 \r\nQ 13.578125 2 10.359375 5.328125 \r\nQ 7.171875 8.59375 5.296875 13.296875 \r\nQ 3.421875 18.015625 3.421875 23.875 \r\nQ 3.421875 35.15625 9.984375 42.328125 \r\nQ 16.546875 49.515625 27.203125 49.515625 \r\nQ 37.3125 49.515625 43.875 42.703125 \r\nQ 50.4375 35.890625 50.4375 24.5625 \r\nz\r\nM 40.328125 24.46875 \r\nQ 40.328125 28.125 39.59375 32.203125 \r\nQ 38.875 36.28125 37.40625 39.109375 \r\nQ 35.84375 42.140625 33.296875 43.96875 \r\nQ 30.765625 45.796875 27.09375 45.796875 \r\nQ 23.34375 45.796875 20.671875 43.9375 \r\nQ 18.015625 42.09375 16.359375 38.875 \r\nQ 14.796875 35.890625 14.15625 32.078125 \r\nQ 13.53125 28.265625 13.53125 24.703125 \r\nQ 13.53125 20.015625 14.28125 16.03125 \r\nQ 15.046875 12.0625 16.703125 8.9375 \r\nQ 18.359375 5.8125 20.875 4.03125 \r\nQ 23.390625 2.25 27.09375 2.25 \r\nQ 33.203125 2.25 36.765625 8.15625 \r\nQ 40.328125 14.0625 40.328125 24.46875 \r\nz\r\n\" id=\"Georgia-111\"/>\r\n       <path d=\"M 40.375 41.9375 \r\nQ 40.375 39.453125 39.15625 37.515625 \r\nQ 37.9375 35.59375 35.40625 35.59375 \r\nQ 32.671875 35.59375 31.21875 37 \r\nQ 29.78125 38.421875 29.78125 40.140625 \r\nQ 29.78125 41.21875 29.953125 42.09375 \r\nQ 30.125 42.96875 30.28125 43.84375 \r\nQ 27.984375 43.84375 24.90625 41.984375 \r\nQ 21.828125 40.140625 19.671875 36.71875 \r\nL 19.671875 8.6875 \r\nQ 19.671875 6.984375 20.328125 5.90625 \r\nQ 21 4.828125 22.40625 4.296875 \r\nQ 23.640625 3.8125 25.5625 3.5625 \r\nQ 27.484375 3.328125 28.90625 3.21875 \r\nL 28.90625 0 \r\nL 3.515625 0 \r\nL 3.515625 3.21875 \r\nQ 4.640625 3.328125 5.828125 3.421875 \r\nQ 7.03125 3.515625 7.90625 3.8125 \r\nQ 9.28125 4.25 9.9375 5.34375 \r\nQ 10.59375 6.453125 10.59375 8.203125 \r\nL 10.59375 37.9375 \r\nQ 10.59375 39.453125 9.890625 40.921875 \r\nQ 9.1875 42.390625 7.90625 43.265625 \r\nQ 6.984375 43.84375 5.703125 44.109375 \r\nQ 4.4375 44.390625 2.984375 44.484375 \r\nL 2.984375 47.65625 \r\nL 19 48.734375 \r\nL 19.671875 48.046875 \r\nL 19.671875 41.265625 \r\nL 19.921875 41.265625 \r\nQ 22.953125 45.21875 26.65625 47.265625 \r\nQ 30.375 49.3125 33.453125 49.3125 \r\nQ 36.53125 49.3125 38.453125 47.3125 \r\nQ 40.375 45.3125 40.375 41.9375 \r\nz\r\n\" id=\"Georgia-114\"/>\r\n       <path d=\"M -0.140625 -15.71875 \r\nQ -0.140625 -13.28125 1.203125 -11.734375 \r\nQ 2.546875 -10.203125 4.546875 -10.203125 \r\nQ 6.109375 -10.203125 7.21875 -10.78125 \r\nQ 8.34375 -11.375 9.234375 -12.3125 \r\nQ 9.96875 -13.03125 10.796875 -14.296875 \r\nQ 11.625 -15.578125 12.109375 -16.40625 \r\nQ 14.546875 -15.09375 17.9375 -9.515625 \r\nQ 21.34375 -3.953125 22.859375 0.25 \r\nQ 18.21875 11.8125 14.453125 20.9375 \r\nQ 10.6875 30.078125 6.59375 39.84375 \r\nQ 5.671875 42.09375 3.46875 43.328125 \r\nQ 1.265625 44.578125 -0.921875 44.921875 \r\nL -0.921875 48.140625 \r\nL 21.046875 48.140625 \r\nL 21.046875 44.734375 \r\nQ 19.578125 44.671875 17.53125 44.109375 \r\nQ 15.484375 43.5625 15.484375 42.828125 \r\nQ 15.484375 42.53125 15.703125 41.84375 \r\nQ 15.921875 41.15625 16.21875 40.4375 \r\nQ 18.0625 35.59375 21.875 26.484375 \r\nQ 25.6875 17.390625 27.78125 11.921875 \r\nQ 29.984375 17.140625 32.34375 22.734375 \r\nQ 34.71875 28.328125 37.640625 35.9375 \r\nQ 37.984375 36.859375 38.625 38.5 \r\nQ 39.265625 40.140625 39.265625 41.3125 \r\nQ 39.265625 42.578125 37.03125 43.671875 \r\nQ 34.8125 44.78125 32.8125 45.015625 \r\nL 32.8125 48.140625 \r\nL 50.6875 48.140625 \r\nL 50.6875 45.125 \r\nQ 49.21875 44.875 46.828125 43.4375 \r\nQ 44.4375 42 43.265625 39.359375 \r\nQ 37.453125 25.875 32.9375 14.796875 \r\nQ 28.421875 3.71875 26.078125 -1.515625 \r\nQ 23 -8.34375 20.578125 -12.171875 \r\nQ 18.171875 -16.015625 15.875 -18.21875 \r\nQ 13.625 -20.265625 11.796875 -20.96875 \r\nQ 9.96875 -21.6875 8.015625 -21.6875 \r\nQ 4.203125 -21.6875 2.03125 -19.875 \r\nQ -0.140625 -18.0625 -0.140625 -15.71875 \r\nz\r\n\" id=\"Georgia-121\"/>\r\n       <path d=\"M 35.296875 -1.609375 \r\nQ 29.109375 -1.609375 23.40625 0.828125 \r\nQ 17.71875 3.265625 13.328125 7.859375 \r\nQ 8.984375 12.453125 6.390625 19.0625 \r\nQ 3.8125 25.6875 3.8125 33.984375 \r\nQ 3.8125 42.28125 6.34375 49.046875 \r\nQ 8.890625 55.8125 13.375 60.6875 \r\nQ 17.828125 65.53125 23.875 68.15625 \r\nQ 29.9375 70.796875 36.8125 70.796875 \r\nQ 41.9375 70.796875 46.09375 69.53125 \r\nQ 50.25 68.265625 54 65.96875 \r\nL 56 69.28125 \r\nL 59.90625 69.28125 \r\nL 60.359375 44.578125 \r\nL 56.34375 44.578125 \r\nQ 55.5625 48.1875 54 52.40625 \r\nQ 52.4375 56.640625 50.34375 59.578125 \r\nQ 48 62.890625 44.765625 64.765625 \r\nQ 41.546875 66.65625 37.40625 66.65625 \r\nQ 32.671875 66.65625 28.59375 64.546875 \r\nQ 24.515625 62.453125 21.53125 58.34375 \r\nQ 18.703125 54.390625 17.09375 48.28125 \r\nQ 15.484375 42.1875 15.484375 34.671875 \r\nQ 15.484375 28.03125 17.15625 22.484375 \r\nQ 18.84375 16.9375 21.96875 12.75 \r\nQ 25.09375 8.59375 29.359375 6.25 \r\nQ 33.640625 3.90625 38.921875 3.90625 \r\nQ 42.875 3.90625 46.1875 5.140625 \r\nQ 49.515625 6.390625 51.953125 8.453125 \r\nQ 54.390625 10.59375 56.25 13.328125 \r\nQ 58.109375 16.0625 59.28125 19.28125 \r\nL 62.9375 17.53125 \r\nQ 58.734375 7.234375 51.796875 2.8125 \r\nQ 44.875 -1.609375 35.296875 -1.609375 \r\nz\r\n\" id=\"Georgia-67\"/>\r\n       <path d=\"M 55.8125 0 \r\nL 32.171875 0 \r\nL 32.171875 3.21875 \r\nQ 33.296875 3.328125 34.65625 3.421875 \r\nQ 36.03125 3.515625 36.921875 3.8125 \r\nQ 38.28125 4.25 38.9375 5.34375 \r\nQ 39.59375 6.453125 39.59375 8.203125 \r\nL 39.59375 32.953125 \r\nQ 39.59375 38.09375 37.171875 40.875 \r\nQ 34.765625 43.65625 31.296875 43.65625 \r\nQ 28.765625 43.65625 26.59375 42.84375 \r\nQ 24.421875 42.046875 22.703125 40.875 \r\nQ 21.046875 39.65625 20.15625 38.421875 \r\nQ 19.28125 37.203125 18.796875 36.375 \r\nL 18.796875 8.6875 \r\nQ 18.796875 7.03125 19.453125 5.953125 \r\nQ 20.125 4.890625 21.484375 4.296875 \r\nQ 22.5625 3.8125 23.703125 3.5625 \r\nQ 24.859375 3.328125 26.21875 3.21875 \r\nL 26.21875 0 \r\nL 2.59375 0 \r\nL 2.59375 3.21875 \r\nQ 3.71875 3.328125 4.9375 3.4375 \r\nQ 6.15625 3.5625 6.984375 3.8125 \r\nQ 8.34375 4.25 9.03125 5.34375 \r\nQ 9.71875 6.453125 9.71875 8.203125 \r\nL 9.71875 64.265625 \r\nQ 9.71875 65.921875 8.953125 67.578125 \r\nQ 8.203125 69.234375 6.984375 70.0625 \r\nQ 6.109375 70.703125 3.875 70.96875 \r\nQ 1.65625 71.234375 0.296875 71.34375 \r\nL 0.296875 74.46875 \r\nL 18.109375 75.59375 \r\nL 18.796875 74.859375 \r\nL 18.796875 41.265625 \r\nL 19 41.265625 \r\nQ 20.609375 42.875 21.921875 44.109375 \r\nQ 23.25 45.359375 25.390625 46.734375 \r\nQ 27.25 47.90625 29.765625 48.6875 \r\nQ 32.28125 49.46875 35.40625 49.46875 \r\nQ 41.84375 49.46875 45.3125 45.390625 \r\nQ 48.78125 41.3125 48.78125 33.640625 \r\nL 48.78125 8.59375 \r\nQ 48.78125 6.890625 49.390625 5.828125 \r\nQ 50 4.78125 51.421875 4.203125 \r\nQ 52.546875 3.765625 53.4375 3.546875 \r\nQ 54.34375 3.328125 55.8125 3.21875 \r\nz\r\n\" id=\"Georgia-104\"/>\r\n       <path d=\"M 49.125 0.875 \r\nQ 46.828125 0.046875 45.09375 -0.46875 \r\nQ 43.359375 -0.984375 41.15625 -0.984375 \r\nQ 37.359375 -0.984375 35.078125 0.796875 \r\nQ 32.8125 2.59375 32.171875 6 \r\nL 31.890625 6 \r\nQ 28.71875 2.484375 25.078125 0.625 \r\nQ 21.4375 -1.21875 16.3125 -1.21875 \r\nQ 10.890625 -1.21875 7.390625 2.09375 \r\nQ 3.90625 5.421875 3.90625 10.796875 \r\nQ 3.90625 13.578125 4.6875 15.765625 \r\nQ 5.46875 17.96875 7.03125 19.734375 \r\nQ 8.25 21.1875 10.25 22.328125 \r\nQ 12.25 23.484375 14.015625 24.171875 \r\nQ 16.21875 25 22.921875 27.25 \r\nQ 29.640625 29.5 31.984375 30.765625 \r\nL 31.984375 35.59375 \r\nQ 31.984375 36.234375 31.71875 38.03125 \r\nQ 31.453125 39.84375 30.5625 41.453125 \r\nQ 29.59375 43.265625 27.8125 44.609375 \r\nQ 26.03125 45.953125 22.75 45.953125 \r\nQ 20.515625 45.953125 18.578125 45.1875 \r\nQ 16.65625 44.4375 15.875 43.609375 \r\nQ 15.875 42.625 16.328125 40.71875 \r\nQ 16.796875 38.8125 16.796875 37.203125 \r\nQ 16.796875 35.5 15.25 34.078125 \r\nQ 13.71875 32.671875 10.984375 32.671875 \r\nQ 8.546875 32.671875 7.390625 34.40625 \r\nQ 6.25 36.140625 6.25 38.28125 \r\nQ 6.25 40.53125 7.828125 42.578125 \r\nQ 9.421875 44.625 11.96875 46.234375 \r\nQ 14.15625 47.609375 17.28125 48.5625 \r\nQ 20.40625 49.515625 23.390625 49.515625 \r\nQ 27.484375 49.515625 30.53125 48.953125 \r\nQ 33.59375 48.390625 36.078125 46.53125 \r\nQ 38.578125 44.734375 39.859375 41.625 \r\nQ 41.15625 38.53125 41.15625 33.640625 \r\nQ 41.15625 26.65625 41.015625 21.265625 \r\nQ 40.875 15.875 40.875 9.46875 \r\nQ 40.875 7.5625 41.53125 6.4375 \r\nQ 42.1875 5.328125 43.5625 4.546875 \r\nQ 44.28125 4.109375 45.875 4.046875 \r\nQ 47.46875 4 49.125 4 \r\nz\r\nM 32.078125 26.65625 \r\nQ 27.9375 25.4375 24.8125 24.265625 \r\nQ 21.6875 23.09375 19 21.34375 \r\nQ 16.546875 19.671875 15.125 17.40625 \r\nQ 13.71875 15.140625 13.71875 12.015625 \r\nQ 13.71875 7.953125 15.84375 6.046875 \r\nQ 17.96875 4.15625 21.234375 4.15625 \r\nQ 24.703125 4.15625 27.34375 5.828125 \r\nQ 29.984375 7.515625 31.78125 9.8125 \r\nz\r\n\" id=\"Georgia-97\"/>\r\n       <path d=\"M 44.78125 4.984375 \r\nQ 46.734375 3.125 47.84375 0.78125 \r\nQ 48.96875 -1.5625 48.96875 -5.03125 \r\nQ 48.96875 -8.5 47.453125 -11.546875 \r\nQ 45.953125 -14.59375 42.875 -16.84375 \r\nQ 39.59375 -19.140625 35.046875 -20.40625 \r\nQ 30.515625 -21.6875 23.828125 -21.6875 \r\nQ 12.890625 -21.6875 7.46875 -18.484375 \r\nQ 2.046875 -15.28125 2.046875 -9.125 \r\nQ 2.046875 -4.15625 5.953125 -1.265625 \r\nQ 9.859375 1.609375 15.921875 1.859375 \r\nL 15.921875 2.546875 \r\nQ 14.453125 2.984375 12.890625 3.640625 \r\nQ 11.328125 4.296875 10.203125 5.171875 \r\nQ 8.9375 6.203125 8.15625 7.59375 \r\nQ 7.375 8.984375 7.375 11.03125 \r\nQ 7.375 13.625 9.203125 15.796875 \r\nQ 11.03125 17.96875 14.75 19.53125 \r\nL 14.75 20.265625 \r\nQ 10.0625 22.46875 7.46875 25.90625 \r\nQ 4.890625 29.34375 4.890625 33.890625 \r\nQ 4.890625 40.71875 9.984375 45.109375 \r\nQ 15.09375 49.515625 23.046875 49.515625 \r\nQ 25.25 49.515625 27.421875 49.078125 \r\nQ 29.59375 48.640625 31.84375 47.953125 \r\nL 48.640625 47.953125 \r\nL 48.640625 43.265625 \r\nL 37.3125 43.265625 \r\nL 37.3125 42.96875 \r\nQ 39.109375 40.875 39.984375 38.328125 \r\nQ 40.875 35.796875 40.875 33.34375 \r\nQ 40.875 27 35.71875 22.609375 \r\nQ 30.5625 18.21875 23.734375 18.21875 \r\nL 17.828125 18.21875 \r\nQ 16.703125 17.828125 15.484375 16.796875 \r\nQ 14.265625 15.765625 14.265625 14.015625 \r\nQ 14.265625 12.203125 15.28125 11.25 \r\nQ 16.3125 10.296875 17.78125 9.96875 \r\nQ 19.1875 9.578125 21.0625 9.46875 \r\nQ 22.953125 9.375 24.953125 9.328125 \r\nQ 27.09375 9.28125 30.828125 9.03125 \r\nQ 34.578125 8.796875 36.140625 8.734375 \r\nQ 38.375 8.640625 40.640625 7.65625 \r\nQ 42.921875 6.6875 44.78125 4.984375 \r\nz\r\nM 31.59375 33.546875 \r\nQ 31.59375 39.265625 29.265625 42.65625 \r\nQ 26.953125 46.046875 22.75 46.046875 \r\nQ 20.453125 46.046875 18.8125 45.09375 \r\nQ 17.1875 44.140625 16.15625 42.390625 \r\nQ 15.1875 40.765625 14.765625 38.5 \r\nQ 14.359375 36.234375 14.359375 33.84375 \r\nQ 14.359375 28.421875 16.71875 25 \r\nQ 19.09375 21.578125 22.859375 21.578125 \r\nQ 27.046875 21.578125 29.3125 24.96875 \r\nQ 31.59375 28.375 31.59375 33.546875 \r\nz\r\nM 40.96875 -6.84375 \r\nQ 40.96875 -4.109375 39.6875 -2.34375 \r\nQ 38.421875 -0.59375 35.84375 0.046875 \r\nQ 34.46875 0.25 30.21875 0.484375 \r\nQ 25.984375 0.734375 20.359375 0.734375 \r\nQ 15.09375 -0.296875 12.859375 -2.703125 \r\nQ 10.640625 -5.125 10.640625 -8.9375 \r\nQ 10.640625 -10.640625 11.375 -12.203125 \r\nQ 12.109375 -13.765625 13.921875 -15.09375 \r\nQ 15.625 -16.359375 18.5 -17.15625 \r\nQ 21.390625 -17.96875 25.53125 -17.96875 \r\nQ 32.71875 -17.96875 36.84375 -15.203125 \r\nQ 40.96875 -12.453125 40.96875 -6.84375 \r\nz\r\n\" id=\"Georgia-103\"/>\r\n       <path d=\"M 53.90625 32.28125 \r\nQ 56.9375 30.21875 58.9375 26.890625 \r\nQ 60.9375 23.578125 60.9375 18.84375 \r\nQ 60.9375 14.015625 58.828125 10.453125 \r\nQ 56.734375 6.890625 53.375 4.59375 \r\nQ 50.09375 2.34375 45.96875 1.171875 \r\nQ 41.84375 0 37.453125 0 \r\nL 4.640625 0 \r\nL 4.640625 3.46875 \r\nQ 5.8125 3.5625 8.046875 3.875 \r\nQ 10.296875 4.203125 11.28125 4.640625 \r\nQ 12.796875 5.328125 13.421875 6.46875 \r\nQ 14.0625 7.625 14.0625 9.421875 \r\nL 14.0625 59.234375 \r\nQ 14.0625 60.890625 13.5 62.15625 \r\nQ 12.9375 63.421875 11.28125 64.203125 \r\nQ 9.8125 64.9375 8 65.328125 \r\nQ 6.203125 65.71875 4.984375 65.828125 \r\nL 4.984375 69.28125 \r\nL 36.96875 69.28125 \r\nQ 40.671875 69.28125 44.0625 68.546875 \r\nQ 47.46875 67.828125 50.53125 65.96875 \r\nQ 53.421875 64.265625 55.265625 61.328125 \r\nQ 57.125 58.40625 57.125 54.203125 \r\nQ 57.125 50.53125 55.8125 47.671875 \r\nQ 54.5 44.828125 52.09375 42.78125 \r\nQ 49.859375 40.828125 46.953125 39.484375 \r\nQ 44.046875 38.140625 40.671875 37.40625 \r\nL 40.671875 36.96875 \r\nQ 43.65625 36.625 47.34375 35.46875 \r\nQ 51.03125 34.328125 53.90625 32.28125 \r\nz\r\nM 42.140625 42.71875 \r\nQ 43.953125 44.828125 44.65625 47.3125 \r\nQ 45.359375 49.8125 45.359375 53.21875 \r\nQ 45.359375 58.9375 42.234375 62.1875 \r\nQ 39.109375 65.4375 32.375 65.4375 \r\nQ 30.8125 65.4375 28.4375 65.359375 \r\nQ 26.078125 65.28125 24.46875 65.234375 \r\nL 24.46875 38.625 \r\nL 30.671875 38.625 \r\nQ 34.671875 38.625 37.515625 39.640625 \r\nQ 40.375 40.671875 42.140625 42.71875 \r\nz\r\nM 48.875 20.609375 \r\nQ 48.875 26.765625 44.75 30.71875 \r\nQ 40.625 34.671875 32.953125 34.671875 \r\nQ 29.828125 34.671875 27.671875 34.59375 \r\nQ 25.53125 34.515625 24.46875 34.46875 \r\nL 24.46875 10.0625 \r\nQ 24.46875 6.984375 26.953125 5.421875 \r\nQ 29.4375 3.859375 33.890625 3.859375 \r\nQ 41.15625 3.859375 45.015625 8.109375 \r\nQ 48.875 12.359375 48.875 20.609375 \r\nz\r\n\" id=\"Georgia-66\"/>\r\n      </defs>\r\n      <use xlink:href=\"#Georgia-77\"/>\r\n      <use x=\"92.724609\" xlink:href=\"#Georgia-101\"/>\r\n      <use x=\"141.064453\" xlink:href=\"#Georgia-109\"/>\r\n      <use x=\"229.150391\" xlink:href=\"#Georgia-111\"/>\r\n      <use x=\"283.056641\" xlink:href=\"#Georgia-114\"/>\r\n      <use x=\"324.023438\" xlink:href=\"#Georgia-121\"/>\r\n      <use x=\"373.242188\" xlink:href=\"#Georgia-32\"/>\r\n      <use x=\"397.363281\" xlink:href=\"#Georgia-67\"/>\r\n      <use x=\"461.572266\" xlink:href=\"#Georgia-104\"/>\r\n      <use x=\"519.775391\" xlink:href=\"#Georgia-97\"/>\r\n      <use x=\"570.166016\" xlink:href=\"#Georgia-110\"/>\r\n      <use x=\"629.248047\" xlink:href=\"#Georgia-103\"/>\r\n      <use x=\"680.175781\" xlink:href=\"#Georgia-101\"/>\r\n      <use x=\"728.515625\" xlink:href=\"#Georgia-32\"/>\r\n      <use x=\"752.636719\" xlink:href=\"#Georgia-40\"/>\r\n      <use x=\"790.136719\" xlink:href=\"#Georgia-77\"/>\r\n      <use x=\"882.861328\" xlink:href=\"#Georgia-105\"/>\r\n      <use x=\"912.158203\" xlink:href=\"#Georgia-66\"/>\r\n      <use x=\"977.539062\" xlink:href=\"#Georgia-41\"/>\r\n     </g>\r\n    </g>\r\n   </g>\r\n   <g id=\"line2d_66\">\r\n    <path clip-path=\"url(#p41bf1ea8bc)\" d=\"M 99.156734 333.36 \r\nL 99.156734 22.731429 \r\n\" style=\"fill:none;stroke:#000000;stroke-dasharray:5.55,2.4;stroke-dashoffset:0;stroke-width:1.5;\"/>\r\n   </g>\r\n   <g id=\"line2d_67\">\r\n    <path clip-path=\"url(#p41bf1ea8bc)\" d=\"M 282.508322 333.36 \r\nL 282.508322 22.731429 \r\n\" style=\"fill:none;stroke:#000000;stroke-dasharray:5.55,2.4;stroke-dashoffset:0;stroke-width:1.5;\"/>\r\n   </g>\r\n   <g id=\"line2d_68\">\r\n    <path clip-path=\"url(#p41bf1ea8bc)\" d=\"M 887.568563 333.36 \r\nL 887.568563 22.731429 \r\n\" style=\"fill:none;stroke:#000000;stroke-dasharray:5.55,2.4;stroke-dashoffset:0;stroke-width:1.5;\"/>\r\n   </g>\r\n   <g id=\"patch_99\">\r\n    <path d=\"M 46.168125 333.36 \r\nL 46.168125 7.2 \r\n\" style=\"fill:none;stroke:#000000;stroke-linecap:square;stroke-linejoin:miter;stroke-width:0.8;\"/>\r\n   </g>\r\n   <g id=\"patch_100\">\r\n    <path d=\"M 1050.568125 333.36 \r\nL 1050.568125 7.2 \r\n\" style=\"fill:none;stroke:#000000;stroke-linecap:square;stroke-linejoin:miter;stroke-width:0.8;\"/>\r\n   </g>\r\n   <g id=\"patch_101\">\r\n    <path d=\"M 46.168125 333.36 \r\nL 1050.568125 333.36 \r\n\" style=\"fill:none;stroke:#000000;stroke-linecap:square;stroke-linejoin:miter;stroke-width:0.8;\"/>\r\n   </g>\r\n   <g id=\"patch_102\">\r\n    <path d=\"M 46.168125 7.2 \r\nL 1050.568125 7.2 \r\n\" style=\"fill:none;stroke:#000000;stroke-linecap:square;stroke-linejoin:miter;stroke-width:0.8;\"/>\r\n   </g>\r\n   <g id=\"text_26\">\r\n    <g id=\"patch_103\">\r\n     <path d=\"M 110.026421 255.477746 \r\nL 110.026421 100.613683 \r\nL 88.287046 100.613683 \r\nL 88.287046 255.477746 \r\nz\r\n\" style=\"fill:#ffffff;stroke:#000000;stroke-linejoin:miter;\"/>\r\n    </g>\r\n    <!-- make_multiple_Lorenz -->\r\n    <g transform=\"translate(102.930171 251.417746)rotate(-90)scale(0.14 -0.14)\">\r\n     <defs>\r\n      <path d=\"M 54.546875 0 \r\nL 39.984375 0 \r\nQ 36.1875 5.515625 31.828125 11.8125 \r\nQ 27.484375 18.109375 22.796875 24.078125 \r\nL 18.796875 20.3125 \r\nL 18.796875 8.890625 \r\nQ 18.796875 7.125 19.421875 5.96875 \r\nQ 20.0625 4.828125 21.484375 4.296875 \r\nQ 22.65625 3.8125 23.734375 3.5625 \r\nQ 24.8125 3.328125 26.21875 3.21875 \r\nL 26.21875 0 \r\nL 2.59375 0 \r\nL 2.59375 3.21875 \r\nQ 3.71875 3.328125 4.9375 3.4375 \r\nQ 6.15625 3.5625 6.984375 3.8125 \r\nQ 8.34375 4.25 9.03125 5.34375 \r\nQ 9.71875 6.453125 9.71875 8.203125 \r\nL 9.71875 64.15625 \r\nQ 9.71875 65.96875 8.953125 67.546875 \r\nQ 8.203125 69.140625 6.984375 69.96875 \r\nQ 5.953125 70.75 3.78125 70.984375 \r\nQ 1.609375 71.234375 0.296875 71.34375 \r\nL 0.296875 74.46875 \r\nL 18.109375 75.59375 \r\nL 18.796875 74.859375 \r\nL 18.796875 23.921875 \r\nQ 22.609375 27.734375 27.03125 32.09375 \r\nQ 31.453125 36.46875 34.46875 39.890625 \r\nQ 34.859375 40.328125 35.328125 41.03125 \r\nQ 35.796875 41.75 35.796875 42.1875 \r\nQ 35.796875 43.5 33.671875 44.140625 \r\nQ 31.546875 44.78125 29.59375 45.015625 \r\nL 29.59375 48.140625 \r\nL 50.78125 48.140625 \r\nL 50.78125 45.125 \r\nQ 46.6875 43.890625 43.53125 42.0625 \r\nQ 40.375 40.234375 38.71875 38.765625 \r\nQ 37.546875 37.796875 35.390625 35.59375 \r\nQ 33.25 33.40625 29.390625 29.828125 \r\nQ 33.40625 24.90625 38.40625 18.015625 \r\nQ 43.40625 11.140625 45.703125 8.0625 \r\nQ 47.859375 5.171875 49.5625 4.296875 \r\nQ 51.265625 3.421875 54.546875 3.21875 \r\nz\r\n\" id=\"Georgia-107\"/>\r\n      <path d=\"M 64.546875 -13.765625 \r\nL -0.25 -13.765625 \r\nL -0.25 -8.84375 \r\nL 64.546875 -8.84375 \r\nz\r\n\" id=\"Georgia-95\"/>\r\n      <path d=\"M 55.125 0.875 \r\nL 39.453125 -0.203125 \r\nL 38.71875 0.484375 \r\nL 38.71875 6.59375 \r\nL 38.421875 6.59375 \r\nQ 37.25 5.375 35.78125 3.984375 \r\nQ 34.328125 2.59375 32.421875 1.46875 \r\nQ 30.21875 0.140625 28.171875 -0.53125 \r\nQ 26.125 -1.21875 22.359375 -1.21875 \r\nQ 15.96875 -1.21875 12.625 2.953125 \r\nQ 9.28125 7.125 9.28125 15.09375 \r\nL 9.28125 38.140625 \r\nQ 9.28125 39.890625 8.609375 41.078125 \r\nQ 7.953125 42.28125 6.6875 43.171875 \r\nQ 5.8125 43.75 4.484375 44.015625 \r\nQ 3.171875 44.28125 1.703125 44.390625 \r\nL 1.703125 47.5625 \r\nL 17.78125 48.734375 \r\nL 18.5 48.046875 \r\nL 18.5 14.59375 \r\nQ 18.5 9.375 20.84375 6.734375 \r\nQ 23.1875 4.109375 26.46875 4.109375 \r\nQ 29.15625 4.109375 31.25 4.9375 \r\nQ 33.34375 5.765625 34.765625 6.890625 \r\nQ 36.078125 7.90625 37.078125 9.046875 \r\nQ 38.09375 10.203125 38.625 11.1875 \r\nL 38.625 38.484375 \r\nQ 38.625 40.09375 37.9375 41.328125 \r\nQ 37.25 42.578125 36.03125 43.453125 \r\nQ 35.15625 44.046875 33.421875 44.15625 \r\nQ 31.6875 44.28125 29.546875 44.390625 \r\nL 29.546875 47.5625 \r\nL 47.015625 48.734375 \r\nL 47.75 48.046875 \r\nL 47.75 9.8125 \r\nQ 47.75 8.15625 48.4375 6.984375 \r\nQ 49.125 5.8125 50.34375 4.984375 \r\nQ 51.21875 4.4375 52.4375 4.265625 \r\nQ 53.65625 4.109375 55.125 4.046875 \r\nz\r\n\" id=\"Georgia-117\"/>\r\n      <path d=\"M 26.078125 0 \r\nL 2.59375 0 \r\nL 2.59375 3.21875 \r\nQ 3.71875 3.328125 4.984375 3.4375 \r\nQ 6.25 3.5625 7.078125 3.8125 \r\nQ 8.453125 4.25 9.125 5.34375 \r\nQ 9.8125 6.453125 9.8125 8.203125 \r\nL 9.8125 63.96875 \r\nQ 9.8125 65.71875 9.046875 67.25 \r\nQ 8.296875 68.796875 7.078125 69.671875 \r\nQ 6.203125 70.265625 3.859375 70.75 \r\nQ 1.515625 71.234375 0.09375 71.34375 \r\nL 0.09375 74.46875 \r\nL 18.21875 75.59375 \r\nL 18.890625 74.859375 \r\nL 18.890625 8.796875 \r\nQ 18.890625 7.078125 19.53125 5.984375 \r\nQ 20.171875 4.890625 21.578125 4.296875 \r\nQ 22.65625 3.8125 23.703125 3.5625 \r\nQ 24.75 3.328125 26.078125 3.21875 \r\nz\r\n\" id=\"Georgia-108\"/>\r\n      <path d=\"M 33.25 2.09375 \r\nQ 30.078125 0.78125 27.25 -0.125 \r\nQ 24.421875 -1.03125 20.3125 -1.03125 \r\nQ 14.265625 -1.03125 11.796875 2.015625 \r\nQ 9.328125 5.078125 9.328125 10.640625 \r\nL 9.328125 43.265625 \r\nL 0.640625 43.265625 \r\nL 0.640625 47.953125 \r\nL 9.515625 47.953125 \r\nL 9.515625 62.9375 \r\nL 18.40625 62.9375 \r\nL 18.40625 47.953125 \r\nL 32.234375 47.953125 \r\nL 32.234375 43.265625 \r\nL 18.5 43.265625 \r\nL 18.5 16.359375 \r\nQ 18.5 13.328125 18.71875 11.296875 \r\nQ 18.953125 9.28125 19.78125 7.765625 \r\nQ 20.5625 6.34375 22.125 5.609375 \r\nQ 23.6875 4.890625 26.3125 4.890625 \r\nQ 27.546875 4.890625 29.90625 5.109375 \r\nQ 32.28125 5.328125 33.25 5.671875 \r\nz\r\n\" id=\"Georgia-116\"/>\r\n      <path d=\"M 47.515625 42.4375 \r\nQ 50.390625 39.015625 51.96875 34.5 \r\nQ 53.5625 29.984375 53.5625 24.171875 \r\nQ 53.5625 18.453125 51.65625 13.734375 \r\nQ 49.75 9.03125 46.625 5.71875 \r\nQ 43.359375 2.34375 39.359375 0.53125 \r\nQ 35.359375 -1.265625 30.859375 -1.265625 \r\nQ 26.515625 -1.265625 23.734375 -0.28125 \r\nQ 20.953125 0.6875 19.1875 2 \r\nL 18.796875 2 \r\nL 18.796875 -12.453125 \r\nQ 18.796875 -14.203125 19.484375 -15.375 \r\nQ 20.171875 -16.546875 21.578125 -17.09375 \r\nQ 22.75 -17.53125 24.921875 -17.9375 \r\nQ 27.09375 -18.359375 28.515625 -18.40625 \r\nL 28.515625 -21.6875 \r\nL 1.609375 -21.6875 \r\nL 1.609375 -18.40625 \r\nQ 3.125 -18.3125 4.53125 -18.15625 \r\nQ 5.953125 -18.015625 7.078125 -17.671875 \r\nQ 8.546875 -17.1875 9.125 -15.96875 \r\nQ 9.71875 -14.75 9.71875 -13.09375 \r\nL 9.71875 38.140625 \r\nQ 9.71875 39.59375 8.984375 40.953125 \r\nQ 8.25 42.328125 7.078125 43.171875 \r\nQ 6.203125 43.75 4.640625 44.0625 \r\nQ 3.078125 44.390625 1.609375 44.484375 \r\nL 1.609375 47.65625 \r\nL 18.015625 48.734375 \r\nL 18.703125 48.140625 \r\nL 18.703125 42.71875 \r\nL 19.09375 42.625 \r\nQ 21.625 45.5625 25.390625 47.515625 \r\nQ 29.15625 49.46875 32.859375 49.46875 \r\nQ 37.359375 49.46875 41.09375 47.5625 \r\nQ 44.828125 45.65625 47.515625 42.4375 \r\nz\r\nM 39.546875 7.8125 \r\nQ 41.5 10.84375 42.421875 14.84375 \r\nQ 43.359375 18.84375 43.359375 23.78125 \r\nQ 43.359375 27.390625 42.578125 31.140625 \r\nQ 41.796875 34.90625 40.140625 37.703125 \r\nQ 38.484375 40.53125 35.796875 42.28125 \r\nQ 33.109375 44.046875 29.34375 44.046875 \r\nQ 25.734375 44.046875 23.1875 42.453125 \r\nQ 20.65625 40.875 18.796875 38.671875 \r\nL 18.796875 10.203125 \r\nQ 19.234375 8.890625 20.234375 7.46875 \r\nQ 21.234375 6.0625 22.46875 5.03125 \r\nQ 23.96875 3.8125 25.71875 3.046875 \r\nQ 27.484375 2.296875 30.03125 2.296875 \r\nQ 32.765625 2.296875 35.296875 3.734375 \r\nQ 37.84375 5.171875 39.546875 7.8125 \r\nz\r\n\" id=\"Georgia-112\"/>\r\n      <path d=\"M 41.65625 0 \r\nL 2.6875 0 \r\nL 2.6875 2.59375 \r\nL 29.9375 44.1875 \r\nL 23.1875 44.1875 \r\nQ 18.953125 44.1875 16.546875 44.03125 \r\nQ 14.15625 43.890625 12.15625 43.0625 \r\nQ 10.796875 42.53125 9.59375 39.984375 \r\nQ 8.40625 37.453125 7.515625 33.34375 \r\nL 4.546875 33.34375 \r\nL 4.546875 48.140625 \r\nL 41.359375 48.140625 \r\nL 41.359375 46.140625 \r\nL 13.671875 3.953125 \r\nQ 15.4375 3.90625 17.53125 3.875 \r\nQ 19.625 3.859375 22.078125 3.859375 \r\nQ 24.03125 3.859375 26.140625 3.90625 \r\nQ 28.265625 3.953125 31.59375 4.15625 \r\nQ 33.546875 4.25 34.546875 5.46875 \r\nQ 35.546875 6.6875 36.078125 8.25 \r\nQ 36.625 9.671875 37.375 12.15625 \r\nQ 38.140625 14.65625 38.71875 17 \r\nL 41.65625 17 \r\nz\r\n\" id=\"Georgia-122\"/>\r\n     </defs>\r\n     <use xlink:href=\"#Georgia-109\"/>\r\n     <use x=\"88.085938\" xlink:href=\"#Georgia-97\"/>\r\n     <use x=\"138.476562\" xlink:href=\"#Georgia-107\"/>\r\n     <use x=\"192.041016\" xlink:href=\"#Georgia-101\"/>\r\n     <use x=\"240.380859\" xlink:href=\"#Georgia-95\"/>\r\n     <use x=\"304.6875\" xlink:href=\"#Georgia-109\"/>\r\n     <use x=\"392.773438\" xlink:href=\"#Georgia-117\"/>\r\n     <use x=\"450.292969\" xlink:href=\"#Georgia-108\"/>\r\n     <use x=\"478.90625\" xlink:href=\"#Georgia-116\"/>\r\n     <use x=\"513.427734\" xlink:href=\"#Georgia-105\"/>\r\n     <use x=\"542.724609\" xlink:href=\"#Georgia-112\"/>\r\n     <use x=\"599.853516\" xlink:href=\"#Georgia-108\"/>\r\n     <use x=\"628.466797\" xlink:href=\"#Georgia-101\"/>\r\n     <use x=\"676.806641\" xlink:href=\"#Georgia-95\"/>\r\n     <use x=\"741.113281\" xlink:href=\"#Georgia-76\"/>\r\n     <use x=\"801.464844\" xlink:href=\"#Georgia-111\"/>\r\n     <use x=\"855.371094\" xlink:href=\"#Georgia-114\"/>\r\n     <use x=\"896.337891\" xlink:href=\"#Georgia-101\"/>\r\n     <use x=\"944.677734\" xlink:href=\"#Georgia-110\"/>\r\n     <use x=\"1003.759766\" xlink:href=\"#Georgia-122\"/>\r\n    </g>\r\n   </g>\r\n   <g id=\"text_27\">\r\n    <g id=\"patch_104\">\r\n     <path d=\"M 293.37801 226.088683 \r\nL 293.37801 130.002746 \r\nL 271.638635 130.002746 \r\nL 271.638635 226.088683 \r\nz\r\n\" style=\"fill:#ffffff;stroke:#000000;stroke-linejoin:miter;\"/>\r\n    </g>\r\n    <!-- make_plotlies -->\r\n    <g transform=\"translate(286.28176 222.028683)rotate(-90)scale(0.14 -0.14)\">\r\n     <use xlink:href=\"#Georgia-109\"/>\r\n     <use x=\"88.085938\" xlink:href=\"#Georgia-97\"/>\r\n     <use x=\"138.476562\" xlink:href=\"#Georgia-107\"/>\r\n     <use x=\"192.041016\" xlink:href=\"#Georgia-101\"/>\r\n     <use x=\"240.380859\" xlink:href=\"#Georgia-95\"/>\r\n     <use x=\"304.6875\" xlink:href=\"#Georgia-112\"/>\r\n     <use x=\"361.816406\" xlink:href=\"#Georgia-108\"/>\r\n     <use x=\"390.429688\" xlink:href=\"#Georgia-111\"/>\r\n     <use x=\"444.335938\" xlink:href=\"#Georgia-116\"/>\r\n     <use x=\"478.857422\" xlink:href=\"#Georgia-108\"/>\r\n     <use x=\"507.470703\" xlink:href=\"#Georgia-105\"/>\r\n     <use x=\"536.767578\" xlink:href=\"#Georgia-101\"/>\r\n     <use x=\"585.107422\" xlink:href=\"#Georgia-115\"/>\r\n    </g>\r\n   </g>\r\n   <g id=\"text_28\">\r\n    <g id=\"patch_105\">\r\n     <path d=\"M 898.438251 218.546183 \r\nL 898.438251 137.545246 \r\nL 876.698876 137.545246 \r\nL 876.698876 218.546183 \r\nz\r\n\" style=\"fill:#ffffff;stroke:#000000;stroke-linejoin:miter;\"/>\r\n    </g>\r\n    <!-- set_params -->\r\n    <g transform=\"translate(891.342001 214.486183)rotate(-90)scale(0.14 -0.14)\">\r\n     <use xlink:href=\"#Georgia-115\"/>\r\n     <use x=\"43.212891\" xlink:href=\"#Georgia-101\"/>\r\n     <use x=\"91.552734\" xlink:href=\"#Georgia-116\"/>\r\n     <use x=\"126.074219\" xlink:href=\"#Georgia-95\"/>\r\n     <use x=\"190.380859\" xlink:href=\"#Georgia-112\"/>\r\n     <use x=\"247.509766\" xlink:href=\"#Georgia-97\"/>\r\n     <use x=\"297.900391\" xlink:href=\"#Georgia-114\"/>\r\n     <use x=\"338.867188\" xlink:href=\"#Georgia-97\"/>\r\n     <use x=\"389.257812\" xlink:href=\"#Georgia-109\"/>\r\n     <use x=\"477.34375\" xlink:href=\"#Georgia-115\"/>\r\n    </g>\r\n   </g>\r\n  </g>\r\n </g>\r\n <defs>\r\n  <clipPath id=\"p41bf1ea8bc\">\r\n   <rect height=\"326.16\" width=\"1004.4\" x=\"46.168125\" y=\"7.2\"/>\r\n  </clipPath>\r\n </defs>\r\n</svg>\r\n",
      "image/png": "[encoded data removed]"
     },
     "metadata": {
      "needs_background": "light"
     }
    }
   ],
   "source": [
    "# Line plot\n",
    "pp.plot_byline(xtick_style='dense')"
   ]
  },
  {
   "cell_type": "code",
   "execution_count": 8,
   "metadata": {},
   "outputs": [
    {
     "output_type": "display_data",
     "data": {
      "application/vnd.plotly.v1+json": {
       "config": {
        "plotlyServerURL": "https://plot.ly"
       },
       "data": [
        {
         "alignmentgroup": "True",
         "customdata": [
          [
           20,
           "@profile"
          ],
          [
           21,
           "def make_multiple_Lorenz(N_trials):"
          ],
          [
           22,
           "sols = []"
          ],
          [
           23,
           "for n in range(N_trials):"
          ],
          [
           24,
           "y0_ = [y_ + np.random.randn() for y_ in y0]"
          ],
          [
           25,
           "sol = odeint(mLorenz, y0_, t, args=beta)"
          ],
          [
           26,
           "sols.append(sol)"
          ],
          [
           27,
           "return sols"
          ]
         ],
         "hovertemplate": "Branch-Function=make_multiple_Lorenz<br>Function=%{x}<br>Time (s)=%{y}<br>Line=%{customdata[0]}<br>Text=%{customdata[1]}<extra></extra>",
         "legendgroup": "make_multiple_Lorenz",
         "marker": {
          "color": "#636efa"
         },
         "name": "make_multiple_Lorenz",
         "offsetgroup": "make_multiple_Lorenz",
         "orientation": "v",
         "showlegend": true,
         "textposition": "auto",
         "type": "bar",
         "x": [
          "make_multiple_Lorenz",
          "make_multiple_Lorenz",
          "make_multiple_Lorenz",
          "make_multiple_Lorenz",
          "make_multiple_Lorenz",
          "make_multiple_Lorenz",
          "make_multiple_Lorenz",
          "make_multiple_Lorenz"
         ],
         "xaxis": "x",
         "y": [
          0,
          0,
          4e-7,
          0.0000028999999999999998,
          0.000038299999999999996,
          0.43486749999999996,
          0.0000057999999999999995,
          2e-7
         ],
         "yaxis": "y"
        },
        {
         "alignmentgroup": "True",
         "customdata": [
          [
           30,
           "@profile"
          ],
          [
           31,
           "def make_plotlies():"
          ],
          [
           32,
           "fig = go.Figure(["
          ],
          [
           33,
           "go.Scatter3d(name=str(n),"
          ],
          [
           34,
           "x=sols[n][:, 0], y=sols[n][:, 1], z=sols[n][:, 2],"
          ],
          [
           35,
           "line={'width': 2},"
          ],
          [
           36,
           "marker={'size': 1e-5})"
          ],
          [
           37,
           "for n in range(len(sols))]"
          ],
          [
           38,
           ")"
          ],
          [
           39,
           "fig.update_layout("
          ],
          [
           40,
           "width=800,"
          ],
          [
           41,
           "height=700,"
          ],
          [
           42,
           "autosize=False,"
          ],
          [
           43,
           "scene=dict("
          ],
          [
           44,
           "camera=dict("
          ],
          [
           45,
           "up=dict("
          ],
          [
           46,
           "x=0,"
          ],
          [
           47,
           "y=0,"
          ],
          [
           48,
           "z=1"
          ],
          [
           49,
           "),"
          ],
          [
           50,
           "eye=dict("
          ],
          [
           51,
           "x=0,"
          ],
          [
           52,
           "y=1.0707,"
          ],
          [
           53,
           "z=1,"
          ],
          [
           54,
           ")"
          ],
          [
           55,
           "),"
          ],
          [
           56,
           "aspectratio=dict(x=1, y=1, z=0.7),"
          ],
          [
           57,
           "aspectmode='manual'"
          ],
          [
           58,
           "),"
          ],
          [
           59,
           ")"
          ],
          [
           60,
           "return fig"
          ]
         ],
         "hovertemplate": "Branch-Function=make_plotlies<br>Function=%{x}<br>Time (s)=%{y}<br>Line=%{customdata[0]}<br>Text=%{customdata[1]}<extra></extra>",
         "legendgroup": "make_plotlies",
         "marker": {
          "color": "#EF553B"
         },
         "name": "make_plotlies",
         "offsetgroup": "make_plotlies",
         "orientation": "v",
         "showlegend": true,
         "textposition": "auto",
         "type": "bar",
         "x": [
          "make_plotlies",
          "make_plotlies",
          "make_plotlies",
          "make_plotlies",
          "make_plotlies",
          "make_plotlies",
          "make_plotlies",
          "make_plotlies",
          "make_plotlies",
          "make_plotlies",
          "make_plotlies",
          "make_plotlies",
          "make_plotlies",
          "make_plotlies",
          "make_plotlies",
          "make_plotlies",
          "make_plotlies",
          "make_plotlies",
          "make_plotlies",
          "make_plotlies",
          "make_plotlies",
          "make_plotlies",
          "make_plotlies",
          "make_plotlies",
          "make_plotlies",
          "make_plotlies",
          "make_plotlies",
          "make_plotlies",
          "make_plotlies",
          "make_plotlies",
          "make_plotlies"
         ],
         "xaxis": "x",
         "y": [
          0,
          0,
          0.052205299999999996,
          0,
          0,
          0,
          0,
          0.0000016999999999999998,
          0,
          0.030523099999999997,
          6e-7,
          5e-7,
          5e-7,
          0.0000012999999999999998,
          0.0000012999999999999998,
          0.0000016,
          5e-7,
          5e-7,
          5e-7,
          0,
          0.0000012999999999999998,
          5e-7,
          5e-7,
          5e-7,
          0,
          0,
          0.000001,
          5e-7,
          0,
          0,
          0.0000012999999999999998
         ],
         "yaxis": "y"
        },
        {
         "alignmentgroup": "True",
         "customdata": [
          [
           63,
           "@profile"
          ],
          [
           64,
           "def set_params():"
          ],
          [
           65,
           "beta = (10, 8/3, 137/5)"
          ],
          [
           66,
           "y0 = [-8, 4, 10]"
          ],
          [
           67,
           "T = 50"
          ],
          [
           68,
           "t = np.linspace(0, T, int(T * 200))"
          ],
          [
           69,
           "return beta, y0, T, t"
          ]
         ],
         "hovertemplate": "Branch-Function=set_params<br>Function=%{x}<br>Time (s)=%{y}<br>Line=%{customdata[0]}<br>Text=%{customdata[1]}<extra></extra>",
         "legendgroup": "set_params",
         "marker": {
          "color": "#00cc96"
         },
         "name": "set_params",
         "offsetgroup": "set_params",
         "orientation": "v",
         "showlegend": true,
         "textposition": "auto",
         "type": "bar",
         "x": [
          "set_params",
          "set_params",
          "set_params",
          "set_params",
          "set_params",
          "set_params",
          "set_params"
         ],
         "xaxis": "x",
         "y": [
          0,
          0,
          0.0000028999999999999998,
          7e-7,
          3e-7,
          0.0001247,
          7e-7
         ],
         "yaxis": "y"
        }
       ],
       "layout": {
        "barmode": "relative",
        "height": 500,
        "legend": {
         "title": {
          "text": "Branch-Function"
         },
         "tracegroupgap": 0
        },
        "margin": {
         "t": 60
        },
        "template": {
         "data": {
          "bar": [
           {
            "error_x": {
             "color": "#2a3f5f"
            },
            "error_y": {
             "color": "#2a3f5f"
            },
            "marker": {
             "line": {
              "color": "#E5ECF6",
              "width": 0.5
             }
            },
            "type": "bar"
           }
          ],
          "barpolar": [
           {
            "marker": {
             "line": {
              "color": "#E5ECF6",
              "width": 0.5
             }
            },
            "type": "barpolar"
           }
          ],
          "carpet": [
           {
            "aaxis": {
             "endlinecolor": "#2a3f5f",
             "gridcolor": "white",
             "linecolor": "white",
             "minorgridcolor": "white",
             "startlinecolor": "#2a3f5f"
            },
            "baxis": {
             "endlinecolor": "#2a3f5f",
             "gridcolor": "white",
             "linecolor": "white",
             "minorgridcolor": "white",
             "startlinecolor": "#2a3f5f"
            },
            "type": "carpet"
           }
          ],
          "choropleth": [
           {
            "colorbar": {
             "outlinewidth": 0,
             "ticks": ""
            },
            "type": "choropleth"
           }
          ],
          "contour": [
           {
            "colorbar": {
             "outlinewidth": 0,
             "ticks": ""
            },
            "colorscale": [
             [
              0,
              "#0d0887"
             ],
             [
              0.1111111111111111,
              "#46039f"
             ],
             [
              0.2222222222222222,
              "#7201a8"
             ],
             [
              0.3333333333333333,
              "#9c179e"
             ],
             [
              0.4444444444444444,
              "#bd3786"
             ],
             [
              0.5555555555555556,
              "#d8576b"
             ],
             [
              0.6666666666666666,
              "#ed7953"
             ],
             [
              0.7777777777777778,
              "#fb9f3a"
             ],
             [
              0.8888888888888888,
              "#fdca26"
             ],
             [
              1,
              "#f0f921"
             ]
            ],
            "type": "contour"
           }
          ],
          "contourcarpet": [
           {
            "colorbar": {
             "outlinewidth": 0,
             "ticks": ""
            },
            "type": "contourcarpet"
           }
          ],
          "heatmap": [
           {
            "colorbar": {
             "outlinewidth": 0,
             "ticks": ""
            },
            "colorscale": [
             [
              0,
              "#0d0887"
             ],
             [
              0.1111111111111111,
              "#46039f"
             ],
             [
              0.2222222222222222,
              "#7201a8"
             ],
             [
              0.3333333333333333,
              "#9c179e"
             ],
             [
              0.4444444444444444,
              "#bd3786"
             ],
             [
              0.5555555555555556,
              "#d8576b"
             ],
             [
              0.6666666666666666,
              "#ed7953"
             ],
             [
              0.7777777777777778,
              "#fb9f3a"
             ],
             [
              0.8888888888888888,
              "#fdca26"
             ],
             [
              1,
              "#f0f921"
             ]
            ],
            "type": "heatmap"
           }
          ],
          "heatmapgl": [
           {
            "colorbar": {
             "outlinewidth": 0,
             "ticks": ""
            },
            "colorscale": [
             [
              0,
              "#0d0887"
             ],
             [
              0.1111111111111111,
              "#46039f"
             ],
             [
              0.2222222222222222,
              "#7201a8"
             ],
             [
              0.3333333333333333,
              "#9c179e"
             ],
             [
              0.4444444444444444,
              "#bd3786"
             ],
             [
              0.5555555555555556,
              "#d8576b"
             ],
             [
              0.6666666666666666,
              "#ed7953"
             ],
             [
              0.7777777777777778,
              "#fb9f3a"
             ],
             [
              0.8888888888888888,
              "#fdca26"
             ],
             [
              1,
              "#f0f921"
             ]
            ],
            "type": "heatmapgl"
           }
          ],
          "histogram": [
           {
            "marker": {
             "colorbar": {
              "outlinewidth": 0,
              "ticks": ""
             }
            },
            "type": "histogram"
           }
          ],
          "histogram2d": [
           {
            "colorbar": {
             "outlinewidth": 0,
             "ticks": ""
            },
            "colorscale": [
             [
              0,
              "#0d0887"
             ],
             [
              0.1111111111111111,
              "#46039f"
             ],
             [
              0.2222222222222222,
              "#7201a8"
             ],
             [
              0.3333333333333333,
              "#9c179e"
             ],
             [
              0.4444444444444444,
              "#bd3786"
             ],
             [
              0.5555555555555556,
              "#d8576b"
             ],
             [
              0.6666666666666666,
              "#ed7953"
             ],
             [
              0.7777777777777778,
              "#fb9f3a"
             ],
             [
              0.8888888888888888,
              "#fdca26"
             ],
             [
              1,
              "#f0f921"
             ]
            ],
            "type": "histogram2d"
           }
          ],
          "histogram2dcontour": [
           {
            "colorbar": {
             "outlinewidth": 0,
             "ticks": ""
            },
            "colorscale": [
             [
              0,
              "#0d0887"
             ],
             [
              0.1111111111111111,
              "#46039f"
             ],
             [
              0.2222222222222222,
              "#7201a8"
             ],
             [
              0.3333333333333333,
              "#9c179e"
             ],
             [
              0.4444444444444444,
              "#bd3786"
             ],
             [
              0.5555555555555556,
              "#d8576b"
             ],
             [
              0.6666666666666666,
              "#ed7953"
             ],
             [
              0.7777777777777778,
              "#fb9f3a"
             ],
             [
              0.8888888888888888,
              "#fdca26"
             ],
             [
              1,
              "#f0f921"
             ]
            ],
            "type": "histogram2dcontour"
           }
          ],
          "mesh3d": [
           {
            "colorbar": {
             "outlinewidth": 0,
             "ticks": ""
            },
            "type": "mesh3d"
           }
          ],
          "parcoords": [
           {
            "line": {
             "colorbar": {
              "outlinewidth": 0,
              "ticks": ""
             }
            },
            "type": "parcoords"
           }
          ],
          "pie": [
           {
            "automargin": true,
            "type": "pie"
           }
          ],
          "scatter": [
           {
            "marker": {
             "colorbar": {
              "outlinewidth": 0,
              "ticks": ""
             }
            },
            "type": "scatter"
           }
          ],
          "scatter3d": [
           {
            "line": {
             "colorbar": {
              "outlinewidth": 0,
              "ticks": ""
             }
            },
            "marker": {
             "colorbar": {
              "outlinewidth": 0,
              "ticks": ""
             }
            },
            "type": "scatter3d"
           }
          ],
          "scattercarpet": [
           {
            "marker": {
             "colorbar": {
              "outlinewidth": 0,
              "ticks": ""
             }
            },
            "type": "scattercarpet"
           }
          ],
          "scattergeo": [
           {
            "marker": {
             "colorbar": {
              "outlinewidth": 0,
              "ticks": ""
             }
            },
            "type": "scattergeo"
           }
          ],
          "scattergl": [
           {
            "marker": {
             "colorbar": {
              "outlinewidth": 0,
              "ticks": ""
             }
            },
            "type": "scattergl"
           }
          ],
          "scattermapbox": [
           {
            "marker": {
             "colorbar": {
              "outlinewidth": 0,
              "ticks": ""
             }
            },
            "type": "scattermapbox"
           }
          ],
          "scatterpolar": [
           {
            "marker": {
             "colorbar": {
              "outlinewidth": 0,
              "ticks": ""
             }
            },
            "type": "scatterpolar"
           }
          ],
          "scatterpolargl": [
           {
            "marker": {
             "colorbar": {
              "outlinewidth": 0,
              "ticks": ""
             }
            },
            "type": "scatterpolargl"
           }
          ],
          "scatterternary": [
           {
            "marker": {
             "colorbar": {
              "outlinewidth": 0,
              "ticks": ""
             }
            },
            "type": "scatterternary"
           }
          ],
          "surface": [
           {
            "colorbar": {
             "outlinewidth": 0,
             "ticks": ""
            },
            "colorscale": [
             [
              0,
              "#0d0887"
             ],
             [
              0.1111111111111111,
              "#46039f"
             ],
             [
              0.2222222222222222,
              "#7201a8"
             ],
             [
              0.3333333333333333,
              "#9c179e"
             ],
             [
              0.4444444444444444,
              "#bd3786"
             ],
             [
              0.5555555555555556,
              "#d8576b"
             ],
             [
              0.6666666666666666,
              "#ed7953"
             ],
             [
              0.7777777777777778,
              "#fb9f3a"
             ],
             [
              0.8888888888888888,
              "#fdca26"
             ],
             [
              1,
              "#f0f921"
             ]
            ],
            "type": "surface"
           }
          ],
          "table": [
           {
            "cells": {
             "fill": {
              "color": "#EBF0F8"
             },
             "line": {
              "color": "white"
             }
            },
            "header": {
             "fill": {
              "color": "#C8D4E3"
             },
             "line": {
              "color": "white"
             }
            },
            "type": "table"
           }
          ]
         },
         "layout": {
          "annotationdefaults": {
           "arrowcolor": "#2a3f5f",
           "arrowhead": 0,
           "arrowwidth": 1
          },
          "autotypenumbers": "strict",
          "coloraxis": {
           "colorbar": {
            "outlinewidth": 0,
            "ticks": ""
           }
          },
          "colorscale": {
           "diverging": [
            [
             0,
             "#8e0152"
            ],
            [
             0.1,
             "#c51b7d"
            ],
            [
             0.2,
             "#de77ae"
            ],
            [
             0.3,
             "#f1b6da"
            ],
            [
             0.4,
             "#fde0ef"
            ],
            [
             0.5,
             "#f7f7f7"
            ],
            [
             0.6,
             "#e6f5d0"
            ],
            [
             0.7,
             "#b8e186"
            ],
            [
             0.8,
             "#7fbc41"
            ],
            [
             0.9,
             "#4d9221"
            ],
            [
             1,
             "#276419"
            ]
           ],
           "sequential": [
            [
             0,
             "#0d0887"
            ],
            [
             0.1111111111111111,
             "#46039f"
            ],
            [
             0.2222222222222222,
             "#7201a8"
            ],
            [
             0.3333333333333333,
             "#9c179e"
            ],
            [
             0.4444444444444444,
             "#bd3786"
            ],
            [
             0.5555555555555556,
             "#d8576b"
            ],
            [
             0.6666666666666666,
             "#ed7953"
            ],
            [
             0.7777777777777778,
             "#fb9f3a"
            ],
            [
             0.8888888888888888,
             "#fdca26"
            ],
            [
             1,
             "#f0f921"
            ]
           ],
           "sequentialminus": [
            [
             0,
             "#0d0887"
            ],
            [
             0.1111111111111111,
             "#46039f"
            ],
            [
             0.2222222222222222,
             "#7201a8"
            ],
            [
             0.3333333333333333,
             "#9c179e"
            ],
            [
             0.4444444444444444,
             "#bd3786"
            ],
            [
             0.5555555555555556,
             "#d8576b"
            ],
            [
             0.6666666666666666,
             "#ed7953"
            ],
            [
             0.7777777777777778,
             "#fb9f3a"
            ],
            [
             0.8888888888888888,
             "#fdca26"
            ],
            [
             1,
             "#f0f921"
            ]
           ]
          },
          "colorway": [
           "#636efa",
           "#EF553B",
           "#00cc96",
           "#ab63fa",
           "#FFA15A",
           "#19d3f3",
           "#FF6692",
           "#B6E880",
           "#FF97FF",
           "#FECB52"
          ],
          "font": {
           "color": "#2a3f5f"
          },
          "geo": {
           "bgcolor": "white",
           "lakecolor": "white",
           "landcolor": "#E5ECF6",
           "showlakes": true,
           "showland": true,
           "subunitcolor": "white"
          },
          "hoverlabel": {
           "align": "left"
          },
          "hovermode": "closest",
          "mapbox": {
           "style": "light"
          },
          "paper_bgcolor": "white",
          "plot_bgcolor": "#E5ECF6",
          "polar": {
           "angularaxis": {
            "gridcolor": "white",
            "linecolor": "white",
            "ticks": ""
           },
           "bgcolor": "#E5ECF6",
           "radialaxis": {
            "gridcolor": "white",
            "linecolor": "white",
            "ticks": ""
           }
          },
          "scene": {
           "xaxis": {
            "backgroundcolor": "#E5ECF6",
            "gridcolor": "white",
            "gridwidth": 2,
            "linecolor": "white",
            "showbackground": true,
            "ticks": "",
            "zerolinecolor": "white"
           },
           "yaxis": {
            "backgroundcolor": "#E5ECF6",
            "gridcolor": "white",
            "gridwidth": 2,
            "linecolor": "white",
            "showbackground": true,
            "ticks": "",
            "zerolinecolor": "white"
           },
           "zaxis": {
            "backgroundcolor": "#E5ECF6",
            "gridcolor": "white",
            "gridwidth": 2,
            "linecolor": "white",
            "showbackground": true,
            "ticks": "",
            "zerolinecolor": "white"
           }
          },
          "shapedefaults": {
           "line": {
            "color": "#2a3f5f"
           }
          },
          "ternary": {
           "aaxis": {
            "gridcolor": "white",
            "linecolor": "white",
            "ticks": ""
           },
           "baxis": {
            "gridcolor": "white",
            "linecolor": "white",
            "ticks": ""
           },
           "bgcolor": "#E5ECF6",
           "caxis": {
            "gridcolor": "white",
            "linecolor": "white",
            "ticks": ""
           }
          },
          "title": {
           "x": 0.05
          },
          "xaxis": {
           "automargin": true,
           "gridcolor": "white",
           "linecolor": "white",
           "ticks": "",
           "title": {
            "standoff": 15
           },
           "zerolinecolor": "white",
           "zerolinewidth": 2
          },
          "yaxis": {
           "automargin": true,
           "gridcolor": "white",
           "linecolor": "white",
           "ticks": "",
           "title": {
            "standoff": 15
           },
           "zerolinecolor": "white",
           "zerolinewidth": 2
          }
         }
        },
        "width": 1000,
        "xaxis": {
         "anchor": "y",
         "domain": [
          0,
          1
         ],
         "title": {
          "text": "Function"
         }
        },
        "yaxis": {
         "anchor": "x",
         "domain": [
          0,
          1
         ],
         "title": {
          "text": "Time (s)"
         }
        }
       }
      }
     },
     "metadata": {}
    }
   ],
   "source": [
    "# Function breakdown\n",
    "pp.plot_byfn(mode='line')"
   ]
  },
  {
   "cell_type": "code",
   "execution_count": 9,
   "metadata": {},
   "outputs": [
    {
     "output_type": "display_data",
     "data": {
      "application/vnd.plotly.v1+json": {
       "config": {
        "plotlyServerURL": "https://plot.ly"
       },
       "data": [
        {
         "alignmentgroup": "True",
         "customdata": [
          [
           25,
           5,
           "sol = odeint(mLorenz, y0_, t, args=beta)"
          ],
          [
           32,
           2,
           "fig = go.Figure(["
          ],
          [
           39,
           2,
           "fig.update_layout("
          ],
          [
           68,
           1,
           "t = np.linspace(0, T, int(T * 200))"
          ],
          [
           24,
           5,
           "y0_ = [y_ + np.random.randn() for y_ in y0]"
          ],
          [
           26,
           5,
           "sols.append(sol)"
          ],
          [
           23,
           6,
           "for n in range(N_trials):"
          ],
          [
           65,
           1,
           "beta = (10, 8/3, 137/5)"
          ],
          [
           37,
           1,
           "for n in range(len(sols))]"
          ],
          [
           45,
           2,
           "up=dict("
          ]
         ],
         "hovertemplate": "Time (s)=%{marker.color:.2f}<br>Rank=%{y}<br>Line=%{customdata[0]}<br>Hits=%{customdata[1]}<br>Text=%{customdata[2]}<extra></extra>",
         "legendgroup": "",
         "marker": {
          "color": [
           0.43486749999999996,
           0.052205299999999996,
           0.030523099999999997,
           0.0001247,
           0.000038299999999999996,
           0.0000057999999999999995,
           0.0000028999999999999998,
           0.0000028999999999999998,
           0.0000016999999999999998,
           0.0000016
          ],
          "coloraxis": "coloraxis"
         },
         "name": "",
         "offsetgroup": "",
         "orientation": "h",
         "showlegend": false,
         "text": [
          25,
          32,
          39,
          68,
          24,
          26,
          23,
          65,
          37,
          45
         ],
         "textposition": "outside",
         "type": "bar",
         "x": [
          0.43486749999999996,
          0.052205299999999996,
          0.030523099999999997,
          0.0001247,
          0.000038299999999999996,
          0.0000057999999999999995,
          0.0000028999999999999998,
          0.0000028999999999999998,
          0.0000016999999999999998,
          0.0000016
         ],
         "xaxis": "x",
         "y": [
          1,
          2,
          3,
          4,
          5,
          6,
          7,
          8,
          9,
          10
         ],
         "yaxis": "y"
        }
       ],
       "layout": {
        "barmode": "relative",
        "coloraxis": {
         "colorbar": {
          "title": {
           "text": "Time (s)"
          }
         },
         "colorscale": [
          [
           0,
           "rgb(252, 222, 156)"
          ],
          [
           0.16666666666666666,
           "rgb(250, 164, 118)"
          ],
          [
           0.3333333333333333,
           "rgb(240, 116, 110)"
          ],
          [
           0.5,
           "rgb(227, 79, 111)"
          ],
          [
           0.6666666666666666,
           "rgb(220, 57, 119)"
          ],
          [
           0.8333333333333334,
           "rgb(185, 37, 122)"
          ],
          [
           1,
           "rgb(124, 29, 111)"
          ]
         ]
        },
        "height": 600,
        "legend": {
         "tracegroupgap": 0
        },
        "margin": {
         "t": 60
        },
        "template": {
         "data": {
          "bar": [
           {
            "error_x": {
             "color": "#2a3f5f"
            },
            "error_y": {
             "color": "#2a3f5f"
            },
            "marker": {
             "line": {
              "color": "#E5ECF6",
              "width": 0.5
             }
            },
            "type": "bar"
           }
          ],
          "barpolar": [
           {
            "marker": {
             "line": {
              "color": "#E5ECF6",
              "width": 0.5
             }
            },
            "type": "barpolar"
           }
          ],
          "carpet": [
           {
            "aaxis": {
             "endlinecolor": "#2a3f5f",
             "gridcolor": "white",
             "linecolor": "white",
             "minorgridcolor": "white",
             "startlinecolor": "#2a3f5f"
            },
            "baxis": {
             "endlinecolor": "#2a3f5f",
             "gridcolor": "white",
             "linecolor": "white",
             "minorgridcolor": "white",
             "startlinecolor": "#2a3f5f"
            },
            "type": "carpet"
           }
          ],
          "choropleth": [
           {
            "colorbar": {
             "outlinewidth": 0,
             "ticks": ""
            },
            "type": "choropleth"
           }
          ],
          "contour": [
           {
            "colorbar": {
             "outlinewidth": 0,
             "ticks": ""
            },
            "colorscale": [
             [
              0,
              "#0d0887"
             ],
             [
              0.1111111111111111,
              "#46039f"
             ],
             [
              0.2222222222222222,
              "#7201a8"
             ],
             [
              0.3333333333333333,
              "#9c179e"
             ],
             [
              0.4444444444444444,
              "#bd3786"
             ],
             [
              0.5555555555555556,
              "#d8576b"
             ],
             [
              0.6666666666666666,
              "#ed7953"
             ],
             [
              0.7777777777777778,
              "#fb9f3a"
             ],
             [
              0.8888888888888888,
              "#fdca26"
             ],
             [
              1,
              "#f0f921"
             ]
            ],
            "type": "contour"
           }
          ],
          "contourcarpet": [
           {
            "colorbar": {
             "outlinewidth": 0,
             "ticks": ""
            },
            "type": "contourcarpet"
           }
          ],
          "heatmap": [
           {
            "colorbar": {
             "outlinewidth": 0,
             "ticks": ""
            },
            "colorscale": [
             [
              0,
              "#0d0887"
             ],
             [
              0.1111111111111111,
              "#46039f"
             ],
             [
              0.2222222222222222,
              "#7201a8"
             ],
             [
              0.3333333333333333,
              "#9c179e"
             ],
             [
              0.4444444444444444,
              "#bd3786"
             ],
             [
              0.5555555555555556,
              "#d8576b"
             ],
             [
              0.6666666666666666,
              "#ed7953"
             ],
             [
              0.7777777777777778,
              "#fb9f3a"
             ],
             [
              0.8888888888888888,
              "#fdca26"
             ],
             [
              1,
              "#f0f921"
             ]
            ],
            "type": "heatmap"
           }
          ],
          "heatmapgl": [
           {
            "colorbar": {
             "outlinewidth": 0,
             "ticks": ""
            },
            "colorscale": [
             [
              0,
              "#0d0887"
             ],
             [
              0.1111111111111111,
              "#46039f"
             ],
             [
              0.2222222222222222,
              "#7201a8"
             ],
             [
              0.3333333333333333,
              "#9c179e"
             ],
             [
              0.4444444444444444,
              "#bd3786"
             ],
             [
              0.5555555555555556,
              "#d8576b"
             ],
             [
              0.6666666666666666,
              "#ed7953"
             ],
             [
              0.7777777777777778,
              "#fb9f3a"
             ],
             [
              0.8888888888888888,
              "#fdca26"
             ],
             [
              1,
              "#f0f921"
             ]
            ],
            "type": "heatmapgl"
           }
          ],
          "histogram": [
           {
            "marker": {
             "colorbar": {
              "outlinewidth": 0,
              "ticks": ""
             }
            },
            "type": "histogram"
           }
          ],
          "histogram2d": [
           {
            "colorbar": {
             "outlinewidth": 0,
             "ticks": ""
            },
            "colorscale": [
             [
              0,
              "#0d0887"
             ],
             [
              0.1111111111111111,
              "#46039f"
             ],
             [
              0.2222222222222222,
              "#7201a8"
             ],
             [
              0.3333333333333333,
              "#9c179e"
             ],
             [
              0.4444444444444444,
              "#bd3786"
             ],
             [
              0.5555555555555556,
              "#d8576b"
             ],
             [
              0.6666666666666666,
              "#ed7953"
             ],
             [
              0.7777777777777778,
              "#fb9f3a"
             ],
             [
              0.8888888888888888,
              "#fdca26"
             ],
             [
              1,
              "#f0f921"
             ]
            ],
            "type": "histogram2d"
           }
          ],
          "histogram2dcontour": [
           {
            "colorbar": {
             "outlinewidth": 0,
             "ticks": ""
            },
            "colorscale": [
             [
              0,
              "#0d0887"
             ],
             [
              0.1111111111111111,
              "#46039f"
             ],
             [
              0.2222222222222222,
              "#7201a8"
             ],
             [
              0.3333333333333333,
              "#9c179e"
             ],
             [
              0.4444444444444444,
              "#bd3786"
             ],
             [
              0.5555555555555556,
              "#d8576b"
             ],
             [
              0.6666666666666666,
              "#ed7953"
             ],
             [
              0.7777777777777778,
              "#fb9f3a"
             ],
             [
              0.8888888888888888,
              "#fdca26"
             ],
             [
              1,
              "#f0f921"
             ]
            ],
            "type": "histogram2dcontour"
           }
          ],
          "mesh3d": [
           {
            "colorbar": {
             "outlinewidth": 0,
             "ticks": ""
            },
            "type": "mesh3d"
           }
          ],
          "parcoords": [
           {
            "line": {
             "colorbar": {
              "outlinewidth": 0,
              "ticks": ""
             }
            },
            "type": "parcoords"
           }
          ],
          "pie": [
           {
            "automargin": true,
            "type": "pie"
           }
          ],
          "scatter": [
           {
            "marker": {
             "colorbar": {
              "outlinewidth": 0,
              "ticks": ""
             }
            },
            "type": "scatter"
           }
          ],
          "scatter3d": [
           {
            "line": {
             "colorbar": {
              "outlinewidth": 0,
              "ticks": ""
             }
            },
            "marker": {
             "colorbar": {
              "outlinewidth": 0,
              "ticks": ""
             }
            },
            "type": "scatter3d"
           }
          ],
          "scattercarpet": [
           {
            "marker": {
             "colorbar": {
              "outlinewidth": 0,
              "ticks": ""
             }
            },
            "type": "scattercarpet"
           }
          ],
          "scattergeo": [
           {
            "marker": {
             "colorbar": {
              "outlinewidth": 0,
              "ticks": ""
             }
            },
            "type": "scattergeo"
           }
          ],
          "scattergl": [
           {
            "marker": {
             "colorbar": {
              "outlinewidth": 0,
              "ticks": ""
             }
            },
            "type": "scattergl"
           }
          ],
          "scattermapbox": [
           {
            "marker": {
             "colorbar": {
              "outlinewidth": 0,
              "ticks": ""
             }
            },
            "type": "scattermapbox"
           }
          ],
          "scatterpolar": [
           {
            "marker": {
             "colorbar": {
              "outlinewidth": 0,
              "ticks": ""
             }
            },
            "type": "scatterpolar"
           }
          ],
          "scatterpolargl": [
           {
            "marker": {
             "colorbar": {
              "outlinewidth": 0,
              "ticks": ""
             }
            },
            "type": "scatterpolargl"
           }
          ],
          "scatterternary": [
           {
            "marker": {
             "colorbar": {
              "outlinewidth": 0,
              "ticks": ""
             }
            },
            "type": "scatterternary"
           }
          ],
          "surface": [
           {
            "colorbar": {
             "outlinewidth": 0,
             "ticks": ""
            },
            "colorscale": [
             [
              0,
              "#0d0887"
             ],
             [
              0.1111111111111111,
              "#46039f"
             ],
             [
              0.2222222222222222,
              "#7201a8"
             ],
             [
              0.3333333333333333,
              "#9c179e"
             ],
             [
              0.4444444444444444,
              "#bd3786"
             ],
             [
              0.5555555555555556,
              "#d8576b"
             ],
             [
              0.6666666666666666,
              "#ed7953"
             ],
             [
              0.7777777777777778,
              "#fb9f3a"
             ],
             [
              0.8888888888888888,
              "#fdca26"
             ],
             [
              1,
              "#f0f921"
             ]
            ],
            "type": "surface"
           }
          ],
          "table": [
           {
            "cells": {
             "fill": {
              "color": "#EBF0F8"
             },
             "line": {
              "color": "white"
             }
            },
            "header": {
             "fill": {
              "color": "#C8D4E3"
             },
             "line": {
              "color": "white"
             }
            },
            "type": "table"
           }
          ]
         },
         "layout": {
          "annotationdefaults": {
           "arrowcolor": "#2a3f5f",
           "arrowhead": 0,
           "arrowwidth": 1
          },
          "autotypenumbers": "strict",
          "coloraxis": {
           "colorbar": {
            "outlinewidth": 0,
            "ticks": ""
           }
          },
          "colorscale": {
           "diverging": [
            [
             0,
             "#8e0152"
            ],
            [
             0.1,
             "#c51b7d"
            ],
            [
             0.2,
             "#de77ae"
            ],
            [
             0.3,
             "#f1b6da"
            ],
            [
             0.4,
             "#fde0ef"
            ],
            [
             0.5,
             "#f7f7f7"
            ],
            [
             0.6,
             "#e6f5d0"
            ],
            [
             0.7,
             "#b8e186"
            ],
            [
             0.8,
             "#7fbc41"
            ],
            [
             0.9,
             "#4d9221"
            ],
            [
             1,
             "#276419"
            ]
           ],
           "sequential": [
            [
             0,
             "#0d0887"
            ],
            [
             0.1111111111111111,
             "#46039f"
            ],
            [
             0.2222222222222222,
             "#7201a8"
            ],
            [
             0.3333333333333333,
             "#9c179e"
            ],
            [
             0.4444444444444444,
             "#bd3786"
            ],
            [
             0.5555555555555556,
             "#d8576b"
            ],
            [
             0.6666666666666666,
             "#ed7953"
            ],
            [
             0.7777777777777778,
             "#fb9f3a"
            ],
            [
             0.8888888888888888,
             "#fdca26"
            ],
            [
             1,
             "#f0f921"
            ]
           ],
           "sequentialminus": [
            [
             0,
             "#0d0887"
            ],
            [
             0.1111111111111111,
             "#46039f"
            ],
            [
             0.2222222222222222,
             "#7201a8"
            ],
            [
             0.3333333333333333,
             "#9c179e"
            ],
            [
             0.4444444444444444,
             "#bd3786"
            ],
            [
             0.5555555555555556,
             "#d8576b"
            ],
            [
             0.6666666666666666,
             "#ed7953"
            ],
            [
             0.7777777777777778,
             "#fb9f3a"
            ],
            [
             0.8888888888888888,
             "#fdca26"
            ],
            [
             1,
             "#f0f921"
            ]
           ]
          },
          "colorway": [
           "#636efa",
           "#EF553B",
           "#00cc96",
           "#ab63fa",
           "#FFA15A",
           "#19d3f3",
           "#FF6692",
           "#B6E880",
           "#FF97FF",
           "#FECB52"
          ],
          "font": {
           "color": "#2a3f5f"
          },
          "geo": {
           "bgcolor": "white",
           "lakecolor": "white",
           "landcolor": "#E5ECF6",
           "showlakes": true,
           "showland": true,
           "subunitcolor": "white"
          },
          "hoverlabel": {
           "align": "left"
          },
          "hovermode": "closest",
          "mapbox": {
           "style": "light"
          },
          "paper_bgcolor": "white",
          "plot_bgcolor": "#E5ECF6",
          "polar": {
           "angularaxis": {
            "gridcolor": "white",
            "linecolor": "white",
            "ticks": ""
           },
           "bgcolor": "#E5ECF6",
           "radialaxis": {
            "gridcolor": "white",
            "linecolor": "white",
            "ticks": ""
           }
          },
          "scene": {
           "xaxis": {
            "backgroundcolor": "#E5ECF6",
            "gridcolor": "white",
            "gridwidth": 2,
            "linecolor": "white",
            "showbackground": true,
            "ticks": "",
            "zerolinecolor": "white"
           },
           "yaxis": {
            "backgroundcolor": "#E5ECF6",
            "gridcolor": "white",
            "gridwidth": 2,
            "linecolor": "white",
            "showbackground": true,
            "ticks": "",
            "zerolinecolor": "white"
           },
           "zaxis": {
            "backgroundcolor": "#E5ECF6",
            "gridcolor": "white",
            "gridwidth": 2,
            "linecolor": "white",
            "showbackground": true,
            "ticks": "",
            "zerolinecolor": "white"
           }
          },
          "shapedefaults": {
           "line": {
            "color": "#2a3f5f"
           }
          },
          "ternary": {
           "aaxis": {
            "gridcolor": "white",
            "linecolor": "white",
            "ticks": ""
           },
           "baxis": {
            "gridcolor": "white",
            "linecolor": "white",
            "ticks": ""
           },
           "bgcolor": "#E5ECF6",
           "caxis": {
            "gridcolor": "white",
            "linecolor": "white",
            "ticks": ""
           }
          },
          "title": {
           "x": 0.05
          },
          "xaxis": {
           "automargin": true,
           "gridcolor": "white",
           "linecolor": "white",
           "ticks": "",
           "title": {
            "standoff": 15
           },
           "zerolinecolor": "white",
           "zerolinewidth": 2
          },
          "yaxis": {
           "automargin": true,
           "gridcolor": "white",
           "linecolor": "white",
           "ticks": "",
           "title": {
            "standoff": 15
           },
           "zerolinecolor": "white",
           "zerolinewidth": 2
          }
         }
        },
        "title": {
         "text": "Slowest Lines"
        },
        "width": 1200,
        "xaxis": {
         "anchor": "y",
         "domain": [
          0,
          1
         ],
         "title": {
          "text": "Time (s)"
         }
        },
        "yaxis": {
         "anchor": "x",
         "autorange": "reversed",
         "domain": [
          0,
          1
         ],
         "dtick": 1,
         "tick0": 1,
         "tickmode": "linear",
         "title": {
          "text": "Rank"
         }
        }
       }
      }
     },
     "metadata": {}
    }
   ],
   "source": [
    "# Rankings plot\n",
    "pp.plot_ranks(mode='line')"
   ]
  }
 ]
}