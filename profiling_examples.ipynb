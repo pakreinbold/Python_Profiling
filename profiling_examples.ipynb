{
 "metadata": {
  "language_info": {
   "codemirror_mode": {
    "name": "ipython",
    "version": 3
   },
   "file_extension": ".py",
   "mimetype": "text/x-python",
   "name": "python",
   "nbconvert_exporter": "python",
   "pygments_lexer": "ipython3",
   "version": "3.8.5"
  },
  "orig_nbformat": 2,
  "kernelspec": {
   "name": "python3",
   "display_name": "Python 3.8.5 64-bit ('base': conda)"
  },
  "interpreter": {
   "hash": "8138d599ee6cce8defc1ec5fb880fff09f677d008f019f76e46e86511b90d42a"
  }
 },
 "nbformat": 4,
 "nbformat_minor": 2,
 "cells": [
  {
   "cell_type": "code",
   "execution_count": 1,
   "metadata": {},
   "outputs": [],
   "source": [
    "from profile_processing import ProfileProcessor"
   ]
  },
  {
   "cell_type": "code",
   "execution_count": 2,
   "metadata": {},
   "outputs": [
    {
     "output_type": "stream",
     "name": "stdout",
     "text": [
      "    Line  Hits      Time (s)   Per Hit (s)  Perc Time (%)  \\\n0      4     0  0.000000e+00  0.000000e+00            0.0   \n1      5     0  0.000000e+00  0.000000e+00            0.0   \n2      6     1  6.980000e-05  6.980000e-05            0.1   \n3      7     1  1.226823e-01  1.226823e-01           98.6   \n4      8     1  7.300000e-05  7.300000e-05            0.1   \n..   ...   ...           ...           ...            ...   \n57    57     1  1.737760e-02  1.737760e-02           24.8   \n58    58     1  1.751030e-02  1.751030e-02           25.0   \n59    59     1  1.748050e-02  1.748050e-02           24.9   \n60    60     0  0.000000e+00  0.000000e+00            0.0   \n61    61     1  7.000000e-07  7.000000e-07            0.0   \n\n                         Text                 File      Function  Trial  \n0                    @profile      some_package.py  do_some_math      1  \n1     def do_some_math(m, n):      some_package.py  do_some_math      1  \n2   x = np.random.randn(1, m)      some_package.py  do_some_math      1  \n3   A = np.random.randn(m, n)      some_package.py  do_some_math      1  \n4   y = np.random.randn(n, 1)      some_package.py  do_some_math      1  \n..                        ...                  ...           ...    ...  \n57  a = np.random.randn(m, m)  profiler_testing.py  make_randoms      2  \n58  b = np.random.randn(m, n)  profiler_testing.py  make_randoms      2  \n59  c = np.random.randn(n, m)  profiler_testing.py  make_randoms      2  \n60                             profiler_testing.py  make_randoms      2  \n61    return x, y, z, a, b, c  profiler_testing.py  make_randoms      2  \n\n[124 rows x 9 columns]\n    Line  Total Memory (MiB)  Memory Delta (MiB)  Occurences  \\\n0      4              90.258               0.000         1.0   \n1      5               0.000               0.000         0.0   \n2      6              90.258               0.000         1.0   \n3      7             136.035              45.777         1.0   \n4      8             136.055               0.020         1.0   \n..   ...                 ...                 ...         ...   \n57    57              65.453               7.633         1.0   \n58    58              73.086               7.633         1.0   \n59    59              80.719               7.633         1.0   \n60    60               0.000               0.000         0.0   \n61    61              80.719               0.000         1.0   \n\n                         Text  Trial  \n0                    @profile      1  \n1     def do_some_math(m, n):      1  \n2   x = np.random.randn(1, m)      1  \n3   A = np.random.randn(m, n)      1  \n4   y = np.random.randn(n, 1)      1  \n..                        ...    ...  \n57  a = np.random.randn(m, m)      2  \n58  b = np.random.randn(m, n)      2  \n59  c = np.random.randn(n, m)      2  \n60                                 2  \n61    return x, y, z, a, b, c      2  \n\n[124 rows x 6 columns]\n"
     ]
    },
    {
     "output_type": "execute_result",
     "data": {
      "text/plain": [
       "                   File Function  Line  Memory Delta (MiB)  Perc Time (%)  \\\n",
       "10  profiler_testing.py      fun     5                 0.0            0.0   \n",
       "74  profiler_testing.py      fun     5                 0.0            0.0   \n",
       "11  profiler_testing.py      fun     6                 0.0            0.0   \n",
       "75  profiler_testing.py      fun     6                 0.0            0.0   \n",
       "12  profiler_testing.py      fun     7                 0.0            0.0   \n",
       "76  profiler_testing.py      fun     7                 0.0            0.0   \n",
       "13  profiler_testing.py      fun     8                 0.0            0.0   \n",
       "77  profiler_testing.py      fun     8                 0.0            0.0   \n",
       "6   profiler_testing.py      fun     9                 0.0            0.0   \n",
       "70  profiler_testing.py      fun     9                 0.0            0.0   \n",
       "\n",
       "    Total Memory (MiB)  Time (s)  Occurences  Hits  Per Hit (s)  \\\n",
       "10              50.168       0.0         1.0     0          0.0   \n",
       "74              50.156       0.0         1.0     0          0.0   \n",
       "11               0.000       0.0         0.0     0          0.0   \n",
       "75               0.000       0.0         0.0     0          0.0   \n",
       "12               0.000       0.0         0.0     0          0.0   \n",
       "76               0.000       0.0         0.0     0          0.0   \n",
       "13               0.000       0.0         0.0     0          0.0   \n",
       "77               0.000       0.0         0.0     0          0.0   \n",
       "6                0.000       0.0         0.0     0          0.0   \n",
       "70               0.000       0.0         0.0     0          0.0   \n",
       "\n",
       "                                      Text  Trial  \n",
       "10                                @profile      1  \n",
       "74                                @profile      2  \n",
       "11                          def fun(m, n):      1  \n",
       "75                          def fun(m, n):      2  \n",
       "12                                     '''      1  \n",
       "76                                     '''      2  \n",
       "13  This function does some linear algebra      1  \n",
       "77  This function does some linear algebra      2  \n",
       "6                                               1  \n",
       "70                                              2  "
      ],
      "text/html": "<div>\n<style scoped>\n    .dataframe tbody tr th:only-of-type {\n        vertical-align: middle;\n    }\n\n    .dataframe tbody tr th {\n        vertical-align: top;\n    }\n\n    .dataframe thead th {\n        text-align: right;\n    }\n</style>\n<table border=\"1\" class=\"dataframe\">\n  <thead>\n    <tr style=\"text-align: right;\">\n      <th></th>\n      <th>File</th>\n      <th>Function</th>\n      <th>Line</th>\n      <th>Memory Delta (MiB)</th>\n      <th>Perc Time (%)</th>\n      <th>Total Memory (MiB)</th>\n      <th>Time (s)</th>\n      <th>Occurences</th>\n      <th>Hits</th>\n      <th>Per Hit (s)</th>\n      <th>Text</th>\n      <th>Trial</th>\n    </tr>\n  </thead>\n  <tbody>\n    <tr>\n      <th>10</th>\n      <td>profiler_testing.py</td>\n      <td>fun</td>\n      <td>5</td>\n      <td>0.0</td>\n      <td>0.0</td>\n      <td>50.168</td>\n      <td>0.0</td>\n      <td>1.0</td>\n      <td>0</td>\n      <td>0.0</td>\n      <td>@profile</td>\n      <td>1</td>\n    </tr>\n    <tr>\n      <th>74</th>\n      <td>profiler_testing.py</td>\n      <td>fun</td>\n      <td>5</td>\n      <td>0.0</td>\n      <td>0.0</td>\n      <td>50.156</td>\n      <td>0.0</td>\n      <td>1.0</td>\n      <td>0</td>\n      <td>0.0</td>\n      <td>@profile</td>\n      <td>2</td>\n    </tr>\n    <tr>\n      <th>11</th>\n      <td>profiler_testing.py</td>\n      <td>fun</td>\n      <td>6</td>\n      <td>0.0</td>\n      <td>0.0</td>\n      <td>0.000</td>\n      <td>0.0</td>\n      <td>0.0</td>\n      <td>0</td>\n      <td>0.0</td>\n      <td>def fun(m, n):</td>\n      <td>1</td>\n    </tr>\n    <tr>\n      <th>75</th>\n      <td>profiler_testing.py</td>\n      <td>fun</td>\n      <td>6</td>\n      <td>0.0</td>\n      <td>0.0</td>\n      <td>0.000</td>\n      <td>0.0</td>\n      <td>0.0</td>\n      <td>0</td>\n      <td>0.0</td>\n      <td>def fun(m, n):</td>\n      <td>2</td>\n    </tr>\n    <tr>\n      <th>12</th>\n      <td>profiler_testing.py</td>\n      <td>fun</td>\n      <td>7</td>\n      <td>0.0</td>\n      <td>0.0</td>\n      <td>0.000</td>\n      <td>0.0</td>\n      <td>0.0</td>\n      <td>0</td>\n      <td>0.0</td>\n      <td>'''</td>\n      <td>1</td>\n    </tr>\n    <tr>\n      <th>76</th>\n      <td>profiler_testing.py</td>\n      <td>fun</td>\n      <td>7</td>\n      <td>0.0</td>\n      <td>0.0</td>\n      <td>0.000</td>\n      <td>0.0</td>\n      <td>0.0</td>\n      <td>0</td>\n      <td>0.0</td>\n      <td>'''</td>\n      <td>2</td>\n    </tr>\n    <tr>\n      <th>13</th>\n      <td>profiler_testing.py</td>\n      <td>fun</td>\n      <td>8</td>\n      <td>0.0</td>\n      <td>0.0</td>\n      <td>0.000</td>\n      <td>0.0</td>\n      <td>0.0</td>\n      <td>0</td>\n      <td>0.0</td>\n      <td>This function does some linear algebra</td>\n      <td>1</td>\n    </tr>\n    <tr>\n      <th>77</th>\n      <td>profiler_testing.py</td>\n      <td>fun</td>\n      <td>8</td>\n      <td>0.0</td>\n      <td>0.0</td>\n      <td>0.000</td>\n      <td>0.0</td>\n      <td>0.0</td>\n      <td>0</td>\n      <td>0.0</td>\n      <td>This function does some linear algebra</td>\n      <td>2</td>\n    </tr>\n    <tr>\n      <th>6</th>\n      <td>profiler_testing.py</td>\n      <td>fun</td>\n      <td>9</td>\n      <td>0.0</td>\n      <td>0.0</td>\n      <td>0.000</td>\n      <td>0.0</td>\n      <td>0.0</td>\n      <td>0</td>\n      <td>0.0</td>\n      <td></td>\n      <td>1</td>\n    </tr>\n    <tr>\n      <th>70</th>\n      <td>profiler_testing.py</td>\n      <td>fun</td>\n      <td>9</td>\n      <td>0.0</td>\n      <td>0.0</td>\n      <td>0.000</td>\n      <td>0.0</td>\n      <td>0.0</td>\n      <td>0</td>\n      <td>0.0</td>\n      <td></td>\n      <td>2</td>\n    </tr>\n  </tbody>\n</table>\n</div>"
     },
     "metadata": {},
     "execution_count": 2
    }
   ],
   "source": [
    "script = 'profiler_testing'\n",
    "\n",
    "pp = ProfileProcessor(memory_path=[f'./profiles/{script}__memory_profile_{n}.txt' for n in range(2)],\n",
    "                      line_path=[f'./profiles/{script}__line_profile_{n}.txt' for n in range(2)])\n",
    "pp.all_df.head(10)"
   ]
  },
  {
   "cell_type": "code",
   "execution_count": 3,
   "metadata": {},
   "outputs": [
    {
     "output_type": "execute_result",
     "data": {
      "text/plain": [
       "                   File      Function  Line  \\\n",
       "0   profiler_testing.py           fun     5   \n",
       "1   profiler_testing.py           fun     6   \n",
       "2   profiler_testing.py           fun     7   \n",
       "3   profiler_testing.py           fun     8   \n",
       "4   profiler_testing.py           fun     9   \n",
       "5   profiler_testing.py           fun    10   \n",
       "6   profiler_testing.py           fun    11   \n",
       "7   profiler_testing.py           fun    12   \n",
       "8   profiler_testing.py           fun    13   \n",
       "9   profiler_testing.py           fun    14   \n",
       "10  profiler_testing.py           fun    15   \n",
       "11  profiler_testing.py           fun    16   \n",
       "12  profiler_testing.py           fun    17   \n",
       "13  profiler_testing.py           fun    18   \n",
       "14  profiler_testing.py           fun    19   \n",
       "15  profiler_testing.py           fun    20   \n",
       "16  profiler_testing.py           fun    21   \n",
       "17  profiler_testing.py           fun    22   \n",
       "18  profiler_testing.py           fun    23   \n",
       "19  profiler_testing.py           fun    24   \n",
       "20  profiler_testing.py           fun    25   \n",
       "21  profiler_testing.py           fun    26   \n",
       "22  profiler_testing.py           fun    27   \n",
       "23  profiler_testing.py           fun    28   \n",
       "24  profiler_testing.py           fun    29   \n",
       "25  profiler_testing.py           fun    30   \n",
       "26  profiler_testing.py           fun    31   \n",
       "27  profiler_testing.py           fun    32   \n",
       "28  profiler_testing.py           fun    33   \n",
       "29  profiler_testing.py           fun    34   \n",
       "30  profiler_testing.py           fun    35   \n",
       "31  profiler_testing.py           fun    36   \n",
       "32  profiler_testing.py           fun    37   \n",
       "33  profiler_testing.py           fun    38   \n",
       "34  profiler_testing.py           fun    39   \n",
       "35  profiler_testing.py           fun    40   \n",
       "36  profiler_testing.py  make_randoms    43   \n",
       "37  profiler_testing.py  make_randoms    44   \n",
       "38  profiler_testing.py  make_randoms    45   \n",
       "39  profiler_testing.py  make_randoms    46   \n",
       "40  profiler_testing.py  make_randoms    47   \n",
       "41  profiler_testing.py  make_randoms    48   \n",
       "42  profiler_testing.py  make_randoms    49   \n",
       "43  profiler_testing.py  make_randoms    50   \n",
       "44  profiler_testing.py  make_randoms    51   \n",
       "45  profiler_testing.py  make_randoms    52   \n",
       "46  profiler_testing.py  make_randoms    53   \n",
       "47  profiler_testing.py  make_randoms    54   \n",
       "48  profiler_testing.py  make_randoms    55   \n",
       "49  profiler_testing.py  make_randoms    56   \n",
       "\n",
       "                                       Text  Mean Memory Delta (MiB)  \\\n",
       "0                                  @profile                   0.0000   \n",
       "1                            def fun(m, n):                   0.0000   \n",
       "2                                       '''                   0.0000   \n",
       "3    This function does some linear algebra                   0.0000   \n",
       "4                                                             0.0000   \n",
       "5                                     Args:                   0.0000   \n",
       "6              m (int): size of dimension 1                   0.0000   \n",
       "7              n (int): size of dimension 2                   0.0000   \n",
       "8                                                             0.0000   \n",
       "9                                  Returns:                   0.0000   \n",
       "10      np.arrays: some simple calculations                   0.0000   \n",
       "11                                      '''                   0.0000   \n",
       "12    x, y, z, a, b, c = make_randoms(m, n)                  80.7245   \n",
       "13                                                            0.0000   \n",
       "14                           f = x.T @ a @\\                   1.8220   \n",
       "15                        (x + x**2 - x**3)                   0.0350   \n",
       "16                          g = x.T @ b @ y                   0.0000   \n",
       "17                          h = y.T @ z @ y                   0.0000   \n",
       "18                                                            0.0000   \n",
       "19                    T = 2 * (y @ x.T) * c                   7.6410   \n",
       "20                        t = T.sum(axis=0)                   0.0270   \n",
       "21                        r = T.sum(axis=1)                   0.0080   \n",
       "22       s = f'Make this 2 2.0 ugly {r[0]}'                   0.0040   \n",
       "23                                                            0.0000   \n",
       "24          hi = do_some_math(2 * m, 3 * n)                  90.5270   \n",
       "25              cond = np.abs(hi) > r.sum()                   0.0080   \n",
       "26                                                            0.0000   \n",
       "27                                 if cond:                   0.0040   \n",
       "28                         if r.sum() > 10:                   0.0000   \n",
       "29                           print('howdy')                   0.0000   \n",
       "30                                    else:                   0.0000   \n",
       "31                           print('powdy')                   0.0000   \n",
       "32                                    else:                   0.0000   \n",
       "33                           print('yowdy')                   0.0000   \n",
       "34                                                            0.0000   \n",
       "35               return f, g, h, T, t, r, s                   0.0000   \n",
       "36                                 @profile                   0.0000   \n",
       "37                  def make_randoms(m, n):                   0.0000   \n",
       "38                                      '''                   0.0000   \n",
       "39  This function creates some numpy arrays                   0.0000   \n",
       "40                                                            0.0000   \n",
       "41                                    Args:                   0.0000   \n",
       "42                          Sizes of arrays                   0.0000   \n",
       "43                                                            0.0000   \n",
       "44                                 Returns:                   0.0000   \n",
       "45                              Some arrays                   0.0000   \n",
       "46                                      '''                   0.0000   \n",
       "47                x = np.random.randn(m, 1)                   0.0310   \n",
       "48                y = np.random.randn(n, 1)                   0.0000   \n",
       "49                z = np.random.randn(n, n)                   7.6330   \n",
       "\n",
       "    Mean Time (s)  Std Memory Delta (MiB)  Std Time (s)  \n",
       "0        0.000000                0.000000  0.000000e+00  \n",
       "1        0.000000                0.000000  0.000000e+00  \n",
       "2        0.000000                0.000000  0.000000e+00  \n",
       "3        0.000000                0.000000  0.000000e+00  \n",
       "4        0.000000                0.000000  0.000000e+00  \n",
       "5        0.000000                0.000000  0.000000e+00  \n",
       "6        0.000000                0.000000  0.000000e+00  \n",
       "7        0.000000                0.000000  0.000000e+00  \n",
       "8        0.000000                0.000000  0.000000e+00  \n",
       "9        0.000000                0.000000  0.000000e+00  \n",
       "10       0.000000                0.000000  0.000000e+00  \n",
       "11       0.000000                0.000000  0.000000e+00  \n",
       "12       0.074511                0.007778  6.159961e-03  \n",
       "13       0.000000                0.000000  0.000000e+00  \n",
       "14       0.003453                0.014142  4.759536e-04  \n",
       "15       0.000055                0.000000  2.828427e-07  \n",
       "16       0.000264                0.000000  3.111270e-06  \n",
       "17       0.000251                0.000000  1.060660e-06  \n",
       "18       0.000000                0.000000  0.000000e+00  \n",
       "19       0.005423                0.000000  1.272792e-05  \n",
       "20       0.000413                0.000000  4.313351e-06  \n",
       "21       0.000477                0.000000  1.513209e-05  \n",
       "22       0.000010                0.000000  1.060660e-06  \n",
       "23       0.000000                0.000000  0.000000e+00  \n",
       "24       0.124710                0.005657  3.778213e-03  \n",
       "25       0.000027                0.000000  4.525483e-06  \n",
       "26       0.000000                0.000000  0.000000e+00  \n",
       "27       0.000002                0.000000  2.828427e-07  \n",
       "28       0.000004                0.000000  5.515433e-06  \n",
       "29       0.000057                0.000000  8.025662e-05  \n",
       "30       0.000000                0.000000  0.000000e+00  \n",
       "31       0.000000                0.000000  0.000000e+00  \n",
       "32       0.000000                0.000000  0.000000e+00  \n",
       "33       0.000059                0.000000  8.301434e-05  \n",
       "34       0.000000                0.000000  0.000000e+00  \n",
       "35       0.000001                0.000000  3.535534e-07  \n",
       "36       0.000000                0.000000  0.000000e+00  \n",
       "37       0.000000                0.000000  0.000000e+00  \n",
       "38       0.000000                0.000000  0.000000e+00  \n",
       "39       0.000000                0.000000  0.000000e+00  \n",
       "40       0.000000                0.000000  0.000000e+00  \n",
       "41       0.000000                0.000000  0.000000e+00  \n",
       "42       0.000000                0.000000  0.000000e+00  \n",
       "43       0.000000                0.000000  0.000000e+00  \n",
       "44       0.000000                0.000000  0.000000e+00  \n",
       "45       0.000000                0.000000  0.000000e+00  \n",
       "46       0.000000                0.000000  0.000000e+00  \n",
       "47       0.000032                0.000000  1.414214e-07  \n",
       "48       0.000021                0.000000  2.121320e-06  \n",
       "49       0.017606                0.000000  1.626346e-04  "
      ],
      "text/html": "<div>\n<style scoped>\n    .dataframe tbody tr th:only-of-type {\n        vertical-align: middle;\n    }\n\n    .dataframe tbody tr th {\n        vertical-align: top;\n    }\n\n    .dataframe thead th {\n        text-align: right;\n    }\n</style>\n<table border=\"1\" class=\"dataframe\">\n  <thead>\n    <tr style=\"text-align: right;\">\n      <th></th>\n      <th>File</th>\n      <th>Function</th>\n      <th>Line</th>\n      <th>Text</th>\n      <th>Mean Memory Delta (MiB)</th>\n      <th>Mean Time (s)</th>\n      <th>Std Memory Delta (MiB)</th>\n      <th>Std Time (s)</th>\n    </tr>\n  </thead>\n  <tbody>\n    <tr>\n      <th>0</th>\n      <td>profiler_testing.py</td>\n      <td>fun</td>\n      <td>5</td>\n      <td>@profile</td>\n      <td>0.0000</td>\n      <td>0.000000</td>\n      <td>0.000000</td>\n      <td>0.000000e+00</td>\n    </tr>\n    <tr>\n      <th>1</th>\n      <td>profiler_testing.py</td>\n      <td>fun</td>\n      <td>6</td>\n      <td>def fun(m, n):</td>\n      <td>0.0000</td>\n      <td>0.000000</td>\n      <td>0.000000</td>\n      <td>0.000000e+00</td>\n    </tr>\n    <tr>\n      <th>2</th>\n      <td>profiler_testing.py</td>\n      <td>fun</td>\n      <td>7</td>\n      <td>'''</td>\n      <td>0.0000</td>\n      <td>0.000000</td>\n      <td>0.000000</td>\n      <td>0.000000e+00</td>\n    </tr>\n    <tr>\n      <th>3</th>\n      <td>profiler_testing.py</td>\n      <td>fun</td>\n      <td>8</td>\n      <td>This function does some linear algebra</td>\n      <td>0.0000</td>\n      <td>0.000000</td>\n      <td>0.000000</td>\n      <td>0.000000e+00</td>\n    </tr>\n    <tr>\n      <th>4</th>\n      <td>profiler_testing.py</td>\n      <td>fun</td>\n      <td>9</td>\n      <td></td>\n      <td>0.0000</td>\n      <td>0.000000</td>\n      <td>0.000000</td>\n      <td>0.000000e+00</td>\n    </tr>\n    <tr>\n      <th>5</th>\n      <td>profiler_testing.py</td>\n      <td>fun</td>\n      <td>10</td>\n      <td>Args:</td>\n      <td>0.0000</td>\n      <td>0.000000</td>\n      <td>0.000000</td>\n      <td>0.000000e+00</td>\n    </tr>\n    <tr>\n      <th>6</th>\n      <td>profiler_testing.py</td>\n      <td>fun</td>\n      <td>11</td>\n      <td>m (int): size of dimension 1</td>\n      <td>0.0000</td>\n      <td>0.000000</td>\n      <td>0.000000</td>\n      <td>0.000000e+00</td>\n    </tr>\n    <tr>\n      <th>7</th>\n      <td>profiler_testing.py</td>\n      <td>fun</td>\n      <td>12</td>\n      <td>n (int): size of dimension 2</td>\n      <td>0.0000</td>\n      <td>0.000000</td>\n      <td>0.000000</td>\n      <td>0.000000e+00</td>\n    </tr>\n    <tr>\n      <th>8</th>\n      <td>profiler_testing.py</td>\n      <td>fun</td>\n      <td>13</td>\n      <td></td>\n      <td>0.0000</td>\n      <td>0.000000</td>\n      <td>0.000000</td>\n      <td>0.000000e+00</td>\n    </tr>\n    <tr>\n      <th>9</th>\n      <td>profiler_testing.py</td>\n      <td>fun</td>\n      <td>14</td>\n      <td>Returns:</td>\n      <td>0.0000</td>\n      <td>0.000000</td>\n      <td>0.000000</td>\n      <td>0.000000e+00</td>\n    </tr>\n    <tr>\n      <th>10</th>\n      <td>profiler_testing.py</td>\n      <td>fun</td>\n      <td>15</td>\n      <td>np.arrays: some simple calculations</td>\n      <td>0.0000</td>\n      <td>0.000000</td>\n      <td>0.000000</td>\n      <td>0.000000e+00</td>\n    </tr>\n    <tr>\n      <th>11</th>\n      <td>profiler_testing.py</td>\n      <td>fun</td>\n      <td>16</td>\n      <td>'''</td>\n      <td>0.0000</td>\n      <td>0.000000</td>\n      <td>0.000000</td>\n      <td>0.000000e+00</td>\n    </tr>\n    <tr>\n      <th>12</th>\n      <td>profiler_testing.py</td>\n      <td>fun</td>\n      <td>17</td>\n      <td>x, y, z, a, b, c = make_randoms(m, n)</td>\n      <td>80.7245</td>\n      <td>0.074511</td>\n      <td>0.007778</td>\n      <td>6.159961e-03</td>\n    </tr>\n    <tr>\n      <th>13</th>\n      <td>profiler_testing.py</td>\n      <td>fun</td>\n      <td>18</td>\n      <td></td>\n      <td>0.0000</td>\n      <td>0.000000</td>\n      <td>0.000000</td>\n      <td>0.000000e+00</td>\n    </tr>\n    <tr>\n      <th>14</th>\n      <td>profiler_testing.py</td>\n      <td>fun</td>\n      <td>19</td>\n      <td>f = x.T @ a @\\</td>\n      <td>1.8220</td>\n      <td>0.003453</td>\n      <td>0.014142</td>\n      <td>4.759536e-04</td>\n    </tr>\n    <tr>\n      <th>15</th>\n      <td>profiler_testing.py</td>\n      <td>fun</td>\n      <td>20</td>\n      <td>(x + x**2 - x**3)</td>\n      <td>0.0350</td>\n      <td>0.000055</td>\n      <td>0.000000</td>\n      <td>2.828427e-07</td>\n    </tr>\n    <tr>\n      <th>16</th>\n      <td>profiler_testing.py</td>\n      <td>fun</td>\n      <td>21</td>\n      <td>g = x.T @ b @ y</td>\n      <td>0.0000</td>\n      <td>0.000264</td>\n      <td>0.000000</td>\n      <td>3.111270e-06</td>\n    </tr>\n    <tr>\n      <th>17</th>\n      <td>profiler_testing.py</td>\n      <td>fun</td>\n      <td>22</td>\n      <td>h = y.T @ z @ y</td>\n      <td>0.0000</td>\n      <td>0.000251</td>\n      <td>0.000000</td>\n      <td>1.060660e-06</td>\n    </tr>\n    <tr>\n      <th>18</th>\n      <td>profiler_testing.py</td>\n      <td>fun</td>\n      <td>23</td>\n      <td></td>\n      <td>0.0000</td>\n      <td>0.000000</td>\n      <td>0.000000</td>\n      <td>0.000000e+00</td>\n    </tr>\n    <tr>\n      <th>19</th>\n      <td>profiler_testing.py</td>\n      <td>fun</td>\n      <td>24</td>\n      <td>T = 2 * (y @ x.T) * c</td>\n      <td>7.6410</td>\n      <td>0.005423</td>\n      <td>0.000000</td>\n      <td>1.272792e-05</td>\n    </tr>\n    <tr>\n      <th>20</th>\n      <td>profiler_testing.py</td>\n      <td>fun</td>\n      <td>25</td>\n      <td>t = T.sum(axis=0)</td>\n      <td>0.0270</td>\n      <td>0.000413</td>\n      <td>0.000000</td>\n      <td>4.313351e-06</td>\n    </tr>\n    <tr>\n      <th>21</th>\n      <td>profiler_testing.py</td>\n      <td>fun</td>\n      <td>26</td>\n      <td>r = T.sum(axis=1)</td>\n      <td>0.0080</td>\n      <td>0.000477</td>\n      <td>0.000000</td>\n      <td>1.513209e-05</td>\n    </tr>\n    <tr>\n      <th>22</th>\n      <td>profiler_testing.py</td>\n      <td>fun</td>\n      <td>27</td>\n      <td>s = f'Make this 2 2.0 ugly {r[0]}'</td>\n      <td>0.0040</td>\n      <td>0.000010</td>\n      <td>0.000000</td>\n      <td>1.060660e-06</td>\n    </tr>\n    <tr>\n      <th>23</th>\n      <td>profiler_testing.py</td>\n      <td>fun</td>\n      <td>28</td>\n      <td></td>\n      <td>0.0000</td>\n      <td>0.000000</td>\n      <td>0.000000</td>\n      <td>0.000000e+00</td>\n    </tr>\n    <tr>\n      <th>24</th>\n      <td>profiler_testing.py</td>\n      <td>fun</td>\n      <td>29</td>\n      <td>hi = do_some_math(2 * m, 3 * n)</td>\n      <td>90.5270</td>\n      <td>0.124710</td>\n      <td>0.005657</td>\n      <td>3.778213e-03</td>\n    </tr>\n    <tr>\n      <th>25</th>\n      <td>profiler_testing.py</td>\n      <td>fun</td>\n      <td>30</td>\n      <td>cond = np.abs(hi) &gt; r.sum()</td>\n      <td>0.0080</td>\n      <td>0.000027</td>\n      <td>0.000000</td>\n      <td>4.525483e-06</td>\n    </tr>\n    <tr>\n      <th>26</th>\n      <td>profiler_testing.py</td>\n      <td>fun</td>\n      <td>31</td>\n      <td></td>\n      <td>0.0000</td>\n      <td>0.000000</td>\n      <td>0.000000</td>\n      <td>0.000000e+00</td>\n    </tr>\n    <tr>\n      <th>27</th>\n      <td>profiler_testing.py</td>\n      <td>fun</td>\n      <td>32</td>\n      <td>if cond:</td>\n      <td>0.0040</td>\n      <td>0.000002</td>\n      <td>0.000000</td>\n      <td>2.828427e-07</td>\n    </tr>\n    <tr>\n      <th>28</th>\n      <td>profiler_testing.py</td>\n      <td>fun</td>\n      <td>33</td>\n      <td>if r.sum() &gt; 10:</td>\n      <td>0.0000</td>\n      <td>0.000004</td>\n      <td>0.000000</td>\n      <td>5.515433e-06</td>\n    </tr>\n    <tr>\n      <th>29</th>\n      <td>profiler_testing.py</td>\n      <td>fun</td>\n      <td>34</td>\n      <td>print('howdy')</td>\n      <td>0.0000</td>\n      <td>0.000057</td>\n      <td>0.000000</td>\n      <td>8.025662e-05</td>\n    </tr>\n    <tr>\n      <th>30</th>\n      <td>profiler_testing.py</td>\n      <td>fun</td>\n      <td>35</td>\n      <td>else:</td>\n      <td>0.0000</td>\n      <td>0.000000</td>\n      <td>0.000000</td>\n      <td>0.000000e+00</td>\n    </tr>\n    <tr>\n      <th>31</th>\n      <td>profiler_testing.py</td>\n      <td>fun</td>\n      <td>36</td>\n      <td>print('powdy')</td>\n      <td>0.0000</td>\n      <td>0.000000</td>\n      <td>0.000000</td>\n      <td>0.000000e+00</td>\n    </tr>\n    <tr>\n      <th>32</th>\n      <td>profiler_testing.py</td>\n      <td>fun</td>\n      <td>37</td>\n      <td>else:</td>\n      <td>0.0000</td>\n      <td>0.000000</td>\n      <td>0.000000</td>\n      <td>0.000000e+00</td>\n    </tr>\n    <tr>\n      <th>33</th>\n      <td>profiler_testing.py</td>\n      <td>fun</td>\n      <td>38</td>\n      <td>print('yowdy')</td>\n      <td>0.0000</td>\n      <td>0.000059</td>\n      <td>0.000000</td>\n      <td>8.301434e-05</td>\n    </tr>\n    <tr>\n      <th>34</th>\n      <td>profiler_testing.py</td>\n      <td>fun</td>\n      <td>39</td>\n      <td></td>\n      <td>0.0000</td>\n      <td>0.000000</td>\n      <td>0.000000</td>\n      <td>0.000000e+00</td>\n    </tr>\n    <tr>\n      <th>35</th>\n      <td>profiler_testing.py</td>\n      <td>fun</td>\n      <td>40</td>\n      <td>return f, g, h, T, t, r, s</td>\n      <td>0.0000</td>\n      <td>0.000001</td>\n      <td>0.000000</td>\n      <td>3.535534e-07</td>\n    </tr>\n    <tr>\n      <th>36</th>\n      <td>profiler_testing.py</td>\n      <td>make_randoms</td>\n      <td>43</td>\n      <td>@profile</td>\n      <td>0.0000</td>\n      <td>0.000000</td>\n      <td>0.000000</td>\n      <td>0.000000e+00</td>\n    </tr>\n    <tr>\n      <th>37</th>\n      <td>profiler_testing.py</td>\n      <td>make_randoms</td>\n      <td>44</td>\n      <td>def make_randoms(m, n):</td>\n      <td>0.0000</td>\n      <td>0.000000</td>\n      <td>0.000000</td>\n      <td>0.000000e+00</td>\n    </tr>\n    <tr>\n      <th>38</th>\n      <td>profiler_testing.py</td>\n      <td>make_randoms</td>\n      <td>45</td>\n      <td>'''</td>\n      <td>0.0000</td>\n      <td>0.000000</td>\n      <td>0.000000</td>\n      <td>0.000000e+00</td>\n    </tr>\n    <tr>\n      <th>39</th>\n      <td>profiler_testing.py</td>\n      <td>make_randoms</td>\n      <td>46</td>\n      <td>This function creates some numpy arrays</td>\n      <td>0.0000</td>\n      <td>0.000000</td>\n      <td>0.000000</td>\n      <td>0.000000e+00</td>\n    </tr>\n    <tr>\n      <th>40</th>\n      <td>profiler_testing.py</td>\n      <td>make_randoms</td>\n      <td>47</td>\n      <td></td>\n      <td>0.0000</td>\n      <td>0.000000</td>\n      <td>0.000000</td>\n      <td>0.000000e+00</td>\n    </tr>\n    <tr>\n      <th>41</th>\n      <td>profiler_testing.py</td>\n      <td>make_randoms</td>\n      <td>48</td>\n      <td>Args:</td>\n      <td>0.0000</td>\n      <td>0.000000</td>\n      <td>0.000000</td>\n      <td>0.000000e+00</td>\n    </tr>\n    <tr>\n      <th>42</th>\n      <td>profiler_testing.py</td>\n      <td>make_randoms</td>\n      <td>49</td>\n      <td>Sizes of arrays</td>\n      <td>0.0000</td>\n      <td>0.000000</td>\n      <td>0.000000</td>\n      <td>0.000000e+00</td>\n    </tr>\n    <tr>\n      <th>43</th>\n      <td>profiler_testing.py</td>\n      <td>make_randoms</td>\n      <td>50</td>\n      <td></td>\n      <td>0.0000</td>\n      <td>0.000000</td>\n      <td>0.000000</td>\n      <td>0.000000e+00</td>\n    </tr>\n    <tr>\n      <th>44</th>\n      <td>profiler_testing.py</td>\n      <td>make_randoms</td>\n      <td>51</td>\n      <td>Returns:</td>\n      <td>0.0000</td>\n      <td>0.000000</td>\n      <td>0.000000</td>\n      <td>0.000000e+00</td>\n    </tr>\n    <tr>\n      <th>45</th>\n      <td>profiler_testing.py</td>\n      <td>make_randoms</td>\n      <td>52</td>\n      <td>Some arrays</td>\n      <td>0.0000</td>\n      <td>0.000000</td>\n      <td>0.000000</td>\n      <td>0.000000e+00</td>\n    </tr>\n    <tr>\n      <th>46</th>\n      <td>profiler_testing.py</td>\n      <td>make_randoms</td>\n      <td>53</td>\n      <td>'''</td>\n      <td>0.0000</td>\n      <td>0.000000</td>\n      <td>0.000000</td>\n      <td>0.000000e+00</td>\n    </tr>\n    <tr>\n      <th>47</th>\n      <td>profiler_testing.py</td>\n      <td>make_randoms</td>\n      <td>54</td>\n      <td>x = np.random.randn(m, 1)</td>\n      <td>0.0310</td>\n      <td>0.000032</td>\n      <td>0.000000</td>\n      <td>1.414214e-07</td>\n    </tr>\n    <tr>\n      <th>48</th>\n      <td>profiler_testing.py</td>\n      <td>make_randoms</td>\n      <td>55</td>\n      <td>y = np.random.randn(n, 1)</td>\n      <td>0.0000</td>\n      <td>0.000021</td>\n      <td>0.000000</td>\n      <td>2.121320e-06</td>\n    </tr>\n    <tr>\n      <th>49</th>\n      <td>profiler_testing.py</td>\n      <td>make_randoms</td>\n      <td>56</td>\n      <td>z = np.random.randn(n, n)</td>\n      <td>7.6330</td>\n      <td>0.017606</td>\n      <td>0.000000</td>\n      <td>1.626346e-04</td>\n    </tr>\n  </tbody>\n</table>\n</div>"
     },
     "metadata": {},
     "execution_count": 3
    }
   ],
   "source": [
    "pp.stats_df.head(50)"
   ]
  },
  {
   "cell_type": "code",
   "execution_count": 4,
   "metadata": {},
   "outputs": [
    {
     "output_type": "display_data",
     "data": {
      "text/plain": "<Figure size 1296x432 with 2 Axes>",
      "image/svg+xml": "<?xml version=\"1.0\" encoding=\"utf-8\" standalone=\"no\"?>\r\n<!DOCTYPE svg PUBLIC \"-//W3C//DTD SVG 1.1//EN\"\r\n  \"http://www.w3.org/Graphics/SVG/1.1/DTD/svg11.dtd\">\r\n<!-- Created with matplotlib (https://matplotlib.org/) -->\r\n<svg height=\"373.303125pt\" version=\"1.1\" viewBox=\"0 0 1099.920625 373.303125\" width=\"1099.920625pt\" xmlns=\"http://www.w3.org/2000/svg\" xmlns:xlink=\"http://www.w3.org/1999/xlink\">\r\n <metadata>\r\n  <rdf:RDF xmlns:cc=\"http://creativecommons.org/ns#\" xmlns:dc=\"http://purl.org/dc/elements/1.1/\" xmlns:rdf=\"http://www.w3.org/1999/02/22-rdf-syntax-ns#\">\r\n   <cc:Work>\r\n    <dc:type rdf:resource=\"http://purl.org/dc/dcmitype/StillImage\"/>\r\n    <dc:date>2021-06-28T14:07:23.872696</dc:date>\r\n    <dc:format>image/svg+xml</dc:format>\r\n    <dc:creator>\r\n     <cc:Agent>\r\n      <dc:title>Matplotlib v3.3.2, https://matplotlib.org/</dc:title>\r\n     </cc:Agent>\r\n    </dc:creator>\r\n   </cc:Work>\r\n  </rdf:RDF>\r\n </metadata>\r\n <defs>\r\n  <style type=\"text/css\">*{stroke-linecap:butt;stroke-linejoin:round;}</style>\r\n </defs>\r\n <g id=\"figure_1\">\r\n  <g id=\"patch_1\">\r\n   <path d=\"M 0 373.303125 \r\nL 1099.920625 373.303125 \r\nL 1099.920625 0 \r\nL 0 0 \r\nz\r\n\" style=\"fill:none;\"/>\r\n  </g>\r\n  <g id=\"axes_1\">\r\n   <g id=\"patch_2\">\r\n    <path d=\"M 52.530625 333.36 \r\nL 1056.930625 333.36 \r\nL 1056.930625 7.2 \r\nL 52.530625 7.2 \r\nz\r\n\" style=\"fill:#ffffff;\"/>\r\n   </g>\r\n   <g id=\"patch_3\">\r\n    <path clip-path=\"url(#p832bdb26f4)\" d=\"M 98.18517 333.36 \r\nL 111.045606 333.36 \r\nL 111.045606 333.36 \r\nL 98.18517 333.36 \r\nz\r\n\" style=\"fill:#ff0000;fill-opacity:0.3;stroke:#ff0000;stroke-linejoin:miter;\"/>\r\n   </g>\r\n   <g id=\"patch_4\">\r\n    <path clip-path=\"url(#p832bdb26f4)\" d=\"M 114.260715 333.36 \r\nL 127.12115 333.36 \r\nL 127.12115 333.36 \r\nL 114.260715 333.36 \r\nz\r\n\" style=\"fill:#ff0000;fill-opacity:0.3;stroke:#ff0000;stroke-linejoin:miter;\"/>\r\n   </g>\r\n   <g id=\"patch_5\">\r\n    <path clip-path=\"url(#p832bdb26f4)\" d=\"M 130.336259 333.36 \r\nL 143.196694 333.36 \r\nL 143.196694 333.36 \r\nL 130.336259 333.36 \r\nz\r\n\" style=\"fill:#ff0000;fill-opacity:0.3;stroke:#ff0000;stroke-linejoin:miter;\"/>\r\n   </g>\r\n   <g id=\"patch_6\">\r\n    <path clip-path=\"url(#p832bdb26f4)\" d=\"M 146.411803 333.36 \r\nL 159.272238 333.36 \r\nL 159.272238 333.36 \r\nL 146.411803 333.36 \r\nz\r\n\" style=\"fill:#ff0000;fill-opacity:0.3;stroke:#ff0000;stroke-linejoin:miter;\"/>\r\n   </g>\r\n   <g id=\"patch_7\">\r\n    <path clip-path=\"url(#p832bdb26f4)\" d=\"M 162.487347 333.36 \r\nL 175.347782 333.36 \r\nL 175.347782 333.36 \r\nL 162.487347 333.36 \r\nz\r\n\" style=\"fill:#ff0000;fill-opacity:0.3;stroke:#ff0000;stroke-linejoin:miter;\"/>\r\n   </g>\r\n   <g id=\"patch_8\">\r\n    <path clip-path=\"url(#p832bdb26f4)\" d=\"M 178.562891 333.36 \r\nL 191.423327 333.36 \r\nL 191.423327 333.36 \r\nL 178.562891 333.36 \r\nz\r\n\" style=\"fill:#ff0000;fill-opacity:0.3;stroke:#ff0000;stroke-linejoin:miter;\"/>\r\n   </g>\r\n   <g id=\"patch_9\">\r\n    <path clip-path=\"url(#p832bdb26f4)\" d=\"M 194.638435 333.36 \r\nL 207.498871 333.36 \r\nL 207.498871 333.36 \r\nL 194.638435 333.36 \r\nz\r\n\" style=\"fill:#ff0000;fill-opacity:0.3;stroke:#ff0000;stroke-linejoin:miter;\"/>\r\n   </g>\r\n   <g id=\"patch_10\">\r\n    <path clip-path=\"url(#p832bdb26f4)\" d=\"M 210.71398 333.36 \r\nL 223.574415 333.36 \r\nL 223.574415 333.36 \r\nL 210.71398 333.36 \r\nz\r\n\" style=\"fill:#ff0000;fill-opacity:0.3;stroke:#ff0000;stroke-linejoin:miter;\"/>\r\n   </g>\r\n   <g id=\"patch_11\">\r\n    <path clip-path=\"url(#p832bdb26f4)\" d=\"M 226.789524 333.36 \r\nL 239.649959 333.36 \r\nL 239.649959 333.36 \r\nL 226.789524 333.36 \r\nz\r\n\" style=\"fill:#ff0000;fill-opacity:0.3;stroke:#ff0000;stroke-linejoin:miter;\"/>\r\n   </g>\r\n   <g id=\"patch_12\">\r\n    <path clip-path=\"url(#p832bdb26f4)\" d=\"M 242.865068 333.36 \r\nL 255.725503 333.36 \r\nL 255.725503 333.36 \r\nL 242.865068 333.36 \r\nz\r\n\" style=\"fill:#ff0000;fill-opacity:0.3;stroke:#ff0000;stroke-linejoin:miter;\"/>\r\n   </g>\r\n   <g id=\"patch_13\">\r\n    <path clip-path=\"url(#p832bdb26f4)\" d=\"M 258.940612 333.36 \r\nL 271.801048 333.36 \r\nL 271.801048 333.36 \r\nL 258.940612 333.36 \r\nz\r\n\" style=\"fill:#ff0000;fill-opacity:0.3;stroke:#ff0000;stroke-linejoin:miter;\"/>\r\n   </g>\r\n   <g id=\"patch_14\">\r\n    <path clip-path=\"url(#p832bdb26f4)\" d=\"M 275.016156 333.36 \r\nL 287.876592 333.36 \r\nL 287.876592 333.36 \r\nL 275.016156 333.36 \r\nz\r\n\" style=\"fill:#ff0000;fill-opacity:0.3;stroke:#ff0000;stroke-linejoin:miter;\"/>\r\n   </g>\r\n   <g id=\"patch_15\">\r\n    <path clip-path=\"url(#p832bdb26f4)\" d=\"M 291.091701 333.36 \r\nL 303.952136 333.36 \r\nL 303.952136 153.227241 \r\nL 291.091701 153.227241 \r\nz\r\n\" style=\"fill:#ff0000;fill-opacity:0.3;stroke:#ff0000;stroke-linejoin:miter;\"/>\r\n   </g>\r\n   <g id=\"patch_16\">\r\n    <path clip-path=\"url(#p832bdb26f4)\" d=\"M 307.167245 333.36 \r\nL 320.02768 333.36 \r\nL 320.02768 333.36 \r\nL 307.167245 333.36 \r\nz\r\n\" style=\"fill:#ff0000;fill-opacity:0.3;stroke:#ff0000;stroke-linejoin:miter;\"/>\r\n   </g>\r\n   <g id=\"patch_17\">\r\n    <path clip-path=\"url(#p832bdb26f4)\" d=\"M 323.242789 333.36 \r\nL 336.103224 333.36 \r\nL 336.103224 325.011639 \r\nL 323.242789 325.011639 \r\nz\r\n\" style=\"fill:#ff0000;fill-opacity:0.3;stroke:#ff0000;stroke-linejoin:miter;\"/>\r\n   </g>\r\n   <g id=\"patch_18\">\r\n    <path clip-path=\"url(#p832bdb26f4)\" d=\"M 339.318333 333.36 \r\nL 352.178768 333.36 \r\nL 352.178768 333.226068 \r\nL 339.318333 333.226068 \r\nz\r\n\" style=\"fill:#ff0000;fill-opacity:0.3;stroke:#ff0000;stroke-linejoin:miter;\"/>\r\n   </g>\r\n   <g id=\"patch_19\">\r\n    <path clip-path=\"url(#p832bdb26f4)\" d=\"M 355.393877 333.36 \r\nL 368.254313 333.36 \r\nL 368.254313 332.722254 \r\nL 355.393877 332.722254 \r\nz\r\n\" style=\"fill:#ff0000;fill-opacity:0.3;stroke:#ff0000;stroke-linejoin:miter;\"/>\r\n   </g>\r\n   <g id=\"patch_20\">\r\n    <path clip-path=\"url(#p832bdb26f4)\" d=\"M 371.469421 333.36 \r\nL 384.329857 333.36 \r\nL 384.329857 332.754286 \r\nL 371.469421 332.754286 \r\nz\r\n\" style=\"fill:#ff0000;fill-opacity:0.3;stroke:#ff0000;stroke-linejoin:miter;\"/>\r\n   </g>\r\n   <g id=\"patch_21\">\r\n    <path clip-path=\"url(#p832bdb26f4)\" d=\"M 387.544966 333.36 \r\nL 400.405401 333.36 \r\nL 400.405401 333.36 \r\nL 387.544966 333.36 \r\nz\r\n\" style=\"fill:#ff0000;fill-opacity:0.3;stroke:#ff0000;stroke-linejoin:miter;\"/>\r\n   </g>\r\n   <g id=\"patch_22\">\r\n    <path clip-path=\"url(#p832bdb26f4)\" d=\"M 403.62051 333.36 \r\nL 416.480945 333.36 \r\nL 416.480945 320.249212 \r\nL 403.62051 320.249212 \r\nz\r\n\" style=\"fill:#ff0000;fill-opacity:0.3;stroke:#ff0000;stroke-linejoin:miter;\"/>\r\n   </g>\r\n   <g id=\"patch_23\">\r\n    <path clip-path=\"url(#p832bdb26f4)\" d=\"M 419.696054 333.36 \r\nL 432.556489 333.36 \r\nL 432.556489 332.360953 \r\nL 419.696054 332.360953 \r\nz\r\n\" style=\"fill:#ff0000;fill-opacity:0.3;stroke:#ff0000;stroke-linejoin:miter;\"/>\r\n   </g>\r\n   <g id=\"patch_24\">\r\n    <path clip-path=\"url(#p832bdb26f4)\" d=\"M 435.771598 333.36 \r\nL 448.632033 333.36 \r\nL 448.632033 332.207318 \r\nL 435.771598 332.207318 \r\nz\r\n\" style=\"fill:#ff0000;fill-opacity:0.3;stroke:#ff0000;stroke-linejoin:miter;\"/>\r\n   </g>\r\n   <g id=\"patch_25\">\r\n    <path clip-path=\"url(#p832bdb26f4)\" d=\"M 451.847142 333.36 \r\nL 464.707578 333.36 \r\nL 464.707578 333.335462 \r\nL 451.847142 333.335462 \r\nz\r\n\" style=\"fill:#ff0000;fill-opacity:0.3;stroke:#ff0000;stroke-linejoin:miter;\"/>\r\n   </g>\r\n   <g id=\"patch_26\">\r\n    <path clip-path=\"url(#p832bdb26f4)\" d=\"M 467.922686 333.36 \r\nL 480.783122 333.36 \r\nL 480.783122 333.36 \r\nL 467.922686 333.36 \r\nz\r\n\" style=\"fill:#ff0000;fill-opacity:0.3;stroke:#ff0000;stroke-linejoin:miter;\"/>\r\n   </g>\r\n   <g id=\"patch_27\">\r\n    <path clip-path=\"url(#p832bdb26f4)\" d=\"M 483.998231 333.36 \r\nL 496.858666 333.36 \r\nL 496.858666 31.868198 \r\nL 483.998231 31.868198 \r\nz\r\n\" style=\"fill:#ff0000;fill-opacity:0.3;stroke:#ff0000;stroke-linejoin:miter;\"/>\r\n   </g>\r\n   <g id=\"patch_28\">\r\n    <path clip-path=\"url(#p832bdb26f4)\" d=\"M 500.073775 333.36 \r\nL 512.93421 333.36 \r\nL 512.93421 333.294726 \r\nL 500.073775 333.294726 \r\nz\r\n\" style=\"fill:#ff0000;fill-opacity:0.3;stroke:#ff0000;stroke-linejoin:miter;\"/>\r\n   </g>\r\n   <g id=\"patch_29\">\r\n    <path clip-path=\"url(#p832bdb26f4)\" d=\"M 516.149319 333.36 \r\nL 529.009754 333.36 \r\nL 529.009754 333.36 \r\nL 516.149319 333.36 \r\nz\r\n\" style=\"fill:#ff0000;fill-opacity:0.3;stroke:#ff0000;stroke-linejoin:miter;\"/>\r\n   </g>\r\n   <g id=\"patch_30\">\r\n    <path clip-path=\"url(#p832bdb26f4)\" d=\"M 532.224863 333.36 \r\nL 545.085298 333.36 \r\nL 545.085298 333.355648 \r\nL 532.224863 333.355648 \r\nz\r\n\" style=\"fill:#ff0000;fill-opacity:0.3;stroke:#ff0000;stroke-linejoin:miter;\"/>\r\n   </g>\r\n   <g id=\"patch_31\">\r\n    <path clip-path=\"url(#p832bdb26f4)\" d=\"M 548.300407 333.36 \r\nL 561.160843 333.36 \r\nL 561.160843 333.350572 \r\nL 548.300407 333.350572 \r\nz\r\n\" style=\"fill:#ff0000;fill-opacity:0.3;stroke:#ff0000;stroke-linejoin:miter;\"/>\r\n   </g>\r\n   <g id=\"patch_32\">\r\n    <path clip-path=\"url(#p832bdb26f4)\" d=\"M 564.375952 333.36 \r\nL 577.236387 333.36 \r\nL 577.236387 333.222805 \r\nL 564.375952 333.222805 \r\nz\r\n\" style=\"fill:#ff0000;fill-opacity:0.3;stroke:#ff0000;stroke-linejoin:miter;\"/>\r\n   </g>\r\n   <g id=\"patch_33\">\r\n    <path clip-path=\"url(#p832bdb26f4)\" d=\"M 580.451496 333.36 \r\nL 593.311931 333.36 \r\nL 593.311931 333.36 \r\nL 580.451496 333.36 \r\nz\r\n\" style=\"fill:#ff0000;fill-opacity:0.3;stroke:#ff0000;stroke-linejoin:miter;\"/>\r\n   </g>\r\n   <g id=\"patch_34\">\r\n    <path clip-path=\"url(#p832bdb26f4)\" d=\"M 596.52704 333.36 \r\nL 609.387475 333.36 \r\nL 609.387475 333.36 \r\nL 596.52704 333.36 \r\nz\r\n\" style=\"fill:#ff0000;fill-opacity:0.3;stroke:#ff0000;stroke-linejoin:miter;\"/>\r\n   </g>\r\n   <g id=\"patch_35\">\r\n    <path clip-path=\"url(#p832bdb26f4)\" d=\"M 612.602584 333.36 \r\nL 625.463019 333.36 \r\nL 625.463019 333.36 \r\nL 612.602584 333.36 \r\nz\r\n\" style=\"fill:#ff0000;fill-opacity:0.3;stroke:#ff0000;stroke-linejoin:miter;\"/>\r\n   </g>\r\n   <g id=\"patch_36\">\r\n    <path clip-path=\"url(#p832bdb26f4)\" d=\"M 628.678128 333.36 \r\nL 641.538564 333.36 \r\nL 641.538564 333.218091 \r\nL 628.678128 333.218091 \r\nz\r\n\" style=\"fill:#ff0000;fill-opacity:0.3;stroke:#ff0000;stroke-linejoin:miter;\"/>\r\n   </g>\r\n   <g id=\"patch_37\">\r\n    <path clip-path=\"url(#p832bdb26f4)\" d=\"M 644.753672 333.36 \r\nL 657.614108 333.36 \r\nL 657.614108 333.36 \r\nL 644.753672 333.36 \r\nz\r\n\" style=\"fill:#ff0000;fill-opacity:0.3;stroke:#ff0000;stroke-linejoin:miter;\"/>\r\n   </g>\r\n   <g id=\"patch_38\">\r\n    <path clip-path=\"url(#p832bdb26f4)\" d=\"M 660.829217 333.36 \r\nL 673.689652 333.36 \r\nL 673.689652 333.356495 \r\nL 660.829217 333.356495 \r\nz\r\n\" style=\"fill:#ff0000;fill-opacity:0.3;stroke:#ff0000;stroke-linejoin:miter;\"/>\r\n   </g>\r\n   <g id=\"patch_39\">\r\n    <path clip-path=\"url(#p832bdb26f4)\" d=\"M 709.055849 333.36 \r\nL 721.916284 333.36 \r\nL 721.916284 333.36 \r\nL 709.055849 333.36 \r\nz\r\n\" style=\"fill:#ff0000;fill-opacity:0.3;stroke:#ff0000;stroke-linejoin:miter;\"/>\r\n   </g>\r\n   <g id=\"patch_40\">\r\n    <path clip-path=\"url(#p832bdb26f4)\" d=\"M 725.131393 333.36 \r\nL 737.991829 333.36 \r\nL 737.991829 333.36 \r\nL 725.131393 333.36 \r\nz\r\n\" style=\"fill:#ff0000;fill-opacity:0.3;stroke:#ff0000;stroke-linejoin:miter;\"/>\r\n   </g>\r\n   <g id=\"patch_41\">\r\n    <path clip-path=\"url(#p832bdb26f4)\" d=\"M 741.206937 333.36 \r\nL 754.067373 333.36 \r\nL 754.067373 333.36 \r\nL 741.206937 333.36 \r\nz\r\n\" style=\"fill:#ff0000;fill-opacity:0.3;stroke:#ff0000;stroke-linejoin:miter;\"/>\r\n   </g>\r\n   <g id=\"patch_42\">\r\n    <path clip-path=\"url(#p832bdb26f4)\" d=\"M 757.282482 333.36 \r\nL 770.142917 333.36 \r\nL 770.142917 333.36 \r\nL 757.282482 333.36 \r\nz\r\n\" style=\"fill:#ff0000;fill-opacity:0.3;stroke:#ff0000;stroke-linejoin:miter;\"/>\r\n   </g>\r\n   <g id=\"patch_43\">\r\n    <path clip-path=\"url(#p832bdb26f4)\" d=\"M 773.358026 333.36 \r\nL 786.218461 333.36 \r\nL 786.218461 333.36 \r\nL 773.358026 333.36 \r\nz\r\n\" style=\"fill:#ff0000;fill-opacity:0.3;stroke:#ff0000;stroke-linejoin:miter;\"/>\r\n   </g>\r\n   <g id=\"patch_44\">\r\n    <path clip-path=\"url(#p832bdb26f4)\" d=\"M 789.43357 333.36 \r\nL 802.294005 333.36 \r\nL 802.294005 333.36 \r\nL 789.43357 333.36 \r\nz\r\n\" style=\"fill:#ff0000;fill-opacity:0.3;stroke:#ff0000;stroke-linejoin:miter;\"/>\r\n   </g>\r\n   <g id=\"patch_45\">\r\n    <path clip-path=\"url(#p832bdb26f4)\" d=\"M 805.509114 333.36 \r\nL 818.369549 333.36 \r\nL 818.369549 333.36 \r\nL 805.509114 333.36 \r\nz\r\n\" style=\"fill:#ff0000;fill-opacity:0.3;stroke:#ff0000;stroke-linejoin:miter;\"/>\r\n   </g>\r\n   <g id=\"patch_46\">\r\n    <path clip-path=\"url(#p832bdb26f4)\" d=\"M 821.584658 333.36 \r\nL 834.445094 333.36 \r\nL 834.445094 333.36 \r\nL 821.584658 333.36 \r\nz\r\n\" style=\"fill:#ff0000;fill-opacity:0.3;stroke:#ff0000;stroke-linejoin:miter;\"/>\r\n   </g>\r\n   <g id=\"patch_47\">\r\n    <path clip-path=\"url(#p832bdb26f4)\" d=\"M 837.660202 333.36 \r\nL 850.520638 333.36 \r\nL 850.520638 333.36 \r\nL 837.660202 333.36 \r\nz\r\n\" style=\"fill:#ff0000;fill-opacity:0.3;stroke:#ff0000;stroke-linejoin:miter;\"/>\r\n   </g>\r\n   <g id=\"patch_48\">\r\n    <path clip-path=\"url(#p832bdb26f4)\" d=\"M 853.735747 333.36 \r\nL 866.596182 333.36 \r\nL 866.596182 333.36 \r\nL 853.735747 333.36 \r\nz\r\n\" style=\"fill:#ff0000;fill-opacity:0.3;stroke:#ff0000;stroke-linejoin:miter;\"/>\r\n   </g>\r\n   <g id=\"patch_49\">\r\n    <path clip-path=\"url(#p832bdb26f4)\" d=\"M 869.811291 333.36 \r\nL 882.671726 333.36 \r\nL 882.671726 333.36 \r\nL 869.811291 333.36 \r\nz\r\n\" style=\"fill:#ff0000;fill-opacity:0.3;stroke:#ff0000;stroke-linejoin:miter;\"/>\r\n   </g>\r\n   <g id=\"patch_50\">\r\n    <path clip-path=\"url(#p832bdb26f4)\" d=\"M 885.886835 333.36 \r\nL 898.74727 333.36 \r\nL 898.74727 333.282639 \r\nL 885.886835 333.282639 \r\nz\r\n\" style=\"fill:#ff0000;fill-opacity:0.3;stroke:#ff0000;stroke-linejoin:miter;\"/>\r\n   </g>\r\n   <g id=\"patch_51\">\r\n    <path clip-path=\"url(#p832bdb26f4)\" d=\"M 901.962379 333.36 \r\nL 914.822815 333.36 \r\nL 914.822815 333.309957 \r\nL 901.962379 333.309957 \r\nz\r\n\" style=\"fill:#ff0000;fill-opacity:0.3;stroke:#ff0000;stroke-linejoin:miter;\"/>\r\n   </g>\r\n   <g id=\"patch_52\">\r\n    <path clip-path=\"url(#p832bdb26f4)\" d=\"M 918.037923 333.36 \r\nL 930.898359 333.36 \r\nL 930.898359 290.79708 \r\nL 918.037923 290.79708 \r\nz\r\n\" style=\"fill:#ff0000;fill-opacity:0.3;stroke:#ff0000;stroke-linejoin:miter;\"/>\r\n   </g>\r\n   <g id=\"patch_53\">\r\n    <path clip-path=\"url(#p832bdb26f4)\" d=\"M 934.113468 333.36 \r\nL 946.973903 333.36 \r\nL 946.973903 285.197459 \r\nL 934.113468 285.197459 \r\nz\r\n\" style=\"fill:#ff0000;fill-opacity:0.3;stroke:#ff0000;stroke-linejoin:miter;\"/>\r\n   </g>\r\n   <g id=\"patch_54\">\r\n    <path clip-path=\"url(#p832bdb26f4)\" d=\"M 950.189012 333.36 \r\nL 963.049447 333.36 \r\nL 963.049447 291.245171 \r\nL 950.189012 291.245171 \r\nz\r\n\" style=\"fill:#ff0000;fill-opacity:0.3;stroke:#ff0000;stroke-linejoin:miter;\"/>\r\n   </g>\r\n   <g id=\"patch_55\">\r\n    <path clip-path=\"url(#p832bdb26f4)\" d=\"M 966.264556 333.36 \r\nL 979.124991 333.36 \r\nL 979.124991 286.230594 \r\nL 966.264556 286.230594 \r\nz\r\n\" style=\"fill:#ff0000;fill-opacity:0.3;stroke:#ff0000;stroke-linejoin:miter;\"/>\r\n   </g>\r\n   <g id=\"patch_56\">\r\n    <path clip-path=\"url(#p832bdb26f4)\" d=\"M 982.3401 333.36 \r\nL 995.200535 333.36 \r\nL 995.200535 333.36 \r\nL 982.3401 333.36 \r\nz\r\n\" style=\"fill:#ff0000;fill-opacity:0.3;stroke:#ff0000;stroke-linejoin:miter;\"/>\r\n   </g>\r\n   <g id=\"patch_57\">\r\n    <path clip-path=\"url(#p832bdb26f4)\" d=\"M 998.415644 333.36 \r\nL 1011.27608 333.36 \r\nL 1011.27608 333.358429 \r\nL 998.415644 333.358429 \r\nz\r\n\" style=\"fill:#ff0000;fill-opacity:0.3;stroke:#ff0000;stroke-linejoin:miter;\"/>\r\n   </g>\r\n   <g id=\"matplotlib.axis_1\">\r\n    <g id=\"xtick_1\">\r\n     <g id=\"line2d_1\">\r\n      <defs>\r\n       <path d=\"M 0 0 \r\nL 0 -3.5 \r\n\" id=\"mda84aa6e42\" style=\"stroke:#000000;stroke-width:0.8;\"/>\r\n      </defs>\r\n      <g>\r\n       <use style=\"stroke:#000000;stroke-width:0.8;\" x=\"104.615388\" xlink:href=\"#mda84aa6e42\" y=\"333.36\"/>\r\n      </g>\r\n     </g>\r\n     <g id=\"text_1\">\r\n      <!-- 5 -->\r\n      <g transform=\"translate(101.434138 344.458437)scale(0.1 -0.1)\">\r\n       <defs>\r\n        <path d=\"M 10.796875 72.90625 \r\nL 49.515625 72.90625 \r\nL 49.515625 64.59375 \r\nL 19.828125 64.59375 \r\nL 19.828125 46.734375 \r\nQ 21.96875 47.46875 24.109375 47.828125 \r\nQ 26.265625 48.1875 28.421875 48.1875 \r\nQ 40.625 48.1875 47.75 41.5 \r\nQ 54.890625 34.8125 54.890625 23.390625 \r\nQ 54.890625 11.625 47.5625 5.09375 \r\nQ 40.234375 -1.421875 26.90625 -1.421875 \r\nQ 22.3125 -1.421875 17.546875 -0.640625 \r\nQ 12.796875 0.140625 7.71875 1.703125 \r\nL 7.71875 11.625 \r\nQ 12.109375 9.234375 16.796875 8.0625 \r\nQ 21.484375 6.890625 26.703125 6.890625 \r\nQ 35.15625 6.890625 40.078125 11.328125 \r\nQ 45.015625 15.765625 45.015625 23.390625 \r\nQ 45.015625 31 40.078125 35.4375 \r\nQ 35.15625 39.890625 26.703125 39.890625 \r\nQ 22.75 39.890625 18.8125 39.015625 \r\nQ 14.890625 38.140625 10.796875 36.28125 \r\nz\r\n\" id=\"DejaVuSans-53\"/>\r\n       </defs>\r\n       <use xlink:href=\"#DejaVuSans-53\"/>\r\n      </g>\r\n     </g>\r\n    </g>\r\n    <g id=\"xtick_2\">\r\n     <g id=\"line2d_2\">\r\n      <g>\r\n       <use style=\"stroke:#000000;stroke-width:0.8;\" x=\"184.993109\" xlink:href=\"#mda84aa6e42\" y=\"333.36\"/>\r\n      </g>\r\n     </g>\r\n     <g id=\"text_2\">\r\n      <!-- 10 -->\r\n      <g transform=\"translate(178.630609 344.458437)scale(0.1 -0.1)\">\r\n       <defs>\r\n        <path d=\"M 12.40625 8.296875 \r\nL 28.515625 8.296875 \r\nL 28.515625 63.921875 \r\nL 10.984375 60.40625 \r\nL 10.984375 69.390625 \r\nL 28.421875 72.90625 \r\nL 38.28125 72.90625 \r\nL 38.28125 8.296875 \r\nL 54.390625 8.296875 \r\nL 54.390625 0 \r\nL 12.40625 0 \r\nz\r\n\" id=\"DejaVuSans-49\"/>\r\n        <path d=\"M 31.78125 66.40625 \r\nQ 24.171875 66.40625 20.328125 58.90625 \r\nQ 16.5 51.421875 16.5 36.375 \r\nQ 16.5 21.390625 20.328125 13.890625 \r\nQ 24.171875 6.390625 31.78125 6.390625 \r\nQ 39.453125 6.390625 43.28125 13.890625 \r\nQ 47.125 21.390625 47.125 36.375 \r\nQ 47.125 51.421875 43.28125 58.90625 \r\nQ 39.453125 66.40625 31.78125 66.40625 \r\nz\r\nM 31.78125 74.21875 \r\nQ 44.046875 74.21875 50.515625 64.515625 \r\nQ 56.984375 54.828125 56.984375 36.375 \r\nQ 56.984375 17.96875 50.515625 8.265625 \r\nQ 44.046875 -1.421875 31.78125 -1.421875 \r\nQ 19.53125 -1.421875 13.0625 8.265625 \r\nQ 6.59375 17.96875 6.59375 36.375 \r\nQ 6.59375 54.828125 13.0625 64.515625 \r\nQ 19.53125 74.21875 31.78125 74.21875 \r\nz\r\n\" id=\"DejaVuSans-48\"/>\r\n       </defs>\r\n       <use xlink:href=\"#DejaVuSans-49\"/>\r\n       <use x=\"63.623047\" xlink:href=\"#DejaVuSans-48\"/>\r\n      </g>\r\n     </g>\r\n    </g>\r\n    <g id=\"xtick_3\">\r\n     <g id=\"line2d_3\">\r\n      <g>\r\n       <use style=\"stroke:#000000;stroke-width:0.8;\" x=\"265.37083\" xlink:href=\"#mda84aa6e42\" y=\"333.36\"/>\r\n      </g>\r\n     </g>\r\n     <g id=\"text_3\">\r\n      <!-- 15 -->\r\n      <g transform=\"translate(259.00833 344.458437)scale(0.1 -0.1)\">\r\n       <use xlink:href=\"#DejaVuSans-49\"/>\r\n       <use x=\"63.623047\" xlink:href=\"#DejaVuSans-53\"/>\r\n      </g>\r\n     </g>\r\n    </g>\r\n    <g id=\"xtick_4\">\r\n     <g id=\"line2d_4\">\r\n      <g>\r\n       <use style=\"stroke:#000000;stroke-width:0.8;\" x=\"345.748551\" xlink:href=\"#mda84aa6e42\" y=\"333.36\"/>\r\n      </g>\r\n     </g>\r\n     <g id=\"text_4\">\r\n      <!-- 20 -->\r\n      <g transform=\"translate(339.386051 344.458437)scale(0.1 -0.1)\">\r\n       <defs>\r\n        <path d=\"M 19.1875 8.296875 \r\nL 53.609375 8.296875 \r\nL 53.609375 0 \r\nL 7.328125 0 \r\nL 7.328125 8.296875 \r\nQ 12.9375 14.109375 22.625 23.890625 \r\nQ 32.328125 33.6875 34.8125 36.53125 \r\nQ 39.546875 41.84375 41.421875 45.53125 \r\nQ 43.3125 49.21875 43.3125 52.78125 \r\nQ 43.3125 58.59375 39.234375 62.25 \r\nQ 35.15625 65.921875 28.609375 65.921875 \r\nQ 23.96875 65.921875 18.8125 64.3125 \r\nQ 13.671875 62.703125 7.8125 59.421875 \r\nL 7.8125 69.390625 \r\nQ 13.765625 71.78125 18.9375 73 \r\nQ 24.125 74.21875 28.421875 74.21875 \r\nQ 39.75 74.21875 46.484375 68.546875 \r\nQ 53.21875 62.890625 53.21875 53.421875 \r\nQ 53.21875 48.921875 51.53125 44.890625 \r\nQ 49.859375 40.875 45.40625 35.40625 \r\nQ 44.1875 33.984375 37.640625 27.21875 \r\nQ 31.109375 20.453125 19.1875 8.296875 \r\nz\r\n\" id=\"DejaVuSans-50\"/>\r\n       </defs>\r\n       <use xlink:href=\"#DejaVuSans-50\"/>\r\n       <use x=\"63.623047\" xlink:href=\"#DejaVuSans-48\"/>\r\n      </g>\r\n     </g>\r\n    </g>\r\n    <g id=\"xtick_5\">\r\n     <g id=\"line2d_5\">\r\n      <g>\r\n       <use style=\"stroke:#000000;stroke-width:0.8;\" x=\"426.126272\" xlink:href=\"#mda84aa6e42\" y=\"333.36\"/>\r\n      </g>\r\n     </g>\r\n     <g id=\"text_5\">\r\n      <!-- 25 -->\r\n      <g transform=\"translate(419.763772 344.458437)scale(0.1 -0.1)\">\r\n       <use xlink:href=\"#DejaVuSans-50\"/>\r\n       <use x=\"63.623047\" xlink:href=\"#DejaVuSans-53\"/>\r\n      </g>\r\n     </g>\r\n    </g>\r\n    <g id=\"xtick_6\">\r\n     <g id=\"line2d_6\">\r\n      <g>\r\n       <use style=\"stroke:#000000;stroke-width:0.8;\" x=\"506.503992\" xlink:href=\"#mda84aa6e42\" y=\"333.36\"/>\r\n      </g>\r\n     </g>\r\n     <g id=\"text_6\">\r\n      <!-- 30 -->\r\n      <g transform=\"translate(500.141492 344.458437)scale(0.1 -0.1)\">\r\n       <defs>\r\n        <path d=\"M 40.578125 39.3125 \r\nQ 47.65625 37.796875 51.625 33 \r\nQ 55.609375 28.21875 55.609375 21.1875 \r\nQ 55.609375 10.40625 48.1875 4.484375 \r\nQ 40.765625 -1.421875 27.09375 -1.421875 \r\nQ 22.515625 -1.421875 17.65625 -0.515625 \r\nQ 12.796875 0.390625 7.625 2.203125 \r\nL 7.625 11.71875 \r\nQ 11.71875 9.328125 16.59375 8.109375 \r\nQ 21.484375 6.890625 26.8125 6.890625 \r\nQ 36.078125 6.890625 40.9375 10.546875 \r\nQ 45.796875 14.203125 45.796875 21.1875 \r\nQ 45.796875 27.640625 41.28125 31.265625 \r\nQ 36.765625 34.90625 28.71875 34.90625 \r\nL 20.21875 34.90625 \r\nL 20.21875 43.015625 \r\nL 29.109375 43.015625 \r\nQ 36.375 43.015625 40.234375 45.921875 \r\nQ 44.09375 48.828125 44.09375 54.296875 \r\nQ 44.09375 59.90625 40.109375 62.90625 \r\nQ 36.140625 65.921875 28.71875 65.921875 \r\nQ 24.65625 65.921875 20.015625 65.03125 \r\nQ 15.375 64.15625 9.8125 62.3125 \r\nL 9.8125 71.09375 \r\nQ 15.4375 72.65625 20.34375 73.4375 \r\nQ 25.25 74.21875 29.59375 74.21875 \r\nQ 40.828125 74.21875 47.359375 69.109375 \r\nQ 53.90625 64.015625 53.90625 55.328125 \r\nQ 53.90625 49.265625 50.4375 45.09375 \r\nQ 46.96875 40.921875 40.578125 39.3125 \r\nz\r\n\" id=\"DejaVuSans-51\"/>\r\n       </defs>\r\n       <use xlink:href=\"#DejaVuSans-51\"/>\r\n       <use x=\"63.623047\" xlink:href=\"#DejaVuSans-48\"/>\r\n      </g>\r\n     </g>\r\n    </g>\r\n    <g id=\"xtick_7\">\r\n     <g id=\"line2d_7\">\r\n      <g>\r\n       <use style=\"stroke:#000000;stroke-width:0.8;\" x=\"586.881713\" xlink:href=\"#mda84aa6e42\" y=\"333.36\"/>\r\n      </g>\r\n     </g>\r\n     <g id=\"text_7\">\r\n      <!-- 35 -->\r\n      <g transform=\"translate(580.519213 344.458437)scale(0.1 -0.1)\">\r\n       <use xlink:href=\"#DejaVuSans-51\"/>\r\n       <use x=\"63.623047\" xlink:href=\"#DejaVuSans-53\"/>\r\n      </g>\r\n     </g>\r\n    </g>\r\n    <g id=\"xtick_8\">\r\n     <g id=\"line2d_8\">\r\n      <g>\r\n       <use style=\"stroke:#000000;stroke-width:0.8;\" x=\"667.259434\" xlink:href=\"#mda84aa6e42\" y=\"333.36\"/>\r\n      </g>\r\n     </g>\r\n     <g id=\"text_8\">\r\n      <!-- 40 -->\r\n      <g transform=\"translate(660.896934 344.458437)scale(0.1 -0.1)\">\r\n       <defs>\r\n        <path d=\"M 37.796875 64.3125 \r\nL 12.890625 25.390625 \r\nL 37.796875 25.390625 \r\nz\r\nM 35.203125 72.90625 \r\nL 47.609375 72.90625 \r\nL 47.609375 25.390625 \r\nL 58.015625 25.390625 \r\nL 58.015625 17.1875 \r\nL 47.609375 17.1875 \r\nL 47.609375 0 \r\nL 37.796875 0 \r\nL 37.796875 17.1875 \r\nL 4.890625 17.1875 \r\nL 4.890625 26.703125 \r\nz\r\n\" id=\"DejaVuSans-52\"/>\r\n       </defs>\r\n       <use xlink:href=\"#DejaVuSans-52\"/>\r\n       <use x=\"63.623047\" xlink:href=\"#DejaVuSans-48\"/>\r\n      </g>\r\n     </g>\r\n    </g>\r\n    <g id=\"xtick_9\">\r\n     <g id=\"line2d_9\">\r\n      <g>\r\n       <use style=\"stroke:#000000;stroke-width:0.8;\" x=\"747.637155\" xlink:href=\"#mda84aa6e42\" y=\"333.36\"/>\r\n      </g>\r\n     </g>\r\n     <g id=\"text_9\">\r\n      <!-- 45 -->\r\n      <g transform=\"translate(741.274655 344.458437)scale(0.1 -0.1)\">\r\n       <use xlink:href=\"#DejaVuSans-52\"/>\r\n       <use x=\"63.623047\" xlink:href=\"#DejaVuSans-53\"/>\r\n      </g>\r\n     </g>\r\n    </g>\r\n    <g id=\"xtick_10\">\r\n     <g id=\"line2d_10\">\r\n      <g>\r\n       <use style=\"stroke:#000000;stroke-width:0.8;\" x=\"828.014876\" xlink:href=\"#mda84aa6e42\" y=\"333.36\"/>\r\n      </g>\r\n     </g>\r\n     <g id=\"text_10\">\r\n      <!-- 50 -->\r\n      <g transform=\"translate(821.652376 344.458437)scale(0.1 -0.1)\">\r\n       <use xlink:href=\"#DejaVuSans-53\"/>\r\n       <use x=\"63.623047\" xlink:href=\"#DejaVuSans-48\"/>\r\n      </g>\r\n     </g>\r\n    </g>\r\n    <g id=\"xtick_11\">\r\n     <g id=\"line2d_11\">\r\n      <g>\r\n       <use style=\"stroke:#000000;stroke-width:0.8;\" x=\"908.392597\" xlink:href=\"#mda84aa6e42\" y=\"333.36\"/>\r\n      </g>\r\n     </g>\r\n     <g id=\"text_11\">\r\n      <!-- 55 -->\r\n      <g transform=\"translate(902.030097 344.458437)scale(0.1 -0.1)\">\r\n       <use xlink:href=\"#DejaVuSans-53\"/>\r\n       <use x=\"63.623047\" xlink:href=\"#DejaVuSans-53\"/>\r\n      </g>\r\n     </g>\r\n    </g>\r\n    <g id=\"xtick_12\">\r\n     <g id=\"line2d_12\">\r\n      <g>\r\n       <use style=\"stroke:#000000;stroke-width:0.8;\" x=\"988.770318\" xlink:href=\"#mda84aa6e42\" y=\"333.36\"/>\r\n      </g>\r\n     </g>\r\n     <g id=\"text_12\">\r\n      <!-- 60 -->\r\n      <g transform=\"translate(982.407818 344.458437)scale(0.1 -0.1)\">\r\n       <defs>\r\n        <path d=\"M 33.015625 40.375 \r\nQ 26.375 40.375 22.484375 35.828125 \r\nQ 18.609375 31.296875 18.609375 23.390625 \r\nQ 18.609375 15.53125 22.484375 10.953125 \r\nQ 26.375 6.390625 33.015625 6.390625 \r\nQ 39.65625 6.390625 43.53125 10.953125 \r\nQ 47.40625 15.53125 47.40625 23.390625 \r\nQ 47.40625 31.296875 43.53125 35.828125 \r\nQ 39.65625 40.375 33.015625 40.375 \r\nz\r\nM 52.59375 71.296875 \r\nL 52.59375 62.3125 \r\nQ 48.875 64.0625 45.09375 64.984375 \r\nQ 41.3125 65.921875 37.59375 65.921875 \r\nQ 27.828125 65.921875 22.671875 59.328125 \r\nQ 17.53125 52.734375 16.796875 39.40625 \r\nQ 19.671875 43.65625 24.015625 45.921875 \r\nQ 28.375 48.1875 33.59375 48.1875 \r\nQ 44.578125 48.1875 50.953125 41.515625 \r\nQ 57.328125 34.859375 57.328125 23.390625 \r\nQ 57.328125 12.15625 50.6875 5.359375 \r\nQ 44.046875 -1.421875 33.015625 -1.421875 \r\nQ 20.359375 -1.421875 13.671875 8.265625 \r\nQ 6.984375 17.96875 6.984375 36.375 \r\nQ 6.984375 53.65625 15.1875 63.9375 \r\nQ 23.390625 74.21875 37.203125 74.21875 \r\nQ 40.921875 74.21875 44.703125 73.484375 \r\nQ 48.484375 72.75 52.59375 71.296875 \r\nz\r\n\" id=\"DejaVuSans-54\"/>\r\n       </defs>\r\n       <use xlink:href=\"#DejaVuSans-54\"/>\r\n       <use x=\"63.623047\" xlink:href=\"#DejaVuSans-48\"/>\r\n      </g>\r\n     </g>\r\n    </g>\r\n    <g id=\"xtick_13\">\r\n     <g id=\"line2d_13\">\r\n      <defs>\r\n       <path d=\"M 0 0 \r\nL 0 -2 \r\n\" id=\"m7eb71401e4\" style=\"stroke:#000000;stroke-width:0.6;\"/>\r\n      </defs>\r\n      <g>\r\n       <use style=\"stroke:#000000;stroke-width:0.6;\" x=\"56.388756\" xlink:href=\"#m7eb71401e4\" y=\"333.36\"/>\r\n      </g>\r\n     </g>\r\n    </g>\r\n    <g id=\"xtick_14\">\r\n     <g id=\"line2d_14\">\r\n      <g>\r\n       <use style=\"stroke:#000000;stroke-width:0.6;\" x=\"72.4643\" xlink:href=\"#m7eb71401e4\" y=\"333.36\"/>\r\n      </g>\r\n     </g>\r\n    </g>\r\n    <g id=\"xtick_15\">\r\n     <g id=\"line2d_15\">\r\n      <g>\r\n       <use style=\"stroke:#000000;stroke-width:0.6;\" x=\"88.539844\" xlink:href=\"#m7eb71401e4\" y=\"333.36\"/>\r\n      </g>\r\n     </g>\r\n    </g>\r\n    <g id=\"xtick_16\">\r\n     <g id=\"line2d_16\">\r\n      <g>\r\n       <use style=\"stroke:#000000;stroke-width:0.6;\" x=\"120.690932\" xlink:href=\"#m7eb71401e4\" y=\"333.36\"/>\r\n      </g>\r\n     </g>\r\n    </g>\r\n    <g id=\"xtick_17\">\r\n     <g id=\"line2d_17\">\r\n      <g>\r\n       <use style=\"stroke:#000000;stroke-width:0.6;\" x=\"136.766476\" xlink:href=\"#m7eb71401e4\" y=\"333.36\"/>\r\n      </g>\r\n     </g>\r\n    </g>\r\n    <g id=\"xtick_18\">\r\n     <g id=\"line2d_18\">\r\n      <g>\r\n       <use style=\"stroke:#000000;stroke-width:0.6;\" x=\"152.842021\" xlink:href=\"#m7eb71401e4\" y=\"333.36\"/>\r\n      </g>\r\n     </g>\r\n    </g>\r\n    <g id=\"xtick_19\">\r\n     <g id=\"line2d_19\">\r\n      <g>\r\n       <use style=\"stroke:#000000;stroke-width:0.6;\" x=\"168.917565\" xlink:href=\"#m7eb71401e4\" y=\"333.36\"/>\r\n      </g>\r\n     </g>\r\n    </g>\r\n    <g id=\"xtick_20\">\r\n     <g id=\"line2d_20\">\r\n      <g>\r\n       <use style=\"stroke:#000000;stroke-width:0.6;\" x=\"201.068653\" xlink:href=\"#m7eb71401e4\" y=\"333.36\"/>\r\n      </g>\r\n     </g>\r\n    </g>\r\n    <g id=\"xtick_21\">\r\n     <g id=\"line2d_21\">\r\n      <g>\r\n       <use style=\"stroke:#000000;stroke-width:0.6;\" x=\"217.144197\" xlink:href=\"#m7eb71401e4\" y=\"333.36\"/>\r\n      </g>\r\n     </g>\r\n    </g>\r\n    <g id=\"xtick_22\">\r\n     <g id=\"line2d_22\">\r\n      <g>\r\n       <use style=\"stroke:#000000;stroke-width:0.6;\" x=\"233.219742\" xlink:href=\"#m7eb71401e4\" y=\"333.36\"/>\r\n      </g>\r\n     </g>\r\n    </g>\r\n    <g id=\"xtick_23\">\r\n     <g id=\"line2d_23\">\r\n      <g>\r\n       <use style=\"stroke:#000000;stroke-width:0.6;\" x=\"249.295286\" xlink:href=\"#m7eb71401e4\" y=\"333.36\"/>\r\n      </g>\r\n     </g>\r\n    </g>\r\n    <g id=\"xtick_24\">\r\n     <g id=\"line2d_24\">\r\n      <g>\r\n       <use style=\"stroke:#000000;stroke-width:0.6;\" x=\"281.446374\" xlink:href=\"#m7eb71401e4\" y=\"333.36\"/>\r\n      </g>\r\n     </g>\r\n    </g>\r\n    <g id=\"xtick_25\">\r\n     <g id=\"line2d_25\">\r\n      <g>\r\n       <use style=\"stroke:#000000;stroke-width:0.6;\" x=\"297.521918\" xlink:href=\"#m7eb71401e4\" y=\"333.36\"/>\r\n      </g>\r\n     </g>\r\n    </g>\r\n    <g id=\"xtick_26\">\r\n     <g id=\"line2d_26\">\r\n      <g>\r\n       <use style=\"stroke:#000000;stroke-width:0.6;\" x=\"313.597462\" xlink:href=\"#m7eb71401e4\" y=\"333.36\"/>\r\n      </g>\r\n     </g>\r\n    </g>\r\n    <g id=\"xtick_27\">\r\n     <g id=\"line2d_27\">\r\n      <g>\r\n       <use style=\"stroke:#000000;stroke-width:0.6;\" x=\"329.673007\" xlink:href=\"#m7eb71401e4\" y=\"333.36\"/>\r\n      </g>\r\n     </g>\r\n    </g>\r\n    <g id=\"xtick_28\">\r\n     <g id=\"line2d_28\">\r\n      <g>\r\n       <use style=\"stroke:#000000;stroke-width:0.6;\" x=\"361.824095\" xlink:href=\"#m7eb71401e4\" y=\"333.36\"/>\r\n      </g>\r\n     </g>\r\n    </g>\r\n    <g id=\"xtick_29\">\r\n     <g id=\"line2d_29\">\r\n      <g>\r\n       <use style=\"stroke:#000000;stroke-width:0.6;\" x=\"377.899639\" xlink:href=\"#m7eb71401e4\" y=\"333.36\"/>\r\n      </g>\r\n     </g>\r\n    </g>\r\n    <g id=\"xtick_30\">\r\n     <g id=\"line2d_30\">\r\n      <g>\r\n       <use style=\"stroke:#000000;stroke-width:0.6;\" x=\"393.975183\" xlink:href=\"#m7eb71401e4\" y=\"333.36\"/>\r\n      </g>\r\n     </g>\r\n    </g>\r\n    <g id=\"xtick_31\">\r\n     <g id=\"line2d_31\">\r\n      <g>\r\n       <use style=\"stroke:#000000;stroke-width:0.6;\" x=\"410.050727\" xlink:href=\"#m7eb71401e4\" y=\"333.36\"/>\r\n      </g>\r\n     </g>\r\n    </g>\r\n    <g id=\"xtick_32\">\r\n     <g id=\"line2d_32\">\r\n      <g>\r\n       <use style=\"stroke:#000000;stroke-width:0.6;\" x=\"442.201816\" xlink:href=\"#m7eb71401e4\" y=\"333.36\"/>\r\n      </g>\r\n     </g>\r\n    </g>\r\n    <g id=\"xtick_33\">\r\n     <g id=\"line2d_33\">\r\n      <g>\r\n       <use style=\"stroke:#000000;stroke-width:0.6;\" x=\"458.27736\" xlink:href=\"#m7eb71401e4\" y=\"333.36\"/>\r\n      </g>\r\n     </g>\r\n    </g>\r\n    <g id=\"xtick_34\">\r\n     <g id=\"line2d_34\">\r\n      <g>\r\n       <use style=\"stroke:#000000;stroke-width:0.6;\" x=\"474.352904\" xlink:href=\"#m7eb71401e4\" y=\"333.36\"/>\r\n      </g>\r\n     </g>\r\n    </g>\r\n    <g id=\"xtick_35\">\r\n     <g id=\"line2d_35\">\r\n      <g>\r\n       <use style=\"stroke:#000000;stroke-width:0.6;\" x=\"490.428448\" xlink:href=\"#m7eb71401e4\" y=\"333.36\"/>\r\n      </g>\r\n     </g>\r\n    </g>\r\n    <g id=\"xtick_36\">\r\n     <g id=\"line2d_36\">\r\n      <g>\r\n       <use style=\"stroke:#000000;stroke-width:0.6;\" x=\"522.579537\" xlink:href=\"#m7eb71401e4\" y=\"333.36\"/>\r\n      </g>\r\n     </g>\r\n    </g>\r\n    <g id=\"xtick_37\">\r\n     <g id=\"line2d_37\">\r\n      <g>\r\n       <use style=\"stroke:#000000;stroke-width:0.6;\" x=\"538.655081\" xlink:href=\"#m7eb71401e4\" y=\"333.36\"/>\r\n      </g>\r\n     </g>\r\n    </g>\r\n    <g id=\"xtick_38\">\r\n     <g id=\"line2d_38\">\r\n      <g>\r\n       <use style=\"stroke:#000000;stroke-width:0.6;\" x=\"554.730625\" xlink:href=\"#m7eb71401e4\" y=\"333.36\"/>\r\n      </g>\r\n     </g>\r\n    </g>\r\n    <g id=\"xtick_39\">\r\n     <g id=\"line2d_39\">\r\n      <g>\r\n       <use style=\"stroke:#000000;stroke-width:0.6;\" x=\"570.806169\" xlink:href=\"#m7eb71401e4\" y=\"333.36\"/>\r\n      </g>\r\n     </g>\r\n    </g>\r\n    <g id=\"xtick_40\">\r\n     <g id=\"line2d_40\">\r\n      <g>\r\n       <use style=\"stroke:#000000;stroke-width:0.6;\" x=\"602.957258\" xlink:href=\"#m7eb71401e4\" y=\"333.36\"/>\r\n      </g>\r\n     </g>\r\n    </g>\r\n    <g id=\"xtick_41\">\r\n     <g id=\"line2d_41\">\r\n      <g>\r\n       <use style=\"stroke:#000000;stroke-width:0.6;\" x=\"619.032802\" xlink:href=\"#m7eb71401e4\" y=\"333.36\"/>\r\n      </g>\r\n     </g>\r\n    </g>\r\n    <g id=\"xtick_42\">\r\n     <g id=\"line2d_42\">\r\n      <g>\r\n       <use style=\"stroke:#000000;stroke-width:0.6;\" x=\"635.108346\" xlink:href=\"#m7eb71401e4\" y=\"333.36\"/>\r\n      </g>\r\n     </g>\r\n    </g>\r\n    <g id=\"xtick_43\">\r\n     <g id=\"line2d_43\">\r\n      <g>\r\n       <use style=\"stroke:#000000;stroke-width:0.6;\" x=\"651.18389\" xlink:href=\"#m7eb71401e4\" y=\"333.36\"/>\r\n      </g>\r\n     </g>\r\n    </g>\r\n    <g id=\"xtick_44\">\r\n     <g id=\"line2d_44\">\r\n      <g>\r\n       <use style=\"stroke:#000000;stroke-width:0.6;\" x=\"683.334978\" xlink:href=\"#m7eb71401e4\" y=\"333.36\"/>\r\n      </g>\r\n     </g>\r\n    </g>\r\n    <g id=\"xtick_45\">\r\n     <g id=\"line2d_45\">\r\n      <g>\r\n       <use style=\"stroke:#000000;stroke-width:0.6;\" x=\"699.410523\" xlink:href=\"#m7eb71401e4\" y=\"333.36\"/>\r\n      </g>\r\n     </g>\r\n    </g>\r\n    <g id=\"xtick_46\">\r\n     <g id=\"line2d_46\">\r\n      <g>\r\n       <use style=\"stroke:#000000;stroke-width:0.6;\" x=\"715.486067\" xlink:href=\"#m7eb71401e4\" y=\"333.36\"/>\r\n      </g>\r\n     </g>\r\n    </g>\r\n    <g id=\"xtick_47\">\r\n     <g id=\"line2d_47\">\r\n      <g>\r\n       <use style=\"stroke:#000000;stroke-width:0.6;\" x=\"731.561611\" xlink:href=\"#m7eb71401e4\" y=\"333.36\"/>\r\n      </g>\r\n     </g>\r\n    </g>\r\n    <g id=\"xtick_48\">\r\n     <g id=\"line2d_48\">\r\n      <g>\r\n       <use style=\"stroke:#000000;stroke-width:0.6;\" x=\"763.712699\" xlink:href=\"#m7eb71401e4\" y=\"333.36\"/>\r\n      </g>\r\n     </g>\r\n    </g>\r\n    <g id=\"xtick_49\">\r\n     <g id=\"line2d_49\">\r\n      <g>\r\n       <use style=\"stroke:#000000;stroke-width:0.6;\" x=\"779.788243\" xlink:href=\"#m7eb71401e4\" y=\"333.36\"/>\r\n      </g>\r\n     </g>\r\n    </g>\r\n    <g id=\"xtick_50\">\r\n     <g id=\"line2d_50\">\r\n      <g>\r\n       <use style=\"stroke:#000000;stroke-width:0.6;\" x=\"795.863788\" xlink:href=\"#m7eb71401e4\" y=\"333.36\"/>\r\n      </g>\r\n     </g>\r\n    </g>\r\n    <g id=\"xtick_51\">\r\n     <g id=\"line2d_51\">\r\n      <g>\r\n       <use style=\"stroke:#000000;stroke-width:0.6;\" x=\"811.939332\" xlink:href=\"#m7eb71401e4\" y=\"333.36\"/>\r\n      </g>\r\n     </g>\r\n    </g>\r\n    <g id=\"xtick_52\">\r\n     <g id=\"line2d_52\">\r\n      <g>\r\n       <use style=\"stroke:#000000;stroke-width:0.6;\" x=\"844.09042\" xlink:href=\"#m7eb71401e4\" y=\"333.36\"/>\r\n      </g>\r\n     </g>\r\n    </g>\r\n    <g id=\"xtick_53\">\r\n     <g id=\"line2d_53\">\r\n      <g>\r\n       <use style=\"stroke:#000000;stroke-width:0.6;\" x=\"860.165964\" xlink:href=\"#m7eb71401e4\" y=\"333.36\"/>\r\n      </g>\r\n     </g>\r\n    </g>\r\n    <g id=\"xtick_54\">\r\n     <g id=\"line2d_54\">\r\n      <g>\r\n       <use style=\"stroke:#000000;stroke-width:0.6;\" x=\"876.241508\" xlink:href=\"#m7eb71401e4\" y=\"333.36\"/>\r\n      </g>\r\n     </g>\r\n    </g>\r\n    <g id=\"xtick_55\">\r\n     <g id=\"line2d_55\">\r\n      <g>\r\n       <use style=\"stroke:#000000;stroke-width:0.6;\" x=\"892.317053\" xlink:href=\"#m7eb71401e4\" y=\"333.36\"/>\r\n      </g>\r\n     </g>\r\n    </g>\r\n    <g id=\"xtick_56\">\r\n     <g id=\"line2d_56\">\r\n      <g>\r\n       <use style=\"stroke:#000000;stroke-width:0.6;\" x=\"924.468141\" xlink:href=\"#m7eb71401e4\" y=\"333.36\"/>\r\n      </g>\r\n     </g>\r\n    </g>\r\n    <g id=\"xtick_57\">\r\n     <g id=\"line2d_57\">\r\n      <g>\r\n       <use style=\"stroke:#000000;stroke-width:0.6;\" x=\"940.543685\" xlink:href=\"#m7eb71401e4\" y=\"333.36\"/>\r\n      </g>\r\n     </g>\r\n    </g>\r\n    <g id=\"xtick_58\">\r\n     <g id=\"line2d_58\">\r\n      <g>\r\n       <use style=\"stroke:#000000;stroke-width:0.6;\" x=\"956.619229\" xlink:href=\"#m7eb71401e4\" y=\"333.36\"/>\r\n      </g>\r\n     </g>\r\n    </g>\r\n    <g id=\"xtick_59\">\r\n     <g id=\"line2d_59\">\r\n      <g>\r\n       <use style=\"stroke:#000000;stroke-width:0.6;\" x=\"972.694774\" xlink:href=\"#m7eb71401e4\" y=\"333.36\"/>\r\n      </g>\r\n     </g>\r\n    </g>\r\n    <g id=\"xtick_60\">\r\n     <g id=\"line2d_60\">\r\n      <g>\r\n       <use style=\"stroke:#000000;stroke-width:0.6;\" x=\"1004.845862\" xlink:href=\"#m7eb71401e4\" y=\"333.36\"/>\r\n      </g>\r\n     </g>\r\n    </g>\r\n    <g id=\"xtick_61\">\r\n     <g id=\"line2d_61\">\r\n      <g>\r\n       <use style=\"stroke:#000000;stroke-width:0.6;\" x=\"1020.921406\" xlink:href=\"#m7eb71401e4\" y=\"333.36\"/>\r\n      </g>\r\n     </g>\r\n    </g>\r\n    <g id=\"xtick_62\">\r\n     <g id=\"line2d_62\">\r\n      <g>\r\n       <use style=\"stroke:#000000;stroke-width:0.6;\" x=\"1036.99695\" xlink:href=\"#m7eb71401e4\" y=\"333.36\"/>\r\n      </g>\r\n     </g>\r\n    </g>\r\n    <g id=\"xtick_63\">\r\n     <g id=\"line2d_63\">\r\n      <g>\r\n       <use style=\"stroke:#000000;stroke-width:0.6;\" x=\"1053.072494\" xlink:href=\"#m7eb71401e4\" y=\"333.36\"/>\r\n      </g>\r\n     </g>\r\n    </g>\r\n    <g id=\"text_13\">\r\n     <!-- Line # -->\r\n     <g transform=\"translate(531.889375 362.633125)scale(0.16 -0.16)\">\r\n      <defs>\r\n       <path d=\"M 60.40625 20.609375 \r\nL 58.9375 0 \r\nL 4.78125 0 \r\nL 4.78125 3.46875 \r\nQ 5.953125 3.5625 8.171875 3.796875 \r\nQ 10.40625 4.046875 11.28125 4.4375 \r\nQ 12.75 5.078125 13.40625 6.296875 \r\nQ 14.0625 7.515625 14.0625 9.421875 \r\nL 14.0625 59.03125 \r\nQ 14.0625 60.6875 13.5 61.953125 \r\nQ 12.9375 63.234375 11.28125 64.015625 \r\nQ 10.15625 64.59375 8.125 65.15625 \r\nQ 6.109375 65.71875 4.78125 65.828125 \r\nL 4.78125 69.28125 \r\nL 34.03125 69.28125 \r\nL 34.03125 65.828125 \r\nQ 32.671875 65.765625 30.5 65.328125 \r\nQ 28.328125 64.890625 27.34375 64.546875 \r\nQ 25.6875 63.96875 25.078125 62.546875 \r\nQ 24.46875 61.140625 24.46875 59.515625 \r\nL 24.46875 12.984375 \r\nQ 24.46875 9.765625 24.78125 7.984375 \r\nQ 25.09375 6.203125 26.265625 5.21875 \r\nQ 27.390625 4.34375 29.609375 4.078125 \r\nQ 31.84375 3.8125 35.84375 3.8125 \r\nQ 37.640625 3.8125 39.59375 3.90625 \r\nQ 41.546875 4 43.3125 4.296875 \r\nQ 45.015625 4.59375 46.453125 5.09375 \r\nQ 47.90625 5.609375 48.578125 6.390625 \r\nQ 50.59375 8.640625 53.25 13.203125 \r\nQ 55.90625 17.78125 56.9375 20.609375 \r\nz\r\n\" id=\"Georgia-76\"/>\r\n       <path d=\"M 26.90625 0 \r\nL 3.609375 0 \r\nL 3.609375 3.21875 \r\nQ 4.734375 3.328125 5.921875 3.421875 \r\nQ 7.125 3.515625 8.015625 3.8125 \r\nQ 9.375 4.25 10.03125 5.34375 \r\nQ 10.6875 6.453125 10.6875 8.203125 \r\nL 10.6875 37.9375 \r\nQ 10.6875 39.5 9.984375 40.796875 \r\nQ 9.28125 42.09375 8.015625 42.96875 \r\nQ 7.078125 43.5625 5.3125 43.96875 \r\nQ 3.5625 44.390625 2.09375 44.484375 \r\nL 2.09375 47.65625 \r\nL 19.09375 48.734375 \r\nL 19.78125 48.046875 \r\nL 19.78125 8.796875 \r\nQ 19.78125 7.078125 20.4375 5.953125 \r\nQ 21.09375 4.828125 22.515625 4.296875 \r\nQ 23.578125 3.859375 24.609375 3.59375 \r\nQ 25.640625 3.328125 26.90625 3.21875 \r\nz\r\nM 20.75 67.71875 \r\nQ 20.75 64.9375 18.921875 62.859375 \r\nQ 17.09375 60.796875 14.40625 60.796875 \r\nQ 11.921875 60.796875 10.078125 62.765625 \r\nQ 8.25 64.75 8.25 67.28125 \r\nQ 8.25 69.96875 10.078125 71.96875 \r\nQ 11.921875 73.96875 14.40625 73.96875 \r\nQ 17.1875 73.96875 18.96875 72.09375 \r\nQ 20.75 70.21875 20.75 67.71875 \r\nz\r\n\" id=\"Georgia-105\"/>\r\n       <path d=\"M 56.6875 0 \r\nL 33.109375 0 \r\nL 33.109375 3.21875 \r\nQ 34.234375 3.328125 35.578125 3.421875 \r\nQ 36.921875 3.515625 37.796875 3.8125 \r\nQ 39.15625 4.25 39.8125 5.34375 \r\nQ 40.484375 6.453125 40.484375 8.203125 \r\nL 40.484375 32.953125 \r\nQ 40.484375 38.09375 38.0625 40.875 \r\nQ 35.640625 43.65625 32.171875 43.65625 \r\nQ 29.59375 43.65625 27.4375 42.84375 \r\nQ 25.296875 42.046875 23.640625 40.875 \r\nQ 22.015625 39.75 21.0625 38.453125 \r\nQ 20.125 37.15625 19.671875 36.375 \r\nL 19.671875 8.6875 \r\nQ 19.671875 7.03125 20.359375 5.953125 \r\nQ 21.046875 4.890625 22.40625 4.296875 \r\nQ 23.4375 3.8125 24.625 3.5625 \r\nQ 25.828125 3.328125 27.09375 3.21875 \r\nL 27.09375 0 \r\nL 3.515625 0 \r\nL 3.515625 3.21875 \r\nQ 4.640625 3.328125 5.828125 3.421875 \r\nQ 7.03125 3.515625 7.90625 3.8125 \r\nQ 9.28125 4.25 9.9375 5.34375 \r\nQ 10.59375 6.453125 10.59375 8.203125 \r\nL 10.59375 37.9375 \r\nQ 10.59375 39.59375 9.890625 40.984375 \r\nQ 9.1875 42.390625 7.90625 43.265625 \r\nQ 6.984375 43.84375 5.703125 44.109375 \r\nQ 4.4375 44.390625 2.984375 44.484375 \r\nL 2.984375 47.65625 \r\nL 19 48.734375 \r\nL 19.671875 48.046875 \r\nL 19.671875 41.265625 \r\nL 19.921875 41.265625 \r\nQ 21.09375 42.4375 22.84375 44.0625 \r\nQ 24.609375 45.703125 26.171875 46.734375 \r\nQ 27.984375 47.90625 30.46875 48.6875 \r\nQ 32.953125 49.46875 36.078125 49.46875 \r\nQ 43.015625 49.46875 46.359375 45.140625 \r\nQ 49.703125 40.828125 49.703125 33.640625 \r\nL 49.703125 8.59375 \r\nQ 49.703125 6.890625 50.28125 5.828125 \r\nQ 50.875 4.78125 52.296875 4.203125 \r\nQ 53.46875 3.71875 54.3125 3.515625 \r\nQ 55.171875 3.328125 56.6875 3.21875 \r\nz\r\n\" id=\"Georgia-110\"/>\r\n       <path d=\"M 46.296875 11.328125 \r\nQ 43.265625 5.5625 38.1875 2.140625 \r\nQ 33.109375 -1.265625 26.515625 -1.265625 \r\nQ 20.703125 -1.265625 16.328125 0.78125 \r\nQ 11.96875 2.828125 9.125 6.34375 \r\nQ 6.296875 9.859375 4.90625 14.546875 \r\nQ 3.515625 19.234375 3.515625 24.46875 \r\nQ 3.515625 29.15625 5 33.671875 \r\nQ 6.5 38.1875 9.375 41.796875 \r\nQ 12.15625 45.265625 16.28125 47.390625 \r\nQ 20.40625 49.515625 25.53125 49.515625 \r\nQ 30.8125 49.515625 34.5625 47.84375 \r\nQ 38.328125 46.1875 40.671875 43.3125 \r\nQ 42.921875 40.578125 44.015625 36.859375 \r\nQ 45.125 33.15625 45.125 28.8125 \r\nL 45.125 25.59375 \r\nL 13.234375 25.59375 \r\nQ 13.234375 20.84375 14.140625 16.984375 \r\nQ 15.046875 13.140625 17 10.203125 \r\nQ 18.890625 7.375 21.96875 5.734375 \r\nQ 25.046875 4.109375 29.296875 4.109375 \r\nQ 33.640625 4.109375 36.78125 6.125 \r\nQ 39.9375 8.15625 42.875 13.421875 \r\nz\r\nM 35.5 29.6875 \r\nQ 35.5 32.421875 35.03125 35.546875 \r\nQ 34.578125 38.671875 33.546875 40.765625 \r\nQ 32.421875 43.015625 30.46875 44.421875 \r\nQ 28.515625 45.84375 25.4375 45.84375 \r\nQ 20.3125 45.84375 16.921875 41.578125 \r\nQ 13.53125 37.3125 13.234375 29.6875 \r\nz\r\n\" id=\"Georgia-101\"/>\r\n       <path id=\"Georgia-32\"/>\r\n       <path d=\"M 56.78125 36.375 \r\nL 44.625 36.375 \r\nL 41.109375 24.125 \r\nL 53.859375 24.125 \r\nL 53.859375 18.109375 \r\nL 39.40625 18.109375 \r\nL 34.1875 0 \r\nL 28.765625 0 \r\nL 33.984375 18.109375 \r\nL 23.390625 18.109375 \r\nL 18.171875 0 \r\nL 12.75 0 \r\nL 17.96875 18.109375 \r\nL 7.515625 18.109375 \r\nL 7.515625 24.125 \r\nL 19.671875 24.125 \r\nL 23.25 36.375 \r\nL 10.453125 36.375 \r\nL 10.453125 42.390625 \r\nL 24.90625 42.390625 \r\nL 30.03125 60.0625 \r\nL 35.453125 60.0625 \r\nL 30.328125 42.390625 \r\nL 40.921875 42.390625 \r\nL 46.046875 60.0625 \r\nL 51.46875 60.0625 \r\nL 46.34375 42.390625 \r\nL 56.78125 42.390625 \r\nz\r\nM 39.40625 36.46875 \r\nL 28.5625 36.46875 \r\nL 24.953125 24.03125 \r\nL 35.75 24.03125 \r\nz\r\n\" id=\"Georgia-35\"/>\r\n      </defs>\r\n      <use xlink:href=\"#Georgia-76\"/>\r\n      <use x=\"60.351562\" xlink:href=\"#Georgia-105\"/>\r\n      <use x=\"89.648438\" xlink:href=\"#Georgia-110\"/>\r\n      <use x=\"148.730469\" xlink:href=\"#Georgia-101\"/>\r\n      <use x=\"197.070312\" xlink:href=\"#Georgia-32\"/>\r\n      <use x=\"221.191406\" xlink:href=\"#Georgia-35\"/>\r\n     </g>\r\n    </g>\r\n   </g>\r\n   <g id=\"matplotlib.axis_2\">\r\n    <g id=\"ytick_1\">\r\n     <g id=\"line2d_64\">\r\n      <defs>\r\n       <path d=\"M 0 0 \r\nL 3.5 0 \r\n\" id=\"m81a821ca7e\" style=\"stroke:#000000;stroke-width:0.8;\"/>\r\n      </defs>\r\n      <g>\r\n       <use style=\"stroke:#000000;stroke-width:0.8;\" x=\"52.530625\" xlink:href=\"#m81a821ca7e\" y=\"333.36\"/>\r\n      </g>\r\n     </g>\r\n     <g id=\"text_14\">\r\n      <!-- 0.00 -->\r\n      <g transform=\"translate(26.765 337.159219)scale(0.1 -0.1)\">\r\n       <defs>\r\n        <path d=\"M 10.6875 12.40625 \r\nL 21 12.40625 \r\nL 21 0 \r\nL 10.6875 0 \r\nz\r\n\" id=\"DejaVuSans-46\"/>\r\n       </defs>\r\n       <use xlink:href=\"#DejaVuSans-48\"/>\r\n       <use x=\"63.623047\" xlink:href=\"#DejaVuSans-46\"/>\r\n       <use x=\"95.410156\" xlink:href=\"#DejaVuSans-48\"/>\r\n       <use x=\"159.033203\" xlink:href=\"#DejaVuSans-48\"/>\r\n      </g>\r\n     </g>\r\n    </g>\r\n    <g id=\"ytick_2\">\r\n     <g id=\"line2d_65\">\r\n      <g>\r\n       <use style=\"stroke:#000000;stroke-width:0.8;\" x=\"52.530625\" xlink:href=\"#m81a821ca7e\" y=\"285.009254\"/>\r\n      </g>\r\n     </g>\r\n     <g id=\"text_15\">\r\n      <!-- 0.02 -->\r\n      <g transform=\"translate(26.765 288.808473)scale(0.1 -0.1)\">\r\n       <use xlink:href=\"#DejaVuSans-48\"/>\r\n       <use x=\"63.623047\" xlink:href=\"#DejaVuSans-46\"/>\r\n       <use x=\"95.410156\" xlink:href=\"#DejaVuSans-48\"/>\r\n       <use x=\"159.033203\" xlink:href=\"#DejaVuSans-50\"/>\r\n      </g>\r\n     </g>\r\n    </g>\r\n    <g id=\"ytick_3\">\r\n     <g id=\"line2d_66\">\r\n      <g>\r\n       <use style=\"stroke:#000000;stroke-width:0.8;\" x=\"52.530625\" xlink:href=\"#m81a821ca7e\" y=\"236.658508\"/>\r\n      </g>\r\n     </g>\r\n     <g id=\"text_16\">\r\n      <!-- 0.04 -->\r\n      <g transform=\"translate(26.765 240.457727)scale(0.1 -0.1)\">\r\n       <use xlink:href=\"#DejaVuSans-48\"/>\r\n       <use x=\"63.623047\" xlink:href=\"#DejaVuSans-46\"/>\r\n       <use x=\"95.410156\" xlink:href=\"#DejaVuSans-48\"/>\r\n       <use x=\"159.033203\" xlink:href=\"#DejaVuSans-52\"/>\r\n      </g>\r\n     </g>\r\n    </g>\r\n    <g id=\"ytick_4\">\r\n     <g id=\"line2d_67\">\r\n      <g>\r\n       <use style=\"stroke:#000000;stroke-width:0.8;\" x=\"52.530625\" xlink:href=\"#m81a821ca7e\" y=\"188.307762\"/>\r\n      </g>\r\n     </g>\r\n     <g id=\"text_17\">\r\n      <!-- 0.06 -->\r\n      <g transform=\"translate(26.765 192.106981)scale(0.1 -0.1)\">\r\n       <use xlink:href=\"#DejaVuSans-48\"/>\r\n       <use x=\"63.623047\" xlink:href=\"#DejaVuSans-46\"/>\r\n       <use x=\"95.410156\" xlink:href=\"#DejaVuSans-48\"/>\r\n       <use x=\"159.033203\" xlink:href=\"#DejaVuSans-54\"/>\r\n      </g>\r\n     </g>\r\n    </g>\r\n    <g id=\"ytick_5\">\r\n     <g id=\"line2d_68\">\r\n      <g>\r\n       <use style=\"stroke:#000000;stroke-width:0.8;\" x=\"52.530625\" xlink:href=\"#m81a821ca7e\" y=\"139.957016\"/>\r\n      </g>\r\n     </g>\r\n     <g id=\"text_18\">\r\n      <!-- 0.08 -->\r\n      <g transform=\"translate(26.765 143.756235)scale(0.1 -0.1)\">\r\n       <defs>\r\n        <path d=\"M 31.78125 34.625 \r\nQ 24.75 34.625 20.71875 30.859375 \r\nQ 16.703125 27.09375 16.703125 20.515625 \r\nQ 16.703125 13.921875 20.71875 10.15625 \r\nQ 24.75 6.390625 31.78125 6.390625 \r\nQ 38.8125 6.390625 42.859375 10.171875 \r\nQ 46.921875 13.96875 46.921875 20.515625 \r\nQ 46.921875 27.09375 42.890625 30.859375 \r\nQ 38.875 34.625 31.78125 34.625 \r\nz\r\nM 21.921875 38.8125 \r\nQ 15.578125 40.375 12.03125 44.71875 \r\nQ 8.5 49.078125 8.5 55.328125 \r\nQ 8.5 64.0625 14.71875 69.140625 \r\nQ 20.953125 74.21875 31.78125 74.21875 \r\nQ 42.671875 74.21875 48.875 69.140625 \r\nQ 55.078125 64.0625 55.078125 55.328125 \r\nQ 55.078125 49.078125 51.53125 44.71875 \r\nQ 48 40.375 41.703125 38.8125 \r\nQ 48.828125 37.15625 52.796875 32.3125 \r\nQ 56.78125 27.484375 56.78125 20.515625 \r\nQ 56.78125 9.90625 50.3125 4.234375 \r\nQ 43.84375 -1.421875 31.78125 -1.421875 \r\nQ 19.734375 -1.421875 13.25 4.234375 \r\nQ 6.78125 9.90625 6.78125 20.515625 \r\nQ 6.78125 27.484375 10.78125 32.3125 \r\nQ 14.796875 37.15625 21.921875 38.8125 \r\nz\r\nM 18.3125 54.390625 \r\nQ 18.3125 48.734375 21.84375 45.5625 \r\nQ 25.390625 42.390625 31.78125 42.390625 \r\nQ 38.140625 42.390625 41.71875 45.5625 \r\nQ 45.3125 48.734375 45.3125 54.390625 \r\nQ 45.3125 60.0625 41.71875 63.234375 \r\nQ 38.140625 66.40625 31.78125 66.40625 \r\nQ 25.390625 66.40625 21.84375 63.234375 \r\nQ 18.3125 60.0625 18.3125 54.390625 \r\nz\r\n\" id=\"DejaVuSans-56\"/>\r\n       </defs>\r\n       <use xlink:href=\"#DejaVuSans-48\"/>\r\n       <use x=\"63.623047\" xlink:href=\"#DejaVuSans-46\"/>\r\n       <use x=\"95.410156\" xlink:href=\"#DejaVuSans-48\"/>\r\n       <use x=\"159.033203\" xlink:href=\"#DejaVuSans-56\"/>\r\n      </g>\r\n     </g>\r\n    </g>\r\n    <g id=\"ytick_6\">\r\n     <g id=\"line2d_69\">\r\n      <g>\r\n       <use style=\"stroke:#000000;stroke-width:0.8;\" x=\"52.530625\" xlink:href=\"#m81a821ca7e\" y=\"91.60627\"/>\r\n      </g>\r\n     </g>\r\n     <g id=\"text_19\">\r\n      <!-- 0.10 -->\r\n      <g transform=\"translate(26.765 95.405489)scale(0.1 -0.1)\">\r\n       <use xlink:href=\"#DejaVuSans-48\"/>\r\n       <use x=\"63.623047\" xlink:href=\"#DejaVuSans-46\"/>\r\n       <use x=\"95.410156\" xlink:href=\"#DejaVuSans-49\"/>\r\n       <use x=\"159.033203\" xlink:href=\"#DejaVuSans-48\"/>\r\n      </g>\r\n     </g>\r\n    </g>\r\n    <g id=\"ytick_7\">\r\n     <g id=\"line2d_70\">\r\n      <g>\r\n       <use style=\"stroke:#000000;stroke-width:0.8;\" x=\"52.530625\" xlink:href=\"#m81a821ca7e\" y=\"43.255524\"/>\r\n      </g>\r\n     </g>\r\n     <g id=\"text_20\">\r\n      <!-- 0.12 -->\r\n      <g transform=\"translate(26.765 47.054743)scale(0.1 -0.1)\">\r\n       <use xlink:href=\"#DejaVuSans-48\"/>\r\n       <use x=\"63.623047\" xlink:href=\"#DejaVuSans-46\"/>\r\n       <use x=\"95.410156\" xlink:href=\"#DejaVuSans-49\"/>\r\n       <use x=\"159.033203\" xlink:href=\"#DejaVuSans-50\"/>\r\n      </g>\r\n     </g>\r\n    </g>\r\n    <g id=\"text_21\">\r\n     <!-- Time (s) -->\r\n     <g style=\"fill:#ff0000;\" transform=\"translate(19.295 199.875)rotate(-90)scale(0.16 -0.16)\">\r\n      <defs>\r\n       <path d=\"M 61.078125 50.484375 \r\nL 57.71875 50.484375 \r\nQ 57.28125 52.25 56.125 54.65625 \r\nQ 54.984375 57.078125 53.5625 59.234375 \r\nQ 52.09375 61.46875 50.359375 63.15625 \r\nQ 48.640625 64.84375 47.015625 65.09375 \r\nQ 45.515625 65.28125 43.21875 65.375 \r\nQ 40.921875 65.484375 38.96875 65.484375 \r\nL 36.140625 65.484375 \r\nL 36.140625 10.0625 \r\nQ 36.140625 8.453125 36.8125 7.109375 \r\nQ 37.5 5.765625 39.203125 5.03125 \r\nQ 40.09375 4.6875 42.890625 4.09375 \r\nQ 45.703125 3.515625 47.265625 3.46875 \r\nL 47.265625 0 \r\nL 14.546875 0 \r\nL 14.546875 3.46875 \r\nQ 15.921875 3.5625 18.71875 3.859375 \r\nQ 21.53125 4.15625 22.609375 4.59375 \r\nQ 24.21875 5.21875 24.96875 6.421875 \r\nQ 25.734375 7.625 25.734375 9.625 \r\nL 25.734375 65.484375 \r\nL 22.90625 65.484375 \r\nQ 21.390625 65.484375 19.140625 65.40625 \r\nQ 16.890625 65.328125 14.84375 65.09375 \r\nQ 13.234375 64.890625 11.5 63.15625 \r\nQ 9.765625 61.421875 8.296875 59.234375 \r\nQ 6.84375 57.03125 5.71875 54.5625 \r\nQ 4.59375 52.09375 4.15625 50.484375 \r\nL 0.734375 50.484375 \r\nL 0.734375 69.28125 \r\nL 61.078125 69.28125 \r\nz\r\n\" id=\"Georgia-84\"/>\r\n       <path d=\"M 85.984375 0 \r\nL 62.5 0 \r\nL 62.5 3.21875 \r\nQ 63.625 3.328125 64.765625 3.421875 \r\nQ 65.921875 3.515625 66.796875 3.8125 \r\nQ 68.171875 4.25 68.828125 5.34375 \r\nQ 69.484375 6.453125 69.484375 8.203125 \r\nL 69.484375 33.0625 \r\nQ 69.484375 38.140625 67.15625 40.890625 \r\nQ 64.84375 43.65625 61.375 43.65625 \r\nQ 58.984375 43.65625 56.875 42.921875 \r\nQ 54.78125 42.1875 53.03125 40.875 \r\nQ 51.609375 39.796875 50.65625 38.546875 \r\nQ 49.703125 37.3125 49.21875 36.46875 \r\nL 49.21875 8.6875 \r\nQ 49.21875 6.984375 49.796875 5.875 \r\nQ 50.390625 4.78125 51.8125 4.203125 \r\nQ 52.9375 3.765625 53.828125 3.546875 \r\nQ 54.734375 3.328125 56.203125 3.21875 \r\nL 56.203125 0 \r\nL 33.203125 0 \r\nL 33.203125 3.21875 \r\nQ 34.328125 3.328125 35.375 3.421875 \r\nQ 36.421875 3.515625 37.3125 3.8125 \r\nQ 38.671875 4.25 39.328125 5.34375 \r\nQ 39.984375 6.453125 39.984375 8.203125 \r\nL 39.984375 33.0625 \r\nQ 39.984375 38.140625 37.671875 40.890625 \r\nQ 35.359375 43.65625 31.890625 43.65625 \r\nQ 29.5 43.65625 27.390625 42.890625 \r\nQ 25.296875 42.140625 23.53125 40.828125 \r\nQ 22.125 39.75 21.140625 38.40625 \r\nQ 20.171875 37.0625 19.671875 36.375 \r\nL 19.671875 8.796875 \r\nQ 19.671875 7.125 20.359375 6 \r\nQ 21.046875 4.890625 22.40625 4.296875 \r\nQ 23.4375 3.8125 24.515625 3.5625 \r\nQ 25.59375 3.328125 26.90625 3.21875 \r\nL 26.90625 0 \r\nL 3.515625 0 \r\nL 3.515625 3.21875 \r\nQ 4.640625 3.328125 5.828125 3.421875 \r\nQ 7.03125 3.515625 7.90625 3.8125 \r\nQ 9.28125 4.25 9.9375 5.34375 \r\nQ 10.59375 6.453125 10.59375 8.203125 \r\nL 10.59375 38.140625 \r\nQ 10.59375 39.703125 9.890625 40.9375 \r\nQ 9.1875 42.1875 7.90625 43.0625 \r\nQ 6.984375 43.65625 5.609375 44.015625 \r\nQ 4.25 44.390625 2.78125 44.484375 \r\nL 2.78125 47.65625 \r\nL 18.890625 48.734375 \r\nL 19.578125 48.046875 \r\nL 19.578125 41.15625 \r\nL 19.921875 41.15625 \r\nQ 21.140625 42.390625 22.890625 44.046875 \r\nQ 24.65625 45.703125 26.171875 46.734375 \r\nQ 27.875 47.90625 30.4375 48.6875 \r\nQ 33.015625 49.46875 35.984375 49.46875 \r\nQ 40.671875 49.46875 44.03125 46.953125 \r\nQ 47.40625 44.4375 48.875 40.875 \r\nQ 50.640625 42.578125 51.984375 43.875 \r\nQ 53.328125 45.171875 55.515625 46.625 \r\nQ 57.375 47.90625 59.890625 48.6875 \r\nQ 62.40625 49.46875 65.484375 49.46875 \r\nQ 71.578125 49.46875 75.140625 45.453125 \r\nQ 78.71875 41.453125 78.71875 33.15625 \r\nL 78.71875 8.6875 \r\nQ 78.71875 6.984375 79.296875 5.875 \r\nQ 79.890625 4.78125 81.296875 4.203125 \r\nQ 82.421875 3.765625 83.515625 3.546875 \r\nQ 84.625 3.328125 85.984375 3.21875 \r\nz\r\n\" id=\"Georgia-109\"/>\r\n       <path d=\"M 34.234375 -16.015625 \r\nQ 20.90625 -14.359375 13.3125 -2.578125 \r\nQ 5.71875 9.1875 5.71875 29.109375 \r\nQ 5.71875 49.359375 13.3125 61.203125 \r\nQ 20.90625 73.046875 34.234375 74.8125 \r\nL 34.234375 70.75 \r\nQ 24.859375 69.046875 19.96875 58.78125 \r\nQ 15.09375 48.53125 15.09375 29 \r\nQ 15.09375 10.40625 19.875 0.078125 \r\nQ 24.65625 -10.25 34.234375 -12.015625 \r\nz\r\n\" id=\"Georgia-40\"/>\r\n       <path d=\"M 35.296875 23.578125 \r\nQ 37.3125 21.828125 38.375 19.53125 \r\nQ 39.453125 17.234375 39.453125 13.921875 \r\nQ 39.453125 7.234375 34.4375 2.984375 \r\nQ 29.4375 -1.265625 21.484375 -1.265625 \r\nQ 17.28125 -1.265625 13.734375 0.25 \r\nQ 10.203125 1.765625 8.6875 3.03125 \r\nL 7.71875 -0.140625 \r\nL 4.046875 -0.140625 \r\nL 3.5625 16.609375 \r\nL 6.9375 16.609375 \r\nQ 7.328125 14.703125 8.59375 12.15625 \r\nQ 9.859375 9.625 11.671875 7.5625 \r\nQ 13.578125 5.421875 16.234375 3.953125 \r\nQ 18.890625 2.484375 22.21875 2.484375 \r\nQ 26.90625 2.484375 29.4375 4.609375 \r\nQ 31.984375 6.734375 31.984375 10.6875 \r\nQ 31.984375 12.75 31.171875 14.234375 \r\nQ 30.375 15.71875 28.8125 16.84375 \r\nQ 27.203125 17.96875 24.859375 18.875 \r\nQ 22.515625 19.78125 19.625 20.65625 \r\nQ 17.328125 21.34375 14.515625 22.53125 \r\nQ 11.71875 23.734375 9.71875 25.34375 \r\nQ 7.5625 27.046875 6.1875 29.53125 \r\nQ 4.828125 32.03125 4.828125 35.40625 \r\nQ 4.828125 41.3125 9.21875 45.40625 \r\nQ 13.625 49.515625 21 49.515625 \r\nQ 23.828125 49.515625 26.78125 48.78125 \r\nQ 29.734375 48.046875 31.59375 47.015625 \r\nL 32.71875 49.5625 \r\nL 36.234375 49.5625 \r\nL 36.96875 34.078125 \r\nL 33.59375 34.078125 \r\nQ 32.5625 39.265625 29.171875 42.5 \r\nQ 25.78125 45.75 20.90625 45.75 \r\nQ 16.890625 45.75 14.59375 43.75 \r\nQ 12.3125 41.75 12.3125 38.921875 \r\nQ 12.3125 36.71875 13.0625 35.25 \r\nQ 13.8125 33.796875 15.328125 32.765625 \r\nQ 16.796875 31.78125 19.015625 30.921875 \r\nQ 21.234375 30.078125 24.515625 29 \r\nQ 27.734375 27.984375 30.59375 26.609375 \r\nQ 33.453125 25.25 35.296875 23.578125 \r\nz\r\n\" id=\"Georgia-115\"/>\r\n       <path d=\"M 31.78125 29.109375 \r\nQ 31.78125 9.1875 24.1875 -2.578125 \r\nQ 16.609375 -14.359375 3.265625 -16.015625 \r\nL 3.265625 -12.015625 \r\nQ 12.84375 -10.25 17.625 0.078125 \r\nQ 22.40625 10.40625 22.40625 29 \r\nQ 22.40625 48.53125 17.515625 58.78125 \r\nQ 12.640625 69.046875 3.265625 70.75 \r\nL 3.265625 74.8125 \r\nQ 16.609375 73.046875 24.1875 61.203125 \r\nQ 31.78125 49.359375 31.78125 29.109375 \r\nz\r\n\" id=\"Georgia-41\"/>\r\n      </defs>\r\n      <use xlink:href=\"#Georgia-84\"/>\r\n      <use x=\"61.865234\" xlink:href=\"#Georgia-105\"/>\r\n      <use x=\"91.162109\" xlink:href=\"#Georgia-109\"/>\r\n      <use x=\"179.248047\" xlink:href=\"#Georgia-101\"/>\r\n      <use x=\"227.587891\" xlink:href=\"#Georgia-32\"/>\r\n      <use x=\"251.708984\" xlink:href=\"#Georgia-40\"/>\r\n      <use x=\"289.208984\" xlink:href=\"#Georgia-115\"/>\r\n      <use x=\"332.421875\" xlink:href=\"#Georgia-41\"/>\r\n     </g>\r\n    </g>\r\n   </g>\r\n   <g id=\"LineCollection_1\">\r\n    <path clip-path=\"url(#p832bdb26f4)\" d=\"M 104.615388 333.36 \r\nL 104.615388 333.36 \r\n\" style=\"fill:none;stroke:#000000;stroke-width:1.5;\"/>\r\n    <path clip-path=\"url(#p832bdb26f4)\" d=\"M 120.690932 333.36 \r\nL 120.690932 333.36 \r\n\" style=\"fill:none;stroke:#000000;stroke-width:1.5;\"/>\r\n    <path clip-path=\"url(#p832bdb26f4)\" d=\"M 136.766476 333.36 \r\nL 136.766476 333.36 \r\n\" style=\"fill:none;stroke:#000000;stroke-width:1.5;\"/>\r\n    <path clip-path=\"url(#p832bdb26f4)\" d=\"M 152.842021 333.36 \r\nL 152.842021 333.36 \r\n\" style=\"fill:none;stroke:#000000;stroke-width:1.5;\"/>\r\n    <path clip-path=\"url(#p832bdb26f4)\" d=\"M 168.917565 333.36 \r\nL 168.917565 333.36 \r\n\" style=\"fill:none;stroke:#000000;stroke-width:1.5;\"/>\r\n    <path clip-path=\"url(#p832bdb26f4)\" d=\"M 184.993109 333.36 \r\nL 184.993109 333.36 \r\n\" style=\"fill:none;stroke:#000000;stroke-width:1.5;\"/>\r\n    <path clip-path=\"url(#p832bdb26f4)\" d=\"M 201.068653 333.36 \r\nL 201.068653 333.36 \r\n\" style=\"fill:none;stroke:#000000;stroke-width:1.5;\"/>\r\n    <path clip-path=\"url(#p832bdb26f4)\" d=\"M 217.144197 333.36 \r\nL 217.144197 333.36 \r\n\" style=\"fill:none;stroke:#000000;stroke-width:1.5;\"/>\r\n    <path clip-path=\"url(#p832bdb26f4)\" d=\"M 233.219742 333.36 \r\nL 233.219742 333.36 \r\n\" style=\"fill:none;stroke:#000000;stroke-width:1.5;\"/>\r\n    <path clip-path=\"url(#p832bdb26f4)\" d=\"M 249.295286 333.36 \r\nL 249.295286 333.36 \r\n\" style=\"fill:none;stroke:#000000;stroke-width:1.5;\"/>\r\n    <path clip-path=\"url(#p832bdb26f4)\" d=\"M 265.37083 333.36 \r\nL 265.37083 333.36 \r\n\" style=\"fill:none;stroke:#000000;stroke-width:1.5;\"/>\r\n    <path clip-path=\"url(#p832bdb26f4)\" d=\"M 281.446374 333.36 \r\nL 281.446374 333.36 \r\n\" style=\"fill:none;stroke:#000000;stroke-width:1.5;\"/>\r\n    <path clip-path=\"url(#p832bdb26f4)\" d=\"M 297.521918 168.119176 \r\nL 297.521918 138.335306 \r\n\" style=\"fill:none;stroke:#000000;stroke-width:1.5;\"/>\r\n    <path clip-path=\"url(#p832bdb26f4)\" d=\"M 313.597462 333.36 \r\nL 313.597462 333.36 \r\n\" style=\"fill:none;stroke:#000000;stroke-width:1.5;\"/>\r\n    <path clip-path=\"url(#p832bdb26f4)\" d=\"M 329.673007 326.162275 \r\nL 329.673007 323.861004 \r\n\" style=\"fill:none;stroke:#000000;stroke-width:1.5;\"/>\r\n    <path clip-path=\"url(#p832bdb26f4)\" d=\"M 345.748551 333.226752 \r\nL 345.748551 333.225385 \r\n\" style=\"fill:none;stroke:#000000;stroke-width:1.5;\"/>\r\n    <path clip-path=\"url(#p832bdb26f4)\" d=\"M 361.824095 332.729775 \r\nL 361.824095 332.714732 \r\n\" style=\"fill:none;stroke:#000000;stroke-width:1.5;\"/>\r\n    <path clip-path=\"url(#p832bdb26f4)\" d=\"M 377.899639 332.75685 \r\nL 377.899639 332.751722 \r\n\" style=\"fill:none;stroke:#000000;stroke-width:1.5;\"/>\r\n    <path clip-path=\"url(#p832bdb26f4)\" d=\"M 393.975183 333.36 \r\nL 393.975183 333.36 \r\n\" style=\"fill:none;stroke:#000000;stroke-width:1.5;\"/>\r\n    <path clip-path=\"url(#p832bdb26f4)\" d=\"M 410.050727 320.279982 \r\nL 410.050727 320.218442 \r\n\" style=\"fill:none;stroke:#000000;stroke-width:1.5;\"/>\r\n    <path clip-path=\"url(#p832bdb26f4)\" d=\"M 426.126272 332.37138 \r\nL 426.126272 332.350525 \r\n\" style=\"fill:none;stroke:#000000;stroke-width:1.5;\"/>\r\n    <path clip-path=\"url(#p832bdb26f4)\" d=\"M 442.201816 332.243901 \r\nL 442.201816 332.170736 \r\n\" style=\"fill:none;stroke:#000000;stroke-width:1.5;\"/>\r\n    <path clip-path=\"url(#p832bdb26f4)\" d=\"M 458.27736 333.338026 \r\nL 458.27736 333.332898 \r\n\" style=\"fill:none;stroke:#000000;stroke-width:1.5;\"/>\r\n    <path clip-path=\"url(#p832bdb26f4)\" d=\"M 474.352904 333.36 \r\nL 474.352904 333.36 \r\n\" style=\"fill:none;stroke:#000000;stroke-width:1.5;\"/>\r\n    <path clip-path=\"url(#p832bdb26f4)\" d=\"M 490.428448 41.002169 \r\nL 490.428448 22.734228 \r\n\" style=\"fill:none;stroke:#000000;stroke-width:1.5;\"/>\r\n    <path clip-path=\"url(#p832bdb26f4)\" d=\"M 506.503992 333.305667 \r\nL 506.503992 333.283786 \r\n\" style=\"fill:none;stroke:#000000;stroke-width:1.5;\"/>\r\n    <path clip-path=\"url(#p832bdb26f4)\" d=\"M 522.579537 333.36 \r\nL 522.579537 333.36 \r\n\" style=\"fill:none;stroke:#000000;stroke-width:1.5;\"/>\r\n    <path clip-path=\"url(#p832bdb26f4)\" d=\"M 538.655081 333.356332 \r\nL 538.655081 333.354965 \r\n\" style=\"fill:none;stroke:#000000;stroke-width:1.5;\"/>\r\n    <path clip-path=\"url(#p832bdb26f4)\" d=\"M 554.730625 333.363905 \r\nL 554.730625 333.337238 \r\n\" style=\"fill:none;stroke:#000000;stroke-width:1.5;\"/>\r\n    <path clip-path=\"url(#p832bdb26f4)\" d=\"M 570.806169 333.416828 \r\nL 570.806169 333.028781 \r\n\" style=\"fill:none;stroke:#000000;stroke-width:1.5;\"/>\r\n    <path clip-path=\"url(#p832bdb26f4)\" d=\"M 586.881713 333.36 \r\nL 586.881713 333.36 \r\n\" style=\"fill:none;stroke:#000000;stroke-width:1.5;\"/>\r\n    <path clip-path=\"url(#p832bdb26f4)\" d=\"M 602.957258 333.36 \r\nL 602.957258 333.36 \r\n\" style=\"fill:none;stroke:#000000;stroke-width:1.5;\"/>\r\n    <path clip-path=\"url(#p832bdb26f4)\" d=\"M 619.032802 333.36 \r\nL 619.032802 333.36 \r\n\" style=\"fill:none;stroke:#000000;stroke-width:1.5;\"/>\r\n    <path clip-path=\"url(#p832bdb26f4)\" d=\"M 635.108346 333.418781 \r\nL 635.108346 333.0174 \r\n\" style=\"fill:none;stroke:#000000;stroke-width:1.5;\"/>\r\n    <path clip-path=\"url(#p832bdb26f4)\" d=\"M 651.18389 333.36 \r\nL 651.18389 333.36 \r\n\" style=\"fill:none;stroke:#000000;stroke-width:1.5;\"/>\r\n    <path clip-path=\"url(#p832bdb26f4)\" d=\"M 667.259434 333.357349 \r\nL 667.259434 333.35564 \r\n\" style=\"fill:none;stroke:#000000;stroke-width:1.5;\"/>\r\n    <path clip-path=\"url(#p832bdb26f4)\" d=\"M 715.486067 333.36 \r\nL 715.486067 333.36 \r\n\" style=\"fill:none;stroke:#000000;stroke-width:1.5;\"/>\r\n    <path clip-path=\"url(#p832bdb26f4)\" d=\"M 731.561611 333.36 \r\nL 731.561611 333.36 \r\n\" style=\"fill:none;stroke:#000000;stroke-width:1.5;\"/>\r\n    <path clip-path=\"url(#p832bdb26f4)\" d=\"M 747.637155 333.36 \r\nL 747.637155 333.36 \r\n\" style=\"fill:none;stroke:#000000;stroke-width:1.5;\"/>\r\n    <path clip-path=\"url(#p832bdb26f4)\" d=\"M 763.712699 333.36 \r\nL 763.712699 333.36 \r\n\" style=\"fill:none;stroke:#000000;stroke-width:1.5;\"/>\r\n    <path clip-path=\"url(#p832bdb26f4)\" d=\"M 779.788243 333.36 \r\nL 779.788243 333.36 \r\n\" style=\"fill:none;stroke:#000000;stroke-width:1.5;\"/>\r\n    <path clip-path=\"url(#p832bdb26f4)\" d=\"M 795.863788 333.36 \r\nL 795.863788 333.36 \r\n\" style=\"fill:none;stroke:#000000;stroke-width:1.5;\"/>\r\n    <path clip-path=\"url(#p832bdb26f4)\" d=\"M 811.939332 333.36 \r\nL 811.939332 333.36 \r\n\" style=\"fill:none;stroke:#000000;stroke-width:1.5;\"/>\r\n    <path clip-path=\"url(#p832bdb26f4)\" d=\"M 828.014876 333.36 \r\nL 828.014876 333.36 \r\n\" style=\"fill:none;stroke:#000000;stroke-width:1.5;\"/>\r\n    <path clip-path=\"url(#p832bdb26f4)\" d=\"M 844.09042 333.36 \r\nL 844.09042 333.36 \r\n\" style=\"fill:none;stroke:#000000;stroke-width:1.5;\"/>\r\n    <path clip-path=\"url(#p832bdb26f4)\" d=\"M 860.165964 333.36 \r\nL 860.165964 333.36 \r\n\" style=\"fill:none;stroke:#000000;stroke-width:1.5;\"/>\r\n    <path clip-path=\"url(#p832bdb26f4)\" d=\"M 876.241508 333.36 \r\nL 876.241508 333.36 \r\n\" style=\"fill:none;stroke:#000000;stroke-width:1.5;\"/>\r\n    <path clip-path=\"url(#p832bdb26f4)\" d=\"M 892.317053 333.282981 \r\nL 892.317053 333.282297 \r\n\" style=\"fill:none;stroke:#000000;stroke-width:1.5;\"/>\r\n    <path clip-path=\"url(#p832bdb26f4)\" d=\"M 908.392597 333.315085 \r\nL 908.392597 333.304829 \r\n\" style=\"fill:none;stroke:#000000;stroke-width:1.5;\"/>\r\n    <path clip-path=\"url(#p832bdb26f4)\" d=\"M 924.468141 291.190255 \r\nL 924.468141 290.403905 \r\n\" style=\"fill:none;stroke:#000000;stroke-width:1.5;\"/>\r\n    <path clip-path=\"url(#p832bdb26f4)\" d=\"M 940.543685 293.897057 \r\nL 940.543685 276.497862 \r\n\" style=\"fill:none;stroke:#000000;stroke-width:1.5;\"/>\r\n    <path clip-path=\"url(#p832bdb26f4)\" d=\"M 956.619229 291.552018 \r\nL 956.619229 290.938323 \r\n\" style=\"fill:none;stroke:#000000;stroke-width:1.5;\"/>\r\n    <path clip-path=\"url(#p832bdb26f4)\" d=\"M 972.694774 293.117312 \r\nL 972.694774 279.343875 \r\n\" style=\"fill:none;stroke:#000000;stroke-width:1.5;\"/>\r\n    <path clip-path=\"url(#p832bdb26f4)\" d=\"M 988.770318 333.36 \r\nL 988.770318 333.36 \r\n\" style=\"fill:none;stroke:#000000;stroke-width:1.5;\"/>\r\n    <path clip-path=\"url(#p832bdb26f4)\" d=\"M 1004.845862 333.3586 \r\nL 1004.845862 333.358258 \r\n\" style=\"fill:none;stroke:#000000;stroke-width:1.5;\"/>\r\n   </g>\r\n   <g id=\"patch_58\">\r\n    <path d=\"M 52.530625 333.36 \r\nL 52.530625 7.2 \r\n\" style=\"fill:none;stroke:#000000;stroke-linecap:square;stroke-linejoin:miter;stroke-width:0.8;\"/>\r\n   </g>\r\n   <g id=\"patch_59\">\r\n    <path d=\"M 1056.930625 333.36 \r\nL 1056.930625 7.2 \r\n\" style=\"fill:none;stroke:#000000;stroke-linecap:square;stroke-linejoin:miter;stroke-width:0.8;\"/>\r\n   </g>\r\n   <g id=\"patch_60\">\r\n    <path d=\"M 52.530625 333.36 \r\nL 1056.930625 333.36 \r\n\" style=\"fill:none;stroke:#000000;stroke-linecap:square;stroke-linejoin:miter;stroke-width:0.8;\"/>\r\n   </g>\r\n   <g id=\"patch_61\">\r\n    <path d=\"M 52.530625 7.2 \r\nL 1056.930625 7.2 \r\n\" style=\"fill:none;stroke:#000000;stroke-linecap:square;stroke-linejoin:miter;stroke-width:0.8;\"/>\r\n   </g>\r\n  </g>\r\n  <g id=\"axes_2\">\r\n   <g id=\"patch_62\">\r\n    <path clip-path=\"url(#p832bdb26f4)\" d=\"M 98.18517 333.36 \r\nL 111.045606 333.36 \r\nL 111.045606 333.36 \r\nL 98.18517 333.36 \r\nz\r\n\" style=\"fill:#0000ff;fill-opacity:0.3;stroke:#0000ff;stroke-linejoin:miter;\"/>\r\n   </g>\r\n   <g id=\"patch_63\">\r\n    <path clip-path=\"url(#p832bdb26f4)\" d=\"M 114.260715 333.36 \r\nL 127.12115 333.36 \r\nL 127.12115 333.36 \r\nL 114.260715 333.36 \r\nz\r\n\" style=\"fill:#0000ff;fill-opacity:0.3;stroke:#0000ff;stroke-linejoin:miter;\"/>\r\n   </g>\r\n   <g id=\"patch_64\">\r\n    <path clip-path=\"url(#p832bdb26f4)\" d=\"M 130.336259 333.36 \r\nL 143.196694 333.36 \r\nL 143.196694 333.36 \r\nL 130.336259 333.36 \r\nz\r\n\" style=\"fill:#0000ff;fill-opacity:0.3;stroke:#0000ff;stroke-linejoin:miter;\"/>\r\n   </g>\r\n   <g id=\"patch_65\">\r\n    <path clip-path=\"url(#p832bdb26f4)\" d=\"M 146.411803 333.36 \r\nL 159.272238 333.36 \r\nL 159.272238 333.36 \r\nL 146.411803 333.36 \r\nz\r\n\" style=\"fill:#0000ff;fill-opacity:0.3;stroke:#0000ff;stroke-linejoin:miter;\"/>\r\n   </g>\r\n   <g id=\"patch_66\">\r\n    <path clip-path=\"url(#p832bdb26f4)\" d=\"M 162.487347 333.36 \r\nL 175.347782 333.36 \r\nL 175.347782 333.36 \r\nL 162.487347 333.36 \r\nz\r\n\" style=\"fill:#0000ff;fill-opacity:0.3;stroke:#0000ff;stroke-linejoin:miter;\"/>\r\n   </g>\r\n   <g id=\"patch_67\">\r\n    <path clip-path=\"url(#p832bdb26f4)\" d=\"M 178.562891 333.36 \r\nL 191.423327 333.36 \r\nL 191.423327 333.36 \r\nL 178.562891 333.36 \r\nz\r\n\" style=\"fill:#0000ff;fill-opacity:0.3;stroke:#0000ff;stroke-linejoin:miter;\"/>\r\n   </g>\r\n   <g id=\"patch_68\">\r\n    <path clip-path=\"url(#p832bdb26f4)\" d=\"M 194.638435 333.36 \r\nL 207.498871 333.36 \r\nL 207.498871 333.36 \r\nL 194.638435 333.36 \r\nz\r\n\" style=\"fill:#0000ff;fill-opacity:0.3;stroke:#0000ff;stroke-linejoin:miter;\"/>\r\n   </g>\r\n   <g id=\"patch_69\">\r\n    <path clip-path=\"url(#p832bdb26f4)\" d=\"M 210.71398 333.36 \r\nL 223.574415 333.36 \r\nL 223.574415 333.36 \r\nL 210.71398 333.36 \r\nz\r\n\" style=\"fill:#0000ff;fill-opacity:0.3;stroke:#0000ff;stroke-linejoin:miter;\"/>\r\n   </g>\r\n   <g id=\"patch_70\">\r\n    <path clip-path=\"url(#p832bdb26f4)\" d=\"M 226.789524 333.36 \r\nL 239.649959 333.36 \r\nL 239.649959 333.36 \r\nL 226.789524 333.36 \r\nz\r\n\" style=\"fill:#0000ff;fill-opacity:0.3;stroke:#0000ff;stroke-linejoin:miter;\"/>\r\n   </g>\r\n   <g id=\"patch_71\">\r\n    <path clip-path=\"url(#p832bdb26f4)\" d=\"M 242.865068 333.36 \r\nL 255.725503 333.36 \r\nL 255.725503 333.36 \r\nL 242.865068 333.36 \r\nz\r\n\" style=\"fill:#0000ff;fill-opacity:0.3;stroke:#0000ff;stroke-linejoin:miter;\"/>\r\n   </g>\r\n   <g id=\"patch_72\">\r\n    <path clip-path=\"url(#p832bdb26f4)\" d=\"M 258.940612 333.36 \r\nL 271.801048 333.36 \r\nL 271.801048 333.36 \r\nL 258.940612 333.36 \r\nz\r\n\" style=\"fill:#0000ff;fill-opacity:0.3;stroke:#0000ff;stroke-linejoin:miter;\"/>\r\n   </g>\r\n   <g id=\"patch_73\">\r\n    <path clip-path=\"url(#p832bdb26f4)\" d=\"M 275.016156 333.36 \r\nL 287.876592 333.36 \r\nL 287.876592 333.36 \r\nL 275.016156 333.36 \r\nz\r\n\" style=\"fill:#0000ff;fill-opacity:0.3;stroke:#0000ff;stroke-linejoin:miter;\"/>\r\n   </g>\r\n   <g id=\"patch_74\">\r\n    <path clip-path=\"url(#p832bdb26f4)\" d=\"M 291.091701 333.36 \r\nL 303.952136 333.36 \r\nL 303.952136 56.384409 \r\nL 291.091701 56.384409 \r\nz\r\n\" style=\"fill:#0000ff;fill-opacity:0.3;stroke:#0000ff;stroke-linejoin:miter;\"/>\r\n   </g>\r\n   <g id=\"patch_75\">\r\n    <path clip-path=\"url(#p832bdb26f4)\" d=\"M 307.167245 333.36 \r\nL 320.02768 333.36 \r\nL 320.02768 333.36 \r\nL 307.167245 333.36 \r\nz\r\n\" style=\"fill:#0000ff;fill-opacity:0.3;stroke:#0000ff;stroke-linejoin:miter;\"/>\r\n   </g>\r\n   <g id=\"patch_76\">\r\n    <path clip-path=\"url(#p832bdb26f4)\" d=\"M 323.242789 333.36 \r\nL 336.103224 333.36 \r\nL 336.103224 327.108496 \r\nL 323.242789 327.108496 \r\nz\r\n\" style=\"fill:#0000ff;fill-opacity:0.3;stroke:#0000ff;stroke-linejoin:miter;\"/>\r\n   </g>\r\n   <g id=\"patch_77\">\r\n    <path clip-path=\"url(#p832bdb26f4)\" d=\"M 339.318333 333.36 \r\nL 352.178768 333.36 \r\nL 352.178768 333.239911 \r\nL 339.318333 333.239911 \r\nz\r\n\" style=\"fill:#0000ff;fill-opacity:0.3;stroke:#0000ff;stroke-linejoin:miter;\"/>\r\n   </g>\r\n   <g id=\"patch_78\">\r\n    <path clip-path=\"url(#p832bdb26f4)\" d=\"M 355.393877 333.36 \r\nL 368.254313 333.36 \r\nL 368.254313 333.36 \r\nL 355.393877 333.36 \r\nz\r\n\" style=\"fill:#0000ff;fill-opacity:0.3;stroke:#0000ff;stroke-linejoin:miter;\"/>\r\n   </g>\r\n   <g id=\"patch_79\">\r\n    <path clip-path=\"url(#p832bdb26f4)\" d=\"M 371.469421 333.36 \r\nL 384.329857 333.36 \r\nL 384.329857 333.36 \r\nL 371.469421 333.36 \r\nz\r\n\" style=\"fill:#0000ff;fill-opacity:0.3;stroke:#0000ff;stroke-linejoin:miter;\"/>\r\n   </g>\r\n   <g id=\"patch_80\">\r\n    <path clip-path=\"url(#p832bdb26f4)\" d=\"M 387.544966 333.36 \r\nL 400.405401 333.36 \r\nL 400.405401 333.36 \r\nL 387.544966 333.36 \r\nz\r\n\" style=\"fill:#0000ff;fill-opacity:0.3;stroke:#0000ff;stroke-linejoin:miter;\"/>\r\n   </g>\r\n   <g id=\"patch_81\">\r\n    <path clip-path=\"url(#p832bdb26f4)\" d=\"M 403.62051 333.36 \r\nL 416.480945 333.36 \r\nL 416.480945 307.142798 \r\nL 403.62051 307.142798 \r\nz\r\n\" style=\"fill:#0000ff;fill-opacity:0.3;stroke:#0000ff;stroke-linejoin:miter;\"/>\r\n   </g>\r\n   <g id=\"patch_82\">\r\n    <path clip-path=\"url(#p832bdb26f4)\" d=\"M 419.696054 333.36 \r\nL 432.556489 333.36 \r\nL 432.556489 333.26736 \r\nL 419.696054 333.26736 \r\nz\r\n\" style=\"fill:#0000ff;fill-opacity:0.3;stroke:#0000ff;stroke-linejoin:miter;\"/>\r\n   </g>\r\n   <g id=\"patch_83\">\r\n    <path clip-path=\"url(#p832bdb26f4)\" d=\"M 435.771598 333.36 \r\nL 448.632033 333.36 \r\nL 448.632033 333.332551 \r\nL 435.771598 333.332551 \r\nz\r\n\" style=\"fill:#0000ff;fill-opacity:0.3;stroke:#0000ff;stroke-linejoin:miter;\"/>\r\n   </g>\r\n   <g id=\"patch_84\">\r\n    <path clip-path=\"url(#p832bdb26f4)\" d=\"M 451.847142 333.36 \r\nL 464.707578 333.36 \r\nL 464.707578 333.346276 \r\nL 451.847142 333.346276 \r\nz\r\n\" style=\"fill:#0000ff;fill-opacity:0.3;stroke:#0000ff;stroke-linejoin:miter;\"/>\r\n   </g>\r\n   <g id=\"patch_85\">\r\n    <path clip-path=\"url(#p832bdb26f4)\" d=\"M 467.922686 333.36 \r\nL 480.783122 333.36 \r\nL 480.783122 333.36 \r\nL 467.922686 333.36 \r\nz\r\n\" style=\"fill:#0000ff;fill-opacity:0.3;stroke:#0000ff;stroke-linejoin:miter;\"/>\r\n   </g>\r\n   <g id=\"patch_86\">\r\n    <path clip-path=\"url(#p832bdb26f4)\" d=\"M 483.998231 333.36 \r\nL 496.858666 333.36 \r\nL 496.858666 22.750838 \r\nL 483.998231 22.750838 \r\nz\r\n\" style=\"fill:#0000ff;fill-opacity:0.3;stroke:#0000ff;stroke-linejoin:miter;\"/>\r\n   </g>\r\n   <g id=\"patch_87\">\r\n    <path clip-path=\"url(#p832bdb26f4)\" d=\"M 500.073775 333.36 \r\nL 512.93421 333.36 \r\nL 512.93421 333.332551 \r\nL 500.073775 333.332551 \r\nz\r\n\" style=\"fill:#0000ff;fill-opacity:0.3;stroke:#0000ff;stroke-linejoin:miter;\"/>\r\n   </g>\r\n   <g id=\"patch_88\">\r\n    <path clip-path=\"url(#p832bdb26f4)\" d=\"M 516.149319 333.36 \r\nL 529.009754 333.36 \r\nL 529.009754 333.36 \r\nL 516.149319 333.36 \r\nz\r\n\" style=\"fill:#0000ff;fill-opacity:0.3;stroke:#0000ff;stroke-linejoin:miter;\"/>\r\n   </g>\r\n   <g id=\"patch_89\">\r\n    <path clip-path=\"url(#p832bdb26f4)\" d=\"M 532.224863 333.36 \r\nL 545.085298 333.36 \r\nL 545.085298 333.346276 \r\nL 532.224863 333.346276 \r\nz\r\n\" style=\"fill:#0000ff;fill-opacity:0.3;stroke:#0000ff;stroke-linejoin:miter;\"/>\r\n   </g>\r\n   <g id=\"patch_90\">\r\n    <path clip-path=\"url(#p832bdb26f4)\" d=\"M 548.300407 333.36 \r\nL 561.160843 333.36 \r\nL 561.160843 333.36 \r\nL 548.300407 333.36 \r\nz\r\n\" style=\"fill:#0000ff;fill-opacity:0.3;stroke:#0000ff;stroke-linejoin:miter;\"/>\r\n   </g>\r\n   <g id=\"patch_91\">\r\n    <path clip-path=\"url(#p832bdb26f4)\" d=\"M 564.375952 333.36 \r\nL 577.236387 333.36 \r\nL 577.236387 333.36 \r\nL 564.375952 333.36 \r\nz\r\n\" style=\"fill:#0000ff;fill-opacity:0.3;stroke:#0000ff;stroke-linejoin:miter;\"/>\r\n   </g>\r\n   <g id=\"patch_92\">\r\n    <path clip-path=\"url(#p832bdb26f4)\" d=\"M 580.451496 333.36 \r\nL 593.311931 333.36 \r\nL 593.311931 333.36 \r\nL 580.451496 333.36 \r\nz\r\n\" style=\"fill:#0000ff;fill-opacity:0.3;stroke:#0000ff;stroke-linejoin:miter;\"/>\r\n   </g>\r\n   <g id=\"patch_93\">\r\n    <path clip-path=\"url(#p832bdb26f4)\" d=\"M 596.52704 333.36 \r\nL 609.387475 333.36 \r\nL 609.387475 333.36 \r\nL 596.52704 333.36 \r\nz\r\n\" style=\"fill:#0000ff;fill-opacity:0.3;stroke:#0000ff;stroke-linejoin:miter;\"/>\r\n   </g>\r\n   <g id=\"patch_94\">\r\n    <path clip-path=\"url(#p832bdb26f4)\" d=\"M 612.602584 333.36 \r\nL 625.463019 333.36 \r\nL 625.463019 333.36 \r\nL 612.602584 333.36 \r\nz\r\n\" style=\"fill:#0000ff;fill-opacity:0.3;stroke:#0000ff;stroke-linejoin:miter;\"/>\r\n   </g>\r\n   <g id=\"patch_95\">\r\n    <path clip-path=\"url(#p832bdb26f4)\" d=\"M 628.678128 333.36 \r\nL 641.538564 333.36 \r\nL 641.538564 333.36 \r\nL 628.678128 333.36 \r\nz\r\n\" style=\"fill:#0000ff;fill-opacity:0.3;stroke:#0000ff;stroke-linejoin:miter;\"/>\r\n   </g>\r\n   <g id=\"patch_96\">\r\n    <path clip-path=\"url(#p832bdb26f4)\" d=\"M 644.753672 333.36 \r\nL 657.614108 333.36 \r\nL 657.614108 333.36 \r\nL 644.753672 333.36 \r\nz\r\n\" style=\"fill:#0000ff;fill-opacity:0.3;stroke:#0000ff;stroke-linejoin:miter;\"/>\r\n   </g>\r\n   <g id=\"patch_97\">\r\n    <path clip-path=\"url(#p832bdb26f4)\" d=\"M 660.829217 333.36 \r\nL 673.689652 333.36 \r\nL 673.689652 333.36 \r\nL 660.829217 333.36 \r\nz\r\n\" style=\"fill:#0000ff;fill-opacity:0.3;stroke:#0000ff;stroke-linejoin:miter;\"/>\r\n   </g>\r\n   <g id=\"patch_98\">\r\n    <path clip-path=\"url(#p832bdb26f4)\" d=\"M 709.055849 333.36 \r\nL 721.916284 333.36 \r\nL 721.916284 333.36 \r\nL 709.055849 333.36 \r\nz\r\n\" style=\"fill:#0000ff;fill-opacity:0.3;stroke:#0000ff;stroke-linejoin:miter;\"/>\r\n   </g>\r\n   <g id=\"patch_99\">\r\n    <path clip-path=\"url(#p832bdb26f4)\" d=\"M 725.131393 333.36 \r\nL 737.991829 333.36 \r\nL 737.991829 333.36 \r\nL 725.131393 333.36 \r\nz\r\n\" style=\"fill:#0000ff;fill-opacity:0.3;stroke:#0000ff;stroke-linejoin:miter;\"/>\r\n   </g>\r\n   <g id=\"patch_100\">\r\n    <path clip-path=\"url(#p832bdb26f4)\" d=\"M 741.206937 333.36 \r\nL 754.067373 333.36 \r\nL 754.067373 333.36 \r\nL 741.206937 333.36 \r\nz\r\n\" style=\"fill:#0000ff;fill-opacity:0.3;stroke:#0000ff;stroke-linejoin:miter;\"/>\r\n   </g>\r\n   <g id=\"patch_101\">\r\n    <path clip-path=\"url(#p832bdb26f4)\" d=\"M 757.282482 333.36 \r\nL 770.142917 333.36 \r\nL 770.142917 333.36 \r\nL 757.282482 333.36 \r\nz\r\n\" style=\"fill:#0000ff;fill-opacity:0.3;stroke:#0000ff;stroke-linejoin:miter;\"/>\r\n   </g>\r\n   <g id=\"patch_102\">\r\n    <path clip-path=\"url(#p832bdb26f4)\" d=\"M 773.358026 333.36 \r\nL 786.218461 333.36 \r\nL 786.218461 333.36 \r\nL 773.358026 333.36 \r\nz\r\n\" style=\"fill:#0000ff;fill-opacity:0.3;stroke:#0000ff;stroke-linejoin:miter;\"/>\r\n   </g>\r\n   <g id=\"patch_103\">\r\n    <path clip-path=\"url(#p832bdb26f4)\" d=\"M 789.43357 333.36 \r\nL 802.294005 333.36 \r\nL 802.294005 333.36 \r\nL 789.43357 333.36 \r\nz\r\n\" style=\"fill:#0000ff;fill-opacity:0.3;stroke:#0000ff;stroke-linejoin:miter;\"/>\r\n   </g>\r\n   <g id=\"patch_104\">\r\n    <path clip-path=\"url(#p832bdb26f4)\" d=\"M 805.509114 333.36 \r\nL 818.369549 333.36 \r\nL 818.369549 333.36 \r\nL 805.509114 333.36 \r\nz\r\n\" style=\"fill:#0000ff;fill-opacity:0.3;stroke:#0000ff;stroke-linejoin:miter;\"/>\r\n   </g>\r\n   <g id=\"patch_105\">\r\n    <path clip-path=\"url(#p832bdb26f4)\" d=\"M 821.584658 333.36 \r\nL 834.445094 333.36 \r\nL 834.445094 333.36 \r\nL 821.584658 333.36 \r\nz\r\n\" style=\"fill:#0000ff;fill-opacity:0.3;stroke:#0000ff;stroke-linejoin:miter;\"/>\r\n   </g>\r\n   <g id=\"patch_106\">\r\n    <path clip-path=\"url(#p832bdb26f4)\" d=\"M 837.660202 333.36 \r\nL 850.520638 333.36 \r\nL 850.520638 333.36 \r\nL 837.660202 333.36 \r\nz\r\n\" style=\"fill:#0000ff;fill-opacity:0.3;stroke:#0000ff;stroke-linejoin:miter;\"/>\r\n   </g>\r\n   <g id=\"patch_107\">\r\n    <path clip-path=\"url(#p832bdb26f4)\" d=\"M 853.735747 333.36 \r\nL 866.596182 333.36 \r\nL 866.596182 333.36 \r\nL 853.735747 333.36 \r\nz\r\n\" style=\"fill:#0000ff;fill-opacity:0.3;stroke:#0000ff;stroke-linejoin:miter;\"/>\r\n   </g>\r\n   <g id=\"patch_108\">\r\n    <path clip-path=\"url(#p832bdb26f4)\" d=\"M 869.811291 333.36 \r\nL 882.671726 333.36 \r\nL 882.671726 333.36 \r\nL 869.811291 333.36 \r\nz\r\n\" style=\"fill:#0000ff;fill-opacity:0.3;stroke:#0000ff;stroke-linejoin:miter;\"/>\r\n   </g>\r\n   <g id=\"patch_109\">\r\n    <path clip-path=\"url(#p832bdb26f4)\" d=\"M 885.886835 333.36 \r\nL 898.74727 333.36 \r\nL 898.74727 333.253635 \r\nL 885.886835 333.253635 \r\nz\r\n\" style=\"fill:#0000ff;fill-opacity:0.3;stroke:#0000ff;stroke-linejoin:miter;\"/>\r\n   </g>\r\n   <g id=\"patch_110\">\r\n    <path clip-path=\"url(#p832bdb26f4)\" d=\"M 901.962379 333.36 \r\nL 914.822815 333.36 \r\nL 914.822815 333.36 \r\nL 901.962379 333.36 \r\nz\r\n\" style=\"fill:#0000ff;fill-opacity:0.3;stroke:#0000ff;stroke-linejoin:miter;\"/>\r\n   </g>\r\n   <g id=\"patch_111\">\r\n    <path clip-path=\"url(#p832bdb26f4)\" d=\"M 918.037923 333.36 \r\nL 930.898359 333.36 \r\nL 930.898359 307.170247 \r\nL 918.037923 307.170247 \r\nz\r\n\" style=\"fill:#0000ff;fill-opacity:0.3;stroke:#0000ff;stroke-linejoin:miter;\"/>\r\n   </g>\r\n   <g id=\"patch_112\">\r\n    <path clip-path=\"url(#p832bdb26f4)\" d=\"M 934.113468 333.36 \r\nL 946.973903 333.36 \r\nL 946.973903 307.170247 \r\nL 934.113468 307.170247 \r\nz\r\n\" style=\"fill:#0000ff;fill-opacity:0.3;stroke:#0000ff;stroke-linejoin:miter;\"/>\r\n   </g>\r\n   <g id=\"patch_113\">\r\n    <path clip-path=\"url(#p832bdb26f4)\" d=\"M 950.189012 333.36 \r\nL 963.049447 333.36 \r\nL 963.049447 307.170247 \r\nL 950.189012 307.170247 \r\nz\r\n\" style=\"fill:#0000ff;fill-opacity:0.3;stroke:#0000ff;stroke-linejoin:miter;\"/>\r\n   </g>\r\n   <g id=\"patch_114\">\r\n    <path clip-path=\"url(#p832bdb26f4)\" d=\"M 966.264556 333.36 \r\nL 979.124991 333.36 \r\nL 979.124991 307.170247 \r\nL 966.264556 307.170247 \r\nz\r\n\" style=\"fill:#0000ff;fill-opacity:0.3;stroke:#0000ff;stroke-linejoin:miter;\"/>\r\n   </g>\r\n   <g id=\"patch_115\">\r\n    <path clip-path=\"url(#p832bdb26f4)\" d=\"M 982.3401 333.36 \r\nL 995.200535 333.36 \r\nL 995.200535 333.36 \r\nL 982.3401 333.36 \r\nz\r\n\" style=\"fill:#0000ff;fill-opacity:0.3;stroke:#0000ff;stroke-linejoin:miter;\"/>\r\n   </g>\r\n   <g id=\"patch_116\">\r\n    <path clip-path=\"url(#p832bdb26f4)\" d=\"M 998.415644 333.36 \r\nL 1011.27608 333.36 \r\nL 1011.27608 333.36 \r\nL 998.415644 333.36 \r\nz\r\n\" style=\"fill:#0000ff;fill-opacity:0.3;stroke:#0000ff;stroke-linejoin:miter;\"/>\r\n   </g>\r\n   <g id=\"matplotlib.axis_3\">\r\n    <g id=\"ytick_8\">\r\n     <g id=\"line2d_71\">\r\n      <defs>\r\n       <path d=\"M 0 0 \r\nL -3.5 0 \r\n\" id=\"m2d216776ed\" style=\"stroke:#000000;stroke-width:0.8;\"/>\r\n      </defs>\r\n      <g>\r\n       <use style=\"stroke:#000000;stroke-width:0.8;\" x=\"1056.930625\" xlink:href=\"#m2d216776ed\" y=\"333.36\"/>\r\n      </g>\r\n     </g>\r\n     <g id=\"text_22\">\r\n      <!-- 0 -->\r\n      <g transform=\"translate(1060.430625 337.159219)scale(0.1 -0.1)\">\r\n       <use xlink:href=\"#DejaVuSans-48\"/>\r\n      </g>\r\n     </g>\r\n    </g>\r\n    <g id=\"ytick_9\">\r\n     <g id=\"line2d_72\">\r\n      <g>\r\n       <use style=\"stroke:#000000;stroke-width:0.8;\" x=\"1056.930625\" xlink:href=\"#m2d216776ed\" y=\"264.737564\"/>\r\n      </g>\r\n     </g>\r\n     <g id=\"text_23\">\r\n      <!-- 20 -->\r\n      <g transform=\"translate(1060.430625 268.536783)scale(0.1 -0.1)\">\r\n       <use xlink:href=\"#DejaVuSans-50\"/>\r\n       <use x=\"63.623047\" xlink:href=\"#DejaVuSans-48\"/>\r\n      </g>\r\n     </g>\r\n    </g>\r\n    <g id=\"ytick_10\">\r\n     <g id=\"line2d_73\">\r\n      <g>\r\n       <use style=\"stroke:#000000;stroke-width:0.8;\" x=\"1056.930625\" xlink:href=\"#m2d216776ed\" y=\"196.115128\"/>\r\n      </g>\r\n     </g>\r\n     <g id=\"text_24\">\r\n      <!-- 40 -->\r\n      <g transform=\"translate(1060.430625 199.914347)scale(0.1 -0.1)\">\r\n       <use xlink:href=\"#DejaVuSans-52\"/>\r\n       <use x=\"63.623047\" xlink:href=\"#DejaVuSans-48\"/>\r\n      </g>\r\n     </g>\r\n    </g>\r\n    <g id=\"ytick_11\">\r\n     <g id=\"line2d_74\">\r\n      <g>\r\n       <use style=\"stroke:#000000;stroke-width:0.8;\" x=\"1056.930625\" xlink:href=\"#m2d216776ed\" y=\"127.492693\"/>\r\n      </g>\r\n     </g>\r\n     <g id=\"text_25\">\r\n      <!-- 60 -->\r\n      <g transform=\"translate(1060.430625 131.291911)scale(0.1 -0.1)\">\r\n       <use xlink:href=\"#DejaVuSans-54\"/>\r\n       <use x=\"63.623047\" xlink:href=\"#DejaVuSans-48\"/>\r\n      </g>\r\n     </g>\r\n    </g>\r\n    <g id=\"ytick_12\">\r\n     <g id=\"line2d_75\">\r\n      <g>\r\n       <use style=\"stroke:#000000;stroke-width:0.8;\" x=\"1056.930625\" xlink:href=\"#m2d216776ed\" y=\"58.870257\"/>\r\n      </g>\r\n     </g>\r\n     <g id=\"text_26\">\r\n      <!-- 80 -->\r\n      <g transform=\"translate(1060.430625 62.669476)scale(0.1 -0.1)\">\r\n       <use xlink:href=\"#DejaVuSans-56\"/>\r\n       <use x=\"63.623047\" xlink:href=\"#DejaVuSans-48\"/>\r\n      </g>\r\n     </g>\r\n    </g>\r\n    <g id=\"text_27\">\r\n     <!-- Memory Change (MiB) -->\r\n     <g style=\"fill:#0000ff;\" transform=\"translate(1089.250625 251.4825)rotate(-90)scale(0.16 -0.16)\">\r\n      <defs>\r\n       <path d=\"M 88.1875 0 \r\nL 57.5625 0 \r\nL 57.5625 3.46875 \r\nQ 59.234375 3.515625 61.84375 3.8125 \r\nQ 64.453125 4.109375 65.4375 4.640625 \r\nQ 66.9375 5.5625 67.640625 6.75 \r\nQ 68.359375 7.953125 68.359375 9.765625 \r\nL 68.359375 60.15625 \r\nL 67.625 60.15625 \r\nL 44 1.125 \r\nL 41.546875 1.125 \r\nL 19.046875 61.375 \r\nL 18.40625 61.375 \r\nL 18.40625 20.015625 \r\nQ 18.40625 14.015625 19.15625 10.890625 \r\nQ 19.921875 7.765625 21.484375 6.390625 \r\nQ 22.5625 5.375 25.921875 4.4375 \r\nQ 29.296875 3.515625 30.328125 3.46875 \r\nL 30.328125 0 \r\nL 2.34375 0 \r\nL 2.34375 3.46875 \r\nQ 4.546875 3.65625 6.953125 4.1875 \r\nQ 9.375 4.734375 10.6875 5.8125 \r\nQ 12.40625 7.171875 13.03125 10 \r\nQ 13.671875 12.84375 13.671875 19.484375 \r\nL 13.671875 54.9375 \r\nQ 13.671875 58.015625 12.9375 59.96875 \r\nQ 12.203125 61.921875 10.84375 63.140625 \r\nQ 9.328125 64.453125 7.125 65.078125 \r\nQ 4.9375 65.71875 2.78125 65.828125 \r\nL 2.78125 69.28125 \r\nL 26.421875 69.28125 \r\nL 46.234375 17.328125 \r\nL 63.1875 60.796875 \r\nQ 64.109375 63.1875 64.765625 65.796875 \r\nQ 65.4375 68.40625 65.484375 69.28125 \r\nL 88.09375 69.28125 \r\nL 88.09375 65.828125 \r\nQ 86.71875 65.765625 84.59375 65.375 \r\nQ 82.46875 64.984375 81.5 64.65625 \r\nQ 79.828125 64.0625 79.234375 62.6875 \r\nQ 78.65625 61.328125 78.65625 59.71875 \r\nL 78.65625 9.765625 \r\nQ 78.65625 8.0625 79.234375 6.890625 \r\nQ 79.828125 5.71875 81.5 4.828125 \r\nQ 82.375 4.34375 84.609375 3.921875 \r\nQ 86.859375 3.515625 88.1875 3.46875 \r\nz\r\n\" id=\"Georgia-77\"/>\r\n       <path d=\"M 50.4375 24.5625 \r\nQ 50.4375 19.484375 48.828125 14.578125 \r\nQ 47.21875 9.671875 44.234375 6.25 \r\nQ 40.875 2.34375 36.421875 0.4375 \r\nQ 31.984375 -1.46875 26.46875 -1.46875 \r\nQ 21.875 -1.46875 17.71875 0.265625 \r\nQ 13.578125 2 10.359375 5.328125 \r\nQ 7.171875 8.59375 5.296875 13.296875 \r\nQ 3.421875 18.015625 3.421875 23.875 \r\nQ 3.421875 35.15625 9.984375 42.328125 \r\nQ 16.546875 49.515625 27.203125 49.515625 \r\nQ 37.3125 49.515625 43.875 42.703125 \r\nQ 50.4375 35.890625 50.4375 24.5625 \r\nz\r\nM 40.328125 24.46875 \r\nQ 40.328125 28.125 39.59375 32.203125 \r\nQ 38.875 36.28125 37.40625 39.109375 \r\nQ 35.84375 42.140625 33.296875 43.96875 \r\nQ 30.765625 45.796875 27.09375 45.796875 \r\nQ 23.34375 45.796875 20.671875 43.9375 \r\nQ 18.015625 42.09375 16.359375 38.875 \r\nQ 14.796875 35.890625 14.15625 32.078125 \r\nQ 13.53125 28.265625 13.53125 24.703125 \r\nQ 13.53125 20.015625 14.28125 16.03125 \r\nQ 15.046875 12.0625 16.703125 8.9375 \r\nQ 18.359375 5.8125 20.875 4.03125 \r\nQ 23.390625 2.25 27.09375 2.25 \r\nQ 33.203125 2.25 36.765625 8.15625 \r\nQ 40.328125 14.0625 40.328125 24.46875 \r\nz\r\n\" id=\"Georgia-111\"/>\r\n       <path d=\"M 40.375 41.9375 \r\nQ 40.375 39.453125 39.15625 37.515625 \r\nQ 37.9375 35.59375 35.40625 35.59375 \r\nQ 32.671875 35.59375 31.21875 37 \r\nQ 29.78125 38.421875 29.78125 40.140625 \r\nQ 29.78125 41.21875 29.953125 42.09375 \r\nQ 30.125 42.96875 30.28125 43.84375 \r\nQ 27.984375 43.84375 24.90625 41.984375 \r\nQ 21.828125 40.140625 19.671875 36.71875 \r\nL 19.671875 8.6875 \r\nQ 19.671875 6.984375 20.328125 5.90625 \r\nQ 21 4.828125 22.40625 4.296875 \r\nQ 23.640625 3.8125 25.5625 3.5625 \r\nQ 27.484375 3.328125 28.90625 3.21875 \r\nL 28.90625 0 \r\nL 3.515625 0 \r\nL 3.515625 3.21875 \r\nQ 4.640625 3.328125 5.828125 3.421875 \r\nQ 7.03125 3.515625 7.90625 3.8125 \r\nQ 9.28125 4.25 9.9375 5.34375 \r\nQ 10.59375 6.453125 10.59375 8.203125 \r\nL 10.59375 37.9375 \r\nQ 10.59375 39.453125 9.890625 40.921875 \r\nQ 9.1875 42.390625 7.90625 43.265625 \r\nQ 6.984375 43.84375 5.703125 44.109375 \r\nQ 4.4375 44.390625 2.984375 44.484375 \r\nL 2.984375 47.65625 \r\nL 19 48.734375 \r\nL 19.671875 48.046875 \r\nL 19.671875 41.265625 \r\nL 19.921875 41.265625 \r\nQ 22.953125 45.21875 26.65625 47.265625 \r\nQ 30.375 49.3125 33.453125 49.3125 \r\nQ 36.53125 49.3125 38.453125 47.3125 \r\nQ 40.375 45.3125 40.375 41.9375 \r\nz\r\n\" id=\"Georgia-114\"/>\r\n       <path d=\"M -0.140625 -15.71875 \r\nQ -0.140625 -13.28125 1.203125 -11.734375 \r\nQ 2.546875 -10.203125 4.546875 -10.203125 \r\nQ 6.109375 -10.203125 7.21875 -10.78125 \r\nQ 8.34375 -11.375 9.234375 -12.3125 \r\nQ 9.96875 -13.03125 10.796875 -14.296875 \r\nQ 11.625 -15.578125 12.109375 -16.40625 \r\nQ 14.546875 -15.09375 17.9375 -9.515625 \r\nQ 21.34375 -3.953125 22.859375 0.25 \r\nQ 18.21875 11.8125 14.453125 20.9375 \r\nQ 10.6875 30.078125 6.59375 39.84375 \r\nQ 5.671875 42.09375 3.46875 43.328125 \r\nQ 1.265625 44.578125 -0.921875 44.921875 \r\nL -0.921875 48.140625 \r\nL 21.046875 48.140625 \r\nL 21.046875 44.734375 \r\nQ 19.578125 44.671875 17.53125 44.109375 \r\nQ 15.484375 43.5625 15.484375 42.828125 \r\nQ 15.484375 42.53125 15.703125 41.84375 \r\nQ 15.921875 41.15625 16.21875 40.4375 \r\nQ 18.0625 35.59375 21.875 26.484375 \r\nQ 25.6875 17.390625 27.78125 11.921875 \r\nQ 29.984375 17.140625 32.34375 22.734375 \r\nQ 34.71875 28.328125 37.640625 35.9375 \r\nQ 37.984375 36.859375 38.625 38.5 \r\nQ 39.265625 40.140625 39.265625 41.3125 \r\nQ 39.265625 42.578125 37.03125 43.671875 \r\nQ 34.8125 44.78125 32.8125 45.015625 \r\nL 32.8125 48.140625 \r\nL 50.6875 48.140625 \r\nL 50.6875 45.125 \r\nQ 49.21875 44.875 46.828125 43.4375 \r\nQ 44.4375 42 43.265625 39.359375 \r\nQ 37.453125 25.875 32.9375 14.796875 \r\nQ 28.421875 3.71875 26.078125 -1.515625 \r\nQ 23 -8.34375 20.578125 -12.171875 \r\nQ 18.171875 -16.015625 15.875 -18.21875 \r\nQ 13.625 -20.265625 11.796875 -20.96875 \r\nQ 9.96875 -21.6875 8.015625 -21.6875 \r\nQ 4.203125 -21.6875 2.03125 -19.875 \r\nQ -0.140625 -18.0625 -0.140625 -15.71875 \r\nz\r\n\" id=\"Georgia-121\"/>\r\n       <path d=\"M 35.296875 -1.609375 \r\nQ 29.109375 -1.609375 23.40625 0.828125 \r\nQ 17.71875 3.265625 13.328125 7.859375 \r\nQ 8.984375 12.453125 6.390625 19.0625 \r\nQ 3.8125 25.6875 3.8125 33.984375 \r\nQ 3.8125 42.28125 6.34375 49.046875 \r\nQ 8.890625 55.8125 13.375 60.6875 \r\nQ 17.828125 65.53125 23.875 68.15625 \r\nQ 29.9375 70.796875 36.8125 70.796875 \r\nQ 41.9375 70.796875 46.09375 69.53125 \r\nQ 50.25 68.265625 54 65.96875 \r\nL 56 69.28125 \r\nL 59.90625 69.28125 \r\nL 60.359375 44.578125 \r\nL 56.34375 44.578125 \r\nQ 55.5625 48.1875 54 52.40625 \r\nQ 52.4375 56.640625 50.34375 59.578125 \r\nQ 48 62.890625 44.765625 64.765625 \r\nQ 41.546875 66.65625 37.40625 66.65625 \r\nQ 32.671875 66.65625 28.59375 64.546875 \r\nQ 24.515625 62.453125 21.53125 58.34375 \r\nQ 18.703125 54.390625 17.09375 48.28125 \r\nQ 15.484375 42.1875 15.484375 34.671875 \r\nQ 15.484375 28.03125 17.15625 22.484375 \r\nQ 18.84375 16.9375 21.96875 12.75 \r\nQ 25.09375 8.59375 29.359375 6.25 \r\nQ 33.640625 3.90625 38.921875 3.90625 \r\nQ 42.875 3.90625 46.1875 5.140625 \r\nQ 49.515625 6.390625 51.953125 8.453125 \r\nQ 54.390625 10.59375 56.25 13.328125 \r\nQ 58.109375 16.0625 59.28125 19.28125 \r\nL 62.9375 17.53125 \r\nQ 58.734375 7.234375 51.796875 2.8125 \r\nQ 44.875 -1.609375 35.296875 -1.609375 \r\nz\r\n\" id=\"Georgia-67\"/>\r\n       <path d=\"M 55.8125 0 \r\nL 32.171875 0 \r\nL 32.171875 3.21875 \r\nQ 33.296875 3.328125 34.65625 3.421875 \r\nQ 36.03125 3.515625 36.921875 3.8125 \r\nQ 38.28125 4.25 38.9375 5.34375 \r\nQ 39.59375 6.453125 39.59375 8.203125 \r\nL 39.59375 32.953125 \r\nQ 39.59375 38.09375 37.171875 40.875 \r\nQ 34.765625 43.65625 31.296875 43.65625 \r\nQ 28.765625 43.65625 26.59375 42.84375 \r\nQ 24.421875 42.046875 22.703125 40.875 \r\nQ 21.046875 39.65625 20.15625 38.421875 \r\nQ 19.28125 37.203125 18.796875 36.375 \r\nL 18.796875 8.6875 \r\nQ 18.796875 7.03125 19.453125 5.953125 \r\nQ 20.125 4.890625 21.484375 4.296875 \r\nQ 22.5625 3.8125 23.703125 3.5625 \r\nQ 24.859375 3.328125 26.21875 3.21875 \r\nL 26.21875 0 \r\nL 2.59375 0 \r\nL 2.59375 3.21875 \r\nQ 3.71875 3.328125 4.9375 3.4375 \r\nQ 6.15625 3.5625 6.984375 3.8125 \r\nQ 8.34375 4.25 9.03125 5.34375 \r\nQ 9.71875 6.453125 9.71875 8.203125 \r\nL 9.71875 64.265625 \r\nQ 9.71875 65.921875 8.953125 67.578125 \r\nQ 8.203125 69.234375 6.984375 70.0625 \r\nQ 6.109375 70.703125 3.875 70.96875 \r\nQ 1.65625 71.234375 0.296875 71.34375 \r\nL 0.296875 74.46875 \r\nL 18.109375 75.59375 \r\nL 18.796875 74.859375 \r\nL 18.796875 41.265625 \r\nL 19 41.265625 \r\nQ 20.609375 42.875 21.921875 44.109375 \r\nQ 23.25 45.359375 25.390625 46.734375 \r\nQ 27.25 47.90625 29.765625 48.6875 \r\nQ 32.28125 49.46875 35.40625 49.46875 \r\nQ 41.84375 49.46875 45.3125 45.390625 \r\nQ 48.78125 41.3125 48.78125 33.640625 \r\nL 48.78125 8.59375 \r\nQ 48.78125 6.890625 49.390625 5.828125 \r\nQ 50 4.78125 51.421875 4.203125 \r\nQ 52.546875 3.765625 53.4375 3.546875 \r\nQ 54.34375 3.328125 55.8125 3.21875 \r\nz\r\n\" id=\"Georgia-104\"/>\r\n       <path d=\"M 49.125 0.875 \r\nQ 46.828125 0.046875 45.09375 -0.46875 \r\nQ 43.359375 -0.984375 41.15625 -0.984375 \r\nQ 37.359375 -0.984375 35.078125 0.796875 \r\nQ 32.8125 2.59375 32.171875 6 \r\nL 31.890625 6 \r\nQ 28.71875 2.484375 25.078125 0.625 \r\nQ 21.4375 -1.21875 16.3125 -1.21875 \r\nQ 10.890625 -1.21875 7.390625 2.09375 \r\nQ 3.90625 5.421875 3.90625 10.796875 \r\nQ 3.90625 13.578125 4.6875 15.765625 \r\nQ 5.46875 17.96875 7.03125 19.734375 \r\nQ 8.25 21.1875 10.25 22.328125 \r\nQ 12.25 23.484375 14.015625 24.171875 \r\nQ 16.21875 25 22.921875 27.25 \r\nQ 29.640625 29.5 31.984375 30.765625 \r\nL 31.984375 35.59375 \r\nQ 31.984375 36.234375 31.71875 38.03125 \r\nQ 31.453125 39.84375 30.5625 41.453125 \r\nQ 29.59375 43.265625 27.8125 44.609375 \r\nQ 26.03125 45.953125 22.75 45.953125 \r\nQ 20.515625 45.953125 18.578125 45.1875 \r\nQ 16.65625 44.4375 15.875 43.609375 \r\nQ 15.875 42.625 16.328125 40.71875 \r\nQ 16.796875 38.8125 16.796875 37.203125 \r\nQ 16.796875 35.5 15.25 34.078125 \r\nQ 13.71875 32.671875 10.984375 32.671875 \r\nQ 8.546875 32.671875 7.390625 34.40625 \r\nQ 6.25 36.140625 6.25 38.28125 \r\nQ 6.25 40.53125 7.828125 42.578125 \r\nQ 9.421875 44.625 11.96875 46.234375 \r\nQ 14.15625 47.609375 17.28125 48.5625 \r\nQ 20.40625 49.515625 23.390625 49.515625 \r\nQ 27.484375 49.515625 30.53125 48.953125 \r\nQ 33.59375 48.390625 36.078125 46.53125 \r\nQ 38.578125 44.734375 39.859375 41.625 \r\nQ 41.15625 38.53125 41.15625 33.640625 \r\nQ 41.15625 26.65625 41.015625 21.265625 \r\nQ 40.875 15.875 40.875 9.46875 \r\nQ 40.875 7.5625 41.53125 6.4375 \r\nQ 42.1875 5.328125 43.5625 4.546875 \r\nQ 44.28125 4.109375 45.875 4.046875 \r\nQ 47.46875 4 49.125 4 \r\nz\r\nM 32.078125 26.65625 \r\nQ 27.9375 25.4375 24.8125 24.265625 \r\nQ 21.6875 23.09375 19 21.34375 \r\nQ 16.546875 19.671875 15.125 17.40625 \r\nQ 13.71875 15.140625 13.71875 12.015625 \r\nQ 13.71875 7.953125 15.84375 6.046875 \r\nQ 17.96875 4.15625 21.234375 4.15625 \r\nQ 24.703125 4.15625 27.34375 5.828125 \r\nQ 29.984375 7.515625 31.78125 9.8125 \r\nz\r\n\" id=\"Georgia-97\"/>\r\n       <path d=\"M 44.78125 4.984375 \r\nQ 46.734375 3.125 47.84375 0.78125 \r\nQ 48.96875 -1.5625 48.96875 -5.03125 \r\nQ 48.96875 -8.5 47.453125 -11.546875 \r\nQ 45.953125 -14.59375 42.875 -16.84375 \r\nQ 39.59375 -19.140625 35.046875 -20.40625 \r\nQ 30.515625 -21.6875 23.828125 -21.6875 \r\nQ 12.890625 -21.6875 7.46875 -18.484375 \r\nQ 2.046875 -15.28125 2.046875 -9.125 \r\nQ 2.046875 -4.15625 5.953125 -1.265625 \r\nQ 9.859375 1.609375 15.921875 1.859375 \r\nL 15.921875 2.546875 \r\nQ 14.453125 2.984375 12.890625 3.640625 \r\nQ 11.328125 4.296875 10.203125 5.171875 \r\nQ 8.9375 6.203125 8.15625 7.59375 \r\nQ 7.375 8.984375 7.375 11.03125 \r\nQ 7.375 13.625 9.203125 15.796875 \r\nQ 11.03125 17.96875 14.75 19.53125 \r\nL 14.75 20.265625 \r\nQ 10.0625 22.46875 7.46875 25.90625 \r\nQ 4.890625 29.34375 4.890625 33.890625 \r\nQ 4.890625 40.71875 9.984375 45.109375 \r\nQ 15.09375 49.515625 23.046875 49.515625 \r\nQ 25.25 49.515625 27.421875 49.078125 \r\nQ 29.59375 48.640625 31.84375 47.953125 \r\nL 48.640625 47.953125 \r\nL 48.640625 43.265625 \r\nL 37.3125 43.265625 \r\nL 37.3125 42.96875 \r\nQ 39.109375 40.875 39.984375 38.328125 \r\nQ 40.875 35.796875 40.875 33.34375 \r\nQ 40.875 27 35.71875 22.609375 \r\nQ 30.5625 18.21875 23.734375 18.21875 \r\nL 17.828125 18.21875 \r\nQ 16.703125 17.828125 15.484375 16.796875 \r\nQ 14.265625 15.765625 14.265625 14.015625 \r\nQ 14.265625 12.203125 15.28125 11.25 \r\nQ 16.3125 10.296875 17.78125 9.96875 \r\nQ 19.1875 9.578125 21.0625 9.46875 \r\nQ 22.953125 9.375 24.953125 9.328125 \r\nQ 27.09375 9.28125 30.828125 9.03125 \r\nQ 34.578125 8.796875 36.140625 8.734375 \r\nQ 38.375 8.640625 40.640625 7.65625 \r\nQ 42.921875 6.6875 44.78125 4.984375 \r\nz\r\nM 31.59375 33.546875 \r\nQ 31.59375 39.265625 29.265625 42.65625 \r\nQ 26.953125 46.046875 22.75 46.046875 \r\nQ 20.453125 46.046875 18.8125 45.09375 \r\nQ 17.1875 44.140625 16.15625 42.390625 \r\nQ 15.1875 40.765625 14.765625 38.5 \r\nQ 14.359375 36.234375 14.359375 33.84375 \r\nQ 14.359375 28.421875 16.71875 25 \r\nQ 19.09375 21.578125 22.859375 21.578125 \r\nQ 27.046875 21.578125 29.3125 24.96875 \r\nQ 31.59375 28.375 31.59375 33.546875 \r\nz\r\nM 40.96875 -6.84375 \r\nQ 40.96875 -4.109375 39.6875 -2.34375 \r\nQ 38.421875 -0.59375 35.84375 0.046875 \r\nQ 34.46875 0.25 30.21875 0.484375 \r\nQ 25.984375 0.734375 20.359375 0.734375 \r\nQ 15.09375 -0.296875 12.859375 -2.703125 \r\nQ 10.640625 -5.125 10.640625 -8.9375 \r\nQ 10.640625 -10.640625 11.375 -12.203125 \r\nQ 12.109375 -13.765625 13.921875 -15.09375 \r\nQ 15.625 -16.359375 18.5 -17.15625 \r\nQ 21.390625 -17.96875 25.53125 -17.96875 \r\nQ 32.71875 -17.96875 36.84375 -15.203125 \r\nQ 40.96875 -12.453125 40.96875 -6.84375 \r\nz\r\n\" id=\"Georgia-103\"/>\r\n       <path d=\"M 53.90625 32.28125 \r\nQ 56.9375 30.21875 58.9375 26.890625 \r\nQ 60.9375 23.578125 60.9375 18.84375 \r\nQ 60.9375 14.015625 58.828125 10.453125 \r\nQ 56.734375 6.890625 53.375 4.59375 \r\nQ 50.09375 2.34375 45.96875 1.171875 \r\nQ 41.84375 0 37.453125 0 \r\nL 4.640625 0 \r\nL 4.640625 3.46875 \r\nQ 5.8125 3.5625 8.046875 3.875 \r\nQ 10.296875 4.203125 11.28125 4.640625 \r\nQ 12.796875 5.328125 13.421875 6.46875 \r\nQ 14.0625 7.625 14.0625 9.421875 \r\nL 14.0625 59.234375 \r\nQ 14.0625 60.890625 13.5 62.15625 \r\nQ 12.9375 63.421875 11.28125 64.203125 \r\nQ 9.8125 64.9375 8 65.328125 \r\nQ 6.203125 65.71875 4.984375 65.828125 \r\nL 4.984375 69.28125 \r\nL 36.96875 69.28125 \r\nQ 40.671875 69.28125 44.0625 68.546875 \r\nQ 47.46875 67.828125 50.53125 65.96875 \r\nQ 53.421875 64.265625 55.265625 61.328125 \r\nQ 57.125 58.40625 57.125 54.203125 \r\nQ 57.125 50.53125 55.8125 47.671875 \r\nQ 54.5 44.828125 52.09375 42.78125 \r\nQ 49.859375 40.828125 46.953125 39.484375 \r\nQ 44.046875 38.140625 40.671875 37.40625 \r\nL 40.671875 36.96875 \r\nQ 43.65625 36.625 47.34375 35.46875 \r\nQ 51.03125 34.328125 53.90625 32.28125 \r\nz\r\nM 42.140625 42.71875 \r\nQ 43.953125 44.828125 44.65625 47.3125 \r\nQ 45.359375 49.8125 45.359375 53.21875 \r\nQ 45.359375 58.9375 42.234375 62.1875 \r\nQ 39.109375 65.4375 32.375 65.4375 \r\nQ 30.8125 65.4375 28.4375 65.359375 \r\nQ 26.078125 65.28125 24.46875 65.234375 \r\nL 24.46875 38.625 \r\nL 30.671875 38.625 \r\nQ 34.671875 38.625 37.515625 39.640625 \r\nQ 40.375 40.671875 42.140625 42.71875 \r\nz\r\nM 48.875 20.609375 \r\nQ 48.875 26.765625 44.75 30.71875 \r\nQ 40.625 34.671875 32.953125 34.671875 \r\nQ 29.828125 34.671875 27.671875 34.59375 \r\nQ 25.53125 34.515625 24.46875 34.46875 \r\nL 24.46875 10.0625 \r\nQ 24.46875 6.984375 26.953125 5.421875 \r\nQ 29.4375 3.859375 33.890625 3.859375 \r\nQ 41.15625 3.859375 45.015625 8.109375 \r\nQ 48.875 12.359375 48.875 20.609375 \r\nz\r\n\" id=\"Georgia-66\"/>\r\n      </defs>\r\n      <use xlink:href=\"#Georgia-77\"/>\r\n      <use x=\"92.724609\" xlink:href=\"#Georgia-101\"/>\r\n      <use x=\"141.064453\" xlink:href=\"#Georgia-109\"/>\r\n      <use x=\"229.150391\" xlink:href=\"#Georgia-111\"/>\r\n      <use x=\"283.056641\" xlink:href=\"#Georgia-114\"/>\r\n      <use x=\"324.023438\" xlink:href=\"#Georgia-121\"/>\r\n      <use x=\"373.242188\" xlink:href=\"#Georgia-32\"/>\r\n      <use x=\"397.363281\" xlink:href=\"#Georgia-67\"/>\r\n      <use x=\"461.572266\" xlink:href=\"#Georgia-104\"/>\r\n      <use x=\"519.775391\" xlink:href=\"#Georgia-97\"/>\r\n      <use x=\"570.166016\" xlink:href=\"#Georgia-110\"/>\r\n      <use x=\"629.248047\" xlink:href=\"#Georgia-103\"/>\r\n      <use x=\"680.175781\" xlink:href=\"#Georgia-101\"/>\r\n      <use x=\"728.515625\" xlink:href=\"#Georgia-32\"/>\r\n      <use x=\"752.636719\" xlink:href=\"#Georgia-40\"/>\r\n      <use x=\"790.136719\" xlink:href=\"#Georgia-77\"/>\r\n      <use x=\"882.861328\" xlink:href=\"#Georgia-105\"/>\r\n      <use x=\"912.158203\" xlink:href=\"#Georgia-66\"/>\r\n      <use x=\"977.539062\" xlink:href=\"#Georgia-41\"/>\r\n     </g>\r\n    </g>\r\n   </g>\r\n   <g id=\"LineCollection_2\">\r\n    <path clip-path=\"url(#p832bdb26f4)\" d=\"M 104.615388 333.36 \r\nL 104.615388 333.36 \r\n\" style=\"fill:none;stroke:#000000;stroke-width:1.5;\"/>\r\n    <path clip-path=\"url(#p832bdb26f4)\" d=\"M 120.690932 333.36 \r\nL 120.690932 333.36 \r\n\" style=\"fill:none;stroke:#000000;stroke-width:1.5;\"/>\r\n    <path clip-path=\"url(#p832bdb26f4)\" d=\"M 136.766476 333.36 \r\nL 136.766476 333.36 \r\n\" style=\"fill:none;stroke:#000000;stroke-width:1.5;\"/>\r\n    <path clip-path=\"url(#p832bdb26f4)\" d=\"M 152.842021 333.36 \r\nL 152.842021 333.36 \r\n\" style=\"fill:none;stroke:#000000;stroke-width:1.5;\"/>\r\n    <path clip-path=\"url(#p832bdb26f4)\" d=\"M 168.917565 333.36 \r\nL 168.917565 333.36 \r\n\" style=\"fill:none;stroke:#000000;stroke-width:1.5;\"/>\r\n    <path clip-path=\"url(#p832bdb26f4)\" d=\"M 184.993109 333.36 \r\nL 184.993109 333.36 \r\n\" style=\"fill:none;stroke:#000000;stroke-width:1.5;\"/>\r\n    <path clip-path=\"url(#p832bdb26f4)\" d=\"M 201.068653 333.36 \r\nL 201.068653 333.36 \r\n\" style=\"fill:none;stroke:#000000;stroke-width:1.5;\"/>\r\n    <path clip-path=\"url(#p832bdb26f4)\" d=\"M 217.144197 333.36 \r\nL 217.144197 333.36 \r\n\" style=\"fill:none;stroke:#000000;stroke-width:1.5;\"/>\r\n    <path clip-path=\"url(#p832bdb26f4)\" d=\"M 233.219742 333.36 \r\nL 233.219742 333.36 \r\n\" style=\"fill:none;stroke:#000000;stroke-width:1.5;\"/>\r\n    <path clip-path=\"url(#p832bdb26f4)\" d=\"M 249.295286 333.36 \r\nL 249.295286 333.36 \r\n\" style=\"fill:none;stroke:#000000;stroke-width:1.5;\"/>\r\n    <path clip-path=\"url(#p832bdb26f4)\" d=\"M 265.37083 333.36 \r\nL 265.37083 333.36 \r\n\" style=\"fill:none;stroke:#000000;stroke-width:1.5;\"/>\r\n    <path clip-path=\"url(#p832bdb26f4)\" d=\"M 281.446374 333.36 \r\nL 281.446374 333.36 \r\n\" style=\"fill:none;stroke:#000000;stroke-width:1.5;\"/>\r\n    <path clip-path=\"url(#p832bdb26f4)\" d=\"M 297.521918 56.411097 \r\nL 297.521918 56.357721 \r\n\" style=\"fill:none;stroke:#000000;stroke-width:1.5;\"/>\r\n    <path clip-path=\"url(#p832bdb26f4)\" d=\"M 313.597462 333.36 \r\nL 313.597462 333.36 \r\n\" style=\"fill:none;stroke:#000000;stroke-width:1.5;\"/>\r\n    <path clip-path=\"url(#p832bdb26f4)\" d=\"M 329.673007 327.157019 \r\nL 329.673007 327.059973 \r\n\" style=\"fill:none;stroke:#000000;stroke-width:1.5;\"/>\r\n    <path clip-path=\"url(#p832bdb26f4)\" d=\"M 345.748551 333.239911 \r\nL 345.748551 333.239911 \r\n\" style=\"fill:none;stroke:#000000;stroke-width:1.5;\"/>\r\n    <path clip-path=\"url(#p832bdb26f4)\" d=\"M 361.824095 333.36 \r\nL 361.824095 333.36 \r\n\" style=\"fill:none;stroke:#000000;stroke-width:1.5;\"/>\r\n    <path clip-path=\"url(#p832bdb26f4)\" d=\"M 377.899639 333.36 \r\nL 377.899639 333.36 \r\n\" style=\"fill:none;stroke:#000000;stroke-width:1.5;\"/>\r\n    <path clip-path=\"url(#p832bdb26f4)\" d=\"M 393.975183 333.36 \r\nL 393.975183 333.36 \r\n\" style=\"fill:none;stroke:#000000;stroke-width:1.5;\"/>\r\n    <path clip-path=\"url(#p832bdb26f4)\" d=\"M 410.050727 307.142798 \r\nL 410.050727 307.142798 \r\n\" style=\"fill:none;stroke:#000000;stroke-width:1.5;\"/>\r\n    <path clip-path=\"url(#p832bdb26f4)\" d=\"M 426.126272 333.26736 \r\nL 426.126272 333.26736 \r\n\" style=\"fill:none;stroke:#000000;stroke-width:1.5;\"/>\r\n    <path clip-path=\"url(#p832bdb26f4)\" d=\"M 442.201816 333.332551 \r\nL 442.201816 333.332551 \r\n\" style=\"fill:none;stroke:#000000;stroke-width:1.5;\"/>\r\n    <path clip-path=\"url(#p832bdb26f4)\" d=\"M 458.27736 333.346276 \r\nL 458.27736 333.346276 \r\n\" style=\"fill:none;stroke:#000000;stroke-width:1.5;\"/>\r\n    <path clip-path=\"url(#p832bdb26f4)\" d=\"M 474.352904 333.36 \r\nL 474.352904 333.36 \r\n\" style=\"fill:none;stroke:#000000;stroke-width:1.5;\"/>\r\n    <path clip-path=\"url(#p832bdb26f4)\" d=\"M 490.428448 22.770247 \r\nL 490.428448 22.731429 \r\n\" style=\"fill:none;stroke:#000000;stroke-width:1.5;\"/>\r\n    <path clip-path=\"url(#p832bdb26f4)\" d=\"M 506.503992 333.332551 \r\nL 506.503992 333.332551 \r\n\" style=\"fill:none;stroke:#000000;stroke-width:1.5;\"/>\r\n    <path clip-path=\"url(#p832bdb26f4)\" d=\"M 522.579537 333.36 \r\nL 522.579537 333.36 \r\n\" style=\"fill:none;stroke:#000000;stroke-width:1.5;\"/>\r\n    <path clip-path=\"url(#p832bdb26f4)\" d=\"M 538.655081 333.346276 \r\nL 538.655081 333.346276 \r\n\" style=\"fill:none;stroke:#000000;stroke-width:1.5;\"/>\r\n    <path clip-path=\"url(#p832bdb26f4)\" d=\"M 554.730625 333.36 \r\nL 554.730625 333.36 \r\n\" style=\"fill:none;stroke:#000000;stroke-width:1.5;\"/>\r\n    <path clip-path=\"url(#p832bdb26f4)\" d=\"M 570.806169 333.36 \r\nL 570.806169 333.36 \r\n\" style=\"fill:none;stroke:#000000;stroke-width:1.5;\"/>\r\n    <path clip-path=\"url(#p832bdb26f4)\" d=\"M 586.881713 333.36 \r\nL 586.881713 333.36 \r\n\" style=\"fill:none;stroke:#000000;stroke-width:1.5;\"/>\r\n    <path clip-path=\"url(#p832bdb26f4)\" d=\"M 602.957258 333.36 \r\nL 602.957258 333.36 \r\n\" style=\"fill:none;stroke:#000000;stroke-width:1.5;\"/>\r\n    <path clip-path=\"url(#p832bdb26f4)\" d=\"M 619.032802 333.36 \r\nL 619.032802 333.36 \r\n\" style=\"fill:none;stroke:#000000;stroke-width:1.5;\"/>\r\n    <path clip-path=\"url(#p832bdb26f4)\" d=\"M 635.108346 333.36 \r\nL 635.108346 333.36 \r\n\" style=\"fill:none;stroke:#000000;stroke-width:1.5;\"/>\r\n    <path clip-path=\"url(#p832bdb26f4)\" d=\"M 651.18389 333.36 \r\nL 651.18389 333.36 \r\n\" style=\"fill:none;stroke:#000000;stroke-width:1.5;\"/>\r\n    <path clip-path=\"url(#p832bdb26f4)\" d=\"M 667.259434 333.36 \r\nL 667.259434 333.36 \r\n\" style=\"fill:none;stroke:#000000;stroke-width:1.5;\"/>\r\n    <path clip-path=\"url(#p832bdb26f4)\" d=\"M 715.486067 333.36 \r\nL 715.486067 333.36 \r\n\" style=\"fill:none;stroke:#000000;stroke-width:1.5;\"/>\r\n    <path clip-path=\"url(#p832bdb26f4)\" d=\"M 731.561611 333.36 \r\nL 731.561611 333.36 \r\n\" style=\"fill:none;stroke:#000000;stroke-width:1.5;\"/>\r\n    <path clip-path=\"url(#p832bdb26f4)\" d=\"M 747.637155 333.36 \r\nL 747.637155 333.36 \r\n\" style=\"fill:none;stroke:#000000;stroke-width:1.5;\"/>\r\n    <path clip-path=\"url(#p832bdb26f4)\" d=\"M 763.712699 333.36 \r\nL 763.712699 333.36 \r\n\" style=\"fill:none;stroke:#000000;stroke-width:1.5;\"/>\r\n    <path clip-path=\"url(#p832bdb26f4)\" d=\"M 779.788243 333.36 \r\nL 779.788243 333.36 \r\n\" style=\"fill:none;stroke:#000000;stroke-width:1.5;\"/>\r\n    <path clip-path=\"url(#p832bdb26f4)\" d=\"M 795.863788 333.36 \r\nL 795.863788 333.36 \r\n\" style=\"fill:none;stroke:#000000;stroke-width:1.5;\"/>\r\n    <path clip-path=\"url(#p832bdb26f4)\" d=\"M 811.939332 333.36 \r\nL 811.939332 333.36 \r\n\" style=\"fill:none;stroke:#000000;stroke-width:1.5;\"/>\r\n    <path clip-path=\"url(#p832bdb26f4)\" d=\"M 828.014876 333.36 \r\nL 828.014876 333.36 \r\n\" style=\"fill:none;stroke:#000000;stroke-width:1.5;\"/>\r\n    <path clip-path=\"url(#p832bdb26f4)\" d=\"M 844.09042 333.36 \r\nL 844.09042 333.36 \r\n\" style=\"fill:none;stroke:#000000;stroke-width:1.5;\"/>\r\n    <path clip-path=\"url(#p832bdb26f4)\" d=\"M 860.165964 333.36 \r\nL 860.165964 333.36 \r\n\" style=\"fill:none;stroke:#000000;stroke-width:1.5;\"/>\r\n    <path clip-path=\"url(#p832bdb26f4)\" d=\"M 876.241508 333.36 \r\nL 876.241508 333.36 \r\n\" style=\"fill:none;stroke:#000000;stroke-width:1.5;\"/>\r\n    <path clip-path=\"url(#p832bdb26f4)\" d=\"M 892.317053 333.253635 \r\nL 892.317053 333.253635 \r\n\" style=\"fill:none;stroke:#000000;stroke-width:1.5;\"/>\r\n    <path clip-path=\"url(#p832bdb26f4)\" d=\"M 908.392597 333.36 \r\nL 908.392597 333.36 \r\n\" style=\"fill:none;stroke:#000000;stroke-width:1.5;\"/>\r\n    <path clip-path=\"url(#p832bdb26f4)\" d=\"M 924.468141 307.170247 \r\nL 924.468141 307.170247 \r\n\" style=\"fill:none;stroke:#000000;stroke-width:1.5;\"/>\r\n    <path clip-path=\"url(#p832bdb26f4)\" d=\"M 940.543685 307.170247 \r\nL 940.543685 307.170247 \r\n\" style=\"fill:none;stroke:#000000;stroke-width:1.5;\"/>\r\n    <path clip-path=\"url(#p832bdb26f4)\" d=\"M 956.619229 307.170247 \r\nL 956.619229 307.170247 \r\n\" style=\"fill:none;stroke:#000000;stroke-width:1.5;\"/>\r\n    <path clip-path=\"url(#p832bdb26f4)\" d=\"M 972.694774 307.170247 \r\nL 972.694774 307.170247 \r\n\" style=\"fill:none;stroke:#000000;stroke-width:1.5;\"/>\r\n    <path clip-path=\"url(#p832bdb26f4)\" d=\"M 988.770318 333.36 \r\nL 988.770318 333.36 \r\n\" style=\"fill:none;stroke:#000000;stroke-width:1.5;\"/>\r\n    <path clip-path=\"url(#p832bdb26f4)\" d=\"M 1004.845862 333.36 \r\nL 1004.845862 333.36 \r\n\" style=\"fill:none;stroke:#000000;stroke-width:1.5;\"/>\r\n   </g>\r\n   <g id=\"line2d_76\">\r\n    <path clip-path=\"url(#p832bdb26f4)\" d=\"M 104.615388 333.36 \r\nL 104.615388 22.750838 \r\n\" style=\"fill:none;stroke:#000000;stroke-dasharray:5.55,2.4;stroke-dashoffset:0;stroke-width:1.5;\"/>\r\n   </g>\r\n   <g id=\"line2d_77\">\r\n    <path clip-path=\"url(#p832bdb26f4)\" d=\"M 715.486067 333.36 \r\nL 715.486067 22.750838 \r\n\" style=\"fill:none;stroke:#000000;stroke-dasharray:5.55,2.4;stroke-dashoffset:0;stroke-width:1.5;\"/>\r\n   </g>\r\n   <g id=\"patch_117\">\r\n    <path d=\"M 52.530625 333.36 \r\nL 52.530625 7.2 \r\n\" style=\"fill:none;stroke:#000000;stroke-linecap:square;stroke-linejoin:miter;stroke-width:0.8;\"/>\r\n   </g>\r\n   <g id=\"patch_118\">\r\n    <path d=\"M 1056.930625 333.36 \r\nL 1056.930625 7.2 \r\n\" style=\"fill:none;stroke:#000000;stroke-linecap:square;stroke-linejoin:miter;stroke-width:0.8;\"/>\r\n   </g>\r\n   <g id=\"patch_119\">\r\n    <path d=\"M 52.530625 333.36 \r\nL 1056.930625 333.36 \r\n\" style=\"fill:none;stroke:#000000;stroke-linecap:square;stroke-linejoin:miter;stroke-width:0.8;\"/>\r\n   </g>\r\n   <g id=\"patch_120\">\r\n    <path d=\"M 52.530625 7.2 \r\nL 1056.930625 7.2 \r\n\" style=\"fill:none;stroke:#000000;stroke-linecap:square;stroke-linejoin:miter;stroke-width:0.8;\"/>\r\n   </g>\r\n   <g id=\"text_28\">\r\n    <g id=\"patch_121\">\r\n     <path d=\"M 115.485076 192.553075 \r\nL 115.485076 163.557763 \r\nL 93.745701 163.557763 \r\nL 93.745701 192.553075 \r\nz\r\n\" style=\"fill:#ffffff;stroke:#000000;stroke-linejoin:miter;\"/>\r\n    </g>\r\n    <!-- fun -->\r\n    <g transform=\"translate(108.388826 188.493075)rotate(-90)scale(0.14 -0.14)\">\r\n     <defs>\r\n      <path d=\"M 39.359375 69.78125 \r\nQ 39.359375 67.578125 38.1875 66.0625 \r\nQ 37.015625 64.546875 34.625 64.546875 \r\nQ 33.109375 64.546875 31.953125 65.1875 \r\nQ 30.8125 65.828125 29.828125 66.890625 \r\nQ 28.859375 67.96875 28.03125 69.328125 \r\nQ 27.203125 70.703125 26.609375 71.53125 \r\nQ 23.34375 71.390625 21.5625 66.96875 \r\nQ 19.78125 62.546875 19.78125 52.875 \r\nL 19.78125 47.953125 \r\nL 32.171875 47.953125 \r\nL 32.171875 43.265625 \r\nL 19.78125 43.265625 \r\nL 19.78125 8.6875 \r\nQ 19.78125 6.984375 20.4375 5.90625 \r\nQ 21.09375 4.828125 22.515625 4.296875 \r\nQ 23.6875 3.859375 25.640625 3.59375 \r\nQ 27.59375 3.328125 29 3.21875 \r\nL 29 0 \r\nL 3.609375 0 \r\nL 3.609375 3.21875 \r\nQ 4.734375 3.328125 5.921875 3.421875 \r\nQ 7.125 3.515625 8.015625 3.8125 \r\nQ 9.375 4.25 10.03125 5.34375 \r\nQ 10.6875 6.453125 10.6875 8.203125 \r\nL 10.6875 43.265625 \r\nL 1.171875 43.265625 \r\nL 1.171875 47.953125 \r\nL 10.6875 47.953125 \r\nL 10.6875 51.03125 \r\nQ 10.6875 62.015625 16.375 68.828125 \r\nQ 22.078125 75.640625 30.609375 75.640625 \r\nQ 34.96875 75.640625 37.15625 73.921875 \r\nQ 39.359375 72.21875 39.359375 69.78125 \r\nz\r\n\" id=\"Georgia-102\"/>\r\n      <path d=\"M 55.125 0.875 \r\nL 39.453125 -0.203125 \r\nL 38.71875 0.484375 \r\nL 38.71875 6.59375 \r\nL 38.421875 6.59375 \r\nQ 37.25 5.375 35.78125 3.984375 \r\nQ 34.328125 2.59375 32.421875 1.46875 \r\nQ 30.21875 0.140625 28.171875 -0.53125 \r\nQ 26.125 -1.21875 22.359375 -1.21875 \r\nQ 15.96875 -1.21875 12.625 2.953125 \r\nQ 9.28125 7.125 9.28125 15.09375 \r\nL 9.28125 38.140625 \r\nQ 9.28125 39.890625 8.609375 41.078125 \r\nQ 7.953125 42.28125 6.6875 43.171875 \r\nQ 5.8125 43.75 4.484375 44.015625 \r\nQ 3.171875 44.28125 1.703125 44.390625 \r\nL 1.703125 47.5625 \r\nL 17.78125 48.734375 \r\nL 18.5 48.046875 \r\nL 18.5 14.59375 \r\nQ 18.5 9.375 20.84375 6.734375 \r\nQ 23.1875 4.109375 26.46875 4.109375 \r\nQ 29.15625 4.109375 31.25 4.9375 \r\nQ 33.34375 5.765625 34.765625 6.890625 \r\nQ 36.078125 7.90625 37.078125 9.046875 \r\nQ 38.09375 10.203125 38.625 11.1875 \r\nL 38.625 38.484375 \r\nQ 38.625 40.09375 37.9375 41.328125 \r\nQ 37.25 42.578125 36.03125 43.453125 \r\nQ 35.15625 44.046875 33.421875 44.15625 \r\nQ 31.6875 44.28125 29.546875 44.390625 \r\nL 29.546875 47.5625 \r\nL 47.015625 48.734375 \r\nL 47.75 48.046875 \r\nL 47.75 9.8125 \r\nQ 47.75 8.15625 48.4375 6.984375 \r\nQ 49.125 5.8125 50.34375 4.984375 \r\nQ 51.21875 4.4375 52.4375 4.265625 \r\nQ 53.65625 4.109375 55.125 4.046875 \r\nz\r\n\" id=\"Georgia-117\"/>\r\n     </defs>\r\n     <use xlink:href=\"#Georgia-102\"/>\r\n     <use x=\"32.519531\" xlink:href=\"#Georgia-117\"/>\r\n     <use x=\"90.039062\" xlink:href=\"#Georgia-110\"/>\r\n    </g>\r\n   </g>\r\n   <g id=\"text_29\">\r\n    <g id=\"patch_122\">\r\n     <path d=\"M 726.355754 230.960106 \r\nL 726.355754 125.150731 \r\nL 704.616379 125.150731 \r\nL 704.616379 230.960106 \r\nz\r\n\" style=\"fill:#ffffff;stroke:#000000;stroke-linejoin:miter;\"/>\r\n    </g>\r\n    <!-- make_randoms -->\r\n    <g transform=\"translate(719.259504 226.900106)rotate(-90)scale(0.14 -0.14)\">\r\n     <defs>\r\n      <path d=\"M 54.546875 0 \r\nL 39.984375 0 \r\nQ 36.1875 5.515625 31.828125 11.8125 \r\nQ 27.484375 18.109375 22.796875 24.078125 \r\nL 18.796875 20.3125 \r\nL 18.796875 8.890625 \r\nQ 18.796875 7.125 19.421875 5.96875 \r\nQ 20.0625 4.828125 21.484375 4.296875 \r\nQ 22.65625 3.8125 23.734375 3.5625 \r\nQ 24.8125 3.328125 26.21875 3.21875 \r\nL 26.21875 0 \r\nL 2.59375 0 \r\nL 2.59375 3.21875 \r\nQ 3.71875 3.328125 4.9375 3.4375 \r\nQ 6.15625 3.5625 6.984375 3.8125 \r\nQ 8.34375 4.25 9.03125 5.34375 \r\nQ 9.71875 6.453125 9.71875 8.203125 \r\nL 9.71875 64.15625 \r\nQ 9.71875 65.96875 8.953125 67.546875 \r\nQ 8.203125 69.140625 6.984375 69.96875 \r\nQ 5.953125 70.75 3.78125 70.984375 \r\nQ 1.609375 71.234375 0.296875 71.34375 \r\nL 0.296875 74.46875 \r\nL 18.109375 75.59375 \r\nL 18.796875 74.859375 \r\nL 18.796875 23.921875 \r\nQ 22.609375 27.734375 27.03125 32.09375 \r\nQ 31.453125 36.46875 34.46875 39.890625 \r\nQ 34.859375 40.328125 35.328125 41.03125 \r\nQ 35.796875 41.75 35.796875 42.1875 \r\nQ 35.796875 43.5 33.671875 44.140625 \r\nQ 31.546875 44.78125 29.59375 45.015625 \r\nL 29.59375 48.140625 \r\nL 50.78125 48.140625 \r\nL 50.78125 45.125 \r\nQ 46.6875 43.890625 43.53125 42.0625 \r\nQ 40.375 40.234375 38.71875 38.765625 \r\nQ 37.546875 37.796875 35.390625 35.59375 \r\nQ 33.25 33.40625 29.390625 29.828125 \r\nQ 33.40625 24.90625 38.40625 18.015625 \r\nQ 43.40625 11.140625 45.703125 8.0625 \r\nQ 47.859375 5.171875 49.5625 4.296875 \r\nQ 51.265625 3.421875 54.546875 3.21875 \r\nz\r\n\" id=\"Georgia-107\"/>\r\n      <path d=\"M 64.546875 -13.765625 \r\nL -0.25 -13.765625 \r\nL -0.25 -8.84375 \r\nL 64.546875 -8.84375 \r\nz\r\n\" id=\"Georgia-95\"/>\r\n      <path d=\"M 56.25 0.875 \r\nL 39.453125 -0.203125 \r\nL 38.71875 0.484375 \r\nL 38.71875 4.984375 \r\nL 38.328125 5.078125 \r\nQ 35.796875 2.25 32.0625 0.4375 \r\nQ 28.328125 -1.375 24.359375 -1.375 \r\nQ 20.265625 -1.375 16.421875 0.453125 \r\nQ 12.59375 2.296875 9.765625 5.609375 \r\nQ 6.890625 8.984375 5.203125 13.71875 \r\nQ 3.515625 18.453125 3.515625 24.171875 \r\nQ 3.515625 29.390625 5.3125 34.078125 \r\nQ 7.125 38.765625 10.296875 42.28125 \r\nQ 13.28125 45.5625 17.59375 47.515625 \r\nQ 21.921875 49.46875 26.421875 49.46875 \r\nQ 29.78125 49.46875 33.03125 48.609375 \r\nQ 36.28125 47.75 38.625 46.4375 \r\nL 38.625 63.1875 \r\nQ 38.625 65.234375 37.9375 66.921875 \r\nQ 37.25 68.609375 36.03125 69.484375 \r\nQ 34.671875 70.40625 32.34375 70.8125 \r\nQ 30.03125 71.234375 27.34375 71.4375 \r\nL 27.34375 74.46875 \r\nL 47.015625 75.59375 \r\nL 47.75 74.859375 \r\nL 47.75 9.90625 \r\nQ 47.75 8.203125 48.40625 7 \r\nQ 49.078125 5.8125 50.34375 4.984375 \r\nQ 51.265625 4.390625 53.015625 4.25 \r\nQ 54.78125 4.109375 56.25 4.046875 \r\nz\r\nM 38.625 9.328125 \r\nL 38.625 37.5 \r\nQ 38.234375 38.765625 37.34375 40.234375 \r\nQ 36.46875 41.703125 35.15625 42.921875 \r\nQ 33.734375 44.140625 31.828125 44.9375 \r\nQ 29.9375 45.75 27.390625 45.75 \r\nQ 24.46875 45.75 22 44.234375 \r\nQ 19.53125 42.71875 17.625 39.890625 \r\nQ 15.828125 37.15625 14.765625 32.9375 \r\nQ 13.71875 28.71875 13.71875 23.578125 \r\nQ 13.71875 19.484375 14.5 16.140625 \r\nQ 15.28125 12.796875 17.140625 9.90625 \r\nQ 18.84375 7.171875 21.5 5.515625 \r\nQ 24.171875 3.859375 27.828125 3.859375 \r\nQ 31.734375 3.859375 34.296875 5.5625 \r\nQ 36.859375 7.28125 38.625 9.328125 \r\nz\r\n\" id=\"Georgia-100\"/>\r\n     </defs>\r\n     <use xlink:href=\"#Georgia-109\"/>\r\n     <use x=\"88.085938\" xlink:href=\"#Georgia-97\"/>\r\n     <use x=\"138.476562\" xlink:href=\"#Georgia-107\"/>\r\n     <use x=\"192.041016\" xlink:href=\"#Georgia-101\"/>\r\n     <use x=\"240.380859\" xlink:href=\"#Georgia-95\"/>\r\n     <use x=\"304.6875\" xlink:href=\"#Georgia-114\"/>\r\n     <use x=\"345.654297\" xlink:href=\"#Georgia-97\"/>\r\n     <use x=\"396.044922\" xlink:href=\"#Georgia-110\"/>\r\n     <use x=\"455.126953\" xlink:href=\"#Georgia-100\"/>\r\n     <use x=\"512.548828\" xlink:href=\"#Georgia-111\"/>\r\n     <use x=\"566.455078\" xlink:href=\"#Georgia-109\"/>\r\n     <use x=\"654.541016\" xlink:href=\"#Georgia-115\"/>\r\n    </g>\r\n   </g>\r\n  </g>\r\n </g>\r\n <defs>\r\n  <clipPath id=\"p832bdb26f4\">\r\n   <rect height=\"326.16\" width=\"1004.4\" x=\"52.530625\" y=\"7.2\"/>\r\n  </clipPath>\r\n </defs>\r\n</svg>\r\n",
      "image/png": "[encoded data removed]"
     },
     "metadata": {
      "needs_background": "light"
     }
    },
    {
     "output_type": "display_data",
     "data": {
      "text/plain": "<Figure size 1296x432 with 2 Axes>",
      "image/svg+xml": "<?xml version=\"1.0\" encoding=\"utf-8\" standalone=\"no\"?>\r\n<!DOCTYPE svg PUBLIC \"-//W3C//DTD SVG 1.1//EN\"\r\n  \"http://www.w3.org/Graphics/SVG/1.1/DTD/svg11.dtd\">\r\n<!-- Created with matplotlib (https://matplotlib.org/) -->\r\n<svg height=\"373.303125pt\" version=\"1.1\" viewBox=\"0 0 1099.920625 373.303125\" width=\"1099.920625pt\" xmlns=\"http://www.w3.org/2000/svg\" xmlns:xlink=\"http://www.w3.org/1999/xlink\">\r\n <metadata>\r\n  <rdf:RDF xmlns:cc=\"http://creativecommons.org/ns#\" xmlns:dc=\"http://purl.org/dc/elements/1.1/\" xmlns:rdf=\"http://www.w3.org/1999/02/22-rdf-syntax-ns#\">\r\n   <cc:Work>\r\n    <dc:type rdf:resource=\"http://purl.org/dc/dcmitype/StillImage\"/>\r\n    <dc:date>2021-06-28T14:07:24.369374</dc:date>\r\n    <dc:format>image/svg+xml</dc:format>\r\n    <dc:creator>\r\n     <cc:Agent>\r\n      <dc:title>Matplotlib v3.3.2, https://matplotlib.org/</dc:title>\r\n     </cc:Agent>\r\n    </dc:creator>\r\n   </cc:Work>\r\n  </rdf:RDF>\r\n </metadata>\r\n <defs>\r\n  <style type=\"text/css\">*{stroke-linecap:butt;stroke-linejoin:round;}</style>\r\n </defs>\r\n <g id=\"figure_1\">\r\n  <g id=\"patch_1\">\r\n   <path d=\"M 0 373.303125 \r\nL 1099.920625 373.303125 \r\nL 1099.920625 0 \r\nL 0 0 \r\nz\r\n\" style=\"fill:none;\"/>\r\n  </g>\r\n  <g id=\"axes_1\">\r\n   <g id=\"patch_2\">\r\n    <path d=\"M 52.530625 333.36 \r\nL 1056.930625 333.36 \r\nL 1056.930625 7.2 \r\nL 52.530625 7.2 \r\nz\r\n\" style=\"fill:#ffffff;\"/>\r\n   </g>\r\n   <g id=\"patch_3\">\r\n    <path clip-path=\"url(#p16680765c4)\" d=\"M 98.18517 333.36 \r\nL 205.60763 333.36 \r\nL 205.60763 333.36 \r\nL 98.18517 333.36 \r\nz\r\n\" style=\"fill:#ff0000;fill-opacity:0.3;stroke:#ff0000;stroke-linejoin:miter;\"/>\r\n   </g>\r\n   <g id=\"patch_4\">\r\n    <path clip-path=\"url(#p16680765c4)\" d=\"M 232.463245 333.36 \r\nL 339.885705 333.36 \r\nL 339.885705 333.36 \r\nL 232.463245 333.36 \r\nz\r\n\" style=\"fill:#ff0000;fill-opacity:0.3;stroke:#ff0000;stroke-linejoin:miter;\"/>\r\n   </g>\r\n   <g id=\"patch_5\">\r\n    <path clip-path=\"url(#p16680765c4)\" d=\"M 366.74132 333.36 \r\nL 474.16378 333.36 \r\nL 474.16378 333.213543 \r\nL 366.74132 333.213543 \r\nz\r\n\" style=\"fill:#ff0000;fill-opacity:0.3;stroke:#ff0000;stroke-linejoin:miter;\"/>\r\n   </g>\r\n   <g id=\"patch_6\">\r\n    <path clip-path=\"url(#p16680765c4)\" d=\"M 501.019395 333.36 \r\nL 608.441855 333.36 \r\nL 608.441855 31.949993 \r\nL 501.019395 31.949993 \r\nz\r\n\" style=\"fill:#ff0000;fill-opacity:0.3;stroke:#ff0000;stroke-linejoin:miter;\"/>\r\n   </g>\r\n   <g id=\"patch_7\">\r\n    <path clip-path=\"url(#p16680765c4)\" d=\"M 635.29747 333.36 \r\nL 742.71993 333.36 \r\nL 742.71993 333.186561 \r\nL 635.29747 333.186561 \r\nz\r\n\" style=\"fill:#ff0000;fill-opacity:0.3;stroke:#ff0000;stroke-linejoin:miter;\"/>\r\n   </g>\r\n   <g id=\"patch_8\">\r\n    <path clip-path=\"url(#p16680765c4)\" d=\"M 769.575545 333.36 \r\nL 876.998005 333.36 \r\nL 876.998005 333.36 \r\nL 769.575545 333.36 \r\nz\r\n\" style=\"fill:#ff0000;fill-opacity:0.3;stroke:#ff0000;stroke-linejoin:miter;\"/>\r\n   </g>\r\n   <g id=\"patch_9\">\r\n    <path clip-path=\"url(#p16680765c4)\" d=\"M 903.85362 333.36 \r\nL 1011.27608 333.36 \r\nL 1011.27608 329.331001 \r\nL 903.85362 329.331001 \r\nz\r\n\" style=\"fill:#ff0000;fill-opacity:0.3;stroke:#ff0000;stroke-linejoin:miter;\"/>\r\n   </g>\r\n   <g id=\"matplotlib.axis_1\">\r\n    <g id=\"xtick_1\">\r\n     <g id=\"line2d_1\">\r\n      <defs>\r\n       <path d=\"M 0 0 \r\nL 0 -3.5 \r\n\" id=\"mee9ca12af4\" style=\"stroke:#000000;stroke-width:0.8;\"/>\r\n      </defs>\r\n      <g>\r\n       <use style=\"stroke:#000000;stroke-width:0.8;\" x=\"286.174475\" xlink:href=\"#mee9ca12af4\" y=\"333.36\"/>\r\n      </g>\r\n     </g>\r\n     <g id=\"text_1\">\r\n      <!-- 5 -->\r\n      <g transform=\"translate(282.993225 344.458437)scale(0.1 -0.1)\">\r\n       <defs>\r\n        <path d=\"M 10.796875 72.90625 \r\nL 49.515625 72.90625 \r\nL 49.515625 64.59375 \r\nL 19.828125 64.59375 \r\nL 19.828125 46.734375 \r\nQ 21.96875 47.46875 24.109375 47.828125 \r\nQ 26.265625 48.1875 28.421875 48.1875 \r\nQ 40.625 48.1875 47.75 41.5 \r\nQ 54.890625 34.8125 54.890625 23.390625 \r\nQ 54.890625 11.625 47.5625 5.09375 \r\nQ 40.234375 -1.421875 26.90625 -1.421875 \r\nQ 22.3125 -1.421875 17.546875 -0.640625 \r\nQ 12.796875 0.140625 7.71875 1.703125 \r\nL 7.71875 11.625 \r\nQ 12.109375 9.234375 16.796875 8.0625 \r\nQ 21.484375 6.890625 26.703125 6.890625 \r\nQ 35.15625 6.890625 40.078125 11.328125 \r\nQ 45.015625 15.765625 45.015625 23.390625 \r\nQ 45.015625 31 40.078125 35.4375 \r\nQ 35.15625 39.890625 26.703125 39.890625 \r\nQ 22.75 39.890625 18.8125 39.015625 \r\nQ 14.890625 38.140625 10.796875 36.28125 \r\nz\r\n\" id=\"DejaVuSans-53\"/>\r\n       </defs>\r\n       <use xlink:href=\"#DejaVuSans-53\"/>\r\n      </g>\r\n     </g>\r\n    </g>\r\n    <g id=\"xtick_2\">\r\n     <g id=\"line2d_2\">\r\n      <g>\r\n       <use style=\"stroke:#000000;stroke-width:0.8;\" x=\"957.56485\" xlink:href=\"#mee9ca12af4\" y=\"333.36\"/>\r\n      </g>\r\n     </g>\r\n     <g id=\"text_2\">\r\n      <!-- 10 -->\r\n      <g transform=\"translate(951.20235 344.458437)scale(0.1 -0.1)\">\r\n       <defs>\r\n        <path d=\"M 12.40625 8.296875 \r\nL 28.515625 8.296875 \r\nL 28.515625 63.921875 \r\nL 10.984375 60.40625 \r\nL 10.984375 69.390625 \r\nL 28.421875 72.90625 \r\nL 38.28125 72.90625 \r\nL 38.28125 8.296875 \r\nL 54.390625 8.296875 \r\nL 54.390625 0 \r\nL 12.40625 0 \r\nz\r\n\" id=\"DejaVuSans-49\"/>\r\n        <path d=\"M 31.78125 66.40625 \r\nQ 24.171875 66.40625 20.328125 58.90625 \r\nQ 16.5 51.421875 16.5 36.375 \r\nQ 16.5 21.390625 20.328125 13.890625 \r\nQ 24.171875 6.390625 31.78125 6.390625 \r\nQ 39.453125 6.390625 43.28125 13.890625 \r\nQ 47.125 21.390625 47.125 36.375 \r\nQ 47.125 51.421875 43.28125 58.90625 \r\nQ 39.453125 66.40625 31.78125 66.40625 \r\nz\r\nM 31.78125 74.21875 \r\nQ 44.046875 74.21875 50.515625 64.515625 \r\nQ 56.984375 54.828125 56.984375 36.375 \r\nQ 56.984375 17.96875 50.515625 8.265625 \r\nQ 44.046875 -1.421875 31.78125 -1.421875 \r\nQ 19.53125 -1.421875 13.0625 8.265625 \r\nQ 6.59375 17.96875 6.59375 36.375 \r\nQ 6.59375 54.828125 13.0625 64.515625 \r\nQ 19.53125 74.21875 31.78125 74.21875 \r\nz\r\n\" id=\"DejaVuSans-48\"/>\r\n       </defs>\r\n       <use xlink:href=\"#DejaVuSans-49\"/>\r\n       <use x=\"63.623047\" xlink:href=\"#DejaVuSans-48\"/>\r\n      </g>\r\n     </g>\r\n    </g>\r\n    <g id=\"xtick_3\">\r\n     <g id=\"line2d_3\">\r\n      <defs>\r\n       <path d=\"M 0 0 \r\nL 0 -2 \r\n\" id=\"m5ba8715b1c\" style=\"stroke:#000000;stroke-width:0.6;\"/>\r\n      </defs>\r\n      <g>\r\n       <use style=\"stroke:#000000;stroke-width:0.6;\" x=\"151.8964\" xlink:href=\"#m5ba8715b1c\" y=\"333.36\"/>\r\n      </g>\r\n     </g>\r\n    </g>\r\n    <g id=\"xtick_4\">\r\n     <g id=\"line2d_4\">\r\n      <g>\r\n       <use style=\"stroke:#000000;stroke-width:0.6;\" x=\"420.45255\" xlink:href=\"#m5ba8715b1c\" y=\"333.36\"/>\r\n      </g>\r\n     </g>\r\n    </g>\r\n    <g id=\"xtick_5\">\r\n     <g id=\"line2d_5\">\r\n      <g>\r\n       <use style=\"stroke:#000000;stroke-width:0.6;\" x=\"554.730625\" xlink:href=\"#m5ba8715b1c\" y=\"333.36\"/>\r\n      </g>\r\n     </g>\r\n    </g>\r\n    <g id=\"xtick_6\">\r\n     <g id=\"line2d_6\">\r\n      <g>\r\n       <use style=\"stroke:#000000;stroke-width:0.6;\" x=\"689.0087\" xlink:href=\"#m5ba8715b1c\" y=\"333.36\"/>\r\n      </g>\r\n     </g>\r\n    </g>\r\n    <g id=\"xtick_7\">\r\n     <g id=\"line2d_7\">\r\n      <g>\r\n       <use style=\"stroke:#000000;stroke-width:0.6;\" x=\"823.286775\" xlink:href=\"#m5ba8715b1c\" y=\"333.36\"/>\r\n      </g>\r\n     </g>\r\n    </g>\r\n    <g id=\"text_3\">\r\n     <!-- Line # -->\r\n     <g transform=\"translate(531.889375 362.633125)scale(0.16 -0.16)\">\r\n      <defs>\r\n       <path d=\"M 60.40625 20.609375 \r\nL 58.9375 0 \r\nL 4.78125 0 \r\nL 4.78125 3.46875 \r\nQ 5.953125 3.5625 8.171875 3.796875 \r\nQ 10.40625 4.046875 11.28125 4.4375 \r\nQ 12.75 5.078125 13.40625 6.296875 \r\nQ 14.0625 7.515625 14.0625 9.421875 \r\nL 14.0625 59.03125 \r\nQ 14.0625 60.6875 13.5 61.953125 \r\nQ 12.9375 63.234375 11.28125 64.015625 \r\nQ 10.15625 64.59375 8.125 65.15625 \r\nQ 6.109375 65.71875 4.78125 65.828125 \r\nL 4.78125 69.28125 \r\nL 34.03125 69.28125 \r\nL 34.03125 65.828125 \r\nQ 32.671875 65.765625 30.5 65.328125 \r\nQ 28.328125 64.890625 27.34375 64.546875 \r\nQ 25.6875 63.96875 25.078125 62.546875 \r\nQ 24.46875 61.140625 24.46875 59.515625 \r\nL 24.46875 12.984375 \r\nQ 24.46875 9.765625 24.78125 7.984375 \r\nQ 25.09375 6.203125 26.265625 5.21875 \r\nQ 27.390625 4.34375 29.609375 4.078125 \r\nQ 31.84375 3.8125 35.84375 3.8125 \r\nQ 37.640625 3.8125 39.59375 3.90625 \r\nQ 41.546875 4 43.3125 4.296875 \r\nQ 45.015625 4.59375 46.453125 5.09375 \r\nQ 47.90625 5.609375 48.578125 6.390625 \r\nQ 50.59375 8.640625 53.25 13.203125 \r\nQ 55.90625 17.78125 56.9375 20.609375 \r\nz\r\n\" id=\"Georgia-76\"/>\r\n       <path d=\"M 26.90625 0 \r\nL 3.609375 0 \r\nL 3.609375 3.21875 \r\nQ 4.734375 3.328125 5.921875 3.421875 \r\nQ 7.125 3.515625 8.015625 3.8125 \r\nQ 9.375 4.25 10.03125 5.34375 \r\nQ 10.6875 6.453125 10.6875 8.203125 \r\nL 10.6875 37.9375 \r\nQ 10.6875 39.5 9.984375 40.796875 \r\nQ 9.28125 42.09375 8.015625 42.96875 \r\nQ 7.078125 43.5625 5.3125 43.96875 \r\nQ 3.5625 44.390625 2.09375 44.484375 \r\nL 2.09375 47.65625 \r\nL 19.09375 48.734375 \r\nL 19.78125 48.046875 \r\nL 19.78125 8.796875 \r\nQ 19.78125 7.078125 20.4375 5.953125 \r\nQ 21.09375 4.828125 22.515625 4.296875 \r\nQ 23.578125 3.859375 24.609375 3.59375 \r\nQ 25.640625 3.328125 26.90625 3.21875 \r\nz\r\nM 20.75 67.71875 \r\nQ 20.75 64.9375 18.921875 62.859375 \r\nQ 17.09375 60.796875 14.40625 60.796875 \r\nQ 11.921875 60.796875 10.078125 62.765625 \r\nQ 8.25 64.75 8.25 67.28125 \r\nQ 8.25 69.96875 10.078125 71.96875 \r\nQ 11.921875 73.96875 14.40625 73.96875 \r\nQ 17.1875 73.96875 18.96875 72.09375 \r\nQ 20.75 70.21875 20.75 67.71875 \r\nz\r\n\" id=\"Georgia-105\"/>\r\n       <path d=\"M 56.6875 0 \r\nL 33.109375 0 \r\nL 33.109375 3.21875 \r\nQ 34.234375 3.328125 35.578125 3.421875 \r\nQ 36.921875 3.515625 37.796875 3.8125 \r\nQ 39.15625 4.25 39.8125 5.34375 \r\nQ 40.484375 6.453125 40.484375 8.203125 \r\nL 40.484375 32.953125 \r\nQ 40.484375 38.09375 38.0625 40.875 \r\nQ 35.640625 43.65625 32.171875 43.65625 \r\nQ 29.59375 43.65625 27.4375 42.84375 \r\nQ 25.296875 42.046875 23.640625 40.875 \r\nQ 22.015625 39.75 21.0625 38.453125 \r\nQ 20.125 37.15625 19.671875 36.375 \r\nL 19.671875 8.6875 \r\nQ 19.671875 7.03125 20.359375 5.953125 \r\nQ 21.046875 4.890625 22.40625 4.296875 \r\nQ 23.4375 3.8125 24.625 3.5625 \r\nQ 25.828125 3.328125 27.09375 3.21875 \r\nL 27.09375 0 \r\nL 3.515625 0 \r\nL 3.515625 3.21875 \r\nQ 4.640625 3.328125 5.828125 3.421875 \r\nQ 7.03125 3.515625 7.90625 3.8125 \r\nQ 9.28125 4.25 9.9375 5.34375 \r\nQ 10.59375 6.453125 10.59375 8.203125 \r\nL 10.59375 37.9375 \r\nQ 10.59375 39.59375 9.890625 40.984375 \r\nQ 9.1875 42.390625 7.90625 43.265625 \r\nQ 6.984375 43.84375 5.703125 44.109375 \r\nQ 4.4375 44.390625 2.984375 44.484375 \r\nL 2.984375 47.65625 \r\nL 19 48.734375 \r\nL 19.671875 48.046875 \r\nL 19.671875 41.265625 \r\nL 19.921875 41.265625 \r\nQ 21.09375 42.4375 22.84375 44.0625 \r\nQ 24.609375 45.703125 26.171875 46.734375 \r\nQ 27.984375 47.90625 30.46875 48.6875 \r\nQ 32.953125 49.46875 36.078125 49.46875 \r\nQ 43.015625 49.46875 46.359375 45.140625 \r\nQ 49.703125 40.828125 49.703125 33.640625 \r\nL 49.703125 8.59375 \r\nQ 49.703125 6.890625 50.28125 5.828125 \r\nQ 50.875 4.78125 52.296875 4.203125 \r\nQ 53.46875 3.71875 54.3125 3.515625 \r\nQ 55.171875 3.328125 56.6875 3.21875 \r\nz\r\n\" id=\"Georgia-110\"/>\r\n       <path d=\"M 46.296875 11.328125 \r\nQ 43.265625 5.5625 38.1875 2.140625 \r\nQ 33.109375 -1.265625 26.515625 -1.265625 \r\nQ 20.703125 -1.265625 16.328125 0.78125 \r\nQ 11.96875 2.828125 9.125 6.34375 \r\nQ 6.296875 9.859375 4.90625 14.546875 \r\nQ 3.515625 19.234375 3.515625 24.46875 \r\nQ 3.515625 29.15625 5 33.671875 \r\nQ 6.5 38.1875 9.375 41.796875 \r\nQ 12.15625 45.265625 16.28125 47.390625 \r\nQ 20.40625 49.515625 25.53125 49.515625 \r\nQ 30.8125 49.515625 34.5625 47.84375 \r\nQ 38.328125 46.1875 40.671875 43.3125 \r\nQ 42.921875 40.578125 44.015625 36.859375 \r\nQ 45.125 33.15625 45.125 28.8125 \r\nL 45.125 25.59375 \r\nL 13.234375 25.59375 \r\nQ 13.234375 20.84375 14.140625 16.984375 \r\nQ 15.046875 13.140625 17 10.203125 \r\nQ 18.890625 7.375 21.96875 5.734375 \r\nQ 25.046875 4.109375 29.296875 4.109375 \r\nQ 33.640625 4.109375 36.78125 6.125 \r\nQ 39.9375 8.15625 42.875 13.421875 \r\nz\r\nM 35.5 29.6875 \r\nQ 35.5 32.421875 35.03125 35.546875 \r\nQ 34.578125 38.671875 33.546875 40.765625 \r\nQ 32.421875 43.015625 30.46875 44.421875 \r\nQ 28.515625 45.84375 25.4375 45.84375 \r\nQ 20.3125 45.84375 16.921875 41.578125 \r\nQ 13.53125 37.3125 13.234375 29.6875 \r\nz\r\n\" id=\"Georgia-101\"/>\r\n       <path id=\"Georgia-32\"/>\r\n       <path d=\"M 56.78125 36.375 \r\nL 44.625 36.375 \r\nL 41.109375 24.125 \r\nL 53.859375 24.125 \r\nL 53.859375 18.109375 \r\nL 39.40625 18.109375 \r\nL 34.1875 0 \r\nL 28.765625 0 \r\nL 33.984375 18.109375 \r\nL 23.390625 18.109375 \r\nL 18.171875 0 \r\nL 12.75 0 \r\nL 17.96875 18.109375 \r\nL 7.515625 18.109375 \r\nL 7.515625 24.125 \r\nL 19.671875 24.125 \r\nL 23.25 36.375 \r\nL 10.453125 36.375 \r\nL 10.453125 42.390625 \r\nL 24.90625 42.390625 \r\nL 30.03125 60.0625 \r\nL 35.453125 60.0625 \r\nL 30.328125 42.390625 \r\nL 40.921875 42.390625 \r\nL 46.046875 60.0625 \r\nL 51.46875 60.0625 \r\nL 46.34375 42.390625 \r\nL 56.78125 42.390625 \r\nz\r\nM 39.40625 36.46875 \r\nL 28.5625 36.46875 \r\nL 24.953125 24.03125 \r\nL 35.75 24.03125 \r\nz\r\n\" id=\"Georgia-35\"/>\r\n      </defs>\r\n      <use xlink:href=\"#Georgia-76\"/>\r\n      <use x=\"60.351562\" xlink:href=\"#Georgia-105\"/>\r\n      <use x=\"89.648438\" xlink:href=\"#Georgia-110\"/>\r\n      <use x=\"148.730469\" xlink:href=\"#Georgia-101\"/>\r\n      <use x=\"197.070312\" xlink:href=\"#Georgia-32\"/>\r\n      <use x=\"221.191406\" xlink:href=\"#Georgia-35\"/>\r\n     </g>\r\n    </g>\r\n   </g>\r\n   <g id=\"matplotlib.axis_2\">\r\n    <g id=\"ytick_1\">\r\n     <g id=\"line2d_8\">\r\n      <defs>\r\n       <path d=\"M 0 0 \r\nL 3.5 0 \r\n\" id=\"m846339ec5c\" style=\"stroke:#000000;stroke-width:0.8;\"/>\r\n      </defs>\r\n      <g>\r\n       <use style=\"stroke:#000000;stroke-width:0.8;\" x=\"52.530625\" xlink:href=\"#m846339ec5c\" y=\"333.36\"/>\r\n      </g>\r\n     </g>\r\n     <g id=\"text_4\">\r\n      <!-- 0.00 -->\r\n      <g transform=\"translate(26.765 337.159219)scale(0.1 -0.1)\">\r\n       <defs>\r\n        <path d=\"M 10.6875 12.40625 \r\nL 21 12.40625 \r\nL 21 0 \r\nL 10.6875 0 \r\nz\r\n\" id=\"DejaVuSans-46\"/>\r\n       </defs>\r\n       <use xlink:href=\"#DejaVuSans-48\"/>\r\n       <use x=\"63.623047\" xlink:href=\"#DejaVuSans-46\"/>\r\n       <use x=\"95.410156\" xlink:href=\"#DejaVuSans-48\"/>\r\n       <use x=\"159.033203\" xlink:href=\"#DejaVuSans-48\"/>\r\n      </g>\r\n     </g>\r\n    </g>\r\n    <g id=\"ytick_2\">\r\n     <g id=\"line2d_9\">\r\n      <g>\r\n       <use style=\"stroke:#000000;stroke-width:0.8;\" x=\"52.530625\" xlink:href=\"#m846339ec5c\" y=\"283.160661\"/>\r\n      </g>\r\n     </g>\r\n     <g id=\"text_5\">\r\n      <!-- 0.02 -->\r\n      <g transform=\"translate(26.765 286.95988)scale(0.1 -0.1)\">\r\n       <defs>\r\n        <path d=\"M 19.1875 8.296875 \r\nL 53.609375 8.296875 \r\nL 53.609375 0 \r\nL 7.328125 0 \r\nL 7.328125 8.296875 \r\nQ 12.9375 14.109375 22.625 23.890625 \r\nQ 32.328125 33.6875 34.8125 36.53125 \r\nQ 39.546875 41.84375 41.421875 45.53125 \r\nQ 43.3125 49.21875 43.3125 52.78125 \r\nQ 43.3125 58.59375 39.234375 62.25 \r\nQ 35.15625 65.921875 28.609375 65.921875 \r\nQ 23.96875 65.921875 18.8125 64.3125 \r\nQ 13.671875 62.703125 7.8125 59.421875 \r\nL 7.8125 69.390625 \r\nQ 13.765625 71.78125 18.9375 73 \r\nQ 24.125 74.21875 28.421875 74.21875 \r\nQ 39.75 74.21875 46.484375 68.546875 \r\nQ 53.21875 62.890625 53.21875 53.421875 \r\nQ 53.21875 48.921875 51.53125 44.890625 \r\nQ 49.859375 40.875 45.40625 35.40625 \r\nQ 44.1875 33.984375 37.640625 27.21875 \r\nQ 31.109375 20.453125 19.1875 8.296875 \r\nz\r\n\" id=\"DejaVuSans-50\"/>\r\n       </defs>\r\n       <use xlink:href=\"#DejaVuSans-48\"/>\r\n       <use x=\"63.623047\" xlink:href=\"#DejaVuSans-46\"/>\r\n       <use x=\"95.410156\" xlink:href=\"#DejaVuSans-48\"/>\r\n       <use x=\"159.033203\" xlink:href=\"#DejaVuSans-50\"/>\r\n      </g>\r\n     </g>\r\n    </g>\r\n    <g id=\"ytick_3\">\r\n     <g id=\"line2d_10\">\r\n      <g>\r\n       <use style=\"stroke:#000000;stroke-width:0.8;\" x=\"52.530625\" xlink:href=\"#m846339ec5c\" y=\"232.961323\"/>\r\n      </g>\r\n     </g>\r\n     <g id=\"text_6\">\r\n      <!-- 0.04 -->\r\n      <g transform=\"translate(26.765 236.760541)scale(0.1 -0.1)\">\r\n       <defs>\r\n        <path d=\"M 37.796875 64.3125 \r\nL 12.890625 25.390625 \r\nL 37.796875 25.390625 \r\nz\r\nM 35.203125 72.90625 \r\nL 47.609375 72.90625 \r\nL 47.609375 25.390625 \r\nL 58.015625 25.390625 \r\nL 58.015625 17.1875 \r\nL 47.609375 17.1875 \r\nL 47.609375 0 \r\nL 37.796875 0 \r\nL 37.796875 17.1875 \r\nL 4.890625 17.1875 \r\nL 4.890625 26.703125 \r\nz\r\n\" id=\"DejaVuSans-52\"/>\r\n       </defs>\r\n       <use xlink:href=\"#DejaVuSans-48\"/>\r\n       <use x=\"63.623047\" xlink:href=\"#DejaVuSans-46\"/>\r\n       <use x=\"95.410156\" xlink:href=\"#DejaVuSans-48\"/>\r\n       <use x=\"159.033203\" xlink:href=\"#DejaVuSans-52\"/>\r\n      </g>\r\n     </g>\r\n    </g>\r\n    <g id=\"ytick_4\">\r\n     <g id=\"line2d_11\">\r\n      <g>\r\n       <use style=\"stroke:#000000;stroke-width:0.8;\" x=\"52.530625\" xlink:href=\"#m846339ec5c\" y=\"182.761984\"/>\r\n      </g>\r\n     </g>\r\n     <g id=\"text_7\">\r\n      <!-- 0.06 -->\r\n      <g transform=\"translate(26.765 186.561203)scale(0.1 -0.1)\">\r\n       <defs>\r\n        <path d=\"M 33.015625 40.375 \r\nQ 26.375 40.375 22.484375 35.828125 \r\nQ 18.609375 31.296875 18.609375 23.390625 \r\nQ 18.609375 15.53125 22.484375 10.953125 \r\nQ 26.375 6.390625 33.015625 6.390625 \r\nQ 39.65625 6.390625 43.53125 10.953125 \r\nQ 47.40625 15.53125 47.40625 23.390625 \r\nQ 47.40625 31.296875 43.53125 35.828125 \r\nQ 39.65625 40.375 33.015625 40.375 \r\nz\r\nM 52.59375 71.296875 \r\nL 52.59375 62.3125 \r\nQ 48.875 64.0625 45.09375 64.984375 \r\nQ 41.3125 65.921875 37.59375 65.921875 \r\nQ 27.828125 65.921875 22.671875 59.328125 \r\nQ 17.53125 52.734375 16.796875 39.40625 \r\nQ 19.671875 43.65625 24.015625 45.921875 \r\nQ 28.375 48.1875 33.59375 48.1875 \r\nQ 44.578125 48.1875 50.953125 41.515625 \r\nQ 57.328125 34.859375 57.328125 23.390625 \r\nQ 57.328125 12.15625 50.6875 5.359375 \r\nQ 44.046875 -1.421875 33.015625 -1.421875 \r\nQ 20.359375 -1.421875 13.671875 8.265625 \r\nQ 6.984375 17.96875 6.984375 36.375 \r\nQ 6.984375 53.65625 15.1875 63.9375 \r\nQ 23.390625 74.21875 37.203125 74.21875 \r\nQ 40.921875 74.21875 44.703125 73.484375 \r\nQ 48.484375 72.75 52.59375 71.296875 \r\nz\r\n\" id=\"DejaVuSans-54\"/>\r\n       </defs>\r\n       <use xlink:href=\"#DejaVuSans-48\"/>\r\n       <use x=\"63.623047\" xlink:href=\"#DejaVuSans-46\"/>\r\n       <use x=\"95.410156\" xlink:href=\"#DejaVuSans-48\"/>\r\n       <use x=\"159.033203\" xlink:href=\"#DejaVuSans-54\"/>\r\n      </g>\r\n     </g>\r\n    </g>\r\n    <g id=\"ytick_5\">\r\n     <g id=\"line2d_12\">\r\n      <g>\r\n       <use style=\"stroke:#000000;stroke-width:0.8;\" x=\"52.530625\" xlink:href=\"#m846339ec5c\" y=\"132.562645\"/>\r\n      </g>\r\n     </g>\r\n     <g id=\"text_8\">\r\n      <!-- 0.08 -->\r\n      <g transform=\"translate(26.765 136.361864)scale(0.1 -0.1)\">\r\n       <defs>\r\n        <path d=\"M 31.78125 34.625 \r\nQ 24.75 34.625 20.71875 30.859375 \r\nQ 16.703125 27.09375 16.703125 20.515625 \r\nQ 16.703125 13.921875 20.71875 10.15625 \r\nQ 24.75 6.390625 31.78125 6.390625 \r\nQ 38.8125 6.390625 42.859375 10.171875 \r\nQ 46.921875 13.96875 46.921875 20.515625 \r\nQ 46.921875 27.09375 42.890625 30.859375 \r\nQ 38.875 34.625 31.78125 34.625 \r\nz\r\nM 21.921875 38.8125 \r\nQ 15.578125 40.375 12.03125 44.71875 \r\nQ 8.5 49.078125 8.5 55.328125 \r\nQ 8.5 64.0625 14.71875 69.140625 \r\nQ 20.953125 74.21875 31.78125 74.21875 \r\nQ 42.671875 74.21875 48.875 69.140625 \r\nQ 55.078125 64.0625 55.078125 55.328125 \r\nQ 55.078125 49.078125 51.53125 44.71875 \r\nQ 48 40.375 41.703125 38.8125 \r\nQ 48.828125 37.15625 52.796875 32.3125 \r\nQ 56.78125 27.484375 56.78125 20.515625 \r\nQ 56.78125 9.90625 50.3125 4.234375 \r\nQ 43.84375 -1.421875 31.78125 -1.421875 \r\nQ 19.734375 -1.421875 13.25 4.234375 \r\nQ 6.78125 9.90625 6.78125 20.515625 \r\nQ 6.78125 27.484375 10.78125 32.3125 \r\nQ 14.796875 37.15625 21.921875 38.8125 \r\nz\r\nM 18.3125 54.390625 \r\nQ 18.3125 48.734375 21.84375 45.5625 \r\nQ 25.390625 42.390625 31.78125 42.390625 \r\nQ 38.140625 42.390625 41.71875 45.5625 \r\nQ 45.3125 48.734375 45.3125 54.390625 \r\nQ 45.3125 60.0625 41.71875 63.234375 \r\nQ 38.140625 66.40625 31.78125 66.40625 \r\nQ 25.390625 66.40625 21.84375 63.234375 \r\nQ 18.3125 60.0625 18.3125 54.390625 \r\nz\r\n\" id=\"DejaVuSans-56\"/>\r\n       </defs>\r\n       <use xlink:href=\"#DejaVuSans-48\"/>\r\n       <use x=\"63.623047\" xlink:href=\"#DejaVuSans-46\"/>\r\n       <use x=\"95.410156\" xlink:href=\"#DejaVuSans-48\"/>\r\n       <use x=\"159.033203\" xlink:href=\"#DejaVuSans-56\"/>\r\n      </g>\r\n     </g>\r\n    </g>\r\n    <g id=\"ytick_6\">\r\n     <g id=\"line2d_13\">\r\n      <g>\r\n       <use style=\"stroke:#000000;stroke-width:0.8;\" x=\"52.530625\" xlink:href=\"#m846339ec5c\" y=\"82.363307\"/>\r\n      </g>\r\n     </g>\r\n     <g id=\"text_9\">\r\n      <!-- 0.10 -->\r\n      <g transform=\"translate(26.765 86.162525)scale(0.1 -0.1)\">\r\n       <use xlink:href=\"#DejaVuSans-48\"/>\r\n       <use x=\"63.623047\" xlink:href=\"#DejaVuSans-46\"/>\r\n       <use x=\"95.410156\" xlink:href=\"#DejaVuSans-49\"/>\r\n       <use x=\"159.033203\" xlink:href=\"#DejaVuSans-48\"/>\r\n      </g>\r\n     </g>\r\n    </g>\r\n    <g id=\"ytick_7\">\r\n     <g id=\"line2d_14\">\r\n      <g>\r\n       <use style=\"stroke:#000000;stroke-width:0.8;\" x=\"52.530625\" xlink:href=\"#m846339ec5c\" y=\"32.163968\"/>\r\n      </g>\r\n     </g>\r\n     <g id=\"text_10\">\r\n      <!-- 0.12 -->\r\n      <g transform=\"translate(26.765 35.963187)scale(0.1 -0.1)\">\r\n       <use xlink:href=\"#DejaVuSans-48\"/>\r\n       <use x=\"63.623047\" xlink:href=\"#DejaVuSans-46\"/>\r\n       <use x=\"95.410156\" xlink:href=\"#DejaVuSans-49\"/>\r\n       <use x=\"159.033203\" xlink:href=\"#DejaVuSans-50\"/>\r\n      </g>\r\n     </g>\r\n    </g>\r\n    <g id=\"text_11\">\r\n     <!-- Time (s) -->\r\n     <g style=\"fill:#ff0000;\" transform=\"translate(19.295 199.875)rotate(-90)scale(0.16 -0.16)\">\r\n      <defs>\r\n       <path d=\"M 61.078125 50.484375 \r\nL 57.71875 50.484375 \r\nQ 57.28125 52.25 56.125 54.65625 \r\nQ 54.984375 57.078125 53.5625 59.234375 \r\nQ 52.09375 61.46875 50.359375 63.15625 \r\nQ 48.640625 64.84375 47.015625 65.09375 \r\nQ 45.515625 65.28125 43.21875 65.375 \r\nQ 40.921875 65.484375 38.96875 65.484375 \r\nL 36.140625 65.484375 \r\nL 36.140625 10.0625 \r\nQ 36.140625 8.453125 36.8125 7.109375 \r\nQ 37.5 5.765625 39.203125 5.03125 \r\nQ 40.09375 4.6875 42.890625 4.09375 \r\nQ 45.703125 3.515625 47.265625 3.46875 \r\nL 47.265625 0 \r\nL 14.546875 0 \r\nL 14.546875 3.46875 \r\nQ 15.921875 3.5625 18.71875 3.859375 \r\nQ 21.53125 4.15625 22.609375 4.59375 \r\nQ 24.21875 5.21875 24.96875 6.421875 \r\nQ 25.734375 7.625 25.734375 9.625 \r\nL 25.734375 65.484375 \r\nL 22.90625 65.484375 \r\nQ 21.390625 65.484375 19.140625 65.40625 \r\nQ 16.890625 65.328125 14.84375 65.09375 \r\nQ 13.234375 64.890625 11.5 63.15625 \r\nQ 9.765625 61.421875 8.296875 59.234375 \r\nQ 6.84375 57.03125 5.71875 54.5625 \r\nQ 4.59375 52.09375 4.15625 50.484375 \r\nL 0.734375 50.484375 \r\nL 0.734375 69.28125 \r\nL 61.078125 69.28125 \r\nz\r\n\" id=\"Georgia-84\"/>\r\n       <path d=\"M 85.984375 0 \r\nL 62.5 0 \r\nL 62.5 3.21875 \r\nQ 63.625 3.328125 64.765625 3.421875 \r\nQ 65.921875 3.515625 66.796875 3.8125 \r\nQ 68.171875 4.25 68.828125 5.34375 \r\nQ 69.484375 6.453125 69.484375 8.203125 \r\nL 69.484375 33.0625 \r\nQ 69.484375 38.140625 67.15625 40.890625 \r\nQ 64.84375 43.65625 61.375 43.65625 \r\nQ 58.984375 43.65625 56.875 42.921875 \r\nQ 54.78125 42.1875 53.03125 40.875 \r\nQ 51.609375 39.796875 50.65625 38.546875 \r\nQ 49.703125 37.3125 49.21875 36.46875 \r\nL 49.21875 8.6875 \r\nQ 49.21875 6.984375 49.796875 5.875 \r\nQ 50.390625 4.78125 51.8125 4.203125 \r\nQ 52.9375 3.765625 53.828125 3.546875 \r\nQ 54.734375 3.328125 56.203125 3.21875 \r\nL 56.203125 0 \r\nL 33.203125 0 \r\nL 33.203125 3.21875 \r\nQ 34.328125 3.328125 35.375 3.421875 \r\nQ 36.421875 3.515625 37.3125 3.8125 \r\nQ 38.671875 4.25 39.328125 5.34375 \r\nQ 39.984375 6.453125 39.984375 8.203125 \r\nL 39.984375 33.0625 \r\nQ 39.984375 38.140625 37.671875 40.890625 \r\nQ 35.359375 43.65625 31.890625 43.65625 \r\nQ 29.5 43.65625 27.390625 42.890625 \r\nQ 25.296875 42.140625 23.53125 40.828125 \r\nQ 22.125 39.75 21.140625 38.40625 \r\nQ 20.171875 37.0625 19.671875 36.375 \r\nL 19.671875 8.796875 \r\nQ 19.671875 7.125 20.359375 6 \r\nQ 21.046875 4.890625 22.40625 4.296875 \r\nQ 23.4375 3.8125 24.515625 3.5625 \r\nQ 25.59375 3.328125 26.90625 3.21875 \r\nL 26.90625 0 \r\nL 3.515625 0 \r\nL 3.515625 3.21875 \r\nQ 4.640625 3.328125 5.828125 3.421875 \r\nQ 7.03125 3.515625 7.90625 3.8125 \r\nQ 9.28125 4.25 9.9375 5.34375 \r\nQ 10.59375 6.453125 10.59375 8.203125 \r\nL 10.59375 38.140625 \r\nQ 10.59375 39.703125 9.890625 40.9375 \r\nQ 9.1875 42.1875 7.90625 43.0625 \r\nQ 6.984375 43.65625 5.609375 44.015625 \r\nQ 4.25 44.390625 2.78125 44.484375 \r\nL 2.78125 47.65625 \r\nL 18.890625 48.734375 \r\nL 19.578125 48.046875 \r\nL 19.578125 41.15625 \r\nL 19.921875 41.15625 \r\nQ 21.140625 42.390625 22.890625 44.046875 \r\nQ 24.65625 45.703125 26.171875 46.734375 \r\nQ 27.875 47.90625 30.4375 48.6875 \r\nQ 33.015625 49.46875 35.984375 49.46875 \r\nQ 40.671875 49.46875 44.03125 46.953125 \r\nQ 47.40625 44.4375 48.875 40.875 \r\nQ 50.640625 42.578125 51.984375 43.875 \r\nQ 53.328125 45.171875 55.515625 46.625 \r\nQ 57.375 47.90625 59.890625 48.6875 \r\nQ 62.40625 49.46875 65.484375 49.46875 \r\nQ 71.578125 49.46875 75.140625 45.453125 \r\nQ 78.71875 41.453125 78.71875 33.15625 \r\nL 78.71875 8.6875 \r\nQ 78.71875 6.984375 79.296875 5.875 \r\nQ 79.890625 4.78125 81.296875 4.203125 \r\nQ 82.421875 3.765625 83.515625 3.546875 \r\nQ 84.625 3.328125 85.984375 3.21875 \r\nz\r\n\" id=\"Georgia-109\"/>\r\n       <path d=\"M 34.234375 -16.015625 \r\nQ 20.90625 -14.359375 13.3125 -2.578125 \r\nQ 5.71875 9.1875 5.71875 29.109375 \r\nQ 5.71875 49.359375 13.3125 61.203125 \r\nQ 20.90625 73.046875 34.234375 74.8125 \r\nL 34.234375 70.75 \r\nQ 24.859375 69.046875 19.96875 58.78125 \r\nQ 15.09375 48.53125 15.09375 29 \r\nQ 15.09375 10.40625 19.875 0.078125 \r\nQ 24.65625 -10.25 34.234375 -12.015625 \r\nz\r\n\" id=\"Georgia-40\"/>\r\n       <path d=\"M 35.296875 23.578125 \r\nQ 37.3125 21.828125 38.375 19.53125 \r\nQ 39.453125 17.234375 39.453125 13.921875 \r\nQ 39.453125 7.234375 34.4375 2.984375 \r\nQ 29.4375 -1.265625 21.484375 -1.265625 \r\nQ 17.28125 -1.265625 13.734375 0.25 \r\nQ 10.203125 1.765625 8.6875 3.03125 \r\nL 7.71875 -0.140625 \r\nL 4.046875 -0.140625 \r\nL 3.5625 16.609375 \r\nL 6.9375 16.609375 \r\nQ 7.328125 14.703125 8.59375 12.15625 \r\nQ 9.859375 9.625 11.671875 7.5625 \r\nQ 13.578125 5.421875 16.234375 3.953125 \r\nQ 18.890625 2.484375 22.21875 2.484375 \r\nQ 26.90625 2.484375 29.4375 4.609375 \r\nQ 31.984375 6.734375 31.984375 10.6875 \r\nQ 31.984375 12.75 31.171875 14.234375 \r\nQ 30.375 15.71875 28.8125 16.84375 \r\nQ 27.203125 17.96875 24.859375 18.875 \r\nQ 22.515625 19.78125 19.625 20.65625 \r\nQ 17.328125 21.34375 14.515625 22.53125 \r\nQ 11.71875 23.734375 9.71875 25.34375 \r\nQ 7.5625 27.046875 6.1875 29.53125 \r\nQ 4.828125 32.03125 4.828125 35.40625 \r\nQ 4.828125 41.3125 9.21875 45.40625 \r\nQ 13.625 49.515625 21 49.515625 \r\nQ 23.828125 49.515625 26.78125 48.78125 \r\nQ 29.734375 48.046875 31.59375 47.015625 \r\nL 32.71875 49.5625 \r\nL 36.234375 49.5625 \r\nL 36.96875 34.078125 \r\nL 33.59375 34.078125 \r\nQ 32.5625 39.265625 29.171875 42.5 \r\nQ 25.78125 45.75 20.90625 45.75 \r\nQ 16.890625 45.75 14.59375 43.75 \r\nQ 12.3125 41.75 12.3125 38.921875 \r\nQ 12.3125 36.71875 13.0625 35.25 \r\nQ 13.8125 33.796875 15.328125 32.765625 \r\nQ 16.796875 31.78125 19.015625 30.921875 \r\nQ 21.234375 30.078125 24.515625 29 \r\nQ 27.734375 27.984375 30.59375 26.609375 \r\nQ 33.453125 25.25 35.296875 23.578125 \r\nz\r\n\" id=\"Georgia-115\"/>\r\n       <path d=\"M 31.78125 29.109375 \r\nQ 31.78125 9.1875 24.1875 -2.578125 \r\nQ 16.609375 -14.359375 3.265625 -16.015625 \r\nL 3.265625 -12.015625 \r\nQ 12.84375 -10.25 17.625 0.078125 \r\nQ 22.40625 10.40625 22.40625 29 \r\nQ 22.40625 48.53125 17.515625 58.78125 \r\nQ 12.640625 69.046875 3.265625 70.75 \r\nL 3.265625 74.8125 \r\nQ 16.609375 73.046875 24.1875 61.203125 \r\nQ 31.78125 49.359375 31.78125 29.109375 \r\nz\r\n\" id=\"Georgia-41\"/>\r\n      </defs>\r\n      <use xlink:href=\"#Georgia-84\"/>\r\n      <use x=\"61.865234\" xlink:href=\"#Georgia-105\"/>\r\n      <use x=\"91.162109\" xlink:href=\"#Georgia-109\"/>\r\n      <use x=\"179.248047\" xlink:href=\"#Georgia-101\"/>\r\n      <use x=\"227.587891\" xlink:href=\"#Georgia-32\"/>\r\n      <use x=\"251.708984\" xlink:href=\"#Georgia-40\"/>\r\n      <use x=\"289.208984\" xlink:href=\"#Georgia-115\"/>\r\n      <use x=\"332.421875\" xlink:href=\"#Georgia-41\"/>\r\n     </g>\r\n    </g>\r\n   </g>\r\n   <g id=\"LineCollection_1\">\r\n    <path clip-path=\"url(#p16680765c4)\" d=\"M 151.8964 333.36 \r\nL 151.8964 333.36 \r\n\" style=\"fill:none;stroke:#000000;stroke-width:1.5;\"/>\r\n    <path clip-path=\"url(#p16680765c4)\" d=\"M 286.174475 333.36 \r\nL 286.174475 333.36 \r\n\" style=\"fill:none;stroke:#000000;stroke-width:1.5;\"/>\r\n    <path clip-path=\"url(#p16680765c4)\" d=\"M 420.45255 333.254187 \r\nL 420.45255 333.1729 \r\n\" style=\"fill:none;stroke:#000000;stroke-width:1.5;\"/>\r\n    <path clip-path=\"url(#p16680765c4)\" d=\"M 554.730625 41.168558 \r\nL 554.730625 22.731429 \r\n\" style=\"fill:none;stroke:#000000;stroke-width:1.5;\"/>\r\n    <path clip-path=\"url(#p16680765c4)\" d=\"M 689.0087 333.200405 \r\nL 689.0087 333.172718 \r\n\" style=\"fill:none;stroke:#000000;stroke-width:1.5;\"/>\r\n    <path clip-path=\"url(#p16680765c4)\" d=\"M 823.286775 333.36 \r\nL 823.286775 333.36 \r\n\" style=\"fill:none;stroke:#000000;stroke-width:1.5;\"/>\r\n    <path clip-path=\"url(#p16680765c4)\" d=\"M 957.56485 329.483635 \r\nL 957.56485 329.178367 \r\n\" style=\"fill:none;stroke:#000000;stroke-width:1.5;\"/>\r\n   </g>\r\n   <g id=\"patch_10\">\r\n    <path d=\"M 52.530625 333.36 \r\nL 52.530625 7.2 \r\n\" style=\"fill:none;stroke:#000000;stroke-linecap:square;stroke-linejoin:miter;stroke-width:0.8;\"/>\r\n   </g>\r\n   <g id=\"patch_11\">\r\n    <path d=\"M 1056.930625 333.36 \r\nL 1056.930625 7.2 \r\n\" style=\"fill:none;stroke:#000000;stroke-linecap:square;stroke-linejoin:miter;stroke-width:0.8;\"/>\r\n   </g>\r\n   <g id=\"patch_12\">\r\n    <path d=\"M 52.530625 333.36 \r\nL 1056.930625 333.36 \r\n\" style=\"fill:none;stroke:#000000;stroke-linecap:square;stroke-linejoin:miter;stroke-width:0.8;\"/>\r\n   </g>\r\n   <g id=\"patch_13\">\r\n    <path d=\"M 52.530625 7.2 \r\nL 1056.930625 7.2 \r\n\" style=\"fill:none;stroke:#000000;stroke-linecap:square;stroke-linejoin:miter;stroke-width:0.8;\"/>\r\n   </g>\r\n  </g>\r\n  <g id=\"axes_2\">\r\n   <g id=\"patch_14\">\r\n    <path clip-path=\"url(#p16680765c4)\" d=\"M 98.18517 333.36 \r\nL 205.60763 333.36 \r\nL 205.60763 333.36 \r\nL 98.18517 333.36 \r\nz\r\n\" style=\"fill:#0000ff;fill-opacity:0.3;stroke:#0000ff;stroke-linejoin:miter;\"/>\r\n   </g>\r\n   <g id=\"patch_15\">\r\n    <path clip-path=\"url(#p16680765c4)\" d=\"M 232.463245 333.36 \r\nL 339.885705 333.36 \r\nL 339.885705 333.36 \r\nL 232.463245 333.36 \r\nz\r\n\" style=\"fill:#0000ff;fill-opacity:0.3;stroke:#0000ff;stroke-linejoin:miter;\"/>\r\n   </g>\r\n   <g id=\"patch_16\">\r\n    <path clip-path=\"url(#p16680765c4)\" d=\"M 366.74132 333.36 \r\nL 474.16378 333.36 \r\nL 474.16378 333.36 \r\nL 366.74132 333.36 \r\nz\r\n\" style=\"fill:#0000ff;fill-opacity:0.3;stroke:#0000ff;stroke-linejoin:miter;\"/>\r\n   </g>\r\n   <g id=\"patch_17\">\r\n    <path clip-path=\"url(#p16680765c4)\" d=\"M 501.019395 333.36 \r\nL 608.441855 333.36 \r\nL 608.441855 22.731429 \r\nL 501.019395 22.731429 \r\nz\r\n\" style=\"fill:#0000ff;fill-opacity:0.3;stroke:#0000ff;stroke-linejoin:miter;\"/>\r\n   </g>\r\n   <g id=\"patch_18\">\r\n    <path clip-path=\"url(#p16680765c4)\" d=\"M 635.29747 333.36 \r\nL 742.71993 333.36 \r\nL 742.71993 333.214108 \r\nL 635.29747 333.214108 \r\nz\r\n\" style=\"fill:#0000ff;fill-opacity:0.3;stroke:#0000ff;stroke-linejoin:miter;\"/>\r\n   </g>\r\n   <g id=\"patch_19\">\r\n    <path clip-path=\"url(#p16680765c4)\" d=\"M 769.575545 333.36 \r\nL 876.998005 333.36 \r\nL 876.998005 333.36 \r\nL 769.575545 333.36 \r\nz\r\n\" style=\"fill:#0000ff;fill-opacity:0.3;stroke:#0000ff;stroke-linejoin:miter;\"/>\r\n   </g>\r\n   <g id=\"patch_20\">\r\n    <path clip-path=\"url(#p16680765c4)\" d=\"M 903.85362 333.36 \r\nL 1011.27608 333.36 \r\nL 1011.27608 331.704291 \r\nL 903.85362 331.704291 \r\nz\r\n\" style=\"fill:#0000ff;fill-opacity:0.3;stroke:#0000ff;stroke-linejoin:miter;\"/>\r\n   </g>\r\n   <g id=\"matplotlib.axis_3\">\r\n    <g id=\"ytick_8\">\r\n     <g id=\"line2d_15\">\r\n      <defs>\r\n       <path d=\"M 0 0 \r\nL -3.5 0 \r\n\" id=\"m2ce85e7a8e\" style=\"stroke:#000000;stroke-width:0.8;\"/>\r\n      </defs>\r\n      <g>\r\n       <use style=\"stroke:#000000;stroke-width:0.8;\" x=\"1056.930625\" xlink:href=\"#m2ce85e7a8e\" y=\"333.36\"/>\r\n      </g>\r\n     </g>\r\n     <g id=\"text_12\">\r\n      <!-- 0 -->\r\n      <g transform=\"translate(1060.430625 337.159219)scale(0.1 -0.1)\">\r\n       <use xlink:href=\"#DejaVuSans-48\"/>\r\n      </g>\r\n     </g>\r\n    </g>\r\n    <g id=\"ytick_9\">\r\n     <g id=\"line2d_16\">\r\n      <g>\r\n       <use style=\"stroke:#000000;stroke-width:0.8;\" x=\"1056.930625\" xlink:href=\"#m2ce85e7a8e\" y=\"265.503091\"/>\r\n      </g>\r\n     </g>\r\n     <g id=\"text_13\">\r\n      <!-- 10 -->\r\n      <g transform=\"translate(1060.430625 269.30231)scale(0.1 -0.1)\">\r\n       <use xlink:href=\"#DejaVuSans-49\"/>\r\n       <use x=\"63.623047\" xlink:href=\"#DejaVuSans-48\"/>\r\n      </g>\r\n     </g>\r\n    </g>\r\n    <g id=\"ytick_10\">\r\n     <g id=\"line2d_17\">\r\n      <g>\r\n       <use style=\"stroke:#000000;stroke-width:0.8;\" x=\"1056.930625\" xlink:href=\"#m2ce85e7a8e\" y=\"197.646182\"/>\r\n      </g>\r\n     </g>\r\n     <g id=\"text_14\">\r\n      <!-- 20 -->\r\n      <g transform=\"translate(1060.430625 201.445401)scale(0.1 -0.1)\">\r\n       <use xlink:href=\"#DejaVuSans-50\"/>\r\n       <use x=\"63.623047\" xlink:href=\"#DejaVuSans-48\"/>\r\n      </g>\r\n     </g>\r\n    </g>\r\n    <g id=\"ytick_11\">\r\n     <g id=\"line2d_18\">\r\n      <g>\r\n       <use style=\"stroke:#000000;stroke-width:0.8;\" x=\"1056.930625\" xlink:href=\"#m2ce85e7a8e\" y=\"129.789274\"/>\r\n      </g>\r\n     </g>\r\n     <g id=\"text_15\">\r\n      <!-- 30 -->\r\n      <g transform=\"translate(1060.430625 133.588492)scale(0.1 -0.1)\">\r\n       <defs>\r\n        <path d=\"M 40.578125 39.3125 \r\nQ 47.65625 37.796875 51.625 33 \r\nQ 55.609375 28.21875 55.609375 21.1875 \r\nQ 55.609375 10.40625 48.1875 4.484375 \r\nQ 40.765625 -1.421875 27.09375 -1.421875 \r\nQ 22.515625 -1.421875 17.65625 -0.515625 \r\nQ 12.796875 0.390625 7.625 2.203125 \r\nL 7.625 11.71875 \r\nQ 11.71875 9.328125 16.59375 8.109375 \r\nQ 21.484375 6.890625 26.8125 6.890625 \r\nQ 36.078125 6.890625 40.9375 10.546875 \r\nQ 45.796875 14.203125 45.796875 21.1875 \r\nQ 45.796875 27.640625 41.28125 31.265625 \r\nQ 36.765625 34.90625 28.71875 34.90625 \r\nL 20.21875 34.90625 \r\nL 20.21875 43.015625 \r\nL 29.109375 43.015625 \r\nQ 36.375 43.015625 40.234375 45.921875 \r\nQ 44.09375 48.828125 44.09375 54.296875 \r\nQ 44.09375 59.90625 40.109375 62.90625 \r\nQ 36.140625 65.921875 28.71875 65.921875 \r\nQ 24.65625 65.921875 20.015625 65.03125 \r\nQ 15.375 64.15625 9.8125 62.3125 \r\nL 9.8125 71.09375 \r\nQ 15.4375 72.65625 20.34375 73.4375 \r\nQ 25.25 74.21875 29.59375 74.21875 \r\nQ 40.828125 74.21875 47.359375 69.109375 \r\nQ 53.90625 64.015625 53.90625 55.328125 \r\nQ 53.90625 49.265625 50.4375 45.09375 \r\nQ 46.96875 40.921875 40.578125 39.3125 \r\nz\r\n\" id=\"DejaVuSans-51\"/>\r\n       </defs>\r\n       <use xlink:href=\"#DejaVuSans-51\"/>\r\n       <use x=\"63.623047\" xlink:href=\"#DejaVuSans-48\"/>\r\n      </g>\r\n     </g>\r\n    </g>\r\n    <g id=\"ytick_12\">\r\n     <g id=\"line2d_19\">\r\n      <g>\r\n       <use style=\"stroke:#000000;stroke-width:0.8;\" x=\"1056.930625\" xlink:href=\"#m2ce85e7a8e\" y=\"61.932365\"/>\r\n      </g>\r\n     </g>\r\n     <g id=\"text_16\">\r\n      <!-- 40 -->\r\n      <g transform=\"translate(1060.430625 65.731584)scale(0.1 -0.1)\">\r\n       <use xlink:href=\"#DejaVuSans-52\"/>\r\n       <use x=\"63.623047\" xlink:href=\"#DejaVuSans-48\"/>\r\n      </g>\r\n     </g>\r\n    </g>\r\n    <g id=\"text_17\">\r\n     <!-- Memory Change (MiB) -->\r\n     <g style=\"fill:#0000ff;\" transform=\"translate(1089.250625 251.4825)rotate(-90)scale(0.16 -0.16)\">\r\n      <defs>\r\n       <path d=\"M 88.1875 0 \r\nL 57.5625 0 \r\nL 57.5625 3.46875 \r\nQ 59.234375 3.515625 61.84375 3.8125 \r\nQ 64.453125 4.109375 65.4375 4.640625 \r\nQ 66.9375 5.5625 67.640625 6.75 \r\nQ 68.359375 7.953125 68.359375 9.765625 \r\nL 68.359375 60.15625 \r\nL 67.625 60.15625 \r\nL 44 1.125 \r\nL 41.546875 1.125 \r\nL 19.046875 61.375 \r\nL 18.40625 61.375 \r\nL 18.40625 20.015625 \r\nQ 18.40625 14.015625 19.15625 10.890625 \r\nQ 19.921875 7.765625 21.484375 6.390625 \r\nQ 22.5625 5.375 25.921875 4.4375 \r\nQ 29.296875 3.515625 30.328125 3.46875 \r\nL 30.328125 0 \r\nL 2.34375 0 \r\nL 2.34375 3.46875 \r\nQ 4.546875 3.65625 6.953125 4.1875 \r\nQ 9.375 4.734375 10.6875 5.8125 \r\nQ 12.40625 7.171875 13.03125 10 \r\nQ 13.671875 12.84375 13.671875 19.484375 \r\nL 13.671875 54.9375 \r\nQ 13.671875 58.015625 12.9375 59.96875 \r\nQ 12.203125 61.921875 10.84375 63.140625 \r\nQ 9.328125 64.453125 7.125 65.078125 \r\nQ 4.9375 65.71875 2.78125 65.828125 \r\nL 2.78125 69.28125 \r\nL 26.421875 69.28125 \r\nL 46.234375 17.328125 \r\nL 63.1875 60.796875 \r\nQ 64.109375 63.1875 64.765625 65.796875 \r\nQ 65.4375 68.40625 65.484375 69.28125 \r\nL 88.09375 69.28125 \r\nL 88.09375 65.828125 \r\nQ 86.71875 65.765625 84.59375 65.375 \r\nQ 82.46875 64.984375 81.5 64.65625 \r\nQ 79.828125 64.0625 79.234375 62.6875 \r\nQ 78.65625 61.328125 78.65625 59.71875 \r\nL 78.65625 9.765625 \r\nQ 78.65625 8.0625 79.234375 6.890625 \r\nQ 79.828125 5.71875 81.5 4.828125 \r\nQ 82.375 4.34375 84.609375 3.921875 \r\nQ 86.859375 3.515625 88.1875 3.46875 \r\nz\r\n\" id=\"Georgia-77\"/>\r\n       <path d=\"M 50.4375 24.5625 \r\nQ 50.4375 19.484375 48.828125 14.578125 \r\nQ 47.21875 9.671875 44.234375 6.25 \r\nQ 40.875 2.34375 36.421875 0.4375 \r\nQ 31.984375 -1.46875 26.46875 -1.46875 \r\nQ 21.875 -1.46875 17.71875 0.265625 \r\nQ 13.578125 2 10.359375 5.328125 \r\nQ 7.171875 8.59375 5.296875 13.296875 \r\nQ 3.421875 18.015625 3.421875 23.875 \r\nQ 3.421875 35.15625 9.984375 42.328125 \r\nQ 16.546875 49.515625 27.203125 49.515625 \r\nQ 37.3125 49.515625 43.875 42.703125 \r\nQ 50.4375 35.890625 50.4375 24.5625 \r\nz\r\nM 40.328125 24.46875 \r\nQ 40.328125 28.125 39.59375 32.203125 \r\nQ 38.875 36.28125 37.40625 39.109375 \r\nQ 35.84375 42.140625 33.296875 43.96875 \r\nQ 30.765625 45.796875 27.09375 45.796875 \r\nQ 23.34375 45.796875 20.671875 43.9375 \r\nQ 18.015625 42.09375 16.359375 38.875 \r\nQ 14.796875 35.890625 14.15625 32.078125 \r\nQ 13.53125 28.265625 13.53125 24.703125 \r\nQ 13.53125 20.015625 14.28125 16.03125 \r\nQ 15.046875 12.0625 16.703125 8.9375 \r\nQ 18.359375 5.8125 20.875 4.03125 \r\nQ 23.390625 2.25 27.09375 2.25 \r\nQ 33.203125 2.25 36.765625 8.15625 \r\nQ 40.328125 14.0625 40.328125 24.46875 \r\nz\r\n\" id=\"Georgia-111\"/>\r\n       <path d=\"M 40.375 41.9375 \r\nQ 40.375 39.453125 39.15625 37.515625 \r\nQ 37.9375 35.59375 35.40625 35.59375 \r\nQ 32.671875 35.59375 31.21875 37 \r\nQ 29.78125 38.421875 29.78125 40.140625 \r\nQ 29.78125 41.21875 29.953125 42.09375 \r\nQ 30.125 42.96875 30.28125 43.84375 \r\nQ 27.984375 43.84375 24.90625 41.984375 \r\nQ 21.828125 40.140625 19.671875 36.71875 \r\nL 19.671875 8.6875 \r\nQ 19.671875 6.984375 20.328125 5.90625 \r\nQ 21 4.828125 22.40625 4.296875 \r\nQ 23.640625 3.8125 25.5625 3.5625 \r\nQ 27.484375 3.328125 28.90625 3.21875 \r\nL 28.90625 0 \r\nL 3.515625 0 \r\nL 3.515625 3.21875 \r\nQ 4.640625 3.328125 5.828125 3.421875 \r\nQ 7.03125 3.515625 7.90625 3.8125 \r\nQ 9.28125 4.25 9.9375 5.34375 \r\nQ 10.59375 6.453125 10.59375 8.203125 \r\nL 10.59375 37.9375 \r\nQ 10.59375 39.453125 9.890625 40.921875 \r\nQ 9.1875 42.390625 7.90625 43.265625 \r\nQ 6.984375 43.84375 5.703125 44.109375 \r\nQ 4.4375 44.390625 2.984375 44.484375 \r\nL 2.984375 47.65625 \r\nL 19 48.734375 \r\nL 19.671875 48.046875 \r\nL 19.671875 41.265625 \r\nL 19.921875 41.265625 \r\nQ 22.953125 45.21875 26.65625 47.265625 \r\nQ 30.375 49.3125 33.453125 49.3125 \r\nQ 36.53125 49.3125 38.453125 47.3125 \r\nQ 40.375 45.3125 40.375 41.9375 \r\nz\r\n\" id=\"Georgia-114\"/>\r\n       <path d=\"M -0.140625 -15.71875 \r\nQ -0.140625 -13.28125 1.203125 -11.734375 \r\nQ 2.546875 -10.203125 4.546875 -10.203125 \r\nQ 6.109375 -10.203125 7.21875 -10.78125 \r\nQ 8.34375 -11.375 9.234375 -12.3125 \r\nQ 9.96875 -13.03125 10.796875 -14.296875 \r\nQ 11.625 -15.578125 12.109375 -16.40625 \r\nQ 14.546875 -15.09375 17.9375 -9.515625 \r\nQ 21.34375 -3.953125 22.859375 0.25 \r\nQ 18.21875 11.8125 14.453125 20.9375 \r\nQ 10.6875 30.078125 6.59375 39.84375 \r\nQ 5.671875 42.09375 3.46875 43.328125 \r\nQ 1.265625 44.578125 -0.921875 44.921875 \r\nL -0.921875 48.140625 \r\nL 21.046875 48.140625 \r\nL 21.046875 44.734375 \r\nQ 19.578125 44.671875 17.53125 44.109375 \r\nQ 15.484375 43.5625 15.484375 42.828125 \r\nQ 15.484375 42.53125 15.703125 41.84375 \r\nQ 15.921875 41.15625 16.21875 40.4375 \r\nQ 18.0625 35.59375 21.875 26.484375 \r\nQ 25.6875 17.390625 27.78125 11.921875 \r\nQ 29.984375 17.140625 32.34375 22.734375 \r\nQ 34.71875 28.328125 37.640625 35.9375 \r\nQ 37.984375 36.859375 38.625 38.5 \r\nQ 39.265625 40.140625 39.265625 41.3125 \r\nQ 39.265625 42.578125 37.03125 43.671875 \r\nQ 34.8125 44.78125 32.8125 45.015625 \r\nL 32.8125 48.140625 \r\nL 50.6875 48.140625 \r\nL 50.6875 45.125 \r\nQ 49.21875 44.875 46.828125 43.4375 \r\nQ 44.4375 42 43.265625 39.359375 \r\nQ 37.453125 25.875 32.9375 14.796875 \r\nQ 28.421875 3.71875 26.078125 -1.515625 \r\nQ 23 -8.34375 20.578125 -12.171875 \r\nQ 18.171875 -16.015625 15.875 -18.21875 \r\nQ 13.625 -20.265625 11.796875 -20.96875 \r\nQ 9.96875 -21.6875 8.015625 -21.6875 \r\nQ 4.203125 -21.6875 2.03125 -19.875 \r\nQ -0.140625 -18.0625 -0.140625 -15.71875 \r\nz\r\n\" id=\"Georgia-121\"/>\r\n       <path d=\"M 35.296875 -1.609375 \r\nQ 29.109375 -1.609375 23.40625 0.828125 \r\nQ 17.71875 3.265625 13.328125 7.859375 \r\nQ 8.984375 12.453125 6.390625 19.0625 \r\nQ 3.8125 25.6875 3.8125 33.984375 \r\nQ 3.8125 42.28125 6.34375 49.046875 \r\nQ 8.890625 55.8125 13.375 60.6875 \r\nQ 17.828125 65.53125 23.875 68.15625 \r\nQ 29.9375 70.796875 36.8125 70.796875 \r\nQ 41.9375 70.796875 46.09375 69.53125 \r\nQ 50.25 68.265625 54 65.96875 \r\nL 56 69.28125 \r\nL 59.90625 69.28125 \r\nL 60.359375 44.578125 \r\nL 56.34375 44.578125 \r\nQ 55.5625 48.1875 54 52.40625 \r\nQ 52.4375 56.640625 50.34375 59.578125 \r\nQ 48 62.890625 44.765625 64.765625 \r\nQ 41.546875 66.65625 37.40625 66.65625 \r\nQ 32.671875 66.65625 28.59375 64.546875 \r\nQ 24.515625 62.453125 21.53125 58.34375 \r\nQ 18.703125 54.390625 17.09375 48.28125 \r\nQ 15.484375 42.1875 15.484375 34.671875 \r\nQ 15.484375 28.03125 17.15625 22.484375 \r\nQ 18.84375 16.9375 21.96875 12.75 \r\nQ 25.09375 8.59375 29.359375 6.25 \r\nQ 33.640625 3.90625 38.921875 3.90625 \r\nQ 42.875 3.90625 46.1875 5.140625 \r\nQ 49.515625 6.390625 51.953125 8.453125 \r\nQ 54.390625 10.59375 56.25 13.328125 \r\nQ 58.109375 16.0625 59.28125 19.28125 \r\nL 62.9375 17.53125 \r\nQ 58.734375 7.234375 51.796875 2.8125 \r\nQ 44.875 -1.609375 35.296875 -1.609375 \r\nz\r\n\" id=\"Georgia-67\"/>\r\n       <path d=\"M 55.8125 0 \r\nL 32.171875 0 \r\nL 32.171875 3.21875 \r\nQ 33.296875 3.328125 34.65625 3.421875 \r\nQ 36.03125 3.515625 36.921875 3.8125 \r\nQ 38.28125 4.25 38.9375 5.34375 \r\nQ 39.59375 6.453125 39.59375 8.203125 \r\nL 39.59375 32.953125 \r\nQ 39.59375 38.09375 37.171875 40.875 \r\nQ 34.765625 43.65625 31.296875 43.65625 \r\nQ 28.765625 43.65625 26.59375 42.84375 \r\nQ 24.421875 42.046875 22.703125 40.875 \r\nQ 21.046875 39.65625 20.15625 38.421875 \r\nQ 19.28125 37.203125 18.796875 36.375 \r\nL 18.796875 8.6875 \r\nQ 18.796875 7.03125 19.453125 5.953125 \r\nQ 20.125 4.890625 21.484375 4.296875 \r\nQ 22.5625 3.8125 23.703125 3.5625 \r\nQ 24.859375 3.328125 26.21875 3.21875 \r\nL 26.21875 0 \r\nL 2.59375 0 \r\nL 2.59375 3.21875 \r\nQ 3.71875 3.328125 4.9375 3.4375 \r\nQ 6.15625 3.5625 6.984375 3.8125 \r\nQ 8.34375 4.25 9.03125 5.34375 \r\nQ 9.71875 6.453125 9.71875 8.203125 \r\nL 9.71875 64.265625 \r\nQ 9.71875 65.921875 8.953125 67.578125 \r\nQ 8.203125 69.234375 6.984375 70.0625 \r\nQ 6.109375 70.703125 3.875 70.96875 \r\nQ 1.65625 71.234375 0.296875 71.34375 \r\nL 0.296875 74.46875 \r\nL 18.109375 75.59375 \r\nL 18.796875 74.859375 \r\nL 18.796875 41.265625 \r\nL 19 41.265625 \r\nQ 20.609375 42.875 21.921875 44.109375 \r\nQ 23.25 45.359375 25.390625 46.734375 \r\nQ 27.25 47.90625 29.765625 48.6875 \r\nQ 32.28125 49.46875 35.40625 49.46875 \r\nQ 41.84375 49.46875 45.3125 45.390625 \r\nQ 48.78125 41.3125 48.78125 33.640625 \r\nL 48.78125 8.59375 \r\nQ 48.78125 6.890625 49.390625 5.828125 \r\nQ 50 4.78125 51.421875 4.203125 \r\nQ 52.546875 3.765625 53.4375 3.546875 \r\nQ 54.34375 3.328125 55.8125 3.21875 \r\nz\r\n\" id=\"Georgia-104\"/>\r\n       <path d=\"M 49.125 0.875 \r\nQ 46.828125 0.046875 45.09375 -0.46875 \r\nQ 43.359375 -0.984375 41.15625 -0.984375 \r\nQ 37.359375 -0.984375 35.078125 0.796875 \r\nQ 32.8125 2.59375 32.171875 6 \r\nL 31.890625 6 \r\nQ 28.71875 2.484375 25.078125 0.625 \r\nQ 21.4375 -1.21875 16.3125 -1.21875 \r\nQ 10.890625 -1.21875 7.390625 2.09375 \r\nQ 3.90625 5.421875 3.90625 10.796875 \r\nQ 3.90625 13.578125 4.6875 15.765625 \r\nQ 5.46875 17.96875 7.03125 19.734375 \r\nQ 8.25 21.1875 10.25 22.328125 \r\nQ 12.25 23.484375 14.015625 24.171875 \r\nQ 16.21875 25 22.921875 27.25 \r\nQ 29.640625 29.5 31.984375 30.765625 \r\nL 31.984375 35.59375 \r\nQ 31.984375 36.234375 31.71875 38.03125 \r\nQ 31.453125 39.84375 30.5625 41.453125 \r\nQ 29.59375 43.265625 27.8125 44.609375 \r\nQ 26.03125 45.953125 22.75 45.953125 \r\nQ 20.515625 45.953125 18.578125 45.1875 \r\nQ 16.65625 44.4375 15.875 43.609375 \r\nQ 15.875 42.625 16.328125 40.71875 \r\nQ 16.796875 38.8125 16.796875 37.203125 \r\nQ 16.796875 35.5 15.25 34.078125 \r\nQ 13.71875 32.671875 10.984375 32.671875 \r\nQ 8.546875 32.671875 7.390625 34.40625 \r\nQ 6.25 36.140625 6.25 38.28125 \r\nQ 6.25 40.53125 7.828125 42.578125 \r\nQ 9.421875 44.625 11.96875 46.234375 \r\nQ 14.15625 47.609375 17.28125 48.5625 \r\nQ 20.40625 49.515625 23.390625 49.515625 \r\nQ 27.484375 49.515625 30.53125 48.953125 \r\nQ 33.59375 48.390625 36.078125 46.53125 \r\nQ 38.578125 44.734375 39.859375 41.625 \r\nQ 41.15625 38.53125 41.15625 33.640625 \r\nQ 41.15625 26.65625 41.015625 21.265625 \r\nQ 40.875 15.875 40.875 9.46875 \r\nQ 40.875 7.5625 41.53125 6.4375 \r\nQ 42.1875 5.328125 43.5625 4.546875 \r\nQ 44.28125 4.109375 45.875 4.046875 \r\nQ 47.46875 4 49.125 4 \r\nz\r\nM 32.078125 26.65625 \r\nQ 27.9375 25.4375 24.8125 24.265625 \r\nQ 21.6875 23.09375 19 21.34375 \r\nQ 16.546875 19.671875 15.125 17.40625 \r\nQ 13.71875 15.140625 13.71875 12.015625 \r\nQ 13.71875 7.953125 15.84375 6.046875 \r\nQ 17.96875 4.15625 21.234375 4.15625 \r\nQ 24.703125 4.15625 27.34375 5.828125 \r\nQ 29.984375 7.515625 31.78125 9.8125 \r\nz\r\n\" id=\"Georgia-97\"/>\r\n       <path d=\"M 44.78125 4.984375 \r\nQ 46.734375 3.125 47.84375 0.78125 \r\nQ 48.96875 -1.5625 48.96875 -5.03125 \r\nQ 48.96875 -8.5 47.453125 -11.546875 \r\nQ 45.953125 -14.59375 42.875 -16.84375 \r\nQ 39.59375 -19.140625 35.046875 -20.40625 \r\nQ 30.515625 -21.6875 23.828125 -21.6875 \r\nQ 12.890625 -21.6875 7.46875 -18.484375 \r\nQ 2.046875 -15.28125 2.046875 -9.125 \r\nQ 2.046875 -4.15625 5.953125 -1.265625 \r\nQ 9.859375 1.609375 15.921875 1.859375 \r\nL 15.921875 2.546875 \r\nQ 14.453125 2.984375 12.890625 3.640625 \r\nQ 11.328125 4.296875 10.203125 5.171875 \r\nQ 8.9375 6.203125 8.15625 7.59375 \r\nQ 7.375 8.984375 7.375 11.03125 \r\nQ 7.375 13.625 9.203125 15.796875 \r\nQ 11.03125 17.96875 14.75 19.53125 \r\nL 14.75 20.265625 \r\nQ 10.0625 22.46875 7.46875 25.90625 \r\nQ 4.890625 29.34375 4.890625 33.890625 \r\nQ 4.890625 40.71875 9.984375 45.109375 \r\nQ 15.09375 49.515625 23.046875 49.515625 \r\nQ 25.25 49.515625 27.421875 49.078125 \r\nQ 29.59375 48.640625 31.84375 47.953125 \r\nL 48.640625 47.953125 \r\nL 48.640625 43.265625 \r\nL 37.3125 43.265625 \r\nL 37.3125 42.96875 \r\nQ 39.109375 40.875 39.984375 38.328125 \r\nQ 40.875 35.796875 40.875 33.34375 \r\nQ 40.875 27 35.71875 22.609375 \r\nQ 30.5625 18.21875 23.734375 18.21875 \r\nL 17.828125 18.21875 \r\nQ 16.703125 17.828125 15.484375 16.796875 \r\nQ 14.265625 15.765625 14.265625 14.015625 \r\nQ 14.265625 12.203125 15.28125 11.25 \r\nQ 16.3125 10.296875 17.78125 9.96875 \r\nQ 19.1875 9.578125 21.0625 9.46875 \r\nQ 22.953125 9.375 24.953125 9.328125 \r\nQ 27.09375 9.28125 30.828125 9.03125 \r\nQ 34.578125 8.796875 36.140625 8.734375 \r\nQ 38.375 8.640625 40.640625 7.65625 \r\nQ 42.921875 6.6875 44.78125 4.984375 \r\nz\r\nM 31.59375 33.546875 \r\nQ 31.59375 39.265625 29.265625 42.65625 \r\nQ 26.953125 46.046875 22.75 46.046875 \r\nQ 20.453125 46.046875 18.8125 45.09375 \r\nQ 17.1875 44.140625 16.15625 42.390625 \r\nQ 15.1875 40.765625 14.765625 38.5 \r\nQ 14.359375 36.234375 14.359375 33.84375 \r\nQ 14.359375 28.421875 16.71875 25 \r\nQ 19.09375 21.578125 22.859375 21.578125 \r\nQ 27.046875 21.578125 29.3125 24.96875 \r\nQ 31.59375 28.375 31.59375 33.546875 \r\nz\r\nM 40.96875 -6.84375 \r\nQ 40.96875 -4.109375 39.6875 -2.34375 \r\nQ 38.421875 -0.59375 35.84375 0.046875 \r\nQ 34.46875 0.25 30.21875 0.484375 \r\nQ 25.984375 0.734375 20.359375 0.734375 \r\nQ 15.09375 -0.296875 12.859375 -2.703125 \r\nQ 10.640625 -5.125 10.640625 -8.9375 \r\nQ 10.640625 -10.640625 11.375 -12.203125 \r\nQ 12.109375 -13.765625 13.921875 -15.09375 \r\nQ 15.625 -16.359375 18.5 -17.15625 \r\nQ 21.390625 -17.96875 25.53125 -17.96875 \r\nQ 32.71875 -17.96875 36.84375 -15.203125 \r\nQ 40.96875 -12.453125 40.96875 -6.84375 \r\nz\r\n\" id=\"Georgia-103\"/>\r\n       <path d=\"M 53.90625 32.28125 \r\nQ 56.9375 30.21875 58.9375 26.890625 \r\nQ 60.9375 23.578125 60.9375 18.84375 \r\nQ 60.9375 14.015625 58.828125 10.453125 \r\nQ 56.734375 6.890625 53.375 4.59375 \r\nQ 50.09375 2.34375 45.96875 1.171875 \r\nQ 41.84375 0 37.453125 0 \r\nL 4.640625 0 \r\nL 4.640625 3.46875 \r\nQ 5.8125 3.5625 8.046875 3.875 \r\nQ 10.296875 4.203125 11.28125 4.640625 \r\nQ 12.796875 5.328125 13.421875 6.46875 \r\nQ 14.0625 7.625 14.0625 9.421875 \r\nL 14.0625 59.234375 \r\nQ 14.0625 60.890625 13.5 62.15625 \r\nQ 12.9375 63.421875 11.28125 64.203125 \r\nQ 9.8125 64.9375 8 65.328125 \r\nQ 6.203125 65.71875 4.984375 65.828125 \r\nL 4.984375 69.28125 \r\nL 36.96875 69.28125 \r\nQ 40.671875 69.28125 44.0625 68.546875 \r\nQ 47.46875 67.828125 50.53125 65.96875 \r\nQ 53.421875 64.265625 55.265625 61.328125 \r\nQ 57.125 58.40625 57.125 54.203125 \r\nQ 57.125 50.53125 55.8125 47.671875 \r\nQ 54.5 44.828125 52.09375 42.78125 \r\nQ 49.859375 40.828125 46.953125 39.484375 \r\nQ 44.046875 38.140625 40.671875 37.40625 \r\nL 40.671875 36.96875 \r\nQ 43.65625 36.625 47.34375 35.46875 \r\nQ 51.03125 34.328125 53.90625 32.28125 \r\nz\r\nM 42.140625 42.71875 \r\nQ 43.953125 44.828125 44.65625 47.3125 \r\nQ 45.359375 49.8125 45.359375 53.21875 \r\nQ 45.359375 58.9375 42.234375 62.1875 \r\nQ 39.109375 65.4375 32.375 65.4375 \r\nQ 30.8125 65.4375 28.4375 65.359375 \r\nQ 26.078125 65.28125 24.46875 65.234375 \r\nL 24.46875 38.625 \r\nL 30.671875 38.625 \r\nQ 34.671875 38.625 37.515625 39.640625 \r\nQ 40.375 40.671875 42.140625 42.71875 \r\nz\r\nM 48.875 20.609375 \r\nQ 48.875 26.765625 44.75 30.71875 \r\nQ 40.625 34.671875 32.953125 34.671875 \r\nQ 29.828125 34.671875 27.671875 34.59375 \r\nQ 25.53125 34.515625 24.46875 34.46875 \r\nL 24.46875 10.0625 \r\nQ 24.46875 6.984375 26.953125 5.421875 \r\nQ 29.4375 3.859375 33.890625 3.859375 \r\nQ 41.15625 3.859375 45.015625 8.109375 \r\nQ 48.875 12.359375 48.875 20.609375 \r\nz\r\n\" id=\"Georgia-66\"/>\r\n      </defs>\r\n      <use xlink:href=\"#Georgia-77\"/>\r\n      <use x=\"92.724609\" xlink:href=\"#Georgia-101\"/>\r\n      <use x=\"141.064453\" xlink:href=\"#Georgia-109\"/>\r\n      <use x=\"229.150391\" xlink:href=\"#Georgia-111\"/>\r\n      <use x=\"283.056641\" xlink:href=\"#Georgia-114\"/>\r\n      <use x=\"324.023438\" xlink:href=\"#Georgia-121\"/>\r\n      <use x=\"373.242188\" xlink:href=\"#Georgia-32\"/>\r\n      <use x=\"397.363281\" xlink:href=\"#Georgia-67\"/>\r\n      <use x=\"461.572266\" xlink:href=\"#Georgia-104\"/>\r\n      <use x=\"519.775391\" xlink:href=\"#Georgia-97\"/>\r\n      <use x=\"570.166016\" xlink:href=\"#Georgia-110\"/>\r\n      <use x=\"629.248047\" xlink:href=\"#Georgia-103\"/>\r\n      <use x=\"680.175781\" xlink:href=\"#Georgia-101\"/>\r\n      <use x=\"728.515625\" xlink:href=\"#Georgia-32\"/>\r\n      <use x=\"752.636719\" xlink:href=\"#Georgia-40\"/>\r\n      <use x=\"790.136719\" xlink:href=\"#Georgia-77\"/>\r\n      <use x=\"882.861328\" xlink:href=\"#Georgia-105\"/>\r\n      <use x=\"912.158203\" xlink:href=\"#Georgia-66\"/>\r\n      <use x=\"977.539062\" xlink:href=\"#Georgia-41\"/>\r\n     </g>\r\n    </g>\r\n   </g>\r\n   <g id=\"LineCollection_2\">\r\n    <path clip-path=\"url(#p16680765c4)\" d=\"M 151.8964 333.36 \r\nL 151.8964 333.36 \r\n\" style=\"fill:none;stroke:#000000;stroke-width:1.5;\"/>\r\n    <path clip-path=\"url(#p16680765c4)\" d=\"M 286.174475 333.36 \r\nL 286.174475 333.36 \r\n\" style=\"fill:none;stroke:#000000;stroke-width:1.5;\"/>\r\n    <path clip-path=\"url(#p16680765c4)\" d=\"M 420.45255 333.36 \r\nL 420.45255 333.36 \r\n\" style=\"fill:none;stroke:#000000;stroke-width:1.5;\"/>\r\n    <path clip-path=\"url(#p16680765c4)\" d=\"M 554.730625 22.731429 \r\nL 554.730625 22.731429 \r\n\" style=\"fill:none;stroke:#000000;stroke-width:1.5;\"/>\r\n    <path clip-path=\"url(#p16680765c4)\" d=\"M 689.0087 333.228502 \r\nL 689.0087 333.199713 \r\n\" style=\"fill:none;stroke:#000000;stroke-width:1.5;\"/>\r\n    <path clip-path=\"url(#p16680765c4)\" d=\"M 823.286775 333.36 \r\nL 823.286775 333.36 \r\n\" style=\"fill:none;stroke:#000000;stroke-width:1.5;\"/>\r\n    <path clip-path=\"url(#p16680765c4)\" d=\"M 957.56485 331.723484 \r\nL 957.56485 331.685099 \r\n\" style=\"fill:none;stroke:#000000;stroke-width:1.5;\"/>\r\n   </g>\r\n   <g id=\"line2d_20\">\r\n    <path clip-path=\"url(#p16680765c4)\" d=\"M 151.8964 333.36 \r\nL 151.8964 22.731429 \r\n\" style=\"fill:none;stroke:#000000;stroke-dasharray:5.55,2.4;stroke-dashoffset:0;stroke-width:1.5;\"/>\r\n   </g>\r\n   <g id=\"patch_21\">\r\n    <path d=\"M 52.530625 333.36 \r\nL 52.530625 7.2 \r\n\" style=\"fill:none;stroke:#000000;stroke-linecap:square;stroke-linejoin:miter;stroke-width:0.8;\"/>\r\n   </g>\r\n   <g id=\"patch_22\">\r\n    <path d=\"M 1056.930625 333.36 \r\nL 1056.930625 7.2 \r\n\" style=\"fill:none;stroke:#000000;stroke-linecap:square;stroke-linejoin:miter;stroke-width:0.8;\"/>\r\n   </g>\r\n   <g id=\"patch_23\">\r\n    <path d=\"M 52.530625 333.36 \r\nL 1056.930625 333.36 \r\n\" style=\"fill:none;stroke:#000000;stroke-linecap:square;stroke-linejoin:miter;stroke-width:0.8;\"/>\r\n   </g>\r\n   <g id=\"patch_24\">\r\n    <path d=\"M 52.530625 7.2 \r\nL 1056.930625 7.2 \r\n\" style=\"fill:none;stroke:#000000;stroke-linecap:square;stroke-linejoin:miter;stroke-width:0.8;\"/>\r\n   </g>\r\n   <g id=\"text_18\">\r\n    <g id=\"patch_25\">\r\n     <path d=\"M 162.766088 231.436027 \r\nL 162.766088 124.655402 \r\nL 141.026713 124.655402 \r\nL 141.026713 231.436027 \r\nz\r\n\" style=\"fill:#ffffff;stroke:#000000;stroke-linejoin:miter;\"/>\r\n    </g>\r\n    <!-- do_some_math -->\r\n    <g transform=\"translate(155.669838 227.376027)rotate(-90)scale(0.14 -0.14)\">\r\n     <defs>\r\n      <path d=\"M 56.25 0.875 \r\nL 39.453125 -0.203125 \r\nL 38.71875 0.484375 \r\nL 38.71875 4.984375 \r\nL 38.328125 5.078125 \r\nQ 35.796875 2.25 32.0625 0.4375 \r\nQ 28.328125 -1.375 24.359375 -1.375 \r\nQ 20.265625 -1.375 16.421875 0.453125 \r\nQ 12.59375 2.296875 9.765625 5.609375 \r\nQ 6.890625 8.984375 5.203125 13.71875 \r\nQ 3.515625 18.453125 3.515625 24.171875 \r\nQ 3.515625 29.390625 5.3125 34.078125 \r\nQ 7.125 38.765625 10.296875 42.28125 \r\nQ 13.28125 45.5625 17.59375 47.515625 \r\nQ 21.921875 49.46875 26.421875 49.46875 \r\nQ 29.78125 49.46875 33.03125 48.609375 \r\nQ 36.28125 47.75 38.625 46.4375 \r\nL 38.625 63.1875 \r\nQ 38.625 65.234375 37.9375 66.921875 \r\nQ 37.25 68.609375 36.03125 69.484375 \r\nQ 34.671875 70.40625 32.34375 70.8125 \r\nQ 30.03125 71.234375 27.34375 71.4375 \r\nL 27.34375 74.46875 \r\nL 47.015625 75.59375 \r\nL 47.75 74.859375 \r\nL 47.75 9.90625 \r\nQ 47.75 8.203125 48.40625 7 \r\nQ 49.078125 5.8125 50.34375 4.984375 \r\nQ 51.265625 4.390625 53.015625 4.25 \r\nQ 54.78125 4.109375 56.25 4.046875 \r\nz\r\nM 38.625 9.328125 \r\nL 38.625 37.5 \r\nQ 38.234375 38.765625 37.34375 40.234375 \r\nQ 36.46875 41.703125 35.15625 42.921875 \r\nQ 33.734375 44.140625 31.828125 44.9375 \r\nQ 29.9375 45.75 27.390625 45.75 \r\nQ 24.46875 45.75 22 44.234375 \r\nQ 19.53125 42.71875 17.625 39.890625 \r\nQ 15.828125 37.15625 14.765625 32.9375 \r\nQ 13.71875 28.71875 13.71875 23.578125 \r\nQ 13.71875 19.484375 14.5 16.140625 \r\nQ 15.28125 12.796875 17.140625 9.90625 \r\nQ 18.84375 7.171875 21.5 5.515625 \r\nQ 24.171875 3.859375 27.828125 3.859375 \r\nQ 31.734375 3.859375 34.296875 5.5625 \r\nQ 36.859375 7.28125 38.625 9.328125 \r\nz\r\n\" id=\"Georgia-100\"/>\r\n      <path d=\"M 64.546875 -13.765625 \r\nL -0.25 -13.765625 \r\nL -0.25 -8.84375 \r\nL 64.546875 -8.84375 \r\nz\r\n\" id=\"Georgia-95\"/>\r\n      <path d=\"M 33.25 2.09375 \r\nQ 30.078125 0.78125 27.25 -0.125 \r\nQ 24.421875 -1.03125 20.3125 -1.03125 \r\nQ 14.265625 -1.03125 11.796875 2.015625 \r\nQ 9.328125 5.078125 9.328125 10.640625 \r\nL 9.328125 43.265625 \r\nL 0.640625 43.265625 \r\nL 0.640625 47.953125 \r\nL 9.515625 47.953125 \r\nL 9.515625 62.9375 \r\nL 18.40625 62.9375 \r\nL 18.40625 47.953125 \r\nL 32.234375 47.953125 \r\nL 32.234375 43.265625 \r\nL 18.5 43.265625 \r\nL 18.5 16.359375 \r\nQ 18.5 13.328125 18.71875 11.296875 \r\nQ 18.953125 9.28125 19.78125 7.765625 \r\nQ 20.5625 6.34375 22.125 5.609375 \r\nQ 23.6875 4.890625 26.3125 4.890625 \r\nQ 27.546875 4.890625 29.90625 5.109375 \r\nQ 32.28125 5.328125 33.25 5.671875 \r\nz\r\n\" id=\"Georgia-116\"/>\r\n     </defs>\r\n     <use xlink:href=\"#Georgia-100\"/>\r\n     <use x=\"57.421875\" xlink:href=\"#Georgia-111\"/>\r\n     <use x=\"111.328125\" xlink:href=\"#Georgia-95\"/>\r\n     <use x=\"175.634766\" xlink:href=\"#Georgia-115\"/>\r\n     <use x=\"218.847656\" xlink:href=\"#Georgia-111\"/>\r\n     <use x=\"272.753906\" xlink:href=\"#Georgia-109\"/>\r\n     <use x=\"360.839844\" xlink:href=\"#Georgia-101\"/>\r\n     <use x=\"409.179688\" xlink:href=\"#Georgia-95\"/>\r\n     <use x=\"473.486328\" xlink:href=\"#Georgia-109\"/>\r\n     <use x=\"561.572266\" xlink:href=\"#Georgia-97\"/>\r\n     <use x=\"611.962891\" xlink:href=\"#Georgia-116\"/>\r\n     <use x=\"646.484375\" xlink:href=\"#Georgia-104\"/>\r\n    </g>\r\n   </g>\r\n  </g>\r\n </g>\r\n <defs>\r\n  <clipPath id=\"p16680765c4\">\r\n   <rect height=\"326.16\" width=\"1004.4\" x=\"52.530625\" y=\"7.2\"/>\r\n  </clipPath>\r\n </defs>\r\n</svg>\r\n",
      "image/png": "[encoded data removed]"
     },
     "metadata": {
      "needs_background": "light"
     }
    }
   ],
   "source": [
    "# Line plot\n",
    "pp.plot_byline(xtick_style='dense')"
   ]
  },
  {
   "cell_type": "code",
   "execution_count": 5,
   "metadata": {},
   "outputs": [
    {
     "output_type": "display_data",
     "data": {
      "application/vnd.plotly.v1+json": {
       "config": {
        "plotlyServerURL": "https://plot.ly"
       },
       "data": [
        {
         "alignmentgroup": "True",
         "customdata": [
          [
           5,
           "@profile"
          ],
          [
           6,
           "def fun(m, n):"
          ],
          [
           7,
           "'''"
          ],
          [
           8,
           "This function does some linear algebra"
          ],
          [
           9,
           ""
          ],
          [
           10,
           "Args:"
          ],
          [
           11,
           "m (int): size of dimension 1"
          ],
          [
           12,
           "n (int): size of dimension 2"
          ],
          [
           13,
           ""
          ],
          [
           14,
           "Returns:"
          ],
          [
           15,
           "np.arrays: some simple calculations"
          ],
          [
           16,
           "'''"
          ],
          [
           18,
           ""
          ],
          [
           19,
           "f = x.T @ a @\\"
          ],
          [
           20,
           "(x + x**2 - x**3)"
          ],
          [
           21,
           "g = x.T @ b @ y"
          ],
          [
           22,
           "h = y.T @ z @ y"
          ],
          [
           23,
           ""
          ],
          [
           24,
           "T = 2 * (y @ x.T) * c"
          ],
          [
           25,
           "t = T.sum(axis=0)"
          ],
          [
           26,
           "r = T.sum(axis=1)"
          ],
          [
           27,
           "s = f'Make this 2 2.0 ugly {r[0]}'"
          ],
          [
           28,
           ""
          ],
          [
           30,
           "cond = np.abs(hi) > r.sum()"
          ],
          [
           31,
           ""
          ],
          [
           32,
           "if cond:"
          ],
          [
           33,
           "if r.sum() > 10:"
          ],
          [
           34,
           "print('howdy')"
          ],
          [
           35,
           "else:"
          ],
          [
           36,
           "print('powdy')"
          ],
          [
           37,
           "else:"
          ],
          [
           38,
           "print('yowdy')"
          ],
          [
           39,
           ""
          ],
          [
           40,
           "return f, g, h, T, t, r, s"
          ]
         ],
         "hovertemplate": "Branch-Function=fun<br>Function=%{x}<br>Mean Memory Delta (MiB)=%{y}<br>Line=%{customdata[0]}<br>Text=%{customdata[1]}<extra></extra>",
         "legendgroup": "fun",
         "marker": {
          "color": "#636efa"
         },
         "name": "fun",
         "offsetgroup": "fun",
         "orientation": "v",
         "showlegend": true,
         "textposition": "auto",
         "type": "bar",
         "x": [
          "fun",
          "fun",
          "fun",
          "fun",
          "fun",
          "fun",
          "fun",
          "fun",
          "fun",
          "fun",
          "fun",
          "fun",
          "fun",
          "fun",
          "fun",
          "fun",
          "fun",
          "fun",
          "fun",
          "fun",
          "fun",
          "fun",
          "fun",
          "fun",
          "fun",
          "fun",
          "fun",
          "fun",
          "fun",
          "fun",
          "fun",
          "fun",
          "fun",
          "fun"
         ],
         "xaxis": "x",
         "y": [
          0,
          0,
          0,
          0,
          0,
          0,
          0,
          0,
          0,
          0,
          0,
          0,
          0,
          1.822,
          0.035,
          0,
          0,
          0,
          7.641,
          0.027,
          0.008,
          0.004,
          0,
          0.008,
          0,
          0.004,
          0,
          0,
          0,
          0,
          0,
          0,
          0,
          0
         ],
         "yaxis": "y"
        },
        {
         "alignmentgroup": "True",
         "customdata": [
          [
           17,
           "x, y, z, a, b, c = make_randoms(m, n)"
          ],
          [
           43,
           "@profile"
          ],
          [
           44,
           "def make_randoms(m, n):"
          ],
          [
           45,
           "'''"
          ],
          [
           46,
           "This function creates some numpy arrays"
          ],
          [
           47,
           ""
          ],
          [
           48,
           "Args:"
          ],
          [
           49,
           "Sizes of arrays"
          ],
          [
           50,
           ""
          ],
          [
           51,
           "Returns:"
          ],
          [
           52,
           "Some arrays"
          ],
          [
           53,
           "'''"
          ],
          [
           54,
           "x = np.random.randn(m, 1)"
          ],
          [
           55,
           "y = np.random.randn(n, 1)"
          ],
          [
           56,
           "z = np.random.randn(n, n)"
          ],
          [
           57,
           "a = np.random.randn(m, m)"
          ],
          [
           58,
           "b = np.random.randn(m, n)"
          ],
          [
           59,
           "c = np.random.randn(n, m)"
          ],
          [
           60,
           ""
          ],
          [
           61,
           "return x, y, z, a, b, c"
          ]
         ],
         "hovertemplate": "Branch-Function=make_randoms<br>Function=%{x}<br>Mean Memory Delta (MiB)=%{y}<br>Line=%{customdata[0]}<br>Text=%{customdata[1]}<extra></extra>",
         "legendgroup": "make_randoms",
         "marker": {
          "color": "#EF553B"
         },
         "name": "make_randoms",
         "offsetgroup": "make_randoms",
         "orientation": "v",
         "showlegend": true,
         "textposition": "auto",
         "type": "bar",
         "x": [
          "fun",
          "make_randoms",
          "make_randoms",
          "make_randoms",
          "make_randoms",
          "make_randoms",
          "make_randoms",
          "make_randoms",
          "make_randoms",
          "make_randoms",
          "make_randoms",
          "make_randoms",
          "make_randoms",
          "make_randoms",
          "make_randoms",
          "make_randoms",
          "make_randoms",
          "make_randoms",
          "make_randoms",
          "make_randoms"
         ],
         "xaxis": "x",
         "y": [
          80.7245,
          0,
          0,
          0,
          0,
          0,
          0,
          0,
          0,
          0,
          0,
          0,
          0.031,
          0,
          7.633,
          7.633,
          7.633,
          7.633,
          0,
          0
         ],
         "yaxis": "y"
        },
        {
         "alignmentgroup": "True",
         "customdata": [
          [
           29,
           "hi = do_some_math(2 * m, 3 * n)"
          ],
          [
           4,
           "@profile"
          ],
          [
           5,
           "def do_some_math(m, n):"
          ],
          [
           6,
           "x = np.random.randn(1, m)"
          ],
          [
           7,
           "A = np.random.randn(m, n)"
          ],
          [
           8,
           "y = np.random.randn(n, 1)"
          ],
          [
           9,
           ""
          ],
          [
           10,
           "return x @ A @ y"
          ]
         ],
         "hovertemplate": "Branch-Function=do_some_math<br>Function=%{x}<br>Mean Memory Delta (MiB)=%{y}<br>Line=%{customdata[0]}<br>Text=%{customdata[1]}<extra></extra>",
         "legendgroup": "do_some_math",
         "marker": {
          "color": "#00cc96"
         },
         "name": "do_some_math",
         "offsetgroup": "do_some_math",
         "orientation": "v",
         "showlegend": true,
         "textposition": "auto",
         "type": "bar",
         "x": [
          "fun",
          "do_some_math",
          "do_some_math",
          "do_some_math",
          "do_some_math",
          "do_some_math",
          "do_some_math",
          "do_some_math"
         ],
         "xaxis": "x",
         "y": [
          90.527,
          0,
          0,
          0,
          45.777,
          0.0215,
          0,
          0.244
         ],
         "yaxis": "y"
        }
       ],
       "layout": {
        "barmode": "relative",
        "height": 500,
        "legend": {
         "title": {
          "text": "Branch-Function"
         },
         "tracegroupgap": 0
        },
        "margin": {
         "t": 60
        },
        "template": {
         "data": {
          "bar": [
           {
            "error_x": {
             "color": "#2a3f5f"
            },
            "error_y": {
             "color": "#2a3f5f"
            },
            "marker": {
             "line": {
              "color": "#E5ECF6",
              "width": 0.5
             }
            },
            "type": "bar"
           }
          ],
          "barpolar": [
           {
            "marker": {
             "line": {
              "color": "#E5ECF6",
              "width": 0.5
             }
            },
            "type": "barpolar"
           }
          ],
          "carpet": [
           {
            "aaxis": {
             "endlinecolor": "#2a3f5f",
             "gridcolor": "white",
             "linecolor": "white",
             "minorgridcolor": "white",
             "startlinecolor": "#2a3f5f"
            },
            "baxis": {
             "endlinecolor": "#2a3f5f",
             "gridcolor": "white",
             "linecolor": "white",
             "minorgridcolor": "white",
             "startlinecolor": "#2a3f5f"
            },
            "type": "carpet"
           }
          ],
          "choropleth": [
           {
            "colorbar": {
             "outlinewidth": 0,
             "ticks": ""
            },
            "type": "choropleth"
           }
          ],
          "contour": [
           {
            "colorbar": {
             "outlinewidth": 0,
             "ticks": ""
            },
            "colorscale": [
             [
              0,
              "#0d0887"
             ],
             [
              0.1111111111111111,
              "#46039f"
             ],
             [
              0.2222222222222222,
              "#7201a8"
             ],
             [
              0.3333333333333333,
              "#9c179e"
             ],
             [
              0.4444444444444444,
              "#bd3786"
             ],
             [
              0.5555555555555556,
              "#d8576b"
             ],
             [
              0.6666666666666666,
              "#ed7953"
             ],
             [
              0.7777777777777778,
              "#fb9f3a"
             ],
             [
              0.8888888888888888,
              "#fdca26"
             ],
             [
              1,
              "#f0f921"
             ]
            ],
            "type": "contour"
           }
          ],
          "contourcarpet": [
           {
            "colorbar": {
             "outlinewidth": 0,
             "ticks": ""
            },
            "type": "contourcarpet"
           }
          ],
          "heatmap": [
           {
            "colorbar": {
             "outlinewidth": 0,
             "ticks": ""
            },
            "colorscale": [
             [
              0,
              "#0d0887"
             ],
             [
              0.1111111111111111,
              "#46039f"
             ],
             [
              0.2222222222222222,
              "#7201a8"
             ],
             [
              0.3333333333333333,
              "#9c179e"
             ],
             [
              0.4444444444444444,
              "#bd3786"
             ],
             [
              0.5555555555555556,
              "#d8576b"
             ],
             [
              0.6666666666666666,
              "#ed7953"
             ],
             [
              0.7777777777777778,
              "#fb9f3a"
             ],
             [
              0.8888888888888888,
              "#fdca26"
             ],
             [
              1,
              "#f0f921"
             ]
            ],
            "type": "heatmap"
           }
          ],
          "heatmapgl": [
           {
            "colorbar": {
             "outlinewidth": 0,
             "ticks": ""
            },
            "colorscale": [
             [
              0,
              "#0d0887"
             ],
             [
              0.1111111111111111,
              "#46039f"
             ],
             [
              0.2222222222222222,
              "#7201a8"
             ],
             [
              0.3333333333333333,
              "#9c179e"
             ],
             [
              0.4444444444444444,
              "#bd3786"
             ],
             [
              0.5555555555555556,
              "#d8576b"
             ],
             [
              0.6666666666666666,
              "#ed7953"
             ],
             [
              0.7777777777777778,
              "#fb9f3a"
             ],
             [
              0.8888888888888888,
              "#fdca26"
             ],
             [
              1,
              "#f0f921"
             ]
            ],
            "type": "heatmapgl"
           }
          ],
          "histogram": [
           {
            "marker": {
             "colorbar": {
              "outlinewidth": 0,
              "ticks": ""
             }
            },
            "type": "histogram"
           }
          ],
          "histogram2d": [
           {
            "colorbar": {
             "outlinewidth": 0,
             "ticks": ""
            },
            "colorscale": [
             [
              0,
              "#0d0887"
             ],
             [
              0.1111111111111111,
              "#46039f"
             ],
             [
              0.2222222222222222,
              "#7201a8"
             ],
             [
              0.3333333333333333,
              "#9c179e"
             ],
             [
              0.4444444444444444,
              "#bd3786"
             ],
             [
              0.5555555555555556,
              "#d8576b"
             ],
             [
              0.6666666666666666,
              "#ed7953"
             ],
             [
              0.7777777777777778,
              "#fb9f3a"
             ],
             [
              0.8888888888888888,
              "#fdca26"
             ],
             [
              1,
              "#f0f921"
             ]
            ],
            "type": "histogram2d"
           }
          ],
          "histogram2dcontour": [
           {
            "colorbar": {
             "outlinewidth": 0,
             "ticks": ""
            },
            "colorscale": [
             [
              0,
              "#0d0887"
             ],
             [
              0.1111111111111111,
              "#46039f"
             ],
             [
              0.2222222222222222,
              "#7201a8"
             ],
             [
              0.3333333333333333,
              "#9c179e"
             ],
             [
              0.4444444444444444,
              "#bd3786"
             ],
             [
              0.5555555555555556,
              "#d8576b"
             ],
             [
              0.6666666666666666,
              "#ed7953"
             ],
             [
              0.7777777777777778,
              "#fb9f3a"
             ],
             [
              0.8888888888888888,
              "#fdca26"
             ],
             [
              1,
              "#f0f921"
             ]
            ],
            "type": "histogram2dcontour"
           }
          ],
          "mesh3d": [
           {
            "colorbar": {
             "outlinewidth": 0,
             "ticks": ""
            },
            "type": "mesh3d"
           }
          ],
          "parcoords": [
           {
            "line": {
             "colorbar": {
              "outlinewidth": 0,
              "ticks": ""
             }
            },
            "type": "parcoords"
           }
          ],
          "pie": [
           {
            "automargin": true,
            "type": "pie"
           }
          ],
          "scatter": [
           {
            "marker": {
             "colorbar": {
              "outlinewidth": 0,
              "ticks": ""
             }
            },
            "type": "scatter"
           }
          ],
          "scatter3d": [
           {
            "line": {
             "colorbar": {
              "outlinewidth": 0,
              "ticks": ""
             }
            },
            "marker": {
             "colorbar": {
              "outlinewidth": 0,
              "ticks": ""
             }
            },
            "type": "scatter3d"
           }
          ],
          "scattercarpet": [
           {
            "marker": {
             "colorbar": {
              "outlinewidth": 0,
              "ticks": ""
             }
            },
            "type": "scattercarpet"
           }
          ],
          "scattergeo": [
           {
            "marker": {
             "colorbar": {
              "outlinewidth": 0,
              "ticks": ""
             }
            },
            "type": "scattergeo"
           }
          ],
          "scattergl": [
           {
            "marker": {
             "colorbar": {
              "outlinewidth": 0,
              "ticks": ""
             }
            },
            "type": "scattergl"
           }
          ],
          "scattermapbox": [
           {
            "marker": {
             "colorbar": {
              "outlinewidth": 0,
              "ticks": ""
             }
            },
            "type": "scattermapbox"
           }
          ],
          "scatterpolar": [
           {
            "marker": {
             "colorbar": {
              "outlinewidth": 0,
              "ticks": ""
             }
            },
            "type": "scatterpolar"
           }
          ],
          "scatterpolargl": [
           {
            "marker": {
             "colorbar": {
              "outlinewidth": 0,
              "ticks": ""
             }
            },
            "type": "scatterpolargl"
           }
          ],
          "scatterternary": [
           {
            "marker": {
             "colorbar": {
              "outlinewidth": 0,
              "ticks": ""
             }
            },
            "type": "scatterternary"
           }
          ],
          "surface": [
           {
            "colorbar": {
             "outlinewidth": 0,
             "ticks": ""
            },
            "colorscale": [
             [
              0,
              "#0d0887"
             ],
             [
              0.1111111111111111,
              "#46039f"
             ],
             [
              0.2222222222222222,
              "#7201a8"
             ],
             [
              0.3333333333333333,
              "#9c179e"
             ],
             [
              0.4444444444444444,
              "#bd3786"
             ],
             [
              0.5555555555555556,
              "#d8576b"
             ],
             [
              0.6666666666666666,
              "#ed7953"
             ],
             [
              0.7777777777777778,
              "#fb9f3a"
             ],
             [
              0.8888888888888888,
              "#fdca26"
             ],
             [
              1,
              "#f0f921"
             ]
            ],
            "type": "surface"
           }
          ],
          "table": [
           {
            "cells": {
             "fill": {
              "color": "#EBF0F8"
             },
             "line": {
              "color": "white"
             }
            },
            "header": {
             "fill": {
              "color": "#C8D4E3"
             },
             "line": {
              "color": "white"
             }
            },
            "type": "table"
           }
          ]
         },
         "layout": {
          "annotationdefaults": {
           "arrowcolor": "#2a3f5f",
           "arrowhead": 0,
           "arrowwidth": 1
          },
          "autotypenumbers": "strict",
          "coloraxis": {
           "colorbar": {
            "outlinewidth": 0,
            "ticks": ""
           }
          },
          "colorscale": {
           "diverging": [
            [
             0,
             "#8e0152"
            ],
            [
             0.1,
             "#c51b7d"
            ],
            [
             0.2,
             "#de77ae"
            ],
            [
             0.3,
             "#f1b6da"
            ],
            [
             0.4,
             "#fde0ef"
            ],
            [
             0.5,
             "#f7f7f7"
            ],
            [
             0.6,
             "#e6f5d0"
            ],
            [
             0.7,
             "#b8e186"
            ],
            [
             0.8,
             "#7fbc41"
            ],
            [
             0.9,
             "#4d9221"
            ],
            [
             1,
             "#276419"
            ]
           ],
           "sequential": [
            [
             0,
             "#0d0887"
            ],
            [
             0.1111111111111111,
             "#46039f"
            ],
            [
             0.2222222222222222,
             "#7201a8"
            ],
            [
             0.3333333333333333,
             "#9c179e"
            ],
            [
             0.4444444444444444,
             "#bd3786"
            ],
            [
             0.5555555555555556,
             "#d8576b"
            ],
            [
             0.6666666666666666,
             "#ed7953"
            ],
            [
             0.7777777777777778,
             "#fb9f3a"
            ],
            [
             0.8888888888888888,
             "#fdca26"
            ],
            [
             1,
             "#f0f921"
            ]
           ],
           "sequentialminus": [
            [
             0,
             "#0d0887"
            ],
            [
             0.1111111111111111,
             "#46039f"
            ],
            [
             0.2222222222222222,
             "#7201a8"
            ],
            [
             0.3333333333333333,
             "#9c179e"
            ],
            [
             0.4444444444444444,
             "#bd3786"
            ],
            [
             0.5555555555555556,
             "#d8576b"
            ],
            [
             0.6666666666666666,
             "#ed7953"
            ],
            [
             0.7777777777777778,
             "#fb9f3a"
            ],
            [
             0.8888888888888888,
             "#fdca26"
            ],
            [
             1,
             "#f0f921"
            ]
           ]
          },
          "colorway": [
           "#636efa",
           "#EF553B",
           "#00cc96",
           "#ab63fa",
           "#FFA15A",
           "#19d3f3",
           "#FF6692",
           "#B6E880",
           "#FF97FF",
           "#FECB52"
          ],
          "font": {
           "color": "#2a3f5f"
          },
          "geo": {
           "bgcolor": "white",
           "lakecolor": "white",
           "landcolor": "#E5ECF6",
           "showlakes": true,
           "showland": true,
           "subunitcolor": "white"
          },
          "hoverlabel": {
           "align": "left"
          },
          "hovermode": "closest",
          "mapbox": {
           "style": "light"
          },
          "paper_bgcolor": "white",
          "plot_bgcolor": "#E5ECF6",
          "polar": {
           "angularaxis": {
            "gridcolor": "white",
            "linecolor": "white",
            "ticks": ""
           },
           "bgcolor": "#E5ECF6",
           "radialaxis": {
            "gridcolor": "white",
            "linecolor": "white",
            "ticks": ""
           }
          },
          "scene": {
           "xaxis": {
            "backgroundcolor": "#E5ECF6",
            "gridcolor": "white",
            "gridwidth": 2,
            "linecolor": "white",
            "showbackground": true,
            "ticks": "",
            "zerolinecolor": "white"
           },
           "yaxis": {
            "backgroundcolor": "#E5ECF6",
            "gridcolor": "white",
            "gridwidth": 2,
            "linecolor": "white",
            "showbackground": true,
            "ticks": "",
            "zerolinecolor": "white"
           },
           "zaxis": {
            "backgroundcolor": "#E5ECF6",
            "gridcolor": "white",
            "gridwidth": 2,
            "linecolor": "white",
            "showbackground": true,
            "ticks": "",
            "zerolinecolor": "white"
           }
          },
          "shapedefaults": {
           "line": {
            "color": "#2a3f5f"
           }
          },
          "ternary": {
           "aaxis": {
            "gridcolor": "white",
            "linecolor": "white",
            "ticks": ""
           },
           "baxis": {
            "gridcolor": "white",
            "linecolor": "white",
            "ticks": ""
           },
           "bgcolor": "#E5ECF6",
           "caxis": {
            "gridcolor": "white",
            "linecolor": "white",
            "ticks": ""
           }
          },
          "title": {
           "x": 0.05
          },
          "xaxis": {
           "automargin": true,
           "gridcolor": "white",
           "linecolor": "white",
           "ticks": "",
           "title": {
            "standoff": 15
           },
           "zerolinecolor": "white",
           "zerolinewidth": 2
          },
          "yaxis": {
           "automargin": true,
           "gridcolor": "white",
           "linecolor": "white",
           "ticks": "",
           "title": {
            "standoff": 15
           },
           "zerolinecolor": "white",
           "zerolinewidth": 2
          }
         }
        },
        "width": 1000,
        "xaxis": {
         "anchor": "y",
         "domain": [
          0,
          1
         ],
         "title": {
          "text": "Function"
         }
        },
        "yaxis": {
         "anchor": "x",
         "domain": [
          0,
          1
         ],
         "title": {
          "text": "Mean Memory Delta (MiB)"
         }
        }
       }
      }
     },
     "metadata": {}
    }
   ],
   "source": [
    "# Function breakdown\n",
    "pp.plot_byfn(mode='memory')"
   ]
  },
  {
   "cell_type": "code",
   "execution_count": 6,
   "metadata": {},
   "outputs": [
    {
     "output_type": "display_data",
     "data": {
      "application/vnd.plotly.v1+json": {
       "config": {
        "plotlyServerURL": "https://plot.ly"
       },
       "data": [
        {
         "alignmentgroup": "True",
         "customdata": [
          [
           29,
           1,
           90.531,
           "hi = do_some_math(2 * m, 3 * n)"
          ],
          [
           29,
           1,
           90.523,
           "hi = do_some_math(2 * m, 3 * n)"
          ],
          [
           17,
           1,
           80.73,
           "x, y, z, a, b, c = make_randoms(m, n)"
          ],
          [
           17,
           1,
           80.719,
           "x, y, z, a, b, c = make_randoms(m, n)"
          ],
          [
           7,
           1,
           136.043,
           "A = np.random.randn(m, n)"
          ],
          [
           7,
           1,
           136.035,
           "A = np.random.randn(m, n)"
          ],
          [
           24,
           1,
           90.219,
           "T = 2 * (y @ x.T) * c"
          ],
          [
           24,
           1,
           90.227,
           "T = 2 * (y @ x.T) * c"
          ],
          [
           58,
           1,
           73.086,
           "b = np.random.randn(m, n)"
          ],
          [
           57,
           1,
           65.453,
           "a = np.random.randn(m, m)"
          ]
         ],
         "hovertemplate": "Memory Delta (MiB)=%{marker.color:.2f}<br>Rank=%{y}<br>Line=%{customdata[0]}<br>Occurences=%{customdata[1]}<br>Total Memory (MiB)=%{customdata[2]:.2f}<br>Text=%{customdata[3]}<extra></extra>",
         "legendgroup": "",
         "marker": {
          "color": [
           90.531,
           90.523,
           80.73,
           80.719,
           45.777,
           45.777,
           7.641,
           7.641,
           7.633,
           7.633
          ],
          "coloraxis": "coloraxis"
         },
         "name": "",
         "offsetgroup": "",
         "orientation": "h",
         "showlegend": false,
         "text": [
          29,
          29,
          17,
          17,
          7,
          7,
          24,
          24,
          58,
          57
         ],
         "textposition": "outside",
         "type": "bar",
         "x": [
          90.531,
          90.523,
          80.73,
          80.719,
          45.777,
          45.777,
          7.641,
          7.641,
          7.633,
          7.633
         ],
         "xaxis": "x",
         "y": [
          1,
          2,
          3,
          4,
          5,
          6,
          7,
          8,
          9,
          10
         ],
         "yaxis": "y"
        }
       ],
       "layout": {
        "barmode": "relative",
        "coloraxis": {
         "colorbar": {
          "title": {
           "text": "Memory Delta (MiB)"
          }
         },
         "colorscale": [
          [
           0,
           "rgb(252, 222, 156)"
          ],
          [
           0.16666666666666666,
           "rgb(250, 164, 118)"
          ],
          [
           0.3333333333333333,
           "rgb(240, 116, 110)"
          ],
          [
           0.5,
           "rgb(227, 79, 111)"
          ],
          [
           0.6666666666666666,
           "rgb(220, 57, 119)"
          ],
          [
           0.8333333333333334,
           "rgb(185, 37, 122)"
          ],
          [
           1,
           "rgb(124, 29, 111)"
          ]
         ]
        },
        "height": 600,
        "legend": {
         "tracegroupgap": 0
        },
        "margin": {
         "t": 60
        },
        "template": {
         "data": {
          "bar": [
           {
            "error_x": {
             "color": "#2a3f5f"
            },
            "error_y": {
             "color": "#2a3f5f"
            },
            "marker": {
             "line": {
              "color": "#E5ECF6",
              "width": 0.5
             }
            },
            "type": "bar"
           }
          ],
          "barpolar": [
           {
            "marker": {
             "line": {
              "color": "#E5ECF6",
              "width": 0.5
             }
            },
            "type": "barpolar"
           }
          ],
          "carpet": [
           {
            "aaxis": {
             "endlinecolor": "#2a3f5f",
             "gridcolor": "white",
             "linecolor": "white",
             "minorgridcolor": "white",
             "startlinecolor": "#2a3f5f"
            },
            "baxis": {
             "endlinecolor": "#2a3f5f",
             "gridcolor": "white",
             "linecolor": "white",
             "minorgridcolor": "white",
             "startlinecolor": "#2a3f5f"
            },
            "type": "carpet"
           }
          ],
          "choropleth": [
           {
            "colorbar": {
             "outlinewidth": 0,
             "ticks": ""
            },
            "type": "choropleth"
           }
          ],
          "contour": [
           {
            "colorbar": {
             "outlinewidth": 0,
             "ticks": ""
            },
            "colorscale": [
             [
              0,
              "#0d0887"
             ],
             [
              0.1111111111111111,
              "#46039f"
             ],
             [
              0.2222222222222222,
              "#7201a8"
             ],
             [
              0.3333333333333333,
              "#9c179e"
             ],
             [
              0.4444444444444444,
              "#bd3786"
             ],
             [
              0.5555555555555556,
              "#d8576b"
             ],
             [
              0.6666666666666666,
              "#ed7953"
             ],
             [
              0.7777777777777778,
              "#fb9f3a"
             ],
             [
              0.8888888888888888,
              "#fdca26"
             ],
             [
              1,
              "#f0f921"
             ]
            ],
            "type": "contour"
           }
          ],
          "contourcarpet": [
           {
            "colorbar": {
             "outlinewidth": 0,
             "ticks": ""
            },
            "type": "contourcarpet"
           }
          ],
          "heatmap": [
           {
            "colorbar": {
             "outlinewidth": 0,
             "ticks": ""
            },
            "colorscale": [
             [
              0,
              "#0d0887"
             ],
             [
              0.1111111111111111,
              "#46039f"
             ],
             [
              0.2222222222222222,
              "#7201a8"
             ],
             [
              0.3333333333333333,
              "#9c179e"
             ],
             [
              0.4444444444444444,
              "#bd3786"
             ],
             [
              0.5555555555555556,
              "#d8576b"
             ],
             [
              0.6666666666666666,
              "#ed7953"
             ],
             [
              0.7777777777777778,
              "#fb9f3a"
             ],
             [
              0.8888888888888888,
              "#fdca26"
             ],
             [
              1,
              "#f0f921"
             ]
            ],
            "type": "heatmap"
           }
          ],
          "heatmapgl": [
           {
            "colorbar": {
             "outlinewidth": 0,
             "ticks": ""
            },
            "colorscale": [
             [
              0,
              "#0d0887"
             ],
             [
              0.1111111111111111,
              "#46039f"
             ],
             [
              0.2222222222222222,
              "#7201a8"
             ],
             [
              0.3333333333333333,
              "#9c179e"
             ],
             [
              0.4444444444444444,
              "#bd3786"
             ],
             [
              0.5555555555555556,
              "#d8576b"
             ],
             [
              0.6666666666666666,
              "#ed7953"
             ],
             [
              0.7777777777777778,
              "#fb9f3a"
             ],
             [
              0.8888888888888888,
              "#fdca26"
             ],
             [
              1,
              "#f0f921"
             ]
            ],
            "type": "heatmapgl"
           }
          ],
          "histogram": [
           {
            "marker": {
             "colorbar": {
              "outlinewidth": 0,
              "ticks": ""
             }
            },
            "type": "histogram"
           }
          ],
          "histogram2d": [
           {
            "colorbar": {
             "outlinewidth": 0,
             "ticks": ""
            },
            "colorscale": [
             [
              0,
              "#0d0887"
             ],
             [
              0.1111111111111111,
              "#46039f"
             ],
             [
              0.2222222222222222,
              "#7201a8"
             ],
             [
              0.3333333333333333,
              "#9c179e"
             ],
             [
              0.4444444444444444,
              "#bd3786"
             ],
             [
              0.5555555555555556,
              "#d8576b"
             ],
             [
              0.6666666666666666,
              "#ed7953"
             ],
             [
              0.7777777777777778,
              "#fb9f3a"
             ],
             [
              0.8888888888888888,
              "#fdca26"
             ],
             [
              1,
              "#f0f921"
             ]
            ],
            "type": "histogram2d"
           }
          ],
          "histogram2dcontour": [
           {
            "colorbar": {
             "outlinewidth": 0,
             "ticks": ""
            },
            "colorscale": [
             [
              0,
              "#0d0887"
             ],
             [
              0.1111111111111111,
              "#46039f"
             ],
             [
              0.2222222222222222,
              "#7201a8"
             ],
             [
              0.3333333333333333,
              "#9c179e"
             ],
             [
              0.4444444444444444,
              "#bd3786"
             ],
             [
              0.5555555555555556,
              "#d8576b"
             ],
             [
              0.6666666666666666,
              "#ed7953"
             ],
             [
              0.7777777777777778,
              "#fb9f3a"
             ],
             [
              0.8888888888888888,
              "#fdca26"
             ],
             [
              1,
              "#f0f921"
             ]
            ],
            "type": "histogram2dcontour"
           }
          ],
          "mesh3d": [
           {
            "colorbar": {
             "outlinewidth": 0,
             "ticks": ""
            },
            "type": "mesh3d"
           }
          ],
          "parcoords": [
           {
            "line": {
             "colorbar": {
              "outlinewidth": 0,
              "ticks": ""
             }
            },
            "type": "parcoords"
           }
          ],
          "pie": [
           {
            "automargin": true,
            "type": "pie"
           }
          ],
          "scatter": [
           {
            "marker": {
             "colorbar": {
              "outlinewidth": 0,
              "ticks": ""
             }
            },
            "type": "scatter"
           }
          ],
          "scatter3d": [
           {
            "line": {
             "colorbar": {
              "outlinewidth": 0,
              "ticks": ""
             }
            },
            "marker": {
             "colorbar": {
              "outlinewidth": 0,
              "ticks": ""
             }
            },
            "type": "scatter3d"
           }
          ],
          "scattercarpet": [
           {
            "marker": {
             "colorbar": {
              "outlinewidth": 0,
              "ticks": ""
             }
            },
            "type": "scattercarpet"
           }
          ],
          "scattergeo": [
           {
            "marker": {
             "colorbar": {
              "outlinewidth": 0,
              "ticks": ""
             }
            },
            "type": "scattergeo"
           }
          ],
          "scattergl": [
           {
            "marker": {
             "colorbar": {
              "outlinewidth": 0,
              "ticks": ""
             }
            },
            "type": "scattergl"
           }
          ],
          "scattermapbox": [
           {
            "marker": {
             "colorbar": {
              "outlinewidth": 0,
              "ticks": ""
             }
            },
            "type": "scattermapbox"
           }
          ],
          "scatterpolar": [
           {
            "marker": {
             "colorbar": {
              "outlinewidth": 0,
              "ticks": ""
             }
            },
            "type": "scatterpolar"
           }
          ],
          "scatterpolargl": [
           {
            "marker": {
             "colorbar": {
              "outlinewidth": 0,
              "ticks": ""
             }
            },
            "type": "scatterpolargl"
           }
          ],
          "scatterternary": [
           {
            "marker": {
             "colorbar": {
              "outlinewidth": 0,
              "ticks": ""
             }
            },
            "type": "scatterternary"
           }
          ],
          "surface": [
           {
            "colorbar": {
             "outlinewidth": 0,
             "ticks": ""
            },
            "colorscale": [
             [
              0,
              "#0d0887"
             ],
             [
              0.1111111111111111,
              "#46039f"
             ],
             [
              0.2222222222222222,
              "#7201a8"
             ],
             [
              0.3333333333333333,
              "#9c179e"
             ],
             [
              0.4444444444444444,
              "#bd3786"
             ],
             [
              0.5555555555555556,
              "#d8576b"
             ],
             [
              0.6666666666666666,
              "#ed7953"
             ],
             [
              0.7777777777777778,
              "#fb9f3a"
             ],
             [
              0.8888888888888888,
              "#fdca26"
             ],
             [
              1,
              "#f0f921"
             ]
            ],
            "type": "surface"
           }
          ],
          "table": [
           {
            "cells": {
             "fill": {
              "color": "#EBF0F8"
             },
             "line": {
              "color": "white"
             }
            },
            "header": {
             "fill": {
              "color": "#C8D4E3"
             },
             "line": {
              "color": "white"
             }
            },
            "type": "table"
           }
          ]
         },
         "layout": {
          "annotationdefaults": {
           "arrowcolor": "#2a3f5f",
           "arrowhead": 0,
           "arrowwidth": 1
          },
          "autotypenumbers": "strict",
          "coloraxis": {
           "colorbar": {
            "outlinewidth": 0,
            "ticks": ""
           }
          },
          "colorscale": {
           "diverging": [
            [
             0,
             "#8e0152"
            ],
            [
             0.1,
             "#c51b7d"
            ],
            [
             0.2,
             "#de77ae"
            ],
            [
             0.3,
             "#f1b6da"
            ],
            [
             0.4,
             "#fde0ef"
            ],
            [
             0.5,
             "#f7f7f7"
            ],
            [
             0.6,
             "#e6f5d0"
            ],
            [
             0.7,
             "#b8e186"
            ],
            [
             0.8,
             "#7fbc41"
            ],
            [
             0.9,
             "#4d9221"
            ],
            [
             1,
             "#276419"
            ]
           ],
           "sequential": [
            [
             0,
             "#0d0887"
            ],
            [
             0.1111111111111111,
             "#46039f"
            ],
            [
             0.2222222222222222,
             "#7201a8"
            ],
            [
             0.3333333333333333,
             "#9c179e"
            ],
            [
             0.4444444444444444,
             "#bd3786"
            ],
            [
             0.5555555555555556,
             "#d8576b"
            ],
            [
             0.6666666666666666,
             "#ed7953"
            ],
            [
             0.7777777777777778,
             "#fb9f3a"
            ],
            [
             0.8888888888888888,
             "#fdca26"
            ],
            [
             1,
             "#f0f921"
            ]
           ],
           "sequentialminus": [
            [
             0,
             "#0d0887"
            ],
            [
             0.1111111111111111,
             "#46039f"
            ],
            [
             0.2222222222222222,
             "#7201a8"
            ],
            [
             0.3333333333333333,
             "#9c179e"
            ],
            [
             0.4444444444444444,
             "#bd3786"
            ],
            [
             0.5555555555555556,
             "#d8576b"
            ],
            [
             0.6666666666666666,
             "#ed7953"
            ],
            [
             0.7777777777777778,
             "#fb9f3a"
            ],
            [
             0.8888888888888888,
             "#fdca26"
            ],
            [
             1,
             "#f0f921"
            ]
           ]
          },
          "colorway": [
           "#636efa",
           "#EF553B",
           "#00cc96",
           "#ab63fa",
           "#FFA15A",
           "#19d3f3",
           "#FF6692",
           "#B6E880",
           "#FF97FF",
           "#FECB52"
          ],
          "font": {
           "color": "#2a3f5f"
          },
          "geo": {
           "bgcolor": "white",
           "lakecolor": "white",
           "landcolor": "#E5ECF6",
           "showlakes": true,
           "showland": true,
           "subunitcolor": "white"
          },
          "hoverlabel": {
           "align": "left"
          },
          "hovermode": "closest",
          "mapbox": {
           "style": "light"
          },
          "paper_bgcolor": "white",
          "plot_bgcolor": "#E5ECF6",
          "polar": {
           "angularaxis": {
            "gridcolor": "white",
            "linecolor": "white",
            "ticks": ""
           },
           "bgcolor": "#E5ECF6",
           "radialaxis": {
            "gridcolor": "white",
            "linecolor": "white",
            "ticks": ""
           }
          },
          "scene": {
           "xaxis": {
            "backgroundcolor": "#E5ECF6",
            "gridcolor": "white",
            "gridwidth": 2,
            "linecolor": "white",
            "showbackground": true,
            "ticks": "",
            "zerolinecolor": "white"
           },
           "yaxis": {
            "backgroundcolor": "#E5ECF6",
            "gridcolor": "white",
            "gridwidth": 2,
            "linecolor": "white",
            "showbackground": true,
            "ticks": "",
            "zerolinecolor": "white"
           },
           "zaxis": {
            "backgroundcolor": "#E5ECF6",
            "gridcolor": "white",
            "gridwidth": 2,
            "linecolor": "white",
            "showbackground": true,
            "ticks": "",
            "zerolinecolor": "white"
           }
          },
          "shapedefaults": {
           "line": {
            "color": "#2a3f5f"
           }
          },
          "ternary": {
           "aaxis": {
            "gridcolor": "white",
            "linecolor": "white",
            "ticks": ""
           },
           "baxis": {
            "gridcolor": "white",
            "linecolor": "white",
            "ticks": ""
           },
           "bgcolor": "#E5ECF6",
           "caxis": {
            "gridcolor": "white",
            "linecolor": "white",
            "ticks": ""
           }
          },
          "title": {
           "x": 0.05
          },
          "xaxis": {
           "automargin": true,
           "gridcolor": "white",
           "linecolor": "white",
           "ticks": "",
           "title": {
            "standoff": 15
           },
           "zerolinecolor": "white",
           "zerolinewidth": 2
          },
          "yaxis": {
           "automargin": true,
           "gridcolor": "white",
           "linecolor": "white",
           "ticks": "",
           "title": {
            "standoff": 15
           },
           "zerolinecolor": "white",
           "zerolinewidth": 2
          }
         }
        },
        "title": {
         "text": "Most Memory Intensive Lines"
        },
        "width": 1200,
        "xaxis": {
         "anchor": "y",
         "domain": [
          0,
          1
         ],
         "title": {
          "text": "Memory Delta (MiB)"
         }
        },
        "yaxis": {
         "anchor": "x",
         "autorange": "reversed",
         "domain": [
          0,
          1
         ],
         "dtick": 1,
         "tick0": 1,
         "tickmode": "linear",
         "title": {
          "text": "Rank"
         }
        }
       }
      }
     },
     "metadata": {}
    }
   ],
   "source": [
    "# Rankings plot\n",
    "pp.plot_ranks(mode='memory')"
   ]
  },
  {
   "cell_type": "code",
   "execution_count": 11,
   "metadata": {},
   "outputs": [
    {
     "output_type": "stream",
     "name": "stdout",
     "text": [
      "    Line  Hits      Time (s)   Per Hit (s)  Perc Time (%)  \\\n0     20     0  0.000000e+00  0.000000e+00            0.0   \n1     21     0  0.000000e+00  0.000000e+00            0.0   \n2     22     1  4.000000e-07  4.000000e-07            0.0   \n3     23     6  2.900000e-06  4.800000e-07            0.0   \n4     24     5  3.830000e-05  7.660000e-06            0.0   \n5     25     5  4.348675e-01  8.697350e-02          100.0   \n6     26     5  5.800000e-06  1.160000e-06            0.0   \n7     27     1  2.000000e-07  2.000000e-07            0.0   \n8     30     0  0.000000e+00  0.000000e+00            0.0   \n9     31     0  0.000000e+00  0.000000e+00            0.0   \n10    32     2  5.220530e-02  2.610265e-02           63.1   \n11    33     0  0.000000e+00  0.000000e+00            0.0   \n12    34     0  0.000000e+00  0.000000e+00            0.0   \n13    35     0  0.000000e+00  0.000000e+00            0.0   \n14    36     0  0.000000e+00  0.000000e+00            0.0   \n15    37     1  1.700000e-06  1.700000e-06            0.0   \n16    38     0  0.000000e+00  0.000000e+00            0.0   \n17    39     2  3.052310e-02  1.526155e-02           36.9   \n18    40     1  6.000000e-07  6.000000e-07            0.0   \n19    41     1  5.000000e-07  5.000000e-07            0.0   \n20    42     1  5.000000e-07  5.000000e-07            0.0   \n21    43     2  1.300000e-06  6.500000e-07            0.0   \n22    44     2  1.300000e-06  6.500000e-07            0.0   \n23    45     2  1.600000e-06  8.000000e-07            0.0   \n24    46     1  5.000000e-07  5.000000e-07            0.0   \n25    47     1  5.000000e-07  5.000000e-07            0.0   \n26    48     1  5.000000e-07  5.000000e-07            0.0   \n27    49     0  0.000000e+00  0.000000e+00            0.0   \n28    50     2  1.300000e-06  6.500000e-07            0.0   \n29    51     1  5.000000e-07  5.000000e-07            0.0   \n30    52     1  5.000000e-07  5.000000e-07            0.0   \n31    53     1  5.000000e-07  5.000000e-07            0.0   \n32    54     0  0.000000e+00  0.000000e+00            0.0   \n33    55     0  0.000000e+00  0.000000e+00            0.0   \n34    56     1  1.000000e-06  1.000000e-06            0.0   \n35    57     1  5.000000e-07  5.000000e-07            0.0   \n36    58     0  0.000000e+00  0.000000e+00            0.0   \n37    59     0  0.000000e+00  0.000000e+00            0.0   \n38    60     1  1.300000e-06  1.300000e-06            0.0   \n39    63     0  0.000000e+00  0.000000e+00            0.0   \n40    64     0  0.000000e+00  0.000000e+00            0.0   \n41    65     1  2.900000e-06  2.900000e-06            2.2   \n42    66     1  7.000000e-07  7.000000e-07            0.5   \n43    67     1  3.000000e-07  3.000000e-07            0.2   \n44    68     1  1.247000e-04  1.247000e-04           96.4   \n45    69     1  7.000000e-07  7.000000e-07            0.5   \n\n                                                 Text                File  \\\n0                                            @profile  modified_Lorenz.py   \n1                 def make_multiple_Lorenz(N_trials):  modified_Lorenz.py   \n2                                           sols = []  modified_Lorenz.py   \n3                           for n in range(N_trials):  modified_Lorenz.py   \n4         y0_ = [y_ + np.random.randn() for y_ in y0]  modified_Lorenz.py   \n5            sol = odeint(mLorenz, y0_, t, args=beta)  modified_Lorenz.py   \n6                                    sols.append(sol)  modified_Lorenz.py   \n7                                         return sols  modified_Lorenz.py   \n8                                            @profile  modified_Lorenz.py   \n9                                def make_plotlies():  modified_Lorenz.py   \n10                                  fig = go.Figure([  modified_Lorenz.py   \n11                          go.Scatter3d(name=str(n),  modified_Lorenz.py   \n12  x=sols[n][:, 0], y=sols[n][:, 1], z=sols[n][:,...  modified_Lorenz.py   \n13                                 line={'width': 2},  modified_Lorenz.py   \n14                             marker={'size': 1e-5})  modified_Lorenz.py   \n15                         for n in range(len(sols))]  modified_Lorenz.py   \n16                                                  )  modified_Lorenz.py   \n17                                 fig.update_layout(  modified_Lorenz.py   \n18                                         width=800,  modified_Lorenz.py   \n19                                        height=700,  modified_Lorenz.py   \n20                                    autosize=False,  modified_Lorenz.py   \n21                                        scene=dict(  modified_Lorenz.py   \n22                                       camera=dict(  modified_Lorenz.py   \n23                                           up=dict(  modified_Lorenz.py   \n24                                               x=0,  modified_Lorenz.py   \n25                                               y=0,  modified_Lorenz.py   \n26                                                z=1  modified_Lorenz.py   \n27                                                 ),  modified_Lorenz.py   \n28                                          eye=dict(  modified_Lorenz.py   \n29                                               x=0,  modified_Lorenz.py   \n30                                          y=1.0707,  modified_Lorenz.py   \n31                                               z=1,  modified_Lorenz.py   \n32                                                  )  modified_Lorenz.py   \n33                                                 ),  modified_Lorenz.py   \n34                 aspectratio=dict(x=1, y=1, z=0.7),  modified_Lorenz.py   \n35                                aspectmode='manual'  modified_Lorenz.py   \n36                                                 ),  modified_Lorenz.py   \n37                                                  )  modified_Lorenz.py   \n38                                         return fig  modified_Lorenz.py   \n39                                           @profile  modified_Lorenz.py   \n40                                  def set_params():  modified_Lorenz.py   \n41                            beta = (10, 8/3, 137/5)  modified_Lorenz.py   \n42                                   y0 = [-8, 4, 10]  modified_Lorenz.py   \n43                                             T = 50  modified_Lorenz.py   \n44                t = np.linspace(0, T, int(T * 200))  modified_Lorenz.py   \n45                              return beta, y0, T, t  modified_Lorenz.py   \n\n                Function  Trial  \n0   make_multiple_Lorenz      1  \n1   make_multiple_Lorenz      1  \n2   make_multiple_Lorenz      1  \n3   make_multiple_Lorenz      1  \n4   make_multiple_Lorenz      1  \n5   make_multiple_Lorenz      1  \n6   make_multiple_Lorenz      1  \n7   make_multiple_Lorenz      1  \n8          make_plotlies      1  \n9          make_plotlies      1  \n10         make_plotlies      1  \n11         make_plotlies      1  \n12         make_plotlies      1  \n13         make_plotlies      1  \n14         make_plotlies      1  \n15         make_plotlies      1  \n16         make_plotlies      1  \n17         make_plotlies      1  \n18         make_plotlies      1  \n19         make_plotlies      1  \n20         make_plotlies      1  \n21         make_plotlies      1  \n22         make_plotlies      1  \n23         make_plotlies      1  \n24         make_plotlies      1  \n25         make_plotlies      1  \n26         make_plotlies      1  \n27         make_plotlies      1  \n28         make_plotlies      1  \n29         make_plotlies      1  \n30         make_plotlies      1  \n31         make_plotlies      1  \n32         make_plotlies      1  \n33         make_plotlies      1  \n34         make_plotlies      1  \n35         make_plotlies      1  \n36         make_plotlies      1  \n37         make_plotlies      1  \n38         make_plotlies      1  \n39            set_params      1  \n40            set_params      1  \n41            set_params      1  \n42            set_params      1  \n43            set_params      1  \n44            set_params      1  \n45            set_params      1  \n    Line  Total Memory (MiB)  Memory Delta (MiB)  Occurences  \\\n0     20              65.039               0.000         1.0   \n1     21               0.000               0.000         0.0   \n2     22              65.039               0.000         1.0   \n3     23              66.453               0.000         6.0   \n4     24              66.223               0.031        30.0   \n5     25              66.453               1.383         5.0   \n6     26              66.453               0.000         5.0   \n7     27              66.453               0.000         1.0   \n8     30              66.453               0.000         1.0   \n9     31               0.000               0.000         0.0   \n10    32              72.660               4.883         9.0   \n11    33              69.855               1.324        10.0   \n12    34              69.625               0.000         5.0   \n13    35              69.625               0.000         5.0   \n14    36              69.625               0.000         5.0   \n15    37              68.531               0.000         1.0   \n16    38               0.000               0.000         0.0   \n17    39              72.934               0.273         2.0   \n18    40              72.660               0.000         1.0   \n19    41              72.660               0.000         1.0   \n20    42              72.660               0.000         1.0   \n21    43              72.660               0.000         2.0   \n22    44              72.660               0.000         2.0   \n23    45              72.660               0.000         2.0   \n24    46              72.660               0.000         1.0   \n25    47              72.660               0.000         1.0   \n26    48              72.660               0.000         1.0   \n27    49               0.000               0.000         0.0   \n28    50              72.660               0.000         2.0   \n29    51              72.660               0.000         1.0   \n30    52              72.660               0.000         1.0   \n31    53              72.660               0.000         1.0   \n32    54               0.000               0.000         0.0   \n33    55               0.000               0.000         0.0   \n34    56              72.660               0.000         1.0   \n35    57              72.660               0.000         1.0   \n36    58               0.000               0.000         0.0   \n37    59               0.000               0.000         0.0   \n38    60              72.934               0.000         1.0   \n39    63              64.938               0.000         1.0   \n40    64               0.000               0.000         0.0   \n41    65              64.938               0.000         1.0   \n42    66              64.938               0.000         1.0   \n43    67              64.938               0.000         1.0   \n44    68              65.035               0.098         1.0   \n45    69              65.035               0.000         1.0   \n\n                                                 Text  Trial  \n0                                            @profile      1  \n1                 def make_multiple_Lorenz(N_trials):      1  \n2                                           sols = []      1  \n3                           for n in range(N_trials):      1  \n4         y0_ = [y_ + np.random.randn() for y_ in y0]      1  \n5            sol = odeint(mLorenz, y0_, t, args=beta)      1  \n6                                    sols.append(sol)      1  \n7                                         return sols      1  \n8                                            @profile      1  \n9                                def make_plotlies():      1  \n10                                  fig = go.Figure([      1  \n11                          go.Scatter3d(name=str(n),      1  \n12  x=sols[n][:, 0], y=sols[n][:, 1], z=sols[n][:,...      1  \n13                                 line={'width': 2},      1  \n14                             marker={'size': 1e-5})      1  \n15                         for n in range(len(sols))]      1  \n16                                                  )      1  \n17                                 fig.update_layout(      1  \n18                                         width=800,      1  \n19                                        height=700,      1  \n20                                    autosize=False,      1  \n21                                        scene=dict(      1  \n22                                       camera=dict(      1  \n23                                           up=dict(      1  \n24                                               x=0,      1  \n25                                               y=0,      1  \n26                                                z=1      1  \n27                                                 ),      1  \n28                                          eye=dict(      1  \n29                                               x=0,      1  \n30                                          y=1.0707,      1  \n31                                               z=1,      1  \n32                                                  )      1  \n33                                                 ),      1  \n34                 aspectratio=dict(x=1, y=1, z=0.7),      1  \n35                                aspectmode='manual'      1  \n36                                                 ),      1  \n37                                                  )      1  \n38                                         return fig      1  \n39                                           @profile      1  \n40                                  def set_params():      1  \n41                            beta = (10, 8/3, 137/5)      1  \n42                                   y0 = [-8, 4, 10]      1  \n43                                             T = 50      1  \n44                t = np.linspace(0, T, int(T * 200))      1  \n45                              return beta, y0, T, t      1  \n"
     ]
    }
   ],
   "source": [
    "script = 'modified_Lorenz'\n",
    "\n",
    "pp = ProfileProcessor(memory_path=[f'./profiles/{script}__memory_profile.txt'],\n",
    "                             line_path=[f'./profiles/{script}__line_profile.txt'])"
   ]
  },
  {
   "cell_type": "code",
   "execution_count": 8,
   "metadata": {},
   "outputs": [
    {
     "output_type": "stream",
     "name": "stderr",
     "text": [
      "C:\\Users\\patri\\anaconda3\\lib\\site-packages\\numpy\\core\\_asarray.py:83: UserWarning:\n\nWarning: converting a masked element to nan.\n\n"
     ]
    },
    {
     "output_type": "display_data",
     "data": {
      "text/plain": "<Figure size 1296x432 with 2 Axes>",
      "image/svg+xml": "<?xml version=\"1.0\" encoding=\"utf-8\" standalone=\"no\"?>\r\n<!DOCTYPE svg PUBLIC \"-//W3C//DTD SVG 1.1//EN\"\r\n  \"http://www.w3.org/Graphics/SVG/1.1/DTD/svg11.dtd\">\r\n<!-- Created with matplotlib (https://matplotlib.org/) -->\r\n<svg height=\"373.303125pt\" version=\"1.1\" viewBox=\"0 0 1087.195625 373.303125\" width=\"1087.195625pt\" xmlns=\"http://www.w3.org/2000/svg\" xmlns:xlink=\"http://www.w3.org/1999/xlink\">\r\n <metadata>\r\n  <rdf:RDF xmlns:cc=\"http://creativecommons.org/ns#\" xmlns:dc=\"http://purl.org/dc/elements/1.1/\" xmlns:rdf=\"http://www.w3.org/1999/02/22-rdf-syntax-ns#\">\r\n   <cc:Work>\r\n    <dc:type rdf:resource=\"http://purl.org/dc/dcmitype/StillImage\"/>\r\n    <dc:date>2021-06-28T14:07:25.447972</dc:date>\r\n    <dc:format>image/svg+xml</dc:format>\r\n    <dc:creator>\r\n     <cc:Agent>\r\n      <dc:title>Matplotlib v3.3.2, https://matplotlib.org/</dc:title>\r\n     </cc:Agent>\r\n    </dc:creator>\r\n   </cc:Work>\r\n  </rdf:RDF>\r\n </metadata>\r\n <defs>\r\n  <style type=\"text/css\">*{stroke-linecap:butt;stroke-linejoin:round;}</style>\r\n </defs>\r\n <g id=\"figure_1\">\r\n  <g id=\"patch_1\">\r\n   <path d=\"M 0 373.303125 \r\nL 1087.195625 373.303125 \r\nL 1087.195625 0 \r\nL 0 0 \r\nz\r\n\" style=\"fill:none;\"/>\r\n  </g>\r\n  <g id=\"axes_1\">\r\n   <g id=\"patch_2\">\r\n    <path d=\"M 46.168125 333.36 \r\nL 1050.568125 333.36 \r\nL 1050.568125 7.2 \r\nL 46.168125 7.2 \r\nz\r\n\" style=\"fill:#ffffff;\"/>\r\n   </g>\r\n   <g id=\"patch_3\">\r\n    <path clip-path=\"url(#pdb8e2698a0)\" d=\"M 91.82267 333.36 \r\nL 106.490798 333.36 \r\nL 106.490798 333.36 \r\nL 91.82267 333.36 \r\nz\r\n\" style=\"fill:#ff0000;fill-opacity:0.3;stroke:#ff0000;stroke-linejoin:miter;\"/>\r\n   </g>\r\n   <g id=\"patch_4\">\r\n    <path clip-path=\"url(#pdb8e2698a0)\" d=\"M 110.157829 333.36 \r\nL 124.825956 333.36 \r\nL 124.825956 333.36 \r\nL 110.157829 333.36 \r\nz\r\n\" style=\"fill:#ff0000;fill-opacity:0.3;stroke:#ff0000;stroke-linejoin:miter;\"/>\r\n   </g>\r\n   <g id=\"patch_5\">\r\n    <path clip-path=\"url(#pdb8e2698a0)\" d=\"M 128.492988 333.36 \r\nL 143.161115 333.36 \r\nL 143.161115 333.359714 \r\nL 128.492988 333.359714 \r\nz\r\n\" style=\"fill:#ff0000;fill-opacity:0.3;stroke:#ff0000;stroke-linejoin:miter;\"/>\r\n   </g>\r\n   <g id=\"patch_6\">\r\n    <path clip-path=\"url(#pdb8e2698a0)\" d=\"M 146.828147 333.36 \r\nL 161.496274 333.36 \r\nL 161.496274 333.357929 \r\nL 146.828147 333.357929 \r\nz\r\n\" style=\"fill:#ff0000;fill-opacity:0.3;stroke:#ff0000;stroke-linejoin:miter;\"/>\r\n   </g>\r\n   <g id=\"patch_7\">\r\n    <path clip-path=\"url(#pdb8e2698a0)\" d=\"M 165.163306 333.36 \r\nL 179.831433 333.36 \r\nL 179.831433 333.332642 \r\nL 165.163306 333.332642 \r\nz\r\n\" style=\"fill:#ff0000;fill-opacity:0.3;stroke:#ff0000;stroke-linejoin:miter;\"/>\r\n   </g>\r\n   <g id=\"patch_8\">\r\n    <path clip-path=\"url(#pdb8e2698a0)\" d=\"M 183.498465 333.36 \r\nL 198.166592 333.36 \r\nL 198.166592 22.731429 \r\nL 183.498465 22.731429 \r\nz\r\n\" style=\"fill:#ff0000;fill-opacity:0.3;stroke:#ff0000;stroke-linejoin:miter;\"/>\r\n   </g>\r\n   <g id=\"patch_9\">\r\n    <path clip-path=\"url(#pdb8e2698a0)\" d=\"M 201.833623 333.36 \r\nL 216.50175 333.36 \r\nL 216.50175 333.355857 \r\nL 201.833623 333.355857 \r\nz\r\n\" style=\"fill:#ff0000;fill-opacity:0.3;stroke:#ff0000;stroke-linejoin:miter;\"/>\r\n   </g>\r\n   <g id=\"patch_10\">\r\n    <path clip-path=\"url(#pdb8e2698a0)\" d=\"M 220.168782 333.36 \r\nL 234.836909 333.36 \r\nL 234.836909 333.359857 \r\nL 220.168782 333.359857 \r\nz\r\n\" style=\"fill:#ff0000;fill-opacity:0.3;stroke:#ff0000;stroke-linejoin:miter;\"/>\r\n   </g>\r\n   <g id=\"patch_11\">\r\n    <path clip-path=\"url(#pdb8e2698a0)\" d=\"M 275.174259 333.36 \r\nL 289.842386 333.36 \r\nL 289.842386 333.36 \r\nL 275.174259 333.36 \r\nz\r\n\" style=\"fill:#ff0000;fill-opacity:0.3;stroke:#ff0000;stroke-linejoin:miter;\"/>\r\n   </g>\r\n   <g id=\"patch_12\">\r\n    <path clip-path=\"url(#pdb8e2698a0)\" d=\"M 293.509417 333.36 \r\nL 308.177544 333.36 \r\nL 308.177544 333.36 \r\nL 293.509417 333.36 \r\nz\r\n\" style=\"fill:#ff0000;fill-opacity:0.3;stroke:#ff0000;stroke-linejoin:miter;\"/>\r\n   </g>\r\n   <g id=\"patch_13\">\r\n    <path clip-path=\"url(#pdb8e2698a0)\" d=\"M 311.844576 333.36 \r\nL 326.512703 333.36 \r\nL 326.512703 296.069428 \r\nL 311.844576 296.069428 \r\nz\r\n\" style=\"fill:#ff0000;fill-opacity:0.3;stroke:#ff0000;stroke-linejoin:miter;\"/>\r\n   </g>\r\n   <g id=\"patch_14\">\r\n    <path clip-path=\"url(#pdb8e2698a0)\" d=\"M 330.179735 333.36 \r\nL 344.847862 333.36 \r\nL 344.847862 333.36 \r\nL 330.179735 333.36 \r\nz\r\n\" style=\"fill:#ff0000;fill-opacity:0.3;stroke:#ff0000;stroke-linejoin:miter;\"/>\r\n   </g>\r\n   <g id=\"patch_15\">\r\n    <path clip-path=\"url(#pdb8e2698a0)\" d=\"M 348.514894 333.36 \r\nL 363.183021 333.36 \r\nL 363.183021 333.36 \r\nL 348.514894 333.36 \r\nz\r\n\" style=\"fill:#ff0000;fill-opacity:0.3;stroke:#ff0000;stroke-linejoin:miter;\"/>\r\n   </g>\r\n   <g id=\"patch_16\">\r\n    <path clip-path=\"url(#pdb8e2698a0)\" d=\"M 366.850053 333.36 \r\nL 381.51818 333.36 \r\nL 381.51818 333.36 \r\nL 366.850053 333.36 \r\nz\r\n\" style=\"fill:#ff0000;fill-opacity:0.3;stroke:#ff0000;stroke-linejoin:miter;\"/>\r\n   </g>\r\n   <g id=\"patch_17\">\r\n    <path clip-path=\"url(#pdb8e2698a0)\" d=\"M 385.185212 333.36 \r\nL 399.853339 333.36 \r\nL 399.853339 333.36 \r\nL 385.185212 333.36 \r\nz\r\n\" style=\"fill:#ff0000;fill-opacity:0.3;stroke:#ff0000;stroke-linejoin:miter;\"/>\r\n   </g>\r\n   <g id=\"patch_18\">\r\n    <path clip-path=\"url(#pdb8e2698a0)\" d=\"M 403.52037 333.36 \r\nL 418.188497 333.36 \r\nL 418.188497 333.358786 \r\nL 403.52037 333.358786 \r\nz\r\n\" style=\"fill:#ff0000;fill-opacity:0.3;stroke:#ff0000;stroke-linejoin:miter;\"/>\r\n   </g>\r\n   <g id=\"patch_19\">\r\n    <path clip-path=\"url(#pdb8e2698a0)\" d=\"M 421.855529 333.36 \r\nL 436.523656 333.36 \r\nL 436.523656 333.36 \r\nL 421.855529 333.36 \r\nz\r\n\" style=\"fill:#ff0000;fill-opacity:0.3;stroke:#ff0000;stroke-linejoin:miter;\"/>\r\n   </g>\r\n   <g id=\"patch_20\">\r\n    <path clip-path=\"url(#pdb8e2698a0)\" d=\"M 440.190688 333.36 \r\nL 454.858815 333.36 \r\nL 454.858815 311.557159 \r\nL 440.190688 311.557159 \r\nz\r\n\" style=\"fill:#ff0000;fill-opacity:0.3;stroke:#ff0000;stroke-linejoin:miter;\"/>\r\n   </g>\r\n   <g id=\"patch_21\">\r\n    <path clip-path=\"url(#pdb8e2698a0)\" d=\"M 458.525847 333.36 \r\nL 473.193974 333.36 \r\nL 473.193974 333.359571 \r\nL 458.525847 333.359571 \r\nz\r\n\" style=\"fill:#ff0000;fill-opacity:0.3;stroke:#ff0000;stroke-linejoin:miter;\"/>\r\n   </g>\r\n   <g id=\"patch_22\">\r\n    <path clip-path=\"url(#pdb8e2698a0)\" d=\"M 476.861006 333.36 \r\nL 491.529133 333.36 \r\nL 491.529133 333.359643 \r\nL 476.861006 333.359643 \r\nz\r\n\" style=\"fill:#ff0000;fill-opacity:0.3;stroke:#ff0000;stroke-linejoin:miter;\"/>\r\n   </g>\r\n   <g id=\"patch_23\">\r\n    <path clip-path=\"url(#pdb8e2698a0)\" d=\"M 495.196164 333.36 \r\nL 509.864291 333.36 \r\nL 509.864291 333.359643 \r\nL 495.196164 333.359643 \r\nz\r\n\" style=\"fill:#ff0000;fill-opacity:0.3;stroke:#ff0000;stroke-linejoin:miter;\"/>\r\n   </g>\r\n   <g id=\"patch_24\">\r\n    <path clip-path=\"url(#pdb8e2698a0)\" d=\"M 513.531323 333.36 \r\nL 528.19945 333.36 \r\nL 528.19945 333.359071 \r\nL 513.531323 333.359071 \r\nz\r\n\" style=\"fill:#ff0000;fill-opacity:0.3;stroke:#ff0000;stroke-linejoin:miter;\"/>\r\n   </g>\r\n   <g id=\"patch_25\">\r\n    <path clip-path=\"url(#pdb8e2698a0)\" d=\"M 531.866482 333.36 \r\nL 546.534609 333.36 \r\nL 546.534609 333.359071 \r\nL 531.866482 333.359071 \r\nz\r\n\" style=\"fill:#ff0000;fill-opacity:0.3;stroke:#ff0000;stroke-linejoin:miter;\"/>\r\n   </g>\r\n   <g id=\"patch_26\">\r\n    <path clip-path=\"url(#pdb8e2698a0)\" d=\"M 550.201641 333.36 \r\nL 564.869768 333.36 \r\nL 564.869768 333.358857 \r\nL 550.201641 333.358857 \r\nz\r\n\" style=\"fill:#ff0000;fill-opacity:0.3;stroke:#ff0000;stroke-linejoin:miter;\"/>\r\n   </g>\r\n   <g id=\"patch_27\">\r\n    <path clip-path=\"url(#pdb8e2698a0)\" d=\"M 568.5368 333.36 \r\nL 583.204927 333.36 \r\nL 583.204927 333.359643 \r\nL 568.5368 333.359643 \r\nz\r\n\" style=\"fill:#ff0000;fill-opacity:0.3;stroke:#ff0000;stroke-linejoin:miter;\"/>\r\n   </g>\r\n   <g id=\"patch_28\">\r\n    <path clip-path=\"url(#pdb8e2698a0)\" d=\"M 586.871959 333.36 \r\nL 601.540086 333.36 \r\nL 601.540086 333.359643 \r\nL 586.871959 333.359643 \r\nz\r\n\" style=\"fill:#ff0000;fill-opacity:0.3;stroke:#ff0000;stroke-linejoin:miter;\"/>\r\n   </g>\r\n   <g id=\"patch_29\">\r\n    <path clip-path=\"url(#pdb8e2698a0)\" d=\"M 605.207117 333.36 \r\nL 619.875244 333.36 \r\nL 619.875244 333.359643 \r\nL 605.207117 333.359643 \r\nz\r\n\" style=\"fill:#ff0000;fill-opacity:0.3;stroke:#ff0000;stroke-linejoin:miter;\"/>\r\n   </g>\r\n   <g id=\"patch_30\">\r\n    <path clip-path=\"url(#pdb8e2698a0)\" d=\"M 623.542276 333.36 \r\nL 638.210403 333.36 \r\nL 638.210403 333.36 \r\nL 623.542276 333.36 \r\nz\r\n\" style=\"fill:#ff0000;fill-opacity:0.3;stroke:#ff0000;stroke-linejoin:miter;\"/>\r\n   </g>\r\n   <g id=\"patch_31\">\r\n    <path clip-path=\"url(#pdb8e2698a0)\" d=\"M 641.877435 333.36 \r\nL 656.545562 333.36 \r\nL 656.545562 333.359071 \r\nL 641.877435 333.359071 \r\nz\r\n\" style=\"fill:#ff0000;fill-opacity:0.3;stroke:#ff0000;stroke-linejoin:miter;\"/>\r\n   </g>\r\n   <g id=\"patch_32\">\r\n    <path clip-path=\"url(#pdb8e2698a0)\" d=\"M 660.212594 333.36 \r\nL 674.880721 333.36 \r\nL 674.880721 333.359643 \r\nL 660.212594 333.359643 \r\nz\r\n\" style=\"fill:#ff0000;fill-opacity:0.3;stroke:#ff0000;stroke-linejoin:miter;\"/>\r\n   </g>\r\n   <g id=\"patch_33\">\r\n    <path clip-path=\"url(#pdb8e2698a0)\" d=\"M 678.547753 333.36 \r\nL 693.21588 333.36 \r\nL 693.21588 333.359643 \r\nL 678.547753 333.359643 \r\nz\r\n\" style=\"fill:#ff0000;fill-opacity:0.3;stroke:#ff0000;stroke-linejoin:miter;\"/>\r\n   </g>\r\n   <g id=\"patch_34\">\r\n    <path clip-path=\"url(#pdb8e2698a0)\" d=\"M 696.882911 333.36 \r\nL 711.551038 333.36 \r\nL 711.551038 333.359643 \r\nL 696.882911 333.359643 \r\nz\r\n\" style=\"fill:#ff0000;fill-opacity:0.3;stroke:#ff0000;stroke-linejoin:miter;\"/>\r\n   </g>\r\n   <g id=\"patch_35\">\r\n    <path clip-path=\"url(#pdb8e2698a0)\" d=\"M 715.21807 333.36 \r\nL 729.886197 333.36 \r\nL 729.886197 333.36 \r\nL 715.21807 333.36 \r\nz\r\n\" style=\"fill:#ff0000;fill-opacity:0.3;stroke:#ff0000;stroke-linejoin:miter;\"/>\r\n   </g>\r\n   <g id=\"patch_36\">\r\n    <path clip-path=\"url(#pdb8e2698a0)\" d=\"M 733.553229 333.36 \r\nL 748.221356 333.36 \r\nL 748.221356 333.36 \r\nL 733.553229 333.36 \r\nz\r\n\" style=\"fill:#ff0000;fill-opacity:0.3;stroke:#ff0000;stroke-linejoin:miter;\"/>\r\n   </g>\r\n   <g id=\"patch_37\">\r\n    <path clip-path=\"url(#pdb8e2698a0)\" d=\"M 751.888388 333.36 \r\nL 766.556515 333.36 \r\nL 766.556515 333.359286 \r\nL 751.888388 333.359286 \r\nz\r\n\" style=\"fill:#ff0000;fill-opacity:0.3;stroke:#ff0000;stroke-linejoin:miter;\"/>\r\n   </g>\r\n   <g id=\"patch_38\">\r\n    <path clip-path=\"url(#pdb8e2698a0)\" d=\"M 770.223547 333.36 \r\nL 784.891674 333.36 \r\nL 784.891674 333.359643 \r\nL 770.223547 333.359643 \r\nz\r\n\" style=\"fill:#ff0000;fill-opacity:0.3;stroke:#ff0000;stroke-linejoin:miter;\"/>\r\n   </g>\r\n   <g id=\"patch_39\">\r\n    <path clip-path=\"url(#pdb8e2698a0)\" d=\"M 788.558706 333.36 \r\nL 803.226833 333.36 \r\nL 803.226833 333.36 \r\nL 788.558706 333.36 \r\nz\r\n\" style=\"fill:#ff0000;fill-opacity:0.3;stroke:#ff0000;stroke-linejoin:miter;\"/>\r\n   </g>\r\n   <g id=\"patch_40\">\r\n    <path clip-path=\"url(#pdb8e2698a0)\" d=\"M 806.893864 333.36 \r\nL 821.561991 333.36 \r\nL 821.561991 333.36 \r\nL 806.893864 333.36 \r\nz\r\n\" style=\"fill:#ff0000;fill-opacity:0.3;stroke:#ff0000;stroke-linejoin:miter;\"/>\r\n   </g>\r\n   <g id=\"patch_41\">\r\n    <path clip-path=\"url(#pdb8e2698a0)\" d=\"M 825.229023 333.36 \r\nL 839.89715 333.36 \r\nL 839.89715 333.359071 \r\nL 825.229023 333.359071 \r\nz\r\n\" style=\"fill:#ff0000;fill-opacity:0.3;stroke:#ff0000;stroke-linejoin:miter;\"/>\r\n   </g>\r\n   <g id=\"patch_42\">\r\n    <path clip-path=\"url(#pdb8e2698a0)\" d=\"M 880.2345 333.36 \r\nL 894.902627 333.36 \r\nL 894.902627 333.36 \r\nL 880.2345 333.36 \r\nz\r\n\" style=\"fill:#ff0000;fill-opacity:0.3;stroke:#ff0000;stroke-linejoin:miter;\"/>\r\n   </g>\r\n   <g id=\"patch_43\">\r\n    <path clip-path=\"url(#pdb8e2698a0)\" d=\"M 898.569658 333.36 \r\nL 913.237785 333.36 \r\nL 913.237785 333.36 \r\nL 898.569658 333.36 \r\nz\r\n\" style=\"fill:#ff0000;fill-opacity:0.3;stroke:#ff0000;stroke-linejoin:miter;\"/>\r\n   </g>\r\n   <g id=\"patch_44\">\r\n    <path clip-path=\"url(#pdb8e2698a0)\" d=\"M 916.904817 333.36 \r\nL 931.572944 333.36 \r\nL 931.572944 333.357929 \r\nL 916.904817 333.357929 \r\nz\r\n\" style=\"fill:#ff0000;fill-opacity:0.3;stroke:#ff0000;stroke-linejoin:miter;\"/>\r\n   </g>\r\n   <g id=\"patch_45\">\r\n    <path clip-path=\"url(#pdb8e2698a0)\" d=\"M 935.239976 333.36 \r\nL 949.908103 333.36 \r\nL 949.908103 333.3595 \r\nL 935.239976 333.3595 \r\nz\r\n\" style=\"fill:#ff0000;fill-opacity:0.3;stroke:#ff0000;stroke-linejoin:miter;\"/>\r\n   </g>\r\n   <g id=\"patch_46\">\r\n    <path clip-path=\"url(#pdb8e2698a0)\" d=\"M 953.575135 333.36 \r\nL 968.243262 333.36 \r\nL 968.243262 333.359786 \r\nL 953.575135 333.359786 \r\nz\r\n\" style=\"fill:#ff0000;fill-opacity:0.3;stroke:#ff0000;stroke-linejoin:miter;\"/>\r\n   </g>\r\n   <g id=\"patch_47\">\r\n    <path clip-path=\"url(#pdb8e2698a0)\" d=\"M 971.910294 333.36 \r\nL 986.578421 333.36 \r\nL 986.578421 333.270926 \r\nL 971.910294 333.270926 \r\nz\r\n\" style=\"fill:#ff0000;fill-opacity:0.3;stroke:#ff0000;stroke-linejoin:miter;\"/>\r\n   </g>\r\n   <g id=\"patch_48\">\r\n    <path clip-path=\"url(#pdb8e2698a0)\" d=\"M 990.245452 333.36 \r\nL 1004.91358 333.36 \r\nL 1004.91358 333.3595 \r\nL 990.245452 333.3595 \r\nz\r\n\" style=\"fill:#ff0000;fill-opacity:0.3;stroke:#ff0000;stroke-linejoin:miter;\"/>\r\n   </g>\r\n   <g id=\"matplotlib.axis_1\">\r\n    <g id=\"xtick_1\">\r\n     <g id=\"line2d_1\">\r\n      <defs>\r\n       <path d=\"M 0 0 \r\nL 0 -3.5 \r\n\" id=\"maf73d7f71d\" style=\"stroke:#000000;stroke-width:0.8;\"/>\r\n      </defs>\r\n      <g>\r\n       <use style=\"stroke:#000000;stroke-width:0.8;\" x=\"99.156734\" xlink:href=\"#maf73d7f71d\" y=\"333.36\"/>\r\n      </g>\r\n     </g>\r\n     <g id=\"text_1\">\r\n      <!-- 20 -->\r\n      <g transform=\"translate(92.794234 344.458437)scale(0.1 -0.1)\">\r\n       <defs>\r\n        <path d=\"M 19.1875 8.296875 \r\nL 53.609375 8.296875 \r\nL 53.609375 0 \r\nL 7.328125 0 \r\nL 7.328125 8.296875 \r\nQ 12.9375 14.109375 22.625 23.890625 \r\nQ 32.328125 33.6875 34.8125 36.53125 \r\nQ 39.546875 41.84375 41.421875 45.53125 \r\nQ 43.3125 49.21875 43.3125 52.78125 \r\nQ 43.3125 58.59375 39.234375 62.25 \r\nQ 35.15625 65.921875 28.609375 65.921875 \r\nQ 23.96875 65.921875 18.8125 64.3125 \r\nQ 13.671875 62.703125 7.8125 59.421875 \r\nL 7.8125 69.390625 \r\nQ 13.765625 71.78125 18.9375 73 \r\nQ 24.125 74.21875 28.421875 74.21875 \r\nQ 39.75 74.21875 46.484375 68.546875 \r\nQ 53.21875 62.890625 53.21875 53.421875 \r\nQ 53.21875 48.921875 51.53125 44.890625 \r\nQ 49.859375 40.875 45.40625 35.40625 \r\nQ 44.1875 33.984375 37.640625 27.21875 \r\nQ 31.109375 20.453125 19.1875 8.296875 \r\nz\r\n\" id=\"DejaVuSans-50\"/>\r\n        <path d=\"M 31.78125 66.40625 \r\nQ 24.171875 66.40625 20.328125 58.90625 \r\nQ 16.5 51.421875 16.5 36.375 \r\nQ 16.5 21.390625 20.328125 13.890625 \r\nQ 24.171875 6.390625 31.78125 6.390625 \r\nQ 39.453125 6.390625 43.28125 13.890625 \r\nQ 47.125 21.390625 47.125 36.375 \r\nQ 47.125 51.421875 43.28125 58.90625 \r\nQ 39.453125 66.40625 31.78125 66.40625 \r\nz\r\nM 31.78125 74.21875 \r\nQ 44.046875 74.21875 50.515625 64.515625 \r\nQ 56.984375 54.828125 56.984375 36.375 \r\nQ 56.984375 17.96875 50.515625 8.265625 \r\nQ 44.046875 -1.421875 31.78125 -1.421875 \r\nQ 19.53125 -1.421875 13.0625 8.265625 \r\nQ 6.59375 17.96875 6.59375 36.375 \r\nQ 6.59375 54.828125 13.0625 64.515625 \r\nQ 19.53125 74.21875 31.78125 74.21875 \r\nz\r\n\" id=\"DejaVuSans-48\"/>\r\n       </defs>\r\n       <use xlink:href=\"#DejaVuSans-50\"/>\r\n       <use x=\"63.623047\" xlink:href=\"#DejaVuSans-48\"/>\r\n      </g>\r\n     </g>\r\n    </g>\r\n    <g id=\"xtick_2\">\r\n     <g id=\"line2d_2\">\r\n      <g>\r\n       <use style=\"stroke:#000000;stroke-width:0.8;\" x=\"190.832528\" xlink:href=\"#maf73d7f71d\" y=\"333.36\"/>\r\n      </g>\r\n     </g>\r\n     <g id=\"text_2\">\r\n      <!-- 25 -->\r\n      <g transform=\"translate(184.470028 344.458437)scale(0.1 -0.1)\">\r\n       <defs>\r\n        <path d=\"M 10.796875 72.90625 \r\nL 49.515625 72.90625 \r\nL 49.515625 64.59375 \r\nL 19.828125 64.59375 \r\nL 19.828125 46.734375 \r\nQ 21.96875 47.46875 24.109375 47.828125 \r\nQ 26.265625 48.1875 28.421875 48.1875 \r\nQ 40.625 48.1875 47.75 41.5 \r\nQ 54.890625 34.8125 54.890625 23.390625 \r\nQ 54.890625 11.625 47.5625 5.09375 \r\nQ 40.234375 -1.421875 26.90625 -1.421875 \r\nQ 22.3125 -1.421875 17.546875 -0.640625 \r\nQ 12.796875 0.140625 7.71875 1.703125 \r\nL 7.71875 11.625 \r\nQ 12.109375 9.234375 16.796875 8.0625 \r\nQ 21.484375 6.890625 26.703125 6.890625 \r\nQ 35.15625 6.890625 40.078125 11.328125 \r\nQ 45.015625 15.765625 45.015625 23.390625 \r\nQ 45.015625 31 40.078125 35.4375 \r\nQ 35.15625 39.890625 26.703125 39.890625 \r\nQ 22.75 39.890625 18.8125 39.015625 \r\nQ 14.890625 38.140625 10.796875 36.28125 \r\nz\r\n\" id=\"DejaVuSans-53\"/>\r\n       </defs>\r\n       <use xlink:href=\"#DejaVuSans-50\"/>\r\n       <use x=\"63.623047\" xlink:href=\"#DejaVuSans-53\"/>\r\n      </g>\r\n     </g>\r\n    </g>\r\n    <g id=\"xtick_3\">\r\n     <g id=\"line2d_3\">\r\n      <g>\r\n       <use style=\"stroke:#000000;stroke-width:0.8;\" x=\"282.508322\" xlink:href=\"#maf73d7f71d\" y=\"333.36\"/>\r\n      </g>\r\n     </g>\r\n     <g id=\"text_3\">\r\n      <!-- 30 -->\r\n      <g transform=\"translate(276.145822 344.458437)scale(0.1 -0.1)\">\r\n       <defs>\r\n        <path d=\"M 40.578125 39.3125 \r\nQ 47.65625 37.796875 51.625 33 \r\nQ 55.609375 28.21875 55.609375 21.1875 \r\nQ 55.609375 10.40625 48.1875 4.484375 \r\nQ 40.765625 -1.421875 27.09375 -1.421875 \r\nQ 22.515625 -1.421875 17.65625 -0.515625 \r\nQ 12.796875 0.390625 7.625 2.203125 \r\nL 7.625 11.71875 \r\nQ 11.71875 9.328125 16.59375 8.109375 \r\nQ 21.484375 6.890625 26.8125 6.890625 \r\nQ 36.078125 6.890625 40.9375 10.546875 \r\nQ 45.796875 14.203125 45.796875 21.1875 \r\nQ 45.796875 27.640625 41.28125 31.265625 \r\nQ 36.765625 34.90625 28.71875 34.90625 \r\nL 20.21875 34.90625 \r\nL 20.21875 43.015625 \r\nL 29.109375 43.015625 \r\nQ 36.375 43.015625 40.234375 45.921875 \r\nQ 44.09375 48.828125 44.09375 54.296875 \r\nQ 44.09375 59.90625 40.109375 62.90625 \r\nQ 36.140625 65.921875 28.71875 65.921875 \r\nQ 24.65625 65.921875 20.015625 65.03125 \r\nQ 15.375 64.15625 9.8125 62.3125 \r\nL 9.8125 71.09375 \r\nQ 15.4375 72.65625 20.34375 73.4375 \r\nQ 25.25 74.21875 29.59375 74.21875 \r\nQ 40.828125 74.21875 47.359375 69.109375 \r\nQ 53.90625 64.015625 53.90625 55.328125 \r\nQ 53.90625 49.265625 50.4375 45.09375 \r\nQ 46.96875 40.921875 40.578125 39.3125 \r\nz\r\n\" id=\"DejaVuSans-51\"/>\r\n       </defs>\r\n       <use xlink:href=\"#DejaVuSans-51\"/>\r\n       <use x=\"63.623047\" xlink:href=\"#DejaVuSans-48\"/>\r\n      </g>\r\n     </g>\r\n    </g>\r\n    <g id=\"xtick_4\">\r\n     <g id=\"line2d_4\">\r\n      <g>\r\n       <use style=\"stroke:#000000;stroke-width:0.8;\" x=\"374.184116\" xlink:href=\"#maf73d7f71d\" y=\"333.36\"/>\r\n      </g>\r\n     </g>\r\n     <g id=\"text_4\">\r\n      <!-- 35 -->\r\n      <g transform=\"translate(367.821616 344.458437)scale(0.1 -0.1)\">\r\n       <use xlink:href=\"#DejaVuSans-51\"/>\r\n       <use x=\"63.623047\" xlink:href=\"#DejaVuSans-53\"/>\r\n      </g>\r\n     </g>\r\n    </g>\r\n    <g id=\"xtick_5\">\r\n     <g id=\"line2d_5\">\r\n      <g>\r\n       <use style=\"stroke:#000000;stroke-width:0.8;\" x=\"465.85991\" xlink:href=\"#maf73d7f71d\" y=\"333.36\"/>\r\n      </g>\r\n     </g>\r\n     <g id=\"text_5\">\r\n      <!-- 40 -->\r\n      <g transform=\"translate(459.49741 344.458437)scale(0.1 -0.1)\">\r\n       <defs>\r\n        <path d=\"M 37.796875 64.3125 \r\nL 12.890625 25.390625 \r\nL 37.796875 25.390625 \r\nz\r\nM 35.203125 72.90625 \r\nL 47.609375 72.90625 \r\nL 47.609375 25.390625 \r\nL 58.015625 25.390625 \r\nL 58.015625 17.1875 \r\nL 47.609375 17.1875 \r\nL 47.609375 0 \r\nL 37.796875 0 \r\nL 37.796875 17.1875 \r\nL 4.890625 17.1875 \r\nL 4.890625 26.703125 \r\nz\r\n\" id=\"DejaVuSans-52\"/>\r\n       </defs>\r\n       <use xlink:href=\"#DejaVuSans-52\"/>\r\n       <use x=\"63.623047\" xlink:href=\"#DejaVuSans-48\"/>\r\n      </g>\r\n     </g>\r\n    </g>\r\n    <g id=\"xtick_6\">\r\n     <g id=\"line2d_6\">\r\n      <g>\r\n       <use style=\"stroke:#000000;stroke-width:0.8;\" x=\"557.535704\" xlink:href=\"#maf73d7f71d\" y=\"333.36\"/>\r\n      </g>\r\n     </g>\r\n     <g id=\"text_6\">\r\n      <!-- 45 -->\r\n      <g transform=\"translate(551.173204 344.458437)scale(0.1 -0.1)\">\r\n       <use xlink:href=\"#DejaVuSans-52\"/>\r\n       <use x=\"63.623047\" xlink:href=\"#DejaVuSans-53\"/>\r\n      </g>\r\n     </g>\r\n    </g>\r\n    <g id=\"xtick_7\">\r\n     <g id=\"line2d_7\">\r\n      <g>\r\n       <use style=\"stroke:#000000;stroke-width:0.8;\" x=\"649.211498\" xlink:href=\"#maf73d7f71d\" y=\"333.36\"/>\r\n      </g>\r\n     </g>\r\n     <g id=\"text_7\">\r\n      <!-- 50 -->\r\n      <g transform=\"translate(642.848998 344.458437)scale(0.1 -0.1)\">\r\n       <use xlink:href=\"#DejaVuSans-53\"/>\r\n       <use x=\"63.623047\" xlink:href=\"#DejaVuSans-48\"/>\r\n      </g>\r\n     </g>\r\n    </g>\r\n    <g id=\"xtick_8\">\r\n     <g id=\"line2d_8\">\r\n      <g>\r\n       <use style=\"stroke:#000000;stroke-width:0.8;\" x=\"740.887293\" xlink:href=\"#maf73d7f71d\" y=\"333.36\"/>\r\n      </g>\r\n     </g>\r\n     <g id=\"text_8\">\r\n      <!-- 55 -->\r\n      <g transform=\"translate(734.524793 344.458437)scale(0.1 -0.1)\">\r\n       <use xlink:href=\"#DejaVuSans-53\"/>\r\n       <use x=\"63.623047\" xlink:href=\"#DejaVuSans-53\"/>\r\n      </g>\r\n     </g>\r\n    </g>\r\n    <g id=\"xtick_9\">\r\n     <g id=\"line2d_9\">\r\n      <g>\r\n       <use style=\"stroke:#000000;stroke-width:0.8;\" x=\"832.563087\" xlink:href=\"#maf73d7f71d\" y=\"333.36\"/>\r\n      </g>\r\n     </g>\r\n     <g id=\"text_9\">\r\n      <!-- 60 -->\r\n      <g transform=\"translate(826.200587 344.458437)scale(0.1 -0.1)\">\r\n       <defs>\r\n        <path d=\"M 33.015625 40.375 \r\nQ 26.375 40.375 22.484375 35.828125 \r\nQ 18.609375 31.296875 18.609375 23.390625 \r\nQ 18.609375 15.53125 22.484375 10.953125 \r\nQ 26.375 6.390625 33.015625 6.390625 \r\nQ 39.65625 6.390625 43.53125 10.953125 \r\nQ 47.40625 15.53125 47.40625 23.390625 \r\nQ 47.40625 31.296875 43.53125 35.828125 \r\nQ 39.65625 40.375 33.015625 40.375 \r\nz\r\nM 52.59375 71.296875 \r\nL 52.59375 62.3125 \r\nQ 48.875 64.0625 45.09375 64.984375 \r\nQ 41.3125 65.921875 37.59375 65.921875 \r\nQ 27.828125 65.921875 22.671875 59.328125 \r\nQ 17.53125 52.734375 16.796875 39.40625 \r\nQ 19.671875 43.65625 24.015625 45.921875 \r\nQ 28.375 48.1875 33.59375 48.1875 \r\nQ 44.578125 48.1875 50.953125 41.515625 \r\nQ 57.328125 34.859375 57.328125 23.390625 \r\nQ 57.328125 12.15625 50.6875 5.359375 \r\nQ 44.046875 -1.421875 33.015625 -1.421875 \r\nQ 20.359375 -1.421875 13.671875 8.265625 \r\nQ 6.984375 17.96875 6.984375 36.375 \r\nQ 6.984375 53.65625 15.1875 63.9375 \r\nQ 23.390625 74.21875 37.203125 74.21875 \r\nQ 40.921875 74.21875 44.703125 73.484375 \r\nQ 48.484375 72.75 52.59375 71.296875 \r\nz\r\n\" id=\"DejaVuSans-54\"/>\r\n       </defs>\r\n       <use xlink:href=\"#DejaVuSans-54\"/>\r\n       <use x=\"63.623047\" xlink:href=\"#DejaVuSans-48\"/>\r\n      </g>\r\n     </g>\r\n    </g>\r\n    <g id=\"xtick_10\">\r\n     <g id=\"line2d_10\">\r\n      <g>\r\n       <use style=\"stroke:#000000;stroke-width:0.8;\" x=\"924.238881\" xlink:href=\"#maf73d7f71d\" y=\"333.36\"/>\r\n      </g>\r\n     </g>\r\n     <g id=\"text_10\">\r\n      <!-- 65 -->\r\n      <g transform=\"translate(917.876381 344.458437)scale(0.1 -0.1)\">\r\n       <use xlink:href=\"#DejaVuSans-54\"/>\r\n       <use x=\"63.623047\" xlink:href=\"#DejaVuSans-53\"/>\r\n      </g>\r\n     </g>\r\n    </g>\r\n    <g id=\"xtick_11\">\r\n     <g id=\"line2d_11\">\r\n      <g>\r\n       <use style=\"stroke:#000000;stroke-width:0.8;\" x=\"1015.914675\" xlink:href=\"#maf73d7f71d\" y=\"333.36\"/>\r\n      </g>\r\n     </g>\r\n     <g id=\"text_11\">\r\n      <!-- 70 -->\r\n      <g transform=\"translate(1009.552175 344.458437)scale(0.1 -0.1)\">\r\n       <defs>\r\n        <path d=\"M 8.203125 72.90625 \r\nL 55.078125 72.90625 \r\nL 55.078125 68.703125 \r\nL 28.609375 0 \r\nL 18.3125 0 \r\nL 43.21875 64.59375 \r\nL 8.203125 64.59375 \r\nz\r\n\" id=\"DejaVuSans-55\"/>\r\n       </defs>\r\n       <use xlink:href=\"#DejaVuSans-55\"/>\r\n       <use x=\"63.623047\" xlink:href=\"#DejaVuSans-48\"/>\r\n      </g>\r\n     </g>\r\n    </g>\r\n    <g id=\"xtick_12\">\r\n     <g id=\"line2d_12\">\r\n      <defs>\r\n       <path d=\"M 0 0 \r\nL 0 -2 \r\n\" id=\"md80b09f0ec\" style=\"stroke:#000000;stroke-width:0.6;\"/>\r\n      </defs>\r\n      <g>\r\n       <use style=\"stroke:#000000;stroke-width:0.6;\" x=\"62.486416\" xlink:href=\"#md80b09f0ec\" y=\"333.36\"/>\r\n      </g>\r\n     </g>\r\n    </g>\r\n    <g id=\"xtick_13\">\r\n     <g id=\"line2d_13\">\r\n      <g>\r\n       <use style=\"stroke:#000000;stroke-width:0.6;\" x=\"80.821575\" xlink:href=\"#md80b09f0ec\" y=\"333.36\"/>\r\n      </g>\r\n     </g>\r\n    </g>\r\n    <g id=\"xtick_14\">\r\n     <g id=\"line2d_14\">\r\n      <g>\r\n       <use style=\"stroke:#000000;stroke-width:0.6;\" x=\"117.491893\" xlink:href=\"#md80b09f0ec\" y=\"333.36\"/>\r\n      </g>\r\n     </g>\r\n    </g>\r\n    <g id=\"xtick_15\">\r\n     <g id=\"line2d_15\">\r\n      <g>\r\n       <use style=\"stroke:#000000;stroke-width:0.6;\" x=\"135.827052\" xlink:href=\"#md80b09f0ec\" y=\"333.36\"/>\r\n      </g>\r\n     </g>\r\n    </g>\r\n    <g id=\"xtick_16\">\r\n     <g id=\"line2d_16\">\r\n      <g>\r\n       <use style=\"stroke:#000000;stroke-width:0.6;\" x=\"154.16221\" xlink:href=\"#md80b09f0ec\" y=\"333.36\"/>\r\n      </g>\r\n     </g>\r\n    </g>\r\n    <g id=\"xtick_17\">\r\n     <g id=\"line2d_17\">\r\n      <g>\r\n       <use style=\"stroke:#000000;stroke-width:0.6;\" x=\"172.497369\" xlink:href=\"#md80b09f0ec\" y=\"333.36\"/>\r\n      </g>\r\n     </g>\r\n    </g>\r\n    <g id=\"xtick_18\">\r\n     <g id=\"line2d_18\">\r\n      <g>\r\n       <use style=\"stroke:#000000;stroke-width:0.6;\" x=\"209.167687\" xlink:href=\"#md80b09f0ec\" y=\"333.36\"/>\r\n      </g>\r\n     </g>\r\n    </g>\r\n    <g id=\"xtick_19\">\r\n     <g id=\"line2d_19\">\r\n      <g>\r\n       <use style=\"stroke:#000000;stroke-width:0.6;\" x=\"227.502846\" xlink:href=\"#md80b09f0ec\" y=\"333.36\"/>\r\n      </g>\r\n     </g>\r\n    </g>\r\n    <g id=\"xtick_20\">\r\n     <g id=\"line2d_20\">\r\n      <g>\r\n       <use style=\"stroke:#000000;stroke-width:0.6;\" x=\"245.838005\" xlink:href=\"#md80b09f0ec\" y=\"333.36\"/>\r\n      </g>\r\n     </g>\r\n    </g>\r\n    <g id=\"xtick_21\">\r\n     <g id=\"line2d_21\">\r\n      <g>\r\n       <use style=\"stroke:#000000;stroke-width:0.6;\" x=\"264.173163\" xlink:href=\"#md80b09f0ec\" y=\"333.36\"/>\r\n      </g>\r\n     </g>\r\n    </g>\r\n    <g id=\"xtick_22\">\r\n     <g id=\"line2d_22\">\r\n      <g>\r\n       <use style=\"stroke:#000000;stroke-width:0.6;\" x=\"300.843481\" xlink:href=\"#md80b09f0ec\" y=\"333.36\"/>\r\n      </g>\r\n     </g>\r\n    </g>\r\n    <g id=\"xtick_23\">\r\n     <g id=\"line2d_23\">\r\n      <g>\r\n       <use style=\"stroke:#000000;stroke-width:0.6;\" x=\"319.17864\" xlink:href=\"#md80b09f0ec\" y=\"333.36\"/>\r\n      </g>\r\n     </g>\r\n    </g>\r\n    <g id=\"xtick_24\">\r\n     <g id=\"line2d_24\">\r\n      <g>\r\n       <use style=\"stroke:#000000;stroke-width:0.6;\" x=\"337.513799\" xlink:href=\"#md80b09f0ec\" y=\"333.36\"/>\r\n      </g>\r\n     </g>\r\n    </g>\r\n    <g id=\"xtick_25\">\r\n     <g id=\"line2d_25\">\r\n      <g>\r\n       <use style=\"stroke:#000000;stroke-width:0.6;\" x=\"355.848957\" xlink:href=\"#md80b09f0ec\" y=\"333.36\"/>\r\n      </g>\r\n     </g>\r\n    </g>\r\n    <g id=\"xtick_26\">\r\n     <g id=\"line2d_26\">\r\n      <g>\r\n       <use style=\"stroke:#000000;stroke-width:0.6;\" x=\"392.519275\" xlink:href=\"#md80b09f0ec\" y=\"333.36\"/>\r\n      </g>\r\n     </g>\r\n    </g>\r\n    <g id=\"xtick_27\">\r\n     <g id=\"line2d_27\">\r\n      <g>\r\n       <use style=\"stroke:#000000;stroke-width:0.6;\" x=\"410.854434\" xlink:href=\"#md80b09f0ec\" y=\"333.36\"/>\r\n      </g>\r\n     </g>\r\n    </g>\r\n    <g id=\"xtick_28\">\r\n     <g id=\"line2d_28\">\r\n      <g>\r\n       <use style=\"stroke:#000000;stroke-width:0.6;\" x=\"429.189593\" xlink:href=\"#md80b09f0ec\" y=\"333.36\"/>\r\n      </g>\r\n     </g>\r\n    </g>\r\n    <g id=\"xtick_29\">\r\n     <g id=\"line2d_29\">\r\n      <g>\r\n       <use style=\"stroke:#000000;stroke-width:0.6;\" x=\"447.524752\" xlink:href=\"#md80b09f0ec\" y=\"333.36\"/>\r\n      </g>\r\n     </g>\r\n    </g>\r\n    <g id=\"xtick_30\">\r\n     <g id=\"line2d_30\">\r\n      <g>\r\n       <use style=\"stroke:#000000;stroke-width:0.6;\" x=\"484.195069\" xlink:href=\"#md80b09f0ec\" y=\"333.36\"/>\r\n      </g>\r\n     </g>\r\n    </g>\r\n    <g id=\"xtick_31\">\r\n     <g id=\"line2d_31\">\r\n      <g>\r\n       <use style=\"stroke:#000000;stroke-width:0.6;\" x=\"502.530228\" xlink:href=\"#md80b09f0ec\" y=\"333.36\"/>\r\n      </g>\r\n     </g>\r\n    </g>\r\n    <g id=\"xtick_32\">\r\n     <g id=\"line2d_32\">\r\n      <g>\r\n       <use style=\"stroke:#000000;stroke-width:0.6;\" x=\"520.865387\" xlink:href=\"#md80b09f0ec\" y=\"333.36\"/>\r\n      </g>\r\n     </g>\r\n    </g>\r\n    <g id=\"xtick_33\">\r\n     <g id=\"line2d_33\">\r\n      <g>\r\n       <use style=\"stroke:#000000;stroke-width:0.6;\" x=\"539.200546\" xlink:href=\"#md80b09f0ec\" y=\"333.36\"/>\r\n      </g>\r\n     </g>\r\n    </g>\r\n    <g id=\"xtick_34\">\r\n     <g id=\"line2d_34\">\r\n      <g>\r\n       <use style=\"stroke:#000000;stroke-width:0.6;\" x=\"575.870863\" xlink:href=\"#md80b09f0ec\" y=\"333.36\"/>\r\n      </g>\r\n     </g>\r\n    </g>\r\n    <g id=\"xtick_35\">\r\n     <g id=\"line2d_35\">\r\n      <g>\r\n       <use style=\"stroke:#000000;stroke-width:0.6;\" x=\"594.206022\" xlink:href=\"#md80b09f0ec\" y=\"333.36\"/>\r\n      </g>\r\n     </g>\r\n    </g>\r\n    <g id=\"xtick_36\">\r\n     <g id=\"line2d_36\">\r\n      <g>\r\n       <use style=\"stroke:#000000;stroke-width:0.6;\" x=\"612.541181\" xlink:href=\"#md80b09f0ec\" y=\"333.36\"/>\r\n      </g>\r\n     </g>\r\n    </g>\r\n    <g id=\"xtick_37\">\r\n     <g id=\"line2d_37\">\r\n      <g>\r\n       <use style=\"stroke:#000000;stroke-width:0.6;\" x=\"630.87634\" xlink:href=\"#md80b09f0ec\" y=\"333.36\"/>\r\n      </g>\r\n     </g>\r\n    </g>\r\n    <g id=\"xtick_38\">\r\n     <g id=\"line2d_38\">\r\n      <g>\r\n       <use style=\"stroke:#000000;stroke-width:0.6;\" x=\"667.546657\" xlink:href=\"#md80b09f0ec\" y=\"333.36\"/>\r\n      </g>\r\n     </g>\r\n    </g>\r\n    <g id=\"xtick_39\">\r\n     <g id=\"line2d_39\">\r\n      <g>\r\n       <use style=\"stroke:#000000;stroke-width:0.6;\" x=\"685.881816\" xlink:href=\"#md80b09f0ec\" y=\"333.36\"/>\r\n      </g>\r\n     </g>\r\n    </g>\r\n    <g id=\"xtick_40\">\r\n     <g id=\"line2d_40\">\r\n      <g>\r\n       <use style=\"stroke:#000000;stroke-width:0.6;\" x=\"704.216975\" xlink:href=\"#md80b09f0ec\" y=\"333.36\"/>\r\n      </g>\r\n     </g>\r\n    </g>\r\n    <g id=\"xtick_41\">\r\n     <g id=\"line2d_41\">\r\n      <g>\r\n       <use style=\"stroke:#000000;stroke-width:0.6;\" x=\"722.552134\" xlink:href=\"#md80b09f0ec\" y=\"333.36\"/>\r\n      </g>\r\n     </g>\r\n    </g>\r\n    <g id=\"xtick_42\">\r\n     <g id=\"line2d_42\">\r\n      <g>\r\n       <use style=\"stroke:#000000;stroke-width:0.6;\" x=\"759.222451\" xlink:href=\"#md80b09f0ec\" y=\"333.36\"/>\r\n      </g>\r\n     </g>\r\n    </g>\r\n    <g id=\"xtick_43\">\r\n     <g id=\"line2d_43\">\r\n      <g>\r\n       <use style=\"stroke:#000000;stroke-width:0.6;\" x=\"777.55761\" xlink:href=\"#md80b09f0ec\" y=\"333.36\"/>\r\n      </g>\r\n     </g>\r\n    </g>\r\n    <g id=\"xtick_44\">\r\n     <g id=\"line2d_44\">\r\n      <g>\r\n       <use style=\"stroke:#000000;stroke-width:0.6;\" x=\"795.892769\" xlink:href=\"#md80b09f0ec\" y=\"333.36\"/>\r\n      </g>\r\n     </g>\r\n    </g>\r\n    <g id=\"xtick_45\">\r\n     <g id=\"line2d_45\">\r\n      <g>\r\n       <use style=\"stroke:#000000;stroke-width:0.6;\" x=\"814.227928\" xlink:href=\"#md80b09f0ec\" y=\"333.36\"/>\r\n      </g>\r\n     </g>\r\n    </g>\r\n    <g id=\"xtick_46\">\r\n     <g id=\"line2d_46\">\r\n      <g>\r\n       <use style=\"stroke:#000000;stroke-width:0.6;\" x=\"850.898245\" xlink:href=\"#md80b09f0ec\" y=\"333.36\"/>\r\n      </g>\r\n     </g>\r\n    </g>\r\n    <g id=\"xtick_47\">\r\n     <g id=\"line2d_47\">\r\n      <g>\r\n       <use style=\"stroke:#000000;stroke-width:0.6;\" x=\"869.233404\" xlink:href=\"#md80b09f0ec\" y=\"333.36\"/>\r\n      </g>\r\n     </g>\r\n    </g>\r\n    <g id=\"xtick_48\">\r\n     <g id=\"line2d_48\">\r\n      <g>\r\n       <use style=\"stroke:#000000;stroke-width:0.6;\" x=\"887.568563\" xlink:href=\"#md80b09f0ec\" y=\"333.36\"/>\r\n      </g>\r\n     </g>\r\n    </g>\r\n    <g id=\"xtick_49\">\r\n     <g id=\"line2d_49\">\r\n      <g>\r\n       <use style=\"stroke:#000000;stroke-width:0.6;\" x=\"905.903722\" xlink:href=\"#md80b09f0ec\" y=\"333.36\"/>\r\n      </g>\r\n     </g>\r\n    </g>\r\n    <g id=\"xtick_50\">\r\n     <g id=\"line2d_50\">\r\n      <g>\r\n       <use style=\"stroke:#000000;stroke-width:0.6;\" x=\"942.57404\" xlink:href=\"#md80b09f0ec\" y=\"333.36\"/>\r\n      </g>\r\n     </g>\r\n    </g>\r\n    <g id=\"xtick_51\">\r\n     <g id=\"line2d_51\">\r\n      <g>\r\n       <use style=\"stroke:#000000;stroke-width:0.6;\" x=\"960.909198\" xlink:href=\"#md80b09f0ec\" y=\"333.36\"/>\r\n      </g>\r\n     </g>\r\n    </g>\r\n    <g id=\"xtick_52\">\r\n     <g id=\"line2d_52\">\r\n      <g>\r\n       <use style=\"stroke:#000000;stroke-width:0.6;\" x=\"979.244357\" xlink:href=\"#md80b09f0ec\" y=\"333.36\"/>\r\n      </g>\r\n     </g>\r\n    </g>\r\n    <g id=\"xtick_53\">\r\n     <g id=\"line2d_53\">\r\n      <g>\r\n       <use style=\"stroke:#000000;stroke-width:0.6;\" x=\"997.579516\" xlink:href=\"#md80b09f0ec\" y=\"333.36\"/>\r\n      </g>\r\n     </g>\r\n    </g>\r\n    <g id=\"xtick_54\">\r\n     <g id=\"line2d_54\">\r\n      <g>\r\n       <use style=\"stroke:#000000;stroke-width:0.6;\" x=\"1034.249834\" xlink:href=\"#md80b09f0ec\" y=\"333.36\"/>\r\n      </g>\r\n     </g>\r\n    </g>\r\n    <g id=\"text_12\">\r\n     <!-- Line # -->\r\n     <g transform=\"translate(525.526875 362.633125)scale(0.16 -0.16)\">\r\n      <defs>\r\n       <path d=\"M 60.40625 20.609375 \r\nL 58.9375 0 \r\nL 4.78125 0 \r\nL 4.78125 3.46875 \r\nQ 5.953125 3.5625 8.171875 3.796875 \r\nQ 10.40625 4.046875 11.28125 4.4375 \r\nQ 12.75 5.078125 13.40625 6.296875 \r\nQ 14.0625 7.515625 14.0625 9.421875 \r\nL 14.0625 59.03125 \r\nQ 14.0625 60.6875 13.5 61.953125 \r\nQ 12.9375 63.234375 11.28125 64.015625 \r\nQ 10.15625 64.59375 8.125 65.15625 \r\nQ 6.109375 65.71875 4.78125 65.828125 \r\nL 4.78125 69.28125 \r\nL 34.03125 69.28125 \r\nL 34.03125 65.828125 \r\nQ 32.671875 65.765625 30.5 65.328125 \r\nQ 28.328125 64.890625 27.34375 64.546875 \r\nQ 25.6875 63.96875 25.078125 62.546875 \r\nQ 24.46875 61.140625 24.46875 59.515625 \r\nL 24.46875 12.984375 \r\nQ 24.46875 9.765625 24.78125 7.984375 \r\nQ 25.09375 6.203125 26.265625 5.21875 \r\nQ 27.390625 4.34375 29.609375 4.078125 \r\nQ 31.84375 3.8125 35.84375 3.8125 \r\nQ 37.640625 3.8125 39.59375 3.90625 \r\nQ 41.546875 4 43.3125 4.296875 \r\nQ 45.015625 4.59375 46.453125 5.09375 \r\nQ 47.90625 5.609375 48.578125 6.390625 \r\nQ 50.59375 8.640625 53.25 13.203125 \r\nQ 55.90625 17.78125 56.9375 20.609375 \r\nz\r\n\" id=\"Georgia-76\"/>\r\n       <path d=\"M 26.90625 0 \r\nL 3.609375 0 \r\nL 3.609375 3.21875 \r\nQ 4.734375 3.328125 5.921875 3.421875 \r\nQ 7.125 3.515625 8.015625 3.8125 \r\nQ 9.375 4.25 10.03125 5.34375 \r\nQ 10.6875 6.453125 10.6875 8.203125 \r\nL 10.6875 37.9375 \r\nQ 10.6875 39.5 9.984375 40.796875 \r\nQ 9.28125 42.09375 8.015625 42.96875 \r\nQ 7.078125 43.5625 5.3125 43.96875 \r\nQ 3.5625 44.390625 2.09375 44.484375 \r\nL 2.09375 47.65625 \r\nL 19.09375 48.734375 \r\nL 19.78125 48.046875 \r\nL 19.78125 8.796875 \r\nQ 19.78125 7.078125 20.4375 5.953125 \r\nQ 21.09375 4.828125 22.515625 4.296875 \r\nQ 23.578125 3.859375 24.609375 3.59375 \r\nQ 25.640625 3.328125 26.90625 3.21875 \r\nz\r\nM 20.75 67.71875 \r\nQ 20.75 64.9375 18.921875 62.859375 \r\nQ 17.09375 60.796875 14.40625 60.796875 \r\nQ 11.921875 60.796875 10.078125 62.765625 \r\nQ 8.25 64.75 8.25 67.28125 \r\nQ 8.25 69.96875 10.078125 71.96875 \r\nQ 11.921875 73.96875 14.40625 73.96875 \r\nQ 17.1875 73.96875 18.96875 72.09375 \r\nQ 20.75 70.21875 20.75 67.71875 \r\nz\r\n\" id=\"Georgia-105\"/>\r\n       <path d=\"M 56.6875 0 \r\nL 33.109375 0 \r\nL 33.109375 3.21875 \r\nQ 34.234375 3.328125 35.578125 3.421875 \r\nQ 36.921875 3.515625 37.796875 3.8125 \r\nQ 39.15625 4.25 39.8125 5.34375 \r\nQ 40.484375 6.453125 40.484375 8.203125 \r\nL 40.484375 32.953125 \r\nQ 40.484375 38.09375 38.0625 40.875 \r\nQ 35.640625 43.65625 32.171875 43.65625 \r\nQ 29.59375 43.65625 27.4375 42.84375 \r\nQ 25.296875 42.046875 23.640625 40.875 \r\nQ 22.015625 39.75 21.0625 38.453125 \r\nQ 20.125 37.15625 19.671875 36.375 \r\nL 19.671875 8.6875 \r\nQ 19.671875 7.03125 20.359375 5.953125 \r\nQ 21.046875 4.890625 22.40625 4.296875 \r\nQ 23.4375 3.8125 24.625 3.5625 \r\nQ 25.828125 3.328125 27.09375 3.21875 \r\nL 27.09375 0 \r\nL 3.515625 0 \r\nL 3.515625 3.21875 \r\nQ 4.640625 3.328125 5.828125 3.421875 \r\nQ 7.03125 3.515625 7.90625 3.8125 \r\nQ 9.28125 4.25 9.9375 5.34375 \r\nQ 10.59375 6.453125 10.59375 8.203125 \r\nL 10.59375 37.9375 \r\nQ 10.59375 39.59375 9.890625 40.984375 \r\nQ 9.1875 42.390625 7.90625 43.265625 \r\nQ 6.984375 43.84375 5.703125 44.109375 \r\nQ 4.4375 44.390625 2.984375 44.484375 \r\nL 2.984375 47.65625 \r\nL 19 48.734375 \r\nL 19.671875 48.046875 \r\nL 19.671875 41.265625 \r\nL 19.921875 41.265625 \r\nQ 21.09375 42.4375 22.84375 44.0625 \r\nQ 24.609375 45.703125 26.171875 46.734375 \r\nQ 27.984375 47.90625 30.46875 48.6875 \r\nQ 32.953125 49.46875 36.078125 49.46875 \r\nQ 43.015625 49.46875 46.359375 45.140625 \r\nQ 49.703125 40.828125 49.703125 33.640625 \r\nL 49.703125 8.59375 \r\nQ 49.703125 6.890625 50.28125 5.828125 \r\nQ 50.875 4.78125 52.296875 4.203125 \r\nQ 53.46875 3.71875 54.3125 3.515625 \r\nQ 55.171875 3.328125 56.6875 3.21875 \r\nz\r\n\" id=\"Georgia-110\"/>\r\n       <path d=\"M 46.296875 11.328125 \r\nQ 43.265625 5.5625 38.1875 2.140625 \r\nQ 33.109375 -1.265625 26.515625 -1.265625 \r\nQ 20.703125 -1.265625 16.328125 0.78125 \r\nQ 11.96875 2.828125 9.125 6.34375 \r\nQ 6.296875 9.859375 4.90625 14.546875 \r\nQ 3.515625 19.234375 3.515625 24.46875 \r\nQ 3.515625 29.15625 5 33.671875 \r\nQ 6.5 38.1875 9.375 41.796875 \r\nQ 12.15625 45.265625 16.28125 47.390625 \r\nQ 20.40625 49.515625 25.53125 49.515625 \r\nQ 30.8125 49.515625 34.5625 47.84375 \r\nQ 38.328125 46.1875 40.671875 43.3125 \r\nQ 42.921875 40.578125 44.015625 36.859375 \r\nQ 45.125 33.15625 45.125 28.8125 \r\nL 45.125 25.59375 \r\nL 13.234375 25.59375 \r\nQ 13.234375 20.84375 14.140625 16.984375 \r\nQ 15.046875 13.140625 17 10.203125 \r\nQ 18.890625 7.375 21.96875 5.734375 \r\nQ 25.046875 4.109375 29.296875 4.109375 \r\nQ 33.640625 4.109375 36.78125 6.125 \r\nQ 39.9375 8.15625 42.875 13.421875 \r\nz\r\nM 35.5 29.6875 \r\nQ 35.5 32.421875 35.03125 35.546875 \r\nQ 34.578125 38.671875 33.546875 40.765625 \r\nQ 32.421875 43.015625 30.46875 44.421875 \r\nQ 28.515625 45.84375 25.4375 45.84375 \r\nQ 20.3125 45.84375 16.921875 41.578125 \r\nQ 13.53125 37.3125 13.234375 29.6875 \r\nz\r\n\" id=\"Georgia-101\"/>\r\n       <path id=\"Georgia-32\"/>\r\n       <path d=\"M 56.78125 36.375 \r\nL 44.625 36.375 \r\nL 41.109375 24.125 \r\nL 53.859375 24.125 \r\nL 53.859375 18.109375 \r\nL 39.40625 18.109375 \r\nL 34.1875 0 \r\nL 28.765625 0 \r\nL 33.984375 18.109375 \r\nL 23.390625 18.109375 \r\nL 18.171875 0 \r\nL 12.75 0 \r\nL 17.96875 18.109375 \r\nL 7.515625 18.109375 \r\nL 7.515625 24.125 \r\nL 19.671875 24.125 \r\nL 23.25 36.375 \r\nL 10.453125 36.375 \r\nL 10.453125 42.390625 \r\nL 24.90625 42.390625 \r\nL 30.03125 60.0625 \r\nL 35.453125 60.0625 \r\nL 30.328125 42.390625 \r\nL 40.921875 42.390625 \r\nL 46.046875 60.0625 \r\nL 51.46875 60.0625 \r\nL 46.34375 42.390625 \r\nL 56.78125 42.390625 \r\nz\r\nM 39.40625 36.46875 \r\nL 28.5625 36.46875 \r\nL 24.953125 24.03125 \r\nL 35.75 24.03125 \r\nz\r\n\" id=\"Georgia-35\"/>\r\n      </defs>\r\n      <use xlink:href=\"#Georgia-76\"/>\r\n      <use x=\"60.351562\" xlink:href=\"#Georgia-105\"/>\r\n      <use x=\"89.648438\" xlink:href=\"#Georgia-110\"/>\r\n      <use x=\"148.730469\" xlink:href=\"#Georgia-101\"/>\r\n      <use x=\"197.070312\" xlink:href=\"#Georgia-32\"/>\r\n      <use x=\"221.191406\" xlink:href=\"#Georgia-35\"/>\r\n     </g>\r\n    </g>\r\n   </g>\r\n   <g id=\"matplotlib.axis_2\">\r\n    <g id=\"ytick_1\">\r\n     <g id=\"line2d_55\">\r\n      <defs>\r\n       <path d=\"M 0 0 \r\nL 3.5 0 \r\n\" id=\"m320b9fd671\" style=\"stroke:#000000;stroke-width:0.8;\"/>\r\n      </defs>\r\n      <g>\r\n       <use style=\"stroke:#000000;stroke-width:0.8;\" x=\"46.168125\" xlink:href=\"#m320b9fd671\" y=\"333.36\"/>\r\n      </g>\r\n     </g>\r\n     <g id=\"text_13\">\r\n      <!-- 0.0 -->\r\n      <g transform=\"translate(26.765 337.159219)scale(0.1 -0.1)\">\r\n       <defs>\r\n        <path d=\"M 10.6875 12.40625 \r\nL 21 12.40625 \r\nL 21 0 \r\nL 10.6875 0 \r\nz\r\n\" id=\"DejaVuSans-46\"/>\r\n       </defs>\r\n       <use xlink:href=\"#DejaVuSans-48\"/>\r\n       <use x=\"63.623047\" xlink:href=\"#DejaVuSans-46\"/>\r\n       <use x=\"95.410156\" xlink:href=\"#DejaVuSans-48\"/>\r\n      </g>\r\n     </g>\r\n    </g>\r\n    <g id=\"ytick_2\">\r\n     <g id=\"line2d_56\">\r\n      <g>\r\n       <use style=\"stroke:#000000;stroke-width:0.8;\" x=\"46.168125\" xlink:href=\"#m320b9fd671\" y=\"261.929375\"/>\r\n      </g>\r\n     </g>\r\n     <g id=\"text_14\">\r\n      <!-- 0.1 -->\r\n      <g transform=\"translate(26.765 265.728594)scale(0.1 -0.1)\">\r\n       <defs>\r\n        <path d=\"M 12.40625 8.296875 \r\nL 28.515625 8.296875 \r\nL 28.515625 63.921875 \r\nL 10.984375 60.40625 \r\nL 10.984375 69.390625 \r\nL 28.421875 72.90625 \r\nL 38.28125 72.90625 \r\nL 38.28125 8.296875 \r\nL 54.390625 8.296875 \r\nL 54.390625 0 \r\nL 12.40625 0 \r\nz\r\n\" id=\"DejaVuSans-49\"/>\r\n       </defs>\r\n       <use xlink:href=\"#DejaVuSans-48\"/>\r\n       <use x=\"63.623047\" xlink:href=\"#DejaVuSans-46\"/>\r\n       <use x=\"95.410156\" xlink:href=\"#DejaVuSans-49\"/>\r\n      </g>\r\n     </g>\r\n    </g>\r\n    <g id=\"ytick_3\">\r\n     <g id=\"line2d_57\">\r\n      <g>\r\n       <use style=\"stroke:#000000;stroke-width:0.8;\" x=\"46.168125\" xlink:href=\"#m320b9fd671\" y=\"190.498751\"/>\r\n      </g>\r\n     </g>\r\n     <g id=\"text_15\">\r\n      <!-- 0.2 -->\r\n      <g transform=\"translate(26.765 194.29797)scale(0.1 -0.1)\">\r\n       <use xlink:href=\"#DejaVuSans-48\"/>\r\n       <use x=\"63.623047\" xlink:href=\"#DejaVuSans-46\"/>\r\n       <use x=\"95.410156\" xlink:href=\"#DejaVuSans-50\"/>\r\n      </g>\r\n     </g>\r\n    </g>\r\n    <g id=\"ytick_4\">\r\n     <g id=\"line2d_58\">\r\n      <g>\r\n       <use style=\"stroke:#000000;stroke-width:0.8;\" x=\"46.168125\" xlink:href=\"#m320b9fd671\" y=\"119.068126\"/>\r\n      </g>\r\n     </g>\r\n     <g id=\"text_16\">\r\n      <!-- 0.3 -->\r\n      <g transform=\"translate(26.765 122.867345)scale(0.1 -0.1)\">\r\n       <use xlink:href=\"#DejaVuSans-48\"/>\r\n       <use x=\"63.623047\" xlink:href=\"#DejaVuSans-46\"/>\r\n       <use x=\"95.410156\" xlink:href=\"#DejaVuSans-51\"/>\r\n      </g>\r\n     </g>\r\n    </g>\r\n    <g id=\"ytick_5\">\r\n     <g id=\"line2d_59\">\r\n      <g>\r\n       <use style=\"stroke:#000000;stroke-width:0.8;\" x=\"46.168125\" xlink:href=\"#m320b9fd671\" y=\"47.637502\"/>\r\n      </g>\r\n     </g>\r\n     <g id=\"text_17\">\r\n      <!-- 0.4 -->\r\n      <g transform=\"translate(26.765 51.43672)scale(0.1 -0.1)\">\r\n       <use xlink:href=\"#DejaVuSans-48\"/>\r\n       <use x=\"63.623047\" xlink:href=\"#DejaVuSans-46\"/>\r\n       <use x=\"95.410156\" xlink:href=\"#DejaVuSans-52\"/>\r\n      </g>\r\n     </g>\r\n    </g>\r\n    <g id=\"text_18\">\r\n     <!-- Time (s) -->\r\n     <g style=\"fill:#ff0000;\" transform=\"translate(19.295 199.875)rotate(-90)scale(0.16 -0.16)\">\r\n      <defs>\r\n       <path d=\"M 61.078125 50.484375 \r\nL 57.71875 50.484375 \r\nQ 57.28125 52.25 56.125 54.65625 \r\nQ 54.984375 57.078125 53.5625 59.234375 \r\nQ 52.09375 61.46875 50.359375 63.15625 \r\nQ 48.640625 64.84375 47.015625 65.09375 \r\nQ 45.515625 65.28125 43.21875 65.375 \r\nQ 40.921875 65.484375 38.96875 65.484375 \r\nL 36.140625 65.484375 \r\nL 36.140625 10.0625 \r\nQ 36.140625 8.453125 36.8125 7.109375 \r\nQ 37.5 5.765625 39.203125 5.03125 \r\nQ 40.09375 4.6875 42.890625 4.09375 \r\nQ 45.703125 3.515625 47.265625 3.46875 \r\nL 47.265625 0 \r\nL 14.546875 0 \r\nL 14.546875 3.46875 \r\nQ 15.921875 3.5625 18.71875 3.859375 \r\nQ 21.53125 4.15625 22.609375 4.59375 \r\nQ 24.21875 5.21875 24.96875 6.421875 \r\nQ 25.734375 7.625 25.734375 9.625 \r\nL 25.734375 65.484375 \r\nL 22.90625 65.484375 \r\nQ 21.390625 65.484375 19.140625 65.40625 \r\nQ 16.890625 65.328125 14.84375 65.09375 \r\nQ 13.234375 64.890625 11.5 63.15625 \r\nQ 9.765625 61.421875 8.296875 59.234375 \r\nQ 6.84375 57.03125 5.71875 54.5625 \r\nQ 4.59375 52.09375 4.15625 50.484375 \r\nL 0.734375 50.484375 \r\nL 0.734375 69.28125 \r\nL 61.078125 69.28125 \r\nz\r\n\" id=\"Georgia-84\"/>\r\n       <path d=\"M 85.984375 0 \r\nL 62.5 0 \r\nL 62.5 3.21875 \r\nQ 63.625 3.328125 64.765625 3.421875 \r\nQ 65.921875 3.515625 66.796875 3.8125 \r\nQ 68.171875 4.25 68.828125 5.34375 \r\nQ 69.484375 6.453125 69.484375 8.203125 \r\nL 69.484375 33.0625 \r\nQ 69.484375 38.140625 67.15625 40.890625 \r\nQ 64.84375 43.65625 61.375 43.65625 \r\nQ 58.984375 43.65625 56.875 42.921875 \r\nQ 54.78125 42.1875 53.03125 40.875 \r\nQ 51.609375 39.796875 50.65625 38.546875 \r\nQ 49.703125 37.3125 49.21875 36.46875 \r\nL 49.21875 8.6875 \r\nQ 49.21875 6.984375 49.796875 5.875 \r\nQ 50.390625 4.78125 51.8125 4.203125 \r\nQ 52.9375 3.765625 53.828125 3.546875 \r\nQ 54.734375 3.328125 56.203125 3.21875 \r\nL 56.203125 0 \r\nL 33.203125 0 \r\nL 33.203125 3.21875 \r\nQ 34.328125 3.328125 35.375 3.421875 \r\nQ 36.421875 3.515625 37.3125 3.8125 \r\nQ 38.671875 4.25 39.328125 5.34375 \r\nQ 39.984375 6.453125 39.984375 8.203125 \r\nL 39.984375 33.0625 \r\nQ 39.984375 38.140625 37.671875 40.890625 \r\nQ 35.359375 43.65625 31.890625 43.65625 \r\nQ 29.5 43.65625 27.390625 42.890625 \r\nQ 25.296875 42.140625 23.53125 40.828125 \r\nQ 22.125 39.75 21.140625 38.40625 \r\nQ 20.171875 37.0625 19.671875 36.375 \r\nL 19.671875 8.796875 \r\nQ 19.671875 7.125 20.359375 6 \r\nQ 21.046875 4.890625 22.40625 4.296875 \r\nQ 23.4375 3.8125 24.515625 3.5625 \r\nQ 25.59375 3.328125 26.90625 3.21875 \r\nL 26.90625 0 \r\nL 3.515625 0 \r\nL 3.515625 3.21875 \r\nQ 4.640625 3.328125 5.828125 3.421875 \r\nQ 7.03125 3.515625 7.90625 3.8125 \r\nQ 9.28125 4.25 9.9375 5.34375 \r\nQ 10.59375 6.453125 10.59375 8.203125 \r\nL 10.59375 38.140625 \r\nQ 10.59375 39.703125 9.890625 40.9375 \r\nQ 9.1875 42.1875 7.90625 43.0625 \r\nQ 6.984375 43.65625 5.609375 44.015625 \r\nQ 4.25 44.390625 2.78125 44.484375 \r\nL 2.78125 47.65625 \r\nL 18.890625 48.734375 \r\nL 19.578125 48.046875 \r\nL 19.578125 41.15625 \r\nL 19.921875 41.15625 \r\nQ 21.140625 42.390625 22.890625 44.046875 \r\nQ 24.65625 45.703125 26.171875 46.734375 \r\nQ 27.875 47.90625 30.4375 48.6875 \r\nQ 33.015625 49.46875 35.984375 49.46875 \r\nQ 40.671875 49.46875 44.03125 46.953125 \r\nQ 47.40625 44.4375 48.875 40.875 \r\nQ 50.640625 42.578125 51.984375 43.875 \r\nQ 53.328125 45.171875 55.515625 46.625 \r\nQ 57.375 47.90625 59.890625 48.6875 \r\nQ 62.40625 49.46875 65.484375 49.46875 \r\nQ 71.578125 49.46875 75.140625 45.453125 \r\nQ 78.71875 41.453125 78.71875 33.15625 \r\nL 78.71875 8.6875 \r\nQ 78.71875 6.984375 79.296875 5.875 \r\nQ 79.890625 4.78125 81.296875 4.203125 \r\nQ 82.421875 3.765625 83.515625 3.546875 \r\nQ 84.625 3.328125 85.984375 3.21875 \r\nz\r\n\" id=\"Georgia-109\"/>\r\n       <path d=\"M 34.234375 -16.015625 \r\nQ 20.90625 -14.359375 13.3125 -2.578125 \r\nQ 5.71875 9.1875 5.71875 29.109375 \r\nQ 5.71875 49.359375 13.3125 61.203125 \r\nQ 20.90625 73.046875 34.234375 74.8125 \r\nL 34.234375 70.75 \r\nQ 24.859375 69.046875 19.96875 58.78125 \r\nQ 15.09375 48.53125 15.09375 29 \r\nQ 15.09375 10.40625 19.875 0.078125 \r\nQ 24.65625 -10.25 34.234375 -12.015625 \r\nz\r\n\" id=\"Georgia-40\"/>\r\n       <path d=\"M 35.296875 23.578125 \r\nQ 37.3125 21.828125 38.375 19.53125 \r\nQ 39.453125 17.234375 39.453125 13.921875 \r\nQ 39.453125 7.234375 34.4375 2.984375 \r\nQ 29.4375 -1.265625 21.484375 -1.265625 \r\nQ 17.28125 -1.265625 13.734375 0.25 \r\nQ 10.203125 1.765625 8.6875 3.03125 \r\nL 7.71875 -0.140625 \r\nL 4.046875 -0.140625 \r\nL 3.5625 16.609375 \r\nL 6.9375 16.609375 \r\nQ 7.328125 14.703125 8.59375 12.15625 \r\nQ 9.859375 9.625 11.671875 7.5625 \r\nQ 13.578125 5.421875 16.234375 3.953125 \r\nQ 18.890625 2.484375 22.21875 2.484375 \r\nQ 26.90625 2.484375 29.4375 4.609375 \r\nQ 31.984375 6.734375 31.984375 10.6875 \r\nQ 31.984375 12.75 31.171875 14.234375 \r\nQ 30.375 15.71875 28.8125 16.84375 \r\nQ 27.203125 17.96875 24.859375 18.875 \r\nQ 22.515625 19.78125 19.625 20.65625 \r\nQ 17.328125 21.34375 14.515625 22.53125 \r\nQ 11.71875 23.734375 9.71875 25.34375 \r\nQ 7.5625 27.046875 6.1875 29.53125 \r\nQ 4.828125 32.03125 4.828125 35.40625 \r\nQ 4.828125 41.3125 9.21875 45.40625 \r\nQ 13.625 49.515625 21 49.515625 \r\nQ 23.828125 49.515625 26.78125 48.78125 \r\nQ 29.734375 48.046875 31.59375 47.015625 \r\nL 32.71875 49.5625 \r\nL 36.234375 49.5625 \r\nL 36.96875 34.078125 \r\nL 33.59375 34.078125 \r\nQ 32.5625 39.265625 29.171875 42.5 \r\nQ 25.78125 45.75 20.90625 45.75 \r\nQ 16.890625 45.75 14.59375 43.75 \r\nQ 12.3125 41.75 12.3125 38.921875 \r\nQ 12.3125 36.71875 13.0625 35.25 \r\nQ 13.8125 33.796875 15.328125 32.765625 \r\nQ 16.796875 31.78125 19.015625 30.921875 \r\nQ 21.234375 30.078125 24.515625 29 \r\nQ 27.734375 27.984375 30.59375 26.609375 \r\nQ 33.453125 25.25 35.296875 23.578125 \r\nz\r\n\" id=\"Georgia-115\"/>\r\n       <path d=\"M 31.78125 29.109375 \r\nQ 31.78125 9.1875 24.1875 -2.578125 \r\nQ 16.609375 -14.359375 3.265625 -16.015625 \r\nL 3.265625 -12.015625 \r\nQ 12.84375 -10.25 17.625 0.078125 \r\nQ 22.40625 10.40625 22.40625 29 \r\nQ 22.40625 48.53125 17.515625 58.78125 \r\nQ 12.640625 69.046875 3.265625 70.75 \r\nL 3.265625 74.8125 \r\nQ 16.609375 73.046875 24.1875 61.203125 \r\nQ 31.78125 49.359375 31.78125 29.109375 \r\nz\r\n\" id=\"Georgia-41\"/>\r\n      </defs>\r\n      <use xlink:href=\"#Georgia-84\"/>\r\n      <use x=\"61.865234\" xlink:href=\"#Georgia-105\"/>\r\n      <use x=\"91.162109\" xlink:href=\"#Georgia-109\"/>\r\n      <use x=\"179.248047\" xlink:href=\"#Georgia-101\"/>\r\n      <use x=\"227.587891\" xlink:href=\"#Georgia-32\"/>\r\n      <use x=\"251.708984\" xlink:href=\"#Georgia-40\"/>\r\n      <use x=\"289.208984\" xlink:href=\"#Georgia-115\"/>\r\n      <use x=\"332.421875\" xlink:href=\"#Georgia-41\"/>\r\n     </g>\r\n    </g>\r\n   </g>\r\n   <g id=\"LineCollection_1\">\r\n    <path clip-path=\"url(#pdb8e2698a0)\" style=\"fill:none;stroke:#000000;stroke-width:1.5;\"/>\r\n    <path clip-path=\"url(#pdb8e2698a0)\" style=\"fill:none;stroke:#000000;stroke-width:1.5;\"/>\r\n    <path clip-path=\"url(#pdb8e2698a0)\" style=\"fill:none;stroke:#000000;stroke-width:1.5;\"/>\r\n    <path clip-path=\"url(#pdb8e2698a0)\" style=\"fill:none;stroke:#000000;stroke-width:1.5;\"/>\r\n    <path clip-path=\"url(#pdb8e2698a0)\" style=\"fill:none;stroke:#000000;stroke-width:1.5;\"/>\r\n    <path clip-path=\"url(#pdb8e2698a0)\" style=\"fill:none;stroke:#000000;stroke-width:1.5;\"/>\r\n    <path clip-path=\"url(#pdb8e2698a0)\" style=\"fill:none;stroke:#000000;stroke-width:1.5;\"/>\r\n    <path clip-path=\"url(#pdb8e2698a0)\" style=\"fill:none;stroke:#000000;stroke-width:1.5;\"/>\r\n    <path clip-path=\"url(#pdb8e2698a0)\" style=\"fill:none;stroke:#000000;stroke-width:1.5;\"/>\r\n    <path clip-path=\"url(#pdb8e2698a0)\" style=\"fill:none;stroke:#000000;stroke-width:1.5;\"/>\r\n    <path clip-path=\"url(#pdb8e2698a0)\" style=\"fill:none;stroke:#000000;stroke-width:1.5;\"/>\r\n    <path clip-path=\"url(#pdb8e2698a0)\" style=\"fill:none;stroke:#000000;stroke-width:1.5;\"/>\r\n    <path clip-path=\"url(#pdb8e2698a0)\" style=\"fill:none;stroke:#000000;stroke-width:1.5;\"/>\r\n    <path clip-path=\"url(#pdb8e2698a0)\" style=\"fill:none;stroke:#000000;stroke-width:1.5;\"/>\r\n    <path clip-path=\"url(#pdb8e2698a0)\" style=\"fill:none;stroke:#000000;stroke-width:1.5;\"/>\r\n    <path clip-path=\"url(#pdb8e2698a0)\" style=\"fill:none;stroke:#000000;stroke-width:1.5;\"/>\r\n    <path clip-path=\"url(#pdb8e2698a0)\" style=\"fill:none;stroke:#000000;stroke-width:1.5;\"/>\r\n    <path clip-path=\"url(#pdb8e2698a0)\" style=\"fill:none;stroke:#000000;stroke-width:1.5;\"/>\r\n    <path clip-path=\"url(#pdb8e2698a0)\" style=\"fill:none;stroke:#000000;stroke-width:1.5;\"/>\r\n    <path clip-path=\"url(#pdb8e2698a0)\" style=\"fill:none;stroke:#000000;stroke-width:1.5;\"/>\r\n    <path clip-path=\"url(#pdb8e2698a0)\" style=\"fill:none;stroke:#000000;stroke-width:1.5;\"/>\r\n    <path clip-path=\"url(#pdb8e2698a0)\" style=\"fill:none;stroke:#000000;stroke-width:1.5;\"/>\r\n    <path clip-path=\"url(#pdb8e2698a0)\" style=\"fill:none;stroke:#000000;stroke-width:1.5;\"/>\r\n    <path clip-path=\"url(#pdb8e2698a0)\" style=\"fill:none;stroke:#000000;stroke-width:1.5;\"/>\r\n    <path clip-path=\"url(#pdb8e2698a0)\" style=\"fill:none;stroke:#000000;stroke-width:1.5;\"/>\r\n    <path clip-path=\"url(#pdb8e2698a0)\" style=\"fill:none;stroke:#000000;stroke-width:1.5;\"/>\r\n    <path clip-path=\"url(#pdb8e2698a0)\" style=\"fill:none;stroke:#000000;stroke-width:1.5;\"/>\r\n    <path clip-path=\"url(#pdb8e2698a0)\" style=\"fill:none;stroke:#000000;stroke-width:1.5;\"/>\r\n    <path clip-path=\"url(#pdb8e2698a0)\" style=\"fill:none;stroke:#000000;stroke-width:1.5;\"/>\r\n    <path clip-path=\"url(#pdb8e2698a0)\" style=\"fill:none;stroke:#000000;stroke-width:1.5;\"/>\r\n    <path clip-path=\"url(#pdb8e2698a0)\" style=\"fill:none;stroke:#000000;stroke-width:1.5;\"/>\r\n    <path clip-path=\"url(#pdb8e2698a0)\" style=\"fill:none;stroke:#000000;stroke-width:1.5;\"/>\r\n    <path clip-path=\"url(#pdb8e2698a0)\" style=\"fill:none;stroke:#000000;stroke-width:1.5;\"/>\r\n    <path clip-path=\"url(#pdb8e2698a0)\" style=\"fill:none;stroke:#000000;stroke-width:1.5;\"/>\r\n    <path clip-path=\"url(#pdb8e2698a0)\" style=\"fill:none;stroke:#000000;stroke-width:1.5;\"/>\r\n    <path clip-path=\"url(#pdb8e2698a0)\" style=\"fill:none;stroke:#000000;stroke-width:1.5;\"/>\r\n    <path clip-path=\"url(#pdb8e2698a0)\" style=\"fill:none;stroke:#000000;stroke-width:1.5;\"/>\r\n    <path clip-path=\"url(#pdb8e2698a0)\" style=\"fill:none;stroke:#000000;stroke-width:1.5;\"/>\r\n    <path clip-path=\"url(#pdb8e2698a0)\" style=\"fill:none;stroke:#000000;stroke-width:1.5;\"/>\r\n    <path clip-path=\"url(#pdb8e2698a0)\" style=\"fill:none;stroke:#000000;stroke-width:1.5;\"/>\r\n    <path clip-path=\"url(#pdb8e2698a0)\" style=\"fill:none;stroke:#000000;stroke-width:1.5;\"/>\r\n    <path clip-path=\"url(#pdb8e2698a0)\" style=\"fill:none;stroke:#000000;stroke-width:1.5;\"/>\r\n    <path clip-path=\"url(#pdb8e2698a0)\" style=\"fill:none;stroke:#000000;stroke-width:1.5;\"/>\r\n    <path clip-path=\"url(#pdb8e2698a0)\" style=\"fill:none;stroke:#000000;stroke-width:1.5;\"/>\r\n    <path clip-path=\"url(#pdb8e2698a0)\" style=\"fill:none;stroke:#000000;stroke-width:1.5;\"/>\r\n    <path clip-path=\"url(#pdb8e2698a0)\" style=\"fill:none;stroke:#000000;stroke-width:1.5;\"/>\r\n   </g>\r\n   <g id=\"patch_49\">\r\n    <path d=\"M 46.168125 333.36 \r\nL 46.168125 7.2 \r\n\" style=\"fill:none;stroke:#000000;stroke-linecap:square;stroke-linejoin:miter;stroke-width:0.8;\"/>\r\n   </g>\r\n   <g id=\"patch_50\">\r\n    <path d=\"M 1050.568125 333.36 \r\nL 1050.568125 7.2 \r\n\" style=\"fill:none;stroke:#000000;stroke-linecap:square;stroke-linejoin:miter;stroke-width:0.8;\"/>\r\n   </g>\r\n   <g id=\"patch_51\">\r\n    <path d=\"M 46.168125 333.36 \r\nL 1050.568125 333.36 \r\n\" style=\"fill:none;stroke:#000000;stroke-linecap:square;stroke-linejoin:miter;stroke-width:0.8;\"/>\r\n   </g>\r\n   <g id=\"patch_52\">\r\n    <path d=\"M 46.168125 7.2 \r\nL 1050.568125 7.2 \r\n\" style=\"fill:none;stroke:#000000;stroke-linecap:square;stroke-linejoin:miter;stroke-width:0.8;\"/>\r\n   </g>\r\n  </g>\r\n  <g id=\"axes_2\">\r\n   <g id=\"patch_53\">\r\n    <path clip-path=\"url(#pdb8e2698a0)\" d=\"M 91.82267 333.36 \r\nL 106.490798 333.36 \r\nL 106.490798 333.36 \r\nL 91.82267 333.36 \r\nz\r\n\" style=\"fill:#0000ff;fill-opacity:0.3;stroke:#0000ff;stroke-linejoin:miter;\"/>\r\n   </g>\r\n   <g id=\"patch_54\">\r\n    <path clip-path=\"url(#pdb8e2698a0)\" d=\"M 110.157829 333.36 \r\nL 124.825956 333.36 \r\nL 124.825956 333.36 \r\nL 110.157829 333.36 \r\nz\r\n\" style=\"fill:#0000ff;fill-opacity:0.3;stroke:#0000ff;stroke-linejoin:miter;\"/>\r\n   </g>\r\n   <g id=\"patch_55\">\r\n    <path clip-path=\"url(#pdb8e2698a0)\" d=\"M 128.492988 333.36 \r\nL 143.161115 333.36 \r\nL 143.161115 333.36 \r\nL 128.492988 333.36 \r\nz\r\n\" style=\"fill:#0000ff;fill-opacity:0.3;stroke:#0000ff;stroke-linejoin:miter;\"/>\r\n   </g>\r\n   <g id=\"patch_56\">\r\n    <path clip-path=\"url(#pdb8e2698a0)\" d=\"M 146.828147 333.36 \r\nL 161.496274 333.36 \r\nL 161.496274 333.36 \r\nL 146.828147 333.36 \r\nz\r\n\" style=\"fill:#0000ff;fill-opacity:0.3;stroke:#0000ff;stroke-linejoin:miter;\"/>\r\n   </g>\r\n   <g id=\"patch_57\">\r\n    <path clip-path=\"url(#pdb8e2698a0)\" d=\"M 165.163306 333.36 \r\nL 179.831433 333.36 \r\nL 179.831433 331.387957 \r\nL 165.163306 331.387957 \r\nz\r\n\" style=\"fill:#0000ff;fill-opacity:0.3;stroke:#0000ff;stroke-linejoin:miter;\"/>\r\n   </g>\r\n   <g id=\"patch_58\">\r\n    <path clip-path=\"url(#pdb8e2698a0)\" d=\"M 183.498465 333.36 \r\nL 198.166592 333.36 \r\nL 198.166592 245.381439 \r\nL 183.498465 245.381439 \r\nz\r\n\" style=\"fill:#0000ff;fill-opacity:0.3;stroke:#0000ff;stroke-linejoin:miter;\"/>\r\n   </g>\r\n   <g id=\"patch_59\">\r\n    <path clip-path=\"url(#pdb8e2698a0)\" d=\"M 201.833623 333.36 \r\nL 216.50175 333.36 \r\nL 216.50175 333.36 \r\nL 201.833623 333.36 \r\nz\r\n\" style=\"fill:#0000ff;fill-opacity:0.3;stroke:#0000ff;stroke-linejoin:miter;\"/>\r\n   </g>\r\n   <g id=\"patch_60\">\r\n    <path clip-path=\"url(#pdb8e2698a0)\" d=\"M 220.168782 333.36 \r\nL 234.836909 333.36 \r\nL 234.836909 333.36 \r\nL 220.168782 333.36 \r\nz\r\n\" style=\"fill:#0000ff;fill-opacity:0.3;stroke:#0000ff;stroke-linejoin:miter;\"/>\r\n   </g>\r\n   <g id=\"patch_61\">\r\n    <path clip-path=\"url(#pdb8e2698a0)\" d=\"M 275.174259 333.36 \r\nL 289.842386 333.36 \r\nL 289.842386 333.36 \r\nL 275.174259 333.36 \r\nz\r\n\" style=\"fill:#0000ff;fill-opacity:0.3;stroke:#0000ff;stroke-linejoin:miter;\"/>\r\n   </g>\r\n   <g id=\"patch_62\">\r\n    <path clip-path=\"url(#pdb8e2698a0)\" d=\"M 293.509417 333.36 \r\nL 308.177544 333.36 \r\nL 308.177544 333.36 \r\nL 293.509417 333.36 \r\nz\r\n\" style=\"fill:#0000ff;fill-opacity:0.3;stroke:#0000ff;stroke-linejoin:miter;\"/>\r\n   </g>\r\n   <g id=\"patch_63\">\r\n    <path clip-path=\"url(#pdb8e2698a0)\" d=\"M 311.844576 333.36 \r\nL 326.512703 333.36 \r\nL 326.512703 22.731429 \r\nL 311.844576 22.731429 \r\nz\r\n\" style=\"fill:#0000ff;fill-opacity:0.3;stroke:#0000ff;stroke-linejoin:miter;\"/>\r\n   </g>\r\n   <g id=\"patch_64\">\r\n    <path clip-path=\"url(#pdb8e2698a0)\" d=\"M 330.179735 333.36 \r\nL 344.847862 333.36 \r\nL 344.847862 249.134682 \r\nL 330.179735 249.134682 \r\nz\r\n\" style=\"fill:#0000ff;fill-opacity:0.3;stroke:#0000ff;stroke-linejoin:miter;\"/>\r\n   </g>\r\n   <g id=\"patch_65\">\r\n    <path clip-path=\"url(#pdb8e2698a0)\" d=\"M 348.514894 333.36 \r\nL 363.183021 333.36 \r\nL 363.183021 333.36 \r\nL 348.514894 333.36 \r\nz\r\n\" style=\"fill:#0000ff;fill-opacity:0.3;stroke:#0000ff;stroke-linejoin:miter;\"/>\r\n   </g>\r\n   <g id=\"patch_66\">\r\n    <path clip-path=\"url(#pdb8e2698a0)\" d=\"M 366.850053 333.36 \r\nL 381.51818 333.36 \r\nL 381.51818 333.36 \r\nL 366.850053 333.36 \r\nz\r\n\" style=\"fill:#0000ff;fill-opacity:0.3;stroke:#0000ff;stroke-linejoin:miter;\"/>\r\n   </g>\r\n   <g id=\"patch_67\">\r\n    <path clip-path=\"url(#pdb8e2698a0)\" d=\"M 385.185212 333.36 \r\nL 399.853339 333.36 \r\nL 399.853339 333.36 \r\nL 385.185212 333.36 \r\nz\r\n\" style=\"fill:#0000ff;fill-opacity:0.3;stroke:#0000ff;stroke-linejoin:miter;\"/>\r\n   </g>\r\n   <g id=\"patch_68\">\r\n    <path clip-path=\"url(#pdb8e2698a0)\" d=\"M 403.52037 333.36 \r\nL 418.188497 333.36 \r\nL 418.188497 333.36 \r\nL 403.52037 333.36 \r\nz\r\n\" style=\"fill:#0000ff;fill-opacity:0.3;stroke:#0000ff;stroke-linejoin:miter;\"/>\r\n   </g>\r\n   <g id=\"patch_69\">\r\n    <path clip-path=\"url(#pdb8e2698a0)\" d=\"M 421.855529 333.36 \r\nL 436.523656 333.36 \r\nL 436.523656 333.36 \r\nL 421.855529 333.36 \r\nz\r\n\" style=\"fill:#0000ff;fill-opacity:0.3;stroke:#0000ff;stroke-linejoin:miter;\"/>\r\n   </g>\r\n   <g id=\"patch_70\">\r\n    <path clip-path=\"url(#pdb8e2698a0)\" d=\"M 440.190688 333.36 \r\nL 454.858815 333.36 \r\nL 454.858815 315.993299 \r\nL 440.190688 315.993299 \r\nz\r\n\" style=\"fill:#0000ff;fill-opacity:0.3;stroke:#0000ff;stroke-linejoin:miter;\"/>\r\n   </g>\r\n   <g id=\"patch_71\">\r\n    <path clip-path=\"url(#pdb8e2698a0)\" d=\"M 458.525847 333.36 \r\nL 473.193974 333.36 \r\nL 473.193974 333.36 \r\nL 458.525847 333.36 \r\nz\r\n\" style=\"fill:#0000ff;fill-opacity:0.3;stroke:#0000ff;stroke-linejoin:miter;\"/>\r\n   </g>\r\n   <g id=\"patch_72\">\r\n    <path clip-path=\"url(#pdb8e2698a0)\" d=\"M 476.861006 333.36 \r\nL 491.529133 333.36 \r\nL 491.529133 333.36 \r\nL 476.861006 333.36 \r\nz\r\n\" style=\"fill:#0000ff;fill-opacity:0.3;stroke:#0000ff;stroke-linejoin:miter;\"/>\r\n   </g>\r\n   <g id=\"patch_73\">\r\n    <path clip-path=\"url(#pdb8e2698a0)\" d=\"M 495.196164 333.36 \r\nL 509.864291 333.36 \r\nL 509.864291 333.36 \r\nL 495.196164 333.36 \r\nz\r\n\" style=\"fill:#0000ff;fill-opacity:0.3;stroke:#0000ff;stroke-linejoin:miter;\"/>\r\n   </g>\r\n   <g id=\"patch_74\">\r\n    <path clip-path=\"url(#pdb8e2698a0)\" d=\"M 513.531323 333.36 \r\nL 528.19945 333.36 \r\nL 528.19945 333.36 \r\nL 513.531323 333.36 \r\nz\r\n\" style=\"fill:#0000ff;fill-opacity:0.3;stroke:#0000ff;stroke-linejoin:miter;\"/>\r\n   </g>\r\n   <g id=\"patch_75\">\r\n    <path clip-path=\"url(#pdb8e2698a0)\" d=\"M 531.866482 333.36 \r\nL 546.534609 333.36 \r\nL 546.534609 333.36 \r\nL 531.866482 333.36 \r\nz\r\n\" style=\"fill:#0000ff;fill-opacity:0.3;stroke:#0000ff;stroke-linejoin:miter;\"/>\r\n   </g>\r\n   <g id=\"patch_76\">\r\n    <path clip-path=\"url(#pdb8e2698a0)\" d=\"M 550.201641 333.36 \r\nL 564.869768 333.36 \r\nL 564.869768 333.36 \r\nL 550.201641 333.36 \r\nz\r\n\" style=\"fill:#0000ff;fill-opacity:0.3;stroke:#0000ff;stroke-linejoin:miter;\"/>\r\n   </g>\r\n   <g id=\"patch_77\">\r\n    <path clip-path=\"url(#pdb8e2698a0)\" d=\"M 568.5368 333.36 \r\nL 583.204927 333.36 \r\nL 583.204927 333.36 \r\nL 568.5368 333.36 \r\nz\r\n\" style=\"fill:#0000ff;fill-opacity:0.3;stroke:#0000ff;stroke-linejoin:miter;\"/>\r\n   </g>\r\n   <g id=\"patch_78\">\r\n    <path clip-path=\"url(#pdb8e2698a0)\" d=\"M 586.871959 333.36 \r\nL 601.540086 333.36 \r\nL 601.540086 333.36 \r\nL 586.871959 333.36 \r\nz\r\n\" style=\"fill:#0000ff;fill-opacity:0.3;stroke:#0000ff;stroke-linejoin:miter;\"/>\r\n   </g>\r\n   <g id=\"patch_79\">\r\n    <path clip-path=\"url(#pdb8e2698a0)\" d=\"M 605.207117 333.36 \r\nL 619.875244 333.36 \r\nL 619.875244 333.36 \r\nL 605.207117 333.36 \r\nz\r\n\" style=\"fill:#0000ff;fill-opacity:0.3;stroke:#0000ff;stroke-linejoin:miter;\"/>\r\n   </g>\r\n   <g id=\"patch_80\">\r\n    <path clip-path=\"url(#pdb8e2698a0)\" d=\"M 623.542276 333.36 \r\nL 638.210403 333.36 \r\nL 638.210403 333.36 \r\nL 623.542276 333.36 \r\nz\r\n\" style=\"fill:#0000ff;fill-opacity:0.3;stroke:#0000ff;stroke-linejoin:miter;\"/>\r\n   </g>\r\n   <g id=\"patch_81\">\r\n    <path clip-path=\"url(#pdb8e2698a0)\" d=\"M 641.877435 333.36 \r\nL 656.545562 333.36 \r\nL 656.545562 333.36 \r\nL 641.877435 333.36 \r\nz\r\n\" style=\"fill:#0000ff;fill-opacity:0.3;stroke:#0000ff;stroke-linejoin:miter;\"/>\r\n   </g>\r\n   <g id=\"patch_82\">\r\n    <path clip-path=\"url(#pdb8e2698a0)\" d=\"M 660.212594 333.36 \r\nL 674.880721 333.36 \r\nL 674.880721 333.36 \r\nL 660.212594 333.36 \r\nz\r\n\" style=\"fill:#0000ff;fill-opacity:0.3;stroke:#0000ff;stroke-linejoin:miter;\"/>\r\n   </g>\r\n   <g id=\"patch_83\">\r\n    <path clip-path=\"url(#pdb8e2698a0)\" d=\"M 678.547753 333.36 \r\nL 693.21588 333.36 \r\nL 693.21588 333.36 \r\nL 678.547753 333.36 \r\nz\r\n\" style=\"fill:#0000ff;fill-opacity:0.3;stroke:#0000ff;stroke-linejoin:miter;\"/>\r\n   </g>\r\n   <g id=\"patch_84\">\r\n    <path clip-path=\"url(#pdb8e2698a0)\" d=\"M 696.882911 333.36 \r\nL 711.551038 333.36 \r\nL 711.551038 333.36 \r\nL 696.882911 333.36 \r\nz\r\n\" style=\"fill:#0000ff;fill-opacity:0.3;stroke:#0000ff;stroke-linejoin:miter;\"/>\r\n   </g>\r\n   <g id=\"patch_85\">\r\n    <path clip-path=\"url(#pdb8e2698a0)\" d=\"M 715.21807 333.36 \r\nL 729.886197 333.36 \r\nL 729.886197 333.36 \r\nL 715.21807 333.36 \r\nz\r\n\" style=\"fill:#0000ff;fill-opacity:0.3;stroke:#0000ff;stroke-linejoin:miter;\"/>\r\n   </g>\r\n   <g id=\"patch_86\">\r\n    <path clip-path=\"url(#pdb8e2698a0)\" d=\"M 733.553229 333.36 \r\nL 748.221356 333.36 \r\nL 748.221356 333.36 \r\nL 733.553229 333.36 \r\nz\r\n\" style=\"fill:#0000ff;fill-opacity:0.3;stroke:#0000ff;stroke-linejoin:miter;\"/>\r\n   </g>\r\n   <g id=\"patch_87\">\r\n    <path clip-path=\"url(#pdb8e2698a0)\" d=\"M 751.888388 333.36 \r\nL 766.556515 333.36 \r\nL 766.556515 333.36 \r\nL 751.888388 333.36 \r\nz\r\n\" style=\"fill:#0000ff;fill-opacity:0.3;stroke:#0000ff;stroke-linejoin:miter;\"/>\r\n   </g>\r\n   <g id=\"patch_88\">\r\n    <path clip-path=\"url(#pdb8e2698a0)\" d=\"M 770.223547 333.36 \r\nL 784.891674 333.36 \r\nL 784.891674 333.36 \r\nL 770.223547 333.36 \r\nz\r\n\" style=\"fill:#0000ff;fill-opacity:0.3;stroke:#0000ff;stroke-linejoin:miter;\"/>\r\n   </g>\r\n   <g id=\"patch_89\">\r\n    <path clip-path=\"url(#pdb8e2698a0)\" d=\"M 788.558706 333.36 \r\nL 803.226833 333.36 \r\nL 803.226833 333.36 \r\nL 788.558706 333.36 \r\nz\r\n\" style=\"fill:#0000ff;fill-opacity:0.3;stroke:#0000ff;stroke-linejoin:miter;\"/>\r\n   </g>\r\n   <g id=\"patch_90\">\r\n    <path clip-path=\"url(#pdb8e2698a0)\" d=\"M 806.893864 333.36 \r\nL 821.561991 333.36 \r\nL 821.561991 333.36 \r\nL 806.893864 333.36 \r\nz\r\n\" style=\"fill:#0000ff;fill-opacity:0.3;stroke:#0000ff;stroke-linejoin:miter;\"/>\r\n   </g>\r\n   <g id=\"patch_91\">\r\n    <path clip-path=\"url(#pdb8e2698a0)\" d=\"M 825.229023 333.36 \r\nL 839.89715 333.36 \r\nL 839.89715 333.36 \r\nL 825.229023 333.36 \r\nz\r\n\" style=\"fill:#0000ff;fill-opacity:0.3;stroke:#0000ff;stroke-linejoin:miter;\"/>\r\n   </g>\r\n   <g id=\"patch_92\">\r\n    <path clip-path=\"url(#pdb8e2698a0)\" d=\"M 880.2345 333.36 \r\nL 894.902627 333.36 \r\nL 894.902627 333.36 \r\nL 880.2345 333.36 \r\nz\r\n\" style=\"fill:#0000ff;fill-opacity:0.3;stroke:#0000ff;stroke-linejoin:miter;\"/>\r\n   </g>\r\n   <g id=\"patch_93\">\r\n    <path clip-path=\"url(#pdb8e2698a0)\" d=\"M 898.569658 333.36 \r\nL 913.237785 333.36 \r\nL 913.237785 333.36 \r\nL 898.569658 333.36 \r\nz\r\n\" style=\"fill:#0000ff;fill-opacity:0.3;stroke:#0000ff;stroke-linejoin:miter;\"/>\r\n   </g>\r\n   <g id=\"patch_94\">\r\n    <path clip-path=\"url(#pdb8e2698a0)\" d=\"M 916.904817 333.36 \r\nL 931.572944 333.36 \r\nL 931.572944 333.36 \r\nL 916.904817 333.36 \r\nz\r\n\" style=\"fill:#0000ff;fill-opacity:0.3;stroke:#0000ff;stroke-linejoin:miter;\"/>\r\n   </g>\r\n   <g id=\"patch_95\">\r\n    <path clip-path=\"url(#pdb8e2698a0)\" d=\"M 935.239976 333.36 \r\nL 949.908103 333.36 \r\nL 949.908103 333.36 \r\nL 935.239976 333.36 \r\nz\r\n\" style=\"fill:#0000ff;fill-opacity:0.3;stroke:#0000ff;stroke-linejoin:miter;\"/>\r\n   </g>\r\n   <g id=\"patch_96\">\r\n    <path clip-path=\"url(#pdb8e2698a0)\" d=\"M 953.575135 333.36 \r\nL 968.243262 333.36 \r\nL 968.243262 333.36 \r\nL 953.575135 333.36 \r\nz\r\n\" style=\"fill:#0000ff;fill-opacity:0.3;stroke:#0000ff;stroke-linejoin:miter;\"/>\r\n   </g>\r\n   <g id=\"patch_97\">\r\n    <path clip-path=\"url(#pdb8e2698a0)\" d=\"M 971.910294 333.36 \r\nL 986.578421 333.36 \r\nL 986.578421 327.1258 \r\nL 971.910294 327.1258 \r\nz\r\n\" style=\"fill:#0000ff;fill-opacity:0.3;stroke:#0000ff;stroke-linejoin:miter;\"/>\r\n   </g>\r\n   <g id=\"patch_98\">\r\n    <path clip-path=\"url(#pdb8e2698a0)\" d=\"M 990.245452 333.36 \r\nL 1004.91358 333.36 \r\nL 1004.91358 333.36 \r\nL 990.245452 333.36 \r\nz\r\n\" style=\"fill:#0000ff;fill-opacity:0.3;stroke:#0000ff;stroke-linejoin:miter;\"/>\r\n   </g>\r\n   <g id=\"matplotlib.axis_3\">\r\n    <g id=\"ytick_6\">\r\n     <g id=\"line2d_60\">\r\n      <defs>\r\n       <path d=\"M 0 0 \r\nL -3.5 0 \r\n\" id=\"m59957773cc\" style=\"stroke:#000000;stroke-width:0.8;\"/>\r\n      </defs>\r\n      <g>\r\n       <use style=\"stroke:#000000;stroke-width:0.8;\" x=\"1050.568125\" xlink:href=\"#m59957773cc\" y=\"333.36\"/>\r\n      </g>\r\n     </g>\r\n     <g id=\"text_19\">\r\n      <!-- 0 -->\r\n      <g transform=\"translate(1054.068125 337.159219)scale(0.1 -0.1)\">\r\n       <use xlink:href=\"#DejaVuSans-48\"/>\r\n      </g>\r\n     </g>\r\n    </g>\r\n    <g id=\"ytick_7\">\r\n     <g id=\"line2d_61\">\r\n      <g>\r\n       <use style=\"stroke:#000000;stroke-width:0.8;\" x=\"1050.568125\" xlink:href=\"#m59957773cc\" y=\"269.745711\"/>\r\n      </g>\r\n     </g>\r\n     <g id=\"text_20\">\r\n      <!-- 1 -->\r\n      <g transform=\"translate(1054.068125 273.54493)scale(0.1 -0.1)\">\r\n       <use xlink:href=\"#DejaVuSans-49\"/>\r\n      </g>\r\n     </g>\r\n    </g>\r\n    <g id=\"ytick_8\">\r\n     <g id=\"line2d_62\">\r\n      <g>\r\n       <use style=\"stroke:#000000;stroke-width:0.8;\" x=\"1050.568125\" xlink:href=\"#m59957773cc\" y=\"206.131423\"/>\r\n      </g>\r\n     </g>\r\n     <g id=\"text_21\">\r\n      <!-- 2 -->\r\n      <g transform=\"translate(1054.068125 209.930641)scale(0.1 -0.1)\">\r\n       <use xlink:href=\"#DejaVuSans-50\"/>\r\n      </g>\r\n     </g>\r\n    </g>\r\n    <g id=\"ytick_9\">\r\n     <g id=\"line2d_63\">\r\n      <g>\r\n       <use style=\"stroke:#000000;stroke-width:0.8;\" x=\"1050.568125\" xlink:href=\"#m59957773cc\" y=\"142.517134\"/>\r\n      </g>\r\n     </g>\r\n     <g id=\"text_22\">\r\n      <!-- 3 -->\r\n      <g transform=\"translate(1054.068125 146.316353)scale(0.1 -0.1)\">\r\n       <use xlink:href=\"#DejaVuSans-51\"/>\r\n      </g>\r\n     </g>\r\n    </g>\r\n    <g id=\"ytick_10\">\r\n     <g id=\"line2d_64\">\r\n      <g>\r\n       <use style=\"stroke:#000000;stroke-width:0.8;\" x=\"1050.568125\" xlink:href=\"#m59957773cc\" y=\"78.902845\"/>\r\n      </g>\r\n     </g>\r\n     <g id=\"text_23\">\r\n      <!-- 4 -->\r\n      <g transform=\"translate(1054.068125 82.702064)scale(0.1 -0.1)\">\r\n       <use xlink:href=\"#DejaVuSans-52\"/>\r\n      </g>\r\n     </g>\r\n    </g>\r\n    <g id=\"ytick_11\">\r\n     <g id=\"line2d_65\">\r\n      <g>\r\n       <use style=\"stroke:#000000;stroke-width:0.8;\" x=\"1050.568125\" xlink:href=\"#m59957773cc\" y=\"15.288557\"/>\r\n      </g>\r\n     </g>\r\n     <g id=\"text_24\">\r\n      <!-- 5 -->\r\n      <g transform=\"translate(1054.068125 19.087776)scale(0.1 -0.1)\">\r\n       <use xlink:href=\"#DejaVuSans-53\"/>\r\n      </g>\r\n     </g>\r\n    </g>\r\n    <g id=\"text_25\">\r\n     <!-- Memory Change (MiB) -->\r\n     <g style=\"fill:#0000ff;\" transform=\"translate(1076.525625 251.4825)rotate(-90)scale(0.16 -0.16)\">\r\n      <defs>\r\n       <path d=\"M 88.1875 0 \r\nL 57.5625 0 \r\nL 57.5625 3.46875 \r\nQ 59.234375 3.515625 61.84375 3.8125 \r\nQ 64.453125 4.109375 65.4375 4.640625 \r\nQ 66.9375 5.5625 67.640625 6.75 \r\nQ 68.359375 7.953125 68.359375 9.765625 \r\nL 68.359375 60.15625 \r\nL 67.625 60.15625 \r\nL 44 1.125 \r\nL 41.546875 1.125 \r\nL 19.046875 61.375 \r\nL 18.40625 61.375 \r\nL 18.40625 20.015625 \r\nQ 18.40625 14.015625 19.15625 10.890625 \r\nQ 19.921875 7.765625 21.484375 6.390625 \r\nQ 22.5625 5.375 25.921875 4.4375 \r\nQ 29.296875 3.515625 30.328125 3.46875 \r\nL 30.328125 0 \r\nL 2.34375 0 \r\nL 2.34375 3.46875 \r\nQ 4.546875 3.65625 6.953125 4.1875 \r\nQ 9.375 4.734375 10.6875 5.8125 \r\nQ 12.40625 7.171875 13.03125 10 \r\nQ 13.671875 12.84375 13.671875 19.484375 \r\nL 13.671875 54.9375 \r\nQ 13.671875 58.015625 12.9375 59.96875 \r\nQ 12.203125 61.921875 10.84375 63.140625 \r\nQ 9.328125 64.453125 7.125 65.078125 \r\nQ 4.9375 65.71875 2.78125 65.828125 \r\nL 2.78125 69.28125 \r\nL 26.421875 69.28125 \r\nL 46.234375 17.328125 \r\nL 63.1875 60.796875 \r\nQ 64.109375 63.1875 64.765625 65.796875 \r\nQ 65.4375 68.40625 65.484375 69.28125 \r\nL 88.09375 69.28125 \r\nL 88.09375 65.828125 \r\nQ 86.71875 65.765625 84.59375 65.375 \r\nQ 82.46875 64.984375 81.5 64.65625 \r\nQ 79.828125 64.0625 79.234375 62.6875 \r\nQ 78.65625 61.328125 78.65625 59.71875 \r\nL 78.65625 9.765625 \r\nQ 78.65625 8.0625 79.234375 6.890625 \r\nQ 79.828125 5.71875 81.5 4.828125 \r\nQ 82.375 4.34375 84.609375 3.921875 \r\nQ 86.859375 3.515625 88.1875 3.46875 \r\nz\r\n\" id=\"Georgia-77\"/>\r\n       <path d=\"M 50.4375 24.5625 \r\nQ 50.4375 19.484375 48.828125 14.578125 \r\nQ 47.21875 9.671875 44.234375 6.25 \r\nQ 40.875 2.34375 36.421875 0.4375 \r\nQ 31.984375 -1.46875 26.46875 -1.46875 \r\nQ 21.875 -1.46875 17.71875 0.265625 \r\nQ 13.578125 2 10.359375 5.328125 \r\nQ 7.171875 8.59375 5.296875 13.296875 \r\nQ 3.421875 18.015625 3.421875 23.875 \r\nQ 3.421875 35.15625 9.984375 42.328125 \r\nQ 16.546875 49.515625 27.203125 49.515625 \r\nQ 37.3125 49.515625 43.875 42.703125 \r\nQ 50.4375 35.890625 50.4375 24.5625 \r\nz\r\nM 40.328125 24.46875 \r\nQ 40.328125 28.125 39.59375 32.203125 \r\nQ 38.875 36.28125 37.40625 39.109375 \r\nQ 35.84375 42.140625 33.296875 43.96875 \r\nQ 30.765625 45.796875 27.09375 45.796875 \r\nQ 23.34375 45.796875 20.671875 43.9375 \r\nQ 18.015625 42.09375 16.359375 38.875 \r\nQ 14.796875 35.890625 14.15625 32.078125 \r\nQ 13.53125 28.265625 13.53125 24.703125 \r\nQ 13.53125 20.015625 14.28125 16.03125 \r\nQ 15.046875 12.0625 16.703125 8.9375 \r\nQ 18.359375 5.8125 20.875 4.03125 \r\nQ 23.390625 2.25 27.09375 2.25 \r\nQ 33.203125 2.25 36.765625 8.15625 \r\nQ 40.328125 14.0625 40.328125 24.46875 \r\nz\r\n\" id=\"Georgia-111\"/>\r\n       <path d=\"M 40.375 41.9375 \r\nQ 40.375 39.453125 39.15625 37.515625 \r\nQ 37.9375 35.59375 35.40625 35.59375 \r\nQ 32.671875 35.59375 31.21875 37 \r\nQ 29.78125 38.421875 29.78125 40.140625 \r\nQ 29.78125 41.21875 29.953125 42.09375 \r\nQ 30.125 42.96875 30.28125 43.84375 \r\nQ 27.984375 43.84375 24.90625 41.984375 \r\nQ 21.828125 40.140625 19.671875 36.71875 \r\nL 19.671875 8.6875 \r\nQ 19.671875 6.984375 20.328125 5.90625 \r\nQ 21 4.828125 22.40625 4.296875 \r\nQ 23.640625 3.8125 25.5625 3.5625 \r\nQ 27.484375 3.328125 28.90625 3.21875 \r\nL 28.90625 0 \r\nL 3.515625 0 \r\nL 3.515625 3.21875 \r\nQ 4.640625 3.328125 5.828125 3.421875 \r\nQ 7.03125 3.515625 7.90625 3.8125 \r\nQ 9.28125 4.25 9.9375 5.34375 \r\nQ 10.59375 6.453125 10.59375 8.203125 \r\nL 10.59375 37.9375 \r\nQ 10.59375 39.453125 9.890625 40.921875 \r\nQ 9.1875 42.390625 7.90625 43.265625 \r\nQ 6.984375 43.84375 5.703125 44.109375 \r\nQ 4.4375 44.390625 2.984375 44.484375 \r\nL 2.984375 47.65625 \r\nL 19 48.734375 \r\nL 19.671875 48.046875 \r\nL 19.671875 41.265625 \r\nL 19.921875 41.265625 \r\nQ 22.953125 45.21875 26.65625 47.265625 \r\nQ 30.375 49.3125 33.453125 49.3125 \r\nQ 36.53125 49.3125 38.453125 47.3125 \r\nQ 40.375 45.3125 40.375 41.9375 \r\nz\r\n\" id=\"Georgia-114\"/>\r\n       <path d=\"M -0.140625 -15.71875 \r\nQ -0.140625 -13.28125 1.203125 -11.734375 \r\nQ 2.546875 -10.203125 4.546875 -10.203125 \r\nQ 6.109375 -10.203125 7.21875 -10.78125 \r\nQ 8.34375 -11.375 9.234375 -12.3125 \r\nQ 9.96875 -13.03125 10.796875 -14.296875 \r\nQ 11.625 -15.578125 12.109375 -16.40625 \r\nQ 14.546875 -15.09375 17.9375 -9.515625 \r\nQ 21.34375 -3.953125 22.859375 0.25 \r\nQ 18.21875 11.8125 14.453125 20.9375 \r\nQ 10.6875 30.078125 6.59375 39.84375 \r\nQ 5.671875 42.09375 3.46875 43.328125 \r\nQ 1.265625 44.578125 -0.921875 44.921875 \r\nL -0.921875 48.140625 \r\nL 21.046875 48.140625 \r\nL 21.046875 44.734375 \r\nQ 19.578125 44.671875 17.53125 44.109375 \r\nQ 15.484375 43.5625 15.484375 42.828125 \r\nQ 15.484375 42.53125 15.703125 41.84375 \r\nQ 15.921875 41.15625 16.21875 40.4375 \r\nQ 18.0625 35.59375 21.875 26.484375 \r\nQ 25.6875 17.390625 27.78125 11.921875 \r\nQ 29.984375 17.140625 32.34375 22.734375 \r\nQ 34.71875 28.328125 37.640625 35.9375 \r\nQ 37.984375 36.859375 38.625 38.5 \r\nQ 39.265625 40.140625 39.265625 41.3125 \r\nQ 39.265625 42.578125 37.03125 43.671875 \r\nQ 34.8125 44.78125 32.8125 45.015625 \r\nL 32.8125 48.140625 \r\nL 50.6875 48.140625 \r\nL 50.6875 45.125 \r\nQ 49.21875 44.875 46.828125 43.4375 \r\nQ 44.4375 42 43.265625 39.359375 \r\nQ 37.453125 25.875 32.9375 14.796875 \r\nQ 28.421875 3.71875 26.078125 -1.515625 \r\nQ 23 -8.34375 20.578125 -12.171875 \r\nQ 18.171875 -16.015625 15.875 -18.21875 \r\nQ 13.625 -20.265625 11.796875 -20.96875 \r\nQ 9.96875 -21.6875 8.015625 -21.6875 \r\nQ 4.203125 -21.6875 2.03125 -19.875 \r\nQ -0.140625 -18.0625 -0.140625 -15.71875 \r\nz\r\n\" id=\"Georgia-121\"/>\r\n       <path d=\"M 35.296875 -1.609375 \r\nQ 29.109375 -1.609375 23.40625 0.828125 \r\nQ 17.71875 3.265625 13.328125 7.859375 \r\nQ 8.984375 12.453125 6.390625 19.0625 \r\nQ 3.8125 25.6875 3.8125 33.984375 \r\nQ 3.8125 42.28125 6.34375 49.046875 \r\nQ 8.890625 55.8125 13.375 60.6875 \r\nQ 17.828125 65.53125 23.875 68.15625 \r\nQ 29.9375 70.796875 36.8125 70.796875 \r\nQ 41.9375 70.796875 46.09375 69.53125 \r\nQ 50.25 68.265625 54 65.96875 \r\nL 56 69.28125 \r\nL 59.90625 69.28125 \r\nL 60.359375 44.578125 \r\nL 56.34375 44.578125 \r\nQ 55.5625 48.1875 54 52.40625 \r\nQ 52.4375 56.640625 50.34375 59.578125 \r\nQ 48 62.890625 44.765625 64.765625 \r\nQ 41.546875 66.65625 37.40625 66.65625 \r\nQ 32.671875 66.65625 28.59375 64.546875 \r\nQ 24.515625 62.453125 21.53125 58.34375 \r\nQ 18.703125 54.390625 17.09375 48.28125 \r\nQ 15.484375 42.1875 15.484375 34.671875 \r\nQ 15.484375 28.03125 17.15625 22.484375 \r\nQ 18.84375 16.9375 21.96875 12.75 \r\nQ 25.09375 8.59375 29.359375 6.25 \r\nQ 33.640625 3.90625 38.921875 3.90625 \r\nQ 42.875 3.90625 46.1875 5.140625 \r\nQ 49.515625 6.390625 51.953125 8.453125 \r\nQ 54.390625 10.59375 56.25 13.328125 \r\nQ 58.109375 16.0625 59.28125 19.28125 \r\nL 62.9375 17.53125 \r\nQ 58.734375 7.234375 51.796875 2.8125 \r\nQ 44.875 -1.609375 35.296875 -1.609375 \r\nz\r\n\" id=\"Georgia-67\"/>\r\n       <path d=\"M 55.8125 0 \r\nL 32.171875 0 \r\nL 32.171875 3.21875 \r\nQ 33.296875 3.328125 34.65625 3.421875 \r\nQ 36.03125 3.515625 36.921875 3.8125 \r\nQ 38.28125 4.25 38.9375 5.34375 \r\nQ 39.59375 6.453125 39.59375 8.203125 \r\nL 39.59375 32.953125 \r\nQ 39.59375 38.09375 37.171875 40.875 \r\nQ 34.765625 43.65625 31.296875 43.65625 \r\nQ 28.765625 43.65625 26.59375 42.84375 \r\nQ 24.421875 42.046875 22.703125 40.875 \r\nQ 21.046875 39.65625 20.15625 38.421875 \r\nQ 19.28125 37.203125 18.796875 36.375 \r\nL 18.796875 8.6875 \r\nQ 18.796875 7.03125 19.453125 5.953125 \r\nQ 20.125 4.890625 21.484375 4.296875 \r\nQ 22.5625 3.8125 23.703125 3.5625 \r\nQ 24.859375 3.328125 26.21875 3.21875 \r\nL 26.21875 0 \r\nL 2.59375 0 \r\nL 2.59375 3.21875 \r\nQ 3.71875 3.328125 4.9375 3.4375 \r\nQ 6.15625 3.5625 6.984375 3.8125 \r\nQ 8.34375 4.25 9.03125 5.34375 \r\nQ 9.71875 6.453125 9.71875 8.203125 \r\nL 9.71875 64.265625 \r\nQ 9.71875 65.921875 8.953125 67.578125 \r\nQ 8.203125 69.234375 6.984375 70.0625 \r\nQ 6.109375 70.703125 3.875 70.96875 \r\nQ 1.65625 71.234375 0.296875 71.34375 \r\nL 0.296875 74.46875 \r\nL 18.109375 75.59375 \r\nL 18.796875 74.859375 \r\nL 18.796875 41.265625 \r\nL 19 41.265625 \r\nQ 20.609375 42.875 21.921875 44.109375 \r\nQ 23.25 45.359375 25.390625 46.734375 \r\nQ 27.25 47.90625 29.765625 48.6875 \r\nQ 32.28125 49.46875 35.40625 49.46875 \r\nQ 41.84375 49.46875 45.3125 45.390625 \r\nQ 48.78125 41.3125 48.78125 33.640625 \r\nL 48.78125 8.59375 \r\nQ 48.78125 6.890625 49.390625 5.828125 \r\nQ 50 4.78125 51.421875 4.203125 \r\nQ 52.546875 3.765625 53.4375 3.546875 \r\nQ 54.34375 3.328125 55.8125 3.21875 \r\nz\r\n\" id=\"Georgia-104\"/>\r\n       <path d=\"M 49.125 0.875 \r\nQ 46.828125 0.046875 45.09375 -0.46875 \r\nQ 43.359375 -0.984375 41.15625 -0.984375 \r\nQ 37.359375 -0.984375 35.078125 0.796875 \r\nQ 32.8125 2.59375 32.171875 6 \r\nL 31.890625 6 \r\nQ 28.71875 2.484375 25.078125 0.625 \r\nQ 21.4375 -1.21875 16.3125 -1.21875 \r\nQ 10.890625 -1.21875 7.390625 2.09375 \r\nQ 3.90625 5.421875 3.90625 10.796875 \r\nQ 3.90625 13.578125 4.6875 15.765625 \r\nQ 5.46875 17.96875 7.03125 19.734375 \r\nQ 8.25 21.1875 10.25 22.328125 \r\nQ 12.25 23.484375 14.015625 24.171875 \r\nQ 16.21875 25 22.921875 27.25 \r\nQ 29.640625 29.5 31.984375 30.765625 \r\nL 31.984375 35.59375 \r\nQ 31.984375 36.234375 31.71875 38.03125 \r\nQ 31.453125 39.84375 30.5625 41.453125 \r\nQ 29.59375 43.265625 27.8125 44.609375 \r\nQ 26.03125 45.953125 22.75 45.953125 \r\nQ 20.515625 45.953125 18.578125 45.1875 \r\nQ 16.65625 44.4375 15.875 43.609375 \r\nQ 15.875 42.625 16.328125 40.71875 \r\nQ 16.796875 38.8125 16.796875 37.203125 \r\nQ 16.796875 35.5 15.25 34.078125 \r\nQ 13.71875 32.671875 10.984375 32.671875 \r\nQ 8.546875 32.671875 7.390625 34.40625 \r\nQ 6.25 36.140625 6.25 38.28125 \r\nQ 6.25 40.53125 7.828125 42.578125 \r\nQ 9.421875 44.625 11.96875 46.234375 \r\nQ 14.15625 47.609375 17.28125 48.5625 \r\nQ 20.40625 49.515625 23.390625 49.515625 \r\nQ 27.484375 49.515625 30.53125 48.953125 \r\nQ 33.59375 48.390625 36.078125 46.53125 \r\nQ 38.578125 44.734375 39.859375 41.625 \r\nQ 41.15625 38.53125 41.15625 33.640625 \r\nQ 41.15625 26.65625 41.015625 21.265625 \r\nQ 40.875 15.875 40.875 9.46875 \r\nQ 40.875 7.5625 41.53125 6.4375 \r\nQ 42.1875 5.328125 43.5625 4.546875 \r\nQ 44.28125 4.109375 45.875 4.046875 \r\nQ 47.46875 4 49.125 4 \r\nz\r\nM 32.078125 26.65625 \r\nQ 27.9375 25.4375 24.8125 24.265625 \r\nQ 21.6875 23.09375 19 21.34375 \r\nQ 16.546875 19.671875 15.125 17.40625 \r\nQ 13.71875 15.140625 13.71875 12.015625 \r\nQ 13.71875 7.953125 15.84375 6.046875 \r\nQ 17.96875 4.15625 21.234375 4.15625 \r\nQ 24.703125 4.15625 27.34375 5.828125 \r\nQ 29.984375 7.515625 31.78125 9.8125 \r\nz\r\n\" id=\"Georgia-97\"/>\r\n       <path d=\"M 44.78125 4.984375 \r\nQ 46.734375 3.125 47.84375 0.78125 \r\nQ 48.96875 -1.5625 48.96875 -5.03125 \r\nQ 48.96875 -8.5 47.453125 -11.546875 \r\nQ 45.953125 -14.59375 42.875 -16.84375 \r\nQ 39.59375 -19.140625 35.046875 -20.40625 \r\nQ 30.515625 -21.6875 23.828125 -21.6875 \r\nQ 12.890625 -21.6875 7.46875 -18.484375 \r\nQ 2.046875 -15.28125 2.046875 -9.125 \r\nQ 2.046875 -4.15625 5.953125 -1.265625 \r\nQ 9.859375 1.609375 15.921875 1.859375 \r\nL 15.921875 2.546875 \r\nQ 14.453125 2.984375 12.890625 3.640625 \r\nQ 11.328125 4.296875 10.203125 5.171875 \r\nQ 8.9375 6.203125 8.15625 7.59375 \r\nQ 7.375 8.984375 7.375 11.03125 \r\nQ 7.375 13.625 9.203125 15.796875 \r\nQ 11.03125 17.96875 14.75 19.53125 \r\nL 14.75 20.265625 \r\nQ 10.0625 22.46875 7.46875 25.90625 \r\nQ 4.890625 29.34375 4.890625 33.890625 \r\nQ 4.890625 40.71875 9.984375 45.109375 \r\nQ 15.09375 49.515625 23.046875 49.515625 \r\nQ 25.25 49.515625 27.421875 49.078125 \r\nQ 29.59375 48.640625 31.84375 47.953125 \r\nL 48.640625 47.953125 \r\nL 48.640625 43.265625 \r\nL 37.3125 43.265625 \r\nL 37.3125 42.96875 \r\nQ 39.109375 40.875 39.984375 38.328125 \r\nQ 40.875 35.796875 40.875 33.34375 \r\nQ 40.875 27 35.71875 22.609375 \r\nQ 30.5625 18.21875 23.734375 18.21875 \r\nL 17.828125 18.21875 \r\nQ 16.703125 17.828125 15.484375 16.796875 \r\nQ 14.265625 15.765625 14.265625 14.015625 \r\nQ 14.265625 12.203125 15.28125 11.25 \r\nQ 16.3125 10.296875 17.78125 9.96875 \r\nQ 19.1875 9.578125 21.0625 9.46875 \r\nQ 22.953125 9.375 24.953125 9.328125 \r\nQ 27.09375 9.28125 30.828125 9.03125 \r\nQ 34.578125 8.796875 36.140625 8.734375 \r\nQ 38.375 8.640625 40.640625 7.65625 \r\nQ 42.921875 6.6875 44.78125 4.984375 \r\nz\r\nM 31.59375 33.546875 \r\nQ 31.59375 39.265625 29.265625 42.65625 \r\nQ 26.953125 46.046875 22.75 46.046875 \r\nQ 20.453125 46.046875 18.8125 45.09375 \r\nQ 17.1875 44.140625 16.15625 42.390625 \r\nQ 15.1875 40.765625 14.765625 38.5 \r\nQ 14.359375 36.234375 14.359375 33.84375 \r\nQ 14.359375 28.421875 16.71875 25 \r\nQ 19.09375 21.578125 22.859375 21.578125 \r\nQ 27.046875 21.578125 29.3125 24.96875 \r\nQ 31.59375 28.375 31.59375 33.546875 \r\nz\r\nM 40.96875 -6.84375 \r\nQ 40.96875 -4.109375 39.6875 -2.34375 \r\nQ 38.421875 -0.59375 35.84375 0.046875 \r\nQ 34.46875 0.25 30.21875 0.484375 \r\nQ 25.984375 0.734375 20.359375 0.734375 \r\nQ 15.09375 -0.296875 12.859375 -2.703125 \r\nQ 10.640625 -5.125 10.640625 -8.9375 \r\nQ 10.640625 -10.640625 11.375 -12.203125 \r\nQ 12.109375 -13.765625 13.921875 -15.09375 \r\nQ 15.625 -16.359375 18.5 -17.15625 \r\nQ 21.390625 -17.96875 25.53125 -17.96875 \r\nQ 32.71875 -17.96875 36.84375 -15.203125 \r\nQ 40.96875 -12.453125 40.96875 -6.84375 \r\nz\r\n\" id=\"Georgia-103\"/>\r\n       <path d=\"M 53.90625 32.28125 \r\nQ 56.9375 30.21875 58.9375 26.890625 \r\nQ 60.9375 23.578125 60.9375 18.84375 \r\nQ 60.9375 14.015625 58.828125 10.453125 \r\nQ 56.734375 6.890625 53.375 4.59375 \r\nQ 50.09375 2.34375 45.96875 1.171875 \r\nQ 41.84375 0 37.453125 0 \r\nL 4.640625 0 \r\nL 4.640625 3.46875 \r\nQ 5.8125 3.5625 8.046875 3.875 \r\nQ 10.296875 4.203125 11.28125 4.640625 \r\nQ 12.796875 5.328125 13.421875 6.46875 \r\nQ 14.0625 7.625 14.0625 9.421875 \r\nL 14.0625 59.234375 \r\nQ 14.0625 60.890625 13.5 62.15625 \r\nQ 12.9375 63.421875 11.28125 64.203125 \r\nQ 9.8125 64.9375 8 65.328125 \r\nQ 6.203125 65.71875 4.984375 65.828125 \r\nL 4.984375 69.28125 \r\nL 36.96875 69.28125 \r\nQ 40.671875 69.28125 44.0625 68.546875 \r\nQ 47.46875 67.828125 50.53125 65.96875 \r\nQ 53.421875 64.265625 55.265625 61.328125 \r\nQ 57.125 58.40625 57.125 54.203125 \r\nQ 57.125 50.53125 55.8125 47.671875 \r\nQ 54.5 44.828125 52.09375 42.78125 \r\nQ 49.859375 40.828125 46.953125 39.484375 \r\nQ 44.046875 38.140625 40.671875 37.40625 \r\nL 40.671875 36.96875 \r\nQ 43.65625 36.625 47.34375 35.46875 \r\nQ 51.03125 34.328125 53.90625 32.28125 \r\nz\r\nM 42.140625 42.71875 \r\nQ 43.953125 44.828125 44.65625 47.3125 \r\nQ 45.359375 49.8125 45.359375 53.21875 \r\nQ 45.359375 58.9375 42.234375 62.1875 \r\nQ 39.109375 65.4375 32.375 65.4375 \r\nQ 30.8125 65.4375 28.4375 65.359375 \r\nQ 26.078125 65.28125 24.46875 65.234375 \r\nL 24.46875 38.625 \r\nL 30.671875 38.625 \r\nQ 34.671875 38.625 37.515625 39.640625 \r\nQ 40.375 40.671875 42.140625 42.71875 \r\nz\r\nM 48.875 20.609375 \r\nQ 48.875 26.765625 44.75 30.71875 \r\nQ 40.625 34.671875 32.953125 34.671875 \r\nQ 29.828125 34.671875 27.671875 34.59375 \r\nQ 25.53125 34.515625 24.46875 34.46875 \r\nL 24.46875 10.0625 \r\nQ 24.46875 6.984375 26.953125 5.421875 \r\nQ 29.4375 3.859375 33.890625 3.859375 \r\nQ 41.15625 3.859375 45.015625 8.109375 \r\nQ 48.875 12.359375 48.875 20.609375 \r\nz\r\n\" id=\"Georgia-66\"/>\r\n      </defs>\r\n      <use xlink:href=\"#Georgia-77\"/>\r\n      <use x=\"92.724609\" xlink:href=\"#Georgia-101\"/>\r\n      <use x=\"141.064453\" xlink:href=\"#Georgia-109\"/>\r\n      <use x=\"229.150391\" xlink:href=\"#Georgia-111\"/>\r\n      <use x=\"283.056641\" xlink:href=\"#Georgia-114\"/>\r\n      <use x=\"324.023438\" xlink:href=\"#Georgia-121\"/>\r\n      <use x=\"373.242188\" xlink:href=\"#Georgia-32\"/>\r\n      <use x=\"397.363281\" xlink:href=\"#Georgia-67\"/>\r\n      <use x=\"461.572266\" xlink:href=\"#Georgia-104\"/>\r\n      <use x=\"519.775391\" xlink:href=\"#Georgia-97\"/>\r\n      <use x=\"570.166016\" xlink:href=\"#Georgia-110\"/>\r\n      <use x=\"629.248047\" xlink:href=\"#Georgia-103\"/>\r\n      <use x=\"680.175781\" xlink:href=\"#Georgia-101\"/>\r\n      <use x=\"728.515625\" xlink:href=\"#Georgia-32\"/>\r\n      <use x=\"752.636719\" xlink:href=\"#Georgia-40\"/>\r\n      <use x=\"790.136719\" xlink:href=\"#Georgia-77\"/>\r\n      <use x=\"882.861328\" xlink:href=\"#Georgia-105\"/>\r\n      <use x=\"912.158203\" xlink:href=\"#Georgia-66\"/>\r\n      <use x=\"977.539062\" xlink:href=\"#Georgia-41\"/>\r\n     </g>\r\n    </g>\r\n   </g>\r\n   <g id=\"LineCollection_2\">\r\n    <path clip-path=\"url(#pdb8e2698a0)\" style=\"fill:none;stroke:#000000;stroke-width:1.5;\"/>\r\n    <path clip-path=\"url(#pdb8e2698a0)\" style=\"fill:none;stroke:#000000;stroke-width:1.5;\"/>\r\n    <path clip-path=\"url(#pdb8e2698a0)\" style=\"fill:none;stroke:#000000;stroke-width:1.5;\"/>\r\n    <path clip-path=\"url(#pdb8e2698a0)\" style=\"fill:none;stroke:#000000;stroke-width:1.5;\"/>\r\n    <path clip-path=\"url(#pdb8e2698a0)\" style=\"fill:none;stroke:#000000;stroke-width:1.5;\"/>\r\n    <path clip-path=\"url(#pdb8e2698a0)\" style=\"fill:none;stroke:#000000;stroke-width:1.5;\"/>\r\n    <path clip-path=\"url(#pdb8e2698a0)\" style=\"fill:none;stroke:#000000;stroke-width:1.5;\"/>\r\n    <path clip-path=\"url(#pdb8e2698a0)\" style=\"fill:none;stroke:#000000;stroke-width:1.5;\"/>\r\n    <path clip-path=\"url(#pdb8e2698a0)\" style=\"fill:none;stroke:#000000;stroke-width:1.5;\"/>\r\n    <path clip-path=\"url(#pdb8e2698a0)\" style=\"fill:none;stroke:#000000;stroke-width:1.5;\"/>\r\n    <path clip-path=\"url(#pdb8e2698a0)\" style=\"fill:none;stroke:#000000;stroke-width:1.5;\"/>\r\n    <path clip-path=\"url(#pdb8e2698a0)\" style=\"fill:none;stroke:#000000;stroke-width:1.5;\"/>\r\n    <path clip-path=\"url(#pdb8e2698a0)\" style=\"fill:none;stroke:#000000;stroke-width:1.5;\"/>\r\n    <path clip-path=\"url(#pdb8e2698a0)\" style=\"fill:none;stroke:#000000;stroke-width:1.5;\"/>\r\n    <path clip-path=\"url(#pdb8e2698a0)\" style=\"fill:none;stroke:#000000;stroke-width:1.5;\"/>\r\n    <path clip-path=\"url(#pdb8e2698a0)\" style=\"fill:none;stroke:#000000;stroke-width:1.5;\"/>\r\n    <path clip-path=\"url(#pdb8e2698a0)\" style=\"fill:none;stroke:#000000;stroke-width:1.5;\"/>\r\n    <path clip-path=\"url(#pdb8e2698a0)\" style=\"fill:none;stroke:#000000;stroke-width:1.5;\"/>\r\n    <path clip-path=\"url(#pdb8e2698a0)\" style=\"fill:none;stroke:#000000;stroke-width:1.5;\"/>\r\n    <path clip-path=\"url(#pdb8e2698a0)\" style=\"fill:none;stroke:#000000;stroke-width:1.5;\"/>\r\n    <path clip-path=\"url(#pdb8e2698a0)\" style=\"fill:none;stroke:#000000;stroke-width:1.5;\"/>\r\n    <path clip-path=\"url(#pdb8e2698a0)\" style=\"fill:none;stroke:#000000;stroke-width:1.5;\"/>\r\n    <path clip-path=\"url(#pdb8e2698a0)\" style=\"fill:none;stroke:#000000;stroke-width:1.5;\"/>\r\n    <path clip-path=\"url(#pdb8e2698a0)\" style=\"fill:none;stroke:#000000;stroke-width:1.5;\"/>\r\n    <path clip-path=\"url(#pdb8e2698a0)\" style=\"fill:none;stroke:#000000;stroke-width:1.5;\"/>\r\n    <path clip-path=\"url(#pdb8e2698a0)\" style=\"fill:none;stroke:#000000;stroke-width:1.5;\"/>\r\n    <path clip-path=\"url(#pdb8e2698a0)\" style=\"fill:none;stroke:#000000;stroke-width:1.5;\"/>\r\n    <path clip-path=\"url(#pdb8e2698a0)\" style=\"fill:none;stroke:#000000;stroke-width:1.5;\"/>\r\n    <path clip-path=\"url(#pdb8e2698a0)\" style=\"fill:none;stroke:#000000;stroke-width:1.5;\"/>\r\n    <path clip-path=\"url(#pdb8e2698a0)\" style=\"fill:none;stroke:#000000;stroke-width:1.5;\"/>\r\n    <path clip-path=\"url(#pdb8e2698a0)\" style=\"fill:none;stroke:#000000;stroke-width:1.5;\"/>\r\n    <path clip-path=\"url(#pdb8e2698a0)\" style=\"fill:none;stroke:#000000;stroke-width:1.5;\"/>\r\n    <path clip-path=\"url(#pdb8e2698a0)\" style=\"fill:none;stroke:#000000;stroke-width:1.5;\"/>\r\n    <path clip-path=\"url(#pdb8e2698a0)\" style=\"fill:none;stroke:#000000;stroke-width:1.5;\"/>\r\n    <path clip-path=\"url(#pdb8e2698a0)\" style=\"fill:none;stroke:#000000;stroke-width:1.5;\"/>\r\n    <path clip-path=\"url(#pdb8e2698a0)\" style=\"fill:none;stroke:#000000;stroke-width:1.5;\"/>\r\n    <path clip-path=\"url(#pdb8e2698a0)\" style=\"fill:none;stroke:#000000;stroke-width:1.5;\"/>\r\n    <path clip-path=\"url(#pdb8e2698a0)\" style=\"fill:none;stroke:#000000;stroke-width:1.5;\"/>\r\n    <path clip-path=\"url(#pdb8e2698a0)\" style=\"fill:none;stroke:#000000;stroke-width:1.5;\"/>\r\n    <path clip-path=\"url(#pdb8e2698a0)\" style=\"fill:none;stroke:#000000;stroke-width:1.5;\"/>\r\n    <path clip-path=\"url(#pdb8e2698a0)\" style=\"fill:none;stroke:#000000;stroke-width:1.5;\"/>\r\n    <path clip-path=\"url(#pdb8e2698a0)\" style=\"fill:none;stroke:#000000;stroke-width:1.5;\"/>\r\n    <path clip-path=\"url(#pdb8e2698a0)\" style=\"fill:none;stroke:#000000;stroke-width:1.5;\"/>\r\n    <path clip-path=\"url(#pdb8e2698a0)\" style=\"fill:none;stroke:#000000;stroke-width:1.5;\"/>\r\n    <path clip-path=\"url(#pdb8e2698a0)\" style=\"fill:none;stroke:#000000;stroke-width:1.5;\"/>\r\n    <path clip-path=\"url(#pdb8e2698a0)\" style=\"fill:none;stroke:#000000;stroke-width:1.5;\"/>\r\n   </g>\r\n   <g id=\"line2d_66\">\r\n    <path clip-path=\"url(#pdb8e2698a0)\" d=\"M 99.156734 333.36 \r\nL 99.156734 22.731429 \r\n\" style=\"fill:none;stroke:#000000;stroke-dasharray:5.55,2.4;stroke-dashoffset:0;stroke-width:1.5;\"/>\r\n   </g>\r\n   <g id=\"line2d_67\">\r\n    <path clip-path=\"url(#pdb8e2698a0)\" d=\"M 282.508322 333.36 \r\nL 282.508322 22.731429 \r\n\" style=\"fill:none;stroke:#000000;stroke-dasharray:5.55,2.4;stroke-dashoffset:0;stroke-width:1.5;\"/>\r\n   </g>\r\n   <g id=\"line2d_68\">\r\n    <path clip-path=\"url(#pdb8e2698a0)\" d=\"M 887.568563 333.36 \r\nL 887.568563 22.731429 \r\n\" style=\"fill:none;stroke:#000000;stroke-dasharray:5.55,2.4;stroke-dashoffset:0;stroke-width:1.5;\"/>\r\n   </g>\r\n   <g id=\"patch_99\">\r\n    <path d=\"M 46.168125 333.36 \r\nL 46.168125 7.2 \r\n\" style=\"fill:none;stroke:#000000;stroke-linecap:square;stroke-linejoin:miter;stroke-width:0.8;\"/>\r\n   </g>\r\n   <g id=\"patch_100\">\r\n    <path d=\"M 1050.568125 333.36 \r\nL 1050.568125 7.2 \r\n\" style=\"fill:none;stroke:#000000;stroke-linecap:square;stroke-linejoin:miter;stroke-width:0.8;\"/>\r\n   </g>\r\n   <g id=\"patch_101\">\r\n    <path d=\"M 46.168125 333.36 \r\nL 1050.568125 333.36 \r\n\" style=\"fill:none;stroke:#000000;stroke-linecap:square;stroke-linejoin:miter;stroke-width:0.8;\"/>\r\n   </g>\r\n   <g id=\"patch_102\">\r\n    <path d=\"M 46.168125 7.2 \r\nL 1050.568125 7.2 \r\n\" style=\"fill:none;stroke:#000000;stroke-linecap:square;stroke-linejoin:miter;stroke-width:0.8;\"/>\r\n   </g>\r\n   <g id=\"text_26\">\r\n    <g id=\"patch_103\">\r\n     <path d=\"M 110.026421 255.477746 \r\nL 110.026421 100.613683 \r\nL 88.287046 100.613683 \r\nL 88.287046 255.477746 \r\nz\r\n\" style=\"fill:#ffffff;stroke:#000000;stroke-linejoin:miter;\"/>\r\n    </g>\r\n    <!-- make_multiple_Lorenz -->\r\n    <g transform=\"translate(102.930171 251.417746)rotate(-90)scale(0.14 -0.14)\">\r\n     <defs>\r\n      <path d=\"M 54.546875 0 \r\nL 39.984375 0 \r\nQ 36.1875 5.515625 31.828125 11.8125 \r\nQ 27.484375 18.109375 22.796875 24.078125 \r\nL 18.796875 20.3125 \r\nL 18.796875 8.890625 \r\nQ 18.796875 7.125 19.421875 5.96875 \r\nQ 20.0625 4.828125 21.484375 4.296875 \r\nQ 22.65625 3.8125 23.734375 3.5625 \r\nQ 24.8125 3.328125 26.21875 3.21875 \r\nL 26.21875 0 \r\nL 2.59375 0 \r\nL 2.59375 3.21875 \r\nQ 3.71875 3.328125 4.9375 3.4375 \r\nQ 6.15625 3.5625 6.984375 3.8125 \r\nQ 8.34375 4.25 9.03125 5.34375 \r\nQ 9.71875 6.453125 9.71875 8.203125 \r\nL 9.71875 64.15625 \r\nQ 9.71875 65.96875 8.953125 67.546875 \r\nQ 8.203125 69.140625 6.984375 69.96875 \r\nQ 5.953125 70.75 3.78125 70.984375 \r\nQ 1.609375 71.234375 0.296875 71.34375 \r\nL 0.296875 74.46875 \r\nL 18.109375 75.59375 \r\nL 18.796875 74.859375 \r\nL 18.796875 23.921875 \r\nQ 22.609375 27.734375 27.03125 32.09375 \r\nQ 31.453125 36.46875 34.46875 39.890625 \r\nQ 34.859375 40.328125 35.328125 41.03125 \r\nQ 35.796875 41.75 35.796875 42.1875 \r\nQ 35.796875 43.5 33.671875 44.140625 \r\nQ 31.546875 44.78125 29.59375 45.015625 \r\nL 29.59375 48.140625 \r\nL 50.78125 48.140625 \r\nL 50.78125 45.125 \r\nQ 46.6875 43.890625 43.53125 42.0625 \r\nQ 40.375 40.234375 38.71875 38.765625 \r\nQ 37.546875 37.796875 35.390625 35.59375 \r\nQ 33.25 33.40625 29.390625 29.828125 \r\nQ 33.40625 24.90625 38.40625 18.015625 \r\nQ 43.40625 11.140625 45.703125 8.0625 \r\nQ 47.859375 5.171875 49.5625 4.296875 \r\nQ 51.265625 3.421875 54.546875 3.21875 \r\nz\r\n\" id=\"Georgia-107\"/>\r\n      <path d=\"M 64.546875 -13.765625 \r\nL -0.25 -13.765625 \r\nL -0.25 -8.84375 \r\nL 64.546875 -8.84375 \r\nz\r\n\" id=\"Georgia-95\"/>\r\n      <path d=\"M 55.125 0.875 \r\nL 39.453125 -0.203125 \r\nL 38.71875 0.484375 \r\nL 38.71875 6.59375 \r\nL 38.421875 6.59375 \r\nQ 37.25 5.375 35.78125 3.984375 \r\nQ 34.328125 2.59375 32.421875 1.46875 \r\nQ 30.21875 0.140625 28.171875 -0.53125 \r\nQ 26.125 -1.21875 22.359375 -1.21875 \r\nQ 15.96875 -1.21875 12.625 2.953125 \r\nQ 9.28125 7.125 9.28125 15.09375 \r\nL 9.28125 38.140625 \r\nQ 9.28125 39.890625 8.609375 41.078125 \r\nQ 7.953125 42.28125 6.6875 43.171875 \r\nQ 5.8125 43.75 4.484375 44.015625 \r\nQ 3.171875 44.28125 1.703125 44.390625 \r\nL 1.703125 47.5625 \r\nL 17.78125 48.734375 \r\nL 18.5 48.046875 \r\nL 18.5 14.59375 \r\nQ 18.5 9.375 20.84375 6.734375 \r\nQ 23.1875 4.109375 26.46875 4.109375 \r\nQ 29.15625 4.109375 31.25 4.9375 \r\nQ 33.34375 5.765625 34.765625 6.890625 \r\nQ 36.078125 7.90625 37.078125 9.046875 \r\nQ 38.09375 10.203125 38.625 11.1875 \r\nL 38.625 38.484375 \r\nQ 38.625 40.09375 37.9375 41.328125 \r\nQ 37.25 42.578125 36.03125 43.453125 \r\nQ 35.15625 44.046875 33.421875 44.15625 \r\nQ 31.6875 44.28125 29.546875 44.390625 \r\nL 29.546875 47.5625 \r\nL 47.015625 48.734375 \r\nL 47.75 48.046875 \r\nL 47.75 9.8125 \r\nQ 47.75 8.15625 48.4375 6.984375 \r\nQ 49.125 5.8125 50.34375 4.984375 \r\nQ 51.21875 4.4375 52.4375 4.265625 \r\nQ 53.65625 4.109375 55.125 4.046875 \r\nz\r\n\" id=\"Georgia-117\"/>\r\n      <path d=\"M 26.078125 0 \r\nL 2.59375 0 \r\nL 2.59375 3.21875 \r\nQ 3.71875 3.328125 4.984375 3.4375 \r\nQ 6.25 3.5625 7.078125 3.8125 \r\nQ 8.453125 4.25 9.125 5.34375 \r\nQ 9.8125 6.453125 9.8125 8.203125 \r\nL 9.8125 63.96875 \r\nQ 9.8125 65.71875 9.046875 67.25 \r\nQ 8.296875 68.796875 7.078125 69.671875 \r\nQ 6.203125 70.265625 3.859375 70.75 \r\nQ 1.515625 71.234375 0.09375 71.34375 \r\nL 0.09375 74.46875 \r\nL 18.21875 75.59375 \r\nL 18.890625 74.859375 \r\nL 18.890625 8.796875 \r\nQ 18.890625 7.078125 19.53125 5.984375 \r\nQ 20.171875 4.890625 21.578125 4.296875 \r\nQ 22.65625 3.8125 23.703125 3.5625 \r\nQ 24.75 3.328125 26.078125 3.21875 \r\nz\r\n\" id=\"Georgia-108\"/>\r\n      <path d=\"M 33.25 2.09375 \r\nQ 30.078125 0.78125 27.25 -0.125 \r\nQ 24.421875 -1.03125 20.3125 -1.03125 \r\nQ 14.265625 -1.03125 11.796875 2.015625 \r\nQ 9.328125 5.078125 9.328125 10.640625 \r\nL 9.328125 43.265625 \r\nL 0.640625 43.265625 \r\nL 0.640625 47.953125 \r\nL 9.515625 47.953125 \r\nL 9.515625 62.9375 \r\nL 18.40625 62.9375 \r\nL 18.40625 47.953125 \r\nL 32.234375 47.953125 \r\nL 32.234375 43.265625 \r\nL 18.5 43.265625 \r\nL 18.5 16.359375 \r\nQ 18.5 13.328125 18.71875 11.296875 \r\nQ 18.953125 9.28125 19.78125 7.765625 \r\nQ 20.5625 6.34375 22.125 5.609375 \r\nQ 23.6875 4.890625 26.3125 4.890625 \r\nQ 27.546875 4.890625 29.90625 5.109375 \r\nQ 32.28125 5.328125 33.25 5.671875 \r\nz\r\n\" id=\"Georgia-116\"/>\r\n      <path d=\"M 47.515625 42.4375 \r\nQ 50.390625 39.015625 51.96875 34.5 \r\nQ 53.5625 29.984375 53.5625 24.171875 \r\nQ 53.5625 18.453125 51.65625 13.734375 \r\nQ 49.75 9.03125 46.625 5.71875 \r\nQ 43.359375 2.34375 39.359375 0.53125 \r\nQ 35.359375 -1.265625 30.859375 -1.265625 \r\nQ 26.515625 -1.265625 23.734375 -0.28125 \r\nQ 20.953125 0.6875 19.1875 2 \r\nL 18.796875 2 \r\nL 18.796875 -12.453125 \r\nQ 18.796875 -14.203125 19.484375 -15.375 \r\nQ 20.171875 -16.546875 21.578125 -17.09375 \r\nQ 22.75 -17.53125 24.921875 -17.9375 \r\nQ 27.09375 -18.359375 28.515625 -18.40625 \r\nL 28.515625 -21.6875 \r\nL 1.609375 -21.6875 \r\nL 1.609375 -18.40625 \r\nQ 3.125 -18.3125 4.53125 -18.15625 \r\nQ 5.953125 -18.015625 7.078125 -17.671875 \r\nQ 8.546875 -17.1875 9.125 -15.96875 \r\nQ 9.71875 -14.75 9.71875 -13.09375 \r\nL 9.71875 38.140625 \r\nQ 9.71875 39.59375 8.984375 40.953125 \r\nQ 8.25 42.328125 7.078125 43.171875 \r\nQ 6.203125 43.75 4.640625 44.0625 \r\nQ 3.078125 44.390625 1.609375 44.484375 \r\nL 1.609375 47.65625 \r\nL 18.015625 48.734375 \r\nL 18.703125 48.140625 \r\nL 18.703125 42.71875 \r\nL 19.09375 42.625 \r\nQ 21.625 45.5625 25.390625 47.515625 \r\nQ 29.15625 49.46875 32.859375 49.46875 \r\nQ 37.359375 49.46875 41.09375 47.5625 \r\nQ 44.828125 45.65625 47.515625 42.4375 \r\nz\r\nM 39.546875 7.8125 \r\nQ 41.5 10.84375 42.421875 14.84375 \r\nQ 43.359375 18.84375 43.359375 23.78125 \r\nQ 43.359375 27.390625 42.578125 31.140625 \r\nQ 41.796875 34.90625 40.140625 37.703125 \r\nQ 38.484375 40.53125 35.796875 42.28125 \r\nQ 33.109375 44.046875 29.34375 44.046875 \r\nQ 25.734375 44.046875 23.1875 42.453125 \r\nQ 20.65625 40.875 18.796875 38.671875 \r\nL 18.796875 10.203125 \r\nQ 19.234375 8.890625 20.234375 7.46875 \r\nQ 21.234375 6.0625 22.46875 5.03125 \r\nQ 23.96875 3.8125 25.71875 3.046875 \r\nQ 27.484375 2.296875 30.03125 2.296875 \r\nQ 32.765625 2.296875 35.296875 3.734375 \r\nQ 37.84375 5.171875 39.546875 7.8125 \r\nz\r\n\" id=\"Georgia-112\"/>\r\n      <path d=\"M 41.65625 0 \r\nL 2.6875 0 \r\nL 2.6875 2.59375 \r\nL 29.9375 44.1875 \r\nL 23.1875 44.1875 \r\nQ 18.953125 44.1875 16.546875 44.03125 \r\nQ 14.15625 43.890625 12.15625 43.0625 \r\nQ 10.796875 42.53125 9.59375 39.984375 \r\nQ 8.40625 37.453125 7.515625 33.34375 \r\nL 4.546875 33.34375 \r\nL 4.546875 48.140625 \r\nL 41.359375 48.140625 \r\nL 41.359375 46.140625 \r\nL 13.671875 3.953125 \r\nQ 15.4375 3.90625 17.53125 3.875 \r\nQ 19.625 3.859375 22.078125 3.859375 \r\nQ 24.03125 3.859375 26.140625 3.90625 \r\nQ 28.265625 3.953125 31.59375 4.15625 \r\nQ 33.546875 4.25 34.546875 5.46875 \r\nQ 35.546875 6.6875 36.078125 8.25 \r\nQ 36.625 9.671875 37.375 12.15625 \r\nQ 38.140625 14.65625 38.71875 17 \r\nL 41.65625 17 \r\nz\r\n\" id=\"Georgia-122\"/>\r\n     </defs>\r\n     <use xlink:href=\"#Georgia-109\"/>\r\n     <use x=\"88.085938\" xlink:href=\"#Georgia-97\"/>\r\n     <use x=\"138.476562\" xlink:href=\"#Georgia-107\"/>\r\n     <use x=\"192.041016\" xlink:href=\"#Georgia-101\"/>\r\n     <use x=\"240.380859\" xlink:href=\"#Georgia-95\"/>\r\n     <use x=\"304.6875\" xlink:href=\"#Georgia-109\"/>\r\n     <use x=\"392.773438\" xlink:href=\"#Georgia-117\"/>\r\n     <use x=\"450.292969\" xlink:href=\"#Georgia-108\"/>\r\n     <use x=\"478.90625\" xlink:href=\"#Georgia-116\"/>\r\n     <use x=\"513.427734\" xlink:href=\"#Georgia-105\"/>\r\n     <use x=\"542.724609\" xlink:href=\"#Georgia-112\"/>\r\n     <use x=\"599.853516\" xlink:href=\"#Georgia-108\"/>\r\n     <use x=\"628.466797\" xlink:href=\"#Georgia-101\"/>\r\n     <use x=\"676.806641\" xlink:href=\"#Georgia-95\"/>\r\n     <use x=\"741.113281\" xlink:href=\"#Georgia-76\"/>\r\n     <use x=\"801.464844\" xlink:href=\"#Georgia-111\"/>\r\n     <use x=\"855.371094\" xlink:href=\"#Georgia-114\"/>\r\n     <use x=\"896.337891\" xlink:href=\"#Georgia-101\"/>\r\n     <use x=\"944.677734\" xlink:href=\"#Georgia-110\"/>\r\n     <use x=\"1003.759766\" xlink:href=\"#Georgia-122\"/>\r\n    </g>\r\n   </g>\r\n   <g id=\"text_27\">\r\n    <g id=\"patch_104\">\r\n     <path d=\"M 293.37801 226.088683 \r\nL 293.37801 130.002746 \r\nL 271.638635 130.002746 \r\nL 271.638635 226.088683 \r\nz\r\n\" style=\"fill:#ffffff;stroke:#000000;stroke-linejoin:miter;\"/>\r\n    </g>\r\n    <!-- make_plotlies -->\r\n    <g transform=\"translate(286.28176 222.028683)rotate(-90)scale(0.14 -0.14)\">\r\n     <use xlink:href=\"#Georgia-109\"/>\r\n     <use x=\"88.085938\" xlink:href=\"#Georgia-97\"/>\r\n     <use x=\"138.476562\" xlink:href=\"#Georgia-107\"/>\r\n     <use x=\"192.041016\" xlink:href=\"#Georgia-101\"/>\r\n     <use x=\"240.380859\" xlink:href=\"#Georgia-95\"/>\r\n     <use x=\"304.6875\" xlink:href=\"#Georgia-112\"/>\r\n     <use x=\"361.816406\" xlink:href=\"#Georgia-108\"/>\r\n     <use x=\"390.429688\" xlink:href=\"#Georgia-111\"/>\r\n     <use x=\"444.335938\" xlink:href=\"#Georgia-116\"/>\r\n     <use x=\"478.857422\" xlink:href=\"#Georgia-108\"/>\r\n     <use x=\"507.470703\" xlink:href=\"#Georgia-105\"/>\r\n     <use x=\"536.767578\" xlink:href=\"#Georgia-101\"/>\r\n     <use x=\"585.107422\" xlink:href=\"#Georgia-115\"/>\r\n    </g>\r\n   </g>\r\n   <g id=\"text_28\">\r\n    <g id=\"patch_105\">\r\n     <path d=\"M 898.438251 218.546183 \r\nL 898.438251 137.545246 \r\nL 876.698876 137.545246 \r\nL 876.698876 218.546183 \r\nz\r\n\" style=\"fill:#ffffff;stroke:#000000;stroke-linejoin:miter;\"/>\r\n    </g>\r\n    <!-- set_params -->\r\n    <g transform=\"translate(891.342001 214.486183)rotate(-90)scale(0.14 -0.14)\">\r\n     <use xlink:href=\"#Georgia-115\"/>\r\n     <use x=\"43.212891\" xlink:href=\"#Georgia-101\"/>\r\n     <use x=\"91.552734\" xlink:href=\"#Georgia-116\"/>\r\n     <use x=\"126.074219\" xlink:href=\"#Georgia-95\"/>\r\n     <use x=\"190.380859\" xlink:href=\"#Georgia-112\"/>\r\n     <use x=\"247.509766\" xlink:href=\"#Georgia-97\"/>\r\n     <use x=\"297.900391\" xlink:href=\"#Georgia-114\"/>\r\n     <use x=\"338.867188\" xlink:href=\"#Georgia-97\"/>\r\n     <use x=\"389.257812\" xlink:href=\"#Georgia-109\"/>\r\n     <use x=\"477.34375\" xlink:href=\"#Georgia-115\"/>\r\n    </g>\r\n   </g>\r\n  </g>\r\n </g>\r\n <defs>\r\n  <clipPath id=\"pdb8e2698a0\">\r\n   <rect height=\"326.16\" width=\"1004.4\" x=\"46.168125\" y=\"7.2\"/>\r\n  </clipPath>\r\n </defs>\r\n</svg>\r\n",
      "image/png": "[encoded data removed]"
     },
     "metadata": {
      "needs_background": "light"
     }
    }
   ],
   "source": [
    "# Line plot\n",
    "pp.plot_byline(xtick_style='dense')"
   ]
  },
  {
   "cell_type": "code",
   "execution_count": 9,
   "metadata": {},
   "outputs": [
    {
     "output_type": "display_data",
     "data": {
      "application/vnd.plotly.v1+json": {
       "config": {
        "plotlyServerURL": "https://plot.ly"
       },
       "data": [
        {
         "alignmentgroup": "True",
         "customdata": [
          [
           20,
           "@profile"
          ],
          [
           21,
           "def make_multiple_Lorenz(N_trials):"
          ],
          [
           22,
           "sols = []"
          ],
          [
           23,
           "for n in range(N_trials):"
          ],
          [
           24,
           "y0_ = [y_ + np.random.randn() for y_ in y0]"
          ],
          [
           25,
           "sol = odeint(mLorenz, y0_, t, args=beta)"
          ],
          [
           26,
           "sols.append(sol)"
          ],
          [
           27,
           "return sols"
          ]
         ],
         "hovertemplate": "Branch-Function=make_multiple_Lorenz<br>Function=%{x}<br>Mean Time (s)=%{y}<br>Line=%{customdata[0]}<br>Text=%{customdata[1]}<extra></extra>",
         "legendgroup": "make_multiple_Lorenz",
         "marker": {
          "color": "#636efa"
         },
         "name": "make_multiple_Lorenz",
         "offsetgroup": "make_multiple_Lorenz",
         "orientation": "v",
         "showlegend": true,
         "textposition": "auto",
         "type": "bar",
         "x": [
          "make_multiple_Lorenz",
          "make_multiple_Lorenz",
          "make_multiple_Lorenz",
          "make_multiple_Lorenz",
          "make_multiple_Lorenz",
          "make_multiple_Lorenz",
          "make_multiple_Lorenz",
          "make_multiple_Lorenz"
         ],
         "xaxis": "x",
         "y": [
          0,
          0,
          4e-7,
          0.0000028999999999999998,
          0.000038299999999999996,
          0.43486749999999996,
          0.0000057999999999999995,
          2e-7
         ],
         "yaxis": "y"
        },
        {
         "alignmentgroup": "True",
         "customdata": [
          [
           30,
           "@profile"
          ],
          [
           31,
           "def make_plotlies():"
          ],
          [
           32,
           "fig = go.Figure(["
          ],
          [
           33,
           "go.Scatter3d(name=str(n),"
          ],
          [
           34,
           "x=sols[n][:, 0], y=sols[n][:, 1], z=sols[n][:, 2],"
          ],
          [
           35,
           "line={'width': 2},"
          ],
          [
           36,
           "marker={'size': 1e-5})"
          ],
          [
           37,
           "for n in range(len(sols))]"
          ],
          [
           38,
           ")"
          ],
          [
           39,
           "fig.update_layout("
          ],
          [
           40,
           "width=800,"
          ],
          [
           41,
           "height=700,"
          ],
          [
           42,
           "autosize=False,"
          ],
          [
           43,
           "scene=dict("
          ],
          [
           44,
           "camera=dict("
          ],
          [
           45,
           "up=dict("
          ],
          [
           46,
           "x=0,"
          ],
          [
           47,
           "y=0,"
          ],
          [
           48,
           "z=1"
          ],
          [
           49,
           "),"
          ],
          [
           50,
           "eye=dict("
          ],
          [
           51,
           "x=0,"
          ],
          [
           52,
           "y=1.0707,"
          ],
          [
           53,
           "z=1,"
          ],
          [
           54,
           ")"
          ],
          [
           55,
           "),"
          ],
          [
           56,
           "aspectratio=dict(x=1, y=1, z=0.7),"
          ],
          [
           57,
           "aspectmode='manual'"
          ],
          [
           58,
           "),"
          ],
          [
           59,
           ")"
          ],
          [
           60,
           "return fig"
          ]
         ],
         "hovertemplate": "Branch-Function=make_plotlies<br>Function=%{x}<br>Mean Time (s)=%{y}<br>Line=%{customdata[0]}<br>Text=%{customdata[1]}<extra></extra>",
         "legendgroup": "make_plotlies",
         "marker": {
          "color": "#EF553B"
         },
         "name": "make_plotlies",
         "offsetgroup": "make_plotlies",
         "orientation": "v",
         "showlegend": true,
         "textposition": "auto",
         "type": "bar",
         "x": [
          "make_plotlies",
          "make_plotlies",
          "make_plotlies",
          "make_plotlies",
          "make_plotlies",
          "make_plotlies",
          "make_plotlies",
          "make_plotlies",
          "make_plotlies",
          "make_plotlies",
          "make_plotlies",
          "make_plotlies",
          "make_plotlies",
          "make_plotlies",
          "make_plotlies",
          "make_plotlies",
          "make_plotlies",
          "make_plotlies",
          "make_plotlies",
          "make_plotlies",
          "make_plotlies",
          "make_plotlies",
          "make_plotlies",
          "make_plotlies",
          "make_plotlies",
          "make_plotlies",
          "make_plotlies",
          "make_plotlies",
          "make_plotlies",
          "make_plotlies",
          "make_plotlies"
         ],
         "xaxis": "x",
         "y": [
          0,
          0,
          0.052205299999999996,
          0,
          0,
          0,
          0,
          0.0000016999999999999998,
          0,
          0.030523099999999997,
          6e-7,
          5e-7,
          5e-7,
          0.0000012999999999999998,
          0.0000012999999999999998,
          0.0000016,
          5e-7,
          5e-7,
          5e-7,
          0,
          0.0000012999999999999998,
          5e-7,
          5e-7,
          5e-7,
          0,
          0,
          0.000001,
          5e-7,
          0,
          0,
          0.0000012999999999999998
         ],
         "yaxis": "y"
        },
        {
         "alignmentgroup": "True",
         "customdata": [
          [
           63,
           "@profile"
          ],
          [
           64,
           "def set_params():"
          ],
          [
           65,
           "beta = (10, 8/3, 137/5)"
          ],
          [
           66,
           "y0 = [-8, 4, 10]"
          ],
          [
           67,
           "T = 50"
          ],
          [
           68,
           "t = np.linspace(0, T, int(T * 200))"
          ],
          [
           69,
           "return beta, y0, T, t"
          ]
         ],
         "hovertemplate": "Branch-Function=set_params<br>Function=%{x}<br>Mean Time (s)=%{y}<br>Line=%{customdata[0]}<br>Text=%{customdata[1]}<extra></extra>",
         "legendgroup": "set_params",
         "marker": {
          "color": "#00cc96"
         },
         "name": "set_params",
         "offsetgroup": "set_params",
         "orientation": "v",
         "showlegend": true,
         "textposition": "auto",
         "type": "bar",
         "x": [
          "set_params",
          "set_params",
          "set_params",
          "set_params",
          "set_params",
          "set_params",
          "set_params"
         ],
         "xaxis": "x",
         "y": [
          0,
          0,
          0.0000028999999999999998,
          7e-7,
          3e-7,
          0.0001247,
          7e-7
         ],
         "yaxis": "y"
        }
       ],
       "layout": {
        "barmode": "relative",
        "height": 500,
        "legend": {
         "title": {
          "text": "Branch-Function"
         },
         "tracegroupgap": 0
        },
        "margin": {
         "t": 60
        },
        "template": {
         "data": {
          "bar": [
           {
            "error_x": {
             "color": "#2a3f5f"
            },
            "error_y": {
             "color": "#2a3f5f"
            },
            "marker": {
             "line": {
              "color": "#E5ECF6",
              "width": 0.5
             }
            },
            "type": "bar"
           }
          ],
          "barpolar": [
           {
            "marker": {
             "line": {
              "color": "#E5ECF6",
              "width": 0.5
             }
            },
            "type": "barpolar"
           }
          ],
          "carpet": [
           {
            "aaxis": {
             "endlinecolor": "#2a3f5f",
             "gridcolor": "white",
             "linecolor": "white",
             "minorgridcolor": "white",
             "startlinecolor": "#2a3f5f"
            },
            "baxis": {
             "endlinecolor": "#2a3f5f",
             "gridcolor": "white",
             "linecolor": "white",
             "minorgridcolor": "white",
             "startlinecolor": "#2a3f5f"
            },
            "type": "carpet"
           }
          ],
          "choropleth": [
           {
            "colorbar": {
             "outlinewidth": 0,
             "ticks": ""
            },
            "type": "choropleth"
           }
          ],
          "contour": [
           {
            "colorbar": {
             "outlinewidth": 0,
             "ticks": ""
            },
            "colorscale": [
             [
              0,
              "#0d0887"
             ],
             [
              0.1111111111111111,
              "#46039f"
             ],
             [
              0.2222222222222222,
              "#7201a8"
             ],
             [
              0.3333333333333333,
              "#9c179e"
             ],
             [
              0.4444444444444444,
              "#bd3786"
             ],
             [
              0.5555555555555556,
              "#d8576b"
             ],
             [
              0.6666666666666666,
              "#ed7953"
             ],
             [
              0.7777777777777778,
              "#fb9f3a"
             ],
             [
              0.8888888888888888,
              "#fdca26"
             ],
             [
              1,
              "#f0f921"
             ]
            ],
            "type": "contour"
           }
          ],
          "contourcarpet": [
           {
            "colorbar": {
             "outlinewidth": 0,
             "ticks": ""
            },
            "type": "contourcarpet"
           }
          ],
          "heatmap": [
           {
            "colorbar": {
             "outlinewidth": 0,
             "ticks": ""
            },
            "colorscale": [
             [
              0,
              "#0d0887"
             ],
             [
              0.1111111111111111,
              "#46039f"
             ],
             [
              0.2222222222222222,
              "#7201a8"
             ],
             [
              0.3333333333333333,
              "#9c179e"
             ],
             [
              0.4444444444444444,
              "#bd3786"
             ],
             [
              0.5555555555555556,
              "#d8576b"
             ],
             [
              0.6666666666666666,
              "#ed7953"
             ],
             [
              0.7777777777777778,
              "#fb9f3a"
             ],
             [
              0.8888888888888888,
              "#fdca26"
             ],
             [
              1,
              "#f0f921"
             ]
            ],
            "type": "heatmap"
           }
          ],
          "heatmapgl": [
           {
            "colorbar": {
             "outlinewidth": 0,
             "ticks": ""
            },
            "colorscale": [
             [
              0,
              "#0d0887"
             ],
             [
              0.1111111111111111,
              "#46039f"
             ],
             [
              0.2222222222222222,
              "#7201a8"
             ],
             [
              0.3333333333333333,
              "#9c179e"
             ],
             [
              0.4444444444444444,
              "#bd3786"
             ],
             [
              0.5555555555555556,
              "#d8576b"
             ],
             [
              0.6666666666666666,
              "#ed7953"
             ],
             [
              0.7777777777777778,
              "#fb9f3a"
             ],
             [
              0.8888888888888888,
              "#fdca26"
             ],
             [
              1,
              "#f0f921"
             ]
            ],
            "type": "heatmapgl"
           }
          ],
          "histogram": [
           {
            "marker": {
             "colorbar": {
              "outlinewidth": 0,
              "ticks": ""
             }
            },
            "type": "histogram"
           }
          ],
          "histogram2d": [
           {
            "colorbar": {
             "outlinewidth": 0,
             "ticks": ""
            },
            "colorscale": [
             [
              0,
              "#0d0887"
             ],
             [
              0.1111111111111111,
              "#46039f"
             ],
             [
              0.2222222222222222,
              "#7201a8"
             ],
             [
              0.3333333333333333,
              "#9c179e"
             ],
             [
              0.4444444444444444,
              "#bd3786"
             ],
             [
              0.5555555555555556,
              "#d8576b"
             ],
             [
              0.6666666666666666,
              "#ed7953"
             ],
             [
              0.7777777777777778,
              "#fb9f3a"
             ],
             [
              0.8888888888888888,
              "#fdca26"
             ],
             [
              1,
              "#f0f921"
             ]
            ],
            "type": "histogram2d"
           }
          ],
          "histogram2dcontour": [
           {
            "colorbar": {
             "outlinewidth": 0,
             "ticks": ""
            },
            "colorscale": [
             [
              0,
              "#0d0887"
             ],
             [
              0.1111111111111111,
              "#46039f"
             ],
             [
              0.2222222222222222,
              "#7201a8"
             ],
             [
              0.3333333333333333,
              "#9c179e"
             ],
             [
              0.4444444444444444,
              "#bd3786"
             ],
             [
              0.5555555555555556,
              "#d8576b"
             ],
             [
              0.6666666666666666,
              "#ed7953"
             ],
             [
              0.7777777777777778,
              "#fb9f3a"
             ],
             [
              0.8888888888888888,
              "#fdca26"
             ],
             [
              1,
              "#f0f921"
             ]
            ],
            "type": "histogram2dcontour"
           }
          ],
          "mesh3d": [
           {
            "colorbar": {
             "outlinewidth": 0,
             "ticks": ""
            },
            "type": "mesh3d"
           }
          ],
          "parcoords": [
           {
            "line": {
             "colorbar": {
              "outlinewidth": 0,
              "ticks": ""
             }
            },
            "type": "parcoords"
           }
          ],
          "pie": [
           {
            "automargin": true,
            "type": "pie"
           }
          ],
          "scatter": [
           {
            "marker": {
             "colorbar": {
              "outlinewidth": 0,
              "ticks": ""
             }
            },
            "type": "scatter"
           }
          ],
          "scatter3d": [
           {
            "line": {
             "colorbar": {
              "outlinewidth": 0,
              "ticks": ""
             }
            },
            "marker": {
             "colorbar": {
              "outlinewidth": 0,
              "ticks": ""
             }
            },
            "type": "scatter3d"
           }
          ],
          "scattercarpet": [
           {
            "marker": {
             "colorbar": {
              "outlinewidth": 0,
              "ticks": ""
             }
            },
            "type": "scattercarpet"
           }
          ],
          "scattergeo": [
           {
            "marker": {
             "colorbar": {
              "outlinewidth": 0,
              "ticks": ""
             }
            },
            "type": "scattergeo"
           }
          ],
          "scattergl": [
           {
            "marker": {
             "colorbar": {
              "outlinewidth": 0,
              "ticks": ""
             }
            },
            "type": "scattergl"
           }
          ],
          "scattermapbox": [
           {
            "marker": {
             "colorbar": {
              "outlinewidth": 0,
              "ticks": ""
             }
            },
            "type": "scattermapbox"
           }
          ],
          "scatterpolar": [
           {
            "marker": {
             "colorbar": {
              "outlinewidth": 0,
              "ticks": ""
             }
            },
            "type": "scatterpolar"
           }
          ],
          "scatterpolargl": [
           {
            "marker": {
             "colorbar": {
              "outlinewidth": 0,
              "ticks": ""
             }
            },
            "type": "scatterpolargl"
           }
          ],
          "scatterternary": [
           {
            "marker": {
             "colorbar": {
              "outlinewidth": 0,
              "ticks": ""
             }
            },
            "type": "scatterternary"
           }
          ],
          "surface": [
           {
            "colorbar": {
             "outlinewidth": 0,
             "ticks": ""
            },
            "colorscale": [
             [
              0,
              "#0d0887"
             ],
             [
              0.1111111111111111,
              "#46039f"
             ],
             [
              0.2222222222222222,
              "#7201a8"
             ],
             [
              0.3333333333333333,
              "#9c179e"
             ],
             [
              0.4444444444444444,
              "#bd3786"
             ],
             [
              0.5555555555555556,
              "#d8576b"
             ],
             [
              0.6666666666666666,
              "#ed7953"
             ],
             [
              0.7777777777777778,
              "#fb9f3a"
             ],
             [
              0.8888888888888888,
              "#fdca26"
             ],
             [
              1,
              "#f0f921"
             ]
            ],
            "type": "surface"
           }
          ],
          "table": [
           {
            "cells": {
             "fill": {
              "color": "#EBF0F8"
             },
             "line": {
              "color": "white"
             }
            },
            "header": {
             "fill": {
              "color": "#C8D4E3"
             },
             "line": {
              "color": "white"
             }
            },
            "type": "table"
           }
          ]
         },
         "layout": {
          "annotationdefaults": {
           "arrowcolor": "#2a3f5f",
           "arrowhead": 0,
           "arrowwidth": 1
          },
          "autotypenumbers": "strict",
          "coloraxis": {
           "colorbar": {
            "outlinewidth": 0,
            "ticks": ""
           }
          },
          "colorscale": {
           "diverging": [
            [
             0,
             "#8e0152"
            ],
            [
             0.1,
             "#c51b7d"
            ],
            [
             0.2,
             "#de77ae"
            ],
            [
             0.3,
             "#f1b6da"
            ],
            [
             0.4,
             "#fde0ef"
            ],
            [
             0.5,
             "#f7f7f7"
            ],
            [
             0.6,
             "#e6f5d0"
            ],
            [
             0.7,
             "#b8e186"
            ],
            [
             0.8,
             "#7fbc41"
            ],
            [
             0.9,
             "#4d9221"
            ],
            [
             1,
             "#276419"
            ]
           ],
           "sequential": [
            [
             0,
             "#0d0887"
            ],
            [
             0.1111111111111111,
             "#46039f"
            ],
            [
             0.2222222222222222,
             "#7201a8"
            ],
            [
             0.3333333333333333,
             "#9c179e"
            ],
            [
             0.4444444444444444,
             "#bd3786"
            ],
            [
             0.5555555555555556,
             "#d8576b"
            ],
            [
             0.6666666666666666,
             "#ed7953"
            ],
            [
             0.7777777777777778,
             "#fb9f3a"
            ],
            [
             0.8888888888888888,
             "#fdca26"
            ],
            [
             1,
             "#f0f921"
            ]
           ],
           "sequentialminus": [
            [
             0,
             "#0d0887"
            ],
            [
             0.1111111111111111,
             "#46039f"
            ],
            [
             0.2222222222222222,
             "#7201a8"
            ],
            [
             0.3333333333333333,
             "#9c179e"
            ],
            [
             0.4444444444444444,
             "#bd3786"
            ],
            [
             0.5555555555555556,
             "#d8576b"
            ],
            [
             0.6666666666666666,
             "#ed7953"
            ],
            [
             0.7777777777777778,
             "#fb9f3a"
            ],
            [
             0.8888888888888888,
             "#fdca26"
            ],
            [
             1,
             "#f0f921"
            ]
           ]
          },
          "colorway": [
           "#636efa",
           "#EF553B",
           "#00cc96",
           "#ab63fa",
           "#FFA15A",
           "#19d3f3",
           "#FF6692",
           "#B6E880",
           "#FF97FF",
           "#FECB52"
          ],
          "font": {
           "color": "#2a3f5f"
          },
          "geo": {
           "bgcolor": "white",
           "lakecolor": "white",
           "landcolor": "#E5ECF6",
           "showlakes": true,
           "showland": true,
           "subunitcolor": "white"
          },
          "hoverlabel": {
           "align": "left"
          },
          "hovermode": "closest",
          "mapbox": {
           "style": "light"
          },
          "paper_bgcolor": "white",
          "plot_bgcolor": "#E5ECF6",
          "polar": {
           "angularaxis": {
            "gridcolor": "white",
            "linecolor": "white",
            "ticks": ""
           },
           "bgcolor": "#E5ECF6",
           "radialaxis": {
            "gridcolor": "white",
            "linecolor": "white",
            "ticks": ""
           }
          },
          "scene": {
           "xaxis": {
            "backgroundcolor": "#E5ECF6",
            "gridcolor": "white",
            "gridwidth": 2,
            "linecolor": "white",
            "showbackground": true,
            "ticks": "",
            "zerolinecolor": "white"
           },
           "yaxis": {
            "backgroundcolor": "#E5ECF6",
            "gridcolor": "white",
            "gridwidth": 2,
            "linecolor": "white",
            "showbackground": true,
            "ticks": "",
            "zerolinecolor": "white"
           },
           "zaxis": {
            "backgroundcolor": "#E5ECF6",
            "gridcolor": "white",
            "gridwidth": 2,
            "linecolor": "white",
            "showbackground": true,
            "ticks": "",
            "zerolinecolor": "white"
           }
          },
          "shapedefaults": {
           "line": {
            "color": "#2a3f5f"
           }
          },
          "ternary": {
           "aaxis": {
            "gridcolor": "white",
            "linecolor": "white",
            "ticks": ""
           },
           "baxis": {
            "gridcolor": "white",
            "linecolor": "white",
            "ticks": ""
           },
           "bgcolor": "#E5ECF6",
           "caxis": {
            "gridcolor": "white",
            "linecolor": "white",
            "ticks": ""
           }
          },
          "title": {
           "x": 0.05
          },
          "xaxis": {
           "automargin": true,
           "gridcolor": "white",
           "linecolor": "white",
           "ticks": "",
           "title": {
            "standoff": 15
           },
           "zerolinecolor": "white",
           "zerolinewidth": 2
          },
          "yaxis": {
           "automargin": true,
           "gridcolor": "white",
           "linecolor": "white",
           "ticks": "",
           "title": {
            "standoff": 15
           },
           "zerolinecolor": "white",
           "zerolinewidth": 2
          }
         }
        },
        "width": 1000,
        "xaxis": {
         "anchor": "y",
         "domain": [
          0,
          1
         ],
         "title": {
          "text": "Function"
         }
        },
        "yaxis": {
         "anchor": "x",
         "domain": [
          0,
          1
         ],
         "title": {
          "text": "Mean Time (s)"
         }
        }
       }
      }
     },
     "metadata": {}
    }
   ],
   "source": [
    "# Function breakdown\n",
    "pp.plot_byfn(mode='line')"
   ]
  },
  {
   "cell_type": "code",
   "execution_count": 10,
   "metadata": {},
   "outputs": [
    {
     "output_type": "display_data",
     "data": {
      "application/vnd.plotly.v1+json": {
       "config": {
        "plotlyServerURL": "https://plot.ly"
       },
       "data": [
        {
         "alignmentgroup": "True",
         "customdata": [
          [
           25,
           5,
           "sol = odeint(mLorenz, y0_, t, args=beta)"
          ],
          [
           32,
           2,
           "fig = go.Figure(["
          ],
          [
           39,
           2,
           "fig.update_layout("
          ],
          [
           68,
           1,
           "t = np.linspace(0, T, int(T * 200))"
          ],
          [
           24,
           5,
           "y0_ = [y_ + np.random.randn() for y_ in y0]"
          ],
          [
           26,
           5,
           "sols.append(sol)"
          ],
          [
           23,
           6,
           "for n in range(N_trials):"
          ],
          [
           65,
           1,
           "beta = (10, 8/3, 137/5)"
          ],
          [
           37,
           1,
           "for n in range(len(sols))]"
          ],
          [
           45,
           2,
           "up=dict("
          ]
         ],
         "hovertemplate": "Time (s)=%{marker.color:.2f}<br>Rank=%{y}<br>Line=%{customdata[0]}<br>Hits=%{customdata[1]}<br>Text=%{customdata[2]}<extra></extra>",
         "legendgroup": "",
         "marker": {
          "color": [
           0.43486749999999996,
           0.052205299999999996,
           0.030523099999999997,
           0.0001247,
           0.000038299999999999996,
           0.0000057999999999999995,
           0.0000028999999999999998,
           0.0000028999999999999998,
           0.0000016999999999999998,
           0.0000016
          ],
          "coloraxis": "coloraxis"
         },
         "name": "",
         "offsetgroup": "",
         "orientation": "h",
         "showlegend": false,
         "text": [
          25,
          32,
          39,
          68,
          24,
          26,
          23,
          65,
          37,
          45
         ],
         "textposition": "outside",
         "type": "bar",
         "x": [
          0.43486749999999996,
          0.052205299999999996,
          0.030523099999999997,
          0.0001247,
          0.000038299999999999996,
          0.0000057999999999999995,
          0.0000028999999999999998,
          0.0000028999999999999998,
          0.0000016999999999999998,
          0.0000016
         ],
         "xaxis": "x",
         "y": [
          1,
          2,
          3,
          4,
          5,
          6,
          7,
          8,
          9,
          10
         ],
         "yaxis": "y"
        }
       ],
       "layout": {
        "barmode": "relative",
        "coloraxis": {
         "colorbar": {
          "title": {
           "text": "Time (s)"
          }
         },
         "colorscale": [
          [
           0,
           "rgb(252, 222, 156)"
          ],
          [
           0.16666666666666666,
           "rgb(250, 164, 118)"
          ],
          [
           0.3333333333333333,
           "rgb(240, 116, 110)"
          ],
          [
           0.5,
           "rgb(227, 79, 111)"
          ],
          [
           0.6666666666666666,
           "rgb(220, 57, 119)"
          ],
          [
           0.8333333333333334,
           "rgb(185, 37, 122)"
          ],
          [
           1,
           "rgb(124, 29, 111)"
          ]
         ]
        },
        "height": 600,
        "legend": {
         "tracegroupgap": 0
        },
        "margin": {
         "t": 60
        },
        "template": {
         "data": {
          "bar": [
           {
            "error_x": {
             "color": "#2a3f5f"
            },
            "error_y": {
             "color": "#2a3f5f"
            },
            "marker": {
             "line": {
              "color": "#E5ECF6",
              "width": 0.5
             }
            },
            "type": "bar"
           }
          ],
          "barpolar": [
           {
            "marker": {
             "line": {
              "color": "#E5ECF6",
              "width": 0.5
             }
            },
            "type": "barpolar"
           }
          ],
          "carpet": [
           {
            "aaxis": {
             "endlinecolor": "#2a3f5f",
             "gridcolor": "white",
             "linecolor": "white",
             "minorgridcolor": "white",
             "startlinecolor": "#2a3f5f"
            },
            "baxis": {
             "endlinecolor": "#2a3f5f",
             "gridcolor": "white",
             "linecolor": "white",
             "minorgridcolor": "white",
             "startlinecolor": "#2a3f5f"
            },
            "type": "carpet"
           }
          ],
          "choropleth": [
           {
            "colorbar": {
             "outlinewidth": 0,
             "ticks": ""
            },
            "type": "choropleth"
           }
          ],
          "contour": [
           {
            "colorbar": {
             "outlinewidth": 0,
             "ticks": ""
            },
            "colorscale": [
             [
              0,
              "#0d0887"
             ],
             [
              0.1111111111111111,
              "#46039f"
             ],
             [
              0.2222222222222222,
              "#7201a8"
             ],
             [
              0.3333333333333333,
              "#9c179e"
             ],
             [
              0.4444444444444444,
              "#bd3786"
             ],
             [
              0.5555555555555556,
              "#d8576b"
             ],
             [
              0.6666666666666666,
              "#ed7953"
             ],
             [
              0.7777777777777778,
              "#fb9f3a"
             ],
             [
              0.8888888888888888,
              "#fdca26"
             ],
             [
              1,
              "#f0f921"
             ]
            ],
            "type": "contour"
           }
          ],
          "contourcarpet": [
           {
            "colorbar": {
             "outlinewidth": 0,
             "ticks": ""
            },
            "type": "contourcarpet"
           }
          ],
          "heatmap": [
           {
            "colorbar": {
             "outlinewidth": 0,
             "ticks": ""
            },
            "colorscale": [
             [
              0,
              "#0d0887"
             ],
             [
              0.1111111111111111,
              "#46039f"
             ],
             [
              0.2222222222222222,
              "#7201a8"
             ],
             [
              0.3333333333333333,
              "#9c179e"
             ],
             [
              0.4444444444444444,
              "#bd3786"
             ],
             [
              0.5555555555555556,
              "#d8576b"
             ],
             [
              0.6666666666666666,
              "#ed7953"
             ],
             [
              0.7777777777777778,
              "#fb9f3a"
             ],
             [
              0.8888888888888888,
              "#fdca26"
             ],
             [
              1,
              "#f0f921"
             ]
            ],
            "type": "heatmap"
           }
          ],
          "heatmapgl": [
           {
            "colorbar": {
             "outlinewidth": 0,
             "ticks": ""
            },
            "colorscale": [
             [
              0,
              "#0d0887"
             ],
             [
              0.1111111111111111,
              "#46039f"
             ],
             [
              0.2222222222222222,
              "#7201a8"
             ],
             [
              0.3333333333333333,
              "#9c179e"
             ],
             [
              0.4444444444444444,
              "#bd3786"
             ],
             [
              0.5555555555555556,
              "#d8576b"
             ],
             [
              0.6666666666666666,
              "#ed7953"
             ],
             [
              0.7777777777777778,
              "#fb9f3a"
             ],
             [
              0.8888888888888888,
              "#fdca26"
             ],
             [
              1,
              "#f0f921"
             ]
            ],
            "type": "heatmapgl"
           }
          ],
          "histogram": [
           {
            "marker": {
             "colorbar": {
              "outlinewidth": 0,
              "ticks": ""
             }
            },
            "type": "histogram"
           }
          ],
          "histogram2d": [
           {
            "colorbar": {
             "outlinewidth": 0,
             "ticks": ""
            },
            "colorscale": [
             [
              0,
              "#0d0887"
             ],
             [
              0.1111111111111111,
              "#46039f"
             ],
             [
              0.2222222222222222,
              "#7201a8"
             ],
             [
              0.3333333333333333,
              "#9c179e"
             ],
             [
              0.4444444444444444,
              "#bd3786"
             ],
             [
              0.5555555555555556,
              "#d8576b"
             ],
             [
              0.6666666666666666,
              "#ed7953"
             ],
             [
              0.7777777777777778,
              "#fb9f3a"
             ],
             [
              0.8888888888888888,
              "#fdca26"
             ],
             [
              1,
              "#f0f921"
             ]
            ],
            "type": "histogram2d"
           }
          ],
          "histogram2dcontour": [
           {
            "colorbar": {
             "outlinewidth": 0,
             "ticks": ""
            },
            "colorscale": [
             [
              0,
              "#0d0887"
             ],
             [
              0.1111111111111111,
              "#46039f"
             ],
             [
              0.2222222222222222,
              "#7201a8"
             ],
             [
              0.3333333333333333,
              "#9c179e"
             ],
             [
              0.4444444444444444,
              "#bd3786"
             ],
             [
              0.5555555555555556,
              "#d8576b"
             ],
             [
              0.6666666666666666,
              "#ed7953"
             ],
             [
              0.7777777777777778,
              "#fb9f3a"
             ],
             [
              0.8888888888888888,
              "#fdca26"
             ],
             [
              1,
              "#f0f921"
             ]
            ],
            "type": "histogram2dcontour"
           }
          ],
          "mesh3d": [
           {
            "colorbar": {
             "outlinewidth": 0,
             "ticks": ""
            },
            "type": "mesh3d"
           }
          ],
          "parcoords": [
           {
            "line": {
             "colorbar": {
              "outlinewidth": 0,
              "ticks": ""
             }
            },
            "type": "parcoords"
           }
          ],
          "pie": [
           {
            "automargin": true,
            "type": "pie"
           }
          ],
          "scatter": [
           {
            "marker": {
             "colorbar": {
              "outlinewidth": 0,
              "ticks": ""
             }
            },
            "type": "scatter"
           }
          ],
          "scatter3d": [
           {
            "line": {
             "colorbar": {
              "outlinewidth": 0,
              "ticks": ""
             }
            },
            "marker": {
             "colorbar": {
              "outlinewidth": 0,
              "ticks": ""
             }
            },
            "type": "scatter3d"
           }
          ],
          "scattercarpet": [
           {
            "marker": {
             "colorbar": {
              "outlinewidth": 0,
              "ticks": ""
             }
            },
            "type": "scattercarpet"
           }
          ],
          "scattergeo": [
           {
            "marker": {
             "colorbar": {
              "outlinewidth": 0,
              "ticks": ""
             }
            },
            "type": "scattergeo"
           }
          ],
          "scattergl": [
           {
            "marker": {
             "colorbar": {
              "outlinewidth": 0,
              "ticks": ""
             }
            },
            "type": "scattergl"
           }
          ],
          "scattermapbox": [
           {
            "marker": {
             "colorbar": {
              "outlinewidth": 0,
              "ticks": ""
             }
            },
            "type": "scattermapbox"
           }
          ],
          "scatterpolar": [
           {
            "marker": {
             "colorbar": {
              "outlinewidth": 0,
              "ticks": ""
             }
            },
            "type": "scatterpolar"
           }
          ],
          "scatterpolargl": [
           {
            "marker": {
             "colorbar": {
              "outlinewidth": 0,
              "ticks": ""
             }
            },
            "type": "scatterpolargl"
           }
          ],
          "scatterternary": [
           {
            "marker": {
             "colorbar": {
              "outlinewidth": 0,
              "ticks": ""
             }
            },
            "type": "scatterternary"
           }
          ],
          "surface": [
           {
            "colorbar": {
             "outlinewidth": 0,
             "ticks": ""
            },
            "colorscale": [
             [
              0,
              "#0d0887"
             ],
             [
              0.1111111111111111,
              "#46039f"
             ],
             [
              0.2222222222222222,
              "#7201a8"
             ],
             [
              0.3333333333333333,
              "#9c179e"
             ],
             [
              0.4444444444444444,
              "#bd3786"
             ],
             [
              0.5555555555555556,
              "#d8576b"
             ],
             [
              0.6666666666666666,
              "#ed7953"
             ],
             [
              0.7777777777777778,
              "#fb9f3a"
             ],
             [
              0.8888888888888888,
              "#fdca26"
             ],
             [
              1,
              "#f0f921"
             ]
            ],
            "type": "surface"
           }
          ],
          "table": [
           {
            "cells": {
             "fill": {
              "color": "#EBF0F8"
             },
             "line": {
              "color": "white"
             }
            },
            "header": {
             "fill": {
              "color": "#C8D4E3"
             },
             "line": {
              "color": "white"
             }
            },
            "type": "table"
           }
          ]
         },
         "layout": {
          "annotationdefaults": {
           "arrowcolor": "#2a3f5f",
           "arrowhead": 0,
           "arrowwidth": 1
          },
          "autotypenumbers": "strict",
          "coloraxis": {
           "colorbar": {
            "outlinewidth": 0,
            "ticks": ""
           }
          },
          "colorscale": {
           "diverging": [
            [
             0,
             "#8e0152"
            ],
            [
             0.1,
             "#c51b7d"
            ],
            [
             0.2,
             "#de77ae"
            ],
            [
             0.3,
             "#f1b6da"
            ],
            [
             0.4,
             "#fde0ef"
            ],
            [
             0.5,
             "#f7f7f7"
            ],
            [
             0.6,
             "#e6f5d0"
            ],
            [
             0.7,
             "#b8e186"
            ],
            [
             0.8,
             "#7fbc41"
            ],
            [
             0.9,
             "#4d9221"
            ],
            [
             1,
             "#276419"
            ]
           ],
           "sequential": [
            [
             0,
             "#0d0887"
            ],
            [
             0.1111111111111111,
             "#46039f"
            ],
            [
             0.2222222222222222,
             "#7201a8"
            ],
            [
             0.3333333333333333,
             "#9c179e"
            ],
            [
             0.4444444444444444,
             "#bd3786"
            ],
            [
             0.5555555555555556,
             "#d8576b"
            ],
            [
             0.6666666666666666,
             "#ed7953"
            ],
            [
             0.7777777777777778,
             "#fb9f3a"
            ],
            [
             0.8888888888888888,
             "#fdca26"
            ],
            [
             1,
             "#f0f921"
            ]
           ],
           "sequentialminus": [
            [
             0,
             "#0d0887"
            ],
            [
             0.1111111111111111,
             "#46039f"
            ],
            [
             0.2222222222222222,
             "#7201a8"
            ],
            [
             0.3333333333333333,
             "#9c179e"
            ],
            [
             0.4444444444444444,
             "#bd3786"
            ],
            [
             0.5555555555555556,
             "#d8576b"
            ],
            [
             0.6666666666666666,
             "#ed7953"
            ],
            [
             0.7777777777777778,
             "#fb9f3a"
            ],
            [
             0.8888888888888888,
             "#fdca26"
            ],
            [
             1,
             "#f0f921"
            ]
           ]
          },
          "colorway": [
           "#636efa",
           "#EF553B",
           "#00cc96",
           "#ab63fa",
           "#FFA15A",
           "#19d3f3",
           "#FF6692",
           "#B6E880",
           "#FF97FF",
           "#FECB52"
          ],
          "font": {
           "color": "#2a3f5f"
          },
          "geo": {
           "bgcolor": "white",
           "lakecolor": "white",
           "landcolor": "#E5ECF6",
           "showlakes": true,
           "showland": true,
           "subunitcolor": "white"
          },
          "hoverlabel": {
           "align": "left"
          },
          "hovermode": "closest",
          "mapbox": {
           "style": "light"
          },
          "paper_bgcolor": "white",
          "plot_bgcolor": "#E5ECF6",
          "polar": {
           "angularaxis": {
            "gridcolor": "white",
            "linecolor": "white",
            "ticks": ""
           },
           "bgcolor": "#E5ECF6",
           "radialaxis": {
            "gridcolor": "white",
            "linecolor": "white",
            "ticks": ""
           }
          },
          "scene": {
           "xaxis": {
            "backgroundcolor": "#E5ECF6",
            "gridcolor": "white",
            "gridwidth": 2,
            "linecolor": "white",
            "showbackground": true,
            "ticks": "",
            "zerolinecolor": "white"
           },
           "yaxis": {
            "backgroundcolor": "#E5ECF6",
            "gridcolor": "white",
            "gridwidth": 2,
            "linecolor": "white",
            "showbackground": true,
            "ticks": "",
            "zerolinecolor": "white"
           },
           "zaxis": {
            "backgroundcolor": "#E5ECF6",
            "gridcolor": "white",
            "gridwidth": 2,
            "linecolor": "white",
            "showbackground": true,
            "ticks": "",
            "zerolinecolor": "white"
           }
          },
          "shapedefaults": {
           "line": {
            "color": "#2a3f5f"
           }
          },
          "ternary": {
           "aaxis": {
            "gridcolor": "white",
            "linecolor": "white",
            "ticks": ""
           },
           "baxis": {
            "gridcolor": "white",
            "linecolor": "white",
            "ticks": ""
           },
           "bgcolor": "#E5ECF6",
           "caxis": {
            "gridcolor": "white",
            "linecolor": "white",
            "ticks": ""
           }
          },
          "title": {
           "x": 0.05
          },
          "xaxis": {
           "automargin": true,
           "gridcolor": "white",
           "linecolor": "white",
           "ticks": "",
           "title": {
            "standoff": 15
           },
           "zerolinecolor": "white",
           "zerolinewidth": 2
          },
          "yaxis": {
           "automargin": true,
           "gridcolor": "white",
           "linecolor": "white",
           "ticks": "",
           "title": {
            "standoff": 15
           },
           "zerolinecolor": "white",
           "zerolinewidth": 2
          }
         }
        },
        "title": {
         "text": "Slowest Lines"
        },
        "width": 1200,
        "xaxis": {
         "anchor": "y",
         "domain": [
          0,
          1
         ],
         "title": {
          "text": "Time (s)"
         }
        },
        "yaxis": {
         "anchor": "x",
         "autorange": "reversed",
         "domain": [
          0,
          1
         ],
         "dtick": 1,
         "tick0": 1,
         "tickmode": "linear",
         "title": {
          "text": "Rank"
         }
        }
       }
      }
     },
     "metadata": {}
    }
   ],
   "source": [
    "# Rankings plot\n",
    "pp.plot_ranks(mode='line')"
   ]
  }
 ]
}